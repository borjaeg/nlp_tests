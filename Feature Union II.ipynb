{
 "cells": [
  {
   "cell_type": "code",
   "execution_count": 4,
   "metadata": {
    "collapsed": true
   },
   "outputs": [],
   "source": [
    "from sklearn.pipeline import Pipeline, FeatureUnion\n",
    "from sklearn.grid_search import GridSearchCV\n",
    "from sklearn.svm import SVC\n",
    "from sklearn.datasets import load_iris\n",
    "from sklearn.decomposition import PCA\n",
    "from sklearn.feature_selection import SelectKBest"
   ]
  },
  {
   "cell_type": "code",
   "execution_count": 5,
   "metadata": {
    "collapsed": true
   },
   "outputs": [],
   "source": [
    "iris = load_iris()\n",
    "X, y  = iris.data, iris.target"
   ]
  },
  {
   "cell_type": "code",
   "execution_count": 15,
   "metadata": {
    "collapsed": false
   },
   "outputs": [],
   "source": [
    "pca = PCA(n_components=2)\n",
    "selection = SelectKBest(k=1)\n",
    "\n",
    "combined_features = FeatureUnion([(\"pca\", pca), (\"univ_select\", selection)])\n",
    "\n",
    "\n",
    "svm = SVC(kernel=\"linear\")\n",
    "\n",
    "pipeline = Pipeline([(\"features\", combined_features), (\"svm\", svm)])\n",
    "\n",
    "param_grid = dict(features__pca__n_components = [1, 2, 3], \n",
    "                  features__univ_select__k = [1, 2],\n",
    "                  svm__C = [0.1, 1, 10])\n",
    "\n",
    "grid_search = GridSearchCV(pipeline, param_grid = param_grid)\n",
    "grid_search.fit(X,y)\n",
    "best_parameters = grid_search.best_estimator_.get_params()"
   ]
  },
  {
   "cell_type": "code",
   "execution_count": 17,
   "metadata": {
    "collapsed": false
   },
   "outputs": [
    {
     "name": "stdout",
     "output_type": "stream",
     "text": [
      "Pipeline(steps=[('features', FeatureUnion(n_jobs=1,\n",
      "       transformer_list=[('pca', PCA(copy=True, n_components=2, whiten=False)), ('univ_select', SelectKBest(k=2, score_func=<function f_classif at 0x10bdd1268>))],\n",
      "       transformer_weights=None)), ('svm', SVC(C=1, cache_size=200, class_weight=None, coef0=0.0,\n",
      "  decision_function_shape=None, degree=3, gamma='auto', kernel='linear',\n",
      "  max_iter=-1, probability=False, random_state=None, shrinking=True,\n",
      "  tol=0.001, verbose=False))])\n"
     ]
    }
   ],
   "source": [
    "print(grid_search.best_estimator_)"
   ]
  },
  {
   "cell_type": "code",
   "execution_count": 18,
   "metadata": {
    "collapsed": false
   },
   "outputs": [
    {
     "name": "stdout",
     "output_type": "stream",
     "text": [
      "\n",
      "\tfeatures: FeatureUnion(n_jobs=1,\n",
      "       transformer_list=[('pca', PCA(copy=True, n_components=2, whiten=False)), ('univ_select', SelectKBest(k=2, score_func=<function f_classif at 0x10bdd1268>))],\n",
      "       transformer_weights=None)\n",
      "\tfeatures__n_jobs: 1\n",
      "\tfeatures__pca: PCA(copy=True, n_components=2, whiten=False)\n",
      "\tfeatures__pca__copy: True\n",
      "\tfeatures__pca__n_components: 2\n",
      "\tfeatures__pca__whiten: False\n",
      "\tfeatures__transformer_list: [('pca', PCA(copy=True, n_components=2, whiten=False)), ('univ_select', SelectKBest(k=2, score_func=<function f_classif at 0x10bdd1268>))]\n",
      "\tfeatures__transformer_weights: None\n",
      "\tfeatures__univ_select: SelectKBest(k=2, score_func=<function f_classif at 0x10bdd1268>)\n",
      "\tfeatures__univ_select__k: 2\n",
      "\tfeatures__univ_select__score_func: <function f_classif at 0x10bdd1268>\n",
      "\tsteps: [('features', FeatureUnion(n_jobs=1,\n",
      "       transformer_list=[('pca', PCA(copy=True, n_components=2, whiten=False)), ('univ_select', SelectKBest(k=2, score_func=<function f_classif at 0x10bdd1268>))],\n",
      "       transformer_weights=None)), ('svm', SVC(C=1, cache_size=200, class_weight=None, coef0=0.0,\n",
      "  decision_function_shape=None, degree=3, gamma='auto', kernel='linear',\n",
      "  max_iter=-1, probability=False, random_state=None, shrinking=True,\n",
      "  tol=0.001, verbose=False))]\n",
      "\tsvm: SVC(C=1, cache_size=200, class_weight=None, coef0=0.0,\n",
      "  decision_function_shape=None, degree=3, gamma='auto', kernel='linear',\n",
      "  max_iter=-1, probability=False, random_state=None, shrinking=True,\n",
      "  tol=0.001, verbose=False)\n",
      "\tsvm__C: 1\n",
      "\tsvm__cache_size: 200\n",
      "\tsvm__class_weight: None\n",
      "\tsvm__coef0: 0.0\n",
      "\tsvm__decision_function_shape: None\n",
      "\tsvm__degree: 3\n",
      "\tsvm__gamma: 'auto'\n",
      "\tsvm__kernel: 'linear'\n",
      "\tsvm__max_iter: -1\n",
      "\tsvm__probability: False\n",
      "\tsvm__random_state: None\n",
      "\tsvm__shrinking: True\n",
      "\tsvm__tol: 0.001\n",
      "\tsvm__verbose: False\n"
     ]
    }
   ],
   "source": [
    "print()\n",
    "for param_name in sorted(best_parameters.keys()):\n",
    "    print(\"\\t%s: %r\" % (param_name, best_parameters[param_name]))"
   ]
  },
  {
   "cell_type": "code",
   "execution_count": null,
   "metadata": {
    "collapsed": true
   },
   "outputs": [],
   "source": []
  }
 ],
 "metadata": {
  "kernelspec": {
   "display_name": "Python 3",
   "language": "python",
   "name": "python3"
  },
  "language_info": {
   "codemirror_mode": {
    "name": "ipython",
    "version": 3
   },
   "file_extension": ".py",
   "mimetype": "text/x-python",
   "name": "python",
   "nbconvert_exporter": "python",
   "pygments_lexer": "ipython3",
   "version": "3.5.1"
  }
 },
 "nbformat": 4,
 "nbformat_minor": 0
}
