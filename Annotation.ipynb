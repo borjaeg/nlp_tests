{
 "cells": [
  {
   "cell_type": "markdown",
   "metadata": {},
   "source": [
    "# Annotation\n",
    "\n",
    "Annotaion refers to the process of adding metadata information to the text in order to augment a computer's capability to perform Natural Language Processing (NLP). This can be done through **machine learning algorithms**. The process of annotation **is not linear**, so it means that multiple iterations can be required for defining the tasks, and evaluations, in order to achieve the best results for a particular goal.\n",
    "\n",
    "Statistical mehotds have prove to be an effective way to these probelms, but ML techniques oftef work better when the algorithms are provided with pointers to what is relevant about a dataset."
   ]
  },
  {
   "cell_type": "code",
   "execution_count": null,
   "metadata": {
    "collapsed": true
   },
   "outputs": [],
   "source": []
  }
 ],
 "metadata": {
  "kernelspec": {
   "display_name": "Python 2",
   "language": "python",
   "name": "python2"
  },
  "language_info": {
   "codemirror_mode": {
    "name": "ipython",
    "version": 2
   },
   "file_extension": ".py",
   "mimetype": "text/x-python",
   "name": "python",
   "nbconvert_exporter": "python",
   "pygments_lexer": "ipython2",
   "version": "2.7.10"
  }
 },
 "nbformat": 4,
 "nbformat_minor": 0
}
