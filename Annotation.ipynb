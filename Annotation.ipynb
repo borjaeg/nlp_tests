{
 "cells": [
  {
   "cell_type": "markdown",
   "metadata": {},
   "source": [
    "# Annotation\n",
    "\n",
    "Annotaion refers to the process of adding metadata information to the text in order to augment a computer's capability to perform Natural Language Processing (NLP). This can be done through **machine learning algorithms**. The process of annotation **is not linear**, so it means that multiple iterations can be required for defining the tasks, and evaluations, in order to achieve the best results for a particular goal.\n",
    "\n",
    "Statistical mehotds have prove to be an effective way to these probelms, but ML techniques oftef work better when the algorithms are provided with pointers to what is relevant about a dataset.\n",
    "\n",
    "Theoretical and computatioanl linguistics are focused on unraveling the deeper nature of language and capturing the computational properties of linguistic structures. With the textual data available on the Web, the amount of linguistic data has increased significantly, allowing liguistic modeling problems to be viewed as ML tasks. However, the data has to be prepared in such a way that the computer can more easily find patterns and inferences. This is done by adding relevant metadata to a dataset. Any metadatata tag is called annotation. **Annotated corpora can be used to train ML algorithms**."
   ]
  },
  {
   "cell_type": "markdown",
   "metadata": {},
   "source": [
    "## Corpus\n",
    "\n",
    "A corpus is a collection of machine-readable texts that have been produced in a naural communicative setting. They have been sampled to be **representative and balanced** with respect to particular factors. There has never been any doubt that all linguistic analysis must be grounded on specific datasets. What has recently emerged is the realization that all **linguistics will be found to corpus-oriented techniques, one way or another**. Corpora is becoming the standard data exchange format for discussing linguistic observations and theoretical generalizations, and certainly for evaluation systems, both statitiscal and rule-based."
   ]
  },
  {
   "cell_type": "code",
   "execution_count": null,
   "metadata": {
    "collapsed": true
   },
   "outputs": [],
   "source": []
  }
 ],
 "metadata": {
  "kernelspec": {
   "display_name": "Python 2",
   "language": "python",
   "name": "python2"
  },
  "language_info": {
   "codemirror_mode": {
    "name": "ipython",
    "version": 2
   },
   "file_extension": ".py",
   "mimetype": "text/x-python",
   "name": "python",
   "nbconvert_exporter": "python",
   "pygments_lexer": "ipython2",
   "version": "2.7.10"
  }
 },
 "nbformat": 4,
 "nbformat_minor": 0
}
