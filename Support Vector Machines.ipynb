{
 "cells": [
  {
   "cell_type": "markdown",
   "metadata": {},
   "source": [
    "## Support Vector Machines\n",
    "\n",
    "It is considered to be the best stock (not modified) classifier. This means you can take the classifier in its basic form and run it on the data, and the results will have low error rates.\n",
    "\n",
    "**Pros**\n",
    "Low generalization error, computationally inexpensivem easy to repeat results\n",
    "\n",
    "**Cons**\n",
    "Sensitive to tuning parameters and kernel choice; natively only handles binary classifivation.\n",
    "\n",
    "**Works with**\n",
    "Numeric values, nominal values"
   ]
  },
  {
   "cell_type": "code",
   "execution_count": null,
   "metadata": {
    "collapsed": true
   },
   "outputs": [],
   "source": []
  }
 ],
 "metadata": {
  "kernelspec": {
   "display_name": "Python 2",
   "language": "python",
   "name": "python2"
  },
  "language_info": {
   "codemirror_mode": {
    "name": "ipython",
    "version": 2
   },
   "file_extension": ".py",
   "mimetype": "text/x-python",
   "name": "python",
   "nbconvert_exporter": "python",
   "pygments_lexer": "ipython2",
   "version": "2.7.10"
  }
 },
 "nbformat": 4,
 "nbformat_minor": 0
}
