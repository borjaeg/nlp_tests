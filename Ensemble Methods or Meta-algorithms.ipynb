{
 "cells": [
  {
   "cell_type": "markdown",
   "metadata": {},
   "source": [
    "### Boosting\n",
    "It is a technique similar to bagging. In boosting and bagging, you always use the same type of classifier. But in boosting, the different classifiers are trained sequentally. Each new classifier is trained based on the performance of those already trained. Boosting makes new classifiers focus on data that was previously misclassified by previous classifiers.\n",
    "\n",
    "Boosting is different from bagging because the output is calculated from a **weighted sum of all classifiers**. The weights aren't equal as in bagging but are based on how successful the classifier was in the previous iteration. There are many versions of boosting, but the most popular is called **AdaBoost**.\n",
    "\n",
    "AdaBoost is considered by some to be the best-supervised learning algorithm.\n",
    "\n",
    "**Pros**\n",
    "Low generalization error, easy to code, works with most classifiers, no parameters to adjust\n",
    "\n",
    "**Cons**\n",
    "Sensitive to outliers\n",
    "\n",
    "**Works with**\n",
    "Numeric values, nominal values"
   ]
  },
  {
   "cell_type": "markdown",
   "metadata": {},
   "source": [
    "### Bagging\n",
    "Bootstrap aggregating, which is known as bagging, is a technique where the data is trak from the original dataset S times to make S new datasets. The datasets are the same size as the original. Each dataset is built by randomly selecting an example from the original with replacement. It means, yo can select the same example more than once.\n",
    "\n",
    "After the S datasets are built, a learning algorithm is applied to each one individually. When you'd like to classify a new piece of data, you'd apply our S classifiers to the new piece of data and take a majority vote. There are more advanced methods of bagging such as **random forests**. "
   ]
  },
  {
   "cell_type": "code",
   "execution_count": null,
   "metadata": {
    "collapsed": true
   },
   "outputs": [],
   "source": []
  }
 ],
 "metadata": {
  "kernelspec": {
   "display_name": "Python 2",
   "language": "python",
   "name": "python2"
  },
  "language_info": {
   "codemirror_mode": {
    "name": "ipython",
    "version": 2
   },
   "file_extension": ".py",
   "mimetype": "text/x-python",
   "name": "python",
   "nbconvert_exporter": "python",
   "pygments_lexer": "ipython2",
   "version": "2.7.10"
  }
 },
 "nbformat": 4,
 "nbformat_minor": 0
}
