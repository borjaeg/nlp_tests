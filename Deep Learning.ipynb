{
 "cells": [
  {
   "cell_type": "markdown",
   "metadata": {},
   "source": [
    "# Deep Learning"
   ]
  },
  {
   "cell_type": "markdown",
   "metadata": {},
   "source": [
    "## Restricted Boltzmann machines\n",
    "\n",
    "Source: http://scikit-learn.org/stable/modules/neural_networks.html\n",
    "\n",
    "Restricted Boltzmann machines (RBM) ara unsupervised nonlinear feature learners based on a probabilistic model. The features extracted by an RBM or a hierarchy RBMs often give good results when fed into a linear classifier such as linear SVM or a perceptron. RBM can perform effective non-linear feature extraction.\n",
    "\n",
    "The method gained popularity for initializing deep neural networks with the weights of independent RBMs. This method is known as unsupervised pre-training."
   ]
  },
  {
   "cell_type": "code",
   "execution_count": 1,
   "metadata": {
    "collapsed": true
   },
   "outputs": [],
   "source": [
    "%matplotlib inline\n",
    "import numpy as np\n",
    "import matplotlib.pyplot as plt\n",
    "\n",
    "from scipy.ndimage import convolve\n",
    "from sklearn import linear_model, datasets, metrics\n",
    "from sklearn.cross_validation import train_test_split\n",
    "from sklearn.neural_network import BernoulliRBM\n",
    "from sklearn.pipeline import Pipeline"
   ]
  },
  {
   "cell_type": "code",
   "execution_count": 6,
   "metadata": {
    "collapsed": true
   },
   "outputs": [],
   "source": [
    "def nudge_dataset(X,Y):\n",
    "    \"\"\"\n",
    "    This produces a dataset 5 times bigger than the original one,\n",
    "    by moving the 8X8 images in X around by 1px to left, right, down, up\n",
    "    \"\"\"\n",
    "    direction_vectors = [\n",
    "        [[0, 1, 0],\n",
    "         [0, 0, 0],\n",
    "         [0, 0, 0]],\n",
    "\n",
    "        [[0, 0, 0],\n",
    "         [1, 0, 0],\n",
    "         [0, 0, 0]],\n",
    "\n",
    "        [[0, 0, 0],\n",
    "         [0, 0, 1],\n",
    "         [0, 0, 0]],\n",
    "\n",
    "        [[0, 0, 0],\n",
    "         [0, 0, 0],\n",
    "         [0, 1, 0]]]\n",
    "    \n",
    "    shift = lambda x,w: convolve(x.reshape((8,8)), mode = 'constant',\n",
    "                                    weights=w).ravel()\n",
    "    X = np.concatenate([X] + \n",
    "                      [np.apply_along_axis(shift, 1, X,vector)\n",
    "                      for vector in direction_vectors])\n",
    "    Y = np.concatenate([Y for _ in range(5)], axis = 0)\n",
    "    return X, Y"
   ]
  },
  {
   "cell_type": "code",
   "execution_count": 8,
   "metadata": {
    "collapsed": false
   },
   "outputs": [],
   "source": [
    "# Load data\n",
    "digits = datasets.load_digits()\n",
    "X = np.array(digits.data, 'float32')\n",
    "X, Y = nudge_dataset(X, digits.target)\n",
    "X = (X - np.min(X, 0)) / (np.max(X,0) + 0.0001) # 0-1 scaling\n",
    "\n",
    "X_train, X_test, Y_train, Y_test = train_test_split(X,Y, test_size = 0.2, random_state=0)"
   ]
  },
  {
   "cell_type": "code",
   "execution_count": 9,
   "metadata": {
    "collapsed": true
   },
   "outputs": [],
   "source": [
    "# Models used\n",
    "logistic = linear_model.LogisticRegression()\n",
    "rbm = BernoulliRBM(random_state = 0, verbose=True)\n",
    "\n",
    "classifier = Pipeline(steps=[('rbm', rbm), ('logistic', logistic)])"
   ]
  },
  {
   "cell_type": "code",
   "execution_count": 10,
   "metadata": {
    "collapsed": false
   },
   "outputs": [
    {
     "name": "stdout",
     "output_type": "stream",
     "text": [
      "[BernoulliRBM] Iteration 1, pseudo-likelihood = -23.14, time = 0.50s\n",
      "[BernoulliRBM] Iteration 2, pseudo-likelihood = -22.26, time = 0.47s\n",
      "[BernoulliRBM] Iteration 3, pseudo-likelihood = -21.77, time = 0.61s\n",
      "[BernoulliRBM] Iteration 4, pseudo-likelihood = -20.91, time = 0.48s\n",
      "[BernoulliRBM] Iteration 5, pseudo-likelihood = -21.05, time = 0.57s\n",
      "[BernoulliRBM] Iteration 6, pseudo-likelihood = -20.53, time = 0.47s\n",
      "[BernoulliRBM] Iteration 7, pseudo-likelihood = -20.32, time = 0.51s\n",
      "[BernoulliRBM] Iteration 8, pseudo-likelihood = -19.71, time = 0.47s\n",
      "[BernoulliRBM] Iteration 9, pseudo-likelihood = -20.44, time = 0.61s\n",
      "[BernoulliRBM] Iteration 10, pseudo-likelihood = -20.08, time = 0.49s\n",
      "[BernoulliRBM] Iteration 11, pseudo-likelihood = -19.27, time = 0.57s\n",
      "[BernoulliRBM] Iteration 12, pseudo-likelihood = -19.70, time = 0.48s\n",
      "[BernoulliRBM] Iteration 13, pseudo-likelihood = -19.66, time = 0.51s\n",
      "[BernoulliRBM] Iteration 14, pseudo-likelihood = -19.62, time = 0.48s\n",
      "[BernoulliRBM] Iteration 15, pseudo-likelihood = -19.10, time = 0.78s\n",
      "[BernoulliRBM] Iteration 16, pseudo-likelihood = -19.57, time = 0.53s\n",
      "[BernoulliRBM] Iteration 17, pseudo-likelihood = -18.72, time = 0.62s\n",
      "[BernoulliRBM] Iteration 18, pseudo-likelihood = -19.40, time = 0.72s\n",
      "[BernoulliRBM] Iteration 19, pseudo-likelihood = -18.59, time = 0.70s\n",
      "[BernoulliRBM] Iteration 20, pseudo-likelihood = -19.27, time = 0.59s\n"
     ]
    },
    {
     "data": {
      "text/plain": [
       "LogisticRegression(C=100.0, class_weight=None, dual=False, fit_intercept=True,\n",
       "          intercept_scaling=1, max_iter=100, multi_class='ovr',\n",
       "          penalty='l2', random_state=None, solver='liblinear', tol=0.0001,\n",
       "          verbose=0)"
      ]
     },
     "execution_count": 10,
     "metadata": {},
     "output_type": "execute_result"
    }
   ],
   "source": [
    "# Training\n",
    "# Hyper-parameters. These were set by cross-validation, using GridSearchCV\n",
    "rbm.learning_rate = 0.6\n",
    "rbm.n_iter = 20\n",
    "rbm.n_components = 100\n",
    "logistic.C = 6000.0\n",
    "\n",
    "# Trainng RBM-Logistic Pipeline\n",
    "classifier.fit(X_train, Y_train)\n",
    "\n",
    "# Training logistic regression\n",
    "logistic_classifier = linear_model.LogisticRegression(C=100.0)\n",
    "logistic_classifier.fit(X_train, Y_train) "
   ]
  },
  {
   "cell_type": "code",
   "execution_count": 12,
   "metadata": {
    "collapsed": false
   },
   "outputs": [
    {
     "name": "stdout",
     "output_type": "stream",
     "text": [
      "Logistic regression using RBM features: \n",
      "             precision    recall  f1-score   support\n",
      "\n",
      "          0       0.99      0.97      0.98       174\n",
      "          1       0.87      0.92      0.90       184\n",
      "          2       0.95      0.94      0.95       166\n",
      "          3       0.92      0.85      0.88       194\n",
      "          4       0.97      0.96      0.96       186\n",
      "          5       0.87      0.83      0.85       181\n",
      "          6       0.99      0.95      0.97       207\n",
      "          7       0.93      0.99      0.96       154\n",
      "          8       0.72      0.83      0.77       182\n",
      "          9       0.86      0.81      0.83       169\n",
      "\n",
      "avg / total       0.91      0.90      0.91      1797\n",
      "\n",
      "\n",
      "Logistic regression using raw pixel features: \n",
      "             precision    recall  f1-score   support\n",
      "\n",
      "          0       0.85      0.94      0.89       174\n",
      "          1       0.57      0.55      0.56       184\n",
      "          2       0.72      0.85      0.78       166\n",
      "          3       0.76      0.74      0.75       194\n",
      "          4       0.85      0.82      0.84       186\n",
      "          5       0.74      0.75      0.75       181\n",
      "          6       0.93      0.88      0.91       207\n",
      "          7       0.86      0.90      0.88       154\n",
      "          8       0.68      0.55      0.61       182\n",
      "          9       0.71      0.74      0.72       169\n",
      "\n",
      "avg / total       0.77      0.77      0.77      1797\n",
      "\n",
      "\n"
     ]
    }
   ],
   "source": [
    "print(\"Logistic regression using RBM features: \\n%s\\n\" % \n",
    "     (metrics.classification_report(Y_test,\n",
    "                                   classifier.predict(X_test))))\n",
    "\n",
    "print(\"Logistic regression using raw pixel features: \\n%s\\n\" % \n",
    "     (metrics.classification_report(Y_test,\n",
    "                                   logistic_classifier.predict(X_test))))"
   ]
  },
  {
   "cell_type": "code",
   "execution_count": 14,
   "metadata": {
    "collapsed": false
   },
   "outputs": [
    {
     "data": {
      "image/png": "[encoded data removed]",
      "text/plain": [
       "<matplotlib.figure.Figure at 0x110aedfd0>"
      ]
     },
     "metadata": {},
     "output_type": "display_data"
    }
   ],
   "source": [
    "plt.figure(figsize=(4.2,4))\n",
    "for i, comp in enumerate(rbm.components_):\n",
    "    plt.subplot(10, 10, i+1)\n",
    "    plt.imshow(comp.reshape((8,8)), cmap = plt.cm.gray_r,\n",
    "              interpolation='nearest')\n",
    "    plt.xticks(())\n",
    "    plt.yticks(())\n",
    "plt.suptitle('100 components extracted by RBM', fontsize=16)\n",
    "plt.subplots_adjust(0.08, 0.02, 0.92, 0.85, 0.08, 0.23)"
   ]
  },
  {
   "cell_type": "code",
   "execution_count": null,
   "metadata": {
    "collapsed": true
   },
   "outputs": [],
   "source": []
  }
 ],
 "metadata": {
  "kernelspec": {
   "display_name": "Python 2",
   "language": "python",
   "name": "python2"
  },
  "language_info": {
   "codemirror_mode": {
    "name": "ipython",
    "version": 2
   },
   "file_extension": ".py",
   "mimetype": "text/x-python",
   "name": "python",
   "nbconvert_exporter": "python",
   "pygments_lexer": "ipython2",
   "version": "2.7.10"
  }
 },
 "nbformat": 4,
 "nbformat_minor": 0
}
