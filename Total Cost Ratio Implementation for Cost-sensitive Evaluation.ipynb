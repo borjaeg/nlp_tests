{
 "cells": [
  {
   "cell_type": "markdown",
   "metadata": {},
   "source": [
    "## Total Cost Ratio Implementation for Cost-sensitive Evaluation\n",
    "Source: http://cgi.di.uoa.gr/~takis/pkdd00.pdf"
   ]
  },
  {
   "cell_type": "code",
   "execution_count": 194,
   "metadata": {
    "collapsed": false
   },
   "outputs": [],
   "source": [
    "import numpy as np\n",
    "from sklearn.metrics import make_scorer\n",
    "\n",
    "def total_cost_ratio(ground_truth = None, predictions = None, price = 1):\n",
    "    n_expensive = len(np.nonzero(ground_truth))\n",
    "    n_fp = len(np.where(predictions[np.nonzero(ground_truth)] == 0)[0])\n",
    "    n_fn = len(np.where(ground_truth[np.where(predictions == 0)[0]] == 1)) \n",
    "\n",
    "    return n_expensive/(price * n_fp + n_fn)"
   ]
  },
  {
   "cell_type": "markdown",
   "metadata": {},
   "source": [
    "## Test"
   ]
  },
  {
   "cell_type": "code",
   "execution_count": 195,
   "metadata": {
    "collapsed": true
   },
   "outputs": [],
   "source": [
    "loss = make_scorer(total_cost_ratio, price = 100, greater_is_better=False)"
   ]
  },
  {
   "cell_type": "code",
   "execution_count": 196,
   "metadata": {
    "collapsed": false
   },
   "outputs": [
    {
     "name": "stdout",
     "output_type": "stream",
     "text": [
      "0.000999000999000999\n"
     ]
    },
    {
     "data": {
      "text/plain": [
       "-0.000999000999000999"
      ]
     },
     "execution_count": 196,
     "metadata": {},
     "output_type": "execute_result"
    }
   ],
   "source": [
    "from sklearn.datasets import make_classification\n",
    "from sklearn.dummy import DummyClassifier\n",
    "from sklearn.naive_bayes import GaussianNB\n",
    "\n",
    "X, y = make_classification(n_samples = 1000, n_features = 10, n_classes = 2, n_clusters_per_class= 1)\n",
    "clf = GaussianNB()\n",
    "clf.fit(X[200:], y[200:])\n",
    "print(total_cost_ratio(y[:200], clf.predict(X[:200]), 100))\n",
    "loss(clf, X[:200], y[:200])"
   ]
  },
  {
   "cell_type": "code",
   "execution_count": null,
   "metadata": {
    "collapsed": true
   },
   "outputs": [],
   "source": []
  }
 ],
 "metadata": {
  "kernelspec": {
   "display_name": "Python 3",
   "language": "python",
   "name": "python3"
  },
  "language_info": {
   "codemirror_mode": {
    "name": "ipython",
    "version": 3
   },
   "file_extension": ".py",
   "mimetype": "text/x-python",
   "name": "python",
   "nbconvert_exporter": "python",
   "pygments_lexer": "ipython3",
   "version": "3.5.1"
  }
 },
 "nbformat": 4,
 "nbformat_minor": 0
}
