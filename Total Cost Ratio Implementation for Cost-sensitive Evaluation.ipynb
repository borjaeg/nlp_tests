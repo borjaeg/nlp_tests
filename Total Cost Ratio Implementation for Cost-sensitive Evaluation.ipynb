{
 "cells": [
  {
   "cell_type": "markdown",
   "metadata": {},
   "source": [
    "## Total Cost Ratio Implementation for Cost-sensitive Evaluation\n",
    "Source: http://cgi.di.uoa.gr/~takis/pkdd00.pdf"
   ]
  },
  {
   "cell_type": "code",
   "execution_count": 142,
   "metadata": {
    "collapsed": false
   },
   "outputs": [],
   "source": [
    "import numpy as np\n",
    "from sklearn.metrics import make_scorer, confusion_matrix\n",
    "\n",
    "def total_cost_ratio(ground_truth = None, predictions = None, price = 1):\n",
    "    n_expensive = np.array(np.nonzero(ground_truth)).size\n",
    "    cm = confusion_matrix(ground_truth, predictions)\n",
    "    n_fp = cm[0][1]\n",
    "    n_fn = cm[1][0]\n",
    "    \n",
    "    return n_expensive/(price * n_fp + n_fn)"
   ]
  },
  {
   "cell_type": "markdown",
   "metadata": {},
   "source": [
    "## Test"
   ]
  },
  {
   "cell_type": "code",
   "execution_count": 143,
   "metadata": {
    "collapsed": true
   },
   "outputs": [],
   "source": [
    "tcr = make_scorer(total_cost_ratio, price = 1, greater_is_better=True)"
   ]
  },
  {
   "cell_type": "code",
   "execution_count": 144,
   "metadata": {
    "collapsed": false
   },
   "outputs": [
    {
     "data": {
      "text/plain": [
       "5.4705882352941178"
      ]
     },
     "execution_count": 144,
     "metadata": {},
     "output_type": "execute_result"
    }
   ],
   "source": [
    "from sklearn.datasets import make_classification\n",
    "from sklearn.dummy import DummyClassifier\n",
    "from sklearn.naive_bayes import GaussianNB\n",
    "\n",
    "X, y = make_classification(n_samples = 1000, n_features = 10, n_classes = 2, n_clusters_per_class= 1)\n",
    "clf = GaussianNB()\n",
    "clf.fit(X[200:], y[200:])\n",
    "tcr(clf, X[:200], y[:200])"
   ]
  },
  {
   "cell_type": "code",
   "execution_count": null,
   "metadata": {
    "collapsed": true
   },
   "outputs": [],
   "source": []
  }
 ],
 "metadata": {
  "kernelspec": {
   "display_name": "Python 3",
   "language": "python",
   "name": "python3"
  },
  "language_info": {
   "codemirror_mode": {
    "name": "ipython",
    "version": 3
   },
   "file_extension": ".py",
   "mimetype": "text/x-python",
   "name": "python",
   "nbconvert_exporter": "python",
   "pygments_lexer": "ipython3",
   "version": "3.5.1"
  }
 },
 "nbformat": 4,
 "nbformat_minor": 0
}
