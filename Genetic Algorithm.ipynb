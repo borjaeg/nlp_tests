{
 "cells": [
  {
   "cell_type": "markdown",
   "metadata": {},
   "source": [
    "Source: http://lethain.com/genetic-algorithms-cool-name-damn-simple/"
   ]
  },
  {
   "cell_type": "code",
   "execution_count": 20,
   "metadata": {
    "collapsed": true
   },
   "outputs": [],
   "source": [
    "from random import randint\n",
    "from random import random\n",
    "from operator import add\n",
    "from functools import reduce\n",
    "\n",
    "def individual(length, min, max):\n",
    "    'Creating a member of the population'\n",
    "    return [randint(min, max) for x in range(length)]\n",
    "\n",
    "def population(count, length, min, max):\n",
    "    return [individual(length, min, max) for iter in range(count)]\n",
    "\n",
    "def fitness(individual, target):\n",
    "    sum = reduce(add, individual, 0)\n",
    "    return abs(target - sum)\n",
    "\n",
    "def grade(population, target):\n",
    "    'Average of the population'\n",
    "    summed = reduce(add, (fitness(x, target) for x in population), 0)\n",
    "    return summed / (len(population) * 1.0)"
   ]
  },
  {
   "cell_type": "code",
   "execution_count": 29,
   "metadata": {
    "collapsed": false
   },
   "outputs": [],
   "source": [
    "def evolve(population, target, retain=0.2, random_select=0.05, mutate=0.01):\n",
    "    graded = [(fitness(x, target), x ) for x in population]\n",
    "    graded = [x[1] for x in sorted(graded)]\n",
    "    retain_length = int(len(graded) * retain)\n",
    "    parents = graded[: retain_length]\n",
    "    \n",
    "    # randomly add other individuals to promote genetic diversity\n",
    "    for individual in graded[retain_length:]:\n",
    "        if random_select > random():\n",
    "            parents.append(individual)\n",
    "            \n",
    "    # mutation\n",
    "    for individual in parents:\n",
    "        if mutate > random():\n",
    "            pos_to_mutate = randint(0, len(individual)-1)\n",
    "            individual[pos_to_mutate] = randint(\\\n",
    "                min(individual), max(individual))\n",
    "    # crossover parents\n",
    "    parents_length = len(parents)\n",
    "    desired_length = len(population) - parents_length\n",
    "    children = []\n",
    "    while len(children) < desired_length:\n",
    "        male = randint(0, parents_length - 1)\n",
    "        female = randint(0, parents_length -1)\n",
    "        if male != female:\n",
    "            male = parents[male]\n",
    "            female = parents[female]\n",
    "            half = int(len(male) / 2)\n",
    "            child = male[:half] + female[half:]\n",
    "            children.append(child)\n",
    "\n",
    "    parents.extend(children)\n",
    "    return parents"
   ]
  },
  {
   "cell_type": "code",
   "execution_count": 30,
   "metadata": {
    "collapsed": false
   },
   "outputs": [],
   "source": [
    "target = 371\n",
    "p = 100\n",
    "individual_length = 5\n",
    "individual_min = 0\n",
    "individual_max = 100\n",
    "\n",
    "pop = population(p, individual_length, individual_min, individual_max)\n",
    "\n",
    "fitness_history = [grade(pop, target),]\n",
    "# iterations\n",
    "for i in range(0, 100):\n",
    "    pop = evolve(pop, target)\n",
    "    fitness_history.append(grade(pop, target))"
   ]
  },
  {
   "cell_type": "code",
   "execution_count": 31,
   "metadata": {
    "collapsed": false
   },
   "outputs": [
    {
     "name": "stdout",
     "output_type": "stream",
     "text": [
      "121.58\n",
      "71.55\n",
      "35.33\n",
      "21.66\n",
      "27.37\n",
      "23.8\n",
      "13.61\n",
      "5.42\n",
      "4.17\n",
      "3.75\n",
      "2.56\n",
      "2.97\n",
      "4.64\n",
      "3.36\n",
      "3.4\n",
      "2.67\n",
      "3.4\n",
      "2.26\n",
      "3.01\n",
      "3.57\n",
      "3.34\n",
      "2.84\n",
      "3.25\n",
      "3.25\n",
      "3.59\n",
      "2.65\n",
      "3.62\n",
      "3.51\n",
      "2.78\n",
      "2.54\n",
      "3.01\n",
      "3.6\n",
      "2.71\n",
      "2.69\n",
      "3.01\n",
      "3.98\n",
      "2.95\n",
      "3.53\n",
      "3.51\n",
      "3.01\n",
      "3.27\n",
      "2.52\n",
      "2.26\n",
      "5.37\n",
      "4.38\n",
      "3.1\n",
      "5.42\n",
      "2.86\n",
      "3.1\n",
      "3.63\n",
      "2.97\n",
      "2.69\n",
      "3.08\n",
      "2.99\n",
      "3.45\n",
      "4.46\n",
      "6.08\n",
      "4.63\n",
      "5.49\n",
      "5.0\n",
      "4.96\n",
      "5.57\n",
      "5.81\n",
      "0.79\n",
      "0.0\n",
      "0.48\n",
      "0.2\n",
      "0.0\n",
      "0.0\n",
      "0.0\n",
      "0.0\n",
      "0.82\n",
      "0.78\n",
      "0.0\n",
      "0.8\n",
      "0.0\n",
      "0.0\n",
      "0.0\n",
      "0.0\n",
      "0.45\n",
      "0.0\n",
      "0.0\n",
      "0.0\n",
      "1.32\n",
      "0.0\n",
      "0.55\n",
      "0.0\n",
      "0.68\n",
      "0.0\n",
      "0.0\n",
      "0.0\n",
      "0.0\n",
      "0.0\n",
      "0.0\n",
      "0.0\n",
      "0.0\n",
      "0.0\n",
      "0.0\n",
      "0.0\n",
      "0.0\n",
      "0.0\n"
     ]
    }
   ],
   "source": [
    "for fitness_evolution in fitness_history:\n",
    "    print(fitness_evolution)"
   ]
  },
  {
   "cell_type": "code",
   "execution_count": null,
   "metadata": {
    "collapsed": true
   },
   "outputs": [],
   "source": []
  }
 ],
 "metadata": {
  "kernelspec": {
   "display_name": "Python 3",
   "language": "python",
   "name": "python3"
  },
  "language_info": {
   "codemirror_mode": {
    "name": "ipython",
    "version": 3
   },
   "file_extension": ".py",
   "mimetype": "text/x-python",
   "name": "python",
   "nbconvert_exporter": "python",
   "pygments_lexer": "ipython3",
   "version": "3.5.1"
  }
 },
 "nbformat": 4,
 "nbformat_minor": 0
}
