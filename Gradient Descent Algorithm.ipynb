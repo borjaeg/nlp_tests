{
 "cells": [
  {
   "cell_type": "code",
   "execution_count": 40,
   "metadata": {
    "collapsed": true
   },
   "outputs": [],
   "source": [
    "%matplotlib inline\n",
    "import numpy as np\n",
    "import random\n",
    "import sklearn \n",
    "from sklearn.datasets.samples_generator import make_regression\n",
    "import pylab\n",
    "from scipy import stats\n",
    "import matplotlib.pyplot as plt"
   ]
  },
  {
   "cell_type": "markdown",
   "metadata": {},
   "source": [
    "## Gradient decent"
   ]
  },
  {
   "cell_type": "code",
   "execution_count": 16,
   "metadata": {
    "collapsed": true
   },
   "outputs": [],
   "source": [
    "def gradient_descent(alpha, x, y, ep=0.0001, max_iter=10000):\n",
    "    converged = False\n",
    "    iter = 0\n",
    "    m = x.shape[0] # number of samples\n",
    "\n",
    "    # initial theta\n",
    "    t0 = np.random.random(x.shape[1])\n",
    "    t1 = np.random.random(x.shape[1])\n",
    "\n",
    "    # total error, J(theta)\n",
    "    J = sum([(t0 + t1*x[i] - y[i])**2 for i in range(m)])\n",
    "\n",
    "    # Iterate Loop\n",
    "    while not converged:\n",
    "        # for each training sample, compute the gradient (d/d_theta j(theta))\n",
    "        grad0 = 1.0/m * sum([(t0 + t1*x[i] - y[i]) for i in range(m)]) \n",
    "        grad1 = 1.0/m * sum([(t0 + t1*x[i] - y[i])*x[i] for i in range(m)])\n",
    "\n",
    "        # update the theta_temp\n",
    "        t0 = t0 - alpha * grad0\n",
    "        t1 = t1 - alpha * grad1\n",
    "\n",
    "        # mean squared error\n",
    "        e = sum( [ (t0 + t1*x[i] - y[i])**2 for i in range(m)] ) \n",
    "\n",
    "        if abs(J-e) <= ep:\n",
    "            print 'Converged, iterations: ', iter\n",
    "            converged = True\n",
    "    \n",
    "        J = e   # update error \n",
    "        iter += 1  # update iter\n",
    "    \n",
    "        if iter == max_iter:\n",
    "            print 'Max interactions exceeded!'\n",
    "            converged = True\n",
    "\n",
    "    return t0,t1"
   ]
  },
  {
   "cell_type": "code",
   "execution_count": 17,
   "metadata": {
    "collapsed": false
   },
   "outputs": [
    {
     "name": "stdout",
     "output_type": "stream",
     "text": [
      "Converged, iterations:  644\n",
      "theta0 = [-2.8185893] theta1 = [ 43.13917789]\n",
      "intercept = -2.84963639461 slope= 43.2042438802\n"
     ]
    },
    {
     "data": {
      "image/png": "[encoded data removed]",
      "text/plain": [
       "<matplotlib.figure.Figure at 0x10c4b6550>"
      ]
     },
     "metadata": {},
     "output_type": "display_data"
    }
   ],
   "source": [
    "x, y = make_regression(n_samples=100, n_features = 1, n_informative = 1, \n",
    "                       random_state = 0, noise = 35)\n",
    "\n",
    "alpha = 0.01 # learning rate\n",
    "ep = 0.01 # convergence criteria\n",
    "theta0, theta1 = gradient_descent(alpha, x, y, ep, max_iter=1000)\n",
    "print ('theta0 = %s theta1 = %s') %(theta0, theta1) \n",
    "\n",
    "# check with scipy linear regression\n",
    "slope, intercept, r_value, p_value, slope_std_error = stats.linregress(x[:,0],y)\n",
    "print(\"intercept = %s slope= %s\" % (intercept, slope)) \n",
    "\n",
    "for i in range(x.shape[0]):\n",
    "    y_predit = theta0 + theta1*x\n",
    "\n",
    "pylab.plot(x, y, 'o')\n",
    "pylab.plot(x, y_predit, 'k-')\n",
    "pylab.show()"
   ]
  },
  {
   "cell_type": "markdown",
   "metadata": {},
   "source": [
    "## Gradient decent v.2"
   ]
  },
  {
   "cell_type": "code",
   "execution_count": 34,
   "metadata": {
    "collapsed": false
   },
   "outputs": [],
   "source": [
    "def gradient_descent_2(alpha, x, y, num_iterations):\n",
    "    m = x.shape[0] # number of samples\n",
    "    theta = np.ones(2)\n",
    "    x_transpose = x.transpose()\n",
    "    for iter in range(0, num_iterations):\n",
    "        hypothesis = np.dot(x, theta)\n",
    "        loss = hypothesis - y\n",
    "        J = np.sum(loss ** 2) / (2 * m)  # cost\n",
    "        print \"iter %s | J: %.3f\" % (iter, J)      \n",
    "        gradient = np.dot(x_transpose, loss) / m         \n",
    "        theta = theta - alpha * gradient  # update\n",
    "    return theta"
   ]
  },
  {
   "cell_type": "code",
   "execution_count": 36,
   "metadata": {
    "collapsed": false
   },
   "outputs": [
    {
     "name": "stdout",
     "output_type": "stream",
     "text": [
      "iter 0 | J: 1604.873\n",
      "iter 1 | J: 1586.636\n",
      "iter 2 | J: 1568.768\n",
      "iter 3 | J: 1551.261\n",
      "iter 4 | J: 1534.107\n",
      "iter 5 | J: 1517.301\n",
      "iter 6 | J: 1500.833\n",
      "iter 7 | J: 1484.699\n",
      "iter 8 | J: 1468.890\n",
      "iter 9 | J: 1453.401\n",
      "iter 10 | J: 1438.224\n",
      "iter 11 | J: 1423.354\n",
      "iter 12 | J: 1408.785\n",
      "iter 13 | J: 1394.509\n",
      "iter 14 | J: 1380.522\n",
      "iter 15 | J: 1366.817\n",
      "iter 16 | J: 1353.389\n",
      "iter 17 | J: 1340.232\n",
      "iter 18 | J: 1327.341\n",
      "iter 19 | J: 1314.710\n",
      "iter 20 | J: 1302.334\n",
      "iter 21 | J: 1290.207\n",
      "iter 22 | J: 1278.325\n",
      "iter 23 | J: 1266.683\n",
      "iter 24 | J: 1255.276\n",
      "iter 25 | J: 1244.100\n",
      "iter 26 | J: 1233.148\n",
      "iter 27 | J: 1222.418\n",
      "iter 28 | J: 1211.904\n",
      "iter 29 | J: 1201.602\n",
      "iter 30 | J: 1191.507\n",
      "iter 31 | J: 1181.617\n",
      "iter 32 | J: 1171.926\n",
      "iter 33 | J: 1162.430\n",
      "iter 34 | J: 1153.126\n",
      "iter 35 | J: 1144.009\n",
      "iter 36 | J: 1135.076\n",
      "iter 37 | J: 1126.323\n",
      "iter 38 | J: 1117.747\n",
      "iter 39 | J: 1109.343\n",
      "iter 40 | J: 1101.109\n",
      "iter 41 | J: 1093.041\n",
      "iter 42 | J: 1085.135\n",
      "iter 43 | J: 1077.389\n",
      "iter 44 | J: 1069.799\n",
      "iter 45 | J: 1062.361\n",
      "iter 46 | J: 1055.074\n",
      "iter 47 | J: 1047.933\n",
      "iter 48 | J: 1040.936\n",
      "iter 49 | J: 1034.080\n",
      "iter 50 | J: 1027.363\n",
      "iter 51 | J: 1020.780\n",
      "iter 52 | J: 1014.330\n",
      "iter 53 | J: 1008.010\n",
      "iter 54 | J: 1001.817\n",
      "iter 55 | J: 995.749\n",
      "iter 56 | J: 989.803\n",
      "iter 57 | J: 983.976\n",
      "iter 58 | J: 978.267\n",
      "iter 59 | J: 972.673\n",
      "iter 60 | J: 967.191\n",
      "iter 61 | J: 961.820\n",
      "iter 62 | J: 956.557\n",
      "iter 63 | J: 951.399\n",
      "iter 64 | J: 946.346\n",
      "iter 65 | J: 941.394\n",
      "iter 66 | J: 936.542\n",
      "iter 67 | J: 931.787\n",
      "iter 68 | J: 927.128\n",
      "iter 69 | J: 922.563\n",
      "iter 70 | J: 918.089\n",
      "iter 71 | J: 913.705\n",
      "iter 72 | J: 909.410\n",
      "iter 73 | J: 905.201\n",
      "iter 74 | J: 901.076\n",
      "iter 75 | J: 897.035\n",
      "iter 76 | J: 893.075\n",
      "iter 77 | J: 889.194\n",
      "iter 78 | J: 885.391\n",
      "iter 79 | J: 881.665\n",
      "iter 80 | J: 878.013\n",
      "iter 81 | J: 874.435\n",
      "iter 82 | J: 870.929\n",
      "iter 83 | J: 867.494\n",
      "iter 84 | J: 864.127\n",
      "iter 85 | J: 860.828\n",
      "iter 86 | J: 857.595\n",
      "iter 87 | J: 854.427\n",
      "iter 88 | J: 851.323\n",
      "iter 89 | J: 848.281\n",
      "iter 90 | J: 845.300\n",
      "iter 91 | J: 842.379\n",
      "iter 92 | J: 839.517\n",
      "iter 93 | J: 836.712\n",
      "iter 94 | J: 833.964\n",
      "iter 95 | J: 831.270\n",
      "iter 96 | J: 828.631\n",
      "iter 97 | J: 826.045\n",
      "iter 98 | J: 823.510\n",
      "iter 99 | J: 821.027\n"
     ]
    },
    {
     "data": {
      "image/png": "[encoded data removed]",
      "text/plain": [
       "<matplotlib.figure.Figure at 0x107d397d0>"
      ]
     },
     "metadata": {},
     "output_type": "display_data"
    }
   ],
   "source": [
    "x, y = make_regression(n_samples=100, n_features = 1, n_informative=1,\n",
    "                      random_state=0, noise=35)\n",
    "\n",
    "m, n = np.shape(x)\n",
    "x = np.c_[ np.ones(m), x] \n",
    "alpha = 0.01\n",
    "theta = gradient_descent_2(alpha, x, y, 100)\n",
    "\n",
    "for i in range(x.shape[1]):\n",
    "    y_predict = theta[0] + theta[1] * x\n",
    "\n",
    "pylab.plot(x[:, 1], y, 'o')\n",
    "pylab.plot(x,y_predict, 'k-')\n",
    "pylab.show()"
   ]
  },
  {
   "cell_type": "markdown",
   "metadata": {},
   "source": [
    "## Gradient descent v3"
   ]
  },
  {
   "cell_type": "code",
   "execution_count": 55,
   "metadata": {
    "collapsed": false
   },
   "outputs": [
    {
     "name": "stdout",
     "output_type": "stream",
     "text": [
      "Local minimum occurs at 3.05\n"
     ]
    },
    {
     "name": "stderr",
     "output_type": "stream",
     "text": [
      "/Users/b3j90/anaconda/envs/nlp/lib/python2.7/site-packages/matplotlib/collections.py:590: FutureWarning: elementwise comparison failed; returning scalar instead, but in the future will perform elementwise comparison\n",
      "  if self._edgecolors == str('face'):\n"
     ]
    },
    {
     "data": {
      "image/png": "[encoded data removed]",
      "text/plain": [
       "<matplotlib.figure.Figure at 0x10d778d90>"
      ]
     },
     "metadata": {},
     "output_type": "display_data"
    }
   ],
   "source": [
    "old_min = 0\n",
    "temp_min = 15\n",
    "step_size = 0.01\n",
    "precision = 0.001\n",
    "\n",
    "def f(x):\n",
    "    return x**2 - 6*x +5\n",
    "\n",
    "def f_derivative(x):\n",
    "    return 2*x-6\n",
    "\n",
    "mins = []\n",
    "cost = []\n",
    "\n",
    "while abs(temp_min - old_min) > precision:\n",
    "    old_min = temp_min\n",
    "    gradient = f_derivative(old_min)\n",
    "    move = gradient * step_size\n",
    "    temp_min = old_min - move\n",
    "    cost.append((3-temp_min)**2)\n",
    "    mins.append(temp_min)\n",
    "    \n",
    "print(\"Local minimum occurs at {}\".format(round(temp_min, 2)))\n",
    "x = np.arange(-10,20, 1)\n",
    "plt.xlim((-10,20))\n",
    "plt.plot(x, f(x), color = 'b')\n",
    "plt.scatter(mins, f(np.asarray(mins)), color='g')\n",
    "plt.show()"
   ]
  },
  {
   "cell_type": "code",
   "execution_count": null,
   "metadata": {
    "collapsed": true
   },
   "outputs": [],
   "source": []
  }
 ],
 "metadata": {
  "kernelspec": {
   "display_name": "Python 2",
   "language": "python",
   "name": "python2"
  },
  "language_info": {
   "codemirror_mode": {
    "name": "ipython",
    "version": 2
   },
   "file_extension": ".py",
   "mimetype": "text/x-python",
   "name": "python",
   "nbconvert_exporter": "python",
   "pygments_lexer": "ipython2",
   "version": "2.7.10"
  }
 },
 "nbformat": 4,
 "nbformat_minor": 0
}
