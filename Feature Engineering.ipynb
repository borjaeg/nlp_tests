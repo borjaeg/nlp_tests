{
 "cells": [
  {
   "cell_type": "markdown",
   "metadata": {},
   "source": [
    "# Feature Engineering\n",
    "\n",
    "References: http://blog.datadive.net/selecting-good-features-part-ii-linear-models-and-regularization/\n",
    "\n",
    "The goals of a good feature are to simultaneously vary with what matters and be invariant with what doesn't. It is necessary to use background knowledge to design good features. Luckily, for many problems domains, there is already a vast literature of possible features and feature-types. **Choice can dratically affect performance**. \n",
    "\n",
    "There are in general two reasons why feature selection is used:\n",
    "1. Reducing the number of features, to reduce overfitting and improve the generalization of models.\n",
    "2. To gain better understanding of the features and their relationship to the response variables.\n",
    "\n",
    "Feature selection is not particularly throughly covered in machine learning or data mining textbooks, partly becasue they are often looked as natural side effects of learning algorithms that don't require separate coverage."
   ]
  },
  {
   "cell_type": "markdown",
   "metadata": {},
   "source": [
    "### Univariate feature selection\n",
    "\n",
    "Univariate feature selection examines each feature indiviadually to determine the strength of the relationship of the feature with the response variable. The problem is that these methods don't necessarily optimize the feature set for better generalization. It can work for selecting top features for model improvement in some settings, but it is **unable to remove redundancy**. There are a lot of different options for univariate selection:"
   ]
  },
  {
   "cell_type": "markdown",
   "metadata": {},
   "source": [
    "### Pearson Correlation"
   ]
  },
  {
   "cell_type": "code",
   "execution_count": 2,
   "metadata": {
    "collapsed": false
   },
   "outputs": [
    {
     "name": "stdout",
     "output_type": "stream",
     "text": [
      "Lower noise (0.71824836862138408, 7.3240173129983507e-49)\n",
      "Higher noise (0.057964292079338155, 0.31700993885324752)\n"
     ]
    }
   ],
   "source": [
    "import numpy as np\n",
    "from scipy.stats import pearsonr\n",
    "\n",
    "np.random.seed(0)\n",
    "size = 300\n",
    "x = np.random.normal(0,1,size)\n",
    "print\"Lower noise\", pearsonr(x, x + np.random.normal(0,1,size))\n",
    "print\"Higher noise\", pearsonr(x, x + np.random.normal(0,10,size))"
   ]
  },
  {
   "cell_type": "markdown",
   "metadata": {},
   "source": [
    "The firt result indicates a high correlation (0.71) with a low p-value. Therefore we can reject the hypothesis that the samples are not correlated. On the other hand, the second result indicates a low correlation with a non-statistically relevant p-value."
   ]
  },
  {
   "cell_type": "code",
   "execution_count": 4,
   "metadata": {
    "collapsed": false
   },
   "outputs": [
    {
     "name": "stdout",
     "output_type": "stream",
     "text": [
      "-0.0245054997263\n"
     ]
    }
   ],
   "source": [
    "# Problem\n",
    "x = np.random.uniform(-1,1, 10000)\n",
    "print pearsonr(x, x**2)[0]"
   ]
  },
  {
   "cell_type": "markdown",
   "metadata": {},
   "source": [
    "### Maximal Information coefficient\n",
    "https://en.wikipedia.org/wiki/Maximal_information_coefficient"
   ]
  },
  {
   "cell_type": "code",
   "execution_count": 3,
   "metadata": {
    "collapsed": false
   },
   "outputs": [
    {
     "name": "stdout",
     "output_type": "stream",
     "text": [
      "1.0\n"
     ]
    }
   ],
   "source": [
    "from minepy import MINE\n",
    "m = MINE()\n",
    "x = np.random.uniform(-1,1,1000)\n",
    "m.compute_score(x,x**2)\n",
    "print m.mic()"
   ]
  },
  {
   "cell_type": "markdown",
   "metadata": {},
   "source": [
    "There are at least two reasons why to prefer Pearson correlation over more sophisticated mothods such as MIC or distance correlation when the relationship is close to linear. Firstly, computing the Pearson correlation is much faster. Secondly, the range of the correlation coefficient [-1,1] instead of [0,1] for MIC and distance correlation relay useful extra information on whether the relationship is positive or negative."
   ]
  },
  {
   "cell_type": "markdown",
   "metadata": {},
   "source": [
    "### Model based ranking"
   ]
  },
  {
   "cell_type": "code",
   "execution_count": 6,
   "metadata": {
    "collapsed": false
   },
   "outputs": [
    {
     "name": "stdout",
     "output_type": "stream",
     "text": [
      "[(0.669, 'LSTAT'), (0.483, 'RM'), (0.422, 'NOX'), (0.328, 'PTRATIO'), (0.322, 'INDUS'), (0.282, 'TAX'), (0.279, 'RAD'), (0.204, 'CRIM'), (0.143, 'ZN'), (0.104, 'DIS'), (0.101, 'AGE'), (0.094, 'B'), (-0.013, 'CHAS')]\n"
     ]
    }
   ],
   "source": [
    "from sklearn.cross_validation import cross_val_score, ShuffleSplit\n",
    "from sklearn.datasets import load_boston\n",
    "from sklearn.ensemble import RandomForestRegressor\n",
    "\n",
    "boston = load_boston()\n",
    "X = boston[\"data\"]\n",
    "Y = boston[\"target\"]\n",
    "names = boston[\"feature_names\"]\n",
    "\n",
    "rf = RandomForestRegressor(n_estimators = 20, max_depth = 4)\n",
    "scores = []\n",
    "for i in range(X.shape[1]):\n",
    "    score = cross_val_score(rf, X[:, i:i+1], Y, scoring=\"r2\",\n",
    "                           cv = ShuffleSplit(len(X),3,.3))\n",
    "    scores.append((round(np.mean(score),3), names[i]))\n",
    "\n",
    "print sorted(scores, reverse = True)"
   ]
  },
  {
   "cell_type": "code",
   "execution_count": 7,
   "metadata": {
    "collapsed": false
   },
   "outputs": [
    {
     "name": "stdout",
     "output_type": "stream",
     "text": [
      "Linear model:  0.984 * X0 + 1.995 * X1 + -0.041 * X2\n"
     ]
    }
   ],
   "source": [
    "from sklearn.linear_model import LinearRegression\n",
    "\n",
    "np.random.seed(0)\n",
    "size = 5000\n",
    "\n",
    "# A dataset with 3 features\n",
    "X = np.random.normal(0,1, (size,3))\n",
    "# Y = X0 + 2*X1 + noise\n",
    "Y = X[:,0] + 2*X[:,1] + np.random.normal(0,2,size)\n",
    "lr = LinearRegression()\n",
    "lr.fit(X,Y)\n",
    "\n",
    "def pretty_print_linear(coefs, names = None, sort=False):\n",
    "    if names == None:\n",
    "        names = [\"X%s\" % x for x in range(len(coefs))]\n",
    "    lst = zip(coefs, names)\n",
    "    if sort:\n",
    "        lst = sorted(lst, key=lambda x: -np.abs(x[0]))\n",
    "    return \" + \".join(\"%s * %s\" % (round(coef,3), name) for coef, name in lst)\n",
    "\n",
    "print \"Linear model: \", pretty_print_linear(lr.coef_)"
   ]
  },
  {
   "cell_type": "markdown",
   "metadata": {},
   "source": [
    "If variables has noise, as the below example, the model can predict well buy the feature weights are not correct because they don't show the real world relations."
   ]
  },
  {
   "cell_type": "code",
   "execution_count": 8,
   "metadata": {
    "collapsed": false
   },
   "outputs": [
    {
     "name": "stdout",
     "output_type": "stream",
     "text": [
      "Linear model: -1.291 * X0 + 1.591 * X1 + 2.747 * X2\n"
     ]
    }
   ],
   "source": [
    "from sklearn.linear_model import LinearRegression\n",
    " \n",
    "size = 100\n",
    "np.random.seed(seed=5)\n",
    " \n",
    "X_seed = np.random.normal(0, 1, size)\n",
    "X1 = X_seed + np.random.normal(0, .1, size)\n",
    "X2 = X_seed + np.random.normal(0, .1, size)\n",
    "X3 = X_seed + np.random.normal(0, .1, size)\n",
    "  \n",
    "Y = X1 + X2 + X3 + np.random.normal(0,1, size)\n",
    "X = np.array([X1, X2, X3]).T\n",
    "  \n",
    "lr = LinearRegression()\n",
    "lr.fit(X,Y)\n",
    "print \"Linear model:\", pretty_print_linear(lr.coef_)"
   ]
  },
  {
   "cell_type": "markdown",
   "metadata": {},
   "source": [
    "## Regularization"
   ]
  },
  {
   "cell_type": "markdown",
   "metadata": {},
   "source": [
    "### L1 regularization / Lasso\n",
    "\n",
    "L1 regularization adds a penalty to the loss function (L1-norm). Since each non-zero coefficient adds to the penalty, it forces weak features to have zero as coefficients. Thus L1 regularization produces sparse solutions, inherently performing feature selection.\n",
    "\n",
    "For regression, Scikit-learn offers Lasso for linear regression and Logistic regression with L1 penalty for classification."
   ]
  },
  {
   "cell_type": "code",
   "execution_count": 10,
   "metadata": {
    "collapsed": false
   },
   "outputs": [
    {
     "name": "stdout",
     "output_type": "stream",
     "text": [
      "Lasso model:  -3.707 * LSTAT + 2.992 * RM + -1.757 * PTRATIO + -1.081 * DIS + -0.7 * NOX + 0.631 * B + 0.54 * CHAS + -0.236 * CRIM + 0.081 * ZN + -0.0 * INDUS + -0.0 * AGE + 0.0 * RAD + -0.0 * TAX\n"
     ]
    },
    {
     "name": "stderr",
     "output_type": "stream",
     "text": [
      "/Users/b3j90/anaconda/envs/nlp/lib/python2.7/site-packages/ipykernel/__main__.py:14: FutureWarning: comparison to `None` will result in an elementwise object comparison in the future.\n"
     ]
    }
   ],
   "source": [
    "from sklearn.linear_model import Lasso\n",
    "from sklearn.preprocessing import StandardScaler\n",
    "from sklearn.datasets import load_boston\n",
    "  \n",
    "boston = load_boston()\n",
    "scaler = StandardScaler()\n",
    "X = scaler.fit_transform(boston[\"data\"])\n",
    "Y = boston[\"target\"]\n",
    "names = boston[\"feature_names\"]\n",
    "  \n",
    "lasso = Lasso(alpha=.3)\n",
    "lasso.fit(X, Y)\n",
    "  \n",
    "print \"Lasso model: \", pretty_print_linear(lasso.coef_, names, sort = True)"
   ]
  },
  {
   "cell_type": "markdown",
   "metadata": {},
   "source": [
    "### L2 regularization / Ridge regression"
   ]
  },
  {
   "cell_type": "code",
   "execution_count": 11,
   "metadata": {
    "collapsed": false
   },
   "outputs": [
    {
     "name": "stdout",
     "output_type": "stream",
     "text": [
      "Random seed 0\n",
      "Linear model: 0.728 * X0 + 2.309 * X1 + -0.082 * X2\n",
      "Ridge model: 0.938 * X0 + 1.059 * X1 + 0.877 * X2\n",
      "\n",
      "Random seed 1\n",
      "Linear model: 1.152 * X0 + 2.366 * X1 + -0.599 * X2\n",
      "Ridge model: 0.984 * X0 + 1.068 * X1 + 0.759 * X2\n",
      "\n",
      "Random seed 2\n",
      "Linear model: 0.697 * X0 + 0.322 * X1 + 2.086 * X2\n",
      "Ridge model: 0.972 * X0 + 0.943 * X1 + 1.085 * X2\n",
      "\n",
      "Random seed 3\n",
      "Linear model: 0.287 * X0 + 1.254 * X1 + 1.491 * X2\n",
      "Ridge model: 0.919 * X0 + 1.005 * X1 + 1.033 * X2\n",
      "\n",
      "Random seed 4\n",
      "Linear model: 0.187 * X0 + 0.772 * X1 + 2.189 * X2\n",
      "Ridge model: 0.964 * X0 + 0.982 * X1 + 1.098 * X2\n",
      "\n",
      "Random seed 5\n",
      "Linear model: -1.291 * X0 + 1.591 * X1 + 2.747 * X2\n",
      "Ridge model: 0.758 * X0 + 1.011 * X1 + 1.139 * X2\n",
      "\n",
      "Random seed 6\n",
      "Linear model: 1.199 * X0 + -0.031 * X1 + 1.915 * X2\n",
      "Ridge model: 1.016 * X0 + 0.89 * X1 + 1.091 * X2\n",
      "\n",
      "Random seed 7\n",
      "Linear model: 1.474 * X0 + 1.762 * X1 + -0.151 * X2\n",
      "Ridge model: 1.018 * X0 + 1.039 * X1 + 0.901 * X2\n",
      "\n",
      "Random seed 8\n",
      "Linear model: 0.084 * X0 + 1.88 * X1 + 1.107 * X2\n",
      "Ridge model: 0.907 * X0 + 1.071 * X1 + 1.008 * X2\n",
      "\n",
      "Random seed 9\n",
      "Linear model: 0.714 * X0 + 0.776 * X1 + 1.364 * X2\n",
      "Ridge model: 0.896 * X0 + 0.903 * X1 + 0.98 * X2\n",
      "\n"
     ]
    }
   ],
   "source": [
    "from sklearn.linear_model import Ridge\n",
    "from sklearn.metrics import r2_score\n",
    "size = 100\n",
    " \n",
    "#We run the method 10 times with different random seeds\n",
    "for i in range(10):\n",
    "    print \"Random seed %s\" % i\n",
    "    np.random.seed(seed=i)\n",
    "    X_seed = np.random.normal(0, 1, size)\n",
    "    X1 = X_seed + np.random.normal(0, .1, size)\n",
    "    X2 = X_seed + np.random.normal(0, .1, size)\n",
    "    X3 = X_seed + np.random.normal(0, .1, size)\n",
    "    Y = X1 + X2 + X3 + np.random.normal(0, 1, size)\n",
    "    X = np.array([X1, X2, X3]).T\n",
    " \n",
    " \n",
    "    lr = LinearRegression()\n",
    "    lr.fit(X,Y)\n",
    "    print \"Linear model:\", pretty_print_linear(lr.coef_)\n",
    " \n",
    "    ridge = Ridge(alpha=10)\n",
    "    ridge.fit(X,Y)\n",
    "    print \"Ridge model:\", pretty_print_linear(ridge.coef_)\n",
    "    print"
   ]
  },
  {
   "cell_type": "markdown",
   "metadata": {},
   "source": [
    "## Natural Language Processing\n",
    "### Contextual Features\n",
    "#### n-grams\n",
    "Exploit context by using sequences of n words intead of single words. A litle context improves performance: bigrams are usually better than unigrams. Usually no gain for n > 3.\n",
    "#### position information\n",
    "\n",
    "### Linguistic features\n",
    "#### Stemming\n",
    "It helps to represent terms that occur in different morphological variants. Remove inflections that convey parts of speech, tense and number: increase recall by decreasing precision. Sometimes is too agresive. It can be a good idea to use it with n-grams because the latter increase precision. \n",
    "Stemming + N-gram == Noun phrase extraction?\n",
    "Techniques:\n",
    "* Morphological analysis: Porter's algorithm, fast but low quality\n",
    "* Dictionary Lookup: WordNet: slow, but more powerful.\n",
    "\n",
    "#### Lemmatization\n",
    "#### Noun phrases\n",
    "N-grams can be improved. It can be used with part-of-speech (lexical category) to find noun phrases. Noun phrases \n",
    "### Structural features\n",
    "#### Structural Markups\n",
    "#### Hypertext\n",
    "### Feature Subset Selection\n",
    "Using each word as a feature results in thousands of features. Many of them are irrelevant and redundant, and therefore can cause overfitting. Moreover removing them can increase efficiency.\n",
    "#### Unsupervised FSS\n",
    "##### Using Domain Knowledge\n",
    "Some features may be known to be irrelevant or redundant.\n",
    "##### Random Sampling\n",
    "Select a random sample of the feature can be appropriate in the case of many weakly relevant features and in connection with ensemble methods.\n",
    "##### Frequency-based\n",
    "Most frequent features may be bad, they usually are numbers and stop words. However, too much pruning may hurts.\n",
    "* Fixed Number: keep n most frequent words\n",
    "* Thresholding: keep all words that occur at least k times\n",
    "* TF-IDF\n",
    "\n",
    "#### Supervised FSS\n",
    "##### Filter approaches\n",
    "Compute some measure for estimating the ability to discriminate between classes. Typically it consists in computing a **feature weight** and select the best n features. Problems can arise becasue of **redundant features** that will have similar weights and **dependant features**, features with low weights because they are consider alone. A good feature should **discriminate documents of different classes**.\n",
    "###### Discrimination measures\n",
    "* Information Gain\n",
    "* Log-odds ration\n",
    "* The chi-square test\n",
    "##### Wrapper approaches\n",
    "They consist in searching through the space of all possible feature subsets. Each search subset is tried with the learning algorithm. It can be very **inefficient**: many learning cycles necessary.\n",
    "###### Forward selection\n",
    "Simple search heuristic: Keep adding one feature at every step util classifier's accuracy ceases to improve.\n",
    "###### Backward selection\n",
    "\n",
    "    1. Start with full feature set F\n",
    "    2. Try to remove algorithms\n",
    "\n",
    "#### Machine Learning methods\n",
    "### Feature Construction\n",
    "### Latent Semantic Indexing\n",
    "### Stop Lists\n",
    "#### Removal of frequently occurring words\n",
    "This words occur in all documents and are statistically irrelevant.\n",
    "\n",
    "**Problems**\n",
    "* Different meanings\n",
    "* Important in phrases\n",
    "* Polysemous words -> Poor precision\n"
   ]
  },
  {
   "cell_type": "code",
   "execution_count": 1,
   "metadata": {
    "collapsed": true
   },
   "outputs": [],
   "source": [
    "%matplotlib inline"
   ]
  },
  {
   "cell_type": "code",
   "execution_count": 6,
   "metadata": {
    "collapsed": false
   },
   "outputs": [],
   "source": [
    "from sklearn.svm import SVC\n",
    "from sklearn.datasets import load_digits\n",
    "from sklearn.feature_selection import RFE\n",
    "import matplotlib.pyplot as plt\n",
    "\n",
    "digits = load_digits()\n",
    "X = digits.images.reshape((len(digits.images), -1))\n",
    "y = digits.target\n",
    "\n",
    "# Create the RFE object and rank each pixel\n",
    "svc = SVC(kernel=\"linear\", C = 1)\n",
    "rfe = RFE(estimator=svc, n_features_to_select = 1, step = 1)\n",
    "rfe.fit(X,y)\n",
    "ranking = rfe.ranking_.reshape(digits.images[0].shape)"
   ]
  },
  {
   "cell_type": "code",
   "execution_count": 14,
   "metadata": {
    "collapsed": false
   },
   "outputs": [
    {
     "data": {
      "text/plain": [
       "<matplotlib.text.Text at 0x10a3c9550>"
      ]
     },
     "execution_count": 14,
     "metadata": {},
     "output_type": "execute_result"
    },
    {
     "data": {
      "image/png": "[encoded data removed]",
      "text/plain": [
       "<matplotlib.figure.Figure at 0x10a3fd250>"
      ]
     },
     "metadata": {},
     "output_type": "display_data"
    }
   ],
   "source": [
    "plt.matshow(ranking)\n",
    "plt.colorbar()\n",
    "plt.title(\"Ranking of pixels with RFE\")"
   ]
  },
  {
   "cell_type": "markdown",
   "metadata": {
    "collapsed": true
   },
   "source": [
    "## Recursive feature elimination with cross-validation"
   ]
  },
  {
   "cell_type": "code",
   "execution_count": 5,
   "metadata": {
    "collapsed": true
   },
   "outputs": [],
   "source": [
    "from sklearn.svm import SVC\n",
    "from sklearn.cross_validation import StratifiedKFold\n",
    "from sklearn.feature_selection import RFECV\n",
    "from sklearn.datasets import make_classification\n",
    "import matplotlib.pyplot as plt"
   ]
  },
  {
   "cell_type": "code",
   "execution_count": 6,
   "metadata": {
    "collapsed": false
   },
   "outputs": [
    {
     "name": "stdout",
     "output_type": "stream",
     "text": [
      "Optimal number of features: 3\n"
     ]
    },
    {
     "data": {
      "text/plain": [
       "[<matplotlib.lines.Line2D at 0x1083c5650>]"
      ]
     },
     "execution_count": 6,
     "metadata": {},
     "output_type": "execute_result"
    },
    {
     "data": {
      "image/png": "[encoded data removed]",
      "text/plain": [
       "<matplotlib.figure.Figure at 0x1082439d0>"
      ]
     },
     "metadata": {},
     "output_type": "display_data"
    }
   ],
   "source": [
    "X, y = make_classification(n_samples=1000, n_features=25, n_informative=3,\n",
    "                          n_redundant = 2, n_repeated = 0, n_classes = 8,\n",
    "                          n_clusters_per_class = 1, random_state = 0)\n",
    "\n",
    "svc = SVC(kernel='linear')\n",
    "rfecv = RFECV(estimator=svc, step=1, cv=StratifiedKFold(y,2), scoring='accuracy')\n",
    "rfecv.fit(X,y)\n",
    "print(\"Optimal number of features: %d\" % rfecv.n_features_)\n",
    "\n",
    "plt.figure()\n",
    "plt.xlabel(\"Number of features selected\")\n",
    "plt.ylabel(\"Cross validation score (number of correct classifications)\")\n",
    "plt.plot(range(1, len(rfecv.grid_scores_) +1), rfecv.grid_scores_)"
   ]
  },
  {
   "cell_type": "markdown",
   "metadata": {},
   "source": [
    "## SBS Algorithm\n",
    "Source: https://github.com/rasbt/python-machine-learning-book"
   ]
  },
  {
   "cell_type": "code",
   "execution_count": 39,
   "metadata": {
    "collapsed": true
   },
   "outputs": [],
   "source": [
    "%matplotlib inline\n",
    "from sklearn.base import clone\n",
    "from itertools import combinations\n",
    "import numpy as np\n",
    "from sklearn.cross_validation import train_test_split\n",
    "from sklearn.metrics import accuracy_score"
   ]
  },
  {
   "cell_type": "code",
   "execution_count": 35,
   "metadata": {
    "collapsed": true
   },
   "outputs": [],
   "source": [
    "class SBS():\n",
    "    def __init__(self, estimator, k_features,\n",
    "                 scoring = accuracy_score,\n",
    "                 test_size = 0.25, random_state=1):\n",
    "        self.scoring = scoring\n",
    "        self.estimator = clone(estimator)\n",
    "        self.k_features = k_features\n",
    "        self.test_size = test_size\n",
    "        self.random_state = random_state\n",
    "        \n",
    "    def _calc_score(self, X_train, y_train,\n",
    "                           X_test, y_test, indices):\n",
    "        self.estimator.fit(X_train[:, indices], y_train)\n",
    "        y_pred = self.estimator.predict(X_test[:, indices])\n",
    "        score = self.scoring(y_test, y_pred)\n",
    "        return score\n",
    "        \n",
    "    def fit(self, X, y):\n",
    "        X_train, X_test, y_train, y_test = \\\n",
    "                train_test_split(X, y, test_size = self.test_size,\n",
    "                                random_state = self.random_state)\n",
    "        dim = X_train.shape[1]\n",
    "        self.indices_ = tuple(range(dim))\n",
    "        self.subsets_ = [self.indices_]\n",
    "        score = self._calc_score(X_train, y_train,\n",
    "                                 X_test, y_test, self.indices_)\n",
    "        self.scores_ = [score]\n",
    "        \n",
    "        while dim > self.k_features:\n",
    "            scores = []\n",
    "            subsets = []\n",
    "            \n",
    "            for p in combinations(self.indices_, r=dim-1):\n",
    "                score = self._calc_score(X_train, y_train,\n",
    "                                         X_test, y_test, p)\n",
    "                scores.append(score)\n",
    "                subsets.append(p)\n",
    "                \n",
    "            best = np.argmax(scores)\n",
    "            self.indices_ = subsets[best]\n",
    "            self.subsets_.append(self.indices_)\n",
    "            dim -= 1\n",
    "                \n",
    "            self.scores_.append(scores[best])\n",
    "\n",
    "        self.k_score_ = self.scores_[-1]\n",
    "            \n",
    "        return self\n",
    "        \n",
    "        def transform(self, X):\n",
    "            return X[:, self.indices_]\n",
    "        "
   ]
  },
  {
   "cell_type": "code",
   "execution_count": 36,
   "metadata": {
    "collapsed": false
   },
   "outputs": [],
   "source": [
    "from sklearn.neighbors import KNeighborsClassifier\n",
    "import matplotlib.pyplot as plt\n",
    "from sklearn import datasets\n",
    "from sklearn.preprocessing import StandardScaler"
   ]
  },
  {
   "cell_type": "code",
   "execution_count": 37,
   "metadata": {
    "collapsed": false
   },
   "outputs": [
    {
     "data": {
      "text/plain": [
       "<__main__.SBS at 0x10cf47668>"
      ]
     },
     "execution_count": 37,
     "metadata": {},
     "output_type": "execute_result"
    }
   ],
   "source": [
    "knn = KNeighborsClassifier(n_neighbors=2)\n",
    "sbs = SBS(knn, k_features=1)\n",
    "iris = datasets.load_iris()\n",
    "X = iris.data\n",
    "y_train = iris.target\n",
    "X_train_std = StandardScaler().fit_transform(X, y_train)\n",
    "sbs.fit(X_train_std, y_train)"
   ]
  },
  {
   "cell_type": "code",
   "execution_count": 38,
   "metadata": {
    "collapsed": false
   },
   "outputs": [],
   "source": [
    "k_feat = [len(k) for k in sbs.subsets_]\n",
    "plt.plot(k_feat, sbs.scores_, marker='o')\n",
    "plt.ylim([0.7,1.1])\n",
    "plt.ylabel('Accuracy')\n",
    "plt.xlabel('Number of featuers')\n",
    "plt.grid()\n",
    "plt.show()"
   ]
  },
  {
   "cell_type": "markdown",
   "metadata": {
    "collapsed": true
   },
   "source": [
    "## Univariate Feature Selection\n",
    "Source: http://scikit-learn.org/stable/auto_examples/feature_selection/plot_feature_selection.html"
   ]
  },
  {
   "cell_type": "code",
   "execution_count": 1,
   "metadata": {
    "collapsed": true
   },
   "outputs": [],
   "source": [
    "%matplotlib inline\n",
    "import numpy as np\n",
    "import matplotlib.pyplot as plt\n",
    "\n",
    "from sklearn import datasets, svm\n",
    "from sklearn.feature_selection import SelectPercentile, f_classif"
   ]
  },
  {
   "cell_type": "code",
   "execution_count": 4,
   "metadata": {
    "collapsed": true
   },
   "outputs": [],
   "source": [
    "iris = datasets.load_iris()\n",
    "\n",
    "# Some noisy data not correlated\n",
    "E = np.random.uniform(0, 0.1, size = (len(iris.data), 20))\n",
    "\n",
    "X = np.hstack((iris.data, E))\n",
    "y = iris.target"
   ]
  },
  {
   "cell_type": "code",
   "execution_count": 8,
   "metadata": {
    "collapsed": false
   },
   "outputs": [
    {
     "data": {
      "image/png": "[encoded data removed]",
      "text/plain": [
       "<matplotlib.figure.Figure at 0x110484048>"
      ]
     },
     "metadata": {},
     "output_type": "display_data"
    }
   ],
   "source": [
    "plt.figure(figsize=(12,8))\n",
    "plt.clf()\n",
    "\n",
    "X_indices = np.arange(X.shape[-1])\n",
    "\n",
    "# Univariate feature selection with F-test for feature scoring\n",
    "# Default selection function: the 10% most significant features\n",
    "selector = SelectPercentile(f_classif, percentile = 10)\n",
    "selector.fit(X, y)\n",
    "scores = -np.log10(selector.pvalues_)\n",
    "scores /= scores.max()\n",
    "plt.bar(X_indices - .45, scores, width=.2,\n",
    "        label=r\"Univariate score ($-Log(p_{value}$))\", color=\"g\")\n",
    "\n",
    "clf = svm.SVC(kernel=\"linear\")\n",
    "clf.fit(X,y)\n",
    "\n",
    "svm_weights = (clf.coef_ ** 2).sum(axis = 0)\n",
    "svm_weights /= svm_weights.max()\n",
    "\n",
    "plt.bar(X_indices  - .25, svm_weights, width = .2, label =\"SVM weight\", color =\"r\")\n",
    "clf_selected = svm.SVC(kernel=\"linear\")\n",
    "clf_selected.fit(selector.transform(X), y)\n",
    "\n",
    "svm_weights_selected = (clf_selected.coef_ ** 2).sum(axis=0)\n",
    "svm_weights_selected /= svm_weights_selected.max()\n",
    "\n",
    "plt.bar(X_indices[selector.get_support()] - .05, svm_weights_selected,\n",
    "        width=.2, label='SVM weights after selection', color='b')\n",
    "\n",
    "\n",
    "plt.title(\"Comparing feature selection\")\n",
    "plt.xlabel('Feature number')\n",
    "plt.yticks(())\n",
    "plt.axis('tight')\n",
    "plt.legend(loc='upper right')\n",
    "plt.show()"
   ]
  },
  {
   "cell_type": "markdown",
   "metadata": {},
   "source": [
    "## SVM-Anova: SVM with univariate feature selection\n",
    "Source: http://scikit-learn.org/stable/auto_examples/svm/plot_svm_anova.html"
   ]
  },
  {
   "cell_type": "code",
   "execution_count": 13,
   "metadata": {
    "collapsed": true
   },
   "outputs": [],
   "source": [
    "%matplotlib inline\n",
    "import warnings\n",
    "warnings.filterwarnings('ignore')\n",
    "import numpy as np\n",
    "import matplotlib.pyplot as plt\n",
    "from sklearn import svm, feature_selection, cross_validation\n",
    "from sklearn.pipeline import Pipeline"
   ]
  },
  {
   "cell_type": "code",
   "execution_count": 14,
   "metadata": {
    "collapsed": false
   },
   "outputs": [
    {
     "data": {
      "image/png": "[encoded data removed]",
      "text/plain": [
       "<matplotlib.figure.Figure at 0x1101bf3c8>"
      ]
     },
     "metadata": {},
     "output_type": "display_data"
    }
   ],
   "source": [
    "digits = datasets.load_digits()\n",
    "y = digits.target\n",
    "y = y[:200]\n",
    "X = digits.data[:200]\n",
    "n_samples = len(y)\n",
    "X = X.reshape((n_samples, -1))\n",
    "# add 200 not-informative features\n",
    "X = np.hstack((X, 2 * np.random.random((n_samples, 200))))\n",
    "\n",
    "transform = feature_selection.SelectPercentile(feature_selection.f_classif)\n",
    "\n",
    "clf = Pipeline([('anova', transform), ('svc', svm.SVC(C=1.0))])\n",
    "\n",
    "# Plot the cross-validation score as a function of percentile of features\n",
    "score_means = list()\n",
    "score_stds = list()\n",
    "percentiles = (1, 3, 6, 10, 15, 20, 30, 50, 60, 80, 100)\n",
    "\n",
    "for percentile in percentiles:\n",
    "    clf.set_params(anova__percentile=percentile)\n",
    "    this_scores = cross_validation.cross_val_score(clf, X, y, n_jobs =1)\n",
    "    score_means.append(this_scores.mean())\n",
    "    score_stds.append(this_scores.std())\n",
    "    \n",
    "plt.errorbar(percentiles, score_means, np.array(score_stds))\n",
    "plt.title(\"Performance of the SVM-Anova varying the percentile of features selected\")\n",
    "plt.xlabel('Percentile')\n",
    "plt.ylabel('Prediction rate')\n",
    "\n",
    "plt.axis('tight')\n",
    "plt.show()"
   ]
  },
  {
   "cell_type": "code",
   "execution_count": null,
   "metadata": {
    "collapsed": true
   },
   "outputs": [],
   "source": []
  }
 ],
 "metadata": {
  "kernelspec": {
   "display_name": "Python 3",
   "language": "python",
   "name": "python3"
  },
  "language_info": {
   "codemirror_mode": {
    "name": "ipython",
    "version": 3
   },
   "file_extension": ".py",
   "mimetype": "text/x-python",
   "name": "python",
   "nbconvert_exporter": "python",
   "pygments_lexer": "ipython3",
   "version": "3.5.1"
  }
 },
 "nbformat": 4,
 "nbformat_minor": 0
}
