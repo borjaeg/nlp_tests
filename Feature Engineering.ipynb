{
 "cells": [
  {
   "cell_type": "markdown",
   "metadata": {},
   "source": [
    "# Feature Engineering\n",
    "The goals of a good feature are to simultaneously vary with what matters and be invariant with what doesn't. It is necessary to use background knowledge to design good features. Luckily, for many problems domains, there is already a vast literature of possible features and feature-types."
   ]
  },
  {
   "cell_type": "markdown",
   "metadata": {},
   "source": [
    "## Natural Language Processing\n",
    "### Contextual Features\n",
    "#### n-grams\n",
    "Exploit context by using sequences of n words intead of single words. A litle context improves performance: bigrams are usually better than unigrams. Usually no gain for n > 3.\n",
    "#### position information\n",
    "\n",
    "### Linguistic features\n",
    "#### Stemming\n",
    "It helps to represent terms that occur in different morphological variants. Remove inflections that convey parts of speech, tense and number: increase recall by decreasing precision. Sometimes is too agresive. It can be a good idea to use it with n-grams because the latter increase precision. \n",
    "Stemming + N-gram == Noun phrase extraction?\n",
    "Techniques:\n",
    "* Morphological analysis: Porter's algorithm, fast but low quality\n",
    "* Dictionary Lookup: WordNet: slow, but more powerful.\n",
    "\n",
    "#### Lemmatization\n",
    "#### Noun phrases\n",
    "N-grams can be improved. It can be used with part-of-speech (lexical category) to find noun phrases. Noun phrases \n",
    "### Structural features\n",
    "#### Structural Markups\n",
    "#### Hypertext\n",
    "### Feature Subset Selection\n",
    "Using each word as a feature results in thousands of features. Many of them are irrelevant and redundant, and therefore can cause overfitting. Moreover removing them can increase efficiency.\n",
    "#### Unsupervised FSS\n",
    "##### Using Domain Knowledge\n",
    "Some features may be known to be irrelevant or redundant.\n",
    "##### Random Sampling\n",
    "Select a random sample of the feature can be appropriate in the case of many weakly relevant features and in connection with ensemble methods.\n",
    "##### Frequency-based\n",
    "Most frequent features may be bad, they usually are numbers and stop words. However, too much pruning may hurts.\n",
    "* Fixed Number: keep n most frequent words\n",
    "* Thresholding: keep all words that occur at least k times\n",
    "* TF-IDF\n",
    "\n",
    "#### Supervised FSS\n",
    "##### Filter approaches\n",
    "Compute some measure for estimating the ability to discriminate between classes. Typically it consists in computing a **feature weight** and select the best n features. Problems can arise becasue of **redundant features** that will have similar weights and **dependant features**, features with low weights because they are consider alone. A good feature should **discriminate documents of different classes**.\n",
    "###### Discrimination measures\n",
    "* Information Gain\n",
    "* Log-odds ration\n",
    "* The chi-square test\n",
    "##### Wrapper approaches\n",
    "They consist in searching through the space of all possible feature subsets. Each search subset is tried with the learning algorithm. It can be very **inefficient**: many learning cycles necessary.\n",
    "###### Forward selection\n",
    "Simple search heuristic: Keep adding one feature at every step util classifier's accuracy ceases to improve.\n",
    "###### Backward selection\n",
    "\n",
    "    1. Start with full feature set F\n",
    "    2. Try to remove algorithms\n",
    "\n",
    "#### Machine Learning methods\n",
    "### Feature Construction\n",
    "### Latent Semantic Indexing\n",
    "### Stop Lists\n",
    "#### Removal of frequently occurring words\n",
    "This words occur in all documents and are statistically irrelevant.\n",
    "\n",
    "**Problems**\n",
    "* Different meanings\n",
    "* Important in phrases\n",
    "* Polysemous words -> Poor precision\n"
   ]
  },
  {
   "cell_type": "code",
   "execution_count": 1,
   "metadata": {
    "collapsed": true
   },
   "outputs": [],
   "source": [
    "%matplotlib inline"
   ]
  },
  {
   "cell_type": "code",
   "execution_count": 6,
   "metadata": {
    "collapsed": false
   },
   "outputs": [],
   "source": [
    "from sklearn.svm import SVC\n",
    "from sklearn.datasets import load_digits\n",
    "from sklearn.feature_selection import RFE\n",
    "import matplotlib.pyplot as plt\n",
    "\n",
    "digits = load_digits()\n",
    "X = digits.images.reshape((len(digits.images), -1))\n",
    "y = digits.target\n",
    "\n",
    "# Create the RFE object and rank each pixel\n",
    "svc = SVC(kernel=\"linear\", C = 1)\n",
    "rfe = RFE(estimator=svc, n_features_to_select = 1, step = 1)\n",
    "rfe.fit(X,y)\n",
    "ranking = rfe.ranking_.reshape(digits.images[0].shape)"
   ]
  },
  {
   "cell_type": "code",
   "execution_count": 14,
   "metadata": {
    "collapsed": false
   },
   "outputs": [
    {
     "data": {
      "text/plain": [
       "<matplotlib.text.Text at 0x10a3c9550>"
      ]
     },
     "execution_count": 14,
     "metadata": {},
     "output_type": "execute_result"
    },
    {
     "data": {
      "image/png": "[encoded data removed]",
      "text/plain": [
       "<matplotlib.figure.Figure at 0x10a3fd250>"
      ]
     },
     "metadata": {},
     "output_type": "display_data"
    }
   ],
   "source": [
    "plt.matshow(ranking)\n",
    "plt.colorbar()\n",
    "plt.title(\"Ranking of pixels with RFE\")"
   ]
  },
  {
   "cell_type": "markdown",
   "metadata": {
    "collapsed": true
   },
   "source": [
    "## Recursive feature elimination with cross-validation"
   ]
  },
  {
   "cell_type": "code",
   "execution_count": 5,
   "metadata": {
    "collapsed": true
   },
   "outputs": [],
   "source": [
    "from sklearn.svm import SVC\n",
    "from sklearn.cross_validation import StratifiedKFold\n",
    "from sklearn.feature_selection import RFECV\n",
    "from sklearn.datasets import make_classification\n",
    "import matplotlib.pyplot as plt"
   ]
  },
  {
   "cell_type": "code",
   "execution_count": 6,
   "metadata": {
    "collapsed": false
   },
   "outputs": [
    {
     "name": "stdout",
     "output_type": "stream",
     "text": [
      "Optimal number of features: 3\n"
     ]
    },
    {
     "data": {
      "text/plain": [
       "[<matplotlib.lines.Line2D at 0x1083c5650>]"
      ]
     },
     "execution_count": 6,
     "metadata": {},
     "output_type": "execute_result"
    },
    {
     "data": {
      "image/png": "[encoded data removed]",
      "text/plain": [
       "<matplotlib.figure.Figure at 0x1082439d0>"
      ]
     },
     "metadata": {},
     "output_type": "display_data"
    }
   ],
   "source": [
    "X, y = make_classification(n_samples=1000, n_features=25, n_informative=3,\n",
    "                          n_redundant = 2, n_repeated = 0, n_classes = 8,\n",
    "                          n_clusters_per_class = 1, random_state = 0)\n",
    "\n",
    "svc = SVC(kernel='linear')\n",
    "rfecv = RFECV(estimator=svc, step=1, cv=StratifiedKFold(y,2), scoring='accuracy')\n",
    "rfecv.fit(X,y)\n",
    "print(\"Optimal number of features: %d\" % rfecv.n_features_)\n",
    "\n",
    "plt.figure()\n",
    "plt.xlabel(\"Number of features selected\")\n",
    "plt.ylabel(\"Cross validation score (number of correct classifications)\")\n",
    "plt.plot(range(1, len(rfecv.grid_scores_) +1), rfecv.grid_scores_)"
   ]
  },
  {
   "cell_type": "code",
   "execution_count": null,
   "metadata": {
    "collapsed": true
   },
   "outputs": [],
   "source": []
  }
 ],
 "metadata": {
  "kernelspec": {
   "display_name": "Python 2",
   "language": "python",
   "name": "python2"
  },
  "language_info": {
   "codemirror_mode": {
    "name": "ipython",
    "version": 2
   },
   "file_extension": ".py",
   "mimetype": "text/x-python",
   "name": "python",
   "nbconvert_exporter": "python",
   "pygments_lexer": "ipython2",
   "version": "2.7.10"
  }
 },
 "nbformat": 4,
 "nbformat_minor": 0
}
