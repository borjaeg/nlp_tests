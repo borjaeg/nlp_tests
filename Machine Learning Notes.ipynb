{
 "cells": [
  {
   "cell_type": "markdown",
   "metadata": {},
   "source": [
    "# Machine Learning Notes"
   ]
  },
  {
   "cell_type": "markdown",
   "metadata": {},
   "source": [
    "In the age of modern technology, there is one resource in aboundance: a large amount of structured and unstructured data. Machine leanring is a subfield of **artificial intelligence** that involved the development of self-learning algorithms to gain knowledge from the data to make predictions. Instead of requiring humans to manually derive rules and build models, machine learning offers a more efficient alternative for capturing the knowledge in data to gradually improve the performance of predictive models. Some examples are spam filters, voice recognition, search engines, and maybe soon, efficient self-driving cars."
   ]
  },
  {
   "cell_type": "markdown",
   "metadata": {},
   "source": [
    "## Supervised Learning\n",
    "The main goal is to learn from **labeled training data** that allows us to make prediction about unseen or future data. For example an **spam filtering** could be trained with labeled e-mails. There are two types of supervised learning:\n",
    "* Classificaiton\n",
    "* Regression"
   ]
  },
  {
   "cell_type": "markdown",
   "metadata": {},
   "source": [
    "### Classification\n",
    "It is a subcategory of supervised learning where the goal is to predict the categorical class of the new instances based on past observations. Those class labels are discrete that can be understood as the group memberships of the instances. Spam classificaiton is an example of **binary classification** task, where the machine learning algorithm learns a set of rules in order to distinguish between two possible classes. However, there are also **multi-class** classification tasks such as handwritten character recognition."
   ]
  },
  {
   "cell_type": "markdown",
   "metadata": {},
   "source": [
    "### Regression"
   ]
  },
  {
   "cell_type": "markdown",
   "metadata": {},
   "source": [
    "### Reinforcement Learning\n",
    "\n",
    "The goal is to develop a system that improves its perfomance based on interaction with the environment. Since the information about the current state of the environment typically also includes a so-called **reward** signal, we can think of reinforcement learning as a field related to **supervised learning**. However, in reinforcement learing this feedback is not the correct truth label or value, but a measure of how well the action was measured by a reaward function."
   ]
  },
  {
   "cell_type": "markdown",
   "metadata": {},
   "source": [
    "### Selecting a predictive model\n",
    "\n",
    "Each classification algorithm hast its inherit biases, and no single classificaiton model enjoys superiority if we don't make any assumptions about the task. In practice, it is therefore essential to comparesome different algorithms and select the best performing model. "
   ]
  }
 ],
 "metadata": {
  "kernelspec": {
   "display_name": "Python 2",
   "language": "python",
   "name": "python2"
  },
  "language_info": {
   "codemirror_mode": {
    "name": "ipython",
    "version": 2
   },
   "file_extension": ".py",
   "mimetype": "text/x-python",
   "name": "python",
   "nbconvert_exporter": "python",
   "pygments_lexer": "ipython2",
   "version": "2.7.10"
  }
 },
 "nbformat": 4,
 "nbformat_minor": 0
}
