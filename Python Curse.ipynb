{
 "metadata": {
  "name": "",
  "signature": "sha256:739e7d5d3f4bdca82db86d120f33a874b8cc59e4114243566888dfcdd79c28ef"
 },
 "nbformat": 3,
 "nbformat_minor": 0,
 "worksheets": [
  {
   "cells": [
    {
     "cell_type": "code",
     "collapsed": false,
     "input": [
      "# urllib2 is used to download the html content of the web link\n",
      "import urllib2\n",
      "\n",
      "response = urllib2.urlopen('http://python.org/')\n",
      "# It's possible to read the entire content of a file using read() method\n",
      "html = response.read()\n",
      "print len(html)"
     ],
     "language": "python",
     "metadata": {},
     "outputs": [
      {
       "output_type": "stream",
       "stream": "stdout",
       "text": [
        "47161\n"
       ]
      }
     ],
     "prompt_number": 2
    },
    {
     "cell_type": "code",
     "collapsed": false,
     "input": [
      "# Regular expression based split the string\n",
      "tokens = [tok for tok in html.split()]\n",
      "print \"Total number of tokens: \" + str(len(tokens))\n",
      "\n",
      "#First 100 tokens\n",
      "print tokens[0:1000]"
     ],
     "language": "python",
     "metadata": {},
     "outputs": [
      {
       "output_type": "stream",
       "stream": "stdout",
       "text": [
        "Total number of tokens: 2866\n",
        "['<!doctype', 'html>', '<!--[if', 'lt', 'IE', '7]>', '<html', 'class=\"no-js', 'ie6', 'lt-ie7', 'lt-ie8', 'lt-ie9\">', '<![endif]-->', '<!--[if', 'IE', '7]>', '<html', 'class=\"no-js', 'ie7', 'lt-ie8', 'lt-ie9\">', '<![endif]-->', '<!--[if', 'IE', '8]>', '<html', 'class=\"no-js', 'ie8', 'lt-ie9\">', '<![endif]-->', '<!--[if', 'gt', 'IE', '8]><!--><html', 'class=\"no-js\"', 'lang=\"en\"', 'dir=\"ltr\">', '<!--<![endif]-->', '<head>', '<meta', 'charset=\"utf-8\">', '<meta', 'http-equiv=\"X-UA-Compatible\"', 'content=\"IE=edge\">', '<link', 'rel=\"prefetch\"', 'href=\"//ajax.googleapis.com/ajax/libs/jquery/1.8.2/jquery.min.js\">', '<meta', 'name=\"application-name\"', 'content=\"Python.org\">', '<meta', 'name=\"msapplication-tooltip\"', 'content=\"The', 'official', 'home', 'of', 'the', 'Python', 'Programming', 'Language\">', '<meta', 'name=\"apple-mobile-web-app-title\"', 'content=\"Python.org\">', '<meta', 'name=\"apple-mobile-web-app-capable\"', 'content=\"yes\">', '<meta', 'name=\"apple-mobile-web-app-status-bar-style\"', 'content=\"black\">', '<meta', 'name=\"viewport\"', 'content=\"width=device-width,', 'initial-scale=1.0\">', '<meta', 'name=\"HandheldFriendly\"', 'content=\"True\">', '<meta', 'name=\"format-detection\"', 'content=\"telephone=no\">', '<meta', 'http-equiv=\"cleartype\"', 'content=\"on\">', '<meta', 'http-equiv=\"imagetoolbar\"', 'content=\"false\">', '<script', 'src=\"/static/js/libs/modernizr.js\"></script>', '<link', 'href=\"/static/stylesheets/style.css\"', 'rel=\"stylesheet\"', 'type=\"text/css\"', 'title=\"default\"', '/>', '<link', 'href=\"/static/stylesheets/mq.css\"', 'rel=\"stylesheet\"', 'type=\"text/css\"', 'media=\"not', 'print,', 'braille,', 'embossed,', 'speech,', 'tty\"', '/>', '<!--[if', '(lte', 'IE', '8)&(!IEMobile)]>', '<link', 'href=\"/static/stylesheets/no-mq.css\"', 'rel=\"stylesheet\"', 'type=\"text/css\"', 'media=\"screen\"', '/>', '<![endif]-->', '<link', 'rel=\"icon\"', 'type=\"image/x-icon\"', 'href=\"/static/favicon.ico\">', '<link', 'rel=\"apple-touch-icon-precomposed\"', 'sizes=\"144x144\"', 'href=\"/static/apple-touch-icon-144x144-precomposed.png\">', '<link', 'rel=\"apple-touch-icon-precomposed\"', 'sizes=\"114x114\"', 'href=\"/static/apple-touch-icon-114x114-precomposed.png\">', '<link', 'rel=\"apple-touch-icon-precomposed\"', 'sizes=\"72x72\"', 'href=\"/static/apple-touch-icon-72x72-precomposed.png\">', '<link', 'rel=\"apple-touch-icon-precomposed\"', 'href=\"/static/apple-touch-icon-precomposed.png\">', '<link', 'rel=\"apple-touch-icon\"', 'href=\"/static/apple-touch-icon-precomposed.png\">', '<meta', 'name=\"msapplication-TileImage\"', 'content=\"/static/metro-icon-144x144-precomposed.png\"><!--', 'white', 'shape', '-->', '<meta', 'name=\"msapplication-TileColor\"', 'content=\"#3673a5\"><!--', 'python', 'blue', '-->', '<meta', 'name=\"msapplication-navbutton-color\"', 'content=\"#3673a5\">', '<meta', 'property=\"og:site_name\"', 'content=\"Python.org\">', '<meta', 'property=\"og:type\"', 'content=\"website\">', '<title>Welcome', 'to', 'Python.org</title>', '<meta', 'property=\"og:title\"', 'content=\"Welcome', 'to', 'Python.org\">', '<meta', 'name=\"description\"', 'content=\"The', 'official', 'home', 'of', 'the', 'Python', 'Programming', 'Language\">', '<meta', 'name=\"og:description\"', 'content=\"The', 'official', 'home', 'of', 'the', 'Python', 'Programming', 'Language\">', '<meta', 'name=\"keywords\"', 'content=\"Python', 'programming', 'language', 'object', 'oriented', 'web', 'free', 'open', 'source', 'software', 'license', 'documentation', 'download', 'community\">', '<meta', 'property=\"og:tag\"', 'content=\"Python', 'programming', 'language', 'object', 'oriented', 'web', 'free', 'open', 'source', 'software', 'license', 'documentation', 'download', 'community\">', '<meta', 'property=\"og:published_time\"', 'content=\"\">', '<meta', 'property=\"og:modified_time\"', 'content=\"\">', '<meta', 'property=\"og:author\"', 'content=\"\">', '<meta', 'property=\"og:section\"', 'content=\"\">', '<meta', 'property=\"og:url\"', 'content=\"\">', '<meta', 'property=\"og:image\"', 'content=\"\">', '<meta', 'property=\"og:video\"', 'content=\"\">', '<link', 'rel=\"author\"', 'href=\"/static/humans.txt\">', '<script', 'type=\"application/ld+json\">', '{', '\"@context\":', '\"http://schema.org\",', '\"@type\":', '\"WebSite\",', '\"url\":', '\"https://www.python.org/\",', '\"potentialAction\":', '{', '\"@type\":', '\"SearchAction\",', '\"target\":', '\"https://www.python.org/search/?q={search_term_string}\",', '\"query-input\":', '\"required', 'name=search_term_string\"', '}', '}', '</script>', '<script', 'type=\"text/javascript\">', 'var', '_gaq', '=', '_gaq', '||', '[];', \"_gaq.push(['_setAccount',\", \"'UA-39055973-1']);\", \"_gaq.push(['_trackPageview']);\", '(function()', '{', 'var', 'ga', '=', \"document.createElement('script');\", 'ga.type', '=', \"'text/javascript';\", 'ga.async', '=', 'true;', 'ga.src', '=', \"('https:'\", '==', 'document.location.protocol', '?', \"'https://ssl'\", ':', \"'http://www')\", '+', \"'.google-analytics.com/ga.js';\", 'var', 's', '=', \"document.getElementsByTagName('script')[0];\", 's.parentNode.insertBefore(ga,', 's);', '})();', '</script>', '</head>', '<body', 'class=\"python', 'home\"', 'id=\"homepage\">', '<div', 'id=\"touchnav-wrapper\">', '<div', 'id=\"nojs\"', 'class=\"do-not-print\">', '<p><strong>Notice:</strong>', 'While', 'Javascript', 'is', 'not', 'essential', 'for', 'this', 'website,', 'your', 'interaction', 'with', 'the', 'content', 'will', 'be', 'limited.', 'Please', 'turn', 'Javascript', 'on', 'for', 'the', 'full', 'experience.', '</p>', '</div>', '<!--[if', 'lt', 'IE', '8]>', '<div', 'id=\"oldie-warning\"', 'class=\"do-not-print\">', '<p><strong>Notice:</strong>', 'Your', 'browser', 'is', '<em>ancient</em>', 'and', '<a', 'href=\"http://www.ie6countdown.com/\">Microsoft', 'agrees</a>.', '<a', 'href=\"http://browsehappy.com/\">Upgrade', 'to', 'a', 'different', 'browser</a>', 'or', '<a', 'href=\"http://www.google.com/chromeframe/?redirect=true\">install', 'Google', 'Chrome', 'Frame</a>', 'to', 'experience', 'a', 'better', 'web.</p>', '</div>', '<![endif]-->', '<!--', 'Sister', 'Site', 'Links', '-->', '<div', 'id=\"top\"', 'class=\"top-bar', 'do-not-print\">', '<nav', 'class=\"meta-navigation', 'container\"', 'role=\"navigation\">', '<div', 'class=\"skip-link', 'screen-reader-text\">', '<a', 'href=\"#content\"', 'title=\"Skip', 'to', 'content\">Skip', 'to', 'content</a>', '</div>', '<a', 'id=\"close-python-network\"', 'class=\"jump-link\"', 'href=\"#python-network\"', 'aria-hidden=\"true\">', '<span', 'aria-hidden=\"true\"', 'class=\"icon-arrow-down\"><span>&#9660;</span></span>', 'Close', '</a>', '<ul', 'class=\"menu\"', 'role=\"tree\">', '<li', 'class=\"python-meta', 'current_item', 'selectedcurrent_branch', 'selected\">', '<a', 'href=\"/\"', 'title=\"The', 'Python', 'Programming', 'Language\"', 'class=\"current_item', 'selectedcurrent_branch', 'selected\">Python</a>', '</li>', '<li', 'class=\"psf-meta', '\">', '<a', 'href=\"/psf-landing/\"', 'title=\"The', 'Python', 'Software', 'Foundation\"', '>PSF</a>', '</li>', '<li', 'class=\"docs-meta', '\">', '<a', 'href=\"https://docs.python.org\"', 'title=\"Python', 'Documentation\"', '>Docs</a>', '</li>', '<li', 'class=\"pypi-meta', '\">', '<a', 'href=\"https://pypi.python.org/\"', 'title=\"Python', 'Package', 'Index\"', '>PyPI</a>', '</li>', '<li', 'class=\"jobs-meta', '\">', '<a', 'href=\"/jobs/\"', 'title=\"Python', 'Job', 'Board\"', '>Jobs</a>', '</li>', '<li', 'class=\"shop-meta', '\">', '<a', 'href=\"/community/\"', 'title=\"Python', 'Community\"', '>Community</a>', '</li>', '</ul>', '<a', 'id=\"python-network\"', 'class=\"jump-link\"', 'href=\"#top\"', 'aria-hidden=\"true\">', '<span', 'aria-hidden=\"true\"', 'class=\"icon-arrow-up\"><span>&#9650;</span></span>', 'The', 'Python', 'Network', '</a>', '</nav>', '</div>', '<!--', 'Header', 'elements', '-->', '<header', 'class=\"main-header\"', 'role=\"banner\">', '<div', 'class=\"container\">', '<h1', 'class=\"site-headline\">', '<a', 'href=\"/\"><img', 'class=\"python-logo\"', 'src=\"/static/img/python-logo.png\"', 'alt=\"python&trade;\"></a>', '</h1>', '<div', 'class=\"options-bar', 'do-not-print\">', '<a', 'id=\"site-map-link\"', 'class=\"jump-to-menu\"', 'href=\"#site-map\"><span', 'class=\"menu-icon\">&equiv;</span>', 'Menu</a><form', 'class=\"search-the-site\"', 'action=\"/search/\"', 'method=\"get\">', '<fieldset', 'title=\"Search', 'Python.org\">', '<span', 'aria-hidden=\"true\"', 'class=\"icon-search\"></span>', '<label', 'class=\"screen-reader-text\"', 'for=\"id-search-field\">Search', 'This', 'Site</label>', '<input', 'id=\"id-search-field\"', 'name=\"q\"', 'type=\"search\"', 'role=\"textbox\"', 'class=\"search-field\"', 'placeholder=\"Search\"', 'value=\"\"', 'tabindex=\"1\">', '<button', 'type=\"submit\"', 'name=\"submit\"', 'id=\"submit\"', 'class=\"search-button\"', 'title=\"Submit', 'this', 'Search\"', 'tabindex=\"3\">', 'GO', '</button>', '<!--[if', 'IE]><input', 'type=\"text\"', 'style=\"display:', 'none;\"', 'disabled=\"disabled\"', 'size=\"1\"', 'tabindex=\"4\"><![endif]-->', '</fieldset>', '</form><span', 'class=\"breaker\"></span><div', 'class=\"adjust-font-size\"', 'aria-hidden=\"true\">', '<ul', 'class=\"navigation', 'menu\"', 'aria-label=\"Adjust', 'Text', 'Size', 'on', 'Page\">', '<li', 'class=\"tier-1', 'last\"', 'aria-haspopup=\"true\">', '<a', 'href=\"#\"', 'class=\"action-trigger\"><strong><small>A</small>', 'A</strong></a>', '<ul', 'class=\"subnav', 'menu\">', '<li', 'class=\"tier-2', 'element-1\"', 'role=\"treeitem\"><a', 'class=\"text-shrink\"', 'title=\"Make', 'Text', 'Smaller\"', 'href=\"javascript:;\">Smaller</a></li>', '<li', 'class=\"tier-2', 'element-2\"', 'role=\"treeitem\"><a', 'class=\"text-grow\"', 'title=\"Make', 'Text', 'Larger\"', 'href=\"javascript:;\">Larger</a></li>', '<li', 'class=\"tier-2', 'element-3\"', 'role=\"treeitem\"><a', 'class=\"text-reset\"', 'title=\"Reset', 'any', 'font', 'size', 'changes', 'I', 'have', 'made\"', 'href=\"javascript:;\">Reset</a></li>', '</ul>', '</li>', '</ul>', '</div><div', 'class=\"winkwink-nudgenudge\">', '<ul', 'class=\"navigation', 'menu\"', 'aria-label=\"Social', 'Media', 'Navigation\">', '<li', 'class=\"tier-1', 'last\"', 'aria-haspopup=\"true\">', '<a', 'href=\"#\"', 'class=\"action-trigger\">Socialize</a>', '<ul', 'class=\"subnav', 'menu\">', '<li', 'class=\"tier-2', 'element-1\"', 'role=\"treeitem\"><a', 'href=\"http://plus.google.com/+Python\"><span', 'aria-hidden=\"true\"', 'class=\"icon-google-plus\"></span>Google+</a></li>', '<li', 'class=\"tier-2', 'element-2\"', 'role=\"treeitem\"><a', 'href=\"http://www.facebook.com/pythonlang?fref=ts\"><span', 'aria-hidden=\"true\"', 'class=\"icon-facebook\"></span>Facebook</a></li>', '<li', 'class=\"tier-2', 'element-3\"', 'role=\"treeitem\"><a', 'href=\"http://twitter.com/ThePSF\"><span', 'aria-hidden=\"true\"', 'class=\"icon-twitter\"></span>Twitter</a></li>', '<li', 'class=\"tier-2', 'element-4\"', 'role=\"treeitem\"><a', 'href=\"/community/irc/\"><span', 'aria-hidden=\"true\"', 'class=\"icon-freenode\"></span>Chat', 'on', 'IRC</a></li>', '</ul>', '</li>', '</ul>', '</div><div', 'class=\"account-signin\">', '<ul', 'class=\"navigation', 'menu\"', 'aria-label=\"Social', 'Media', 'Navigation\">', '<li', 'class=\"tier-1', 'last\"', 'aria-haspopup=\"true\">', '<a', 'href=\"/accounts/login/\"', 'title=\"Sign', 'Up', 'or', 'Sign', 'In', 'to', 'Python.org\">Sign', 'In</a>', '<ul', 'class=\"subnav', 'menu\">', '<li', 'class=\"tier-2', 'element-1\"', 'role=\"treeitem\"><a', 'href=\"/accounts/signup/\">Sign', 'Up', '/', 'Register</a></li>', '<li', 'class=\"tier-2', 'element-2\"', 'role=\"treeitem\"><a', 'href=\"/accounts/login/\">Sign', 'In</a></li>', '</ul>', '</li>', '</ul>', '</div>', '</div><!--', 'end', 'options-bar', '-->', '<nav', 'id=\"mainnav\"', 'class=\"python-navigation', 'main-navigation', 'do-not-print\"', 'role=\"navigation\">', '<ul', 'class=\"navigation', 'menu\"', 'role=\"menubar\"', 'aria-label=\"Main', 'Navigation\">', '<li', 'id=\"about\"', 'class=\"tier-1', 'element-1', '\"', 'aria-haspopup=\"true\">', '<a', 'href=\"/about/\"', 'title=\"\"', 'class=\"\">About</a>', '<ul', 'class=\"subnav', 'menu\"', 'role=\"menu\"', 'aria-hidden=\"true\">', '<li', 'class=\"tier-2', 'element-1\"', 'role=\"treeitem\"><a', 'href=\"/about/apps/\"', 'title=\"\">Applications</a></li>', '<li', 'class=\"tier-2', 'element-2\"', 'role=\"treeitem\"><a', 'href=\"/about/quotes/\"', 'title=\"\">Quotes</a></li>', '<li', 'class=\"tier-2', 'element-3\"', 'role=\"treeitem\"><a', 'href=\"/about/gettingstarted/\"', 'title=\"\">Getting', 'Started</a></li>', '<li', 'class=\"tier-2', 'element-4\"', 'role=\"treeitem\"><a', 'href=\"/about/help/\"', 'title=\"\">Help</a></li>', '</ul>', '</li>', '<li', 'id=\"downloads\"', 'class=\"tier-1', 'element-2', '\"', 'aria-haspopup=\"true\">', '<a', 'href=\"/downloads/\"', 'title=\"\"', 'class=\"\">Downloads</a>', '<ul', 'class=\"subnav', 'menu\"', 'role=\"menu\"', 'aria-hidden=\"true\">', '<li', 'class=\"tier-2', 'element-1\"', 'role=\"treeitem\"><a', 'href=\"/downloads/\"', 'title=\"\">All', 'releases</a></li>', '<li', 'class=\"tier-2', 'element-2\"', 'role=\"treeitem\"><a', 'href=\"/downloads/source/\"', 'title=\"\">Source', 'code</a></li>', '<li', 'class=\"tier-2', 'element-3\"', 'role=\"treeitem\"><a', 'href=\"/downloads/windows/\"', 'title=\"\">Windows</a></li>', '<li', 'class=\"tier-2', 'element-4\"', 'role=\"treeitem\"><a', 'href=\"/downloads/mac-osx/\"', 'title=\"\">Mac', 'OS', 'X</a></li>', '<li', 'class=\"tier-2', 'element-5\"', 'role=\"treeitem\"><a', 'href=\"/download/other/\"', 'title=\"\">Other', 'Platforms</a></li>', '<li', 'class=\"tier-2', 'element-6\"', 'role=\"treeitem\"><a', 'href=\"https://docs.python.org/3/license.html\"', 'title=\"\">License</a></li>', '<li', 'class=\"tier-2', 'element-7\"', 'role=\"treeitem\"><a', 'href=\"/download/alternatives\"', 'title=\"\">Alternative', 'Implementations</a></li>', '</ul>', '</li>', '<li', 'id=\"documentation\"', 'class=\"tier-1', 'element-3', '\"', 'aria-haspopup=\"true\">', '<a', 'href=\"/doc/\"', 'title=\"\"', 'class=\"\">Documentation</a>', '<ul', 'class=\"subnav', 'menu\"', 'role=\"menu\"', 'aria-hidden=\"true\">', '<li', 'class=\"tier-2', 'element-1\"', 'role=\"treeitem\"><a', 'href=\"/doc/\"', 'title=\"\">Docs</a></li>', '<li', 'class=\"tier-2', 'element-2\"', 'role=\"treeitem\"><a', 'href=\"/doc/av\"', 'title=\"\">Audio/Visual', 'Talks</a></li>', '<li', 'class=\"tier-2', 'element-3\"', 'role=\"treeitem\"><a', 'href=\"https://wiki.python.org/moin/BeginnersGuide\"', 'title=\"\">Beginner&#39;s', 'Guide</a></li>', '<li', 'class=\"tier-2', 'element-4\"', 'role=\"treeitem\"><a', 'href=\"https://docs.python.org/devguide/\"', 'title=\"\">Developer&#39;s', 'Guide</a></li>', '<li', 'class=\"tier-2', 'element-5\"', 'role=\"treeitem\"><a', 'href=\"https://docs.python.org/faq/\"', 'title=\"\">FAQ</a></li>', '<li', 'class=\"tier-2', 'element-6\"', 'role=\"treeitem\"><a', 'href=\"http://wiki.python.org/moin/Languages\"', 'title=\"\">Non-English', 'Docs</a></li>', '<li', 'class=\"tier-2', 'element-7\"', 'role=\"treeitem\"><a', 'href=\"http://python.org/dev/peps/\"', 'title=\"\">PEP', 'Index</a></li>', '<li', 'class=\"tier-2', 'element-8\"', 'role=\"treeitem\"><a', 'href=\"https://wiki.python.org/moin/PythonBooks\"', 'title=\"\">Python', 'Books</a></li>', '</ul>', '</li>', '<li', 'id=\"community\"', 'class=\"tier-1', 'element-4', '\"', 'aria-haspopup=\"true\">', '<a', 'href=\"/community/\"', 'title=\"\"', 'class=\"\">Community</a>', '<ul', 'class=\"subnav', 'menu\"', 'role=\"menu\"', 'aria-hidden=\"true\">', '<li', 'class=\"tier-2', 'element-1\"', 'role=\"treeitem\"><a', 'href=\"/community/diversity/\"', 'title=\"\">Diversity</a></li>', '<li', 'class=\"tier-2', 'element-2\"', 'role=\"treeitem\"><a', 'href=\"/community/irc/\"', 'title=\"\">IRC</a></li>', '<li', 'class=\"tier-2', 'element-3\"', 'role=\"treeitem\"><a', 'href=\"/community/lists/\"', 'title=\"\">Mailing', 'Lists</a></li>', '<li', 'class=\"tier-2', 'element-4\"', 'role=\"treeitem\"><a', 'href=\"/community/workshops/\"', 'title=\"\">Python', 'Conferences</a></li>', '<li', 'class=\"tier-2', 'element-5\"', 'role=\"treeitem\"><a', 'href=\"/community/sigs/\"', 'title=\"\">Special', 'Interest', 'Groups</a></li>', '<li', 'class=\"tier-2', 'element-6\"', 'role=\"treeitem\"><a', 'href=\"https://wiki.python.org/moin/\"', 'title=\"\">Python', 'Wiki</a></li>', '<li', 'class=\"tier-2', 'element-7\"', 'role=\"treeitem\"><a', 'href=\"/community/logos/\"', 'title=\"\">Python', 'Logo</a></li>', '<li', 'class=\"tier-2', 'element-8\"', 'role=\"treeitem\"><a', 'href=\"/community/merchandise/\"', 'title=\"\">Merchandise</a></li>', '<li', 'class=\"tier-2', 'element-9\"', 'role=\"treeitem\"><a', 'href=\"/community/awards\"', 'title=\"\">Community', 'Awards</a></li>', '</ul>', '</li>', '<li', 'id=\"success-stories\"', 'class=\"tier-1', 'element-5', '\"', 'aria-haspopup=\"true\">', '<a', 'href=\"/about/success/\"', 'title=\"success-stories\"', 'class=\"\">Success', 'Stories</a>', '<ul', 'class=\"subnav', 'menu\"']\n"
       ]
      }
     ],
     "prompt_number": 3
    },
    {
     "cell_type": "markdown",
     "metadata": {},
     "source": [
      "As we can see, there is an excess of html tags and other unwanted characters when we use the preceding method"
     ]
    },
    {
     "cell_type": "code",
     "collapsed": false,
     "input": [
      "import re\n",
      "\n",
      "tokens = re.split('\\W+', html)\n",
      "\n",
      "print len(tokens)\n",
      "print tokens[0:100]"
     ],
     "language": "python",
     "metadata": {},
     "outputs": [
      {
       "output_type": "stream",
       "stream": "stdout",
       "text": [
        "5979\n",
        "['', 'doctype', 'html', 'if', 'lt', 'IE', '7', 'html', 'class', 'no', 'js', 'ie6', 'lt', 'ie7', 'lt', 'ie8', 'lt', 'ie9', 'endif', 'if', 'IE', '7', 'html', 'class', 'no', 'js', 'ie7', 'lt', 'ie8', 'lt', 'ie9', 'endif', 'if', 'IE', '8', 'html', 'class', 'no', 'js', 'ie8', 'lt', 'ie9', 'endif', 'if', 'gt', 'IE', '8', 'html', 'class', 'no', 'js', 'lang', 'en', 'dir', 'ltr', 'endif', 'head', 'meta', 'charset', 'utf', '8', 'meta', 'http', 'equiv', 'X', 'UA', 'Compatible', 'content', 'IE', 'edge', 'link', 'rel', 'prefetch', 'href', 'ajax', 'googleapis', 'com', 'ajax', 'libs', 'jquery', '1', '8', '2', 'jquery', 'min', 'js', 'meta', 'name', 'application', 'name', 'content', 'Python', 'org', 'meta', 'name', 'msapplication', 'tooltip', 'content', 'The', 'official']\n"
       ]
      }
     ],
     "prompt_number": 4
    },
    {
     "cell_type": "code",
     "collapsed": false,
     "input": [
      "import nltk\n",
      "\n",
      "clean = nltk.clean_html(html)\n",
      "\n",
      "tokens = [tok for tok in clean.split()]\n",
      "print tokens[:100]"
     ],
     "language": "python",
     "metadata": {},
     "outputs": [
      {
       "output_type": "stream",
       "stream": "stdout",
       "text": [
        "['Welcome', 'to', 'Python.org', 'Notice:', 'While', 'Javascript', 'is', 'not', 'essential', 'for', 'this', 'website,', 'your', 'interaction', 'with', 'the', 'content', 'will', 'be', 'limited.', 'Please', 'turn', 'Javascript', 'on', 'for', 'the', 'full', 'experience.', 'Skip', 'to', 'content', '&#9660;', 'Close', 'Python', 'PSF', 'Docs', 'PyPI', 'Jobs', 'Community', '&#9650;', 'The', 'Python', 'Network', '&equiv;', 'Menu', 'Search', 'This', 'Site', 'GO', 'A', 'A', 'Smaller', 'Larger', 'Reset', 'Socialize', 'Google+', 'Facebook', 'Twitter', 'Chat', 'on', 'IRC', 'Sign', 'In', 'Sign', 'Up', '/', 'Register', 'Sign', 'In', 'About', 'Applications', 'Quotes', 'Getting', 'Started', 'Help', 'Downloads', 'All', 'releases', 'Source', 'code', 'Windows', 'Mac', 'OS', 'X', 'Other', 'Platforms', 'License', 'Alternative', 'Implementations', 'Documentation', 'Docs', 'Audio/Visual', 'Talks', 'Beginner&#39;s', 'Guide', 'Developer&#39;s', 'Guide', 'FAQ', 'Non-English', 'Docs']\n"
       ]
      }
     ],
     "prompt_number": 5
    },
    {
     "cell_type": "code",
     "collapsed": false,
     "input": [
      "# Let's try frequency distribution of these terms\n",
      "import operator\n",
      "freq_dist = {}\n",
      "for tok in tokens:\n",
      "    if tok in freq_dist:\n",
      "        freq_dist[tok] +=1\n",
      "    else:\n",
      "        freq_dist[tok] = 1\n",
      "        \n",
      "# We want to sort this dictionary on values (freq in this case)\n",
      "sorted_freq_dist = sorted(freq_dist.items(), key = operator.itemgetter(1), reverse = True)\n",
      "print sorted_freq_dist[:25]"
     ],
     "language": "python",
     "metadata": {},
     "outputs": [
      {
       "output_type": "stream",
       "stream": "stdout",
       "text": [
        "[('Python', 52), ('>>>', 22), ('and', 21), ('is', 20), (',', 19), ('to', 17), ('the', 15), ('for', 15), ('a', 14), ('of', 13), ('Events', 11), ('News', 11), ('2015-', 10), ('More', 9), ('#', 9), ('3', 9), ('=', 8), ('in', 8), ('Community', 7), ('available', 7), ('...', 7), ('with', 7), ('Docs', 6), ('Software', 6), (':', 6)]\n"
       ]
      }
     ],
     "prompt_number": 6
    },
    {
     "cell_type": "code",
     "collapsed": false,
     "input": [
      "# A better and more efficient approach is to use NLTK's FreqDist function\n",
      "import nltk\n",
      "freq_dist_nltk = nltk.FreqDist(tokens)\n",
      "print freq_dist_nltk\n",
      "\n",
      "for k,v in freq_dist_nltk.items():\n",
      "    print str(k) + ':' + str(v)"
     ],
     "language": "python",
     "metadata": {},
     "outputs": [
      {
       "output_type": "stream",
       "stream": "stdout",
       "text": [
        "<FreqDist: 'Python': 52, '>>>': 22, 'and': 21, 'is': 20, ',': 19, 'to': 17, 'for': 15, 'the': 15, 'a': 14, 'of': 13, ...>\n",
        "Python:52\n",
        ">>>:22\n",
        "and:21\n",
        "is:20\n",
        ",:19\n",
        "to:17\n",
        "for:15\n",
        "the:15\n",
        "a:14\n",
        "of:13\n",
        "Events:11\n",
        "News:11\n",
        "2015-:10\n",
        "#:9\n",
        "3:9\n",
        "More:9\n",
        "=:8\n",
        "in:8\n",
        "...:7\n",
        "Community:7\n",
        "available:7\n",
        "with:7\n",
        "::6\n",
        "Docs:6\n",
        "Guide:6\n",
        "Software:6\n",
        "1:5\n",
        "The:5\n",
        "now:5\n",
        "product:5\n",
        "that:5\n",
        "/:4\n",
        "2015:4\n",
        "3::4\n",
        "Archive:4\n",
        "Development:4\n",
        "Group:4\n",
        "Lists:4\n",
        "PSF:4\n",
        "This:4\n",
        "User:4\n",
        "are:4\n",
        "code:4\n",
        "download.:4\n",
        "on:4\n",
        "other:4\n",
        "programming:4\n",
        "your:4\n",
        "&#9650;:3\n",
        "&amp;:3\n",
        "2:3\n",
        "3.5.0:3\n",
        "All:3\n",
        "Developer&#39;s:3\n",
        "Diversity:3\n",
        "Documentation:3\n",
        "Foundation:3\n",
        "Help:3\n",
        "IRC:3\n",
        "Learn:3\n",
        "OS:3\n",
        "PyCon:3\n",
        "Scientific:3\n",
        "Sign:3\n",
        "Started:3\n",
        "Stories:3\n",
        "Submit:3\n",
        "Success:3\n",
        "Windows:3\n",
        "about:3\n",
        "an:3\n",
        "be:3\n",
        "can:3\n",
        "control:3\n",
        "preview:3\n",
        "work:3\n",
        "&gt;&gt;&gt;:2\n",
        "&mdash;:2\n",
        "*:2\n",
        "-:2\n",
        ".:2\n",
        "17:2\n",
        "5:2\n",
        "8:2\n",
        "A:2\n",
        "About:2\n",
        "Alternative:2\n",
        "Applications:2\n",
        "Arts:2\n",
        "Audio/Visual:2\n",
        "Awards:2\n",
        "Back:2\n",
        "Beginner&#39;s:2\n",
        "Books:2\n",
        "Business:2\n",
        "Conferences:2\n",
        "Downloads:2\n",
        "Education:2\n",
        "Engineering:2\n",
        "Event:2\n",
        "FAQ:2\n",
        "Getting:2\n",
        "Government:2\n",
        "Groups:2\n",
        "I'm:2\n",
        "Implementations:2\n",
        "In:2\n",
        "Index:2\n",
        "Interest:2\n",
        "Javascript:2\n",
        "Jobs:2\n",
        "License:2\n",
        "List:2\n",
        "Logo:2\n",
        "Mac:2\n",
        "Mailing:2\n",
        "Merchandise:2\n",
        "Non-English:2\n",
        "Other:2\n",
        "PEP:2\n",
        "Platforms:2\n",
        "Python.:2\n",
        "Quotes:2\n",
        "Simple:2\n",
        "Source:2\n",
        "Special:2\n",
        "Talks:2\n",
        "Top:2\n",
        "Wiki:2\n",
        "X:2\n",
        "a,:2\n",
        "arguments,:2\n",
        "as:2\n",
        "b:2\n",
        "by:2\n",
        "content:2\n",
        "defining:2\n",
        "division:2\n",
        "easy:2\n",
        "flow:2\n",
        "functions:2\n",
        "functions.:2\n",
        "language:2\n",
        "list:2\n",
        "more:2\n",
        "number:2\n",
        "or:2\n",
        "our:2\n",
        "production:2\n",
        "releases:2\n",
        "simple:2\n",
        "syntax:2\n",
        "this:2\n",
        "up:2\n",
        "used:2\n",
        "while:2\n",
        "you're:2\n",
        "#1:1\n",
        "%:1\n",
        "%s.':1\n",
        "&#9660;:1\n",
        "&copy;2001-2015.:1\n",
        "&equiv;:1\n",
        "&gt;_:1\n",
        "&lt;:1\n",
        "'):1\n",
        "'APPLE',:1\n",
        "'Apple'),:1\n",
        "'Apple',:1\n",
        "'Banana'),:1\n",
        "'LIME']:1\n",
        "'Lime')]:1\n",
        "'Lime']:1\n",
        "():1\n",
        "(1,:1\n",
        "(2,:1\n",
        "(PEPs):1\n",
        "(and:1\n",
        "(known:1\n",
        "(with:1\n",
        "**:1\n",
        "+:1\n",
        "//:1\n",
        "0:1\n",
        "0,:1\n",
        "0.5:1\n",
        "07-05:1\n",
        "08-11:1\n",
        "09-08:1\n",
        "09-09:1\n",
        "09-13:1\n",
        "09-24:1\n",
        "09-25:1\n",
        "09-26:1\n",
        "10-01:1\n",
        "10-02:1\n",
        "13:1\n",
        "144:1\n",
        "2.7.10:1\n",
        "21:1\n",
        "233:1\n",
        "3.5.0b3:1\n",
        "3.5.0rc1:1\n",
        "3.5.0rc3:1\n",
        "3.5.0rc4:1\n",
        "34:1\n",
        "377:1\n",
        "384:1\n",
        "4,:1\n",
        "5.666666666666667:1\n",
        "55:1\n",
        "6,:1\n",
        "610:1\n",
        "89:1\n",
        "8]:1\n",
        "987:1\n",
        "Administration:1\n",
        "Ansible:1\n",
        "Become:1\n",
        "Beginner&rsquo;s:1\n",
        "Bottle:1\n",
        "Bug:1\n",
        "Buildbot:1\n",
        "Calculations:1\n",
        "Chat:1\n",
        "Check:1\n",
        "Close:1\n",
        "Compaq:1\n",
        "Compound:1\n",
        "Contact:1\n",
        "Contributing:1\n",
        "Copyright:1\n",
        "Core:1\n",
        "Data:1\n",
        "Defined:1\n",
        "Django:1\n",
        "Donate:1\n",
        "Download:1\n",
        "Easy:1\n",
        "Enhancement:1\n",
        "Expect:1\n",
        "Experienced:1\n",
        "Facebook:1\n",
        "Fibonacci:1\n",
        "Flask:1\n",
        "Flow:1\n",
        "For:1\n",
        "Fortenberry:1\n",
        "Functions:1\n",
        "GO:1\n",
        "GUI:1\n",
        "General:1\n",
        "Get:1\n",
        "Google+:1\n",
        "Hello,:1\n",
        "Hi,:1\n",
        "ILM:1\n",
        "IPython:1\n",
        "IRIX,:1\n",
        "India:1\n",
        "Industrial:1\n",
        "Initiatives:1\n",
        "Input,:1\n",
        "Interactive:1\n",
        "Interpretation:1\n",
        "Intuitive:1\n",
        "Issue:1\n",
        "Larger:1\n",
        "Latest:1\n",
        "Latest::1\n",
        "Launch:1\n",
        "Legal:1\n",
        "Light:1\n",
        "Linux,:1\n",
        "Looking:1\n",
        "Magic:1\n",
        "Member:1\n",
        "Mentorship:1\n",
        "Menu:1\n",
        "Network:1\n",
        "Not:1\n",
        "Notice::1\n",
        "Numeric:1\n",
        "OpenStack:1\n",
        "Our:1\n",
        "Pandas:1\n",
        "Please:1\n",
        "Policy:1\n",
        "Privacy:1\n",
        "Programming:1\n",
        "Proposals:1\n",
        "PyConZA:1\n",
        "PyDDF:1\n",
        "PyData:1\n",
        "PyGObject:1\n",
        "PyGtk:1\n",
        "PyPI:1\n",
        "PyQt:1\n",
        "PyTexas:1\n",
        "Pyramid:1\n",
        "Python!:1\n",
        "Python!\"):1\n",
        "Python's:1\n",
        "Python,:1\n",
        "Python.org:1\n",
        "Quick:1\n",
        "RSS:1\n",
        "Register:1\n",
        "Reset:1\n",
        "Roundup:1\n",
        "Runs:1\n",
        "Salt:1\n",
        "SciPy:1\n",
        "Search:1\n",
        "Shell:1\n",
        "Site:1\n",
        "Skip:1\n",
        "Smaller:1\n",
        "Socialize:1\n",
        "Solaris,:1\n",
        "Speed:1\n",
        "Sprint:1\n",
        "Start:1\n",
        "Statements:1\n",
        "System:1\n",
        "Thousands:1\n",
        "Tim:1\n",
        "Tornado:1\n",
        "Trac:1\n",
        "Tracker:1\n",
        "Tru64,:1\n",
        "Twitter:1\n",
        "Types:1\n",
        "Unicode):1\n",
        "Up:1\n",
        "Upcoming:1\n",
        "Use:1\n",
        "Warsaw:1\n",
        "Web:1\n",
        "Website:1\n",
        "Welcome:1\n",
        "What:1\n",
        "Whet:1\n",
        "Whether:1\n",
        "While:1\n",
        "X,:1\n",
        "You&rsquo;d:1\n",
        "['BANANA',:1\n",
        "['Banana',:1\n",
        "[(0,:1\n",
        "[2,:1\n",
        "[fruit.upper():1\n",
        "a+b:1\n",
        "advance:1\n",
        "all:1\n",
        "allows:1\n",
        "along:1\n",
        "any:1\n",
        "appetite:1\n",
        "arbitrary:1\n",
        "argument:1\n",
        "arithmetic:1\n",
        "arrays:1\n",
        "assignment:1\n",
        "b,:1\n",
        "batch:1\n",
        "beginners:1\n",
        "board:1\n",
        "built-in:1\n",
        "capable:1\n",
        "classic:1\n",
        "clean:1\n",
        "community:1\n",
        "community-run:1\n",
        "compositing:1\n",
        "compound:1\n",
        "comprehensions:1\n",
        "core:1\n",
        "course.:1\n",
        "daily.:1\n",
        "data:1\n",
        "day.:1\n",
        "def:1\n",
        "developer,:1\n",
        "development:1\n",
        "discussed:1\n",
        "diverse:1\n",
        "docs.python.org:1\n",
        "download:1\n",
        "download.This:1\n",
        "effectively.:1\n",
        "end=':1\n",
        "enumerate:1\n",
        "environment:1\n",
        "essential:1\n",
        "even:1\n",
        "expected;:1\n",
        "experience.:1\n",
        "experienced:1\n",
        "expression:1\n",
        "extensible:1\n",
        "facilitate:1\n",
        "faster:1\n",
        "fib(1000):1\n",
        "fib(n)::1\n",
        "find:1\n",
        "float:1\n",
        "floor:1\n",
        "for&hellip;:1\n",
        "for?:1\n",
        "frames:1\n",
        "fruit:1\n",
        "fruits:1\n",
        "fruits]:1\n",
        "full:1\n",
        "function:1\n",
        "future:1\n",
        "go.:1\n",
        "grouping.:1\n",
        "growth:1\n",
        "guides,:1\n",
        "have:1\n",
        "here:1\n",
        "here.:1\n",
        "hire:1\n",
        "if:1\n",
        "indentation:1\n",
        "indexed,:1\n",
        "input('What:1\n",
        "installers:1\n",
        "integrate:1\n",
        "interaction:1\n",
        "international:1\n",
        "is::1\n",
        "is:',:1\n",
        "it's:1\n",
        "its:1\n",
        "job:1\n",
        "jobs.python.org:1\n",
        "join:1\n",
        "key,:1\n",
        "keyword:1\n",
        "knows:1\n",
        "language,:1\n",
        "languages:1\n",
        "languages):1\n",
        "last-minute:1\n",
        "learn:1\n",
        "learn.:1\n",
        "lets:1\n",
        "library,:1\n",
        "limited.:1\n",
        "list(enumerate(fruits)):1\n",
        "lists:1\n",
        "lists.:1\n",
        "loop:1\n",
        "loud_fruits:1\n",
        "machines:1\n",
        "mandatory:1\n",
        "manipulated:1\n",
        "math:1\n",
        "mission:1\n",
        "modeling,:1\n",
        "motion:1\n",
        "n:1\n",
        "n::1\n",
        "name:1\n",
        "name):1\n",
        "name?:1\n",
        "name?\\n'):1\n",
        "new:1\n",
        "not:1\n",
        "numbers:1\n",
        "numbers::1\n",
        "one:1\n",
        "online.:1\n",
        "operators:1\n",
        "optional:1\n",
        "output:1\n",
        "overview.:1\n",
        "own:1\n",
        "parentheses:1\n",
        "per:1\n",
        "pick:1\n",
        "picture:1\n",
        "pipeline:1\n",
        "pipeline.:1\n",
        "place:1\n",
        "position:1\n",
        "print(\"Hello,:1\n",
        "print('Hi,:1\n",
        "print('The:1\n",
        "print():1\n",
        "print(a,:1\n",
        "print(loud_fruits):1\n",
        "processing:1\n",
        "product):1\n",
        "programmers:1\n",
        "programmers.:1\n",
        "programs:1\n",
        "promote,:1\n",
        "protect,:1\n",
        "provide:1\n",
        "python-dev:1\n",
        "quickly:1\n",
        "quickly,:1\n",
        "range:1\n",
        "re-code):1\n",
        "related:1\n",
        "relaunched:1\n",
        "release,:1\n",
        "rendering:1\n",
        "returns:1\n",
        "running:1\n",
        "runs:1\n",
        "series:1\n",
        "sliced:1\n",
        "some:1\n",
        "source:1\n",
        "speak:1\n",
        "standard:1\n",
        "statements:1\n",
        "straightforward::1\n",
        "structure:1\n",
        "support:1\n",
        "sure:1\n",
        "systems:1\n",
        "tens:1\n",
        "thousands:1\n",
        "tkInter:1\n",
        "together:1\n",
        "tools:1\n",
        "trying:1\n",
        "turn:1\n",
        "tutorials:1\n",
        "twists,:1\n",
        "types:1\n",
        "understands.:1\n",
        "use:1\n",
        "use?:1\n",
        "users:1\n",
        "usual:1\n",
        "version:1\n",
        "versions!:1\n",
        "very:1\n",
        "was:1\n",
        "way:1\n",
        "web2py:1\n",
        "website,:1\n",
        "which:1\n",
        "will:1\n",
        "wxPython:1\n",
        "you:1\n",
        "~800:1\n"
       ]
      }
     ],
     "prompt_number": 8
    },
    {
     "cell_type": "code",
     "collapsed": false,
     "input": [
      "# Let's plot it\n",
      "%pylab inline\n",
      "freq_dist_nltk.plot(50, cumulative = False)"
     ],
     "language": "python",
     "metadata": {},
     "outputs": [
      {
       "output_type": "stream",
       "stream": "stdout",
       "text": [
        "Populating the interactive namespace from numpy and matplotlib\n"
       ]
      },
      {
       "metadata": {},
       "output_type": "display_data",
       "png": "[encoded data removed]",
       "text": [
        "<matplotlib.figure.Figure at 0x1067d7f10>"
       ]
      }
     ],
     "prompt_number": 9
    },
    {
     "cell_type": "code",
     "collapsed": false,
     "input": [
      "!curl -v \"https://raw.githubusercontent.com/fozziethebeat/S-Space/master/data/english-stop-words-large.txt\" > english.stop.txt"
     ],
     "language": "python",
     "metadata": {},
     "outputs": [
      {
       "output_type": "stream",
       "stream": "stdout",
       "text": [
        "* About to connect() to raw.githubusercontent.com port 443 (#0)\r\n",
        "*   Trying 185.31.19.133...\r\n",
        "  % Total    % Received % Xferd  Average Speed   Time    Time     Time  Current\r\n",
        "                                 Dload  Upload   Total   Spent    Left  Speed\r\n",
        "\r",
        "  0     0    0     0    0     0      0      0 --:--:-- --:--:-- --:--:--     0* connected\r\n",
        "* Connected to raw.githubusercontent.com (185.31.19.133) port 443 (#0)\r\n",
        "* SSLv3, TLS handshake, Client hello (1):\r\n",
        "} [data not shown]\r\n"
       ]
      },
      {
       "output_type": "stream",
       "stream": "stdout",
       "text": [
        "* SSLv3, TLS handshake, Server hello (2):\r\n",
        "{ [data not shown]\r\n",
        "* SSLv3, TLS handshake, CERT (11):\r\n",
        "{ [data not shown]\r\n"
       ]
      },
      {
       "output_type": "stream",
       "stream": "stdout",
       "text": [
        "* SSLv3, TLS handshake, Server finished (14):\r\n",
        "{ [data not shown]\r\n",
        "* SSLv3, TLS handshake, Client key exchange (16):\r\n",
        "} [data not shown]\r\n",
        "* SSLv3, TLS change cipher, Client hello (1):\r\n",
        "} [data not shown]\r\n",
        "* SSLv3, TLS handshake, Finished (20):\r\n",
        "} [data not shown]\r\n"
       ]
      },
      {
       "output_type": "stream",
       "stream": "stdout",
       "text": [
        "* SSLv3, TLS change cipher, Client hello (1):\r\n",
        "{ [data not shown]\r\n",
        "* SSLv3, TLS handshake, Finished (20):\r\n",
        "{ [data not shown]\r\n",
        "* SSL connection using AES128-SHA\r\n",
        "* Server certificate:\r\n",
        "* \t subject: C=US; L=San Francisco; ST=California; O=Fastly, Inc.; CN=www.github.com\r\n",
        "* \t start date: 2015-02-23 00:00:00 GMT\r\n",
        "* \t expire date: 2016-03-02 12:00:00 GMT\r\n",
        "* \t subjectAltName: raw.githubusercontent.com matched\r\n",
        "* \t issuer: C=US; O=DigiCert Inc; OU=www.digicert.com; CN=DigiCert SHA2 High Assurance Server CA\r\n",
        "* \t SSL certificate verify ok.\r\n",
        "> GET /fozziethebeat/S-Space/master/data/english-stop-words-large.txt HTTP/1.1\r",
        "\r\n",
        "> User-Agent: curl/7.24.0 (x86_64-apple-darwin12.0) libcurl/7.24.0 OpenSSL/0.9.8y zlib/1.2.5\r",
        "\r\n",
        "> Host: raw.githubusercontent.com\r",
        "\r\n",
        "> Accept: */*\r",
        "\r\n",
        "> \r",
        "\r\n",
        "\r",
        "  0     0    0     0    0     0      0      0 --:--:-- --:--:-- --:--:--     0"
       ]
      },
      {
       "output_type": "stream",
       "stream": "stdout",
       "text": [
        "< HTTP/1.1 200 OK\r",
        "\r\n",
        "< Content-Security-Policy: default-src 'none'\r",
        "\r\n",
        "< X-XSS-Protection: 1; mode=block\r",
        "\r\n",
        "< X-Frame-Options: deny\r",
        "\r\n",
        "< X-Content-Type-Options: nosniff\r",
        "\r\n",
        "< Strict-Transport-Security: max-age=31536000\r",
        "\r\n",
        "< ETag: \"e752cc990d5b41d1d8ed47001ed056f84828d5d0\"\r",
        "\r\n",
        "< Content-Type: text/plain; charset=utf-8\r",
        "\r\n",
        "< Cache-Control: max-age=300\r",
        "\r\n",
        "< Content-Length: 3639\r",
        "\r\n",
        "< Accept-Ranges: bytes\r",
        "\r\n",
        "< Date: Mon, 21 Sep 2015 18:03:50 GMT\r",
        "\r\n",
        "< Via: 1.1 varnish\r",
        "\r\n",
        "< Connection: keep-alive\r",
        "\r\n",
        "< X-Served-By: cache-lhr6325-LHR\r",
        "\r\n",
        "< X-Cache: MISS\r",
        "\r\n",
        "< X-Cache-Hits: 0\r",
        "\r\n",
        "< Vary: Authorization,Accept-Encoding\r",
        "\r\n",
        "< Access-Control-Allow-Origin: *\r",
        "\r\n",
        "< Expires: Mon, 21 Sep 2015 18:08:50 GMT\r",
        "\r\n",
        "< Source-Age: 0\r",
        "\r\n",
        "< \r",
        "\r\n",
        "{ [data not shown]\r\n",
        "\r",
        "100  3639  100  3639    0     0   4406      0 --:--:-- --:--:-- --:--:--  9097\r\n",
        "* Connection #0 to host raw.githubusercontent.com left intact\r\n",
        "* Closing connection #0\r\n",
        "* SSLv3, TLS alert, Client hello (1):\r\n",
        "} [data not shown]\r\n"
       ]
      }
     ],
     "prompt_number": 11
    },
    {
     "cell_type": "code",
     "collapsed": false,
     "input": [
      "!ls -l"
     ],
     "language": "python",
     "metadata": {},
     "outputs": [
      {
       "output_type": "stream",
       "stream": "stdout",
       "text": [
        "total 448\r\n",
        "-rw-r--r--  1 b3j90  staff  149148  1 sep 00:38 Machine Learning Tutorial.ipynb\r\n",
        "-rw-r--r--  1 b3j90  staff   65294 21 sep 20:22 Untitled0.ipynb\r\n",
        "-rw-r--r--  1 b3j90  staff    3639 21 sep 20:24 english.stop.txt\r\n",
        "-rw-r--r--  1 b3j90  staff    4457  1 sep 00:24 iris_data.csv\r\n"
       ]
      }
     ],
     "prompt_number": 13
    },
    {
     "cell_type": "code",
     "collapsed": false,
     "input": [
      "stopwords = [word.strip().lower() for word in open(\"english.stop.txt\")]\n",
      "clean_tokens = [tok for tok in tokens if len(tok.lower()) > 1 and (tok.lower() not in stopwords)]"
     ],
     "language": "python",
     "metadata": {},
     "outputs": [],
     "prompt_number": 14
    },
    {
     "cell_type": "code",
     "collapsed": false,
     "input": [
      "clean_freq_dist_nltk = nltk.FreqDist(clean_tokens)"
     ],
     "language": "python",
     "metadata": {},
     "outputs": [],
     "prompt_number": 16
    },
    {
     "cell_type": "code",
     "collapsed": false,
     "input": [
      "clean_freq_dist_nltk.plot(50, cumulative = True)"
     ],
     "language": "python",
     "metadata": {},
     "outputs": [
      {
       "metadata": {},
       "output_type": "display_data",
       "png": "[encoded data removed]",
       "text": [
        "<matplotlib.figure.Figure at 0x106826410>"
       ]
      }
     ],
     "prompt_number": 19
    },
    {
     "cell_type": "markdown",
     "metadata": {},
     "source": [
      "A partir de ahora haremos un preprocesamiento m\u00e1s exhaustivo utilzando las t\u00e9cnicas de tokenization, stemming, lemmatization and stop word removal. Todo esto se encuentra dentro de las t\u00e9cnicas de wrangling que nos proporciona NLTK."
     ]
    },
    {
     "cell_type": "markdown",
     "metadata": {},
     "source": [
      "#Sentence Splitter"
     ]
    },
    {
     "cell_type": "code",
     "collapsed": false,
     "input": [
      "import csv\n",
      "\n",
      "with open('example.csv', 'rb') as f:\n",
      "    for line in reader:\n",
      "        print line[1] # Assuming the second field is a raw string"
     ],
     "language": "python",
     "metadata": {},
     "outputs": []
    },
    {
     "cell_type": "code",
     "collapsed": false,
     "input": [
      "inputstring = 'This is an example sent. The sentence splitter will split on sent markers. Ohh really !!'\n",
      "\n",
      "# Sentence boundary algorith detecntion that comes pre-built into NLTK\n",
      "from nltk.tokenize import sent_tokenize\n",
      "\n",
      "all_sent = sent_tokenize(inputstring)\n",
      "print all_sent"
     ],
     "language": "python",
     "metadata": {},
     "outputs": [
      {
       "output_type": "stream",
       "stream": "stdout",
       "text": [
        "['This is an example sent.', 'The sentence splitter will split on sent markers.', 'Ohh really !', '!']\n"
       ]
      }
     ],
     "prompt_number": 21
    },
    {
     "cell_type": "code",
     "collapsed": false,
     "input": [
      "# If the application requires a custom sentence splitter, there are ways that we can train a sentence splitter of our own\n",
      "import nltk.tokenize.punkt\n",
      "tokenizer = nltk.tokenize.punkt.PunktSentenceTokenizer()"
     ],
     "language": "python",
     "metadata": {},
     "outputs": [],
     "prompt_number": 22
    },
    {
     "cell_type": "markdown",
     "metadata": {},
     "source": [
      "# Tokenization\n",
      "\n",
      "A word (Token) is the minimal unit that a machine can undestand and process. So any text string cannot be further processed without going through tokenization. Tokenization is the process of splitting the raw string into meaningful tokens. The complexity of tokenization depends many times on the language that is being processed. For example for Chinese and Japanese tokenizing can be a really complex task."
     ]
    },
    {
     "cell_type": "code",
     "collapsed": false,
     "input": [
      "s = \"Hi everyone !     hola gr8\"\n",
      "print s.split()"
     ],
     "language": "python",
     "metadata": {},
     "outputs": [
      {
       "output_type": "stream",
       "stream": "stdout",
       "text": [
        "['Hi', 'everyone', '!', 'hola', 'gr8']\n"
       ]
      }
     ],
     "prompt_number": 23
    },
    {
     "cell_type": "code",
     "collapsed": false,
     "input": [
      "from nltk.tokenize import word_tokenize\n",
      "word_tokenize(s)"
     ],
     "language": "python",
     "metadata": {},
     "outputs": [
      {
       "metadata": {},
       "output_type": "pyout",
       "prompt_number": 24,
       "text": [
        "['Hi', 'everyone', '!', 'hola', 'gr8']"
       ]
      }
     ],
     "prompt_number": 24
    },
    {
     "cell_type": "code",
     "collapsed": false,
     "input": [
      "from nltk.tokenize import regexp_tokenize, word_tokenize, blankline_tokenize\n",
      "regexp_tokenize(s, pattern='\\w+')"
     ],
     "language": "python",
     "metadata": {},
     "outputs": [
      {
       "metadata": {},
       "output_type": "pyout",
       "prompt_number": 25,
       "text": [
        "['Hi', 'everyone', 'hola', 'gr8']"
       ]
      }
     ],
     "prompt_number": 25
    },
    {
     "cell_type": "code",
     "collapsed": false,
     "input": [
      "regexp_tokenize(s, pattern='\\d+')"
     ],
     "language": "python",
     "metadata": {},
     "outputs": [
      {
       "metadata": {},
       "output_type": "pyout",
       "prompt_number": 26,
       "text": [
        "['8']"
       ]
      }
     ],
     "prompt_number": 26
    },
    {
     "cell_type": "code",
     "collapsed": false,
     "input": [
      "blankline_tokenize(s)"
     ],
     "language": "python",
     "metadata": {},
     "outputs": [
      {
       "metadata": {},
       "output_type": "pyout",
       "prompt_number": 27,
       "text": [
        "['Hi everyone !     hola gr8']"
       ]
      }
     ],
     "prompt_number": 27
    },
    {
     "cell_type": "markdown",
     "metadata": {},
     "source": [
      "# Stemming\n",
      "Stemming, in literal terms, is the process of cutting down the branche of a tree to its stem. So effectively, with the use of some basic rules, any token can be cut down to its stem. Stem is more of a crude rule-based process by which we wan to club together different varations of the token. While stemming is used most of the time for its simplicity, there are cases of complex language or complex NLP tasks where it's necessary to use **lemmatization** instead. Lemmatization is a more robust and methodical way of combining grammatical variations to the root of a word.\n",
      "\n",
      "A basic-rule stemmer, like removing -s/es or -ing or -ed can give tou a precision of more than 70 percent, while **Porter stemmer** also uses more rules and can achieve very good accuracies.\n",
      "\n",
      "In modern NLP applications, sometimes people even ignore stemming as a pre-processing step. I would also like to tell you the fact that if you want to use some NLP taggers, like Part Of the Speech (POS), NER or dependency parser, it is important to avoid stemming, because stemming will modify the token and this can lead to a different result"
     ]
    },
    {
     "cell_type": "code",
     "collapsed": false,
     "input": [
      "from IPython.display import IFrame\n",
      "IFrame('http://en.wikipedia.org/wiki/Stemming', width=700, height=350)"
     ],
     "language": "python",
     "metadata": {},
     "outputs": [
      {
       "html": [
        "\n",
        "        <iframe\n",
        "            width=\"700\"\n",
        "            height=350\"\n",
        "            src=\"http://en.wikipedia.org/wiki/Stemming\"\n",
        "            frameborder=\"0\"\n",
        "            allowfullscreen\n",
        "        ></iframe>\n",
        "        "
       ],
       "metadata": {},
       "output_type": "pyout",
       "prompt_number": 30,
       "text": [
        "<IPython.lib.display.IFrame at 0x1067a3790>"
       ]
      }
     ],
     "prompt_number": 30
    },
    {
     "cell_type": "code",
     "collapsed": false,
     "input": [
      "from nltk.stem import PorterStemmer\n",
      "from nltk.stem.lancaster import LancasterStemmer\n",
      "from nltk.stem.snowball import SnowballStemmer\n",
      "\n",
      "pst = PorterStemmer()\n",
      "lst = LancasterStemmer()\n",
      "print lst.stem(\"eating\")\n",
      "\n",
      "print pst.stem(\"shopping\")"
     ],
     "language": "python",
     "metadata": {},
     "outputs": [
      {
       "output_type": "stream",
       "stream": "stdout",
       "text": [
        "eat\n",
        "shop\n"
       ]
      }
     ],
     "prompt_number": 1
    },
    {
     "cell_type": "markdown",
     "metadata": {},
     "source": [
      "# Lemmatization\n",
      "Lemmatization is a more methodical way of converting all the grammatical/inflected forms of the root of the word. Lemmatization uses context and part of the speech to determine the inflected form of the word and applies different normalization rules for each part of the speech to the root word (lemma)"
     ]
    },
    {
     "cell_type": "code",
     "collapsed": false,
     "input": [
      "# WordnetLemmatizer is using wordnet a semantic dictionary. It also use a morph analysis to cut the root and search for the\n",
      "# the specific lemma (variation of the word). Hence, in our examples it is possible to get eat for the given variation ate, which\n",
      "# was never possible with stemming\n",
      "from nltk.stem import WordNetLemmatizer\n",
      "\n",
      "wlem = WordNetLemmatizer()\n",
      "wlem.lemmatize(\"ate\")"
     ],
     "language": "python",
     "metadata": {},
     "outputs": [
      {
       "metadata": {},
       "output_type": "pyout",
       "prompt_number": 32,
       "text": [
        "'ate'"
       ]
      }
     ],
     "prompt_number": 32
    },
    {
     "cell_type": "markdown",
     "metadata": {},
     "source": [
      "# Stop Word Removal\n",
      "The idea is removing the words that occur commonly across all the documents in the corpus. Typically, articles and pronouns are generally classified as stop words. Although there are stop words lists available online, there are also ways to automatically generate the stop word list for a given corpus. A very simple way is based on word's document frecuency, where the words present across the corpus can be treated as stop words. NLTK comes with a pre-built list of stop words for around 22 languages."
     ]
    },
    {
     "cell_type": "code",
     "collapsed": false,
     "input": [
      "from nltk.corpus import stopwords\n",
      "\n",
      "stoplist = stopwords.words('english')\n",
      "text = \"this is just a test\"\n",
      "\n",
      "cleanWordList = [word for word in text.split() if not word in stoplist]\n",
      "print cleanWordList"
     ],
     "language": "python",
     "metadata": {},
     "outputs": [
      {
       "output_type": "stream",
       "stream": "stdout",
       "text": [
        "['test']\n"
       ]
      }
     ],
     "prompt_number": 35
    },
    {
     "cell_type": "markdown",
     "metadata": {},
     "source": [
      "# Rare word removal\n",
      "    "
     ]
    },
    {
     "cell_type": "code",
     "collapsed": false,
     "input": [
      "freq_dist = nltk.FreqDist(token)\n",
      "rareWords = freq_dist.keys()[-50:]\n",
      "afterRareWords = [word for word in sentence.split() if not word in rareWords]"
     ],
     "language": "python",
     "metadata": {},
     "outputs": []
    },
    {
     "cell_type": "markdown",
     "metadata": {},
     "source": [
      "#Spell Correction\n",
      "There are some enhanced string algorithms that have been developed for fuzzy string matching"
     ]
    },
    {
     "cell_type": "code",
     "collapsed": false,
     "input": [
      "from nltk.metrics import edit_distance\n",
      "edit_distance(\"rain\", \"shine\")"
     ],
     "language": "python",
     "metadata": {},
     "outputs": [
      {
       "metadata": {},
       "output_type": "pyout",
       "prompt_number": 37,
       "text": [
        "3"
       ]
      }
     ],
     "prompt_number": 37
    },
    {
     "cell_type": "code",
     "collapsed": false,
     "input": [
      "from IPython.display import IFrame\n",
      "IFrame('http://norvig.com/spell-correct.html', width=700, height=350)"
     ],
     "language": "python",
     "metadata": {},
     "outputs": [
      {
       "html": [
        "\n",
        "        <iframe\n",
        "            width=\"700\"\n",
        "            height=350\"\n",
        "            src=\"http://norvig.com/spell-correct.html\"\n",
        "            frameborder=\"0\"\n",
        "            allowfullscreen\n",
        "        ></iframe>\n",
        "        "
       ],
       "metadata": {},
       "output_type": "pyout",
       "prompt_number": 38,
       "text": [
        "<IPython.lib.display.IFrame at 0x10db44ed0>"
       ]
      }
     ],
     "prompt_number": 38
    },
    {
     "cell_type": "markdown",
     "metadata": {},
     "source": [
      "# Part Of the Speech Tagging\n",
      "In your childhood, you may have heard POS. It can really take a good amount of time to get hang of what adjectives and adverbs actually are. Think about building a asystem where we can encode all this knowledge. Coding this knowledge into a machine learning model was a very hard NLP problem. Current state of the POS tagging algoritms can predict the POS of the given word with a higher degree of precision (this is approximately 97%).\n",
      "\n",
      "Languages like English have many tagged corpuses available in the news and other domains. This has resulted in many state of the art algorithms. Some of these algorithms are generic enough to be used across different domains and varieties of text. In some cases, the POS tagger might not perform as expected. For these use cases, we might need to build POS tagger from the scratch. \n",
      "\n",
      "To understand the internals of a POS, we need to have a basic undesrtanding of some of the basic machine learning techniques.\n"
     ]
    },
    {
     "cell_type": "code",
     "collapsed": false,
     "input": [
      "# It's internally using the maxent classifier trained model to predict to which class of a tag belongs\n",
      "from nltk import word_tokenize\n",
      "\n",
      "s = \"I was watching TV\"\n",
      "print nltk.pos_tag(word_tokenize(s))"
     ],
     "language": "python",
     "metadata": {},
     "outputs": [
      {
       "output_type": "stream",
       "stream": "stdout",
       "text": [
        "[('I', 'PRP'), ('was', 'VBD'), ('watching', 'VBG'), ('TV', 'NN')]\n"
       ]
      }
     ],
     "prompt_number": 39
    },
    {
     "cell_type": "code",
     "collapsed": false,
     "input": [
      "tagged = nltk.pos_tag(word_tokenize(s))\n",
      "allnoun = [word for word,pos in tagged if pos in ['NN', 'NNP']]"
     ],
     "language": "python",
     "metadata": {},
     "outputs": [],
     "prompt_number": 40
    },
    {
     "cell_type": "code",
     "collapsed": false,
     "input": [
      "print allnoun"
     ],
     "language": "python",
     "metadata": {},
     "outputs": [
      {
       "output_type": "stream",
       "stream": "stdout",
       "text": [
        "['TV']\n"
       ]
      }
     ],
     "prompt_number": 41
    },
    {
     "cell_type": "markdown",
     "metadata": {},
     "source": [
      "# Stanford tagger"
     ]
    },
    {
     "cell_type": "code",
     "collapsed": false,
     "input": [
      "#Revise\n",
      "from nltk.tag.stanford import POSTagger\n",
      "\n",
      "stan_tagger = POSTagger('./models/english-bidirectional-distsim.tagger', 'stanford-postagger.jar')\n",
      "tokens = nltk.word_tokenize(s)\n",
      "stan_tagger.tag(tokens)"
     ],
     "language": "python",
     "metadata": {},
     "outputs": []
    },
    {
     "cell_type": "markdown",
     "metadata": {},
     "source": [
      "A typical tagger uses a lot of trained data, with sentences tagged for each word that will be the POS tab attached to it. Tagging is purely manual and looks like this."
     ]
    },
    {
     "cell_type": "code",
     "collapsed": false,
     "input": [
      "from nltk.corpus import brown\n",
      "tags = [tag for (word, tag) in brown.tagged_words(categories = 'news')]\n",
      "print nltk.FreqDist(tags)"
     ],
     "language": "python",
     "metadata": {},
     "outputs": [
      {
       "output_type": "stream",
       "stream": "stdout",
       "text": [
        "<FreqDist: 'NN': 13162, 'IN': 10616, 'AT': 8893, 'NP': 6866, ',': 5133, 'NNS': 5066, '.': 4452, 'JJ': 4392, 'CC': 2664, 'VBD': 2524, ...>\n"
       ]
      }
     ],
     "prompt_number": 47
    },
    {
     "cell_type": "markdown",
     "metadata": {},
     "source": [
      "We can see NN comes as the most frequent tag, so let's start building a very na\u00efve POS tagger, by assigning NN as a tag to all the test words."
     ]
    },
    {
     "cell_type": "markdown",
     "metadata": {},
     "source": [
      "## Default Tagger"
     ]
    },
    {
     "cell_type": "code",
     "collapsed": false,
     "input": [
      "brown_tagged_sents = brown.tagged_sents(categories= 'news')\n",
      "default_tagger = nltk.DefaultTagger('NN')\n",
      "print default_tagger.evaluate(brown_tagged_sents)"
     ],
     "language": "python",
     "metadata": {},
     "outputs": [
      {
       "output_type": "stream",
       "stream": "stdout",
       "text": [
        "0.130894842572\n"
       ]
      }
     ],
     "prompt_number": 48
    },
    {
     "cell_type": "markdown",
     "metadata": {},
     "source": [
      "## N-gram tagger Tagger\n",
      "Not surprisingly, the default tagger performed poorly. N-gramm tagger is a subclass of SequenTagger. There are variations of these taggers where people have tried it with UnigramsTagger, BigramsTagger, and Trigramagger"
     ]
    },
    {
     "cell_type": "code",
     "collapsed": false,
     "input": [
      "from nltk.tag import DefaultTagger, UnigramTagger, BigramTagger, TrigramTagger\n",
      "\n",
      "# Divide data between train and test\n",
      "train_data = brown.tagged_sents()[:int(len(brown.tagged_sents()) * 0.9)]\n",
      "test_data = brown.tagged_sents()[int(len(brown.tagged_sents()) * 0.9):]\n",
      "\n",
      "unigram_tagger = UnigramTagger(train_data, backoff=default_tagger)\n",
      "print unigram_tagger.evaluate(test_data)"
     ],
     "language": "python",
     "metadata": {},
     "outputs": [
      {
       "output_type": "stream",
       "stream": "stdout",
       "text": [
        "0.891483833113\n"
       ]
      }
     ],
     "prompt_number": 63
    },
    {
     "cell_type": "code",
     "collapsed": false,
     "input": [
      "bigram_tagger = BigramTagger(train_data, backoff=default_tagger)\n",
      "print bigram_tagger.evaluate(test_data)"
     ],
     "language": "python",
     "metadata": {},
     "outputs": [
      {
       "output_type": "stream",
       "stream": "stdout",
       "text": [
        "0.852266297856\n"
       ]
      }
     ],
     "prompt_number": 64
    },
    {
     "cell_type": "code",
     "collapsed": false,
     "input": [
      "trigram_tagger = TrigramTagger(train_data, backoff=default_tagger)\n",
      "print trigram_tagger.evaluate(test_data)"
     ],
     "language": "python",
     "metadata": {},
     "outputs": [
      {
       "output_type": "stream",
       "stream": "stdout",
       "text": [
        "0.727373692923\n"
       ]
      }
     ],
     "prompt_number": 65
    },
    {
     "cell_type": "markdown",
     "metadata": {},
     "source": [
      "## Machine learning based tagger\n",
      "Until now we have just used some of the pre-trained taggers from NLTK or Stanford. While we have used them in the examples in previous section, the internals of the taggers are still a black box to us. For example, pos_tag internally uses a **Maximum Entropy Classifier (MEC)**. While StandfordTagger also uses a **modified version of Maximum Entropy**. These are discriminatory models. While there are many **Hidden Markov Model (HMM) and Conditional Random Field** based taggers, these are generative models.\n",
      "\n",
      "The way to categorize POS tagging problem is either as a classification problem where given a word and the features like previous word, context, morphological variation, and so on. We classify the given word into a POS category, while the others try to model it as a generative model using the similar features."
     ]
    },
    {
     "cell_type": "code",
     "collapsed": false,
     "input": [
      "# More Information\n",
      "from IPython.display import IFrame\n",
      "IFrame('http://mlg.eng.cam.ac.uk/zoubin/papers/ijprai.pdf', width=700, height=350)"
     ],
     "language": "python",
     "metadata": {},
     "outputs": [
      {
       "html": [
        "\n",
        "        <iframe\n",
        "            width=\"700\"\n",
        "            height=350\"\n",
        "            src=\"http://mlg.eng.cam.ac.uk/zoubin/papers/ijprai.pdf\"\n",
        "            frameborder=\"0\"\n",
        "            allowfullscreen\n",
        "        ></iframe>\n",
        "        "
       ],
       "metadata": {},
       "output_type": "pyout",
       "prompt_number": 66,
       "text": [
        "<IPython.lib.display.IFrame at 0x11a995b50>"
       ]
      }
     ],
     "prompt_number": 66
    },
    {
     "cell_type": "code",
     "collapsed": false,
     "input": [
      "# More Information\n",
      "from IPython.display import IFrame\n",
      "IFrame('http://nlp.stanford.edu/software/tagger.shtml', width=700, height=350)"
     ],
     "language": "python",
     "metadata": {},
     "outputs": [
      {
       "html": [
        "\n",
        "        <iframe\n",
        "            width=\"700\"\n",
        "            height=350\"\n",
        "            src=\"http://nlp.stanford.edu/software/tagger.shtml\"\n",
        "            frameborder=\"0\"\n",
        "            allowfullscreen\n",
        "        ></iframe>\n",
        "        "
       ],
       "metadata": {},
       "output_type": "pyout",
       "prompt_number": 67,
       "text": [
        "<IPython.lib.display.IFrame at 0x112ad9e90>"
       ]
      }
     ],
     "prompt_number": 67
    },
    {
     "cell_type": "markdown",
     "metadata": {},
     "source": [
      "# Named Entity Recognition (NER)\n",
      "Aside from POS, one of the most common labeling problems is finding entities in the text. Typically NER constitutes name, location, and organizations. There are NER systems that tag more entities than just of these. There is a lot more research going on the area of NLP where people are trying to tag Biolmedcal entities, product entities in reail and so on. "
     ]
    },
    {
     "cell_type": "code",
     "collapsed": false,
     "input": [
      "# the ne_chunking methods recognizes people, places and organization\n",
      "from nltk import ne_chunk\n",
      "sent = \"mark is stydying at Stanford University in California\"\n",
      "print(ne_chunk(nltk.pos_tag(word_tokenize(sent)), binary= False))"
     ],
     "language": "python",
     "metadata": {},
     "outputs": [
      {
       "output_type": "stream",
       "stream": "stdout",
       "text": [
        "(S\n",
        "  mark/NN\n",
        "  is/VBZ\n",
        "  stydying/VBG\n",
        "  at/IN\n",
        "  (ORGANIZATION Stanford/NNP University/NNP)\n",
        "  in/IN\n",
        "  (GPE California/NNP))\n"
       ]
      }
     ],
     "prompt_number": 68
    },
    {
     "cell_type": "code",
     "collapsed": false,
     "input": [
      "# Revise\n",
      "from nltk.tag.stanford import NERTagger\n",
      "\n",
      "st = NERTagger('path/jar')\n",
      "st.tag('')"
     ],
     "language": "python",
     "metadata": {},
     "outputs": []
    },
    {
     "cell_type": "markdown",
     "metadata": {},
     "source": [
      "# Parsing Structure in Text"
     ]
    },
    {
     "cell_type": "markdown",
     "metadata": {},
     "source": [
      "The structural of language is so complex that we can describe it by various layers of structural processing. \n",
      "## Shallows versus deep parsing\n",
      "In deep or full parsing, typically, grammar concepts sush as CFG, and **probabilistic context-free grammar (PCFG)**, and a search strategy is used to give a complete syntactic structure to a sentence. Shallow parsing is the task of parsing a limited part of the syntactic information from the given text. While deep parsing is required for more complex NLP applications, such as dialogue systems and summarization,shallow parsing is more suited for information extraction and text mining varieties of applications.\n",
      "There are two main approaches\n",
      "* Rule-based:\n",
      "    * Based on rules/ grammar\n",
      "    * Manual grammatical rules are coded down in CFG\n",
      "    * This has a top-down approach\n",
      "* Probabilistic\n",
      "    * Learn rules/grammar by using probabilistic models\n",
      "    * This uses observed probabilities of linguistic features\n",
      "    * Bottom-up approach"
     ]
    },
    {
     "cell_type": "code",
     "collapsed": false,
     "input": [
      "import nltk\n",
      "from nltk import Nonterminal, nonterminals, Production, CFG\n",
      "\n",
      "toy_grammar = nltk.CFG.fromstring(\n",
      "\"\"\"\n",
      "  S -> NP VP\n",
      "  VP -> V NP\n",
      "  V -> \"eats\" | \"drinks\"\n",
      "  NP -> Det N\n",
      "  Det -> \"a\" | \"an\" | \"the\"\n",
      "  N -> \"president\" | \"Obama\" | \"apple\" | \"coke\"\n",
      "\"\"\"\n",
      ")\n",
      "\n",
      "toy_grammar.productions()"
     ],
     "language": "python",
     "metadata": {},
     "outputs": [
      {
       "metadata": {},
       "output_type": "pyout",
       "prompt_number": 3,
       "text": [
        "[S -> NP VP,\n",
        " VP -> V NP,\n",
        " V -> 'eats',\n",
        " V -> 'drinks',\n",
        " NP -> Det N,\n",
        " Det -> 'a',\n",
        " Det -> 'an',\n",
        " Det -> 'the',\n",
        " N -> 'president',\n",
        " N -> 'Obama',\n",
        " N -> 'apple',\n",
        " N -> 'coke']"
       ]
      }
     ],
     "prompt_number": 3
    },
    {
     "cell_type": "markdown",
     "metadata": {},
     "source": [
      "## Parser\n",
      "A parser processes an input string by using a set of grammatical rules and builds one or more results that construct a grammar concept. Grammar is a declarative specification of a well-formed sentence. A parser is a procedural interpretation of grammar. It searches through the space of a variety of trees and finds an optimal tree for the given sentence."
     ]
    },
    {
     "cell_type": "markdown",
     "metadata": {},
     "source": [
      "### A recursive descent parser\n",
      "\n",
      "This is a top-down process in which the parser attemts to veify that the syntax if the input stream is correct, as it is read from left to right. A basic operation necessart for this involves reading characters from the input stream and matching them with the terminal from the fram that describes the syntax of the input. \n",
      "\n",
      "### A shift-reduce parser\n",
      "The shif reduce parser is a simple kind of bottom-up parser- It tries to find a sequence of words and phrases that correspond to the right-hand side of the grammar production and repaces them with the left-hand side production, until the whole sentence is reduced\n",
      "\n",
      "### A chart parser\n",
      "\n",
      "Dynamic programming is applied to the parse problem. Dynamic programming stores intermediate results and reuses them when appropriate, achieving significant efficiency gains. This allows us to store partial solutions to the parsing task and then allows us to look them up when necesary in order to efficiently arrive at a complete solution."
     ]
    },
    {
     "cell_type": "code",
     "collapsed": false,
     "input": [
      "# More info\n",
      "from IPython.display import IFrame\n",
      "\n",
      "IFrame('http://www.nltk.org/howto/parse.html', width= 700, height = 250)\n"
     ],
     "language": "python",
     "metadata": {},
     "outputs": [
      {
       "html": [
        "\n",
        "        <iframe\n",
        "            width=\"700\"\n",
        "            height=250\"\n",
        "            src=\"http://www.nltk.org/howto/parse.html\"\n",
        "            frameborder=\"0\"\n",
        "            allowfullscreen\n",
        "        ></iframe>\n",
        "        "
       ],
       "metadata": {},
       "output_type": "pyout",
       "prompt_number": 5,
       "text": [
        "<IPython.lib.display.IFrame at 0x108294b90>"
       ]
      }
     ],
     "prompt_number": 5
    },
    {
     "cell_type": "markdown",
     "metadata": {},
     "source": [
      "### A regex parser\n",
      "A regex parser uses a regular expression defined in the form of grammatical on top of a POS-tagged string. The parser will use these regular expressions to parse the given sentences and generate a parse tree out of this."
     ]
    },
    {
     "cell_type": "code",
     "collapsed": false,
     "input": [
      "%pylab inline\n",
      "# Regex parser\n",
      "import nltk\n",
      "from nltk.chunk.regexp import *\n",
      "\n",
      "chunk_rules = ChunkRule(\"<.*>+\", \"chunk everything\")\n",
      "reg_parser = RegexpParser(\n",
      "\"\"\"\n",
      "    NP: {<DT>? <JJ>* <NN>^}\n",
      "    P: {<IN>}\n",
      "    V: {<V.*>}\n",
      "    PP: {<P><NP>}\n",
      "    VP: {<V><NP|PP>*}\n",
      "\"\"\")"
     ],
     "language": "python",
     "metadata": {},
     "outputs": [
      {
       "output_type": "stream",
       "stream": "stdout",
       "text": [
        "Populating the interactive namespace from numpy and matplotlib\n"
       ]
      }
     ],
     "prompt_number": 1
    },
    {
     "cell_type": "code",
     "collapsed": false,
     "input": [
      "test_sentence = \"Mr. Obama played a big ole in the Health insurance bill\"\n",
      "test_sent_pos = nltk.pos_tag(nltk.word_tokenize(test_sentence))\n",
      "print reg_parser.parse(test_sent_pos)"
     ],
     "language": "python",
     "metadata": {},
     "outputs": [
      {
       "output_type": "stream",
       "stream": "stdout",
       "text": [
        "(S\n",
        "  Mr./NNP\n",
        "  Obama/NNP\n",
        "  (VP (V played/VBD))\n",
        "  a/DT\n",
        "  big/JJ\n",
        "  ole/NN\n",
        "  (P in/IN)\n",
        "  the/DT\n",
        "  Health/NNP\n",
        "  insurance/NN\n",
        "  bill/NN)\n"
       ]
      }
     ],
     "prompt_number": 2
    },
    {
     "cell_type": "markdown",
     "metadata": {},
     "source": [
      "## Dependency parsing\n",
      "Dependency Parsing is a modern parsing mechanism. The main concept of DP is that each linguistic unit (word) is connected with each other by a directed link. These links are called dependencies in linguistics. While phase structure parsing is still widely used for free word order languages (Czech and Turkish), dependency parsing has turned out to be more efficient."
     ]
    },
    {
     "cell_type": "markdown",
     "metadata": {},
     "source": [
      "## Chunking\n",
      "Chunking is a **shallow parsing** where instead of reaching out to the deep structure of the sentence, we try to club some chunks of the sentences that consitute some meaning. Deep parsing involves processing the sentence against all the grammar rules and also the generation of a variety of syntactic tree till the parser generates the best tree by using the process of backtracking and reiterating. This entire process is time consuming and cumbersome, and even after all the processing, you might not get the right parse tree."
     ]
    },
    {
     "cell_type": "code",
     "collapsed": false,
     "input": [
      "# Chunking\n",
      "\n",
      "from nltk.chunk.regexp import *\n",
      "\n",
      "test_sent=\"The prime minister announced he had asked the chief \\\n",
      "government whip, Philip Ruddock, to call a special party room meeting for\\\n",
      "9am on Monday to consider the spill motion.\"\n",
      "test_sent_pos = nltk.pos_tag(nltk.word_tokenize(test_sent))\n",
      "rule_vp = ChunkRule(r'<VB.*>?(<VB.*>)+(<PRP>)?', 'Chunk VPs')"
     ],
     "language": "python",
     "metadata": {},
     "outputs": [],
     "prompt_number": 3
    },
    {
     "cell_type": "markdown",
     "metadata": {},
     "source": [
      "A conventional pipeline in chunking is to tokenize the POS tag and the input string before they are ed to any chunker. Unfortunately, it's hard to come up with those kind of generic rules, the other approach is to use a machine learning way of doing chunking."
     ]
    },
    {
     "cell_type": "markdown",
     "metadata": {},
     "source": [
      "# Text Classification"
     ]
    },
    {
     "cell_type": "markdown",
     "metadata": {},
     "source": [
      "There are two types of machine learning techniques - supervised learning and unsupervised learning:\n",
      "    * Supervised Learning:\n",
      "        * Classificaiton\n",
      "        * Regression\n",
      "    * Unsupervised Learaning:\n",
      "        * Clustering\n",
      "        * Dimensionality Reduction\n",
      "    * Semi-supervised learning\n",
      "    * Reinforcement learning\n",
      "    \n",
      "In general, all the machine learning methods are writtern for numeric features/variables. On of the most important problems with text corpus is how to represent text as numeric features. There are different transformations prescribed in the literature."
     ]
    },
    {
     "cell_type": "markdown",
     "metadata": {},
     "source": [
      "## Spam detection problem"
     ]
    },
    {
     "cell_type": "code",
     "collapsed": false,
     "input": [
      "# Lets download the spam tagged file\n",
      "import nltk\n",
      "from nltk.corpus import stopwords\n",
      "from nltk.stem import WordNetLemmatizer\n",
      "import csv\n",
      "\n",
      "def preprocessing(text):\n",
      "    text = text.decode(\"utf8\")\n",
      "    # tokenize words\n",
      "    tokens = [word for sent in nltk.sent_tokenize(text) for word in nltk.word_tokenize(sent)]\n",
      "    # remove stopwords\n",
      "    stop = stopwords.words('english')\n",
      "    tokens = [token for token in tokens if token not in stop]\n",
      "    # remove words less that three letters\n",
      "    tokens = [word for word in tokens if len(word) >= 3]\n",
      "    #lower capitalization\n",
      "    tokens = [word.lower() for word in tokens]\n",
      "    # lemmatize\n",
      "    lmtzr = WordNetLemmatizer()\n",
      "    tokens = [lmtzr.lemmatize(word) for word in tokens]\n",
      "    preprocessed_text = ' '.join(tokens)\n",
      "    return preprocessed_text\n",
      "    "
     ],
     "language": "python",
     "metadata": {},
     "outputs": [],
     "prompt_number": 4
    },
    {
     "cell_type": "code",
     "collapsed": false,
     "input": [
      "sms = open('smsspamcollection/SMSSpamCollection')\n",
      "sms_data = []\n",
      "sms_labels = []\n",
      "csv_reader = csv.reader(sms, delimiter='\\t')\n",
      "for line in csv_reader:\n",
      "    # adding the sms_id\n",
      "    sms_labels.append(line[0])\n",
      "    # adding the cleaned text. We are calling preprocessing method\n",
      "    sms_data.append(preprocessing(line[1]))\n",
      "\n",
      "sms.close()    "
     ],
     "language": "python",
     "metadata": {},
     "outputs": [],
     "prompt_number": 7
    },
    {
     "cell_type": "markdown",
     "metadata": {},
     "source": [
      "### Sampling\n",
      "We need to perform some kind of sampling in order to obtain train sets, dev-test sets, and test sets. The idea behind the whole exersice is to avoid overfitting. Sampling itselt is a very complicated and well-researched stream in the machine learning community, and it's a remedy for many data wkewness and overfitting issues. For simplicity, we will use the basic samplig"
     ]
    },
    {
     "cell_type": "code",
     "collapsed": false,
     "input": [
      "%pylab  inline\n",
      "trainset_size = int(round(len(sms_data)*0.7)) # 70:30 train and test split\n",
      "x_train = np.array([''.join(el) for el in sms_data[0: trainset_size]])\n",
      "y_train = np.array([el for el in sms_labels[0: trainset_size]])\n",
      "x_test = np.array([''.join(el) for el in sms_data[trainset_size +1: len(sms_data)]])\n",
      "y_test = np.array([el for el in sms_labels[trainset_size +1: len(sms_data)]])\n",
      "\n",
      "print x_train\n",
      "print y_train\n",
      "print x_test.shape\n",
      "print x_train.shape"
     ],
     "language": "python",
     "metadata": {},
     "outputs": [
      {
       "output_type": "stream",
       "stream": "stdout",
       "text": [
        "Populating the interactive namespace from numpy and matplotlib\n",
        "[ u'jurong point crazy.. available bugis great world buffet ... cine got amore wat ...'\n",
        " u'lar ... joking wif oni ...'\n",
        " u'free entry wkly comp win cup final tkts 21st may 2005 text 87121 receive entry question std txt rate apply 08452810075over18'\n",
        " ...,\n",
        " u'tell call 09066358152 claim \\xa35000 prize enter mobile personal detail prompt careful'\n",
        " u\"thank you 've wonderful\" u'otherwise part time job na-tuition..']"
       ]
      },
      {
       "output_type": "stream",
       "stream": "stdout",
       "text": [
        "\n",
        "['ham' 'ham' 'spam' ..., 'spam' 'ham' 'ham']\n",
        "(1671,)\n",
        "(3900,)\n"
       ]
      }
     ],
     "prompt_number": 11
    },
    {
     "cell_type": "code",
     "collapsed": false,
     "input": [
      "# More info about sampling techniques\n",
      "from IPython.display import IFrame\n",
      "IFrame('http://scikit-learn.org/stable/modules/classes.html#module-sklearn.cross_validation', width=700, height=350)"
     ],
     "language": "python",
     "metadata": {},
     "outputs": [
      {
       "html": [
        "\n",
        "        <iframe\n",
        "            width=\"700\"\n",
        "            height=350\"\n",
        "            src=\"http://scikit-learn.org/stable/modules/classes.html#module-sklearn.cross_validation\"\n",
        "            frameborder=\"0\"\n",
        "            allowfullscreen\n",
        "        ></iframe>\n",
        "        "
       ],
       "metadata": {},
       "output_type": "pyout",
       "prompt_number": 43,
       "text": [
        "<IPython.lib.display.IFrame at 0x1135b1390>"
       ]
      }
     ],
     "prompt_number": 43
    },
    {
     "cell_type": "markdown",
     "metadata": {},
     "source": [
      "Let's transform the entire text into a vector form. The form is referred to as the term-document matrix. The representation of the text is also known as the **Bags of Words (BOW)** representation."
     ]
    },
    {
     "cell_type": "code",
     "collapsed": false,
     "input": [
      "from sklearn.feature_extraction.text import CountVectorizer\n",
      "\n",
      "vectorizer = CountVectorizer(min_df = 1)\n",
      "X_exp = vectorizer.fit_transform(x_train)\n",
      "print \"||\".join(vectorizer.get_feature_names())"
     ],
     "language": "python",
     "metadata": {},
     "outputs": [
      {
       "output_type": "stream",
       "stream": "stdout",
       "text": [
        "00||000||000pes||008704050406||0089||01223585236||01223585334||0125698789||02||0207||02072069400||02085076972||021||03||04||0430||05||050703||0578||06||07||07046744435||07090201529||07090298926||07123456789||0721072||07732584351||07734396839||07742676969||07753741225||0776xxxxxxx||07781482378||07786200117||077xxx||07801543489||07808||07815296484||07821230901||07880867867||07946746291||07xxxxxxxxx||08||0800||08000407165||08000776320||08000839402||08000930705||08000938767||08001950382||08002888812||08002986030||08002986906||08002988890||08006344447||0808||08081263000||08081560665||0825||0844||08448714184||0845||08450542832||08452810071||08452810073||08452810075over18||0870||08700435505150p||08700469649||08700621170150p||08701237397||08701417012||08701417012150p||0870141701216||087016248||08701752560||087018728737||0870241182716||08702490080||08702840625||08704050406||08704439680||08704439680ts||08706091795||0870737910216yrs||08707509020||0870753331018||08707808226||08708034412||08708800282||08709222922||0871||08712101358||08712103738||0871212025016||08712300220||087123002209am||08712317606||08712400200||08712400602450p||08712400603||08712402050||08712402779||08712402902||08712402972||08712404000||08712405020||08712405022||08712460324||08712466669||0871277810810||0871277810910p||087147123779am||08714712379||08714712388||08714712394||08714714011||08715203028||08715203677||08715203694||08715500022||08715705022||08717168528||08717205546||08717890890||08717895698||08717898035||08718711108||08718720201||08718723815||08718725756||087187262701||08718726970||08718726971||08718726978||08718727868||08718727870||08718730555||08718730666||08718738001||08718738034||08719180248||08719181503||08719181513||08719899217||08719899230||09||09041940223||09050000301||09050000460||09050000555||09050000878||09050000928||09050001295||09050001808||09050002311||09050003091||09050005321||09050090044||09050280520||09053750005||09056242159||09057039994||09058091854||09058094454||09058094455||09058094565||09058094594||09058094597||09058094599||09058095107||09058095201||09058097189||09058097218||09058098002||09058099801||09061104276||09061104283||09061209465||09061221061||09061221066||09061701444||09061701461||09061701851||09061701939||09061702893||09061743806||09061743810||09061743811||09061749602||09061790121||09063440451||09063442151||09063458130||09064011000||09064012103||09064012160||09064018838||09064019014||09064019788||09065069120||09065069154||09065171142||09065174042||09065394514||09065394973||09065989180||09065989182||09066350750||09066358152||09066358361||09066362206||09066362220||09066362231||09066364349||09066364589||09066368327||09066368470||09066368753||09066382422||09066612661||09066660100||09071512433||09071517866||09090204448||09090900040||09094100151||09094646899||09096102316||09099725823||09099726395||09099726429||09099726481||09099726553||09111030116||09111032124||09701213186||0quit||10||100||1000||100p||100percent||100txt||1030||10am||10k||10p||10ppm||10th||11||1120||113||1131||114||1146||11mths||11pm||12||1205||120p||121||1225||123||1250||125gift||12hours||12hrs||12mths||1327||14||1405||140ppm||145||1450||146tf150p||14tcr||14thmarch||15||150||1500||150p||150p16||150pm||150ppermesssubscription||150ppm||150ppmpobox10183bhamb64xe||150ppmsg||150pw||153||16||1680||169||18||1843||18p||18yrs||1956669||1b6a5ecef91ff9||1da||1er||1hr||1im||1mega||1million||1pm||1st||1st4terms||1stchoice||1stone||1thing||1win150ppmx3||1winaweek||1x150p||1yf||20||200||2000||2003||2004||2005||2006||2007||200p||20m12aq||20p||21||21870000||21st||22||220||220cm2||2309||23f||23g||24||24hrs||24m||250||250k||25p||26th||27||28||2814032||28days||28th||28thfeb||29||2channel||2day||2docd||2end||2exit||2getha||2geva||2go||2gthr||2hook||2hrs||2kbsubject||2lands||2marrow||2moro||2morow||2morro||2morrow||2mrw||2mwen||2nd||2nhite||2nights||2nite||2optout||2price||2px||2rcv||2stop||2stoptx||2stoptxt||2waxsto||2wks||2wt||2years||2yr||30||300||300603||300p||3030||30apr||30ish||30pm||30pp||30th||31||3100||310303||31p||32||3230||32323||326||33||330||350||3510i||35p||3650||36504||3680||37819||382||391784||3aj||3days||3gbp||3lp||3miles||3mins||3optical||3pound||3qxj9||3rd||3uz||3x||400||400mins||4041||40533||40gb||41685||41782||420||42478||434||4403ldnw1a7rw18||44345||447797706009||447801259231||448712404000||449050000301||449071512431||450p||450ppw||45239||45pm||4719||4742||47per||48||4882||49||4few||4fil||4get||4give||4got||4goten||4info||4jx||4msgs||4mths||4my||4qf2||4th||4the||4txt||4u||4wrd||50||500||5000||505060||50award||50gbp||50p||50perwksub||50pm||50pmmorefrommobile2bremoved||515||5226||523||5249||526||528||530||54||542||5digital||5free||5ish||5min||5p||5pm||5th||5wb||5we||5wkg||5wq||5years||600||6031||60p||61||61200||61610||62220cncl||6230||62468||630||645||65||650||66||67441233||68866||69101||69200||69669||69696||69698||69855||69866||69876||69888||69888nyt||69911||69969||69988||6days||6hrs||6ish||6missed||6months||6ph||6pm||6th||6wu||700||71||7250||7250i||730||74355||75||750||7548||75max||7732584351||786||7876150ppm||79||7am||7ish||7mp||7oz||7pm||7th||800||80062||8007||80082||80086||80122300p||80155||80160||80182||8027||80488||80608||8077||80878||81010||81151||81303||81618||82050||82242||82277||82324||82468||83021||83049||83110||83222||83332||83355||83370||83383||83435||83600||84025||84122||84128||84199||850||85023||85069||85222||85233||8552||85555||86021||861||86688||87021||87066||87070||87077||87121||87131||8714714||872||87239||87575||88039||88066||88088||88222||88600||88800||88877||88888||89034||89080||89105||89545||89555||89693||8am||8lb||8p||8pm||8th||8wp||900||9061100010||9153||92h||930||9307622||945||95||9755||97n7qp||99||9996||9ae||9am||9ja||9pm||9th||9yt||____||a21||a30||aah||aaniye||aaooooright||aathi||ab||abbey||abeg||abel||aberdeen||abi||ability||abiola||abj||able||abnormally||about||aboutas||abroad||abt||abta||aburo||abuser||ac||acc||accenture||accept||access||accidant||accident||accidentally||accommodation||accomodate||accomodations||accordin||accordingly||account||accounting||accumulation||ache||achieve||acid||acknowledgement||acl03530150pm||acnt||aco||across||act||actin||acting||action||activate||active||activity||actor||actually||ad||adam||add||addamsfa||added||addicted||addie||address||adewale||adi||admin||administrator||admirer||admit||adore||adoring||adrian||adult||advance||adventure||advice||advise||advising||aeronautics||aeroplane||affair||affection||affectionate||affidavit||afford||afghanistan||afraid||african||aft||after||afternon||afternoon||aftr||again||against||agalla||age||age16||age23||agency||agent||ages||agidhane||aging||ago||agree||ah||aha||ahead||ahhh||ahmad||ahold||aid||aig||aight||aint||air||air1||airport||airtel||aiya||aiyah||aiyar||aiyo||aka||al||alaipayuthe||album||alcohol||aldrine||alert||alertfrom||alex||alfie||algarve||algorithm||ali||alian||alibi||alive||all||allah||allalo||alle||allo||allow||allowed||almost||alone||along||alot||already||alright||alrite||also||alter||alternative||although||alto18||aluable||alwa||always||alwys||am||amazing||ambitious||ambrith||american||ami||amigo||amk||amla||ammae||ammo||among||amongst||amore||amount||amp||amplikater||amrita||amt||amy||an||ana||anal||analysis||anand||and||andrews||andros||angel||angry||animal||animation||anjie||anjola||anna||annie||anniversary||annoncement||announced||announcement||annoyin||annoying||anot||another||ansr||answer||answered||answering||answr||antha||anthony||anti||any||anybody||anyhow||anymore||anyone||anyplaces||anythin||anything||anythingtomorrow||anytime||anyway||anyways||anywhere||aom||apart||apartment||ape||apeshit||aphex||apnt||apo||apologetic||apologise||apologize||apology||app||apparently||appeal||appear||appendix||applausestore||applebees||apples||application||apply||applying||appointment||appreciate||appreciated||approach||approaching||appropriate||approx||apps||appt||april||aproach||apt||aptitude||ar||arabian||arcade||ard||are||area||arent||arestaurant||aretaking||areyouunique||argentina||argh||argue||arguing||argument||aries||arise||arises||arithmetic||arm||armand||armenia||arng||arngd||arnt||around||aroundn||arr||arrange||arranging||arrested||arrival||arrive||arrived||arrow||arsenal||art||artist||arty||arul||arun||as||asa||asap||ashley||asjesus||ask||askd||asked||askin||asking||asks||asleep||asp||aspect||ass||asshole||associate||assume||assumed||asthere||astne||astoundingly||asus||asusual||at||ate||athletic||athome||atlanta||atlast||atleast||atm||atrocious||attach||attached||attempt||atten||attend||attending||attitude||attraction||attractive||attracts||attributed||atural||auction||audition||audrey||audrie||august||aunt||auntie||aunty||aust||authorise||auto||autocorrect||ava||availa||available||avalarr||avatar||avble||ave||avenge||avent||avo||avoid||avoiding||avoids||await||awaiting||awake||award||awarded||away||awesome||aww||axis||ayn||b4190604||b4280703||b4u||b4utele||ba128nnfwfly150ppm||baaaaabe||babe||baby||babyjontet||babysit||babysitting||bac||back||backdoor||bad||badly||badrith||bag||bahamas||baig||bajarangabali||bak||bakra||bakrid||balance||balloon||bam||bambling||ban||bandage||bang||bangb||bangbabes||bank||banned||banneduk||banter||bao||bar||barbie||barcelona||bare||barely||bari||barolla||barred||base||based||bash||basic||basically||basket||basketball||basq||bat||batch||batchlor||bath||bathe||bathing||bathroom||batsman||batt||battery||battle||bay||bbc||bbd||bbq||bck||bcm||bcm1896wc1n3xx||bcm4284||bcmsfwc1n3xx||bcoz||bcs||bcum||bcums||bday||be||beach||bead||bear||beautiful||beauty||bec||becaus||because||becausethey||become||becomes||becoz||becz||bed||bedbut||bedrm||bedroom||beehoon||been||beer||beerage||befor||before||beforehand||beg||beggar||begging||begin||begun||behave||behind||bein||believe||belive||bell||bellearlier||belligerent||belly||belongs||belovd||beloved||ben||bend||beneath||beneficiary||benefit||best||best1||bet||beta||beth||betta||better||bettersn||bettr||beware||beyond||bfore||bhaji||bhaskar||bhayandar||bian||biatch||bid||big||bigger||biggest||bike||bill||billed||billion||bilo||bin||biola||bird||birla||biro||birth||birthdate||birthday||bishan||bit||bitch||bite||biz||black||blackberry||blah||blake||blame||blank||blanked||blanket||blastin||bleak||bleh||bless||blessed||blessing||blimey||blind||block||blocked||blog||blogging||blogspot||bloke||blonde||bloo||blood||bloody||bloomberg||blow||blown||blu||blue||bluetooth||bluetoothhdset||bluff||bmw||board||boat||body||boggy||bognor||bold||bold2||bollox||boltblue||bonus||boo||book||booked||booking||bookmark||bookshelf||boooo||boost||booty||bootydelious||bored||borin||boring||borrow||bos||boston||both||bother||bothering||bottom||bought||bout||bowa||bowl||box||box1146||box139||box177||box245c2150pm||box326||box334||box334sk38ch||box385||box39822||box403||box420||box42wr29c||box434sk38wp150ppm18||box61||box95qu||box97n7qp||boy||boye||boyf||boyfriend||boytoy||bpo||bra||brah||brain||braindance||brainless||brainy||brand||brandy||brat||braved||bray||brdget||bread||breadstick||break||breakfast||breakin||breaking||breath||breathe||breathe1||breather||breeze||bribe||bridal||bridge||bridgwater||brief||bright||brighten||brilliant||brilliantly||brin||bring||bringing||brings||bristol||british||britney||bro||broad||broadband||broke||broken||bros||brothas||brother||brought||brown||brownie||browse||browsin||bruce||brum||bruv||bslvyl||bsn||bsnl||bstfrnd||bt||btw||bubbletext||buck||bud||buddy||budget||buen||buff||buffet||buffy||bugis||build||building||bull||bun||bunch||bundle||bunker||burger||burgundy||burial||burn||burning||burnt||burrito||bus||bus8||busetop||business||busty||busy||but||butt||buttheres||butting||button||buy||buyer||buying||buzy||buzz||buzzzz||bx420||by||byatch||bye||c52||cab||cabin||cafe||cage||cake||cal||calculated||cali||calicut||call||call09050000327||call2optout||callback||callcost||calld||called||caller||callertune||callfreefone||callin||calling||callon||calls||calm||cam||camcorder||came||camera||campus||can||canada||canal||canary||cancel||cancelled||cancer||canlove||cant||cantdo||cappuccino||captaining||car||card||cardiff||cardin||care||careabout||cared||career||careers||careful||carefully||caring||carlie||carlos||caroline||carpark||carry||carryin||carton||cartoon||case||cash||cashed||cashto||casing||cast||castor||casualty||cat||catch||catching||category||caught||cause||causing||cave||caveboy||cbe||cc100p||ccna||cd||cdgt||cedar||celeb||celebrate||celebrated||celebration||cell||census||center||centre||century||cer||cereal||certainly||certificate||cha||chachi||chad||chain||challenge||challenging||champ||champlaxigating||champneys||chance||change||changed||channel||chap||character||charge||charged||charity||charles||charlie||charming||chart||chase||chasing||chat||chat80155||chatter||chatting||cheap||cheaper||cheat||cheating||chechi||check||checkboxes||checked||checkin||checking||checkup||cheek||cheer||cheered||cheery||cheese||cheesy||cheetos||chef||chennai||cheque||cherthala||chest||cheyyamo||chez||chg||chgs||chicken||chickened||chik||chikku||child||childish||children||childrens||chile||chill||chillaxin||chillin||china||chinatown||chinchilla||chinese||chinky||chinnu||chiong||chip||chk||chocolate||choice||choose||chord||chore||chosen||chrgd||christ||christian||christmas||chuckin||church||cine||cinema||citizen||city||citylink||claim||claimcode||claire||clarification||clark||clash||class||classic||classmate||claypot||cld||clean||cleaning||clear||cleared||clearing||clever||click||cliff||clip||clock||clos1||close||closed||closer||closingdate04||cloth||cloud||club||club4||club4mobiles||clubsaisai||clue||cm2||cnl||cnn||cnupdates||co||coat||coaxing||coca||coccooning||cochin||cock||cocksucker||code||coffee||coimbatore||coin||cola||cold||collage||colleague||collect||collected||collecting||collection||colleg||college||color||colour||com||com1win150ppmx3age16||comb||combination||combine||come||comedy||comes||comfort||comin||coming||comingdown||comment||commercial||commit||community||como||comp||companion||company||compare||compass||competition||complain||complaining||complaint||complementary||complete||completed||completely||completing||complexity||complimentary||comprehensive||compromised||compulsory||computational||computer||computerless||comuk||con||conacted||concentrate||concentrating||concentration||concern||concerned||concert||conclusion||condition||conduct||conected||conference||confidence||configure||confirm||confirmd||confirmed||conform||confused||confuses||congrats||congratulation||connect||connected||connection||consensus||conserve||consider||considering||consistently||console||constant||constantly||contact||contacted||content||continue||contract||control||convenience||converted||converter||convey||convince||convincing||cook||cooked||cooking||cooky||cool||cooped||copied||coping||copy||corect||cornwall||corporation||corrct||correct||correction||corrupt||corvette||cosign||cost||costa||costing||costume||cougar||cough||coughing||could||couldn||count||countin||countinlots||country||coupla||couple||courageous||course||courtroom||cousin||cover||coveragd||covers||coz||cozy||cps||cr01327bt||cr9||crab||crack||crammed||cramp||crap||crash||crashed||crashing||crave||craving||craziest||crazy||crazyin||crckt||cream||created||creative||creativity||credit||credited||creep||creepy||cres||cricketer||crickiting||cried||crisis||cro1327||crore||cross||croydon||crucial||crucify||cruise||cruisin||crushes||cry||cs||csbcm4235wc1n3xx||csc||csh11||cst||cstore||ct||ctagg||ctargg||cthen||ctla||cttargg||ctter||cttergg||ctxt||cuck||cud||cuddle||cuddled||cuddling||cudnt||culture||cum||cumin||cup||cuppa||curfew||curious||current||currently||curry||curtsey||cust||custcare||custom||customer||cut||cute||cutefrnd||cutest||cutie||cutter||cutting||cuz||cw25wx||cya||cyclist||cyst||d3wv||da||daaaaa||dabbles||dabooks||dad||daddy||dai||daily||dammit||damn||dan||dancce||dance||dancin||dancing||dane||dang||danger||dao||dare||dark||darker||darlin||darling||darren||dartboard||dasara||dat||data||date||datebox1282essexcm61xn||dating||datz||dave||dawn||day||days||daytime||daywith||db||dbuk||de||dead||deal||dealer||dear||dear1||dearer||dearly||death||dec||december||decide||decided||deciding||decimal||decision||deck||decking||dedicate||dedicated||deduct||deep||deepak||deeraj||def||deficient||definite||definitely||defo||degree||dehydration||del||delay||delayed||delete||deleted||delhi||delicious||deliver||delivered||deliveredtomorrow||delivery||deltomorrow||dem||demand||den||dena||dent||dentist||department||dependable||dependent||depends||deposit||deposited||depressed||der||derek||derp||describe||description||desert||deserve||designation||desire||desparate||desparately||desperate||despite||dessert||destination||destiny||detail||detailed||details||determine||determined||detroit||deus||develop||developed||developer||devil||devouring||dey||dha||dhanush||dhina||dhoni||dialogue||diamond||dice||dick||dict||dictionary||did||diddy||didn||didnt||didntgive||die||died||diesel||diet||dieting||diff||differ||difference||different||difficult||difficulty||dificult||digi||digit||digital||dignity||dileep||dime||dimension||din||dine||dined||dinero||ding||dinner||dint||dippeditinadew||direct||directly||director||dirt||dirty||dis||disappeared||disaster||disastrous||disc||disclose||disconnect||disconnected||discount||discreet||discus||discussed||disk||dislike||dismay||dismissial||display||distance||distract||disturb||disturbance||disturbing||ditto||divert||division||divorce||diwali||dizzee||dled||dlf||dload||dnot||dnt||do||dob||dobby||doc||dock||doctor||doctors||document||dodda||doe||doesdiscount||doesn||doesnt||dog||dogbreath||dogg||doggin||dogging||doggy||doin||doinat||doing||doit||doke||doll||dollar||domain||don||done||donno||dont||dontignore||dontmatter||dontplease||donyt||doom||door||dorm||dorothy||dose||dosomething||dot||double||doublemins||doubletxt||doubt||doug||dough||down||download||downloaded||downloads||downon||downstem||dozen||dp||dracula||drama||dramastorm||dramatic||draw||dream||dreams||dress||dressed||dresser||drink||drinkin||drinking||drivby||drive||driver||drivin||driving||drizzling||drms||drop||dropped||drove||drpd||drug||drugdealer||drum||drunk||drunkard||drunken||drvgsto||dry||dryer||dub||dubsack||duchess||ducking||dude||due||duffer||dumb||dun||dungerees||dunno||duo||durban||durham||dusk||dust||dvd||dwn||dying||e14||each||eachother||ear||earlier||earliest||early||earn||earning||earth||easier||easiest||easily||east||eastenders||easter||easy||eat||eaten||eatin||eating||ebay||ec2a||ecstasy||edge||edhae||edison||edition||edrunk||edu||educational||edukkukayee||eerie||eerulli||effect||egbon||egg||eggs||ego||eh74rr||eight||eighth||eightish||eire||either||ela||elaborating||elaine||elama||elaya||eldest||electricity||elephant||elliot||ello||else||elsewhere||elvis||email||emailed||embarassed||embarassing||embarrassed||embassy||emc1||emergency||emigrated||employee||employer||empty||enc||end||ended||ending||endof||endowed||ends||enemy||energy||eng||engaged||engalnd||engin||england||english||enjoy||enjoyed||enjoyin||enketa||enough||ente||enter||entered||enters||entertain||entertaining||entey||entire||entirely||entitled||entrepreneur||entropication||entry||entry41||enuff||envelope||environment||envy||epi||eppolum||equally||er||ere||ericson||ericsson||erm||erode||err||error||ertini||eruku||erupt||escalator||escape||ese||espe||especially||esplanade||essential||establish||etc||ethnicity||euro||euro2004||eurodisinc||europe||evaluation||evaporated||eve||eveb||even||evening||event||ever||every||every1||everybody||everyboy||everyday||everyone||everyones||everyso||everythin||everything||everytime||everywhere||evil||evn||evng||evo||evr||evrey||evrydy||ex||exact||exactly||exam||excellent||except||excited||exciting||excuse||excused||exe||executive||exercise||exeter||exhaust||exhausted||exhibition||exist||exmpel||exorcist||exp||expect||expected||expecting||expensive||experience||experiment||expert||expired||expires||expiry||explain||explicitly||explosive||exposes||express||expression||expressoffer||ext||exterminator||extra||extreme||eye||f4q||fab||faber||face||facebook||fact||factory||faded||faggot||faggy||faglord||failed||fails||fainting||fair||faith||fake||fal||falconerf||fall||fallen||falling||fals||famamus||family||famous||fan||fancy||fantastic||fantasy||far||farm||fast||faster||fastest||fat||fated||father||fathima||fatty||fault||fav||fave||favor||favour||favourite||fear||feathery||feb||february||fed||fedex||fee||feel||feelin||feeling||feelingood||feet||fell||fellow||felt||female||feng||festival||fetch||fetching||fever||few||ffectionate||fffff||ffffffffff||fidalfication||field||fifa||fifteen||fifth||fifty||fight||fighting||fightng||figure||figuring||file||fill||filled||filling||film||filth||filthy||filthyguys||final||finalise||finally||finance||financial||find||finding||fine||finest||finger||fingers||finish||finished||finishing||fink||finn||fire||firefox||fireplace||fires||first||fish||fishhead||fishrman||fit||five||fix||fixed||fixedline||flag||flaked||flaky||flame||flash||flat||flea||fletcher||flight||flim||flip||flippin||flirt||flirting||flirtparty||floating||flood||floor||flow||flower||flowing||fluid||flung||flute||fly||flying||flyng||fml||foley||folk||follow||followed||followin||following||fond||fondly||fone||fones||fonin||food||fool||fooled||foot||football||footbl||footie||footprint||footy||for||force||forced||foreign||forever||forevr||forfeit||forget||forgets||forgive||forgiven||forgiveness||forgot||forgotten||form||formal||formally||format||formatting||forth||forum||forward||forwarded||forwarding||found||foundurself||four||fourth||fox||fps||fr||fraction||fran||frank||franyxxxxx||fraud||freak||freaked||freaky||fredericksburg||free||free2day||freedom||freefone||freek||freely||freemsg||freephone||freezing||fren||french||frens||fresh||fresher||fret||fri||friday||fridge||friend||friends||friendsare||friendship||fring||fringe||frm||frmcloud||frnd||frnds||frndship||frndshp||frndsship||frndz||frnt||fro||frog||from||fromm||front||frosty||fruit||frwd||frying||ft||fuck||fuckin||fucking||fudge||fuelled||fujitsu||ful||fulfil||full||fullonsms||fun||function||fundamental||funeral||funk||funky||funny||furniture||fusion||future||fwiw||fyi||g696ga||gage||gail||gained||gal||galileo||gals||game||games||gamestar||gandhipuram||ganesh||gang||gap||garage||garbage||gardener||gari||gary||gas||gate||gauge||gautham||gauti||gave||gay||gayle||gaytextbuddy||gaze||gbp||gbp1||gbp4||gbp5||gdeve||ge||gee||geeee||geeeee||gei||gender||generally||genius||gent||gentle||gentleman||gently||genuine||george||gep||germany||get||getiing||geting||getsleep||getstop||gettin||getting||getzed||ghodbandar||ghost||gibbs||gibe||gift||gifted||giggle||gim||gimmi||gin||girl||girlfrnd||girlie||gist||giv||give||given||giving||glad||glasgow||glass||glo||global||glorious||glory||gloucesterroad||gm||gmw||gn||gnt||gnun||go||go2sri||goal||goals||gobi||god||goggles||goin||goin2bed||going||gold||golden||gon||gona||gone||gong||gonnamissu||good||goodevening||goodfriend||goodmate||goodmorning||goodnight||goodnite||goodnoon||goodo||goodtime||goody||google||gopalettan||gorgeous||gosh||gossip||got||gota||gotany||gotbabes||goto||gotten||gotto||govt||gower||gpu||gr8||gr8fun||grab||grace||grahmbell||gram||grand||grandfather||grandma||granite||granted||grateful||grave||gravel||gravity||gray||great||greatness||greece||green||greet||greeting||grief||grinder||grins||grinule||grl||groovy||groovying||ground||group||grow||growing||grown||grr||grumpy||gua||guarantee||guaranteed||gud||gudni8||gudnite||gudnyt||guess||guessin||guide||guild||guilty||guitar||gumby||gurl||guy||gving||gym||gymnastics||ha||habba||habit||hack||had||haf||haha||hahaha||hai||hail||hair||hairdresser||half||half8th||hall||halla||hallaq||halloween||ham||hamper||hamster||hand||handed||handing||handle||handset||handsome||handsomes||hang||hanger||hangin||hanging||hank||hanuman||hanumanji||happen||happend||happened||happenin||happening||happens||happier||happily||happiness||happy||hard||hardcore||hardest||hardly||hari||harish||harlem||harri||harry||hasbro||hasnt||hate||haul||hav||hav2hear||hava||havbeen||have||havebeen||haven||havent||haventcn||havin||having||havnt||hcl||hdd||he||head||headache||headin||heading||headstart||heal||healer||hear||heard||hearing||heart||hearted||hearts||heavy||hectic||hee||heehee||height||held||helen||hell||hella||hello||helloooo||help||help08700621170150p||help08714742804||help08718728876||helpful||helpline||hen||hence||hep||her||here||hero||heron||hesitate||hesitation||hex||hey||hf8||hg||hhahhaahahah||hide||hiding||high||highest||hilarious||hill||hillsborough||him||himso||hint||hip||hire||his||history||hit||hitman||hitter||hittng||hiya||hlp||hme||hmm||hmmm||hmv||hmv1||hockey||hogidhe||hogli||hogolo||hol||hold||holder||holding||hole||holiday||holla||hollalater||hols||holy||home||homeowner||hon||honest||honestly||honesty||honey||honeybee||honeymoon||hook||hooked||hoop||hop||hope||hoped||hopeful||hopefully||hoping||hor||horniest||horny||horo||horrible||horse||hospital||host||hostel||hot||hotel||hotmail||hotmix||hottest||hour||hourish||house||houseful||housework||housing||how||howard||howda||howdy||however||hows||howu||howz||hp20||hppnss||hr||hrishi||hsbc||html||http||huai||hubby||hudgi||hug||huge||hugh||huh||hui||huiming||hum||human||hun||hundred||hungover||hungry||hunk||hunny||hunt||hunting||hurricane||hurried||hurry||hurt||hurting||husband||hussey||hustle||hv9d||hvae||hw||hyde||hype||hypertension||hypotheticalhuagauahahuagahyuhagga||ia||iam||ibh||ibhltd||ibiza||ibm||ibn||ibuprofen||iccha||ice||icic||icicibank||icky||icmb3cktz8r7||icon||id||idc||idea||ideal||identifier||idew||idiot||idk||idp||idu||if||iff||ifink||ignorant||ignore||ihave||ijust||ikea||ikno||iknow||il||ill||illspeak||ilol||image||imagination||imagine||imf||img||imin||imma||immediately||immunisation||imp||impatient||important||importantly||imposed||impossible||imposter||impress||impressed||impressively||improve||improved||imprtant||in||in2||inc||inch||incident||include||includes||including||inclusive||incomm||inconsiderate||incorrect||incredible||increment||inde||indeed||independence||independently||index||india||indian||individual||indyarocks||inever||infernal||info||inform||information||informed||infra||infront||ing||ingredient||initiate||ink||inlude||inner||inning||innocent||innu||inperialmusic||inpersonation||inr||insect||insha||inshah||inside||inspection||inst||install||installation||installing||instant||instantly||instead||instituitions||instruction||insurance||intelligent||intend||intention||interest||interested||interesting||interflora||interfued||internet||interview||interviw||intha||into||intrepid||intro||intrude||invader||invest||investigate||invitation||invite||invited||inviting||invnted||invoice||involve||iouri||ip4||ipad||ipaditan||ipads||iphone||ipod||iraq||irene||iron||ironing||irritated||irritates||irritating||is||isaiah||iscoming||ish||ishtamayoo||island||isn||isnt||issue||issues||isv||it||italian||itcould||item||iter||itna||itried2tell||its||itself||itwhichturnedinto||itxt||itz||ivatte||ive||iwana||iwas||izzit||j5q||j89||jabo||jack||jacket||jackpot||jackson||jacuzzi||jada||jaklin||james||jamster||jamz||jan||janarige||jane||janinexx||january||janx||jap||japanese||jas||jason||java||jay||jaya||jaykwon||jazz||jealous||jean||jeetey||jelly||jen||jenne||jenny||jenxxx||jeremiah||jeri||jerry||jersey||jess||jesus||jet||jez||jia||jiayin||jide||jiu||jjc||joanna||job||jobyet||jock||jod||jog||john||join||joined||joining||joke||jokin||joking||jolly||jolt||jon||jones||jontin||jordan||jorge||jos||jot||journey||joy||jsco||jst||jstfrnd||jsut||juan||juicy||jul||jules||july||jump||june||jungle||junna||jurong||jus||just||justbeen||justify||justthought||juz||k52||k61||k718||kaaj||kadeem||kaiez||kaitlyn||kalainar||kalisidare||kallis||kalstiya||kama||kanagu||kanji||kano||karaoke||karo||kate||katexxx||kavalan||kay||kaypoh||keen||keep||keeping||kegger||keluviri||ken||kent||kept||kerala||keralacircle||keris||kettoda||key||keyword||kicchu||kick||kickboxing||kickoff||kid||kidding||kidz||kiefer||kill||killed||killing||kilo||kind||kinda||kindly||king||kingdom||kisi||kiss||kisses||kissing||kittum||kitty||kl341||knackered||knee||knew||knickers||knock||knocking||know||knowing||known||knw||kochi||kodstini||kodthini||kolathupalayam||konw||korche||korean||korli||korte||ktv||kuch||kudi||kusruthi||kvb||l8r||l8rs||l8tr||la32wu||lab||labor||lac||lacking||lacs||laden||lady||lag||lager||laid||lakh||lambda||lambu||lancaster||land||landline||landlineonly||lane||langport||language||lanka||lap||lapdancer||laptop||lar||lara||large||largest||lark||lasagna||last||lastest||lasting||late||lately||latelyxxx||later||latest||latr||laugh||laughed||laughing||laughs||laundry||laurie||law||laxinorficated||lay||laying||lazy||lccltd||ld||ldew||ldn||ldnw15h||le||lead||leadership||leaf||leafcutter||league||leanne||learn||learned||least||leave||leaving||lect||lecture||left||leftover||leg||legal||leh||lei||lekdog||lem||length||lennon||leo||leona||leonardo||lesser||lesson||lessons||let||lets||letter||level||lf56||liao||lib||libertine||library||lick||lido||lie||life||lifebook||lifeis||lifetime||lifpartnr||lift||lifted||lifting||light||lighter||lightly||lik||like||liked||likely||likeyour||liking||lil||lily||lim||limit||limited||lindsay||line||lined||linerental||lingerie||lingo||link||linux||lion||lionm||lionp||lip||lipo||liquor||list||listed||listen||listened2the||listener||listening||listening2the||listn||little||live||lived||liverpool||living||lkpobox177hp51fl||ll||llc||llspeak||lmao||lnly||load||loan||lobby||local||location||locaxx||lock||lodge||lodging||log||login||logo||logoff||logos||loko||lol||lolnice||lololo||london||lonely||long||longer||look||lookatme||looked||lookin||looking||lool||loose||lor||lord||lose||loser||loses||losing||lost||lot||lotr||lotsly||lotta||lotto||lou||loud||lounge||lousy||lov||lovable||love||loved||lovejen||lovely||loveme||lover||loverboy||lovin||loving||lovingly||low||lower||loxahatchee||loyalty||ls1||ls15hb||ls278bb||ltd||ltdhelpdesk||lttrs||lubly||luck||luckily||lucky||lucozade||lucy||lucyxx||luks||lul||lunch||lunchtime||luton||luv||luvd||luvs||lux||luxury||lvblefrnd||lyf||lyfu||lying||lyk||m221bp||m26||m263uz||m39m51||m60||m8s||m95||ma||maaaan||maangalyam||mac||macedonia||macha||machan||machi||machine||macho||mack||mad||mad1||mad2||madam||made||madodu||madoke||madstini||madurai||mag||maga||maggi||magic||magical||magicalsongs||mah||mahal||mahaveer||maid||mail||mailbox||main||maintain||major||make||makiing||makin||making||malaria||malarky||male||mall||mallika||man||manage||management||manda||mandan||mandy||maneesha||manege||maniac||manual||many||map||maraikara||march||maretare||margaret||marine||mark||market||marketing||marking||marley||marrge||marriage||married||marry||marsms||maruti||mary||mas||massage||master||masteriastering||mat||match||matched||mate||math||mathe||mathematics||matra||matric||matrix3||matter||matthew||matured||maturity||max||max10mins||max6||maximize||maximum||may||mayb||maybe||mca||mcat||mcfly||mcr||me||meal||mean||meaning||meaningful||meaningless||meant||meanwhile||measure||meat||mecause||med||medical||medicine||mee||meet||meetin||meeting||meetins||meh||mei||meive||mel||melle||melnite||melody||member||membership||memorable||memory||men||mental||mention||mentioned||mentionned||menu||meow||merely||merememberin||merry||mess||message||messaged||messages||messaging||messed||messenger||messy||met||mfl||mia||mid||middle||midnight||mids||might||miiiiiiissssssssss||mike||mila||mile||milk||miller||million||milta||min||minapn||mind||minded||mindset||mine||minecraft||mini||minimum||minmobsmore||minmobsmorelkpobox177hp51fl||minmoremobsemspobox45po139wa||minnaminunginte||mint||minus||minute||minuts||miracle||mirror||misbehaved||misplaced||miss||misscall||missed||missin||missing||mission||missionary||missunderstding||missy||mist||mistake||mite||mitsake||mittelschmertz||mix||mk17||mk45||mmm||mmmm||mmmmm||mmmmmm||mmsto||moan||mob||mobcudb||mobile||mobilesdirect||mobilesvary||mobileupd8||mobno||mobsi||mobstorequiz10ppm||moby||mobypobox734ls27yf||mode||model||modl||module||mofo||moji||mojibiola||molested||mom||moment||mon||monday||mone||money||monkeespeople||monkey||monkeyaround||mono||monoc||monster||month||monthly||monthlysubscription||mood||moon||moral||more||morefrmmob||morn||mornin||morning||morphine||morrow||moseley||most||mostly||mother||motive||motorola||mouth||move||moved||movie||movietrivia||mp3||mr||mrng||mrt||ms||msg||msg150p||msging||msgrcvd18||msgrcvdhg||msn||mt||mtalk||mth||mths||mtmsg||mtmsg18||mtmsgrcvd18||mu||much||muchand||muchxxlove||mudyadhu||multimedia||multiply||multis||mum||mummy||mumtaz||mundhe||munsters||murali||murder||murdered||murderer||mush||mushy||music||musical||musicnews||must||musthu||mutai||mutation||muz||mwahs||my||mycalls||mylife||mymoby||myparents||mys||myself||mystery||n9dx||na||naal||nag||nagar||nah||nahi||naked||nalla||nalli||name||name1||name2||named||nammanna||namous||nan||nange||nanny||nap||narcotic||nasdaq||naseeb||nasty||nat||national||nattil||natural||nature||natwest||naughty||nauseous||nav||nd||ndship||near||nearby||nearer||nearly||necesity||necessarily||necessary||necessity||neck||necklace||ned||need||needa||needed||needing||needle||needy||neft||neglect||neglet||neighbor||neighbour||neither||nelson||neo69||nervous||neshanth||net||netcollex||netflix||nething||network||networking||neva||nevamind||never||nevering||neville||new||neway||newest||newquay||news||newscaster||newsletter||newspaper||next||ni8||nic||nice||nichols||nick||nickey||nicky||nig||nigeria||night||nighters||nigpun||nigro||nike||nikiyu4||nimya||ninish||nino||nipost||nit||nite||nitro||nitros||nitz||no||no1||nobbing||nobody||noe||noi||noisy||nok||nokia||nokia6600||nokia6650||nokias||noline||non||noncomittal||none||nookii||noon||nope||nora||nordstrom||norm||norm150p||normal||normally||northampton||nosh||nosy||not||note||notebook||nothin||nothing||notice||notification||notified||notixiquating||noun||novelty||november||now||nowadays||nowhere||nri||nt||nte||ntimate||ntt||ntwk||nu||nuclear||nudist||nuerologist||num||number||nurse||nursery||nurungu||nus||nusstu||nutter||nver||nvm||nvq||nxt||ny||nyc||nydc||nyt||nytho||o2||o2fwd||oath||obedient||obese||obey||objection||oble||oblisingately||obviously||occasion||occupied||occupy||occur||ocean||oclock||october||odalebeku||odi||of||off||offc||offcampus||offdam||offer||offered||offering||office||official||officially||offline||ofice||ofsi||ofstuff||often||ogunrinde||oic||oil||ok||okay||okden||okey||okie||okies||okmail||ola||olage||old||oli||ollu||olol||olowoyey||olympics||omg||omw||on||onam||onbus||once||ondu||one||oni||onion||online||onluy||only||only1more||onto||onum||onwards||ooh||oooh||oooooh||oops||open||opened||openin||opening||operate||operator||opinion||opportunity||opposed||opps||opt||opted||optimistic||optin||option||optout||or||or2optout||or2stoptxt||oral||orange||orc||orchard||order||ordered||ordinator||ore||oredi||oreo||organise||organizer||orig||original||orno||oru||oscar||oso||other||others||otherwise||otside||ouch||our||out||outage||outbid||outdoors||outfit||outfor||outgoing||outl8r||outrageous||outreach||outside||outstanding||outta||ovarian||oveable||over||overa||overdose||overheating||overtime||ovr||ovulation||ow||owe||owl||owned||owns||owo||oyea||pa||pace||pack||package||packing||padhe||page||pages||pai||paid||pain||painful||paining||painting||pair||pale||palm||pan||panasonic||pandy||panic||panicks||panren||pansy||pant||pap||papa||paper||paperwork||paracetamol||parachute||paragon||paragraph||paranoid||parchi||parco||parent||paris||park||parked||parkin||part||participate||particular||particularly||partner||partnership||party||paru||pas||pass||passable||passed||passion||passionate||passport||password||past||pataistha||patent||path||pathaya||pattern||patty||pavanaputra||pax||pay||payasam||payback||payed||payed2day||payee||paying||payment||payoh||paypal||pc1323||pdate_now||peace||peaceful||peak||pear||pee||peep||pehle||pei||pen||pending||penis||penny||people||per||percentage||perfect||performance||performed||perhaps||peril||period||peripheral||permanent||permission||perpetual||persevered||person||person2die||personal||personality||personally||persons||pert||pesky||pest||pete||petey||petrol||petticoatdreams||pg||ph||pharmacy||phasing||phb1||phd||phews||phil||philosophical||philosophy||phne||phoenix||phone||phone750||phoned||photo||php||phyhcmk||physic||piah||pic||pick||picked||picking||pickle||picsfree1||picture||pie||piece||pierre||pig||piggy||pilate||pile||pillow||pimples||pin||pink||pissed||pix||pixel||pizza||place||placed||placement||plaid||plan||plane||planet||planned||planning||plate||platt||play||played||player||playing||playng||plaza||pleasant||please||pleased||pleassssssseeeeee||pleasure||plenty||plm||ploughing||pls||plum||plumber||plumbing||plural||plus||plyr||plz||pm||pmt||pobox||pobox1||pobox114||pobox12n146tf15||pobox12n146tf150p||pobox334||pobox36504w45wq||pobox365o4w45wq||pobox45w2tg150p||pobox84||poboxox36504w45wq||pocket||pocketbabe||pocy||pod||poem||poet||point||poker||poking||pokkiri||pole||police||politician||poly||poly3||polyc||polyph||polyphonic||polys||pongal||ponnungale||poo||pooja||pookie||pool||poop||poor||poortiyagi||pop||popcorn||popped||popping||porn||porridge||portal||pos||pose||posh||posible||position||possession||possessive||possessiveness||possible||possibly||post||postal||postcard||postcode||posted||postponed||potato||potential||potter||pouch||pound||pounded||poured||pours||pouts||power||poyyarikatur||ppl||pple||ppm||ppm150||ppt150x3||prabha||prabu||pract||practical||practice||practicing||practicum||practising||praise||prakesh||praps||prasad||prashanthettan||praveesh||pray||prayer||praying||pre||predict||predicting||prediction||prefer||preferably||prem||premarica||premier||premium||prepaid||prepare||prepared||prepayment||preschoolco||prescripiton||prescription||presence||present||presley||press||pressies||pressure||prestige||pretend||pretsorginta||pretsovru||pretty||prevent||preview||previously||prey||price||priest||prince||princess||printed||printer||printing||prior||priority||priscilla||privacy||private||prix||priya||prize||prizeswith||pro||prob||probably||problem||problematic||problum||probs||probthat||process||processed||prod||product||professional||professor||profile||profit||program||progress||project||prolly||prominent||promise||promised||promo||promotion||prompt||promptly||prone||proof||proove||prop||properly||property||propose||propsd||prospect||protect||prove||proverb||provided||provider||province||ps3||psychiatrist||psychic||psychologist||pt2||ptbo||pthis||pub||public||publish||pudunga||pull||pulling||pump||punch||punish||punj||pura||purchase||pure||purity||purple||purpose||purse||push||pushes||pussy||put||puttin||putting||puzzeles||puzzle||px3748||qatar||qing||qjkgighjjgcbl||qlynnbv||quality||que||queen||ques||question||questioned||quick||quickly||quiet||quit||quite||quiz||quizclub||quote||quoting||r836||racal||racing||radio||raed||rael||raiden||railway||rain||raining||raise||raised||raj||raja||raji||rajini||rajnikant||rakhesh||raksha||rally||ralphs||ramaduth||ran||random||randomlly||randomly||randy||rang||range||ranjith||raping||rate||rather||ratio||raviyog||rawring||ray||rcb||rcd||rct||rcv||rcvd||re||reach||reache||reached||reaching||reacting||reaction||read||reader||readiness||reading||ready||real||realised||reality||realize||realized||realizes||really||reallyneed||realy||reason||reboot||rebtel||rec||recd||receipt||receive||receivea||received||receiving||recent||recently||reception||recession||recharge||recharged||recieve||reckon||recognise||recognises||record||recorded||recovery||recycling||red||redeemable||redeemed||ref||reference||references||reffering||refilled||reflection||reflex||reformat||refreshed||refund||refunded||refused||reg||regalportfolio||regard||regarding||register||registered||registration||regret||regretted||regular||rejected||related||relation||relationship||relative||relax||relaxing||released||reliant||relieved||reltnship||rem||remain||remains||remb||remember||remembered||rememberi||remembr||remembrs||remind||reminded||reminder||reminding||reminds||remixed||removal||remove||removed||renewal||rent||rental||renting||rentl||rents||repair||repent||replacement||replacing||replied||reply||replying||replys150||report||reppurcussions||representative||republic||request||required||requirement||requires||research||resend||reservation||reserve||reserved||reset||residency||resizing||reslove||resolution||respect||responce||respond||responding||response||responsibility||responsible||rest||restaurant||restock||restocked||restrict||restriction||resubbing||resubmit||result||resume||retard||retired||retrieve||return||returned||returning||reunion||reveal||revealed||reverse||review||revision||reward||rewarding||rg21||rgds||rgent||rhythm||rice||rich||ridden||ride||right||rightio||rightly||riley||rimac||ring||ringing||ringtone||ringtoneking||ringtones||rinu||rip||rise||risk||rite||river||ro||road||roast||rob||robs||rock||rodds1||rodger||rofl||roger||role||rolled||romantic||romcapspam||ron||room||roommate||rose||rough||round||rounder||row||rowdy||rp176781||rpl||rply||rr||rs||rstm||rt||rtf||rtm||rto||rub||rubber||rude||rudi||rugby||ruin||ruining||rule||rum||rummer||rumour||run||running||rupaul||rush||ruthful||rvx||rwm||ryan||ryder||s3xy||s89||sabarish||sac||sachin||sack||sacked||sacrifice||sad||sae||saeed||safe||safely||safety||said||sake||salad||salam||salary||sale||sales||salon||sam||samachara||samantha||sambar||same||samus||sang||sankatmochan||sankranti||sao||sapna||sar||sara||sarcasm||sarcastic||saristar||sariyag||sary||sat||satanic||sathy||satisfied||satisfy||satsgettin||saturday||saucy||sausage||savamob||save||saved||saw||say||sayhey||sayin||saying||sayy||scallies||scammer||scarcasim||scared||scary||scenario||scenery||sch||schedule||school||science||scold||scorable||score||scoring||scotch||scotland||scrappy||scratch||scratching||scream||screamed||screaming||screen||screwd||scrounge||scrumptious||sculpture||sdryb8i||sea||search||searching||season||seat||sec||second||secondary||secret||secretary||secretly||section||sed||see||seeing||seeker||seeking||seem||seemed||seems||seen||sef||seh||sehwag||selected||selection||self||selfish||selflessness||sell||selling||semester||semi||sen||send||sender||sending||sends||senor||senrd||sense||sensible||sensitive||sent||sentence||senthil||sentiment||sept||september||series||serious||seriously||served||server||service||serving||set||setting||settle||settled||settling||seven||seventeen||several||sex||sextextuk||sexual||sexy||sg||sha||shade||shadow||shag||shagged||shahjahan||shakara||shake||shakespeare||shaking||shall||shame||shampain||shangela||shanghai||shant||shaping||share||shared||sharing||shattered||shaved||shb||shd||she||sheet||sheffield||shelf||shell||sherawat||shes||shesil||shhhhh||shifad||shijas||shinco||shining||shiny||ship||shipped||shipping||shirt||shit||shitin||shitinnit||shitload||shitstorm||shivratri||shld||shldxxxx||shock||shocking||shoe||shoot||shop||shopping||shoranur||shore||short||shortage||shortcode||shorter||shortly||shot||shoul||should||shoulder||shouted||shouting||shove||shoving||show||showed||shower||showered||showing||showroom||shracomorsglsuplt||shrek||shrink||shudvetold||shuhui||shun||shut||shy||si||sian||sib||sic||sick||side||sigh||sighs||sight||sign||signal||significance||significant||signin||signing||siguviri||silence||silent||silently||silly||silver||sim||simonwatson5120||simple||simpler||simply||simulate||since||sinco||sindu||sing||singing||single||sink||sip||sipix||sips||sir||sirji||sister||sit||site||sitll||sitter||sittin||sitting||situation||siva||six||size||sized||sk3||sk38xh||skateboarding||skilgme||skill||skillgame||skin||skip||skirt||sky||skype||skyped||slaaaaave||slap||slave||sleep||sleeping||sleepingwith||sleepwell||sleepy||slept||slice||slide||sliding||slightly||slip||slipper||slippery||slo||slob||slot||slovely||slow||slower||slowing||slowly||slurp||sm||smacks||small||smart||smartcall||smarter||smashed||smear||smell||smeone||smidgin||smile||smiled||smiles||smiley||smiling||smith||smoke||smoked||smokin||smoking||smoothly||sms||smsco||smsrewards||smsservices||smth||snake||snap||snatch||snickering||snogs||snoring||snow||snowball||snowman||so||soc||sochte||social||sofa||soft||software||soil||soiree||sol||soladha||sold||solve||solved||some||some1||somebody||someday||someone||someplace||somerset||somethin||something||sometime||sometimes||sometme||somewhat||somewhere||somewheresomeone||somewhr||somtimes||sonathaya||sonetimes||song||sony||sonyericsson||soo||soon||sooner||soonlots||sooo||soooo||sooooo||sophas||sore||sorrow||sorrows||sorry||sort||sorta||sorted||sorting||sory||soryda||soul||sound||sounding||sounds||soundtrack||soup||source||south||souveniers||space||spageddies||spain||spanish||spare||spark||spatula||speak||speaking||spec||special||speciale||specialisation||specialise||specially||specific||specify||speechless||speed||speedchat||speeding||speling||spell||spelling||spend||spending||spent||sphosting||spiffing||spile||spirit||spk||spl||splashmobile||splendid||splleing||spoil||spoiled||spoilt||spoke||spoken||sponsor||spontaneously||spook||spoon||sport||sportsx||spose||spot||spotty||spouse||sppok||spreadsheet||spree||spring||sprint||sptv||spun||spy||sq825||squatting||squeeeeeze||squid||squishy||sr||srsly||srt||sry||stable||stadium||staff||stagwood||stair||stalk||stalking||stamp||stamped||stand||standard||standing||stapati||star||staring||starring||starshine||start||started||starting||starving||starwars3||stash||stated||statement||station||status||stay||stayed||stayin||staying||std||stdtxtrate||steak||steal||stealing||steam||steamboat||steed||steering||step||stereo||stereophonics||sterling||stewartsize||sth||stick||stifled||still||stitch||stock||stocked||stockport||stomach||stomps||stone||stoner||stool||stop||stop2||stop2stop||stopbcm||stopcost||stopcs||stopped||stopsms||stoptxtstop||store||storming||story||str||str8||straight||strain||strange||stranger||stream||street||stress||stressed||stretch||strewn||strict||strike||strip||stripe||stroke||strong||strongly||strt||strtd||struggling||sts||stubborn||stuck||studdying||student||studentfinancial||studio||study||studying||studyn||stuff||stuff42moro||stuffed||stupid||style||styling||stylish||stylist||sub||subletting||submitted||submitting||subpoly||subs16||subscribe||subscribed||subscriber||subscription||subscriptn3gbp||subscrition||subtoitles||success||successful||successfully||such||suck||sucker||sue||suffer||sufficient||suganya||sugar||sugardad||suggest||suit||suite||suite342||sullivan||sum||sum1||suman||summer||summon||sumthin||sun||sun0819||sunday||sundayish||sunny||sunoco||sunroof||sunscreen||sunshine||suntec||sup||super||superb||superior||supervisor||suply||supose||supplier||supply||support||supposed||supreme||suprman||sura||sure||surely||surfing||surgical||surname||surprise||surprised||surrounded||survey||surya||sutra||sux||suzy||svc||sw7||sw73ss||swalpa||swann||swap||swatch||sway||swear||sweatter||sweet||sweetest||sweetheart||sweetie||swell||swimming||swimsuit||swing||swiss||switch||swoop||swt||swtheart||syllabus||symbol||sympathetic||synced||syria||system||t4get2text||t91||ta||table||tablet||tackle||taco||tactful||tactless||tag||tagged||tahan||tai||taj||take||takecare||taken||takin||taking||talent||talk||talked||talkin||talking||tall||tallent||tampa||tank||tap||tape||tariff||tarot||tarpon||taste||tat||tata||tattoo||tau||taught||tax||taxi||taxless||taxt||taylor||tayseer||tc||tcr||tddnewsletter||tea||teach||teacher||teaching||team||tear||tease||teasing||tech||technical||technology||tee||teenager||teeth||teju||tel||telephone||telephonic||teletext||tell||telling||telly||telphone||telugu||temp||temper||temple||ten||tenant||tendency||tenerife||tensed||tension||teresa||term||ternal||terrible||terrific||terrorist||terry||tescos||tessy||test||testing||tex||text||text82228||textand||textbook||textbuddy||textcomp||texted||textin||texting||textoperator||textpod||texts||tgxxrz||th||thangam||thank||thanks||thanks2||thanksgiving||thankyou||thanx||thanx4||thasa||that||that2worzels||thats||the||the4th||theacusations||theater||theatre||thecd||thedailydraw||thekingshead||them||themed||themob||then||thenampet||theoretically||theory||thepub||there||these||thesedays||thesis||thew||they||theyre||thgt||thia||thin||thing||things||think||thinked||thinkin||thinking||thinl||thirtyeight||thirunelvali||this||thk||thkin||thm||thnk||thnq||thnx||tho||those||thot||though||thought||thoughts||thousand||thread||threat||threats||three||threw||thriller||throat||throw||throwin||throwing||thrown||thru||tht||thts||thuglyfe||thurs||thursday||thus||thx||thy||ti||tick||ticket||tie||tiempo||tiger||tight||tightly||tigress||tihs||tiime||til||till||tim||time||timi||timin||timing||tired||tiring||tirunelvai||tirunelvali||tirupur||tissco||title||tiwary||tiz||tkls||tkts||tlk||tlp||tm||tming||tmorow||tmorrow||tmr||tmrw||tms||tnc||tncs||to||toa||tobacco||toclaim||today||todo||together||tok||token||tol||told||toledo||tolerat||toll||tom||tomarrow||tome||tomeandsaid||tomo||tomorro||tomorrow||tomorw||ton||tone||tones2u||tones2you||tonght||tonight||tonite||too||took||tookplace||tool||tooo||toot||tooth||toothpaste||tootsie||top||topic||topped||toppoly||tor||torch||torrent||tortilla||tosend||toshiba||toss||tot||total||totally||tote||touch||touched||tough||toughest||tour||towards||town||toxic||track||trackmarque||trade||tradition||traffic||train||training||trainners||transaction||transcribing||transfer||transfered||transferred||transfr||transfred||transport||trash||trauma||trav||travel||traveling||treat||treated||treble||tree||trek||trend||trial||tried||trip||triumphed||trivia||tron||trouble||troubleshooting||trouser||truck||true||true18||truffle||truly||truro||trust||truth||try||tryin||trying||tsandcs||tscs||tscs087147403231winawk||tsunami||ttyl||tue||tues||tuesday||tui||tuition||tul||tulip||tunde||tune||tunji||turn||turned||turning||tv||twat||twelve||twenty||twice||twiggs||twilight||twin||twinks||twittering||two||txt||txt250||txt43||txt82228||txtauction||txtin||txting||txtno||txts||txtstar||txttowin||txtx||tyler||type||typical||tyrone||u2moro||ubandu||ubi||ugadi||ugh||uhhhhrmm||uin||uk||ultimately||ultimatum||umma||ummifying||ummma||ummmmmaah||un||unable||unbelievable||unbreakable||unclaimed||uncle||uncomfortable||unconditionally||unconscious||unconsciously||uncountable||under||underdtand||understand||understanding||understood||underwear||undrstndng||unemployed||uneventful||unfolds||unfortunately||unfortuntly||unhappiness||unhappy||uni||uniform||unique||united||univ||unjalur||unkempt||unknown||unless||unlimited||unmits||unnecessarily||unni||unredeemed||unsold||unspoken||unsub||unsubscribe||unsubscribed||untamed||unusual||up||up4||upd8||updat||update||update_now||upgrade||upgrdcentre||upload||upping||ups||upset||upstairs||upto||uptown||urawinner||ure||urfeeling||urgent||urgently||urgnt||urgoin||urgran||urination||url||urmom||urn||urself||us||usa||usb||usc||use||used||useful||user||usf||usher||using||usmle||usps||usual||usually||uterus||utter||uup||uve||uwana||uwant||vaazhthukkal||vague||vaguely||vale||valentine||valid||valid12hrs||valuable||value||valued||varaya||vargu||various||varunnathu||vary||vasai||vat||vatian||vava||vday||ve||vega||vegetable||veggie||vehicle||velachery||velly||venaam||venugopal||verified||verify||verifying||version||versus||very||vettam||vewy||via||vibrate||vibrator||victor||vid||video||videochat||videophones||videosound||videosounds||vijay||vikky||vill||village||violated||violence||violet||vip||vipclub4u||virgin||virtual||visionsms||visit||visiting||visitor||vitamin||viva||vivek||voda||vodafone||vodka||voice||voicemail||voila||volcano||vomit||vomitin||vomiting||vote||voted||voucher||vouchers||vpod||vry||vs||vth||w1||w111wx||w14rg||w1j6hl||w1jhl||w1t1jy||w45wq||wa||wa14||waaaat||wad||wadebridge||wah||wahala||wahay||waheed||wahleykkum||waht||wait||waited||waitin||waiting||wake||waking||wale||waliking||walk||walkabout||walked||walkin||walking||wall||wallet||walmart||walsall||wamma||wan||wan2||wana||want||want2come||wanted||wanting||wap||waqt||warm||warming||warned||warning||warranty||washob||wasn||waste||wasted||wasting||wat||watch||watchin||watching||water||watever||watevr||wating||wats||watt||wave||wavering||way||way2sms||wc1n3xx||we||weak||weakness||wear||wearing||weasel||weaseling||weather||web||web2mobile||webadres||webpage||website||wed||weddin||wedding||weddingfriend||wednesday||wee||weed||week||weekend||weekly||weigh||weighed||weight||weightloss||weird||weirdest||weirdo||weirdy||weiyi||welcome||well||wellda||welp||wen||wendy||went||wer||were||werebored||werethe||wesley||west||western||westlife||westonzoyland||westshore||wet||wetherspoons||whassup||what||whatever||whats||whatsup||wheel||wheellock||when||whenever||whenevr||where||whereare||wherever||wherevr||wherre||whether||which||while||whilltake||white||whn||who||whoever||whole||whom||whore||whose||whr||why||wicked||wicklow||wid||widelive||wif||wife||wifi||wihtuot||wikipedia||wil||wild||wildest||wildlife||will||willing||win||win150ppmx3age16||wind||window||windy||wine||wined||wing||winner||winnersclub||winning||winterstone||wipe||wipro||wire3||wisdom||wise||wish||wisheds||wishin||wishing||wishlist||wiskey||wit||with||withdraw||wither||within||without||witin||witot||witout||wiv||wizzle||wk||wkend||wkent||wkg||wkly||wks||wlcome||wld||wml||wnevr||wnt||woke||woken||woman||womdarfull||won||wondar||wondarfull||wonder||wonderful||wondering||wont||wood||woohoo||woould||woozles||word||words||work||workage||workand||workin||working||workout||world||worried||worry||worrying||worse||worst||worth||worthless||wot||wotu||wotz||woul||would||wow||wrc||wrecked||wrench||wright||write||writhing||wrk||wrking||wrks||wrld||wrnog||wrong||wrongly||wrote||wtc||wtf||wth||wthout||wud||wuld||wuldnt||wun||www||wylie||x29||x49||xafter||xam||xavier||xchat||xclusive||xin||xmas||xoxo||xuhui||xx||xxsp||xxuk||xxx||xxxmobilemovieclub||xxxx||xxxxx||xxxxxx||xxxxxxx||xxxxxxxx||xxxxxxxxxxxxxx||y87||ya||yahoo||yalru||yam||yan||yar||yarasu||yavnt||yaxx||yaxxx||yay||yck||yeah||year||yeesh||yeh||yelling||yellow||yelow||yen||yep||yer||yes||yest||yesterday||yet||yetty||yetunde||yhl||yifeng||yijue||ymca||yo||yoga||yogasana||yor||yorge||you||youi||youphone||your||youre||yourinclusive||yourjob||yours||yourself||youuuuu||youwanna||yowifes||yoyyooo||yr||ystrday||ything||yummmm||yummy||yun||yunny||yuo||yuou||yup||yupz||zac||zaher||zed||zhong||zindgi||zoe||zogtorius||zoom||zouk||zyada||\u00e8n||\u00fa1\n"
       ]
      }
     ],
     "prompt_number": 80
    },
    {
     "cell_type": "code",
     "collapsed": false,
     "input": [
      "print X_exp.toarray()"
     ],
     "language": "python",
     "metadata": {},
     "outputs": [
      {
       "output_type": "stream",
       "stream": "stdout",
       "text": [
        "[[0 0 0 ..., 0 0 0]\n",
        " [0 0 0 ..., 0 0 0]\n",
        " [0 0 0 ..., 0 0 0]\n",
        " ..., \n",
        " [0 0 0 ..., 0 0 0]\n",
        " [0 0 0 ..., 0 0 0]\n",
        " [0 0 0 ..., 0 0 0]]\n"
       ]
      }
     ],
     "prompt_number": 81
    },
    {
     "cell_type": "markdown",
     "metadata": {},
     "source": [
      "### Vectorizers\n",
      "The count vectorizer is a good start, but there is an issue that you will face while unisng it: longer documents will have higher average count value than shorter documents, even though they might talk about the same topics. To avoid these potential discrepancies, it suffices to divide the number of ocurrences of each word in a document by the total number of words in the document. This new feature is called **tf (Term frequencies)**.\n",
      "Another refinement on of tf is to downscale weights for words that occur in many documents in the corpus, and are therefore less informative than those that occur only in a smaller portion of the corpus.\n",
      "This downscaling is called **tf-idf (term frequency-inverse document frequency)**."
     ]
    },
    {
     "cell_type": "code",
     "collapsed": false,
     "input": [
      "from sklearn.feature_extraction.text import TfidfVectorizer\n",
      "\n",
      "vectorizer = TfidfVectorizer(min_df = 2, ngram_range=(1,2), stop_words='english', strip_accents='unicode', norm='l2')\n",
      "X_train = vectorizer.fit_transform(x_train)\n",
      "X_test = vectorizer.transform(x_test)"
     ],
     "language": "python",
     "metadata": {},
     "outputs": [],
     "prompt_number": 12
    },
    {
     "cell_type": "markdown",
     "metadata": {},
     "source": [
      "#### Naive Bayes\n",
      "The naive assumption here is that all features are independent of each other, which loos counter intuitive in the case of text. However, surprisingly, Naive Bayes performs quite well in most of the real-world use cases.\n",
      "Another great thing about NB is that it's too simple and very easy to implement and score. We need to store the frequencies and calculate probabilities. It's really fast in case of training as well as test (scoring). It usually servas as a benchmark."
     ]
    },
    {
     "cell_type": "code",
     "collapsed": false,
     "input": [
      "from sklearn.naive_bayes import MultinomialNB\n",
      "\n",
      "clf = MultinomialNB().fit(X_train, y_train)\n",
      "y_nb_predicted = clf.predict(X_test)"
     ],
     "language": "python",
     "metadata": {},
     "outputs": [],
     "prompt_number": 93
    },
    {
     "cell_type": "code",
     "collapsed": false,
     "input": [
      "print y_nb_predicted"
     ],
     "language": "python",
     "metadata": {},
     "outputs": [
      {
       "output_type": "stream",
       "stream": "stdout",
       "text": [
        "['ham' 'ham' 'ham' ..., 'ham' 'ham' 'ham']\n"
       ]
      }
     ],
     "prompt_number": 96
    },
    {
     "cell_type": "code",
     "collapsed": false,
     "input": [
      "from sklearn.metrics import confusion_matrix\n",
      "from sklearn.metrics import classification_report\n",
      "\n",
      "print ' \\n confusion matrix \\n '\n",
      "cm = confusion_matrix(y_test, y_nb_predicted)\n",
      "print cm\n",
      "print ' \\n Here is the classification report: \\n'\n",
      "print classification_report(y_test, y_nb_predicted)"
     ],
     "language": "python",
     "metadata": {},
     "outputs": [
      {
       "output_type": "stream",
       "stream": "stdout",
       "text": [
        " \n",
        " confusion matrix \n",
        " \n",
        "[[1443    0]\n",
        " [  52  176]]\n",
        " \n",
        " Here is the classification report: \n",
        "\n",
        "             precision    recall  f1-score   support\n",
        "\n",
        "        ham       0.97      1.00      0.98      1443\n",
        "       spam       1.00      0.77      0.87       228\n",
        "\n",
        "avg / total       0.97      0.97      0.97      1671\n"
       ]
      },
      {
       "output_type": "stream",
       "stream": "stdout",
       "text": [
        "\n"
       ]
      }
     ],
     "prompt_number": 100
    },
    {
     "cell_type": "code",
     "collapsed": false,
     "input": [
      "feature_names = vectorizer.get_feature_names()\n",
      "coefs = clf.coef_\n",
      "intercept = clf.intercept_\n",
      "coefs_with_fns = sorted(zip(clf.coef_[0], feature_names))\n",
      "n = 10\n",
      "top = zip(coefs_with_fns[:n], coefs_with_fns[: -(n+1):1])\n",
      "for (coef_1, fn_1), (coef_2, fn_2) in top:\n",
      "    print('\\t%.4f\\t%-15s\\t\\t%.4f\\t%-15s'% (coef_1, fn_1, coef_2, fn_2))"
     ],
     "language": "python",
     "metadata": {},
     "outputs": [
      {
       "output_type": "stream",
       "stream": "stdout",
       "text": [
        "\t-9.0074\t15             \t\t-9.0074\t15             \n",
        "\t-9.0074\t1hr            \t\t-9.0074\t1hr            \n",
        "\t-9.0074\t1st lovely     \t\t-9.0074\t1st lovely     \n",
        "\t-9.0074\t2go            \t\t-9.0074\t2go            \n",
        "\t-9.0074\t2morrow        \t\t-9.0074\t2morrow        \n",
        "\t-9.0074\t2mrw           \t\t-9.0074\t2mrw           \n",
        "\t-9.0074\t2nd inning     \t\t-9.0074\t2nd inning     \n",
        "\t-9.0074\t2nd sm         \t\t-9.0074\t2nd sm         \n",
        "\t-9.0074\t30             \t\t-9.0074\t30             \n",
        "\t-9.0074\t30 want        \t\t-9.0074\t30 want        \n"
       ]
      }
     ],
     "prompt_number": 104
    },
    {
     "cell_type": "markdown",
     "metadata": {},
     "source": [
      "### Decision Trees\n",
      "Decision Trees are one of the oldest predictive modeling techniques, where for the given features and target, the algorithm tries to build a logic tree. There are multiple algorithms that exist for decision trees. One of the most famous and widely used algorithm is **CART**.\n",
      "Generally, trees are good when the number of features are very less. So, although our results look good here, **people hardly use trees in text classification**. On the other hand, trees have some really positive sides to them. It is still one of the most intuitive algorithms and is very easy to explain and implement. **There are many implementations of tree-based algorithms, such as ID3, C4.5, and C5- Scikit-learn uses an optimized version of the CART algorithm**."
     ]
    },
    {
     "cell_type": "code",
     "collapsed": false,
     "input": [
      "from sklearn import tree\n",
      "\n",
      "# The only difference in in the input format of the training set. We\n",
      "# need to modify the sparse matrix format to a Numpy array\n",
      "clf = tree.DecisionTreeClassifier().fit(X_train.toarray(), y_train)\n",
      "y_trees_predicted = clf.predict(X_test.toarray())\n",
      "print classification_report(y_test, y_trees_predicted)"
     ],
     "language": "python",
     "metadata": {},
     "outputs": [
      {
       "output_type": "stream",
       "stream": "stdout",
       "text": [
        "             precision    recall  f1-score   support\n",
        "\n",
        "        ham       0.97      0.98      0.98      1443\n",
        "       spam       0.86      0.83      0.85       228\n",
        "\n",
        "avg / total       0.96      0.96      0.96      1671\n",
        "\n"
       ]
      }
     ],
     "prompt_number": 105
    },
    {
     "cell_type": "markdown",
     "metadata": {},
     "source": [
      "### Stochastic gradient descent\n",
      "It is a simple, very efficient approach that fits linear models. It is particularly useful when the number of samples (and the number of features) is very large. If you follow the cheat sheet, you will find SGD to be the one-stop solution for many text-classification problems. Since it also takes care of regularization and provides different losses, it turns out to be a great choice when experimenting with liear models.\n",
      "\n",
      "SGD, also known as **Maximum Entropy (MaxEnt)** provides functionality to fit linear models for classification and regression using different (convex) loss functions and penalties."
     ]
    },
    {
     "cell_type": "code",
     "collapsed": false,
     "input": [
      "from sklearn.linear_model import SGDClassifier\n",
      "from sklearn.metrics import confusion_matrix\n",
      "\n",
      "clf = SGDClassifier(alpha=.0001, n_iter=50).fit(X_train, y_train)\n",
      "y_pred = clf.predict(X_test)\n",
      "print classification_report(y_test, y_pred)\n",
      "print confusion_matrix(y_test, y_pred)"
     ],
     "language": "python",
     "metadata": {},
     "outputs": [
      {
       "output_type": "stream",
       "stream": "stdout",
       "text": [
        "             precision    recall  f1-score   support\n",
        "\n",
        "        ham       0.99      1.00      0.99      1443\n",
        "       spam       0.97      0.91      0.94       228\n",
        "\n",
        "avg / total       0.98      0.98      0.98      1671\n",
        "\n",
        "[[1436    7]\n",
        " [  20  208]]\n"
       ]
      }
     ],
     "prompt_number": 107
    },
    {
     "cell_type": "code",
     "collapsed": false,
     "input": [
      "# Most Informative Features\n",
      "feature_names = vectorizer.get_feature_names()\n",
      "coefs = clf.coef_\n",
      "intercept = clf.intercept_\n",
      "coefs_with_fns = sorted(zip(clf.coef_[0], feature_names))\n",
      "n = 10\n",
      "top = zip(coefs_with_fns[:n], coefs_with_fns[: -(n+1):1])\n",
      "for (coef_1, fn_1), (coef_2, fn_2) in top:\n",
      "    print('\\t%.4f\\t%-15s\\t\\t%.4f\\t%-15s'% (coef_1, fn_1, coef_2, fn_2))"
     ],
     "language": "python",
     "metadata": {},
     "outputs": [
      {
       "output_type": "stream",
       "stream": "stdout",
       "text": [
        "\t-1.7301\troad           \t\t-1.7301\troad           \n",
        "\t-1.3492\tmail           \t\t-1.3492\tmail           \n",
        "\t-1.2910\tmorning        \t\t-1.2910\tmorning        \n",
        "\t-1.1447\thome           \t\t-1.1447\thome           \n",
        "\t-1.1296\texecutive      \t\t-1.1296\texecutive      \n",
        "\t-1.0981\tfullonsms      \t\t-1.0981\tfullonsms      \n",
        "\t-1.0981\tfullonsms com  \t\t-1.0981\tfullonsms com  \n",
        "\t-0.9818\tjourney        \t\t-0.9818\tjourney        \n",
        "\t-0.9586\tsaid           \t\t-0.9586\tsaid           \n",
        "\t-0.9376\tkate           \t\t-0.9376\tkate           \n"
       ]
      }
     ],
     "prompt_number": 109
    },
    {
     "cell_type": "markdown",
     "metadata": {},
     "source": [
      "### Logistic Regression\n",
      "It is a linear model for classification. It's also known as logit regression, MaxEnt, or the log-linear classifier. As an optimization problem, it minimizes a cost function.\n",
      "\n",
      "### Support Vector Machines\n",
      "It is currently the state-of-the-art in the field of machine learning.\n",
      "SVM is a non-probabilistic classifier. It constructs a set of hyperplanes in an infinite-dimensional space, which can be used for classification, regression, or other tasks. Intuitively, a good separation is achieved by a hyperplane that has the largest distance to the neares training data point of any class (the so called functional margin), since in general, the larger the margin, the lower the size of the classifier."
     ]
    },
    {
     "cell_type": "code",
     "collapsed": false,
     "input": [
      "from sklearn.svm import LinearSVC\n",
      "\n",
      "svm_classifier = LinearSVC().fit(X_train, y_train)\n",
      "y_svm_predicted = svm_classifier.predict(X_test)\n",
      "\n",
      "print classification_report(y_test, y_svm_predicted)"
     ],
     "language": "python",
     "metadata": {},
     "outputs": [
      {
       "output_type": "stream",
       "stream": "stdout",
       "text": [
        "             precision    recall  f1-score   support\n",
        "\n",
        "        ham       0.98      1.00      0.99      1443\n",
        "       spam       0.97      0.90      0.93       228\n",
        "\n",
        "avg / total       0.98      0.98      0.98      1671\n",
        "\n"
       ]
      }
     ],
     "prompt_number": 110
    },
    {
     "cell_type": "code",
     "collapsed": false,
     "input": [
      "print confusion_matrix(y_test, y_pred)"
     ],
     "language": "python",
     "metadata": {},
     "outputs": [
      {
       "output_type": "stream",
       "stream": "stdout",
       "text": [
        "[[1436    7]\n",
        " [  20  208]]\n"
       ]
      }
     ],
     "prompt_number": 111
    },
    {
     "cell_type": "markdown",
     "metadata": {},
     "source": [
      "### The Random forest algorithm\n",
      "\n",
      "It is an ensemble classifier that estimates based on the combination of decision trees. Effectively, it fits a number of decision tree classifiers on various subsamples of the dataset. also, each tree in the forest built on a random best subset of features. Finally, the act of enabling these trees gives us the best subset of features amont all the random subsets of features. **Random forest** is currently one of the best performing algorithms for many classification problems."
     ]
    },
    {
     "cell_type": "code",
     "collapsed": false,
     "input": [
      "from sklearn.ensemble import RandomForestClassifier\n",
      "\n",
      "clf = RandomForestClassifier(n_estimators = 10).fit(X_train.toarray(), y_train)\n",
      "predicted = clf.predict(X_test.toarray())\n",
      "\n",
      "print classification_report(y_test, predicted)"
     ],
     "language": "python",
     "metadata": {},
     "outputs": [
      {
       "output_type": "stream",
       "stream": "stdout",
       "text": [
        "             precision    recall  f1-score   support\n",
        "\n",
        "        ham       0.97      1.00      0.98      1443\n",
        "       spam       1.00      0.77      0.87       228\n",
        "\n",
        "avg / total       0.97      0.97      0.97      1671\n",
        "\n"
       ]
      }
     ],
     "prompt_number": 121
    },
    {
     "cell_type": "markdown",
     "metadata": {},
     "source": [
      "## Topic Modeling in text\n",
      "\n",
      "The other famous problem in the context of the text corpus is finding the topics of the given documents. The concept of topic modeling can be addressed in many different ways. We typically use **LDA (Latent Dirichlet allocation)** and **LSI (Latent Semantic indexing)** to apply topic modeling text documents.\n",
      "\n",
      "Typically, in most industries, we have huge amounts of unlabeled text documents. In case of an unlabeled corpus to get the initial insights of the corpus, a topic model is a great option, as it not only gives us topics of relevance, but also categorizes the entire corpus into number of topics given to the algorithm."
     ]
    },
    {
     "cell_type": "code",
     "collapsed": false,
     "input": [
      "# More info\n",
      "from IPython.display import IFrame\n",
      "IFrame('https://en.wikipedia.org/wiki/Latent_semantic_indexing', width=700, height=200)"
     ],
     "language": "python",
     "metadata": {},
     "outputs": [
      {
       "html": [
        "\n",
        "        <iframe\n",
        "            width=\"700\"\n",
        "            height=200\"\n",
        "            src=\"https://en.wikipedia.org/wiki/Latent_semantic_indexing\"\n",
        "            frameborder=\"0\"\n",
        "            allowfullscreen\n",
        "        ></iframe>\n",
        "        "
       ],
       "metadata": {},
       "output_type": "pyout",
       "prompt_number": 124,
       "text": [
        "<IPython.lib.display.IFrame at 0x114977590>"
       ]
      }
     ],
     "prompt_number": 124
    },
    {
     "cell_type": "code",
     "collapsed": false,
     "input": [
      "# More Info\n",
      "from IPython.display import IFrame\n",
      "IFrame('https://en.wikipedia.org/wiki/Latent_Dirichlet_allocation', width=700, height=200)"
     ],
     "language": "python",
     "metadata": {},
     "outputs": [
      {
       "html": [
        "\n",
        "        <iframe\n",
        "            width=\"700\"\n",
        "            height=200\"\n",
        "            src=\"https://en.wikipedia.org/wiki/Latent_Dirichlet_allocation\"\n",
        "            frameborder=\"0\"\n",
        "            allowfullscreen\n",
        "        ></iframe>\n",
        "        "
       ],
       "metadata": {},
       "output_type": "pyout",
       "prompt_number": 123,
       "text": [
        "<IPython.lib.display.IFrame at 0x1149775d0>"
       ]
      }
     ],
     "prompt_number": 123
    },
    {
     "cell_type": "code",
     "collapsed": false,
     "input": [
      "from gensim import corpora, models, similarities\n",
      "from itertools import chain\n",
      "import nltk\n",
      "from nltk.corpus import stopwords\n",
      "from operator import itemgetter\n",
      "import re"
     ],
     "language": "python",
     "metadata": {},
     "outputs": [],
     "prompt_number": 13
    },
    {
     "cell_type": "code",
     "collapsed": false,
     "input": [
      "documents = [document for document in sms_data]\n",
      "stoplist = stopwords.words('english')\n",
      "texts = [[word for word in document.lower().split() if word not in stoplist] for document in documents]"
     ],
     "language": "python",
     "metadata": {},
     "outputs": [],
     "prompt_number": 14
    },
    {
     "cell_type": "code",
     "collapsed": false,
     "input": [
      "dictionary = corpora.Dictionary(texts)\n",
      "corpus = [dictionary.doc2bow(text) for text in texts]\n",
      "tfidf = models.TfidfModel(corpus)\n",
      "corpus_tfidf = tfidf[corpus]"
     ],
     "language": "python",
     "metadata": {},
     "outputs": [],
     "prompt_number": 15
    },
    {
     "cell_type": "code",
     "collapsed": false,
     "input": [
      "lsi = models.LsiModel(corpus_tfidf, id2word=dictionary, num_topics=100)\n",
      "lsi.print_topics(20)"
     ],
     "language": "python",
     "metadata": {},
     "outputs": [
      {
       "metadata": {},
       "output_type": "pyout",
       "prompt_number": 17,
       "text": [
        "[u'-0.842*\"...\" + -0.164*\"lor\" + -0.163*\"call\" + -0.151*\"\\'ll\" + -0.149*\"later\" + -0.131*\"sorry\" + -0.088*\"home\" + -0.085*\"come\" + -0.062*\"get\" + -0.060*\"got\"',\n",
        " u'0.474*\"later\" + 0.449*\"\\'ll\" + 0.439*\"sorry\" + 0.429*\"call\" + -0.355*\"...\" + 0.118*\"meeting\" + -0.061*\"lor\" + 0.054*\"free\" + 0.051*\"text\" + 0.050*\"please\"',\n",
        " u'-0.271*\"come\" + 0.263*\"...\" + -0.240*\"get\" + 0.213*\"later\" + -0.198*\"n\\'t\" + 0.185*\"sorry\" + -0.178*\"time\" + -0.164*\"want\" + -0.160*\"know\" + -0.154*\"good\"',\n",
        " u'-0.496*\"call\" + 0.328*\"come\" + -0.292*\"free\" + 0.260*\"\\'ll\" + 0.153*\"later\" + -0.148*\"mobile\" + -0.143*\"please\" + 0.136*\"sorry\" + -0.130*\"prize\" + -0.124*\"claim\"',\n",
        " u'0.613*\"come\" + 0.370*\"home\" + 0.209*\"call\" + -0.204*\"good\" + -0.169*\"n\\'t\" + -0.159*\"know\" + -0.154*\"day\" + 0.153*\"lor\" + 0.153*\"tomorrow\" + -0.112*\"\\'ll\"',\n",
        " u'0.668*\"lor\" + -0.369*\"come\" + 0.243*\"wat\" + -0.188*\"good\" + -0.167*\"...\" + 0.165*\"anything\" + 0.134*\"home\" + -0.128*\"tomorrow\" + 0.106*\"get\" + -0.099*\"day\"',\n",
        " u'-0.481*\"home\" + -0.300*\"good\" + 0.240*\"right\" + 0.231*\"send\" + 0.229*\"pls\" + 0.227*\"pick\" + 0.222*\"come\" + 0.215*\"message\" + 0.206*\"phone\" + 0.193*\"cant\"',\n",
        " u'-0.605*\"home\" + 0.300*\"lor\" + 0.249*\"time\" + 0.233*\"wat\" + -0.194*\"way\" + -0.189*\"send\" + 0.182*\"come\" + -0.174*\"right\" + -0.171*\"pls\" + -0.169*\"pick\"',\n",
        " u'-0.385*\"get\" + 0.306*\"good\" + 0.253*\"pls\" + 0.210*\"day\" + 0.207*\"send\" + 0.202*\"message\" + 0.197*\"right\" + -0.193*\"n\\'t\" + 0.189*\"lor\" + 0.185*\"pick\"',\n",
        " u'0.393*\"get\" + -0.388*\"n\\'t\" + -0.329*\"know\" + -0.224*\"want\" + -0.210*\"dont\" + 0.210*\"good\" + 0.193*\"free\" + 0.168*\"wat\" + 0.154*\"\\'ll\" + -0.149*\"call\"',\n",
        " u'-0.444*\"wat\" + 0.422*\"lor\" + -0.388*\"time\" + -0.306*\"got\" + 0.186*\"anything\" + 0.176*\"free\" + 0.165*\"come\" + 0.127*\"good\" + 0.123*\"want\" + 0.120*\"\\'ll\"',\n",
        " u'0.377*\"going\" + -0.303*\"time\" + 0.278*\"got\" + 0.266*\"still\" + -0.209*\"want\" + -0.194*\"home\" + -0.190*\"wat\" + -0.190*\"dont\" + 0.147*\"prize\" + -0.145*\"like\"',\n",
        " u'0.445*\"n\\'t\" + 0.401*\"get\" + -0.304*\"\\'ll\" + -0.273*\"know\" + -0.193*\"text\" + 0.188*\"sorry\" + -0.142*\"like\" + -0.142*\"dont\" + -0.129*\"wat\" + -0.127*\"got\"',\n",
        " u'-0.363*\"going\" + -0.315*\"want\" + -0.265*\"got\" + 0.246*\"get\" + -0.244*\"free\" + 0.211*\"\\'ll\" + 0.152*\"prize\" + -0.139*\"n\\'t\" + 0.135*\"like\" + -0.134*\"new\"',\n",
        " u'-0.469*\"going\" + 0.356*\"n\\'t\" + 0.241*\"see\" + -0.225*\"know\" + 0.222*\"got\" + -0.220*\"dont\" + -0.191*\"get\" + -0.177*\"need\" + -0.173*\"want\" + -0.121*\"anything\"',\n",
        " u'-0.432*\"got\" + 0.361*\"time\" + -0.322*\"get\" + -0.316*\"dear\" + 0.173*\"n\\'t\" + -0.153*\"dont\" + 0.141*\"good\" + 0.134*\"text\" + -0.127*\"like\" + 0.125*\"want\"',\n",
        " u'0.513*\"want\" + -0.501*\"like\" + -0.285*\"going\" + 0.269*\"still\" + 0.150*\"get\" + 0.118*\"tonight\" + -0.117*\"free\" + -0.115*\"tomorrow\" + 0.106*\"aight\" + -0.097*\"one\"',\n",
        " u'0.329*\"know\" + 0.274*\"call\" + -0.255*\"like\" + -0.211*\"want\" + -0.191*\"prize\" + 0.187*\"good\" + -0.172*\"claim\" + 0.161*\"\\'re\" + -0.159*\"sorry\" + 0.158*\"wat\"',\n",
        " u'-0.392*\"like\" + 0.322*\"dear\" + 0.244*\"know\" + 0.204*\"wat\" + -0.189*\"good\" + -0.182*\"please\" + 0.175*\"n\\'t\" + 0.168*\"going\" + -0.165*\"want\" + -0.162*\"still\"',\n",
        " u'-0.418*\"dear\" + -0.296*\"see\" + 0.291*\"got\" + 0.265*\"know\" + -0.228*\"going\" + -0.193*\"wat\" + -0.172*\"like\" + -0.168*\"\\'ll\" + -0.152*\"please\" + -0.148*\"work\"']"
       ]
      }
     ],
     "prompt_number": 17
    },
    {
     "cell_type": "code",
     "collapsed": false,
     "input": [
      "n_topics = 5\n",
      "lda = models.LdaModel(corpus_tfidf, id2word=dictionary, num_topics=n_topics)"
     ],
     "language": "python",
     "metadata": {},
     "outputs": [
      {
       "output_type": "stream",
       "stream": "stderr",
       "text": [
        "WARNING:gensim.models.ldamodel:too few updates, training might not converge; consider increasing the number of passes or iterations to improve accuracy\n"
       ]
      }
     ],
     "prompt_number": 21
    },
    {
     "cell_type": "code",
     "collapsed": false,
     "input": [
      "for i in range(0, n_topics):\n",
      "    temp = lda.show_topic(i, 10)\n",
      "    terms = []\n",
      "    for term in temp:\n",
      "        terms.append(term[1])\n",
      "        print \"Top 10 terms for topic #\" + str(i) + \": \" + \",\". join(terms)"
     ],
     "language": "python",
     "metadata": {},
     "outputs": [
      {
       "output_type": "stream",
       "stream": "stdout",
       "text": [
        "Top 10 terms for topic #0: ...\n",
        "Top 10 terms for topic #0: ...,call\n",
        "Top 10 terms for topic #0: ...,call,lor\n",
        "Top 10 terms for topic #0: ...,call,lor,send\n",
        "Top 10 terms for topic #0: ...,call,lor,send,meeting\n",
        "Top 10 terms for topic #0: ...,call,lor,send,meeting,please\n",
        "Top 10 terms for topic #0: ...,call,lor,send,meeting,please,home\n",
        "Top 10 terms for topic #0: ...,call,lor,send,meeting,please,home,pls\n",
        "Top 10 terms for topic #0: ...,call,lor,send,meeting,please,home,pls,message\n",
        "Top 10 terms for topic #0: ...,call,lor,send,meeting,please,home,pls,message,phone\n",
        "Top 10 terms for topic #1: ...\n",
        "Top 10 terms for topic #1: ...,come\n",
        "Top 10 terms for topic #1: ...,come,got\n",
        "Top 10 terms for topic #1: ...,come,got,want\n",
        "Top 10 terms for topic #1: ...,come,got,want,still\n",
        "Top 10 terms for topic #1: ...,come,got,want,still,anything\n",
        "Top 10 terms for topic #1: ...,come,got,want,still,anything,lunch\n",
        "Top 10 terms for topic #1: ...,come,got,want,still,anything,lunch,ready\n",
        "Top 10 terms for topic #1: ...,come,got,want,still,anything,lunch,ready,back\n",
        "Top 10 terms for topic #1: ...,come,got,want,still,anything,lunch,ready,back,going\n",
        "Top 10 terms for topic #2: get\n",
        "Top 10 terms for topic #2: get,know\n",
        "Top 10 terms for topic #2: get,know,dinner\n",
        "Top 10 terms for topic #2: get,know,dinner,tomorrow\n",
        "Top 10 terms for topic #2: get,know,dinner,tomorrow,...\n",
        "Top 10 terms for topic #2: get,know,dinner,tomorrow,...,'ll\n",
        "Top 10 terms for topic #2: get,know,dinner,tomorrow,...,'ll,call\n",
        "Top 10 terms for topic #2: get,know,dinner,tomorrow,...,'ll,call,okie\n",
        "Top 10 terms for topic #2: get,know,dinner,tomorrow,...,'ll,call,okie,work\n",
        "Top 10 terms for topic #2: get,know,dinner,tomorrow,...,'ll,call,okie,work,right\n",
        "Top 10 terms for topic #3: ...\n",
        "Top 10 terms for topic #3: ...,n't\n",
        "Top 10 terms for topic #3: ...,n't,time\n",
        "Top 10 terms for topic #3: ...,n't,time,lor\n",
        "Top 10 terms for topic #3: ...,n't,time,lor,like\n",
        "Top 10 terms for topic #3: ...,n't,time,lor,like,wat\n",
        "Top 10 terms for topic #3: ...,n't,time,lor,like,wat,home\n",
        "Top 10 terms for topic #3: ...,n't,time,lor,like,wat,home,love\n",
        "Top 10 terms for topic #3: ...,n't,time,lor,like,wat,home,love,get\n",
        "Top 10 terms for topic #3: ...,n't,time,lor,like,wat,home,love,get,call\n",
        "Top 10 terms for topic #4: sorry\n",
        "Top 10 terms for topic #4: sorry,call\n",
        "Top 10 terms for topic #4: sorry,call,later\n",
        "Top 10 terms for topic #4: sorry,call,later,'ll\n",
        "Top 10 terms for topic #4: sorry,call,later,'ll,day\n",
        "Top 10 terms for topic #4: sorry,call,later,'ll,day,dear\n",
        "Top 10 terms for topic #4: sorry,call,later,'ll,day,dear,great\n",
        "Top 10 terms for topic #4: sorry,call,later,'ll,day,dear,great,see\n",
        "Top 10 terms for topic #4: sorry,call,later,'ll,day,dear,great,see,n't\n",
        "Top 10 terms for topic #4: sorry,call,later,'ll,day,dear,great,see,n't,...\n"
       ]
      }
     ],
     "prompt_number": 24
    },
    {
     "cell_type": "code",
     "collapsed": false,
     "input": [
      "# More Info\n",
      "from IPython.display import IFrame\n",
      "IFrame('https://en.wikipedia.org/wiki/Document_classification', width=700, height=200)"
     ],
     "language": "python",
     "metadata": {},
     "outputs": [
      {
       "html": [
        "\n",
        "        <iframe\n",
        "            width=\"700\"\n",
        "            height=200\"\n",
        "            src=\"https://en.wikipedia.org/wiki/Document_classification\"\n",
        "            frameborder=\"0\"\n",
        "            allowfullscreen\n",
        "        ></iframe>\n",
        "        "
       ],
       "metadata": {},
       "output_type": "pyout",
       "prompt_number": 25,
       "text": [
        "<IPython.lib.display.IFrame at 0x1082bef90>"
       ]
      }
     ],
     "prompt_number": 25
    },
    {
     "cell_type": "markdown",
     "metadata": {},
     "source": [
      "# Web Crawling\n",
      "\n",
      "The largest repository of unstructured data is the Web, and if you know hot to crawl it, then you have all the data you need available for your experiments. One of thw biggest web crawler is Google that crawls the entire World Wide Web. Google has to traverse every page that exists on the Web and scrape/crawl the entire content. \n",
      "\n",
      "A web crawler is a computer program that systematically browses the web page by page and also scrapes/crawls the content of the pages. A web crawler can also parse the next set of URLs to be visited from the crawler content. Web crawlers are interchangeably also called spiders, bots and scrapers.\n",
      "\n",
      "Every time a web crawler traverses a page, we must decide what kind of content we want to select and what content we want to ignore. For applications such as a search engine, we should ignore all images, js files, css files, and ohter files and should only concentrate only on HTML content that can be indexed and exposed to search. In some information extraction engines, we select specific tags or pars ot a web page. We also need to wxtract URLs if we want to do crawling recursively.\n",
      "\n",
      "This brings us to the topic of crawling strategy. Here, we need to decide whether we want to go in depth manner first or breadth first manner. We need to make sure we have a clear revisit strategy for a page."
     ]
    },
    {
     "cell_type": "code",
     "collapsed": false,
     "input": [
      "# More Info\n",
      "from IPython.display import YouTubeVideo\n",
      "YouTubeVideo('https://www.youtube.com/watch?v=CDXOcvUNBaA', width= 700, height = 300)"
     ],
     "language": "python",
     "metadata": {},
     "outputs": [
      {
       "html": [
        "\n",
        "        <iframe\n",
        "            width=\"700\"\n",
        "            height=300\"\n",
        "            src=\"https://www.youtube.com/embed/https://www.youtube.com/watch?v=CDXOcvUNBaA\"\n",
        "            frameborder=\"0\"\n",
        "            allowfullscreen\n",
        "        ></iframe>\n",
        "        "
       ],
       "metadata": {},
       "output_type": "pyout",
       "prompt_number": 4,
       "text": [
        "<IPython.lib.display.YouTubeVideo at 0x1024c0ed0>"
       ]
      }
     ],
     "prompt_number": 4
    },
    {
     "cell_type": "markdown",
     "metadata": {},
     "source": [
      "# Using NLTK with Other Python Python Libraries\n",
      "\n",
      "We will explore some of the backbone libraries of Python for machine learning and natural language processing. Until now, we have used NLTK, Scikit, and gensim, which had very abstract functions, and were very specific to the task in hand. Most of statistical NLP is heavily based on the vector space model, which in turns depends on basic linear algebra covered by NumPy. Also many NLP tasks use as POS and NER tagging, are really classifiers in disguise."
     ]
    },
    {
     "cell_type": "markdown",
     "metadata": {},
     "source": [
      "## Numpy\n",
      "\n",
      "It is a library that provides highly optimizar data structures, such as ndarrays. It has many functions specially designed and optimized to perform some of the most common numeric operations. This is one of the reasons NLTK, scikit-learn, pandas, and other libraries use NumPy as a base to implement some of the algorithms. "
     ]
    },
    {
     "cell_type": "code",
     "collapsed": false,
     "input": [
      "%pylab inline\n",
      "# ndarray\n",
      "import numpy as np\n"
     ],
     "language": "python",
     "metadata": {},
     "outputs": [
      {
       "output_type": "stream",
       "stream": "stdout",
       "text": [
        "Populating the interactive namespace from numpy and matplotlib\n"
       ]
      }
     ],
     "prompt_number": 1
    },
    {
     "cell_type": "code",
     "collapsed": false,
     "input": [
      "x = [1,2,5,7,3,11,14,25]\n",
      "np_arr = np.array(x)\n",
      "np_arr"
     ],
     "language": "python",
     "metadata": {},
     "outputs": [
      {
       "metadata": {},
       "output_type": "pyout",
       "prompt_number": 4,
       "text": [
        "array([ 1,  2,  5,  7,  3, 11, 14, 25])"
       ]
      }
     ],
     "prompt_number": 4
    },
    {
     "cell_type": "code",
     "collapsed": false,
     "input": [
      "# 2D arrays\n",
      "arr = [[1,2], [13,4], [33,78]]\n",
      "np_2darr = np.array(arr)\n",
      "type(np_2darr)"
     ],
     "language": "python",
     "metadata": {},
     "outputs": [
      {
       "metadata": {},
       "output_type": "pyout",
       "prompt_number": 5,
       "text": [
        "numpy.ndarray"
       ]
      }
     ],
     "prompt_number": 5
    },
    {
     "cell_type": "code",
     "collapsed": false,
     "input": [
      "# Indexing\n",
      "# ndarray is indexed more liky Python containers. NumPy provides a slicing method to get\n",
      "# different views of the ndarray\n",
      "\n",
      "np_2darr.tolist()"
     ],
     "language": "python",
     "metadata": {},
     "outputs": [
      {
       "metadata": {},
       "output_type": "pyout",
       "prompt_number": 6,
       "text": [
        "[[1, 2], [13, 4], [33, 78]]"
       ]
      }
     ],
     "prompt_number": 6
    },
    {
     "cell_type": "code",
     "collapsed": false,
     "input": [
      "np_2darr[:2]"
     ],
     "language": "python",
     "metadata": {},
     "outputs": [
      {
       "metadata": {},
       "output_type": "pyout",
       "prompt_number": 7,
       "text": [
        "array([[ 1,  2],\n",
        "       [13,  4]])"
       ]
      }
     ],
     "prompt_number": 7
    },
    {
     "cell_type": "code",
     "collapsed": false,
     "input": [
      "np_2darr[:1]"
     ],
     "language": "python",
     "metadata": {},
     "outputs": [
      {
       "metadata": {},
       "output_type": "pyout",
       "prompt_number": 8,
       "text": [
        "array([[1, 2]])"
       ]
      }
     ],
     "prompt_number": 8
    },
    {
     "cell_type": "code",
     "collapsed": false,
     "input": [
      "np_2darr[2]"
     ],
     "language": "python",
     "metadata": {},
     "outputs": [
      {
       "metadata": {},
       "output_type": "pyout",
       "prompt_number": 13,
       "text": [
        "array([33, 78])"
       ]
      }
     ],
     "prompt_number": 13
    },
    {
     "cell_type": "code",
     "collapsed": false,
     "input": [
      "np_2darr[:-1]"
     ],
     "language": "python",
     "metadata": {},
     "outputs": [
      {
       "metadata": {},
       "output_type": "pyout",
       "prompt_number": 14,
       "text": [
        "array([[ 1,  2],\n",
        "       [13,  4]])"
       ]
      }
     ],
     "prompt_number": 14
    },
    {
     "cell_type": "code",
     "collapsed": false,
     "input": [
      "numpy.arange(0.0 , 1.0, 0.1)"
     ],
     "language": "python",
     "metadata": {},
     "outputs": [
      {
       "metadata": {},
       "output_type": "pyout",
       "prompt_number": 15,
       "text": [
        "array([ 0. ,  0.1,  0.2,  0.3,  0.4,  0.5,  0.6,  0.7,  0.8,  0.9])"
       ]
      }
     ],
     "prompt_number": 15
    },
    {
     "cell_type": "code",
     "collapsed": false,
     "input": [
      "np.ones([2,4])"
     ],
     "language": "python",
     "metadata": {},
     "outputs": [
      {
       "metadata": {},
       "output_type": "pyout",
       "prompt_number": 16,
       "text": [
        "array([[ 1.,  1.,  1.,  1.],\n",
        "       [ 1.,  1.,  1.,  1.]])"
       ]
      }
     ],
     "prompt_number": 16
    },
    {
     "cell_type": "code",
     "collapsed": false,
     "input": [
      "np.zeros([3,4])"
     ],
     "language": "python",
     "metadata": {},
     "outputs": [
      {
       "metadata": {},
       "output_type": "pyout",
       "prompt_number": 17,
       "text": [
        "array([[ 0.,  0.,  0.,  0.],\n",
        "       [ 0.,  0.,  0.,  0.],\n",
        "       [ 0.,  0.,  0.,  0.]])"
       ]
      }
     ],
     "prompt_number": 17
    },
    {
     "cell_type": "code",
     "collapsed": false,
     "input": [
      "np.linspace(0, 2, 10)"
     ],
     "language": "python",
     "metadata": {},
     "outputs": [
      {
       "metadata": {},
       "output_type": "pyout",
       "prompt_number": 18,
       "text": [
        "array([ 0.        ,  0.22222222,  0.44444444,  0.66666667,  0.88888889,\n",
        "        1.11111111,  1.33333333,  1.55555556,  1.77777778,  2.        ])"
       ]
      }
     ],
     "prompt_number": 18
    },
    {
     "cell_type": "code",
     "collapsed": false,
     "input": [
      "np.logspace(0,1)"
     ],
     "language": "python",
     "metadata": {},
     "outputs": [
      {
       "metadata": {},
       "output_type": "pyout",
       "prompt_number": 19,
       "text": [
        "array([  1.        ,   1.04811313,   1.09854114,   1.1513954 ,\n",
        "         1.20679264,   1.26485522,   1.32571137,   1.38949549,\n",
        "         1.45634848,   1.52641797,   1.59985872,   1.67683294,\n",
        "         1.75751062,   1.84206997,   1.93069773,   2.02358965,\n",
        "         2.12095089,   2.22299648,   2.32995181,   2.44205309,\n",
        "         2.55954792,   2.6826958 ,   2.8117687 ,   2.9470517 ,\n",
        "         3.0888436 ,   3.23745754,   3.39322177,   3.55648031,\n",
        "         3.72759372,   3.90693994,   4.09491506,   4.29193426,\n",
        "         4.49843267,   4.71486636,   4.94171336,   5.17947468,\n",
        "         5.42867544,   5.68986603,   5.96362332,   6.25055193,\n",
        "         6.55128557,   6.86648845,   7.19685673,   7.54312006,\n",
        "         7.90604321,   8.28642773,   8.68511374,   9.10298178,\n",
        "         9.54095476,  10.        ])"
       ]
      }
     ],
     "prompt_number": 19
    },
    {
     "cell_type": "code",
     "collapsed": false,
     "input": [
      "help(np.logspace)"
     ],
     "language": "python",
     "metadata": {},
     "outputs": [
      {
       "output_type": "stream",
       "stream": "stdout",
       "text": [
        "Help on function logspace in module numpy.core.function_base:\n",
        "\n",
        "logspace(start, stop, num=50, endpoint=True, base=10.0, dtype=None)\n",
        "    Return numbers spaced evenly on a log scale.\n",
        "    \n",
        "    In linear space, the sequence starts at ``base ** start``\n",
        "    (`base` to the power of `start`) and ends with ``base ** stop``\n",
        "    (see `endpoint` below).\n",
        "    \n",
        "    Parameters\n",
        "    ----------\n",
        "    start : float\n",
        "        ``base ** start`` is the starting value of the sequence.\n",
        "    stop : float\n",
        "        ``base ** stop`` is the final value of the sequence, unless `endpoint`\n",
        "        is False.  In that case, ``num + 1`` values are spaced over the\n",
        "        interval in log-space, of which all but the last (a sequence of\n",
        "        length ``num``) are returned.\n",
        "    num : integer, optional\n",
        "        Number of samples to generate.  Default is 50.\n",
        "    endpoint : boolean, optional\n",
        "        If true, `stop` is the last sample. Otherwise, it is not included.\n",
        "        Default is True.\n",
        "    base : float, optional\n",
        "        The base of the log space. The step size between the elements in\n",
        "        ``ln(samples) / ln(base)`` (or ``log_base(samples)``) is uniform.\n",
        "        Default is 10.0.\n",
        "    dtype : dtype\n",
        "        The type of the output array.  If `dtype` is not given, infer the data\n",
        "        type from the other input arguments.\n",
        "    \n",
        "    Returns\n",
        "    -------\n",
        "    samples : ndarray\n",
        "        `num` samples, equally spaced on a log scale.\n",
        "    \n",
        "    See Also\n",
        "    --------\n",
        "    arange : Similar to linspace, with the step size specified instead of the\n",
        "             number of samples. Note that, when used with a float endpoint, the\n",
        "             endpoint may or may not be included.\n",
        "    linspace : Similar to logspace, but with the samples uniformly distributed\n",
        "               in linear space, instead of log space.\n",
        "    \n",
        "    Notes\n",
        "    -----\n",
        "    Logspace is equivalent to the code\n",
        "    \n",
        "    >>> y = np.linspace(start, stop, num=num, endpoint=endpoint)\n",
        "    ... # doctest: +SKIP\n",
        "    >>> power(base, y).astype(dtype)\n",
        "    ... # doctest: +SKIP\n",
        "    \n",
        "    Examples\n",
        "    --------\n",
        "    >>> np.logspace(2.0, 3.0, num=4)\n",
        "        array([  100.        ,   215.443469  ,   464.15888336,  1000.        ])\n",
        "    >>> np.logspace(2.0, 3.0, num=4, endpoint=False)\n",
        "        array([ 100.        ,  177.827941  ,  316.22776602,  562.34132519])\n",
        "    >>> np.logspace(2.0, 3.0, num=4, base=2.0)\n",
        "        array([ 4.        ,  5.0396842 ,  6.34960421,  8.        ])\n",
        "    \n",
        "    Graphical illustration:\n",
        "    \n",
        "    >>> import matplotlib.pyplot as plt\n",
        "    >>> N = 10\n",
        "    >>> x1 = np.logspace(0.1, 1, N, endpoint=True)\n",
        "    >>> x2 = np.logspace(0.1, 1, N, endpoint=False)\n",
        "    >>> y = np.zeros(N)\n",
        "    >>> plt.plot(x1, y, 'o')\n",
        "    [<matplotlib.lines.Line2D object at 0x...>]\n",
        "    >>> plt.plot(x2, y + 0.5, 'o')\n",
        "    [<matplotlib.lines.Line2D object at 0x...>]\n",
        "    >>> plt.ylim([-0.5, 1])\n",
        "    (-0.5, 1)\n",
        "    >>> plt.show()\n",
        "\n"
       ]
      }
     ],
     "prompt_number": 20
    },
    {
     "cell_type": "markdown",
     "metadata": {},
     "source": [
      "## Extracting data from an array"
     ]
    },
    {
     "cell_type": "code",
     "collapsed": false,
     "input": [
      "A = array([[0,0,0],[0,1,2],[0,2,4],[0,3,6]])\n",
      "B = np.array([n for n in range(4)])"
     ],
     "language": "python",
     "metadata": {},
     "outputs": [],
     "prompt_number": 38
    },
    {
     "cell_type": "code",
     "collapsed": false,
     "input": [
      "less_than_3 = B < 3\n",
      "print less_than_3\n",
      "B[less_than_3]"
     ],
     "language": "python",
     "metadata": {},
     "outputs": [
      {
       "output_type": "stream",
       "stream": "stdout",
       "text": [
        "[ True  True  True False]\n"
       ]
      },
      {
       "metadata": {},
       "output_type": "pyout",
       "prompt_number": 27,
       "text": [
        "array([0, 1, 2])"
       ]
      }
     ],
     "prompt_number": 27
    },
    {
     "cell_type": "code",
     "collapsed": false,
     "input": [
      "B[less_than_3] = 0\n",
      "print B"
     ],
     "language": "python",
     "metadata": {},
     "outputs": [
      {
       "output_type": "stream",
       "stream": "stdout",
       "text": [
        "[0 0 0 3]\n"
       ]
      }
     ],
     "prompt_number": 30
    },
    {
     "cell_type": "code",
     "collapsed": false,
     "input": [
      "# Diagonal of a matrix\n",
      "np.diag(A)"
     ],
     "language": "python",
     "metadata": {},
     "outputs": [
      {
       "metadata": {},
       "output_type": "pyout",
       "prompt_number": 35,
       "text": [
        "array([0, 1, 4])"
       ]
      }
     ],
     "prompt_number": 35
    },
    {
     "cell_type": "markdown",
     "metadata": {},
     "source": [
      "## Complex matrix operations"
     ]
    },
    {
     "cell_type": "code",
     "collapsed": false,
     "input": [
      "# Element-wise multiplication\n",
      "A * A"
     ],
     "language": "python",
     "metadata": {},
     "outputs": [
      {
       "metadata": {},
       "output_type": "pyout",
       "prompt_number": 36,
       "text": [
        "array([[ 0,  0,  0],\n",
        "       [ 0,  1,  4],\n",
        "       [ 0,  4, 16],\n",
        "       [ 0,  9, 36]])"
       ]
      }
     ],
     "prompt_number": 36
    },
    {
     "cell_type": "code",
     "collapsed": false,
     "input": [
      "# Dot product (the backbone of many optimization and algebraic operations)\n",
      "A = np.array([[1,2], [3,4]])\n",
      "np.dot(A,A)"
     ],
     "language": "python",
     "metadata": {},
     "outputs": [
      {
       "metadata": {},
       "output_type": "pyout",
       "prompt_number": 41,
       "text": [
        "array([[ 7, 10],\n",
        "       [15, 22]])"
       ]
      }
     ],
     "prompt_number": 41
    },
    {
     "cell_type": "code",
     "collapsed": false,
     "input": [
      "print A + A\n",
      "print\n",
      "print A - A\n",
      "print\n",
      "print A / A\n",
      "print\n",
      "print A.T"
     ],
     "language": "python",
     "metadata": {},
     "outputs": [
      {
       "output_type": "stream",
       "stream": "stdout",
       "text": [
        "[[2 4]\n",
        " [6 8]]\n",
        "\n",
        "[[0 0]\n",
        " [0 0]]\n",
        "\n",
        "[[1 1]\n",
        " [1 1]]\n",
        "\n",
        "[[1 3]\n",
        " [2 4]]\n"
       ]
      }
     ],
     "prompt_number": 44
    },
    {
     "cell_type": "code",
     "collapsed": false,
     "input": [
      "M = np.matrix(A)\n",
      "M"
     ],
     "language": "python",
     "metadata": {},
     "outputs": [
      {
       "metadata": {},
       "output_type": "pyout",
       "prompt_number": 45,
       "text": [
        "matrix([[1, 2],\n",
        "        [3, 4]])"
       ]
      }
     ],
     "prompt_number": 45
    },
    {
     "cell_type": "code",
     "collapsed": false,
     "input": [
      "np.conjugate(M)"
     ],
     "language": "python",
     "metadata": {},
     "outputs": [
      {
       "metadata": {},
       "output_type": "pyout",
       "prompt_number": 46,
       "text": [
        "matrix([[1, 2],\n",
        "        [3, 4]])"
       ]
      }
     ],
     "prompt_number": 46
    },
    {
     "cell_type": "code",
     "collapsed": false,
     "input": [
      "np.invert(M)"
     ],
     "language": "python",
     "metadata": {},
     "outputs": [
      {
       "metadata": {},
       "output_type": "pyout",
       "prompt_number": 47,
       "text": [
        "matrix([[-2, -3],\n",
        "        [-4, -5]])"
       ]
      }
     ],
     "prompt_number": 47
    },
    {
     "cell_type": "markdown",
     "metadata": {},
     "source": [
      "## Reshaping and stacking"
     ]
    },
    {
     "cell_type": "code",
     "collapsed": false,
     "input": [
      "(r, c) = A.shape"
     ],
     "language": "python",
     "metadata": {},
     "outputs": [],
     "prompt_number": 48
    },
    {
     "cell_type": "code",
     "collapsed": false,
     "input": [
      "r, c"
     ],
     "language": "python",
     "metadata": {},
     "outputs": [
      {
       "metadata": {},
       "output_type": "pyout",
       "prompt_number": 49,
       "text": [
        "(2, 2)"
       ]
      }
     ],
     "prompt_number": 49
    },
    {
     "cell_type": "code",
     "collapsed": false,
     "input": [
      "A.flatten().shape"
     ],
     "language": "python",
     "metadata": {},
     "outputs": [
      {
       "metadata": {},
       "output_type": "pyout",
       "prompt_number": 51,
       "text": [
        "(4,)"
       ]
      }
     ],
     "prompt_number": 51
    },
    {
     "cell_type": "code",
     "collapsed": false,
     "input": [
      "A.flatten()"
     ],
     "language": "python",
     "metadata": {},
     "outputs": [
      {
       "metadata": {},
       "output_type": "pyout",
       "prompt_number": 54,
       "text": [
        "array([1, 2, 3, 4])"
       ]
      }
     ],
     "prompt_number": 54
    },
    {
     "cell_type": "code",
     "collapsed": false,
     "input": [
      "np.tile(A, 4)"
     ],
     "language": "python",
     "metadata": {},
     "outputs": [
      {
       "metadata": {},
       "output_type": "pyout",
       "prompt_number": 55,
       "text": [
        "array([[1, 2, 1, 2, 1, 2, 1, 2],\n",
        "       [3, 4, 3, 4, 3, 4, 3, 4]])"
       ]
      }
     ],
     "prompt_number": 55
    },
    {
     "cell_type": "code",
     "collapsed": false,
     "input": [
      "B = np.array([[5,6]])"
     ],
     "language": "python",
     "metadata": {},
     "outputs": [],
     "prompt_number": 56
    },
    {
     "cell_type": "code",
     "collapsed": false,
     "input": [
      "np.concatenate((A,B), axis = 0)"
     ],
     "language": "python",
     "metadata": {},
     "outputs": [
      {
       "metadata": {},
       "output_type": "pyout",
       "prompt_number": 57,
       "text": [
        "array([[1, 2],\n",
        "       [3, 4],\n",
        "       [5, 6]])"
       ]
      }
     ],
     "prompt_number": 57
    },
    {
     "cell_type": "code",
     "collapsed": false,
     "input": [
      "np.concatenate((A,B.T), axis = 1)"
     ],
     "language": "python",
     "metadata": {},
     "outputs": [
      {
       "metadata": {},
       "output_type": "pyout",
       "prompt_number": 60,
       "text": [
        "array([[1, 2, 5],\n",
        "       [3, 4, 6]])"
       ]
      }
     ],
     "prompt_number": 60
    },
    {
     "cell_type": "code",
     "collapsed": false,
     "input": [
      "# add rows\n",
      "np.vstack((A,B))"
     ],
     "language": "python",
     "metadata": {},
     "outputs": [
      {
       "metadata": {},
       "output_type": "pyout",
       "prompt_number": 63,
       "text": [
        "array([[1, 2],\n",
        "       [3, 4],\n",
        "       [5, 6]])"
       ]
      }
     ],
     "prompt_number": 63
    },
    {
     "cell_type": "code",
     "collapsed": false,
     "input": [
      "np.hstack((A,B.T))"
     ],
     "language": "python",
     "metadata": {},
     "outputs": [
      {
       "metadata": {},
       "output_type": "pyout",
       "prompt_number": 65,
       "text": [
        "array([[1, 2, 5],\n",
        "       [3, 4, 6]])"
       ]
      }
     ],
     "prompt_number": 65
    },
    {
     "cell_type": "markdown",
     "metadata": {},
     "source": [
      "## Random Numbers"
     ]
    },
    {
     "cell_type": "code",
     "collapsed": false,
     "input": [
      "from numpy import random\n",
      "\n",
      "# uniform random number from [0,1]\n",
      "random.rand(2,5)"
     ],
     "language": "python",
     "metadata": {},
     "outputs": [
      {
       "metadata": {},
       "output_type": "pyout",
       "prompt_number": 66,
       "text": [
        "array([[ 0.59157519,  0.25080895,  0.36131777,  0.94580255,  0.76988239],\n",
        "       [ 0.24015554,  0.75313229,  0.34290894,  0.34616073,  0.52594641]])"
       ]
      }
     ],
     "prompt_number": 66
    },
    {
     "cell_type": "code",
     "collapsed": false,
     "input": [
      "# normal distribution\n",
      "random.randn(2,5)"
     ],
     "language": "python",
     "metadata": {},
     "outputs": [
      {
       "metadata": {},
       "output_type": "pyout",
       "prompt_number": 70,
       "text": [
        "array([[-1.07921456,  1.02971869,  1.58190878, -0.05353891, -0.29630947],\n",
        "       [-2.17849307, -0.15338323,  1.18880173,  1.07964919, -0.13626757]])"
       ]
      }
     ],
     "prompt_number": 70
    },
    {
     "cell_type": "markdown",
     "metadata": {},
     "source": [
      "## Scipy\n",
      "\n",
      "Scientific Python is a framework built on top of Numpy and ndarray and was essentially for advanced scientific operations such as optimization, integration, algebraic operations, and Fourier transforms. ** We are in a state where we can focus on writing libraries such as scikit-learn and NLTK, which focus on domain-specific problems, while NumpPy/SciPY do the heavy lifting for us**. Problably the best contribution of SciPy is sparse matrix (CSR matrix), which is used heavily in other packages for manipulaiton of matrices.\n",
      "\n",
      "SciPy provides one of the best ways of storing sparse matrices and doing data manipulation on them. It also provides some of the common operations, such as linear equation solving. It has a great way of solving eigenvalues and eigenvectors, matrix functions, and more comple operations. Some of these are the behind-scenes optimization in our ML routines. For example, **SVD is the simplest form of LDA (topic modeling)**.\n",
      "\n",
      "The motivation of learning this library is not use NLP and machine learning functions as a black boxes, but go beyond that and get the mathematical context about ML algorithms you are using and also have a look at the source code and try to understand it."
     ]
    },
    {
     "cell_type": "code",
     "collapsed": false,
     "input": [
      "import scipy as sp"
     ],
     "language": "python",
     "metadata": {},
     "outputs": [],
     "prompt_number": 71
    },
    {
     "cell_type": "code",
     "collapsed": false,
     "input": [
      "# Integration\n",
      "\n",
      "from scipy.integrate import quad,dblquad, tplquad\n",
      "# There are other scientific functions such as \n",
      "# 1. scipy.interpolate\n",
      "# 2. scipy.fftpack\n",
      "# 3. scipy.signal\n",
      "\n",
      "def f(x):\n",
      "    return x\n",
      "\n",
      "x_lower = 0\n",
      "x_upper = 1\n",
      "val, abserr = quad(f, x_lower, x_upper)\n",
      "\n",
      "print val, abserr"
     ],
     "language": "python",
     "metadata": {},
     "outputs": [
      {
       "output_type": "stream",
       "stream": "stdout",
       "text": [
        "0.5 5.55111512313e-15\n"
       ]
      }
     ],
     "prompt_number": 72
    },
    {
     "cell_type": "code",
     "collapsed": false,
     "input": [
      "# Linear Algebra\n",
      "A = sp.rand(2,2)\n",
      "B = sp.rand(2,2)\n",
      "\n",
      "import scipy\n",
      "\n",
      "X = solve(A,B)\n",
      "print X\n",
      "from scipy import linalg as LA\n",
      "\n",
      "X = LA.solve(A,B)\n",
      "print\n",
      "print X"
     ],
     "language": "python",
     "metadata": {},
     "outputs": [
      {
       "output_type": "stream",
       "stream": "stdout",
       "text": [
        "[[ 1.17324832 -1.89135896]\n",
        " [ 0.53366323  1.12108172]]\n",
        "\n",
        "[[ 1.17324832 -1.89135896]\n",
        " [ 0.53366323  1.12108172]]\n"
       ]
      }
     ],
     "prompt_number": 80
    },
    {
     "cell_type": "markdown",
     "metadata": {},
     "source": [
      "## Eigenvalues and eigenvectors\n",
      "\n",
      "In some of the NLP and machine learning applications, we represent the documents as term document matrices. Eigenvalues and eigenvectors are typically calculated for many different mathematical formulations. Say A os our matrix, and there exists a vector v such that A*v=lambda*v\n",
      "\n",
      "In this case, lambda is our eigenvalue and v will be our eigenvector. One of the most commonly used operations, the **singular value decomposition** will require some calculus functionality. "
     ]
    },
    {
     "cell_type": "code",
     "collapsed": false,
     "input": [
      "evals = LA.eigvals(A)"
     ],
     "language": "python",
     "metadata": {},
     "outputs": [],
     "prompt_number": 81
    },
    {
     "cell_type": "code",
     "collapsed": false,
     "input": [
      "evals"
     ],
     "language": "python",
     "metadata": {},
     "outputs": [
      {
       "metadata": {},
       "output_type": "pyout",
       "prompt_number": 82,
       "text": [
        "array([-0.16635106+0.j,  1.09264103+0.j])"
       ]
      }
     ],
     "prompt_number": 82
    },
    {
     "cell_type": "code",
     "collapsed": false,
     "input": [
      "evals, evect = LA.eig(A)"
     ],
     "language": "python",
     "metadata": {},
     "outputs": [],
     "prompt_number": 83
    },
    {
     "cell_type": "code",
     "collapsed": false,
     "input": [
      "print evals\n",
      "print \n",
      "print evect"
     ],
     "language": "python",
     "metadata": {},
     "outputs": [
      {
       "output_type": "stream",
       "stream": "stdout",
       "text": [
        "[-0.16635106+0.j  1.09264103+0.j]\n",
        "\n",
        "[[-0.91678379 -0.66143405]\n",
        " [ 0.39938387 -0.75000333]]\n"
       ]
      }
     ],
     "prompt_number": 85
    },
    {
     "cell_type": "markdown",
     "metadata": {},
     "source": [
      "## The Sparse Matrix\n",
      "\n",
      "In a real-world scenario, when we use a typical matrix, most of the elements of this matrix are zeroes. It is highly inefficient to go over all these non-zero elements for any matrix oprations. As a solution to this kind of of problem, a sparse matrix has been introduced, with the simple idea of storing only non-zero items.\n",
      "\n",
      "A matrix in which most of the elements are non-zeroes is called a dense amtrix, and the matrix in which most of the elements are zeroes is called a sparse matrix.\n",
      "\n",
      "There are different ways in which we can store sparse matrices:\n",
      "    - DOK (Dictionary of keys)\n",
      "    - LOL (List of list)\n",
      "    - COL (Coordinate list)\n",
      "    - CSR/CRS (Compressed row storage)\n",
      "    - CSC (Sparse Column)"
     ]
    },
    {
     "cell_type": "code",
     "collapsed": false,
     "input": [
      "# More info\n",
      "from IPython.display import IFrame\n",
      "IFrame('http://docs.scipy.org/doc/scipy-0.15.1/reference/generated/scipy.sparse.csr_matrix.html', width = 700, height = 200)"
     ],
     "language": "python",
     "metadata": {},
     "outputs": [
      {
       "html": [
        "\n",
        "        <iframe\n",
        "            width=\"700\"\n",
        "            height=200\"\n",
        "            src=\"http://docs.scipy.org/doc/scipy-0.15.1/reference/generated/scipy.sparse.csr_matrix.html\"\n",
        "            frameborder=\"0\"\n",
        "            allowfullscreen\n",
        "        ></iframe>\n",
        "        "
       ],
       "metadata": {},
       "output_type": "pyout",
       "prompt_number": 87,
       "text": [
        "<IPython.lib.display.IFrame at 0x108657790>"
       ]
      }
     ],
     "prompt_number": 87
    },
    {
     "cell_type": "code",
     "collapsed": false,
     "input": [
      "from IPython.display import IFrame\n",
      "IFrame('http://docs.scipy.org/doc/scipy-0.15.1/reference/generated/scipy.sparse.csc_matrix.html', width = 700, height = 200)"
     ],
     "language": "python",
     "metadata": {},
     "outputs": [
      {
       "html": [
        "\n",
        "        <iframe\n",
        "            width=\"700\"\n",
        "            height=200\"\n",
        "            src=\"http://docs.scipy.org/doc/scipy-0.15.1/reference/generated/scipy.sparse.csc_matrix.html\"\n",
        "            frameborder=\"0\"\n",
        "            allowfullscreen\n",
        "        ></iframe>\n",
        "        "
       ],
       "metadata": {},
       "output_type": "pyout",
       "prompt_number": 88,
       "text": [
        "<IPython.lib.display.IFrame at 0x108657810>"
       ]
      }
     ],
     "prompt_number": 88
    },
    {
     "cell_type": "code",
     "collapsed": false,
     "input": [
      "from scipy import sparse as s\n",
      "\n",
      "A = array([[1,0,0],[0,2,0],[0,0,3]])\n",
      "C = s.csr_matrix(A)"
     ],
     "language": "python",
     "metadata": {},
     "outputs": [],
     "prompt_number": 89
    },
    {
     "cell_type": "code",
     "collapsed": false,
     "input": [
      "print C"
     ],
     "language": "python",
     "metadata": {},
     "outputs": [
      {
       "output_type": "stream",
       "stream": "stdout",
       "text": [
        "  (0, 0)\t1\n",
        "  (1, 1)\t2\n",
        "  (2, 2)\t3\n"
       ]
      }
     ],
     "prompt_number": 91
    },
    {
     "cell_type": "code",
     "collapsed": false,
     "input": [
      "print C.toarray()"
     ],
     "language": "python",
     "metadata": {},
     "outputs": [
      {
       "output_type": "stream",
       "stream": "stdout",
       "text": [
        "[[1 0 0]\n",
        " [0 2 0]\n",
        " [0 0 3]]\n"
       ]
      }
     ],
     "prompt_number": 92
    },
    {
     "cell_type": "code",
     "collapsed": false,
     "input": [
      "C.todense()"
     ],
     "language": "python",
     "metadata": {},
     "outputs": [
      {
       "metadata": {},
       "output_type": "pyout",
       "prompt_number": 93,
       "text": [
        "matrix([[1, 0, 0],\n",
        "        [0, 2, 0],\n",
        "        [0, 0, 3]])"
       ]
      }
     ],
     "prompt_number": 93
    },
    {
     "cell_type": "code",
     "collapsed": false,
     "input": [
      "print C.getnnz()"
     ],
     "language": "python",
     "metadata": {},
     "outputs": [
      {
       "output_type": "stream",
       "stream": "stdout",
       "text": [
        "3\n"
       ]
      }
     ],
     "prompt_number": 101
    },
    {
     "cell_type": "markdown",
     "metadata": {},
     "source": [
      "## Optimization\n",
      "\n",
      "Everytime we built a **classifier or a tagger** in the backgound, all these are some sort of optimization routine."
     ]
    },
    {
     "cell_type": "code",
     "collapsed": false,
     "input": [
      "# Lets get the minima of a given polynomial.\n",
      "\n",
      "def f(x):\n",
      "    return x**2 -4"
     ],
     "language": "python",
     "metadata": {},
     "outputs": [],
     "prompt_number": 103
    },
    {
     "cell_type": "code",
     "collapsed": false,
     "input": [
      "from scipy import optimize"
     ],
     "language": "python",
     "metadata": {},
     "outputs": [],
     "prompt_number": 104
    },
    {
     "cell_type": "code",
     "collapsed": false,
     "input": [
      "# the first parameter is the function we want to optimize\n",
      "# the second parameter is the first guess\n",
      "optimize.fmin_bfgs(f,0)"
     ],
     "language": "python",
     "metadata": {},
     "outputs": [
      {
       "output_type": "stream",
       "stream": "stdout",
       "text": [
        "Optimization terminated successfully.\n",
        "         Current function value: -4.000000\n",
        "         Iterations: 0\n",
        "         Function evaluations: 3\n",
        "         Gradient evaluations: 1\n"
       ]
      },
      {
       "metadata": {},
       "output_type": "pyout",
       "prompt_number": 105,
       "text": [
        "array([0])"
       ]
      }
     ],
     "prompt_number": 105
    },
    {
     "cell_type": "code",
     "collapsed": false,
     "input": [
      "help(optimize.fmin_bfgs)"
     ],
     "language": "python",
     "metadata": {},
     "outputs": [
      {
       "output_type": "stream",
       "stream": "stdout",
       "text": [
        "Help on function fmin_bfgs in module scipy.optimize.optimize:\n",
        "\n",
        "fmin_bfgs(f, x0, fprime=None, args=(), gtol=1e-05, norm=inf, epsilon=1.4901161193847656e-08, maxiter=None, full_output=0, disp=1, retall=0, callback=None)\n",
        "    Minimize a function using the BFGS algorithm.\n",
        "    \n",
        "    Parameters\n",
        "    ----------\n",
        "    f : callable f(x,*args)\n",
        "        Objective function to be minimized.\n",
        "    x0 : ndarray\n",
        "        Initial guess.\n",
        "    fprime : callable f'(x,*args), optional\n",
        "        Gradient of f.\n",
        "    args : tuple, optional\n",
        "        Extra arguments passed to f and fprime.\n",
        "    gtol : float, optional\n",
        "        Gradient norm must be less than gtol before successful termination.\n",
        "    norm : float, optional\n",
        "        Order of norm (Inf is max, -Inf is min)\n",
        "    epsilon : int or ndarray, optional\n",
        "        If fprime is approximated, use this value for the step size.\n",
        "    callback : callable, optional\n",
        "        An optional user-supplied function to call after each\n",
        "        iteration.  Called as callback(xk), where xk is the\n",
        "        current parameter vector.\n",
        "    maxiter : int, optional\n",
        "        Maximum number of iterations to perform.\n",
        "    full_output : bool, optional\n",
        "        If True,return fopt, func_calls, grad_calls, and warnflag\n",
        "        in addition to xopt.\n",
        "    disp : bool, optional\n",
        "        Print convergence message if True.\n",
        "    retall : bool, optional\n",
        "        Return a list of results at each iteration if True.\n",
        "    \n",
        "    Returns\n",
        "    -------\n",
        "    xopt : ndarray\n",
        "        Parameters which minimize f, i.e. f(xopt) == fopt.\n",
        "    fopt : float\n",
        "        Minimum value.\n",
        "    gopt : ndarray\n",
        "        Value of gradient at minimum, f'(xopt), which should be near 0.\n",
        "    Bopt : ndarray\n",
        "        Value of 1/f''(xopt), i.e. the inverse hessian matrix.\n",
        "    func_calls : int\n",
        "        Number of function_calls made.\n",
        "    grad_calls : int\n",
        "        Number of gradient calls made.\n",
        "    warnflag : integer\n",
        "        1 : Maximum number of iterations exceeded.\n",
        "        2 : Gradient and/or function calls not changing.\n",
        "    allvecs  :  list\n",
        "        `OptimizeResult` at each iteration.  Only returned if retall is True.\n",
        "    \n",
        "    See also\n",
        "    --------\n",
        "    minimize: Interface to minimization algorithms for multivariate\n",
        "        functions. See the 'BFGS' `method` in particular.\n",
        "    \n",
        "    Notes\n",
        "    -----\n",
        "    Optimize the function, f, whose gradient is given by fprime\n",
        "    using the quasi-Newton method of Broyden, Fletcher, Goldfarb,\n",
        "    and Shanno (BFGS)\n",
        "    \n",
        "    References\n",
        "    ----------\n",
        "    Wright, and Nocedal 'Numerical Optimization', 1999, pg. 198.\n",
        "\n"
       ]
      }
     ],
     "prompt_number": 106
    },
    {
     "cell_type": "markdown",
     "metadata": {},
     "source": [
      "### pandas\n",
      "\n",
      "This library is good especially for people who loves **R** and want to play around with the data in a more vectorized manner."
     ]
    },
    {
     "cell_type": "code",
     "collapsed": false,
     "input": [
      "# lets download data\n",
      "!curl https://archive.ics.uci.edu/ml/machine-learning-databases/adult/adult.data > adult.data"
     ],
     "language": "python",
     "metadata": {},
     "outputs": [
      {
       "output_type": "stream",
       "stream": "stdout",
       "text": [
        "* About to connect() to archive.ics.uci.edu port 443 (#0)\r\n",
        "*   Trying 128.195.1.95...\r\n"
       ]
      },
      {
       "output_type": "stream",
       "stream": "stdout",
       "text": [
        "  % Total    % Received % Xferd  Average Speed   Time    Time     Time  Current\r\n",
        "                                 Dload  Upload   Total   Spent    Left  Speed\r\n",
        "\r",
        "  0     0    0     0    0     0      0      0 --:--:-- --:--:-- --:--:--     0* connected\r\n",
        "* Connected to archive.ics.uci.edu (128.195.1.95) port 443 (#0)\r\n",
        "* SSLv3, TLS handshake, Client hello (1):\r\n",
        "} [data not shown]\r\n"
       ]
      },
      {
       "output_type": "stream",
       "stream": "stdout",
       "text": [
        "* SSLv3, TLS handshake, Server hello (2):\r\n",
        "{ [data not shown]\r\n",
        "* SSLv3, TLS handshake, CERT (11):\r\n",
        "{ [data not shown]\r\n"
       ]
      },
      {
       "output_type": "stream",
       "stream": "stdout",
       "text": [
        "* SSLv3, TLS handshake, Server key exchange (12):\r\n",
        "{ [data not shown]\r\n",
        "* SSLv3, TLS handshake, Server finished (14):\r\n",
        "{ [data not shown]\r\n"
       ]
      },
      {
       "output_type": "stream",
       "stream": "stdout",
       "text": [
        "* SSLv3, TLS handshake, Client key exchange (16):\r\n",
        "} [data not shown]\r\n",
        "* SSLv3, TLS change cipher, Client hello (1):\r\n",
        "} [data not shown]\r\n",
        "* SSLv3, TLS handshake, Finished (20):\r\n",
        "} [data not shown]\r\n"
       ]
      },
      {
       "output_type": "stream",
       "stream": "stdout",
       "text": [
        "* SSLv3, TLS change cipher, Client hello (1):\r\n",
        "{ [data not shown]\r\n",
        "* SSLv3, TLS handshake, Finished (20):\r\n",
        "{ [data not shown]\r\n",
        "* SSL connection using DHE-RSA-AES256-SHA\r\n",
        "* Server certificate:\r\n",
        "* \t subject: C=US; postalCode=92697-3425; ST=CA; L=Irvine; street=6210 Donald Bren Hall; O=University of California - Irvine; OU=Donald Bren School of Information and Computer Sciences; CN=*.ics.uci.edu\r\n",
        "* \t start date: 2015-04-08 00:00:00 GMT\r\n",
        "* \t expire date: 2016-04-13 23:59:59 GMT\r\n",
        "* \t subjectAltName: archive.ics.uci.edu matched\r\n",
        "* \t issuer: C=US; ST=MI; L=Ann Arbor; O=Internet2; OU=InCommon; CN=InCommon RSA Server CA\r\n",
        "* \t SSL certificate verify ok.\r\n",
        "> GET /ml/machine-learning-databases/adult/adult.data HTTP/1.1\r",
        "\r\n",
        "> User-Agent: curl/7.24.0 (x86_64-apple-darwin12.0) libcurl/7.24.0 OpenSSL/0.9.8y zlib/1.2.5\r",
        "\r\n",
        "> Host: archive.ics.uci.edu\r",
        "\r\n",
        "> Accept: */*\r",
        "\r\n",
        "> \r",
        "\r\n",
        "\r",
        "  0     0    0     0    0     0      0      0 --:--:--  0:00:03 --:--:--     0"
       ]
      },
      {
       "output_type": "stream",
       "stream": "stdout",
       "text": [
        "< HTTP/1.1 200 OK\r",
        "\r\n",
        "< Date: Sun, 27 Sep 2015 15:45:18 GMT\r",
        "\r\n",
        "< Server: Apache/2.2.15 (CentOS)\r",
        "\r\n",
        "< Last-Modified: Sat, 10 Aug 1996 18:14:48 GMT\r",
        "\r\n",
        "< ETag: \"173057c2-3ca4a1-2fbb419259600\"\r",
        "\r\n",
        "< Accept-Ranges: bytes\r",
        "\r\n",
        "< Content-Length: 3974305\r",
        "\r\n",
        "< Content-Type: text/plain; charset=UTF-8\r",
        "\r\n",
        "< \r",
        "\r\n",
        "{ [data not shown]\r\n"
       ]
      },
      {
       "output_type": "stream",
       "stream": "stdout",
       "text": [
        "\r",
        "  0 3881k    0 30584    0     0   8016      0  0:08:15  0:00:03  0:08:12  9884"
       ]
      },
      {
       "output_type": "stream",
       "stream": "stdout",
       "text": [
        "\r",
        "  7 3881k    7  285k    0     0  61483      0  0:01:04  0:00:04  0:01:00 72457"
       ]
      },
      {
       "output_type": "stream",
       "stream": "stdout",
       "text": [
        "\r",
        " 23 3881k   23  909k    0     0   158k      0  0:00:24  0:00:05  0:00:19  180k"
       ]
      },
      {
       "output_type": "stream",
       "stream": "stdout",
       "text": [
        "\r",
        " 31 3881k   31 1229k    0    "
       ]
      },
      {
       "output_type": "stream",
       "stream": "stdout",
       "text": [
        " 0   181k      0  0:00:21  0:00:06  0:00:15  203k"
       ]
      },
      {
       "output_type": "stream",
       "stream": "stdout",
       "text": [
        "\r",
        " 44 3881k   44 1741k    0     0   224k      0  0:00:17  0:00:07  0:00:10  379k"
       ]
      },
      {
       "output_type": "stream",
       "stream": "stdout",
       "text": [
        "\r",
        " 60 3881k   60 2365k    0     0   270k      0  0:00:14  0:00:08  0:00:06  472k"
       ]
      },
      {
       "output_type": "stream",
       "stream": "stdout",
       "text": [
        "\r",
        " 74 3881k   74 2893k    0     0   296k      0  0:00:13  0:00:09  0:00:04  522k"
       ]
      },
      {
       "output_type": "stream",
       "stream": "stdout",
       "text": [
        "\r",
        " 88 3881k   88 3437k    0     0   319k      0  0:00:12  0:00:10  0:00:02  505k"
       ]
      },
      {
       "output_type": "stream",
       "stream": "stdout",
       "text": [
        "\r",
        "100 3881k  100 3881k    0     0   337k      0  0:00:11  0:00:11 --:--:--  557k\r\n",
        "* Connection #0 to host archive.ics.uci.edu left intact\r\n",
        "* Closing connection #0\r\n",
        "* SSLv3, TLS alert, Client hello (1):\r\n",
        "} [data not shown]\r\n"
       ]
      }
     ],
     "prompt_number": 107
    },
    {
     "cell_type": "code",
     "collapsed": false,
     "input": [
      "ll"
     ],
     "language": "python",
     "metadata": {},
     "outputs": [
      {
       "output_type": "stream",
       "stream": "stdout",
       "text": [
        "total 15120\r\n",
        "-rw-r--r--  1 b3j90  staff   149148  1 sep 00:38 Machine Learning Tutorial.ipynb\r\n",
        "-rw-r--r--  1 b3j90  staff   267829 27 sep 18:05 Python Curse.ipynb\r\n",
        "-rw-r--r--  1 b3j90  staff  3974305 27 sep 18:06 adult.data\r\n",
        "-rw-r--r--  1 b3j90  staff     3639 21 sep 20:24 english.stop.txt\r\n",
        "-rw-r--r--  1 b3j90  staff     4457  1 sep 00:24 iris_data.csv\r\n",
        "drwxr-xr-x  3 b3j90  staff      102 23 sep 16:15 \u001b[1m\u001b[34mmodels\u001b[m\u001b[m/\r\n",
        "drwx------@ 5 b3j90  staff      170 24 sep 16:11 \u001b[1m\u001b[34msmsspamcollection\u001b[m\u001b[m/\r\n",
        "-rw-r--r--@ 1 b3j90  staff  3327303 23 sep 16:14 stanford-postagger.jar\r\n",
        "drwxr-xr-x  4 b3j90  staff      136 27 sep 12:30 \u001b[1m\u001b[34mtutorial\u001b[m\u001b[m/\r\n"
       ]
      }
     ],
     "prompt_number": 108
    },
    {
     "cell_type": "code",
     "collapsed": false,
     "input": [
      "!curl https://archive.ics.uci.edu/ml/machine-learning-databases/iris/iris.data > iris.data"
     ],
     "language": "python",
     "metadata": {},
     "outputs": [
      {
       "output_type": "stream",
       "stream": "stdout",
       "text": [
        "  % Total    % Received % Xferd  Average Speed   Time    Time     Time  Current\r\n",
        "                                 Dload  Upload   Total   Spent    Left  Speed\r\n",
        "\r",
        "  0     0    0     0    0     0      0      0 --:--:-- --:--:-- --:--:--     0"
       ]
      },
      {
       "output_type": "stream",
       "stream": "stdout",
       "text": [
        "\r",
        "  0     0    0     0    0     0      0      0 --:--:--  0:00:01 --:--:--     0"
       ]
      },
      {
       "output_type": "stream",
       "stream": "stdout",
       "text": [
        "\r",
        "100  4551  100  4551    0     0   3196      0  0:00:01  0:00:01 --:--:--  4031\r\n"
       ]
      }
     ],
     "prompt_number": 109
    },
    {
     "cell_type": "code",
     "collapsed": false,
     "input": [
      "ll"
     ],
     "language": "python",
     "metadata": {},
     "outputs": [
      {
       "output_type": "stream",
       "stream": "stdout",
       "text": [
        "total 15136\r\n",
        "-rw-r--r--  1 b3j90  staff   149148  1 sep 00:38 Machine Learning Tutorial.ipynb\r\n",
        "-rw-r--r--  1 b3j90  staff   267829 27 sep 18:05 Python Curse.ipynb\r\n",
        "-rw-r--r--  1 b3j90  staff  3974305 27 sep 18:06 adult.data\r\n",
        "-rw-r--r--  1 b3j90  staff     3639 21 sep 20:24 english.stop.txt\r\n",
        "-rw-r--r--  1 b3j90  staff     4551 27 sep 18:07 iris.data\r\n",
        "-rw-r--r--  1 b3j90  staff     4457  1 sep 00:24 iris_data.csv\r\n",
        "drwxr-xr-x  3 b3j90  staff      102 23 sep 16:15 \u001b[1m\u001b[34mmodels\u001b[m\u001b[m/\r\n",
        "drwx------@ 5 b3j90  staff      170 24 sep 16:11 \u001b[1m\u001b[34msmsspamcollection\u001b[m\u001b[m/\r\n",
        "-rw-r--r--@ 1 b3j90  staff  3327303 23 sep 16:14 stanford-postagger.jar\r\n",
        "drwxr-xr-x  4 b3j90  staff      136 27 sep 12:30 \u001b[1m\u001b[34mtutorial\u001b[m\u001b[m/\r\n"
       ]
      }
     ],
     "prompt_number": 110
    },
    {
     "cell_type": "code",
     "collapsed": false,
     "input": [
      "import pandas as pd"
     ],
     "language": "python",
     "metadata": {},
     "outputs": [],
     "prompt_number": 111
    },
    {
     "cell_type": "code",
     "collapsed": false,
     "input": [
      "data = pd.read_csv(\"iris.data\", names = [\"sepal length\", \"sepal width\", \"petal length\", \"petal width\", \"Cat\"], header = None)"
     ],
     "language": "python",
     "metadata": {},
     "outputs": [],
     "prompt_number": 115
    },
    {
     "cell_type": "code",
     "collapsed": false,
     "input": [
      "data.head()"
     ],
     "language": "python",
     "metadata": {},
     "outputs": [
      {
       "html": [
        "<div style=\"max-width:1500px;overflow:auto;\">\n",
        "<table border=\"1\" class=\"dataframe\">\n",
        "  <thead>\n",
        "    <tr style=\"text-align: right;\">\n",
        "      <th></th>\n",
        "      <th>sepal length</th>\n",
        "      <th>sepal width</th>\n",
        "      <th>petal length</th>\n",
        "      <th>petal width</th>\n",
        "      <th>Cat</th>\n",
        "    </tr>\n",
        "  </thead>\n",
        "  <tbody>\n",
        "    <tr>\n",
        "      <th>0</th>\n",
        "      <td>5.1</td>\n",
        "      <td>3.5</td>\n",
        "      <td>1.4</td>\n",
        "      <td>0.2</td>\n",
        "      <td>Iris-setosa</td>\n",
        "    </tr>\n",
        "    <tr>\n",
        "      <th>1</th>\n",
        "      <td>4.9</td>\n",
        "      <td>3.0</td>\n",
        "      <td>1.4</td>\n",
        "      <td>0.2</td>\n",
        "      <td>Iris-setosa</td>\n",
        "    </tr>\n",
        "    <tr>\n",
        "      <th>2</th>\n",
        "      <td>4.7</td>\n",
        "      <td>3.2</td>\n",
        "      <td>1.3</td>\n",
        "      <td>0.2</td>\n",
        "      <td>Iris-setosa</td>\n",
        "    </tr>\n",
        "    <tr>\n",
        "      <th>3</th>\n",
        "      <td>4.6</td>\n",
        "      <td>3.1</td>\n",
        "      <td>1.5</td>\n",
        "      <td>0.2</td>\n",
        "      <td>Iris-setosa</td>\n",
        "    </tr>\n",
        "    <tr>\n",
        "      <th>4</th>\n",
        "      <td>5.0</td>\n",
        "      <td>3.6</td>\n",
        "      <td>1.4</td>\n",
        "      <td>0.2</td>\n",
        "      <td>Iris-setosa</td>\n",
        "    </tr>\n",
        "  </tbody>\n",
        "</table>\n",
        "</div>"
       ],
       "metadata": {},
       "output_type": "pyout",
       "prompt_number": 116,
       "text": [
        "   sepal length  sepal width  petal length  petal width          Cat\n",
        "0           5.1          3.5           1.4          0.2  Iris-setosa\n",
        "1           4.9          3.0           1.4          0.2  Iris-setosa\n",
        "2           4.7          3.2           1.3          0.2  Iris-setosa\n",
        "3           4.6          3.1           1.5          0.2  Iris-setosa\n",
        "4           5.0          3.6           1.4          0.2  Iris-setosa"
       ]
      }
     ],
     "prompt_number": 116
    },
    {
     "cell_type": "code",
     "collapsed": false,
     "input": [
      "data.describe()"
     ],
     "language": "python",
     "metadata": {},
     "outputs": [
      {
       "html": [
        "<div style=\"max-width:1500px;overflow:auto;\">\n",
        "<table border=\"1\" class=\"dataframe\">\n",
        "  <thead>\n",
        "    <tr style=\"text-align: right;\">\n",
        "      <th></th>\n",
        "      <th>sepal length</th>\n",
        "      <th>sepal width</th>\n",
        "      <th>petal length</th>\n",
        "      <th>petal width</th>\n",
        "    </tr>\n",
        "  </thead>\n",
        "  <tbody>\n",
        "    <tr>\n",
        "      <th>count</th>\n",
        "      <td>150.000000</td>\n",
        "      <td>150.000000</td>\n",
        "      <td>150.000000</td>\n",
        "      <td>150.000000</td>\n",
        "    </tr>\n",
        "    <tr>\n",
        "      <th>mean</th>\n",
        "      <td>5.843333</td>\n",
        "      <td>3.054000</td>\n",
        "      <td>3.758667</td>\n",
        "      <td>1.198667</td>\n",
        "    </tr>\n",
        "    <tr>\n",
        "      <th>std</th>\n",
        "      <td>0.828066</td>\n",
        "      <td>0.433594</td>\n",
        "      <td>1.764420</td>\n",
        "      <td>0.763161</td>\n",
        "    </tr>\n",
        "    <tr>\n",
        "      <th>min</th>\n",
        "      <td>4.300000</td>\n",
        "      <td>2.000000</td>\n",
        "      <td>1.000000</td>\n",
        "      <td>0.100000</td>\n",
        "    </tr>\n",
        "    <tr>\n",
        "      <th>25%</th>\n",
        "      <td>5.100000</td>\n",
        "      <td>2.800000</td>\n",
        "      <td>1.600000</td>\n",
        "      <td>0.300000</td>\n",
        "    </tr>\n",
        "    <tr>\n",
        "      <th>50%</th>\n",
        "      <td>5.800000</td>\n",
        "      <td>3.000000</td>\n",
        "      <td>4.350000</td>\n",
        "      <td>1.300000</td>\n",
        "    </tr>\n",
        "    <tr>\n",
        "      <th>75%</th>\n",
        "      <td>6.400000</td>\n",
        "      <td>3.300000</td>\n",
        "      <td>5.100000</td>\n",
        "      <td>1.800000</td>\n",
        "    </tr>\n",
        "    <tr>\n",
        "      <th>max</th>\n",
        "      <td>7.900000</td>\n",
        "      <td>4.400000</td>\n",
        "      <td>6.900000</td>\n",
        "      <td>2.500000</td>\n",
        "    </tr>\n",
        "  </tbody>\n",
        "</table>\n",
        "</div>"
       ],
       "metadata": {},
       "output_type": "pyout",
       "prompt_number": 117,
       "text": [
        "       sepal length  sepal width  petal length  petal width\n",
        "count    150.000000   150.000000    150.000000   150.000000\n",
        "mean       5.843333     3.054000      3.758667     1.198667\n",
        "std        0.828066     0.433594      1.764420     0.763161\n",
        "min        4.300000     2.000000      1.000000     0.100000\n",
        "25%        5.100000     2.800000      1.600000     0.300000\n",
        "50%        5.800000     3.000000      4.350000     1.300000\n",
        "75%        6.400000     3.300000      5.100000     1.800000\n",
        "max        7.900000     4.400000      6.900000     2.500000"
       ]
      }
     ],
     "prompt_number": 117
    },
    {
     "cell_type": "code",
     "collapsed": false,
     "input": [
      "sepal_len_cnt = data['sepal length'].value_counts()\n",
      "sepal_len_cnt"
     ],
     "language": "python",
     "metadata": {},
     "outputs": [
      {
       "metadata": {},
       "output_type": "pyout",
       "prompt_number": 118,
       "text": [
        "5.0    10\n",
        "6.3     9\n",
        "5.1     9\n",
        "6.7     8\n",
        "5.7     8\n",
        "5.8     7\n",
        "6.4     7\n",
        "5.5     7\n",
        "6.1     6\n",
        "4.9     6\n",
        "6.0     6\n",
        "5.6     6\n",
        "5.4     6\n",
        "4.8     5\n",
        "6.5     5\n",
        "7.7     4\n",
        "6.2     4\n",
        "6.9     4\n",
        "4.6     4\n",
        "5.2     4\n",
        "6.8     3\n",
        "5.9     3\n",
        "4.4     3\n",
        "7.2     3\n",
        "4.7     2\n",
        "6.6     2\n",
        "7.0     1\n",
        "4.5     1\n",
        "4.3     1\n",
        "7.4     1\n",
        "7.1     1\n",
        "7.9     1\n",
        "7.3     1\n",
        "7.6     1\n",
        "5.3     1\n",
        "dtype: int64"
       ]
      }
     ],
     "prompt_number": 118
    },
    {
     "cell_type": "code",
     "collapsed": false,
     "input": [
      "# Similar to a GROUP BY in SQL\n",
      "sntsosa = data[data['Cat'] == 'Iris-setosa']\n",
      "sntsosa[:5]"
     ],
     "language": "python",
     "metadata": {},
     "outputs": [
      {
       "html": [
        "<div style=\"max-width:1500px;overflow:auto;\">\n",
        "<table border=\"1\" class=\"dataframe\">\n",
        "  <thead>\n",
        "    <tr style=\"text-align: right;\">\n",
        "      <th></th>\n",
        "      <th>sepal length</th>\n",
        "      <th>sepal width</th>\n",
        "      <th>petal length</th>\n",
        "      <th>petal width</th>\n",
        "      <th>Cat</th>\n",
        "    </tr>\n",
        "  </thead>\n",
        "  <tbody>\n",
        "    <tr>\n",
        "      <th>0</th>\n",
        "      <td>5.1</td>\n",
        "      <td>3.5</td>\n",
        "      <td>1.4</td>\n",
        "      <td>0.2</td>\n",
        "      <td>Iris-setosa</td>\n",
        "    </tr>\n",
        "    <tr>\n",
        "      <th>1</th>\n",
        "      <td>4.9</td>\n",
        "      <td>3.0</td>\n",
        "      <td>1.4</td>\n",
        "      <td>0.2</td>\n",
        "      <td>Iris-setosa</td>\n",
        "    </tr>\n",
        "    <tr>\n",
        "      <th>2</th>\n",
        "      <td>4.7</td>\n",
        "      <td>3.2</td>\n",
        "      <td>1.3</td>\n",
        "      <td>0.2</td>\n",
        "      <td>Iris-setosa</td>\n",
        "    </tr>\n",
        "    <tr>\n",
        "      <th>3</th>\n",
        "      <td>4.6</td>\n",
        "      <td>3.1</td>\n",
        "      <td>1.5</td>\n",
        "      <td>0.2</td>\n",
        "      <td>Iris-setosa</td>\n",
        "    </tr>\n",
        "    <tr>\n",
        "      <th>4</th>\n",
        "      <td>5.0</td>\n",
        "      <td>3.6</td>\n",
        "      <td>1.4</td>\n",
        "      <td>0.2</td>\n",
        "      <td>Iris-setosa</td>\n",
        "    </tr>\n",
        "  </tbody>\n",
        "</table>\n",
        "</div>"
       ],
       "metadata": {},
       "output_type": "pyout",
       "prompt_number": 120,
       "text": [
        "   sepal length  sepal width  petal length  petal width          Cat\n",
        "0           5.1          3.5           1.4          0.2  Iris-setosa\n",
        "1           4.9          3.0           1.4          0.2  Iris-setosa\n",
        "2           4.7          3.2           1.3          0.2  Iris-setosa\n",
        "3           4.6          3.1           1.5          0.2  Iris-setosa\n",
        "4           5.0          3.6           1.4          0.2  Iris-setosa"
       ]
      }
     ],
     "prompt_number": 120
    },
    {
     "cell_type": "markdown",
     "metadata": {},
     "source": [
      "### Series Data\n",
      "\n",
      "Pandas also have a neat way of indexing by date, and then using the frame for all sorts of time series kind of analysis. The best part is that once we have indexed the data by date some of the most painful operations on the dates will be a command away from us. "
     ]
    },
    {
     "cell_type": "code",
     "collapsed": false,
     "input": [
      "import pandas.io.data as web \n",
      "\n",
      "start = datetime.datetime(2010, 1, 1)\n",
      "end = datetime.datetime(2013, 1, 27)\n",
      "stockdata = web.DataReader(\"F\", 'yahoo', start, end)"
     ],
     "language": "python",
     "metadata": {},
     "outputs": [],
     "prompt_number": 4
    },
    {
     "cell_type": "code",
     "collapsed": false,
     "input": [
      "stockdata.head()"
     ],
     "language": "python",
     "metadata": {},
     "outputs": [
      {
       "html": [
        "<div style=\"max-width:1500px;overflow:auto;\">\n",
        "<table border=\"1\" class=\"dataframe\">\n",
        "  <thead>\n",
        "    <tr style=\"text-align: right;\">\n",
        "      <th></th>\n",
        "      <th>Open</th>\n",
        "      <th>High</th>\n",
        "      <th>Low</th>\n",
        "      <th>Close</th>\n",
        "      <th>Volume</th>\n",
        "      <th>Adj Close</th>\n",
        "    </tr>\n",
        "    <tr>\n",
        "      <th>Date</th>\n",
        "      <th></th>\n",
        "      <th></th>\n",
        "      <th></th>\n",
        "      <th></th>\n",
        "      <th></th>\n",
        "      <th></th>\n",
        "    </tr>\n",
        "  </thead>\n",
        "  <tbody>\n",
        "    <tr>\n",
        "      <th>2010-01-04</th>\n",
        "      <td>10.17</td>\n",
        "      <td>10.28</td>\n",
        "      <td>10.05</td>\n",
        "      <td>10.28</td>\n",
        "      <td>60855800</td>\n",
        "      <td>9.244219</td>\n",
        "    </tr>\n",
        "    <tr>\n",
        "      <th>2010-01-05</th>\n",
        "      <td>10.45</td>\n",
        "      <td>11.24</td>\n",
        "      <td>10.40</td>\n",
        "      <td>10.96</td>\n",
        "      <td>215620200</td>\n",
        "      <td>9.855705</td>\n",
        "    </tr>\n",
        "    <tr>\n",
        "      <th>2010-01-06</th>\n",
        "      <td>11.21</td>\n",
        "      <td>11.46</td>\n",
        "      <td>11.13</td>\n",
        "      <td>11.37</td>\n",
        "      <td>200070600</td>\n",
        "      <td>10.224394</td>\n",
        "    </tr>\n",
        "    <tr>\n",
        "      <th>2010-01-07</th>\n",
        "      <td>11.46</td>\n",
        "      <td>11.69</td>\n",
        "      <td>11.32</td>\n",
        "      <td>11.66</td>\n",
        "      <td>130201700</td>\n",
        "      <td>10.485175</td>\n",
        "    </tr>\n",
        "    <tr>\n",
        "      <th>2010-01-08</th>\n",
        "      <td>11.67</td>\n",
        "      <td>11.74</td>\n",
        "      <td>11.46</td>\n",
        "      <td>11.69</td>\n",
        "      <td>130463000</td>\n",
        "      <td>10.512152</td>\n",
        "    </tr>\n",
        "  </tbody>\n",
        "</table>\n",
        "</div>"
       ],
       "metadata": {},
       "output_type": "pyout",
       "prompt_number": 166,
       "text": [
        "             Open   High    Low  Close     Volume  Adj Close\n",
        "Date                                                        \n",
        "2010-01-04  10.17  10.28  10.05  10.28   60855800   9.244219\n",
        "2010-01-05  10.45  11.24  10.40  10.96  215620200   9.855705\n",
        "2010-01-06  11.21  11.46  11.13  11.37  200070600  10.224394\n",
        "2010-01-07  11.46  11.69  11.32  11.66  130201700  10.485175\n",
        "2010-01-08  11.67  11.74  11.46  11.69  130463000  10.512152"
       ]
      }
     ],
     "prompt_number": 166
    },
    {
     "cell_type": "code",
     "collapsed": false,
     "input": [
      "max(stockdata['Volume'])"
     ],
     "language": "python",
     "metadata": {},
     "outputs": [
      {
       "metadata": {},
       "output_type": "pyout",
       "prompt_number": 128,
       "text": [
        "480879500"
       ]
      }
     ],
     "prompt_number": 128
    },
    {
     "cell_type": "code",
     "collapsed": false,
     "input": [
      "stockdata.index"
     ],
     "language": "python",
     "metadata": {},
     "outputs": [
      {
       "metadata": {},
       "output_type": "pyout",
       "prompt_number": 129,
       "text": [
        "DatetimeIndex(['2010-01-04', '2010-01-05', '2010-01-06', '2010-01-07',\n",
        "               '2010-01-08', '2010-01-11', '2010-01-12', '2010-01-13',\n",
        "               '2010-01-14', '2010-01-15', \n",
        "               ...\n",
        "               '2013-01-11', '2013-01-14', '2013-01-15', '2013-01-16',\n",
        "               '2013-01-17', '2013-01-18', '2013-01-22', '2013-01-23',\n",
        "               '2013-01-24', '2013-01-25'],\n",
        "              dtype='datetime64[ns]', name=u'Date', length=771, freq=None, tz=None)"
       ]
      }
     ],
     "prompt_number": 129
    },
    {
     "cell_type": "code",
     "collapsed": false,
     "input": [
      "stockdata.index.day[:10]"
     ],
     "language": "python",
     "metadata": {},
     "outputs": [
      {
       "metadata": {},
       "output_type": "pyout",
       "prompt_number": 131,
       "text": [
        "array([ 4,  5,  6,  7,  8, 11, 12, 13, 14, 15], dtype=int32)"
       ]
      }
     ],
     "prompt_number": 131
    },
    {
     "cell_type": "markdown",
     "metadata": {},
     "source": [
      "## Noisy data\n",
      "\n",
      "A typical day in the life of a data scientist starts with data cleaning. Removing noise, cleaning unwanted files, making sure the date formats are correct, and dealing with missing values. Typically, the biggest chunk of time is spent on data cleansing rather than on any other activity"
     ]
    },
    {
     "cell_type": "code",
     "collapsed": false,
     "input": [
      "stockdata.dropna().head(2)"
     ],
     "language": "python",
     "metadata": {},
     "outputs": [
      {
       "html": [
        "<div style=\"max-width:1500px;overflow:auto;\">\n",
        "<table border=\"1\" class=\"dataframe\">\n",
        "  <thead>\n",
        "    <tr style=\"text-align: right;\">\n",
        "      <th></th>\n",
        "      <th>Open</th>\n",
        "      <th>High</th>\n",
        "      <th>Low</th>\n",
        "      <th>Close</th>\n",
        "      <th>Volume</th>\n",
        "      <th>Adj Close</th>\n",
        "    </tr>\n",
        "    <tr>\n",
        "      <th>Date</th>\n",
        "      <th></th>\n",
        "      <th></th>\n",
        "      <th></th>\n",
        "      <th></th>\n",
        "      <th></th>\n",
        "      <th></th>\n",
        "    </tr>\n",
        "  </thead>\n",
        "  <tbody>\n",
        "    <tr>\n",
        "      <th>2010-01-04</th>\n",
        "      <td>10.17</td>\n",
        "      <td>10.28</td>\n",
        "      <td>10.05</td>\n",
        "      <td>10.28</td>\n",
        "      <td>60855800</td>\n",
        "      <td>9.244219</td>\n",
        "    </tr>\n",
        "    <tr>\n",
        "      <th>2010-01-05</th>\n",
        "      <td>10.45</td>\n",
        "      <td>11.24</td>\n",
        "      <td>10.40</td>\n",
        "      <td>10.96</td>\n",
        "      <td>215620200</td>\n",
        "      <td>9.855705</td>\n",
        "    </tr>\n",
        "  </tbody>\n",
        "</table>\n",
        "</div>"
       ],
       "metadata": {},
       "output_type": "pyout",
       "prompt_number": 132,
       "text": [
        "             Open   High    Low  Close     Volume  Adj Close\n",
        "Date                                                        \n",
        "2010-01-04  10.17  10.28  10.05  10.28   60855800   9.244219\n",
        "2010-01-05  10.45  11.24  10.40  10.96  215620200   9.855705"
       ]
      }
     ],
     "prompt_number": 132
    },
    {
     "cell_type": "code",
     "collapsed": false,
     "input": [
      "## matplotlib\n",
      "\n",
      "import matplotlib\n",
      "import matplotlib.pyplot as plt"
     ],
     "language": "python",
     "metadata": {},
     "outputs": [],
     "prompt_number": 2
    },
    {
     "cell_type": "code",
     "collapsed": false,
     "input": [
      "from matplotlib import figure\n",
      "\n",
      "plt.figure()\n",
      "plt.scatter(stockdata.index.date, stockdata.Volume)\n",
      "plt.xlabel('Day')\n",
      "plt.ylabel('Volume')\n",
      "plt.title('Title')"
     ],
     "language": "python",
     "metadata": {},
     "outputs": [
      {
       "metadata": {},
       "output_type": "pyout",
       "prompt_number": 6,
       "text": [
        "<matplotlib.text.Text at 0x107b39b90>"
       ]
      },
      {
       "metadata": {},
       "output_type": "display_data",
       "png": "[encoded data removed]",
       "text": [
        "<matplotlib.figure.Figure at 0x10796bb50>"
       ]
      }
     ],
     "prompt_number": 6
    },
    {
     "cell_type": "markdown",
     "metadata": {},
     "source": [
      "### Subplot\n"
     ]
    },
    {
     "cell_type": "code",
     "collapsed": false,
     "input": [
      "plt.subplot(2,2,1)\n",
      "plt.plot(stockdata.index.weekofyear ,stockdata.Volume, 'r--')\n",
      "plt.subplot(2,2,2)\n",
      "plt.plot(stockdata.index.weekofyear ,stockdata.Volume, 'g-*')\n",
      "plt.subplot(2,2,3)\n",
      "plt.plot(stockdata.index.weekofyear ,stockdata.Volume, 'g--')\n",
      "plt.subplot(2,2,4)\n",
      "plt.plot(stockdata.index.weekofyear ,stockdata.Volume, 'r-*')"
     ],
     "language": "python",
     "metadata": {},
     "outputs": [
      {
       "metadata": {},
       "output_type": "pyout",
       "prompt_number": 9,
       "text": [
        "[<matplotlib.lines.Line2D at 0x1082b3910>]"
       ]
      },
      {
       "metadata": {},
       "output_type": "display_data",
       "png": "[encoded data removed]",
       "text": [
        "<matplotlib.figure.Figure at 0x1079a2ad0>"
       ]
      }
     ],
     "prompt_number": 9
    },
    {
     "cell_type": "code",
     "collapsed": false,
     "input": [
      "# More elegant solution\n",
      "\n",
      "fig, axes = plt.subplots(nrows=1, ncols=2)\n",
      "for ax in axes:\n",
      "    ax.plot(stockdata.index.weekofyear,stockdata.Volume,'r')\n",
      "    ax.set_xlabel('x')\n",
      "    ax.set_ylabel('y')\n",
      "    ax.set_title('title')"
     ],
     "language": "python",
     "metadata": {},
     "outputs": [
      {
       "metadata": {},
       "output_type": "display_data",
       "png": "[encoded data removed]",
       "text": [
        "<matplotlib.figure.Figure at 0x10851f150>"
       ]
      }
     ],
     "prompt_number": 11
    },
    {
     "cell_type": "markdown",
     "metadata": {},
     "source": [
      "## 3D plots"
     ]
    },
    {
     "cell_type": "code",
     "collapsed": false,
     "input": [
      "from mpl_toolkits.mplot3d import Axes3D\n",
      "\n",
      "fig = plt.figure()\n",
      "ax = Axes3D(fig)\n",
      "X= np.arange(-4,4, 0.25)\n",
      "Y= np.arange(-4,4, 0.25)\n",
      "X, Y = np.meshgrid(X,Y)\n",
      "R = np.sqrt(X**2 + Y**2)\n",
      "Z = np.sin(R)\n",
      "ax.plot_surface(X,Y,Z, rstride =1, cstride = 1, cmap = 'hot')"
     ],
     "language": "python",
     "metadata": {},
     "outputs": [
      {
       "metadata": {},
       "output_type": "pyout",
       "prompt_number": 12,
       "text": [
        "<mpl_toolkits.mplot3d.art3d.Poly3DCollection at 0x10885fa10>"
       ]
      },
      {
       "metadata": {},
       "output_type": "display_data",
       "png": "[encoded data removed]",
       "text": [
        "<matplotlib.figure.Figure at 0x1089358d0>"
       ]
      }
     ],
     "prompt_number": 12
    },
    {
     "cell_type": "code",
     "collapsed": false,
     "input": [],
     "language": "python",
     "metadata": {},
     "outputs": []
    }
   ],
   "metadata": {}
  }
 ]
}