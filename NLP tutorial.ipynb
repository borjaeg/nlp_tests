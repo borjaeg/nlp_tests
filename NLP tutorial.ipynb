{
 "cells": [
  {
   "cell_type": "code",
   "execution_count": 1,
   "metadata": {
    "collapsed": false
   },
   "outputs": [
    {
     "name": "stdout",
     "output_type": "stream",
     "text": [
      "Populating the interactive namespace from numpy and matplotlib\n"
     ]
    }
   ],
   "source": [
    "%pylab inline\n",
    "import nltk"
   ]
  },
  {
   "cell_type": "markdown",
   "metadata": {},
   "source": [
    "## Procedural Versus Declarative Style\n",
    "### Procedural"
   ]
  },
  {
   "cell_type": "code",
   "execution_count": 2,
   "metadata": {
    "collapsed": false
   },
   "outputs": [
    {
     "name": "stdout",
     "output_type": "stream",
     "text": [
      "4.40154543827\n"
     ]
    }
   ],
   "source": [
    "tokens = nltk.corpus.brown.words(categories='news')\n",
    "count = 0\n",
    "total = 0\n",
    "for token in tokens:\n",
    "    count += 1\n",
    "    total += len(token)\n",
    "\n",
    "print total / (count * 1.0)"
   ]
  },
  {
   "cell_type": "code",
   "execution_count": 10,
   "metadata": {
    "collapsed": false
   },
   "outputs": [
    {
     "name": "stdout",
     "output_type": "stream",
     "text": [
      "unextinguishable\n"
     ]
    }
   ],
   "source": [
    "text = nltk.corpus.gutenberg.words('milton-paradise.txt')\n",
    "longest = ''\n",
    "for word in text:\n",
    "    if len(word) > len(longest):\n",
    "        longest = word\n",
    "print longest    "
   ]
  },
  {
   "cell_type": "code",
   "execution_count": 17,
   "metadata": {
    "collapsed": false
   },
   "outputs": [
    {
     "name": "stdout",
     "output_type": "stream",
     "text": [
      "[u'!', u'!', u'!', u'!', u'!', u'!', u'!', u'!', u'!', u'!', u'!', u'!', u'!', u'!', u'!', u'!', u'!', u'!', u'!', u'!', u'!', u'!', u'!', u'!', u'!', u'!', u'!', u'!', u'!', u'!', u'!', u'!', u'!', u'!', u'!', u'!', u'!', u'!', u'$1,000', u'$1,000', u'$10', u'$100', u\"''\", u\"''\", u\"''\", u\"''\", u\"''\", u\"''\", u\"''\", u\"''\", u\"''\", u\"''\", u\"''\", u\"''\", u\"''\", u\"''\", u\"''\", u\"''\", u\"''\", u\"''\", u\"''\", u\"''\", u\"''\", u\"''\", u\"''\", u\"Atlanta's\", u'County', u'Fulton', u'The']\n"
     ]
    }
   ],
   "source": [
    "word_list = []\n",
    "len_word_list = len(word_list)\n",
    "i = 0\n",
    "while i < len(tokens):\n",
    "    j = 0\n",
    "    while j < len_word_list and word_list[j] < tokens[i]:\n",
    "        i += 1\n",
    "    if j == 0 or tokens[i] != word_list[j]:\n",
    "        word_list.insert(j, tokens[i])\n",
    "        len_word_list += 1\n",
    "    i += 1\n",
    "\n",
    "print word_list"
   ]
  },
  {
   "cell_type": "markdown",
   "metadata": {},
   "source": [
    "### Declarative"
   ]
  },
  {
   "cell_type": "code",
   "execution_count": 7,
   "metadata": {
    "collapsed": false
   },
   "outputs": [
    {
     "name": "stdout",
     "output_type": "stream",
     "text": [
      "4.40154543827\n"
     ]
    }
   ],
   "source": [
    "total = sum(len(token) for token in tokens)\n",
    "print total / (len(tokens) * 1.0)"
   ]
  },
  {
   "cell_type": "code",
   "execution_count": 9,
   "metadata": {
    "collapsed": false
   },
   "outputs": [
    {
     "data": {
      "text/plain": [
       "[u'unextinguishable',\n",
       " u'transubstantiate',\n",
       " u'inextinguishable',\n",
       " u'incomprehensible']"
      ]
     },
     "execution_count": 9,
     "metadata": {},
     "output_type": "execute_result"
    }
   ],
   "source": [
    "maxlen = max(len(word) for word in text)\n",
    "[word for word in text if len(word) == maxlen]"
   ]
  },
  {
   "cell_type": "code",
   "execution_count": 18,
   "metadata": {
    "collapsed": false
   },
   "outputs": [
    {
     "name": "stdout",
     "output_type": "stream",
     "text": [
      "[u'!', u'$1', u'$1,000', u'$1,000,000,000', u'$1,500', u'$1,500,000', u'$1,600', u'$1,800', u'$1.1', u'$1.4', u'$1.5', u'$1.80', u'$10', u'$10,000', u'$10,000-per-year', u'$100', u'$100,000', u'$102,285,000', u'$109', u'$11.50', u'$115,000', u'$12', u'$12,192,865', u'$12,500', u'$12.50', u'$12.7', u'$120', u'$125', u'$135', u'$139.3', u'$14', u'$15', u'$15,000', u'$15,000,000', u'$150', u'$157,460', u'$16', u'$16,000', u'$17', u'$17,000', u'$17.8', u'$172,000', u'$172,400', u'$18', u'$18.2', u'$18.9', u'$2', u'$2,000', u'$2,170', u'$2,330,000', u'$2,700', u'$2.50', u'$2.80', u'$20', u'$20,000', u'$20,447,000', u'$200,000', u'$214', u'$22', u'$22.50', u'$2400', u'$25', u'$25,000', u'$25-a-plate', u'$250', u'$250,000', u'$251', u'$253,355,000', u'$26,000,000', u'$278,877,000', u'$28', u'$28,700,000', u'$29,000', u'$3', u'$3,500', u'$3,675', u'$3.5', u'$30', u'$300', u'$300,000,000', u'$3100', u'$32,000', u'$325', u'$344,000', u'$37', u'$37,500', u'$39,000', u'$39.5', u'$4', u'$4,177.37', u'$4,500', u'$4,700', u'$4,800', u'$40', u'$40,000', u'$40,000,000', u'$400', u'$43,000', u'$45', u'$450', u'$451,500', u'$457,000', u'$46.7', u'$47,101,000', u'$5', u'$5,000', u'$5,000,000', u'$5.2', u'$50', u'$50,000', u'$500', u'$5000', u'$52,500', u'$55,000', u'$57,500', u'$58,918', u'$581,000', u'$6,100,000,000', u'$60', u'$600', u'$634,517,000', u'$639', u'$65', u'$66,000', u'$67,000', u'$7,082', u'$7,500,000', u'$7.20', u'$70', u'$700', u'$740,000', u'$75', u'$754', u'$77,389,000', u'$8', u'$8,250', u'$8,555', u'$8.50', u'$80', u'$80,738', u'$800', u'$840,000', u'$842,617', u'$85', u'$88,000', u'$9', u'$9,841,000', u'$90', u'$900', u'&', u\"'\", u\"''\", u\"'20's\", u\"'40's\", u\"'49\", u\"'51\", u\"'52\", u\"'55\", u\"'em\", u'(', u')', u',', u'--', u'.', u'0', u'1', u'1%', u'1,000', u'1,065', u'1,119', u'1,212,000', u'1,253', u'1,257,700', u'1,400', u'1,509', u'1,512', u'1,700', u'1-0', u'1-1/2', u'1-1/2-story', u'1-3', u'1-inch', u'1.09.3', u'1.10.1', u'1.10.4', u'1.10.8', u'1.23', u'1.24', u'1.5', u'1.58', u'10', u'10%', u'10,000', u'10,000,000', u'10-hour', u\"10-o'clock\", u'10-team', u'10-year', u'10-year-old', u'100', u'100%', u'100,000', u'100-yard', u'1000', u'101b', u'102', u'1020', u'1044', u'108', u'10:30', u'10:45', u'10:50', u'10th', u'11', u'11,744', u'11-18', u'11-3', u'11-5', u'11-7', u'11-month-old', u'11-year', u'11-year-old', u'110', u'111', u'114', u'116', u'11:30', u'12', u'12,000', u'12-17', u'12-month', u'12-year-old', u'120', u'1200', u'121', u'1213', u'1213-15', u'1215', u'124', u'125,000', u'126', u'127', u'129%', u'12:01', u'12:50', u'12th', u'13', u'13%', u'13-1/2', u'13-5', u'13-8', u'13.5', u'130', u'130-year', u'1311', u'132,000', u'133', u'135', u'13th', u'14', u'14%', u'14-power', u'14-term', u'14.2', u'1409', u'142', u'145', u'145-pound', u'149', u'14th', u'15', u'15,000', u'15-1', u'15-hit', u'15-year-old', u'150', u'150,000,000', u'1500', u'154', u'155-yarder', u'1565', u'158-pounder', u'15th', u'16', u'16,000', u'16-22', u'16-year-old', u'160', u'160,000', u'1600', u'162', u'162-game', u'1630', u'165-unit', u'1671', u'1688', u'169', u'16th', u'17', u'17,000', u'17-1/2-inch', u'173', u'1733', u'174', u'175', u'1776', u'1792', u'18', u'18,792', u'180', u'180-degrees', u\"1800's\", u'182', u'1825', u'1834', u'185,000', u'1851', u'1859', u'186', u'1865', u'187-mile', u'187.5', u'1885', u'1886', u'189', u'1891', u'1896', u'1899', u'18th', u'19', u'19,000', u'19-12', u'1900', u\"1900's\", u'1908', u'1910', u'1910-14', u'1912', u'1913', u'1914', u'1917', u'1919', u'1920', u'1920s', u'1921', u'1922', u'1923', u'1924', u'1925', u'1926', u'1927', u'1928', u'1930', u'1930s', u'1932', u'1933', u'1934', u'1935', u'1937', u'1938', u'1940', u'1940s', u'1942', u'1943', u'1944', u'1945', u'1946', u'1947', u'1947-49', u'1948', u'1949', u'195', u'1950', u'1950s', u'1951', u'1952', u'1953', u'1954', u'1955', u'1956', u'1957', u'1958', u'1958-60', u'1959', u'1959-60', u'1960', u\"1960's\", u'1960-61', u'1960s', u'1961', u'1961-62', u'1962', u'1963', u'1964', u'1965', u'1966', u'1970', u'1970s', u'1971', u'1976', u'198', u'1981', u'1986', u'1991', u'19th', u'1:35', u'1:48', u'2', u'2%', u'2,100', u'2,418', u'2,700,877', u'2,963', u'2-1/2', u'2-3/4', u'2-and-2', u'2-baser', u'2-hour-and-27-minute', u'2-inch', u'2-over-par', u'2-run', u'2-score-year', u'2.21.6', u'2.295%', u'2.325%', u'2.5%', u'20', u'20%', u'20,000', u'20-piece', u'200', u'205-pound', u'206', u'208-pound', u'21', u'21-2', u'21-9', u'21-year', u'21-year-old', u'210', u'2100', u'211', u'213', u'214', u'215', u'21st', u'22', u'22-12', u'22-acre', u'22-year-old', u'220-yard', u'22111', u'224-170', u'225,000', u'2269', u'2274', u'228-229', u'229', u'23', u'23-year-old', u'237%', u'23d', u'24', u'24-inch', u'24-year-old', u'240', u'242%', u'2433', u'24th', u'25', u'25%', u'25,000', u'25,000,000', u'25,000-man', u'25-foot', u'25-footer', u'25-minute', u'250', u'250-275', u'2544', u'255', u'25th', u'26', u'26-year-old', u'260-member', u'27', u'27-year-old', u'2705', u'271', u'273', u'2731', u'28', u'280', u'280-yard', u'2809', u'281', u'2825', u'28th', u'29', u'29-5', u'29th', u'2:30', u'2d', u'2nd', u'3', u'3,000', u'3,325', u'3,399', u'3-0', u'3-10', u'3-5', u'3-game', u'3-hitter', u'3-inch', u'3-month', u'3-run', u'3-to-3', u'3-to-o', u'3-year-old', u'3.1', u'3.25', u'3.28', u'3.98', u'30', u'30,000', u'30,000,000', u'30-30', u'300', u'300,000', u'300-450', u'30th', u'31', u'31730', u'3181', u'31978', u'31st', u'32,000', u'32,589', u'3211', u'3247', u'325', u'33', u'33-man', u'330', u'3300', u'33d', u'34', u'34.7', u'340-blast', u'34220', u'343', u'35', u'350', u'3505o', u'354', u'355', u'357', u'36', u'36-year-old', u'361', u'3646', u'36th', u'37', u'37,000', u'37,679', u'37-year-old', u'375', u'38', u'38-7', u'38-point', u'380-foot', u'39', u'390-foot', u'3:30', u'3:57', u'3rd', u'4', u'4,441', u'4,500', u'4-0', u'4-1/2%', u'4-13', u'4-7/8', u'4-H', u'4-for-5', u'4-homer', u'4-under-par', u'4-year', u'4-year-old', u'4.4', u'40', u'40%', u'40-year-old', u'400', u'400,000,000', u'402', u'41', u'41-8', u'415', u'42', u'420', u'42d', u'43', u'44', u'44-year-old', u'447', u'45', u'45-degree', u'450', u'46', u'469', u'46th', u'47', u'48', u'480', u'49', u'4911', u'49ers', u'4:05', u'4:18', u'4:30', u'4th', u'5', u'5%', u'5,000', u'5-1', u'5-3', u'5-4', u'5-5', u'5-day', u'5-game', u'5-run', u'5-to-2', u'5-to-3', u'5.1', u'50', u'50%', u'50,000,000', u'50-year-old', u'500', u'5000', u'508-yard', u'50th', u'51', u'511', u'5155', u'51st', u'52', u'52-year', u'52-year-old', u'520-acre', u'53-year-old', u'54', u'540', u'543', u'545-yard', u'55', u'553', u'56', u'56-yard', u'57', u'5777', u'58', u'5835', u'5847', u'58th', u'59', u'5:30', u'6', u'6,000', u'6-12', u'6-3', u'6-3-3', u'6-5', u'6-6', u'6-7', u'6-foot', u'6-foot-10', u'6-foot-3-inch', u'6-ounce', u'6.5', u'60', u'60,000', u'60-day', u'60-inch', u'600-yard', u'61', u'6124', u'61st', u'62', u'62-year-old', u'63', u'637', u'64', u'64-cent', u'645-acre', u'646', u'65', u'65%', u'65,000', u'66', u'67', u'67-year-old', u'675', u'676', u'677', u'68', u'687.87', u'69', u'6934', u'695', u'6:15', u'6th', u'7', u'7,000', u'7-6', u'7-9', u'7-day', u'7.19', u'7.5', u'70', u'70,000', u'700', u'7026', u'7034', u'704', u'707', u'71', u'72', u'72-hole', u'72nd', u'73', u'734', u'74', u'75', u'75-minute', u'750', u'7599', u'75th', u'76', u'767', u'77', u'770', u'798', u'7:30', u'7:45', u'7A', u'8', u'8%', u'8,000', u'8,280', u'8,293', u'8-4', u'8-year-old', u'80', u'800', u'81', u'823', u'83', u'85', u'85-piece', u'85-student', u'86', u'869', u'87', u'87-1/2', u'87-31', u'87th', u'88', u'8861', u'8:30', u'8th', u'9', u'9,273', u'9-6', u'9-7', u'90', u'90%', u'90-day', u'900', u'900,000', u'900-student', u'92', u'923,076', u'9230', u'93', u'9329', u'949', u'95', u'96', u'963', u'99', u'9:30', u'9:40', u'9th', u':', u';', u'?', u'A', u\"A's\", u'A.', u'A.A.U.', u\"A.A.U.'s\", u'A.M.', u'A135', u'ADC', u'AF', u'AFL-CIO', u'AID', u\"AID's\", u'AM', u'AP', u'ARF', u'ASDIC', u'Aaron', u'Abatuno', u'Abbey', u'Abe', u'Abel', u'Abell', u'Abner', u'Abolition', u'About', u'Above', u'Abra', u'Abraham', u'Academy', u'Accardo', u'Accepted', u'Accounting', u'Ace', u'Achaeans', u\"Achaeans'\", u'Achievement', u'Acres', u'Act', u'Acting', u'Action', u'Actor-Crooner', u'Actress', u'Actually', u'Adair', u\"Adair's\", u'Adam', u'Adams', u'Adamson', u'Adcock', u'Add', u'Adequate', u'Aderholds', u'Adjusted', u'Adlai', u'Administration', u\"Administration's\", u'Administrative', u'Administrator', u'Admitting', u'Adnan', u'Advance', u'Adventures', u'Advisors', u'Advisory', u'Aeronautics', u'Affaire', u'Affairs', u'Africa', u'African', u'Afro-Cuban', u'After', u'Afterward', u'Afterwards', u'Again', u'Agencies', u'Agency', u'Aggies', u'Agriculture', u'Ah', u'Aid', u'Aiding', u'Aiken', u'Aikin', u'Ainsley', u'Ainsworth', u'Air', u'Aircraft', u\"Airline's\", u'Airlines', u'Airport', u'Aj', u'Al', u\"Al's\", u'Ala.', u'Alabama', u'Alan', u'Alba', u'Albacore', u'Albany', u'Albert', u'Alden', u'Aldo', u'Alex', u'Alexander', u'Alexandria', u'Alfred', u'Alice', u'All', u'Alla', u'Allan', u'Allegretti', u'Allen', u'Alliance', u'Allied', u'Allies', u'Allison', u\"Allison's\", u'Almost', u'Along', u'Alpha', u'Alpharetta', u'Already', u'Also', u'Alsop', u'Altar', u'Althaus', u'Although', u'Alto', u'Alton', u'Alusik', u\"Alusik's\", u'Alva', u'Alvin', u'Always', u'Amateur', u'Ambassador', u'Ambassador-designate', u'Ambulances', u'America', u\"America's\", u'American', u'Americana', u'Americans', u'Among', u'An', u'Anaconda', u'Analysts', u'Anatole', u'Ancient', u'And', u'Anderlini', u'Anderson', u\"Anderson's\", u'Andover', u'Andrew', u'Andy', u'Angel', u'Angeles', u\"Angeles'\", u'Angelico', u'Angelo', u'Angels', u'Angola', u'Anita', u'Ankara', u'Ann', u'Anna', u'Annamorena', u'Annapolis', u'Anne', u\"Anne's\", u'Anniston', u'Anniversary', u'Another', u'Anson', u'Answer', u'Anthony', u'Anti-Communist', u'Anticipated', u'Antone', u'Antonio', u'Any', u'Anyone', u'Anywhere', u'Aparicio', u'Apart', u'Apartment', u'Apartments', u'App', u'Apparently', u'Appeal', u'Appeals', u'Appointment', u'Appropriately', u'Appropriations', u'April', u'April-June', u'Aquinas', u'Arab', u'Arata', u'Archives', u'Arden', u'Are', u'Area', u'Arequipa', u'Arger', u'Ariz.', u'Arkansas', u\"Arkansas'\", u'Arlington', u'Armed', u'Armenian', u'Armisteads', u'Armond', u'Armory', u'Armour', u'Arms', u'Army', u\"Army's\", u'Arnold', u\"Arnold's\", u'Arranging', u'Arrington', u'Arrow', u'Arshinkoff', u'Art', u\"Art's\", u'Arthur', u'Artist', u'Arts', u'Arundel', u'Arvey', u'As', u'Ashman', u'Asia', u'Asian', u'Asilomar', u'Ask', u'Asked', u'Asks', u'Assemblies', u'Assembly', u'Assistant', u'Assisting', u'Assn.', u'Associated', u'Association', u'Associations', u'Assuming', u'At', u'Athlete', u'Athletic', u'Athletics', u'Atlanta', u\"Atlanta's\", u'Atlantic', u'Atlee', u'Attacks', u'Attendance', u'Attilio', u'Attitude', u'Attorney', u'Attorneys', u'Atty.', u'Atwells', u'Auburn', u'Auditorium', u'Audrey', u'Audubon', u'Aug.', u'August', u'Augusta', u\"Augusta's\", u'Augustine', u'Auntie', u'Aurora', u'Austin', u'Australia', u'Authenticated', u'Authority', u\"Authority's\", u'Av.', u'Ave.', u'Avenue', u'Averell', u'Avery', u'Avon', u'Award', u'B', u'B-52', u'B.', u'Babe', u'Bachelor', u'Back', u'Backs', u'Bad', u'Bahi', u'Bahia', u'Bailey', u'Baines', u'Baird', u'Bake', u'Bake-Off', u'Bake-off', u'Baker', u'Bal', u'Baldrige', u'Balenciaga', u'Bales', u'Bali', u'Balkan', u'Balkanize', u'Balkanizing', u'Ball', u'Ballet', u'Balloon', u'Ballroom', u'Baltimore', u\"Baltimore's\", u'Baltimorean', u'Band', u'Bandish', u'Bandstand', u'Bank', u'Bankers', u'Banks', u'Banner', u'Baptist', u'Bar', u'Baraclough', u'Barbara', u'Barber', u'Baringer', u'Barker', u'Barnard', u\"Barnard's\", u'Barnes', u'Barnet', u'Barnett', u'Barr', u'Barrett', u'Bartha', u'Baseball', u'Basel', u'Basic', u'Basin', u'Basketball', u'Bassi', u'Bassis', u'Batchelder', u'Baton', u'Battalion', u'Battle', u'Bay', u'Bay-front', u'Baylor', u\"Baylor's\", u'Bea', u'Beach', u'Beadle', u'Beadles', u\"Beadles'\", u'Beam', u'Beame', u\"Bear's\", u'Bearden', u'Beardens', u'Bears', u'Beat', u'Beatrice', u'Beaumont', u'Beauty', u'Beaverton', u'Because', u'Becket', u'Beesemyers', u'Before', u'Beginning', u'Behind', u'Being', u'Beirut', u'Bel-Air', u'Belafonte', u'Belanger', u'Belgian', u'Belgians', u'Bell', u'Belleville', u'Bellows', u'Bellwood', u'Belt', u'Belvidere', u'Beman', u'Ben', u'Benched', u'Bend', u'Beneficiary', u'Benington', u'Benjamin', u'Bennington', u'Berger', u\"Berger's\", u'Berlin', u\"Berlin's\", u'Bermuda', u\"Bernadine's\", u'Bernard', u'Bernardine', u'Bernet', u'Bernhard', u'Bernie', u'Beronio', u'Berra', u\"Berra's\", u'Berrellez', u'Berry', u\"Berry's\", u'Bert', u'Berteros', u'Bertoia', u'Berton', u'Bertorelli', u'Beryl', u'Besides', u'Bess', u'Besset', u'Bessie', u'Best', u'Bester', u'Bet', u'Betsy', u'Better', u'Between', u'Beverly', u'Bevo', u'Bexar', u'Beyeler', u'Beyond', u'Bianco', u'Bibb', u'Bible', u'Biblically', u'Bietnar', u'Big', u'Bill', u\"Bill's\", u'Billiken', u'Billikens', u'Bills', u'Billy', u'Bimini', u'Bingles', u'Bird', u'Birdie', u'Birds', u\"Birds'\", u'Birgit', u'Birmingham', u'Bishop', u'Bizerte', u'Blaber', u'Black', u'Blacks', u'Blaine', u'Blanchard', u\"Blanchard's\", u'Blanche', u'Blanton', u'Blasingame', u'Bldg.', u'Bleckley', u'Bloom', u'Blue', u'Bluebird', u'Blum', u'Blumberg', u'Blume', u'Blumenthal', u'Blvd.', u'Blyth', u'Board', u'Bob', u'Bobby', u'Boehmer', u'Boeing', u'Bolet', u'Bolker', u\"Bombers'\", u'Bonanza', u'Bond', u'Bonn', u'Bontempo', u'Book', u'Books', u'Bookwalter', u'Boonton', u'Boothby', u'Bootle', u\"Bootle's\", u'Bordeau', u'Border', u'Borland', u'Boston', u\"Boston's\", u'Both', u'Boucher', u'Boun', u'Bourcier', u'Bourguiba', u'Bouton', u'Bow', u'Bowden', u'Bowie', u'Bowl', u'Bowman', u'Box', u'Boxwood', u'Boy', u'Boyce', u'Boyd', u'Boyer', u'Boys', u'Bradford', u'Bradley', u'Brady', u'Brain', u'Branch', u'Brandeis', u'Brandenburg', u'Brandt', u'Branum', u'Braques', u\"Brassbound's\", u'Braun', u'Braves', u\"Braves'\", u'Break', u'Breakthrough', u'Breeding', u'Bregman', u'Brelin', u'Brett', u'Breuer', u'Brevard', u'Briar', u'Bricker', u'Brig.', u'Brigantine', u'Britain', u\"Britain's\", u'British', u'Broadly', u'Broadway', u'Brocklin', u\"Brocklin's\", u'Brod', u'Broeg', u'Broglio', u\"Broglio's\", u'Broncos', u'Broncs', u'Bronx', u'Brook', u'Brooklyn', u\"Brooklyn's\", u'Brooks', u\"Brooks's\", u\"Bros.'\", u'Brothers', u'Brown', u'Browning', u'Brownings', u'Bruce', u'Brussels', u'Bryan', u'Bryson', u'Buaford', u'Bubenik', u'Buchanan', u'Bucharest', u'Buchheister', u'Buck', u'Buckhead', u'Buckley', u'Bucks', u'Bucky', u'Bucs', u\"Bucs'\", u'Bud', u'Budapest', u'Buddy', u'Budgetary', u'Buell', u'Buffalo', u'Buick', u'Builders', u'Building', u'Bulloch', u'Bundle', u'Bundy', u'Burbank', u'Bureau', u'Burgess', u'Burgher', u'Burke', u'Burke-Rostagno', u'Burkes', u\"Burkes'\", u'Burnes', u'Burnside', u'Bursts', u'Busch', u'Bush', u'Business', u'Buster', u'But', u'Butcher', u'Butler', u'Butlers', u'By', u'By-passing', u'Byer-Rolnick', u'Byrd', u\"Byrd's\", u'Byron', u'C', u'C.', u'CBS', u'CD', u'COAHR', u'CTA', u'Cabana', u'Cabinet', u'Cable', u'Cabot', u'Cacophonist', u'Cadillac', u'Cadillacs', u'Caesar', u'Cafe', u'Cafeteria', u'Cain', u'Cal.', u'Caldwell', u\"Caldwell's\", u'Calif.', u'California', u'Callan', u'Called', u'Calling', u'Calls', u'Calmer', u'Caltech', u\"Caltech's\", u'Calude', u'Calvary', u'Cambridge', u'Camera', u'Camilla', u'Camille', u'Camilo', u'Camp', u'Campagnoli', u'Campaigning', u'Campbell', u'Campobello', u'Campus', u'Can', u\"Can't\", u'Canada', u\"Canada's\", u'Canadian', u'Canal', u'Cancer', u'Candlestick', u'Cannon', u'Cantonese', u'Cape', u'Capello', u'Capitalism', u'Capitol', u'Capt.', u'Captain', u'Carbones', u'Cardinal', u'Cardinals', u'Cards', u'Carey', u'Carl', u'Carla', u'Carlo', u'Carlson', u'Carmichael', u'Carmine', u'Carnegey', u'Carnegie', u'Carnival', u'Carol', u'Carolina', u'Caroline', u'Carolyn', u'Caron', u'Carpentier', u'Carr', u'Carre', u'Carrel', u'Carreon', u\"Carreon's\", u'Carroll', u'Carruthers', u'Carson', u'Carter', u'Carty', u'Casals', u'Casassa', u'Case', u\"Case's\", u'Casey', u'Cash', u'Casino', u'Castro', u\"Castro's\", u'Casualty', u'Catch', u'Catcher', u'Cater', u'Cathedral', u'Catholic', u'Catholics', u'Caucusing', u'Cauffman', u'Cavaliere', u'Cecil', u'Cecilia', u'Cedar', u'Cedric', u'Cedvet', u'Ceil', u'Celebration', u'Cemal', u'Cemetery', u'Cen-Tennial', u'Center', u\"Center's\", u'Central', u'Centredale', u'Century', u'Cerebral', u'Certain', u'Certainly', u'Cerv', u'Cervetto', u'Cezannes', u'Chairman', u'Chamber', u'Champion', u'Chance', u'Chancellor', u'Chandler', u'Change', u'Changes', u'Channel', u'Chantilly', u'Chapel', u'Chapelles', u'Chaplin', u'Chapman', u'Chapter', u'Chardon', u'Charge', u'Charges', u'Charitable', u'Charlayne', u'Charles', u'Charley', u'Charlie', u'Chase', u'Chases', u'Check', u'Chef', u'Chemical', u'Chen', u'Cheng', u'Cherry', u'Chesapeake', u'Cheshire', u'Chester', u'Chestnut', u'Chiang', u'Chicago', u\"Chicago's\", u'Chicken', u'Chico', u'Chief', u'Children', u'China', u\"China's\", u'Chinese', u\"Chip-o's\", u'Chips', u'Chisholm', u'Chiuchow', u'Choice', u'Christ', u'Christi', u'Christian', u'Christianity', u'Christine', u\"Christine's\", u'Christmas', u'Chromspun', u'Chronicle', u\"Chronicle's\", u'Chrysler', u'Chuck', u'Church', u'Churchill', u'Ciciulla', u'Cimoli', u'Cincinnati', u'Cinemactor', u\"Cipriani's\", u'Cir.', u'Circle', u'Circuit', u'Cites', u'Citizens', u'City', u'Civil', u'Claims', u'Clara', u'Clarence', u'Clark', u'Class', u'Class-D', u'Claude', u'Claus', u'Clay', u'Clayton', u'Cleaner', u'Clearwater', u'Clement', u'Clemente', u'Clements', u'Clerks', u'Cleveland', u'Cliff', u'Clifford', u'Clifton', u'Clint', u'Clinton', u'Clipper', u'Club', u\"Club's\", u'Clubs', u'Cluck', u'Clyde', u'Cmdr.', u'Co.', u'Coach', u'Coal', u'Coast', u'Cochran', u'Cocktail', u'Cocktails', u'Coconut', u'Cod', u'Cody', u'Coe', u'Cohen', u'Cohn', u'Col.', u'Colavito', u'Coleman', u'Coles', u'Coliseum', u'College', u'Collett', u'Collins', u\"Collins'\", u'Colmer', u\"Colmer's\", u'Cologne', u'Colonial', u'Colorado', u'Colorful', u'Colquitt', u'Columbia', u'Columbus', u'Columnist', u'Come', u'Comedian', u'Comic', u'Command', u'Commandeering', u'Commenting', u'Commerce', u'Commies', u'Commission', u'Commissioner', u\"Commissioner's\", u'Commissioners', u'Committee', u\"Committee's\", u'Committees', u'Common', u'Communism', u\"Communism's\", u'Communisn', u'Communist', u'Communist-led', u'Communists', u'Community', u'Company', u'Compare', u'Competent', u'Completing', u'Composite', u'Comus', u'Conant', u'Conceding', u'Concern', u'Concert', u'Concerts', u'Conductor', u'Confederacy', u'Conference', u'Conflict', u'Confronted', u'Confusion', u'Congo', u'Congolese', u'Congregation', u'Congress', u'Congresses', u'Congressional', u'Congressman', u'Conn.', u'Connall', u'Connecticut', u'Connection', u'Connelly', u'Connie', u'Conrad', u'Consequently', u'Conservation', u'Considering', u'Consolidated', u'Constant', u'Constantinos', u'Constitution', u'Construction', u'Consul', u'Consumer', u'Contemporary', u'Contempt', u'Continental', u'Contribution', u'Contributions', u'Control', u'Controller', u\"Controller's\", u'Convair', u'Convenience', u'Convention', u'Conversion', u'Cook', u'Cooke', u'Coolidge', u'Cooper', u'Cooperation', u'Cooperman', u'Coopers', u'Copeland', u'Copper', u'Coral', u'Corcoran', u'Corneilus', u'Cornell', u'Coronado', u'Corp.', u'Corporate', u'Corporation', u'Corps', u'Corpus', u'Correction', u'Corruption', u'Cost', u'Costs', u'Cotillion', u'Cott', u'Cotten', u\"Cotten's\", u'Cotton', u'Cotty', u'Could', u'Coulson', u'Council', u\"Council's\", u'Councilman', u'Councilwoman', u'Counties', u'Country', u'County', u\"County's\", u'Courbet', u'Course', u'Court', u'Courtney', u'Couturier', u'Couve', u'Cover', u'Coward', u'Cox', u'Craig', u'Cranston', u'Crawford', u'Creations', u'Crime', u'Criminal', u'Crippled', u'Cris', u'Crispin', u'Crosby', u'Cross', u'Crozier', u'Crumlish', u'Crump', u'Crunch', u'Crusade', u'Crystal', u'Ct.', u'Cuba', u\"Cuba's\", u'Cuban', u'Cuban-American', u'Cubans', u'Cubs', u'Cudmore', u'Culbertson', u'Culmone', u'Cumbancheros', u'Cup', u'Curie', u'Curry', u'Currys', u'Curtis', u'Cushman', u'Customary', u'Cutting', u'Cynthia', u'D', u\"D'Art\", u'D.', u'D.C.', u'Da', u'Dade', u\"Dade's\", u'Daily', u'Daley', u'Dallas', u'Dallas-based', u'Dallas-headquartered', u'Dalles', u'Damascus', u'Dame', u'Dan', u'Danbury', u'Dancers', u'Dane', u'Danger', u'Daniel', u\"Daniel's\", u'Danish', u'Dannehower', u'Danny', u\"Danny's\", u'Dark', u'Darlene', u'Darnell', u'Darrell', u'Darrow', u'Dave', u'Davenport', u'David', u\"David's\", u'Davidson', u'Davis', u'Dawson', u'Day', u'Days', u'De', u'DeCicco', u'DeForest', u'DeSoto', u'Deadlock', u'Deadly', u'Deaf', u'Dealer', u\"Dealers'\", u'Dean', u'Deane', u'Dearborn', u'Debate', u'Debutante', u'Dec.', u'Decathlon', u'December', u'Decisions', u'Decorating', u'Decorators', u'Decries', u'Dedication', u'Defends', u'Defense', u'Del', u'Delahanty', u'Delaney', u'Delaware', u'Delegates', u'Delhi', u'Delinquency', u'Deloris', u'Delray', u'Delta', u'Democrat', u'Democratic', u'Democratic-endorsed', u'Democratic-sponsored', u'Democrats', u'Denials', u'Dennis', u'Densmore', u'Denton', u'Denver', u\"Denver's\", u'Denver-area', u'Denverite', u'Department', u\"Department's\", u'Deputy', u'Dequindre', u'Desert', u'Design', u'Designs', u'Desmond', u'Despite', u'Detective', u'Detente', u'Detroit', u\"Detroit's\", u'Development', u'Developments', u'Dewey', u'Dey', u'Di', u'DiMaggio', u'DiSimone', u'DiVarco', u'Dick', u'Dicks', u'Dictator', u'Did', u'Diety', u'Dignity', u'Dillon', u'Dilworth', u'Dimaggio', u'Dining', u'Diocesan', u'Dior', u'Dip', u'Director', u'Dirksen', u'Disapproval', u'Disarmament', u'Displayed', u'Displaying', u'Dist.', u'Distributive', u'District', u'Districts', u'Ditmar', u'Diversified', u'Diving', u'Division', u'Dixiecrats', u'Djakarta', u'Do', u'Dobbins', u'Dobbs', u'Doctor', u'Doctors', u'Dodge', u'Dodger', u'Dodgers', u'Dolce', u'Dollar', u'Dominic', u'Don', u\"Don't\", u'Donald', u'Donnell', u'Donnelly', u'Dorenzo', u'Doris', u\"Doris'\", u'Dorsey', u'Double', u'Douglas', u'Dow', u'Down', u'Downtown', u'Doxiadis', u'Doyle', u'Dr.', u'Draper', u'Drawers', u'Dreadnought', u'Dreamboat', u'Dresbach', u\"Dresbach's\", u'Dresbachs', u\"Dresbachs'\", u'Drexel', u\"Drexel's\", u'Drinkhouse', u'Drive', u'Driver', u'Drs.', u'Drum', u'Drury', u'Du', u'Dublin', u'Dubois', u'Dubovskoi', u'Due', u'Duffy', u'Duhagon', u'Dukes', u'Dulles', u'Dumas', u'Dumont', u'Dunbar', u'Duncan', u'Dunkel', u'Dunlop', u'Dunn', u'Duque', u'Durante', u'Duren', u'During', u'Durocher', u'Durwood', u'Dussa', u'Dusseldorf', u'Dutch', u'Dwight', u'Dyer', u'E.', u'E.G.T.', u'E.O.', u'Each', u'Eagles', u'Earl', u'Earlier', u'Easier', u'East', u'East-West', u'Easter', u'Eastern', u'Eastland', u'Eastman', u'Eastwick', u'Eaton', u'Ebbetts', u'Economic', u'Economically', u'Ed', u'Eddie', u'Eddy', u'Edgar', u'Edgewater', u'Edith', u'Edna', u'Education', u'Edward', u'Edwards', u'Edwin', u'Egerton', u'Egypt', u'Ehlers', u'Eight', u'Eighteenth', u'Eighteenth-century', u'Eileen', u'Eire', u'Eisenhower', u\"Eisenhower's\", u'Ekberg', u'El', u'Elaine', u'Elburn', u'Elder', u'Eldon', u'Eleanor', u'Elected', u'Election', u'Electoral', u'Electra', u'Electric', u'Elementary', u'Elevated', u'Eligio', u'Elios', u'Elizabeth', u'Elks', u'Ella', u'Ellen', u'Elliott', u'Ellsworth', u'Ellwood', u'Elm', u'Elmer', u'Elsie', u'Elvis', u'Embassy', u'Emcee', u'Emerald', u'Emilio', u'Emma', u'Emmert', u'Emory', u\"Emperor's\", u'Empire', u'Employes', u'Encouraging', u'End', u'Enforce', u'Eng.', u'Engaging', u'England', u'England-born', u'English', u'Ennis', u'Enos', u'Enrique', u'Ensign', u'Episcopal', u'Eppler', u'Epsilon', u'Epstein', u'Equal', u'Equator', u'Equipment', u'Erection', u'Ernie', u'Ernst', u'Ervin', u'Escape', u\"Escape's\", u'Esnards', u'Espagnol', u'Essex', u'Esther', u'Estimates', u'Ethel', u'Eugene', u'Europe', u\"Europe's\", u'European', u'Eustis', u'Evans', u'Evanston', u'Eve', u'Evegeni', u'Evelyn', u'Even', u'Every', u'Everybody', u'Everything', u'Everywhere', u'Ex-Oriole', u'Examiner', u'Examiners', u'Except', u'Exchange', u'Exclaimed', u'Executive', u'Executives', u'Exhibition', u'Expect', u'Experts', u'Exploratory', u'Explosion', u'Exposition', u'Expresses', u'Expressions', u'Expressway', u'Expressways', u'Extend', u'Extension', u'External', u'F', u'F.', u'FBI', u'FFA', u'Fabian', u'Faced', u'Factories', u'Factory', u'Failure', u'Fair', u'Fairchild', u'Fairless', u'Fairy', u\"Falcons'\", u'Fall', u'Falls', u'Famed', u'Family', u'Fanning', u\"Fardulli's\", u'Fargo', u'Farley', u'Farm', u'Farmers', u'Farrell', u'Fashion', u'Fatima', u'Fazio', u'Fears', u'Feb.', u'February', u\"February's\", u'Federal', u'Federation', u'Feis', u'Felix', u'Fellini', u'Fellowship', u'Felske', u'Fenwick', u'Ferdinand', u'Ferdinando', u'Fergeson', u'Feringa', u'Fernberger', u'Ferris', u'Festival', u'Fiat', u'Fidel', u'Fiedler', u\"Fiedler's\", u'Field', u\"Field's\", u'Fields', u'Fifteen', u'Fifth', u'Fifty-three', u'Fighters', u'Figone', u'Fike', u'Fil', u'Finalists', u'Finally', u'Finan', u'Finance', u'Fine', u'Fingered', u'Fire', u'Fireside', u'Firm', u'First', u'Fisher', u'Fitzgerald', u'Fitzhugh', u'Five', u'Fla.', u'Flanagan', u'Flashed', u'Fleisher', u'Fletcher', u'Flight', u'Flip', u'Flock', u\"Flock's\", u'Florence', u'Floresville', u'Florida', u'Flower', u'Flowers', u'Flushing', u'Fogelson', u'Foil', u'Foliage', u'Folklore', u'Follow', u'Fonta', u'Food', u'Foods', u'Football', u'Footnotes', u'For', u\"Forbes's\", u'Force', u\"Force's\", u'Ford', u'Foreign', u'Forest', u'Forever', u'Formby', u\"Formby's\", u'Former', u'Formula', u'Forsyth', u'Forsythe', u'Fort', u'Forte', u'Fortier', u'Fortin', u'Foster', u'Foundation', u'Four', u'Fourteen', u'Foxx', u'Fra', u'France', u\"France's\", u'Frances', u'Francesca', u'Francis', u'Franciscans', u'Francisco', u\"Francisco's\", u'Frank', u'Frankford', u'Frankie', u'Franklin', u'Fred', u'Freddie', u'Frederic', u'Frederick', u'Freedom', u'Freeholder', u'Freeman', u'Freeport', u'Freida', u'French', u'French-born', u'Fresh', u'Frick', u'Friday', u\"Friday's\", u'Friend', u'Friends', u'Frito', u'Fritz', u'Frog-marched', u'From', u'Fruit', u'Fuchs', u'Fuhrmann', u\"Fuhrmann's\", u'Fulbright', u'Full', u'Fulton', u'Fund', u'Fundamental', u'Funds', u'Funeral', u'Fur', u\"Furhmann's\", u'Further', u'Future', u'G.', u'GA', u'GOP', u'Ga.', u'Gables', u'Gaines', u\"Gaines'\", u'Gainesville', u'Gaining', u'Gains', u'Gaither', u'Gala', u'Gallery', u\"Gallery's\", u'Gallup', u'Galt', u'Galveston', u'Games', u'Gamma', u'Gander', u'Gannon', u\"Gannon's\", u'Garden', u'Gardner', u\"Gardner's\", u'Garland', u'Garson', u'Gary', u'Garza', u'Gas', u'Gaston', u'Gate', u'Gateway', u'Gather', u'Gauer', u'Gay', u'Gaynor', u'Geddes', u'Gee', u\"Gee's\", u'Gehrig', u'Gen.', u'Gene', u'General', u'Generale', u'Generally', u'Geneticist', u'Geneva', u'Genevieve', u'Gentile', u'George', u'Georgetown', u'Georgia', u\"Georgia's\", u'Georgia-Pacific', u'Geraghty', u\"Geraghty's\", u\"Geraghtys'\", u'Gerald', u'Geraldine', u'German', u'Germania', u'Germany', u'Gerosa', u\"Gerosa's\", u'Get', u'Gets', u'Getting', u'Gettysburg', u'Gevurtz', u'Ghana', u'Ghormley', u'Giacometti', u'Giacomo', u'Giants', u\"Giants'\", u'Gibson', u'Gift', u'Gil', u'Gill', u'Gillis', u'Gilman', u'Gimbel', u'Gin', u'Ginghams', u\"Ginner's\", u'Ginning', u'Gino', u'Giorgio', u'Give', u'Given', u'Givers', u'Giving', u'Gladden', u\"Gladden's\", u'Glass', u'Glazer', u'Glen', u'Glenda', u'Glennon', u'Glimco', u\"Glimco's\", u'Glison', u'Globe-Democrat', u'Gloriana', u'Go', u'God', u'Gods', u'Godwin', u'Gogh', u'Gold', u'Goldberg', u'Golden', u'Goldwater', u'Golf', u\"Golf's\", u'Golfers', u'Gomez', u'Good', u'Goodbye', u'Goodis', u'Goodman', u'Gordin', u'Gordon', u\"Gordon's\", u'Gore', u\"Gore's\", u'Gorgeous', u'Gotham', u'Gould', u'Gov.', u'Government', u\"Government's\", u'Governments', u'Governor', u\"Governor's\", u'Grace', u'Gradual', u'Graduate', u'Grady', u'Graft', u'Graham', u'Grahamstown', u'Grand', u'Grandparents', u'Grant', u'Grapefruit', u'Gray', u'Grayson', u'Great', u'Greater', u'Greece', u'Greek', u'Green', u\"Green's\", u'Greenberg', u'Greene', u'Greenfield', u'Greenock', u'Greenville', u'Greenwich', u'Greenwood', u'Greer', u'Gregg', u'Gregorio', u'Gregory', u'Grenier', u'Grenoble', u'Gretchen', u'Greyhound', u'Griffin', u'Griffith-Jones', u'Grimm', u'Grinsfelder', u\"Grizzlies'\", u'Groat', u'Grocery', u'Grooms', u'Grossman', u'Grounds', u'Group', u'Grove', u'Grover', u'Grovers', u'Growth', u'Grzesiak', u'Guam', u'Guard', u'Guatemala', u'Guerin', u'Guest', u'Guests', u'Guglielmo', u'Guinea', u'Gulf', u\"Gulf's\", u'Gunther', u'Gursel', u'Gus', u'Guy', u'H.', u'Haaek', u'Haase', u'Habib', u'Hack', u'Hackett', u'Hackstaff', u'Had', u'Haddix', u'Hagner', u'Hail', u'Hal', u'Half', u'Halfback', u'Hall', u\"Hall's\", u'Halleck', u\"Hallowell's\", u'Hambric', u'Hamey', u'Hamilton', u'Hamm', u'Hammarskjold', u'Hammett', u'Hammond', u'Hammons', u'Hampton', u'Hand', u'Handicapped', u'Handsome', u'Hank', u'Hansen', u\"Hansen's\", u'Happy', u'Harbor', u'Harcourt', u'Hardwicke-Etter', u'Hardy', u'Hargett', u'Harlingen', u'Harmon', u'Harmony', u'Harold', u'Harriet', u'Harriman', u'Harris', u'Harrity', u'Harry', u'Hartford', u'Hartley', u'Hartman', u'Hartselle', u'Hartsfield', u'Hartweger', u'Harvard', u\"Harvard's\", u'Harvest', u'Harvester', u'Harvey', u'Harveys', u'Has', u'Haskins', u'Hat', u'Hatfield', u'Hatters', u'Havana', u'Havilland', u'Having', u'Hawaiian', u'Hawksley', u'Hayes', u'Haynes', u'Hays', u'Hayward', u'Hazard', u'He', u\"He'll\", u\"He's\", u'Headquarters', u'Health', u'Hearn', u'Heating', u'Heavy', u'Hector', u'Heideman', u'Heights', u'Heilman', u'Heinkel', u'Heinze', u'Heitschmidt', u'Held', u'Helen', u'Helene', u'Help', u'Helping', u'Hemphill', u'Hempstead', u'Hemus', u'Henderson', u'Hengesbach', u'Henri', u'Henry', u'Her', u'Herb', u'Herbert', u'Here', u\"Here's\", u'Heritage', u'Herman', u'Herridge', u'Herrington', u'Herter', u'Herzog', u'Hess', u'Hester', u'Hewlett-Woodmere', u'Heywood', u'Hickok', u'Hicks', u'High', u\"High's\", u'Higher', u'Highway', u'Hill', u'Hillcrest', u'Hills', u'Hillsboro', u'Hillsdale', u'Hilton', u'Hinckley', u'Hinsdale', u'Hinton', u'Hiring', u'His', u'Hit', u\"Hitler's\", u'Hitting', u'Hmpf', u'Hoak', u'Hoaps', u'Hobart', u'Hockaday', u'Hodges', u'Hodosh', u'Hoffa', u'Hogan', u'Holabird', u'Holbrook', u'Holders', u'Hole', u'Hollander', u'Hollowell', u'Hollywood', u\"Hollywood's\", u'Holman', u'Holmes', u'Holy', u'Home', u'Homeowners', u'Homer', u'Hong', u'Honolulu', u'Honor', u'Honors', u'Hood', u'Hooked', u'Hoover', u'Hope', u'Hopefully', u'Horace', u'Hord', u'Horstman', u'Horton', u'Hose', u'Hospital', u'Hotel', u'Houghton', u'Houk', u'Hours', u'House', u\"House's\", u'Housed', u'Housewives', u'Housing', u'Houston', u'Houtz', u'Hovarter', u'How', u'Howard', u'Howell', u'However', u'Howsam', u\"Howsam's\", u'Howser', u'Hoyt', u'Hubbell', u'Hubert', u\"Hubie's\", u'Huddle', u'Hudson', u'Huff', u\"Huff's\", u'Huffman', u'Hugh', u'Hughes', u\"Hughes'\", u'Human', u'Humphrey', u'Hungarian', u'Hunter', u'Huntington', u'Huntingtons', u'Huntley', u'Hurrah', u'Hurt', u'Hutchins', u\"Hutchins'\", u'Hyannis', u'Hyde', u\"Hyde's\", u'Hyndman', u'Hypocrisy', u'I', u\"I'd\", u\"I'll\", u\"I'm\", u\"I've\", u'I.', u'I.R.S.', u'ICC', u'Idaho', u'Idea', u'Idealist', u'Ideally', u\"Idols'\", u'Ierulli', u'If', u'Iglehart', u'Ignition', u'Ike', u'Ill.', u'Illinois', u'Illustrated', u'Ilona', u'Ilyushin', u'Immigration', u'Imperial', u'Implementation', u'Import', u'Important', u'In', u'Inaugural', u'Inauguration', u'Inc.', u'Incidentally', u'Incinerator', u'Increase', u'Increasing', u'Incumbent', u'Ind.', u'Indeed', u'Indemnity', u'Independent', u'India', u'Indian', u'Indiana', u'Indianapolis', u'Indians', u'Indicating', u'Indication', u'Indications', u'Individual', u'Indo-China', u'Indonesia', u'Industrial', u'Industries', u'Industry', u'Ingo', u'Inheriting', u'Initially', u'Inn', u'Inna', u'Innumerable', u'Inside', u'Insofar', u'Inspections', u'Instant', u'Instead', u'Institute', u'Insurance', u'Insuring', u'Inter-American', u'Interested', u'International', u'Interstate', u'Intervenes', u'Interviews', u'Into', u'Investigation', u'Investment', u'Investors', u'Invitation', u'Invitations', u'Iowa', u'Iran', u'Ireland', u'Irene', u'Irina', u'Irish', u'Irwin', u'Is', u'Isaac', u'Isaacson', u'Island', u\"Island's\", u'Islands', u'Isles', u'Isodine', u'Issue', u'It', u\"It'll\", u\"It's\", u'Italian', u'Italy', u\"Italy's\", u'Its', u'Ivan', u'Ivory', u'Izvestia', u'J.', u'JA', u'Jack', u'Jackie', u'Jackson', u'Jacksonville', u'Jacqueline', u'Jacques', u'Jail', u'Jamaica', u'Jamaican', u'James', u'Jan.', u'Jana', u'Jane', u'Janet', u'Janice', u'Jansen', u'Janssen', u'January', u'Japan', u'Japanese', u'Jaross', u'Jay', u'Jean', u'Jefferson', u'Jenkins', u\"Jenkins's\", u'Jenks', u'Jensen', u'Jeremiah', u'Jerome', u'Jerry', u'Jersey', u\"Jersey's\", u'Jessy', u'Jesus', u'Jewish', u'Jim', u'Jimmie', u'Jimmy', u'Joan', u'Joanne', u'Jock', u'Jockey', u'Jody', u'Joe', u'Joey', u'John', u\"John's\", u'Johnny', u'Johns', u'Johns-Manville', u'Johnson', u'Johnston', u'Jolly', u'Jon', u'Jones', u'Joplin', u'Jorda', u\"Jorda's\", u'Jordan', u'Jorge', u'Joseph', u'Jossy', u'Journal', u'Journal-American', u'Journal-Bulletin', u\"Journal-Bulletin's\", u'Joyce', u'Jr.', u\"Jr.'s\", u'Jude', u'Judge', u'Judith', u'Judson', u'Judy', u'Julian', u'July', u'Jump', u'June', u'Junior', u'Juras', u'Jurisdiction', u'Jury', u'Jussel', u'Just', u'Justice', u'Juvenile', u'K.', u'K.J.P.', u'KKK', u'KQED', u'Kader', u\"Kai-shek's\", u'Kaiser', u'Kalonji', u'Kamens', u'Kaminsky', u'Kan.', u'Kanin', u'Kankakee', u'Kans.', u'Kansas', u'Kaplan', u'Kapnek', u'Kappa', u'Karen', u'Karns', u\"Karns'\", u'Karol', u'Kas.', u'Kasai', u'Kasavubu', u'Katanga', u'Katherine', u'Kathleen', u'Kathy', u'Kaufnabb', u'Kawecki', u'Kay', u'Kedzie', u'Keegan', u'Keeler', u'Kegham', u'Keizer', u'Kel', u'Kelly', u'Kelsey', u'Kemm', u'Ken', u'Kenilworth', u'Kennedy', u\"Kennedy's\", u'Kenny', u'Kentfield', u'Kentucky', u'Kerby', u'Kercheval', u'Kern', u'Kerr', u'Kerrville', u'Kershbaum', u'Kestner', u'Khrush', u'Khrushchev', u\"Khrushchev's\", u'Kieffer', u'Kiefferm', u'Kika', u'Kilhour', u'Kililngsworth', u'Killebrew', u'Killingsworth', u'Kimbolton', u'Kimmell', u'Kimpton', u'King', u'Kings', u'Kiowa', u'Kira', u'Kirkland', u'Kirov', u\"Kirov's\", u'Kissak', u'Kittredge', u'Kivu', u'Kiwanis', u'Klan', u'Klaus', u'Klees', u'Klein', u'Kloman', u'Klux', u'Knauer', u'Knecht', u'Knickerbocker', u'Knight', u'Knights', u'Knoll', u'Knox', u'Kochanek', u'Kochaneks', u'Kolb', u'Kolpakova', u'Kong', u'Konstantin', u'Korman', u'Kowalski', u\"Kowalski's\", u\"Kramer's\", u'Kreisler', u'Kremlin', u'Kretchmer', u'Kriss', u'Kroger', u'Krogers', u\"Krogers'\", u'Ku', u'Kubek', u'Kunkel', u\"Kunkel's\", u'Ky.', u'L', u'L.', u'LSU', u'La', u'La.', u'LaSalle', u'Labor', u'Lacking', u'Lacy', u'Ladgham', u'Lady', u'Lafayette', u'Lafe', u'Laguna', u'Lake', u'Lamar', u'Lambert', u'Lancashire', u\"Landis'\", u'Landrum-Griffin', u'Lane', u'Lang', u'Langsdorf', u\"Lanin's\", u'Lao', u'Laos', u'Laotian', u'Laotians', u'Larimer', u'Larry', u'Larson', u'Las', u'Last', u'Later', u'Latin', u'Latinovich', u'Latter', u'Lauderdale', u'Laughlin', u'Lavaughn', u'Law', u'Lawford', u'Lawn', u'Lawrence', u'Lawrenceville', u'Lay', u'Le', u'Leader', u'Leaders', u'Leadership', u'Leading', u'League', u\"League's\", u'Leaguers', u'Leary', u'Leatherman', u'Leatherneck', u'Leave', u'Leavitt', u\"Leavitt's\", u'Led', u'Ledford', u'Ledge', u'Lee', u'Lefty', u'Legers', u'Legion', u'Legislative', u'Legislators', u'Legislature', u'Legislatures', u'Lehman', u'Lehner', u'Leighton', u'Leland', u'Lemon', u'Len', u'Leningrad', u'Lenny', u\"Lenobel's\", u'Lenygon', u\"Lenygon's\", u'Leo', u'Leon', u'Leonard', u'Leopold', u\"Leopold's\", u'Leopoldville', u'Leroy', u'Lester', u'Let', u'Letitia', u'Letters', u'Leukemia', u'Leverett', u'Levitt', u'Levittown', u'Lewelleyn', u'Lewis', u'Lex', u'Lexington', u'Liberal', u'Liberals', u'Librarians', u'Library', u'Licenses', u'Lichtenstein', u'Lieberman', u'Lien', u'Life', u'Ligget', u'Light', u'Like', u'Lilac', u'Lindy', u'Line', u'Lint', u'Liquor', u'Lisle', u'Liss', u'Listed', u'Liston', u'Little', u'Livermore', u'Lives', u'Living', u'Llewellyn', u'Lloyd', u'Loan', u'Local', u'Locked', u'Lockheed', u\"Lockheed's\", u'Lockies', u'Lodge', u'Loeb', u'Loen', u'Loewe', u'Logan', u'Lois', u'Lola', u'London', u'London-based', u'Long', u'Long-term', u'Longhorn', u'Longhorns', u'Longinotti', u'Lonsdale', u\"Lonsdale's\", u'Look', u'Loop', u'Loper', u'Lopez', u'Lorain', u'Lord', u'Lorenz', u'Lorlyn', u'Los', u'Lou', u'Louchheim', u'Louis', u\"Louis's\", u'Louise', u'Louisiana', u'Louisville', u'Lounge', u'Lovelace', u'Lovely', u'Lover', u'Lovett', u'Loving', u'Low-flying', u'Lowe', u\"Lowe's\", u'Lown', u'Lt.', u'Ltd.', u'Lubbock', u'Lucille', u'Lucy', u'Ludlow', u'Ludwick', u'Ludwig', u'Luechtefeld', u'Luette', u'Luis', u'Luise', u\"Luke's\", u'Lumia', u'Lummus', u'Lumpe', u'Lumumba', u\"Lumumba's\", u'Luther', u'Lutheran', u'Luthuli', u'Lyle', u'Lynn', u'Lyon', u'M', u'M.', u'MVP', u'Mac', u'MacDonald', u'MacGregors', u'MacPhail', u'MacWhorter', u'Macassar', u'Machinists', u'Mack', u'Mackey', u'Macon', u'Macwhyte', u'Madame', u'Madison', u'Madonna', u\"Maestro's\", u'Mag', u'Magarrell', u'Mail', u'Main', u'Maine', u'Maintenance', u'Majesties', u'Major', u'Major-League', u'Make', u'Mal', u'Malcolm', u'Mali', u'Mall', u'Malmud', u'Malone', u'Mame', u'Man', u'Mana', u'Manager', u'Managing', u'Mandarin', u'Manhattan', u'Manila', u'Mankowski', u'Manor', u'Mansion', u\"Mansion's\", u'Mantle', u\"Mantle's\", u'Manville', u'Many', u'Manzanola', u'Map', u'Maple', u'Maplecrest', u'Marc', u'March', u'Marcile', u'Marcus', u'Mardis', u'Marella', u'Margaret', u'Marie', u'Marietta', u'Marin', u'Marine', u'Marines', u'Maris', u\"Maris's\", u'Mark', u'Marketing', u'Maroy', u'Marr', u\"Marr's\", u'Marriage', u'Marshall', u'Marsicano', u'Marskmen', u'Martin', u'Martinelli', u'Martini', u'Marty', u'Marv', u'Marvin', u'Mary', u'Maryland', u\"Maryland's\", u'Mason', u'Masonic', u'Masons', u'Masque', u'Mass.', u'Massachusetts', u\"Massachusetts'\", u'Massey-Ferguson', u'Massimo', u'Master', u'Masters', u'Matching', u'Matisses', u'Mauch', u'Maureen', u'Maurice', u'Maurine', u'May', u'Maybe', u'Mayer', u'Mayfair', u'Maynard', u'Maynor', u'Mayor', u\"Mayor's\", u'Mayor-nominate', u'Mayoral', u'Mays', u\"Mays'\", u'Mazeroski', u'McAlester', u'McAlister', u'McAuliffe', u'McCauley', u'McClellan', u\"McClellan's\", u\"McCloy's\", u'McCluskey', u'McConnell', u\"McConnell's\", u'McCormick', u'McDaniel', u'McDermott', u'McEachern', u'McElvaney', u'McElyee', u'McFarland', u'McGehee', u'McGeorge', u'McIntosh', u'McIntyre', u'McKee', u'McLauchlin', u'McLemore', u'McN.', u'McNair', u'McNaughton', u'McNeil', u'McRoberts', u'Md.', u'Me', u'Mead', u'Meadow', u'Meanwhile', u'Mears', u'Measure', u'Medical', u'Mediterranean', u'Meek', u'Meet', u'Melcher', u'Mellow', u'Melvin', u'Members', u'Memorial', u'Memphis', u\"Men's\", u'Menderes', u'Menuhin', u'Mercer', u'Mercury', u'Mercy', u'Meredith', u'Merger', u'Merit', u'Merner', u'Merrill', u'Merritt', u'Mervin', u'Messrs', u'Messrs.', u'Met', u'Metal', u'Methodist', u'Metropolitan', u'Mets', u'Mexican', u'Mexico', u\"Mexico's\", u'Meyer', u'Meyers', u'Meyle', u'Meyner', u\"Meyner's\", u'Mfg.', u'Miami', u'Mich.', u'Michael', u'Michaels', u'Michaelson', u'Michigan', u'Mickey', u\"Mickey's\", u'Middle', u'Midway', u'Midwest', u'Mike', u'Mile', u'Milenoff', u'Miles', u'Military', u'Mill', u'Miller', u\"Miller's\", u'Millie', u'Mills', u\"Mills's\", u'Milt', u'Milties', u'Milton', u'Milwaukee', u\"Milwaukee's\", u'Mine', u'Mineral', u'Mining', u'Minister', u'Ministers', u'Miniver', u'Minneapolis', u'Minnesota', u\"Minnesota's\", u'Minnie', u'Minoso', u'Miss', u'Miss.', u'Misses', u'Missiles', u'Mission', u'Missionary', u'Mississippi', u\"Mississippi's\", u'Mississippians', u'Missoula', u'Missouri', u\"Missouri's\", u'Mister', u'Misunderstanding', u'Mitchell', u'Mizell', u'Mmes', u'Mmes.', u'Mo.', u'Mobutu', u'Models', u'Modern', u'Moffett', u'Mohammedanism', u'Moise', u'Molinari', u'Moller', u'Mollusks', u'Molly', u\"Molly's\", u'Molvar', u'Mom', u'Momentarily', u'Moments', u'Monday', u\"Monday's\", u'Monet', u'Money', u'Mongolia', u\"Mongolia's\", u'Monica', u'Monk', u'Monroe', u'Mont.', u'Monte', u'Montgomery', u'Monthly', u'Moody', u'Moore', u'More', u'Morehouse', u'Moreover', u'Morgan', u'Morgart', u'Moritz', u'Morley', u'Morocco', u'Morris', u'Morse', u'Mortar', u'Mortgage', u'Morton', u\"Morton's\", u'Moscone', u'Moscow', u'Moses', u'Moss', u'Most', u'Mostly', u'Motel', u'Mother', u'Motor', u'Motorists', u'Moulton', u'Moultons', u'Mound', u'Moune', u'Mount', u'Mountains', u'Mouse', u'Moving', u'Mr.', u'Mrs', u'Mrs.', u'Mt.', u'Much', u'Mullen', u'Mullenax', u'Mulligatawny', u'Multnomah', u'Muncipal', u'Munger', u'Munoz', u'Murphy', u'Murray', u'Murtaugh', u'Murville', u'Museum', u'Musial', u'Music', u'Musica', u\"Musician's\", u'Muskegon', u'Must', u'Mustang', u'Mustangs', u'Mutual', u'My', u'Myers', u'Myron', u'N.', u'N.C.', u'N.D.', u'N.J.', u'N.Y.', u'NATO', u\"NATO's\", u'NBC', u'NE', u'NLRB', u'NW', u'NYU', u'Nae', u'Nagle', u'Nairne', u'Nakoma', u'Nam', u'Named', u'Nancy', u'Nanook', u'Narragansett', u'Nassau', u'Natalie', u\"Nation's\", u'National', u'Nationalist', u'Nations', u'Natural', u'Naturally', u'Nautilus', u'Navigation', u'Navy', u\"Navy's\", u'Nazarene', u'Nazi', u'Neal', u'Nearly', u'Nebraska', u'Negro', u'Negroes', u'Nehf', u'Neighbor', u'Neil', u'Neiman-Marcus', u'Neither', u'Nell', u'Nelson', u'Nepal', u'Net', u'Neuberger', u'Neumann', u'Neusteter', u'Neusteters', u'Nev.', u'Nevada', u'Nevah', u'Neveh', u'Nevertheless', u'New', u'Newark', u'Newbold', u'Newburger', u'Newcomers', u'Newfoundland', u'Newman', u'Newport', u'Newport-based', u'News', u'Newsom', u'Newsweek', u'Newton', u'Newtown', u'Next', u'Nicholas', u'Nichols', u'Nick', u'Nicklaus', u'Nieman', u'Night', u'Nightingale', u'Nijinsky', u'Nikita', u'Nilsen', u'Nilsson', u'Nine', u'Ninth', u'Nischwitz', u\"Nischwitz'\", u'Niven', u'Nixon', u\"Nixon's\", u'Njust', u'No', u'No.', u'Nobel', u'Nobody', u\"Nobody's\", u'Noel', u'Nolan', u'None', u'Nonresidential', u'Nor', u'Nordmann', u'Norell', u'Nori', u'Norm', u'Norman', u'Norris-LaGuardia', u'Norristown', u'North', u'Northeast', u'Northern', u'Northwest', u'Northwestern', u'Norway', u'Not', u'Note', u'Noted', u'Nothing', u'Noting', u'Notre', u'Notte', u'Nov.', u'November', u'Novosibirsk', u'Now', u'Nugent', u\"Nugent's\", u'Nunes', u'Nursing', u'Nuttall', u'Nyberg', u'O', u\"O'Clock\", u\"O'Connor's\", u\"O'Hare\", u\"O'Neill\", u\"O'Sullivan\", u\"O's\", u'O-B', u'O.', u'OK', u'Oak', u'Oakland', u'Occasionally', u'Ocean', u'Oceania', u'Oct.', u'October', u'Oddly', u'Odell', u'Odom', u'Of', u'Offenses', u'Office', u'Officer', u\"Officers'\", u'Official', u'Officials', u'Ogden', u'Oh-the-pain-of-it', u'Ohio', u'Oil', u'Oilers', u'Okinawa', u'Okla.', u'Oklahoma', u\"Ol'\", u'Old', u'Oldsmobile', u'Olerichs', u'Olive', u'Oliver', u'Olivet', u'Olivetti', u'Olivia', u'Olney', u'Olsen', u'Olvey', u'Olympic', u'Omega', u'Omsk', u'On', u'Once', u'One', u'Only', u'Opelika', u'Open', u'Opera', u'Operating', u'Operation', u'Opponents', u'Opposition', u'Or', u'Orange', u'Orchestra', u'Orchestre', u'Orcutt', u'Order', u'Ordinarily', u'Ordinary', u'Ore.', u'Oregon', u'Organization', u'Oriental', u'Oriole', u'Orioles', u\"Orioles'\", u'Orkney', u'Orlando', u'Orleans', u'Oscar', u'Oslo', u'Other', u'Others', u'Otis', u'Oum', u'Our', u'Out', u'Outer', u'Outfielder', u'Outlays', u'Outside', u'Outstanding', u'Over', u'Owen', u'Owens', u\"Owl's\", u'Owls', u'Oxford', u'Oxnard', u'Ozzie', u'P.', u'P.M.', u'P.m.', u'PTC', u'Pa.', u'Pablo', u'Pabor', u'Pacific', u'Packers', u'Packs', u'Pact', u'Page', u'Paget', u'Paine', u'Pakistan', u'Pakistanis', u\"Pal's\", u'Palace', u'Palermo', u'Pall', u'Palm', u'Palmer', u\"Palmer's\", u'Palo', u'Palsy', u'Pamela', u'Pampa', u'Panama', u'Pankowski', u'Pantas', u'Papa', u'Pappas', u'Paradise', u'Paradoxically', u'Paree', u'Parents', u'Parichy', u'Parichy-Hamm', u'Paris', u'Park', u'Parker', u'Parkhouse', u'Parliament', u'Parmer', u'Parrillo', u'Parsons', u'Participants', u'Participating', u'Party', u\"Party's\", u'Pas', u'Pasadena', u'Paschal', u'Paschall', u'Paso', u'Passage', u'Passavant', u'Pat', u'Pate', u'Pathet', u'Patience', u'Patrice', u'Patricia', u\"Patrick's\", u'Patrol', u'Patrolman', u'Patrolmen', u'Patterson', u'Patti', u'Patty', u'Paul', u'Paul-Minneapolis', u'Paulah', u'Pauleys', u'Pavletich', u\"Pawtucket's\", u'Payson', u'Peace', u'Pearl', u'Pearson', u'Peck', u'Pecos', u'Peking', u'Pelham', u'Pen', u'Pennock', u'Pennsylvania', u'Pensacola', u'Pentagon', u\"Pentagon's\", u'People', u'Perasso', u'Perennian', u'Performers', u'Perhaps', u'Perkins', u'Perlman', u'Perry', u'Persian', u'Person', u'Persons', u'Peruvian', u'Pesce', u'Pete', u'Peter', u'Petersburg', u'Peterson', u'Petipa-Tschaikowsky', u'Petitions', u'Petrini', u'Pezza', u'Pfaff', u'Pfau', u'Pfc.', u'Pfohl', u'Pharmical', u'Phelan', u'Phil', u'Philadelphia', u\"Philadelphia's\", u'Philharmonique', u'Philip', u'Philippine', u'Phillies', u'Phillips', u'Philmont', u'Phoenix', u'Phouma', u\"Phouma's\", u'Phyfe', u'Phyllis', u'Physicians', u'Pi', u'Picasso', u'Piedmont', u'Pierce', u'Piero', u'Pierre', u'Piersee', u'Pierson', u'Pike', u'Pillsbury', u'Pilots', u'Pinar', u'Pinsk', u'Piraro', u'Pirate', u'Pirates', u\"Pirates'\", u'Pirie', u'Pitcher', u'Pitchers', u'Pittsboro', u'Pittsburgh', u'Place', u'Placentia', u'Plainfield', u'Plains', u'Plainview', u'Plan', u'Planning', u'Plant', u'Play', u'Playboy', u'Playboy-Show-Biz', u'Player', u\"Player's\", u'Players', u'Plaza', u'Plea', u'Pleas', u'Plee-Zing', u'Plus', u'Pohl', u\"Pohl's\", u'Pohly', u'Point', u'Polaris', u'Police', u'Policeman', u'Policemen', u'Policies', u'Political', u'Polls', u'Polo', u'Polytechnic', u'Pompano', u'Ponce', u'Pontiac', u\"Poor's\", u'Port', u'Porter', u'Porters', u'Portland', u\"Portland's\", u'Portugal', u'Portuguese', u'Possible', u'Post', u'Post-Dispatch', u'Potter', u'Powell', u'Pp.', u'Practice', u'Prairie', u'Pratt', u'Prattville', u'Pre-inaugural', u'Precise', u'Prejudice', u'Premier', u\"Prentice's\", u'Prentice-Hall', u'Presbyterian', u'Presbyterian-St.', u'Presently', u'President', u\"President's\", u'President-elect', u'Presidential', u'Presidents', u'Press', u'Pretty', u'Price', u'Priddy', u'Pride', u'Prince', u'Princes', u\"Princes'\", u'Princess', u'Princeton', u'Principal', u'Principals', u'Prior', u'Private', u'Privately', u'Prix', u'Prize', u'Probably', u'Proceeds', u'Producer', u'Productivity', u'Professional', u'Professors', u'Profili', u'Progress', u'Proof', u'Property', u'Prosecutor', u'Providence', u'Pualani', u'Public', u'Publique', u'Published', u'Publisher', u'Publishing', u'Puddingstone', u'Puerto', u'Pullen', u'Pulling', u'Pullings', u'Pumpkin', u'Purchasing', u\"Purdue's\", u'Purse', u'Put', u'Putt', u'Pye', u'Q.', u'Quaker', u'Quarterback', u'Queen', u'Queens', u'Quell', u'Question', u'Questions', u'Quincy', u'Quite', u'R', u\"R's\", u'R-Bergen', u'R-Cape', u'R-Warren', u'R.', u'R.L.', u'Rabb', u'Race', u'Rackmil', u'Racquet', u'Radio', u'Rae', u'Raesz', u'Rafer', u\"Raiders'\", u'Railroad', u'Railroads', u'Rainier', u'Ralph', u'Ramsey', u'Ranch', u'Randall', u'Random', u'Randy', u'Range', u'Ransom', u'Raoul', u\"Raphael's\", u'Ratcliff', u'Rather', u'Ratto', u'Ray', u'Rayburn', u\"Rayburn's\", u'Rayburn-Johnson', u'Raymond', u'Raymondville', u'Raymont', u'Rd.', u'Reaction', u'Read', u'Reading', u'Reama', u'Reared', u'Reconstruction', u'Recounting', u'Recovery', u'Red', u'Red-prone', u'Redbirds', u\"Redbirds'\", u'Redevelopment', u'Reds', u'Reed', u'Reeder', u'Reedville', u'Reese', u'Refuses', u'Regarding', u'Regional', u'Register', u'Registrations', u'Regrets', u'Reichenberg', u'Reid', u'Reifenrath', u'Reilly', u\"Reily's\", u'Relations', u'Relatively', u'Religious', u\"Rembrandt's\", u'Renaissance', u'Reno', u'Reno-Lake', u'Rensselaer', u'Rep.', u'Repertory', u'Report', u'Reports', u'Representative', u'Representatives', u'Reprisals', u'Reps.', u'Republic', u'Republican', u'Republican-controlled', u'Republicanism', u'Republicans', u\"Republicans'\", u'Reputedly', u'Requests', u'Research', u'Resentment', u'Reserve', u'Residential', u'Response', u'Restaurant', u'Result', u'Results', u'Retail', u'Returning', u'Rev.', u'Revenue', u'Revolutionary', u'Rex', u'Reyes', u'Reynolds', u'Rheims', u'Rhine-Westphalia', u'Rhode', u'Rhodes', u'Ricci', u'Rice', u'Richard', u'Richards', u'Richardson', u'Richey', u'Richmond', u'Richmond-Petersburg', u'Rickards', u'Rickenbaugh', u\"Rickey's\", u'Rickshaw', u'Rico', u'Rider', u'Riders', u'Ridge', u'Rights', u'Rimini', u'Rio', u'Rip', u'Ritchie', u'Rite', u'River', u'Riverside', u'Riverview', u'Riviera', u'Rizzuto', u'Road', u'Roads', u'Rob', u'Robbins', u'Robert', u'Roberts', u\"Roberts'\", u'Robertsons', u'Robinson', u\"Robinson's\", u'Robinsonville', u'Rochester', u'Rockhall', u'Rocky', u'Roger', u'Rogers', u'Roland', u'Rollie', u'Rolnick', u'Roman', u'Romans', u'Romantic', u'Rome', u'Ron', u'Ronald', u'Ronnie', u'Rookie', u'Room', u'Roommates', u'Roos', u'Roosevelt', u'Roquemore', u'Rosburg', u'Rose', u'Rosella', u'Rosemary', u'Rosen', u'Ross', u'Rostagno', u'Rostagnos', u'Rosy', u'Rotary', u'Rotelli', u'Rouge', u'Round', u'Rounded', u'Route', u'Row', u'Rowley', u'Roy', u'Royal', u'Rozelle', u'Rte.', u'Rudolph', u'Ruggiero', u'Ruiz', u'Rule', u'Rules', u'Ruling', u'Rum', u'Rumford', u'Rural', u'Rush', u'Rusk', u\"Rusk's\", u'Russ', u'Russell', u\"Russell's\", u'Russia', u\"Russia's\", u'Russian', u'Russians', u\"Russians'\", u'Rusty', u'Ruth', u\"Ruth's\", u'Rutherford', u'Rylie', u'Ryne', u'S', u'S.', u'S.C.', u'S.P.C.A.', u'SE', u'SEATO', u'SMU', u\"SMU's\", u'SW', u'SWC', u'Saba', u'Sabbath', u'Sabol', u'Sacramento', u'Sacrifices', u'Saga', u'Said', u'Salary', u'Saledo', u'Salem', u'Sales', u'Salinger', u'Salt', u'Salter', u'Saltonstall', u'Salvador', u'Salvation', u'Salvatore', u'Sam', u'Same', u'Samoa', u'Sample', u'Samuel', u'Samuels', u'San', u'SanAntonio', u'Sanctuary', u'Sandman', u'Sandra', u'Sands', u'Sanger-Harris', u'Sanitary', u'Sanitation', u'Santa', u\"Santa's\", u'Sapio', u'Sarasota', u'Sargent', u'Sarkees', u'Sarmi', u'Satterfield', u'Saturday', u\"Saturday's\", u'Saul', u'Savage', u'Savannah', u'Savings', u'Saxton', u'Scampini', u'Scarsdale', u'Scenic', u'Schaefer', u'Schenk', u'Scherer', u'Schley', u'Schmalzried', u'Schmidl-Seeberg', u'School', u'Schools', u'Schrunk', u'Schultz', u'Schuyler', u'Schwab', u'Schwartz', u'Schweitzer', u'Science', u'Sciences', u'Scolatti', u'Scores', u'Scotch', u'Scotch-Irish-Scandinavian', u'Scotchgard', u'Scotland', u'Scots', u'Scott', u'Scottish', u'Scrapiron', u'Screvane', u'Screw', u'Scripps', u'Sea', u'Seagoville', u'Searles', u'Sears', u'Seats', u'Seattle', u'Second', u'Secret', u'Secretariat', u'Secretary', u'Secretary-General', u'Secretary-designate', u'Section', u'Security', u'See', u'See-through', u'Seeking', u'Seekonk', u'Seeks', u'Seerey', u'Sees', u'Seidel', u'Self', u'Semenov', u'Seminole', u'Semmes', u'Sen.', u'Senate', u\"Senate's\", u'Senator', u'Senators', u'Send', u'Senese', u'Sens.', u'Sent', u'Sentry', u'Sept.', u'September', u'September-October', u'Sequoia', u'Series', u'Serra', u'Serve', u'Service', u'Services', u'Serving', u'Sethness', u'Seven', u'Seventeen', u'Several', u'Severna', u'Sexton', u'Shahn', u'Shamrock', u'Shantz', u'Shari', u'Sharkey', u'Sharon', u'Sharpe', u\"Shartzer's\", u'Shatilov', u'Shaw', u\"Shaw's\", u'Shay', u'She', u\"She'll\", u\"She's\", u'Shea', u\"Shea's\", u'Sheeran', u'Sheets', u'Sheila', u'Shelby', u'Sheldon', u'Sheraton-Biltmore', u'Sheraton-Dallas', u'Sheriff', u'Sherman', u'Sherwood', u'Shiflett', u'Shipley', u'Shipman', u'Shirley', u'Shoettle', u'Sholom', u'Shop', u\"Shop's\", u'Shopping', u'Shore', u'Shortcuts', u'Shortly', u'Shortstop', u'Should', u'Shoup', u'Show', u'Shreveport', u'Shrine', u'Shriver', u'Shrove', u'Siberia', u'Siciliana', u'Sid', u'Sidney', u'Siebern', u'Sievers', u'Sigma', u'Signal', u'Silvers', u'Similar', u'Simmons', u\"Simmons'\", u'Simmonsville', u'Simms', u'Simon', u'Simonelli', u'Simpkins', u'Simpson', u\"Simpson's\", u'Sims', u'Simultaneously', u'Sinatra', u'Since', u'Sinfonica', u'Singles', u'Sioux', u'Sir', u'Sisk', u'Sitting', u'Six', u'Sixth', u'Sixty-seven', u'Sizova', u'Skid', u'Skinner', u'Skinny', u'Skip', u'Skipjack', u\"Skipjack's\", u'Skorich', u'Skylark', u'Skyline', u'Skyway', u'Slack', u'Slate', u'Slaughter', u'Sleeping', u'Slenczynka', u'Slim', u'Slocum', u'Slow', u'Small', u'Smallwood', u'Smith', u\"Smith's\", u'Smith-Colmer', u'Smithfield', u'Smoky', u'Smythe', u'Snapped', u'Snead', u'Snellville', u'Snodgrass', u\"Snyder's\", u'So', u'Social', u'Socialist', u'Societe', u'Society', u'Socola', u'Sokol', u'Solicitor', u'Solid', u'Solly', u'Soloviev', u'Some', u'Somerset', u'Somerville', u'Something', u'Sometimes', u'Somewhere', u'Son', u'Song', u'Sons', u'Soon', u'Sopsaisana', u'Sorrentino', u'Soule', u'Souphanouvong', u'Sousa', u'South', u'Southeast', u'Southeastern', u'Southern', u'Southern-Republican', u'Southerner', u'Southerners', u'Southwest', u'Southwestern', u'Souvanna', u'Soviet', u'Sox', u'Space', u'Spahn', u\"Spahn's\", u'Spahnie', u'Spangled', u'Spanish', u'Spanish-born', u'Speaker', u\"Speaker's\", u'Speakers', u'Speaking', u'Special', u'Spice-Nice', u'Spikes', u'Split', u'Sports', u'Sportsman', u'Spot', u'Spring', u'Springfield', u'Springs', u'Sprinkel', u'Sprinkle', u'Spurdle', u'Squad', u'Square', u'Squeezed', u'Sr.', u'St.', u'Stacy', u'Stadium', u'Stafford', u'Stage', u'Stagecoach', u'Staiger', u'Stalingr', u'Stallard', u'Stalling', u'Stamford', u'Stan', u'Standard', u'Stanley', u'Stansbery', u'Stanton', u'Star', u'Stark', u'Stars', u'Starting', u'Starts', u'State', u'Statements', u'States', u\"States'\", u'Statesman', u'Station', u'Stay', u'Steak', u'Steel', u'Steelers', u'Steeves', u'Stein', u\"Stein's\", u'Stella', u'Stengel', u\"Stengel's\", u'Stennis', u'Stepanovich', u'Stephanie', u'Stephen', u\"Stephen's\", u'Stephenson', u'Stepson', u'Sterling', u'Stern', u'Stetson', u'Stetsons', u'Steve', u'Stevens', u\"Stevenses'\", u'Stevenson', u'Stewart', u'Stickler', u'Stickney', u'Still', u'Stirling', u'Stock', u'Stoll', u'Stone', u\"Stone's\", u'Stonestown', u'Story', u'Stout', u'Strafaci', u'Stram', u\"Stram's\", u'Stranahan', u'Strategic', u'Stratton', u'Street', u'Streeters', u'Streets', u'Strenuous', u'Stricken', u'Strickland', u'Strip', u'Stripes', u'Strong', u'Stuart', u'Student', u'Students', u'Studio', u'Study', u'Subsequent', u'Substance', u'Success', u'Successful', u'Such', u'Suddenly', u'Sudier', u'Sue', u'Sufficient', u'Sukarno', u'Sulcer', u'Sullivan', u'Sulphur', u'Sum', u'Summer', u'Summerdale', u'Sunay', u'Sunday', u\"Sunday's\", u'Sunman', u'Sunny', u'Sunnyvale', u'Sunrise', u'Sunset', u'Sunshine', u'Super', u'Superior', u'Supervisor', u'Supply', u'Supreme', u'Supt.', u'Surprised', u'Surrounding', u'Surveys', u'Survivors', u'Susan', u'Sustaining', u'Sutherland', u'Sweden', u'Sweet', u'Swelling', u'Swim', u'Swine', u'Swiss', u'Switzerland', u'Sybert', u'Sydney', u'Sylvania', u'Symington', u'Symonds', u'Symphony', u'Syria', u'System', u'T.', u'TCU', u\"TCU's\", u'TEA', u'TNT', u'TV', u'Tabb', u'Tactics', u'Taft-Hartley', u'Tahoe', u'Tailback', u'Take', u'Taking', u'Talking', u'Tallahassee', u'Tareytown', u'Tarrant', u'Tarzan', u'Task', u'Tau', u'Taussig', u'Tawes', u'Tax', u'Tax-free', u'Taxation', u'Taylor', u'Teachers', u'Teaching', u'Tearle', u'Tech', u\"Tech's\", u'Tech.', u'Technology', u'Ted', u'Tee', u'Teleprompter', u'Television-Electronics', u'Tell', u'Teller', u'Temple', u'Tenn.', u\"Tennessee's\", u'Tennis', u'Tension', u'Ter.', u'Terral', u'Terror', u'Terry', u'Testament', u'Testifies', u'Teter', u'Tex', u'Tex.', u'Texan', u'Texans', u'Texas', u\"Texas'\", u'Thailand', u'Thakhek', u'That', u\"That's\", u'The', u'Theater', u'Theatre', u'Their', u'Then', u'Theodore', u'Theology', u'There', u\"There's\", u'Thereafter', u'Therefore', u'These', u'Thesis', u'They', u\"They'll\", u\"They're\", u\"They've\", u'Thieves', u'Things', u'Third', u'Thirteen', u'Thirty-one', u'This', u'Thomas', u'Thompson', u'Thornton', u'Those', u'Though', u'Thousands', u'Threat', u'Three', u'Threshold', u'Thrift', u'Throneberry', u\"Throneberry's\", u'Through', u'Throw', u'Thru', u'Thrush', u'Thruston', u'Thurman', u'Thursday', u\"Thursday's\", u'Thus', u'Tiao', u'Tibetan', u'Tic-Tac-Toe', u'Ticker', u'Tieken', u'Tift', u'Tigard', u'Tim', u'Time', u'Times', u'Times-Picayune', u'Tims', u'Tipoff', u'Tires', u\"Titche's\", u'To', u'Today', u\"Today's\", u'Todd', u'Tokyo', u'Toll', u'Tom', u\"Tom's\", u'Tommie', u'Tommy', u'Toni', u'Tonight', u'Tony', u'Tooling', u'Toppers', u'Toronto', u'Total', u'Totaling', u'Tougas', u'Tournament', u'Tower', u'Town', u'Towne', u'Township', u'Toying', u'Toys', u'Track', u'Tractor', u'Trade', u'Trading', u'Traffic', u'Trager', u'Trail', u'Tranquility', u'Transportation', u'Transylvania', u'Trap', u'Traveler', u'Travelers', u'Traxel', u'Treadwell', u'Treasury', u'Treatment', u'Treaty', u'Tree', u'Trenton', u\"Tribe's\", u'Tribune', u'Trichieri', u'Trigg', u'Trimble', u'Trinity', u'Troop', u'Trooper', u'Troopers', u'Trophy', u'Tropic', u'Trouble-free', u'Troup', u'Troy', u'Truck', u'Truman', u'Trust', u'Trustee', u'Trustees', u'Tshombe', u'Tsitouris', u'Tualatin', u'Tuberculosis', u'Tucson', u'Tudor', u'Tuesday', u\"Tuesday's\", u'Tulane', u'Tulsa', u'Tune', u'Tunis', u'Tunisia', u'Tunisian', u'Tuohy', u'Turandot', u'Turin', u'Turk', u'Turkey', u'Turkish', u'Turner', u'Turnpike', u\"Tussard's\", u'Tuttle', u\"Tuttle's\", u'Twelve', u'Twenty-four', u'Twenty-one-year-old', u'Twins', u'Twist', u'Two', u'Tyler', u'Typical', u'Tyson', u'U-2', u'U-I', u'U.', u\"U.'s\", u'U.N.', u\"U.N.'s\", u'U.S.', u\"U.S.'s\", u\"U.S.S.R.'s\", u'UCLA', u'UGF', u'UN', u'UPI', u'US', u'USN.', u'USSR', u'Uhles', u'Ullman', u'Ultimately', u'Uncas', u'Uncle', u'Unconscionable', u'Under', u'Underlying', u'Underwood', u\"Underwood's\", u'Unfortunately', u'Union', u'Unit', u'United', u'Universal-International', u'University', u\"University's\", u'Unlike', u'Until', u'Urged', u'Uruguay', u'Use', u'Using', u'Usually', u'Utah', u'V-1', u'V.', u'Va.', u'Vacancy', u'Vagabonds', u'Vague', u'Valedictorian', u'Valerie', u'Valley', u'Valuable', u'Van', u'Vandiver', u'Varani', u'Various', u'Vast', u\"Veeck's\", u'Vegas', u'Venable', u'Venturi', u'Verboort', u'Vermeersch', u'Vermont', u'Vern', u'Vernava', u'Vernon', u'Vernor', u'Vero', u'Verrone', u'Verstandig', u'Very', u'Vic', u'Vice', u'Vice-President', u'Viceroy', u'Vickery', u'Vicky', u'Victim', u'Vienna', u'Vientiane', u'Viet', u'Vieth', u'Vietnam', u'Vietnamese', u'Vieux', u'View', u'Viewing', u'Vikings', u'Village', u'Vincent', u'Vinegar', u'Vinson', u'Virdon', u'Virgil', u'Virgin', u'Virginia', u'Virsaladze', u'Vita', u'Vital', u'Vivacious', u'Vivier', u'Vladilen', u'Vocational', u'Voiture', u'Volney', u'Volume', u'Voorhees', u'Voters', u'Vroman', u'W', u'W.', u\"W.'s\", u'W.M.', u'Wabash', u'Wacker', u\"Wackers'\", u'Wacklin', u'Waddell', u'Waggin', u'Wagner', u\"Wagner's\", u'Walbridge', u'Waldorf-Astoria', u'Wales', u'Walker', u'Walkers', u'Wall', u'Wallace', u'Wally', u'Walnut', u'Walsh', u'Walter', u'Walters', u'Wangemans', u'Wansley', u'War', u'Ward', u'Wards', u'Warren', u'Warwick', u'Wash.', u'Washington', u'Washington-Alexandria', u'Washington-Oregon', u'Water', u'Waters', u'Watson', u'Waveland', u'Waxworks', u'Way', u'Wayne', u'We', u\"We'd\", u\"We'll\", u\"We're\", u\"We've\", u'Wealth', u'Weatherford', u'Weaver', u'Webster', u'Wednesday', u\"Wednesday's\", u'Week', u'Weeks', u'Wegener', u'Weinberg', u'Weinstein', u\"Weinstein's\", u'Weissmuller', u'Welborn', u'Weldon', u'Welfare', u'Well-wishers', u'Wellesley', u'Wells', u'Wellsley', u'Wellsville', u'Welsh', u'Welton', u'Wendell', u'Wendells', u'Werner', u'Wert', u\"Wert's\", u'Wes', u'Wesley', u'West', u\"West's\", u'Western', u'Western-style', u'Westfield', u'Westinghouse', u'Westminster', u'Westphalia', u'Wexler', u'What', u\"What's\", u'Whatever', u'Whee', u'Wheel', u'Wheeler', u'Whelan', u'When', u'Where', u'Which', u'While', u'Whipple', u'White', u'Whitey', u'Whitfield', u'Whitney', u'Why', u'Wichita', u'Wick', u'Wide', u'Wilbur', u'Wild', u'Wilderness', u'Wiley', u'Wilhelm', u'Wilkinson', u'Willamette', u'Willard', u'Willett', u'William', u'Williams', u'Willie', u\"Willie's\", u'Willy', u'Wilmette', u'Wilmington', u'Wilshire', u'Wilson', u'Winchell', u'Winchester', u'Winds', u'Windsor', u'Wingback', u'Winnetka', u'Winston', u'Winthrop', u'Wise', u'Wish', u'Wissahickon', u'With', u'Within', u'Without', u'Wolcott', u'Wolverton', u\"Woman's\", u'Women', u\"Women's\", u'Woodland', u'Woodrow', u'Woodyard', u'Woonasquatucket', u'Word', u'Work', u'Workers', u'Works', u'Workshop', u'Workshops', u'World', u'Worrell', u'Worth', u'Would', u\"Wouldn't\", u'Wragge', u'Wright', u'Wrigley', u'Write', u'Writer', u'Writers', u\"Writers'\", u'Wyman', u'Wyoming', u'Ximenez-Vargas', u'Y-Teen', u'Y.', u'Yankee', u'Yankees', u\"Yankees'\", u'Yanks', u\"Yanks'\", u'Yards', u'Year', u\"Year's\", u'Yehudi', u'Yes', u'Yet', u'Yogi', u'Yokel', u'York', u\"York's\", u'York-Pennsylvania', u'You', u\"You'll\", u\"You're\", u'Young', u'Younger', u'Youngsters', u'Youth', u'Yuri', u'Zealand', u'Zebek', u'Zeising', u'Zimmerman', u'Zinman', u'Zoe', u'Zone', u'Zoning', u'Zubkovskaya', u'Zurcher', u'Zurich', u'``', u'a', u'a.m.', u'abandoned', u'abandonment', u'abide', u'abilities', u'ability', u'ablaze', u'able', u'aboard', u'abolish', u'abortive', u'about', u'above', u'abroad', u'abrupt', u'absence', u'absent', u'absolute', u'absolutely', u'absorb', u'absorbed', u'abstaining', u'abstention', u'abuse', u'abuses', u'acacia', u'academic', u'academies', u'accelerated', u'accent', u'accented', u'accept', u'acceptable', u'acceptance', u'accepted', u'accepting', u'access', u'accessories', u'accident', u'accidentally', u'acclaim', u'acclaimed', u'acclimatized', u'accommodated', u'accommodations', u'accomodations', u'accompanied', u'accompanying', u'accomplish', u'accomplished', u'accomplishment', u'accord', u'according', u'accordion', u'accosted', u'account', u'accounted', u'accounts', u'accredited', u'accumulation', u'accurate', u'accuse', u'accused', u'ace', u'achieve', u'achieved', u'achievement', u'achievements', u'achieves', u'aching', u'acid', u'acknowledge', u'acknowledged', u'acknowledgment', u'acquaint', u'acquaintance', u'acquire', u'acquired', u'acquisition', u'acquittal', u'acre', u'acreage', u'acres', u'acrobatic', u'across', u'act', u'acted', u'acting', u'action', u'actions', u'active', u'activities', u'activity', u'actors', u'actress', u'acts', u'actual', u'actually', u'acute', u'ad', u'adamant', u'adaptation', u'adapting', u'add', u'added', u'addicts', u'adding', u'addition', u'additional', u'address', u'addressed', u'addresses', u'addressing', u'adds', u'adept', u'adequate', u'adequately', u'adjoining', u'adjourned', u'adjourning', u'adjournment', u'adjust', u'adjusted', u'adjustment', u'adjustments', u'administered', u'administers', u'administration', u\"administration's\", u'administrative', u'administrator', u'administrators', u'adminstration', u'admired', u'admission', u'admit', u'admittance', u'admitted', u'admitting', u'adopt', u'adopted', u'adoption', u'adult', u'adults', u'advance', u'advanced', u'advances', u'advantage', u'advantages', u'adversaries', u'adversary', u'adverse', u'advertises', u'advertising', u'advertising-conscious', u'advice', u'advisability', u'advised', u'advisement', u'adviser', u'advisers', u'advisors', u'advisory', u'advocacy', u'advocate', u'advocating', u'aerial', u'aerials', u'aeronautical', u'affair', u'affairs', u'affect', u'affected', u'affects', u'affiliated', u'affiliations', u'affirmation', u'affixed', u'afford', u'afloat', u'aforementioned', u'afraid', u'aft', u'after', u'aftermath', u'afternoon', u'afternoons', u'again', u'against', u'age', u'aged', u'aged-care', u'agencies', u'agency', u'agenda', u'agent', u'agents', u'ages', u'aggravates', u'aggression', u'aggressive', u'aggressively', u'aggressiveness', u'agitating', u'ago', u'agonizing', u'agree', u'agreed', u'agreeing', u'agreement', u'agreements', u'agricultural', u'agriculture', u'ahead', u'aid', u'aid-to-education', u'aide', u'aided', u'aides', u'aiding', u'aids', u'ailerons', u'ailing', u'aimed', u'aiming', u'aims', u\"ain't\", u'air', u'air-conditioned', u'air-conditioning', u'aircraft', u'airfield', u'airlines', u'airplane', u'airport', u'airstrip', u'aisle', u'al', u'alarmingly', u'alcoholics', u'alert', u'alienated', u'alike', u'alive', u'all', u'all-American', u'all-automatic', u'all-county', u'all-important', u'all-out', u'all-round', u'all-time', u'all-woman', u'allegations', u'alleged', u'allegedly', u'alleging', u'allergic', u'alliance', u\"alliance's\", u'allied', u'allies', u'allocate', u'allocated', u'allocation', u'alloted', u'allotment', u'allotted', u'allotting', u'allow', u'allowance', u'allowances', u'allowed', u'allowing', u'allows', u'ally', u'almost', u'alone', u'along', u'alongside', u'aloud', u'already', u'also', u'alter', u'alterations', u'altered', u'alternate', u'alternative', u'alternatives', u'altho', u'although', u'altitude', u'always', u'am', u'amateur', u'amateurish', u'amazement', u'amazing', u'ambiguous', u'ambition', u'ambitious', u'ambled', u'ambulance', u'amend', u'amended', u'amending', u'amendment', u'amendments', u'amiable', u'amicable', u'amid', u'among', u'amount', u'amounted', u'amounts', u'ample', u'an', u'analysis', u'ancestor', u'ancient', u'and', u'anecdote', u'anemic', u'angry', u'animal', u'animals', u'animated', u'animism', u'ankle', u'ankles', u'anniversary', u'announce', u'announced', u'announcement', u'announcements', u'announcing', u'annual', u'annually', u'anomalies', u'anonymous', u'another', u\"another's\", u'answer', u'answerable', u'answered', u'ant', u'antagonism', u'antagonisms', u'ante', u'anti', u'anti-Colmer', u'anti-Kennedy', u'anti-Negro', u'anti-monopoly', u'anti-organization', u'anti-submarine', u'anti-trust', u'anticipated', u'antidote', u'antiquarians', u'antiques', u'ants', u'any', u'anybody', u'anymore', u'anyone', u'anything', u'anytime', u'anyway', u'anywhere', u'apart', u'apartment', u'apartment-building', u'apartments', u'apologetically', u'apparent', u'apparently', u'appeal', u'appealed', u'appealing', u'appeals', u'appear', u'appearance', u'appearances', u'appeared', u'appearing', u'appears', u'appeasement', u'applaud', u'applause', u'appliances', u'applicant', u'application', u'applications', u'applied', u'appliques', u'apply', u'applying', u'appoint', u'appointed', u'appointee', u'appointing', u'appointment', u'appointments', u'appraisal', u'appraisers', u'appreciate', u'appreciated', u'appreciation', u'apprentice', u'apprentices', u'approach', u'approached', u'approaching', u'appropriate', u'appropriation', u'appropriations', u'approval', u'approve', u'approved', u'approximately', u'apt', u'aptly', u'arc', u'archaeology', u'arched', u'arches', u'architect', u'architecture', u'ardor', u'are', u'area', u'areas', u\"aren't\", u'arenas', u'argue', u'argued', u'argument', u'arguments', u'arise', u'arises', u'arithmetical', u'arm', u'armchairs', u'armed', u\"armory's\", u'arms', u'army', u'arose', u'around', u'arouse', u'aroused', u'arrange', u'arranged', u'arrangement', u'arrangements', u'array', u'arrears', u'arrest', u'arrested', u'arrests', u'arrival', u'arrive', u'arrived', u'arson', u'art', u'article', u'artificial', u'artillery', u'artist', u'artistic', u'artists', u'arts', u'as', u'ashes', u'ashore', u'aside', u'ask', u'asked', u'asking', u'asks', u'aspect', u'aspects', u'assailant', u'assailed', u'assault', u'assaulted', u'assaulting', u'assaults', u'assemblage', u'assemble', u'assembled', u'assemblies', u'assembly', u'assent', u'asserted', u'assertion', u'assessment', u'assessments', u'assessors', u'asset', u'assets', u'assign', u'assigned', u'assignment', u'assignments', u'assist', u'assistance', u'assistant', u'assisted', u'assisting', u'associate', u'associated', u'associates', u'association', u\"association's\", u'assume', u'assumed', u'assumption', u'assure', u'assured', u'assuring', u'astray', u'at', u'at-bats', u'athlete', u\"athlete's\", u\"athletes'\", u'athletic', u'athletics', u'atmosphere', u'atom', u'atomic', u'attached', u'attachment', u'attack', u'attacked', u'attacking', u'attacks', u'attactive', u'attainment', u'attempt', u'attempted', u'attempting', u'attempts', u'attend', u'attendants', u'attended', u'attending', u'attends', u'attention', u'attire', u'attitude', u'attorney', u'attorneys', u'attract', u'attracted', u'attracting', u'attraction', u'attractive', u'attributable', u'attributed', u'audience', u'audio-visual', u'auditorium', u'augment', u'august', u'aunt', u'aunts', u'auspices', u'auspiciously', u'austere', u'author', u'authoritative', u'authorities', u'authority', u'authorize', u'authorized', u'authorizing', u'auto', u'automatic', u'automatically', u'automobile', u'autonomy', u'autumn', u'availability', u'available', u'avant', u'avenue', u'average', u'averages', u'averaging', u'avid', u'avidly', u'avoid', u'avoided', u'avoids', u'awaited', u'awaiting', u'awakening', u'award', u'awarded', u'awarding', u'awards', u'aware', u'awareness', u'away', u'awe', u'awed', u'awoke', u'axiomatic', u'aya', u'ayes', u'babies', u'baby', u'bachelor', u'back', u'backbone', u'backed', u'background', u'backgrounds', u'backs', u'bad', u'badly', u'bag', u'baggage', u'bags', u'bail', u'bake-offs', u'baked', u'baking', u'balance', u'balanced', u'balconies', u'balding', u'balking', u'ball', u'ball-carriers', u'ball-hawking', u'ballet', u'ballets', u'ballgowns', u'ballot', u'ballots', u'ballplayer', u'ballroom', u'balls', u'ban', u'band', u'bandit', u'bandstand', u'baneful', u'bang', u'banjo', u'bank', u'banked', u'banker', u'bankers', u'bankrupt', u'bankruptcy', u'banks', u'banned', u'banquet', u'bans', u'banshees', u'bar', u'barbecue', u'barber', u'barbs', u'bare', u'barely', u'bargain', u'bargaining', u'barge', u'barn', u'barrage', u'barred', u'barrel', u'barriers', u'bars', u'base', u'base-runner', u'base-stealing', u'baseball', u\"baseball's\", u'baseballight', u'baseballs', u'based', u'baseman', u'bases', u'basic', u'basically', u'basis', u'basketball', u'bass', u'bat', u'batch', u'bateau', u'bath', u'baton', u'bats', u'battalion', u'battalions', u'batted', u'batter', u'battered', u'batters', u'battery', u'batting', u'battle', u'battleground', u'battling', u'bay', u'bayonet', u'be', u'beach', u'beads', u'beaming', u'bean', u'bear', u'beardown', u'bearing', u'bearings', u'beat', u'beaten', u'beating', u'beatnik', u'beautiful', u'beautifully', u'beauty', u'became', u'because', u'become', u'becomes', u'becoming', u'bed', u'bed-time', u'bedridden', u'bedroom', u'bedrooms', u'beds', u'bedtime', u'beef', u'been', u'beer', u'before', u'began', u'beggar', u'begging', u'begin', u'beginning', u'begins', u'begun', u'behalf', u'behaving', u'behavior', u'behind', u'being', u'belated', u'belatedly', u'belief', u'beliefs', u'believe', u'believed', u'believes', u'believing', u'bellboys', u'belong', u'belonged', u'belonging', u'belongs', u'below', u'belt', u'belted', u'belting', u'bench', u'benches', u'beneath', u'beneficiaries', u'benefit', u'benefits', u'bent', u'beside', u'bespectacled', u'best', u'bestowal', u'bestowed', u'bet', u'better', u'betting', u'between', u'beyond', u'bicameral', u'bicycle-auto', u'bid', u'bids', u'biennial', u'big', u'big-league', u'bigger', u'biggest', u'bilateral', u'bill', u\"bill's\", u'billed', u'billing', u'billion', u'bills', u'binding', u'biography', u'biologist', u'biology', u'bipartisan', u'bird', u'birdie', u'birdied', u'birdies', u'birds', u'birth', u'birthday', u\"bishops'\", u'bit', u'bite', u'bites', u'bitter', u'biz', u'blabbed', u'black', u'blacked', u'blackmail', u'blackout', u'blades', u'blame', u'blamed', u'blast', u'blasted', u'blasting', u'blazing', u'bleacher-type', u'bleachers', u'bleak', u'blended', u'blind', u'bloc', u'block', u'blocked', u'blond', u'blonde', u'blood', u'bloodstream', u'blow', u'blows', u'bludgeon', u'blue', u'blue-uniformed', u'blueberries', u'bluebonnets', u'blueprints', u'blues', u'blundered', u'blunders', u'blunt', u'bluntly', u'blunts', u'board', u\"board's\", u'boarded', u'boarding', u'boards', u'boast', u'boasted', u'boasting', u'boatload', u'boats', u'bobbles', u'bobby-sox', u'bodice', u'bodies', u'bodily', u'body', u\"body's\", u'bogey', u'bogeyed', u'bogeys', u'boil', u'boiling', u'boils', u'boldly', u'boldness', u'bolted', u'bomb', u'bomber', u'bombers', u'bombing', u'bombs', u'bonanza', u'bond', u'bonding', u'bonds', u'bondsman', u'boobify', u'boogie', u'book', u'book-review', u'book-selection', u'bookcases', u'booked', u'bookkeeping', u'booklists', u'books', u'bookseller', u'boom', u'boomed', u'boos', u'boost', u'boosting', u'boosts', u'border', u'bordering', u'borders', u'bored', u'borer', u'born', u'borne', u'borrowed', u'borrower', u'borrowing', u'boss', u'bossman', u'both', u'bothered', u'bottled', u'bottleneck', u'bottling', u'bottom', u'bought', u'bounced', u'bouncy', u'bound', u'boundaries', u'bounded', u'bounds', u'bounty', u'bowed', u'bowl', u'bows', u'box', u'boxer', u'boxes', u'boxy', u'boy', u\"boy's\", u'boy-manager', u'boycott', u'boys', u'braced', u'brain', u'brainwashing', u'branch', u'branches', u'brand', u'breaching', u'bread', u'break', u'break-even', u'breakdown', u'breakfast', u'breaking', u'breakoff', u'breaks', u'breakups', u'breast', u'breasts', u'breathes', u'breed', u'brethren', u'bric-a-brac', u'brick', u'bridal', u'bride', u\"bride's\", u'bridegroom', u\"bridegroom's\", u'bridesmaids', u'bridge', u'bridges', u'brief', u'briefing', u'briefly', u'briefs', u'bright', u'brilliant', u'bring', u'bringing', u'brings', u'brink', u'brisk', u'briskly', u'broad', u'broadcast', u'broaden', u'broadened', u'brocade', u'broccoli', u'brochures', u'broke', u'broken', u'brokerage', u'brokers', u'bronzy-green-gold', u'brooding', u'brook', u'brother', u'brother-in-law', u'brotherly', u'brothers', u'brought', u'brown', u'bruises', u'brunches', u'brushed', u'brutality', u'bubble', u'bucked', u'buddies', u'buddy', u'budget', u'budgeted', u'budgets', u'buffet', u'buffets', u'build', u'build-up', u'builder', u'builders', u\"builders'\", u'building', u'buildings', u'built', u'builtin', u'bulge', u'bulk', u'bulky', u'bull', u'bull-necked', u\"bulletin'd\", u'bulletins', u'bulwark', u'bum', u'bumper', u'bunched', u'bundle', u'bundles', u'bunker', u'bunkered', u'bunt', u'bunter', u'bunters', u'burden', u'bureau', u'burglarproof', u'burglary', u'buried', u'burl', u'burned', u'burning', u'burns', u'burr', u'burrowed', u'burst', u'bus', u'buses', u'bushes', u'busied', u'business', u'businesses', u'businessman', u'businessmen', u'buss', u'bustling', u'busy', u'busy-work', u'but', u'butter', u'buy', u'buyers', u'buying', u'buys', u'by', u'by-laws', u'bypass', u'cab', u'cabinet', u'cabinetmakers', u'cabinets', u'cable', u'cabled', u'cadet', u'cafeteria', u'cafeterias', u'calamity', u'calculating', u'calendar', u'caliber', u'calico', u'call', u'called', u'calling', u'calls', u'calm', u'calmest', u'calypso', u'came', u'camera', u'cameras', u'camp', u'campaign', u'campaigned', u'campaigning', u'camping-out', u'camps', u'campus', u'can', u\"can't\", u'cancel', u'canceled', u'candid', u'candidacy', u'candidate', u'candidates', u'candidly', u'candle', u'candor', u'candy', u'cane', u'canned', u'cannibalistic', u'cannot', u'canted', u'canvas', u'canvass', u'canvassed', u'canvassers', u'cap', u'capabilities', u'capable', u'capacity', u'capers', u'capita', u'capital', u\"capital's\", u'capitalist', u'capitol', u'caps', u'capsule', u'captain', u'captivated', u'captivating', u'capture', u'captured', u'car', u\"car's\", u'caramel', u'carcass', u'card', u'cardiac', u'care', u'career', u'careers', u'careful', u'carefully', u'carpenters', u\"carpenters'\", u'carpet', u'carpeted', u'carpeting', u'carried', u'carriers', u'carries', u'carry', u'carrying', u'cars', u'cartels', u'carved', u'case', u'cases', u'cash', u'cashed', u'caskets', u'cast', u'casuals', u'catalogue', u'catapulted', u'catastrophe', u'catcher', u'catchers', u'catching', u'category', u'cats', u'caucus', u'caucuses', u'caught', u'cauliflower', u'cause', u'caused', u'causes', u'caution', u'cautioned', u'cautious', u'cease', u'cease-fire', u'ceased', u'celebrants', u'celebrate', u'celebrated', u'celebrates', u'celebrating', u'cell', u'cellar', u'cellist', u'cemetery', u'cent', u'center', u'centered', u'centers', u'central', u'centralization', u'centralized', u'cents', u'centuries', u'century', u'ceramic', u'cerebrated', u'ceremonial', u'ceremonies', u'ceremony', u'certain', u'certainly', u'certificate', u'certifying', u'chafing', u'chain', u'chains', u'chair', u'chairman', u'chairmanships', u'chairmen', u'chairs', u'chalk', u'challenge', u'challenged', u'challenger', u'challenges', u'challenging', u'chamber', u'chambers', u'champion', u'champions', u'championship', u'championships', u'champs', u'chance', u'chances', u'chandeliers', u'change', u'changed', u'changes', u'changing', u'channels', u'chaos', u'chaotic', u'chapel', u'chapter', u\"chapter's\", u'chapters', u'character', u'characteristic', u'characterized', u'characters', u'charge', u'charged', u'charges', u'charging', u'charities', u'charity', u'charm', u'charmed', u'charming', u'chart', u'charter', u'chartered', u'chase', u'chat', u'chatte', u'chatting', u'cheap', u'cheaper', u'check', u'checked', u'checks', u'cheer', u'cheery', u'chef', u'chemical', u'chemicals', u'chemise', u'chemistry', u'cherish', u'cherished', u'chest', u'chestnut', u'chests', u'chic', u'chicanery', u'chicken', u'chief', u'chiefly', u'chiefs', u'chien', u'child', u\"child's\", u'children', u\"children's\", u'chip', u'chipped', u'chocolate', u'choice', u'choices', u'choke', u'choking', u'choose', u'choosing', u'chopper', u'choppy', u'chops', u'chore', u'choreography', u'chores', u'chorus', u'chose', u'chosen', u'chow', u'chrome', u'chum', u'church', u\"church's\", u'church-state', u'churches', u'churchmen', u'cigaret', u'circulating', u'circulation', u'circumstances', u'circus', u'citation', u'cited', u'cities', u'citizen', u'citizenry', u'citizens', u'citizenship', u'city', u\"city's\", u'city-wide', u'civil', u'civilian', u'civilians', u'claim', u'claimed', u'claiming', u'claims', u'clamoring', u'clarification', u'clash', u'clashes', u'class', u'classed', u'classes', u'classic', u'classical', u'classics', u'classified', u'classmates', u'classroom', u'classrooms', u'clay', u'clay-mining', u'clean', u'cleaner', u'cleaners', u'cleaning', u'clear', u'clearance', u'cleared', u'clearing', u'clearly', u'clears', u'clerical', u'clerical-lay', u'clerk', u'clicked', u'client', u'clientele', u'clients', u\"clients'\", u'cliffhanging', u'climate', u'climaxed', u'climbed', u'climbing', u'clinic', u'cloakrooms', u'clobbers', u'clock', u'clocking', u'close', u'closed', u'closed-door', u'closely', u'closeness', u'closer', u'closest', u'closing', u'clothes', u'clothing', u'cloture', u'cloud', u'clouded', u'cloudless', u'clown', u'club', u\"club's\", u'clubhouse', u'clubs', u'clue', u'clustered', u'clusters', u'clutch', u'co-chairmen', u'co-educational', u'co-op', u'co-operation', u'co-operative', u'co-ops', u'co-ordination', u'co-signers', u'coach', u\"coach's\", u'coaches', u'coaching', u'coal', u'coalition', u'coast', u'coasted', u'coat', u'cobalt', u'cockpit', u'cocktail', u'cocky', u'coconut', u'code', u'codes', u'coeds', u'coercion', u'coffee', u'coincidence', u'coins', u'cold', u'cold-war', u'collaborated', u'collaborators', u'collapse', u'collapsed', u'colleagues', u'collect', u'collected', u'collecting', u'collection', u'collections', u'collective', u'collective-bargaining', u'collectors', u'collects', u'college', u'colleges', u'collegiate', u'collided', u'collision', u'collonaded', u'colonel', u'colonial', u'colonialism', u'colonialist', u'colonies', u'colony', u'color', u'colored', u'colorful', u'colors', u'colossus', u'colts', u'column', u'columnist', u'combat', u'combating', u'combination', u'combinations', u'combine', u'combined', u'combines', u'combining', u'combo', u'come', u'comeback', u'comedy', u'comes', u'comfort', u'comfortable', u'comforting', u'comic', u'coming', u'command', u'commandant', u'commander', u'commenced', u'commencing', u'commended', u'comment', u'commentator', u'commented', u'commenting', u'comments', u'commerce', u'commercial', u'commission', u\"commission's\", u'commissioner', u'commissioners', u'commit', u'commitment', u'commitments', u'committee', u\"committee's\", u'committees', u'committeewoman', u'commodities', u'commodity', u'common', u'communication', u'communications', u'communism', u'communist', u'communities', u'community', u'commuted', u'commuting', u'compact', u'compacts', u'companies', u'companion', u'companionship', u'company', u\"company's\", u'comparable', u'comparatively', u'compare', u'compared', u'comparison', u'compartment', u'compassion', u'compassionate', u'compel', u'compelled', u'compensated', u'compensation', u'compensations', u'compete', u'competed', u'competence', u'competing', u'competition', u'competitive', u'competitively', u'competitor', u'competitors', u'compiled', u'complacency', u'complained', u'complaining', u'complaint', u'complementary', u'complete', u'completed', u'completely', u'completes', u'completing', u'completion', u'completions', u'complex', u'complexity', u'complicated', u'complication', u'components', u'composed', u'composition', u'composure', u'comprehensive', u'comprise', u'comprised', u'compromise', u'compulsory', u'computed', u'computers', u'comradeship', u'con', u'concede', u'conceded', u'concentrate', u'concentration', u'concern', u'concerned', u'concerns', u'concert', u'concertmaster', u'concerts', u'concessionaires', u'concessions', u'conciliatory', u'concluded', u'conclusion', u'conclusions', u'concrete', u'condemned', u'condemning', u'condiments', u'condition', u'conditioned', u'conditions', u'conduct', u'conducted', u'conducting', u'conductor', u'conductors', u'conducts', u'conferees', u'conference', u\"conference's\", u'conferences', u'conferred', u'confessed', u'confessing', u'confession', u'confided', u'confidence', u'confident', u'confirm', u'confirmation', u'confirmed', u'confirming', u'conflict', u'conforms', u'confront', u'confrontation', u'confrontations', u'confronted', u'confronting', u'confronts', u'confusion', u'congealed', u'congenial', u'congestion', u'congratulated', u'congressional', u'congressmen', u'connect', u'connected', u'connection', u'connections', u'connotes', u'conpired', u'conquer', u'conscience', u'conscious', u'consecutive', u'consent', u'consequences', u'consequently', u'conservation', u'conservative', u'conservative-liberal', u'conservatives', u'conserve', u'consider', u'considerable', u'considerably', u'considered', u'considering', u'consisted', u'consistently', u'consisting', u'consists', u'consolidation', u'consonance', u'conspicuous', u'conspicuously', u'conspiracies', u'conspiracy', u'conspirators', u'conspired', u'constant', u'constantly', u'constituents', u'constituted', u'constitution', u'constitutional', u'constructing', u'construction', u'constructive', u'construed', u'consul', u'consulate', u'consult', u'consultant', u'consultation', u'consultations', u'consulted', u'consulting', u'consumed', u'consumer', u'consumers', u'contact', u'contacted', u'contain', u'contained', u'containing', u'contaminating', u'contemporary', u'contempt', u'contemptuous', u'contend', u'contended', u'contender', u'contendere', u'contented', u'contention', u'contest', u'contested', u'contests', u'continent', u'continents', u'contingency', u'contingent', u'continuance', u'continuation', u'continue', u'continued', u'continues', u'continuing', u'continuous', u'contract', u'contract-negotiation', u'contracted', u'contracting', u'contractor', u\"contractor's\", u'contractors', u'contracts', u'contractual', u'contrast', u'contrasting', u'contrasts', u'contribs', u'contributed', u'contributing', u'contribution', u'contributions', u'contributors', u'control', u'controlled', u'controllers', u'controlling', u'controls', u'controversial', u'controversy', u'convenience', u'convenient', u'convening', u'convention', u'conventional', u'conversation', u'conversations', u'conversion', u'conversions', u'convert', u'converted', u'convertible', u'converting', u'convey', u'convicted', u'conviction', u'convince', u'convinced', u'cook', u'cooked', u'cookie', u'cookies', u'cooking', u'cool', u'cooled', u'coolest', u'coolheaded', u'cooperate', u'cooperating', u'cooperation', u'cooperative', u'coordinate', u'coordinating', u'coordination', u'coordinator', u'cope', u'copies', u'coping', u'copper', u'copy', u'cordial', u'core', u'corn', u'corner', u'cornering', u'cornerstone', u'corporate', u'corporation', u'corporations', u'corps', u'correct', u'corrected', u'correctly', u'correctness', u'correlated', u'correspondence', u'correspondent', u'correspondents', u'corresponding', u'corrupt', u'corruption', u'cost', u'costlier', u'costly', u'costs', u'costumes', u'cotillion', u'cottage', u'cotton', u'cotton-growing', u'couch', u'could', u\"couldn't\", u'council', u\"council's\", u'councils', u'counsel', u'counseled', u'counseling', u'count', u'counted', u'countian', u'counties', u\"countin'\", u'counting', u'countless', u'countries', u'country', u\"country's\", u'counts', u'county', u\"county's\", u'county-wide', u'coup', u'couple', u'couples', u'courageous', u'course', u'courses', u'court', u\"court's\", u'court-appointed', u'court-length', u'courteous', u'courtly', u'courtroom', u'courts', u'cousin', u'cover', u'coverage', u'covered', u'covering', u'covers', u'coveted', u'cows', u'coyly', u'crabapple', u'crabs', u'crack', u'cracked', u'crackpots', u'craftsman', u'craftsmen', u'crash', u'crashed', u'crashes', u'craven', u'crazy', u'crazy-wonderful', u'cream', u'create', u'created', u'creating', u'creation', u'creations', u'creative', u'creator', u'creature', u'credit', u'creditable', u'credited', u'credits', u'creed', u'crew', u'crews', u'crime', u'criminal', u'criminals', u'crimson', u'crippled', u'crippling', u'crises', u'crisis', u'criteria', u'critic', u'critical', u'criticisms', u'criticized', u'critics', u'crop', u'crops', u'cross', u'cross-examination', u'cross-section', u'crossed', u'crossing', u'crossroads', u'crosswalk', u'crowd', u'crowding', u'crowds', u'crown', u'crowning', u'crowns', u'crucial', u'crucified', u'cruelty', u'crushed', u'crusher', u'crushing', u'cry', u'crypt', u'crystal', u'cubic', u'cufflinks', u'cuisine', u'culminates', u'culminating', u'culmination', u'culpas', u'cultural', u'culture', u'cumulative', u'cup', u'curator', u'curbing', u'curious', u'currency', u'current', u'currently', u'cursing', u'custodian', u'custom-design', u'customers', u'customs', u'cut', u'cut-off', u'cutback', u'cuts', u'cutting', u'cyclical', u\"d'etat\", u\"d'hotel\", u'daily', u'dais', u'damage', u'damaged', u'damages', u'dampened', u'dance', u'dancer', u'dancers', u'dances', u'dancing', u'danger', u'dangerous', u'dangerously', u'dangers', u'danseur', u'dapper', u'dares', u'daring', u'dark', u'dark-haired', u\"darlin'\", u'darling', u'dash', u'data', u'date', u'dated', u'dates', u'dating', u'daughter', u'daughters', u'dawn', u'day', u\"day's\", u'daylight', u'days', u'dazzler', u'de', u'dead', u'deadline', u'deadlock', u'deaf', u'deal', u'dealer', u'dealers', u'dealing', u'dealt', u'dean', u'death', u'debate', u'debates', u'debentures', u'debonair', u'debut', u'debutante', u'debuting', u'debuts', u'decade', u'decadence', u'decades', u'decency', u'decent', u'decertify', u'decide', u'decided', u'decides', u'decision', u'decision-making', u'decisions', u'decisive', u'declaration', u'declare', u'declared', u'declares', u'declaring', u'decline', u'declined', u'declines', u'decolletage', u'decor', u'decorate', u'decorating', u'decoration', u'decorations', u'decorative', u'decorator', u'decorators', u'decrease', u'decree', u'decreeing', u'decried', u'dedicated', u'dedication', u'deducted', u'deductibility', u'deductible', u'deduction', u'deductions', u'deed', u'deemed', u'deep', u'deeper', u'deeply', u'default', u'defaulted', u'defeat', u'defeated', u'defeats', u'defective', u'defend', u'defendant', u'defendants', u'defenders', u'defending', u'defends', u'defense', u'defensive', u'deferred', u'deficiencies', u'deficiency', u'deficit', u'define', u'definite', u'definitely', u'definition', u'definitive', u'defraud', u'defray', u'degree', u'delay', u'delayed', u'delegate', u'delegates', u'delegation', u'delegations', u'deliberate', u'deliberately', u'deliberation', u'deliberations', u'delicate', u'delight', u'delighted', u'delightful', u'delinquency', u'deliver', u'delivered', u'delivering', u'delivery', u'demand', u'demanded', u'demanding', u'demands', u'democracy', u'democratic', u'demolished', u'demonstrate', u'demonstrated', u'demonstration', u'denied', u'denomination', u\"denomination's\", u'denote', u'denounced', u'dense', u'density', u'dent', u'dental', u'denting', u'dentistry', u'denunciation', u'deny', u'denying', u'deodorant', u'departed', u'department', u'departments', u'departure', u'depend', u'depended', u'dependence', u'dependency', u'dependent', u'depending', u'depends', u'depletion', u'deplored', u'deposit', u'deposited', u'depositors', u'depreciation', u'depression', u'dept.', u'deputies', u'deputy', u'derive', u'derived', u'derives', u'dervishes', u'descendants', u'descent', u'described', u'describes', u'describing', u'description', u'desegregated', u'desegregation', u'desertion', u'deserts', u'deserves', u'design', u'design-conscious', u'designated', u'designed', u'designer', u'designers', u'designing', u'designs', u'desirable', u'desire', u'desired', u'desiring', u'desk', u'despair', u'desperate', u'despite', u'dessert', u'destined', u'destroy', u'destroyer', u'destroyers', u'destroying', u'detach', u'detachment', u'detail', u'detailed', u'details', u'detecting', u'detectives', u'detector', u'detente', u'detention', u'deteriorating', u'deterioration', u'determination', u'determine', u'determined', u'determining', u'deterrent', u'detested', u'detonation', u'detract', u'detriment', u'develop', u'developed', u'developing', u'development', u'developments', u'develops', u'device', u'devised', u'devote', u'devoted', u'devotion', u'diagnostic', u'dialects', u'diamond', u'diamond-studded', u'dichotomy', u'dictatorship', u'did', u\"didn't\", u'die', u'died', u'diehard', u'diem', u'dies', u'difference', u'different', u'differently', u'difficult', u'difficulties', u'difficulty', u'dignitaries', u'dignity', u'dilemma', u'dimension', u'dimes', u'diminutive', u'dining', u'dinner', u'dinners', u'diocesan', u'diplomacy', u'diplomat', u'diplomatic', u'diplomats', u'dipped', u'direct', u'directed', u'directing', u'direction', u'directions', u'directive', u'directly', u'director', u'directorate', u'directors', u'dirt', u'disability', u'disable', u'disabuse', u'disagreed', u'disagreement', u'disallowed', u'disappointing', u'disappointment', u'disappointments', u'disapproval', u'disapprove', u'disarmament', u'disaster', u'disbanded', u'disbelief', u'discarded', u'discharge', u'discharged', u'discharging', u'disclosed', u'disclosure', u'disclosures', u'discounts', u'discourage', u'discouraged', u'discover', u'discovered', u'discovering', u'discredit', u'discredited', u'discrepancies', u'discrepancy', u'discriminate', u'discriminating', u'discrimination', u'discriminatory', u'discuss', u'discussed', u'discussing', u'discussion', u'discussions', u'disgusted', u'dish', u'disharmony', u'disheartening', u'dishes', u'disillusioned', u'disinterested', u'dismal', u'dismiss', u'dismissal', u'dismissed', u'disparities', u'dispatched', u'dispatching', u'display', u'displayed', u'displaying', u'displays', u'disposal', u'disposed', u'disposition', u'disproportionate', u'dispute', u'disputes', u'disrepute', u'dissatisfaction', u'dissension', u'dissent', u'dissents', u'distance', u'distant', u'distasteful', u'distinction', u'distinctly', u'distinguished', u'distracted', u'distressing', u'distribute', u'distributed', u'distribution', u'distributions', u'district', u'districts', u'disturbance', u'disturbing', u'disunity', u'dive', u'diversified', u'divide', u'divided', u'dividend', u'dividends', u'dividing', u'diving', u'division', u'divorce', u'divorced', u'divulging', u'do', u'docile', u'doctor', u'doctors', u'documentary', u'documents', u'does', u\"doesn't\", u'dog', u'dogleg', u'dogs', u'doing', u'doings', u'doldrums', u'dole', u'dollar', u'dollars', u'domain', u'domestic', u'dominate', u'dominated', u'domination', u\"don't\", u'donated', u'donations', u'done', u'donor', u'door', u'door-fronted', u'door-to-door', u'doorman', u'doormen', u'doors', u'doorstep', u'dormitories', u'dot', u'dots', u'double', u'double-bogeyed', u'double-crosser', u'double-header', u'doubled', u'doubleheader', u'doubles', u'doubling', u'doubly', u'doubt', u'doubted', u'doubtful', u'doubtless', u'dough', u'dour', u'down', u'down-payments', u'down-to-earth', u'downed', u'downhill', u'downstairs', u'downstream', u'downtown', u'downtrodden', u'dozen', u'dozens', u'drab', u'draft', u'drafted', u'drafts', u'dragged', u'dragging', u'dragnet', u'drain', u'drama', u'dramatic', u'drank', u'drastic', u'draught', u'draw', u'drawing', u'drawings', u'drawn', u'dread', u'dreadful', u'dreamed', u'dreams', u'dress', u'dressers', u'drew', u'driers', u'drifting', u'drifts', u'drill', u'drive', u'drive-in', u'driven', u'driver', u'drivers', u\"drivers'\", u'drives', u'driveway', u'driving', u'drizzly', u'drop', u'dropped', u'dropping', u'drops', u'drought-seared', u'drove', u'drum', u'drums', u'drunk', u'drying', u'dud', u'due', u'duel', u'duels', u'duffer', u'duffers', u'dug', u'dull', u'dullest', u'dumb', u'dumping', u'duplicated', u'duplication', u'durable', u'duress', u'during', u'dust', u'duties', u'dutifully', u'duty', u'dwellings', u'dwindled', u'dying', u'dynamic', u'dynamite', u'dynamo', u'e.g.', u'each', u'eager', u'earlier', u'earliest', u'early', u'early-season', u'earn', u'earned', u'earned-run', u'earnest', u'earning', u'earnings', u'earns', u'earrings', u'ears', u'earth', u\"earth's\", u'ease', u'eased', u'easier', u'easily', u'east', u'easy', u'easy-to-reach', u'eat', u'eating', u'ebony', u'eccentricity', u'echoes', u'economic', u'economically', u'economics', u'economist', u'economists', u'economize', u'economy', u'edge', u'edged', u'edges', u'edging', u'editing', u'edition', u'editor', u'educated', u'education', u'educational', u'educators', u'effect', u'effected', u'effective', u'effectively', u'effectiveness', u'effects', u'efficiency', u'efficient', u'efficiently', u'effort', u'efforts', u'eggs', u'eggshell', u'eight', u'eight-year', u'eighteen', u'eighteenth-', u'eighth', u'either', u'eject', u'elaborate', u'elder', u'elderly', u'elect', u'elected', u'election', u'elections', u'electors', u'electric', u'electrical', u'electricity', u'electronic', u'elegant', u'element', u'elementary', u'elements', u'elephants', u'elevated', u'eleven', u'eleventh', u'eligible', u'eliminate', u'eliminates', u'eliminating', u'elite', u'else', u\"else's\", u'elsewhere', u'eluded', u'emasculated', u'embankment', u'embargo', u'embarrassing', u'embassies', u'embassy', u'embedded', u'embezzlement', u'embezzling', u'embossed', u'embroidered', u'emerge', u'emergency', u'emerges', u'eminent', u'emissaries', u'emissary', u'emotion', u'emotionally', u'emphasis', u'emphasize', u'emphasized', u'emphasizes', u'emphasizing', u'empires', u'employ', u'employed', u'employee', u'employees', u'employer', u'employers', u\"employers'\", u'employes', u'employment', u'employments', u'employs', u'en', u'enabled', u'enables', u'enabling', u'enact', u'enacted', u'enacting', u'enactment', u'enchantment', u'encounter', u'encounters', u'encourage', u'encouraged', u'encouragement', u'encouraging', u'end', u'endangering', u'endeared', u'ended', u'ending', u'endorse', u'endorsed', u'endowment', u'endowments', u'ends', u'endurance', u'endure', u'enemies', u'enemy', u'energy', u'enforce', u'enforced', u'enforcement', u'enforcers', u'enforcing', u'engage', u'engaged', u'engagement', u'engagements', u'engaging', u'engine', u'engineer', u'engineering', u'engineers', u\"engineers'\", u'engines', u'engrossed', u'engulfed', u'enigma', u'enjoy', u'enjoyed', u'enjoys', u'enlarge', u'enlarged', u'enlarging', u'enlisted', u'enlivened', u'enmity', u'enormous', u'enough', u'enriching', u'enrollment', u'enrollments', u'ensconced', u'ensembles', u'ensued', u'entail', u'entails', u'enter', u'entered', u'entering', u'enterprise', u'enterprises', u'enterprisingly', u'entertain', u'entertained', u'entertainers', u'entertaining', u'entertainment', u'enthralled', u'enthralling', u'enthusiasm', u'enthusiastic', u'entire', u'entirely', u'entirety', u'entities', u'entitled', u'entomologist', u'entourage', u'entrance', u'entrant', u'entries', u'entry', u'enunciate', u'envisaged', u'envision', u'envisioned', u'epicure', u'episode', u'episodes', u'equal', u'equality', u'equalizers', u'equally', u'equation', u'equatorial', u'equipment', u'equipped', u'equitable', u'equivalent', u'era', u'eradication', u'erase', u'erasing', u'erected', u'erratic', u'erred', u'erroneous', u'erroneously', u'error', u'errors', u'errs', u'ersatz', u'erupted', u'erupts', u'escape', u'escaped', u'escaping', u'escheat', u'escort', u'especially', u'esplanade', u'esprit', u'essence', u'essential', u'essentially', u'establish', u'established', u'establishing', u'establishment', u'estate', u'estimate', u'estimated', u'estimates', u'et', u'etc.', u'ethical', u'ethics', u'ethnic', u'eulogized', u'eulogizers', u'eva', u'evacuate', u'evacuation', u'evaluate', u'evaluating', u'evasive', u'eve', u'even', u'evening', u'evenings', u'event', u'events', u'eventual', u'eventually', u'ever', u'ever-changing', u'ever-present', u'every', u'everybody', u'everyday', u'everyone', u'everything', u'evidence', u'evidently', u'evil', u'evoked', u'evolutionary', u'ex-Mrs.', u'ex-National', u'ex-Yankee', u'ex-convict', u'ex-gambler', u'ex-marine', u'ex-schoolteacher', u'ex-singer', u'exacerbated', u'exact', u'exactly', u'exaggerate', u'exaggerated', u'exaggeration', u'exaltation', u'examine', u'examined', u'examiner', u'example', u'exasperated', u'excavation', u'exceed', u'excellence', u'excellent', u'except', u'exception', u'exceptionally', u'exceptions', u'excess', u'excessive', u'exchange', u'exchanged', u'exchanges', u'excise', u'excite', u'excitement', u'exciting', u'excluding', u'exclusive', u'exclusively', u'excused', u'excuses', u'exec', u'execute', u'executed', u'executions', u'executive', u'executives', u'exempt', u'exemption', u'exercise', u'exert', u'exhaust', u'exhibit', u'exhibited', u'exhibition', u'exhibitors', u'exile', u'exist', u'existed', u'existence', u'existing', u'exotic', u'expand', u'expanded', u'expanding', u'expansion', u'expansive', u'expect', u'expectation', u'expectations', u'expected', u'expects', u'expedient', u'expended', u'expenditures', u'expense', u'expenses', u'expensive', u'experience', u'experienced', u'experiencing', u'experiment', u'experimental', u'experiments', u'expert', u'experts', u'expire', u'expired', u'expires', u'explain', u'explained', u'explaining', u'explains', u'explanation', u'explicit', u'exploit', u'exploited', u'exploratory', u'explorers', u'exploring', u'explosion', u'explosive', u'export', u'exported', u'exporting', u'exports', u'exposed', u'express', u'expressed', u'expressing', u'extend', u'extended', u'extending', u'extends', u'extension', u'extensions', u'extensive', u'extent', u'extern', u'extra', u'extraction', u'extractors', u'extraordinarily', u'extraordinary', u'extreme', u'extremely', u'eye', u'eyebrow', u'eyes', u'fabled', u'fabrics', u'face', u'face-saving', u'faced', u'faces', u'facets', u'facilities', u'facing', u'fact', u'facto', u'factor', u'factories', u'factors', u'factory', u'facts', u'faculty', u'fail', u'failed', u'failing', u'fails', u'failure', u'faint', u'fair', u'fair-weather', u'fairgoers', u'fairies', u'fairly', u'fairway', u'fairways', u'faith', u'faked', u'fall', u\"fall's\", u'fall-off', u'fallacious', u'fallen', u'fallout', u'falls', u'false', u'fame', u'famed', u'familiar', u'familiarity', u'families', u'family', u'family-community', u'famous', u'fan', u'fancy', u'fanned', u'fans', u'fantastic', u'far', u'far-flung', u'far-out', u'far-reaching', u'fare', u'farewell', u'farm', u'farmer', u'farmers', u\"farmers'\", u'farms', u'fashion', u'fashions', u'fast', u'fast-grossing', u'fast-spreading', u'fastened', u'faster', u'fastest', u'fat', u'fatal', u'fate', u'father', u\"father's\", u'fathers', u'faults', u'favor', u'favorable', u'favored', u'favoring', u'favorite', u'favors', u'fear', u'feared', u'fearing', u'feasible', u'feat', u'feathers', u'feats', u'feature', u'featured', u'features', u'featuring', u'federal', u'federalism', u'federalize', u'fee', u'feeble', u'feed', u'feeds', u'feel', u'feeling', u'feelings', u'feels', u'fees', u'feet', u'fell', u'fellow', u'fellows', u'felt', u'female', u'females', u'feminine', u'femininity', u'fence', u'fender', u'fertilizer', u'festival', u'festive', u'festivities', u'fete', u'feted', u'few', u'fewer', u'fiance', u'fiasco', u'fiction', u'fictitious', u'field', u'fielded', u'fielders', u'fielding', u'fields', u'fierce', u'fiercest', u'fiery', u'fifteen', u'fifteenth', u'fifth', u'fifty', u'fight', u'fighters', u'fighting', u'figure', u'figured', u'figures', u'figuring', u'filbert', u'file', u'filed', u'filial', u'filibuster', u'filibusters', u'filing', u'fill', u'filled', u'filling', u'filly', u'film', u'films', u'filmy', u'final', u'finale', u'finalist', u'finally', u'finals', u'finance', u'financed', u'finances', u'financial', u'financing', u'find', u'finding', u'finds', u'fine', u'fined', u'fines', u'finest', u'finger', u'finger-paint', u'finish', u'finished', u'finishing', u'finned', u'fins', u'fire', u'fire-fighting', u'fired', u'firehouses', u'firemen', u'fireplace', u'fires', u'firing', u'firm', u\"firm's\", u'firmer', u'firmly', u'firms', u'first', u'first-class', u'first-floor', u'first-place', u'first-run', u'fiscal', u'fishing', u'fit', u'fits', u'fitted', u'fittest', u'five', u'five-cent', u'five-day', u'five-home', u'five-month', u'five-year', u'fixed', u'fixing', u'fixture', u'fizzled', u'flag-stick', u'flames', u'flaming', u'flanked', u'flared', u'flash', u'flashy', u'flat', u'flatly', u'flattened', u'flattering', u'flavor', u'flavored', u'fled', u'fleeing', u'fleet', u'flew', u'flex', u'flexible', u'flicker', u'flickered', u'flies', u'flight', u'flights', u'floated', u'flood', u'flooded', u'floor', u'floors', u'flour', u'flourish', u'flourishes', u'flow', u'flowed', u'flower', u'flowers', u'flowing', u'flows', u'flu', u'flubbed', u'fluid', u'flung', u'fly', u'flying', u'focus', u'focused', u'foes', u'foliage', u'folk', u'folks', u'follow', u'followed', u'followers', u'following', u'follows', u'fondness', u'food', u'foods', u'fool', u'foolish', u'foot', u'football', u\"football's\", u'footing', u'footnotes', u'for', u'forbid', u'forbidden', u'forbids', u'force', u'forced', u'forces', u'forcing', u'fore', u'forecast', u'forecasts', u'foreign', u'foreign-aid', u'foreign-policy', u'foreman', u'foresee', u'foreseeable', u'forest', u'forestry', u'forever', u'forget', u'forgetting', u'forgive', u'form', u'forma', u'formal', u'formally', u'format', u'formation', u'formative', u'formed', u'former', u'formerly', u'forming', u'forms', u'formula', u'formulating', u'forswears', u'forth', u'forthcoming', u'fortune', u'forty-year', u'forum', u'forward', u'foster', u'fought', u'fouled', u'fouling', u'found', u'foundation', u'founded', u'founder', u'founding', u'fountain', u'four', u'four-hour', u'four-jet', u'four-letter', u'four-wood', u'four-year', u'fourteen', u'fourteen-nation', u'fourteen-team', u'fourth', u'fourth-down', u'fraction', u'fractured', u'fractures', u'fragmentation', u'frame', u'framed', u'frames', u'franchise', u'frank', u'franker', u'frankness', u'frantic', u'fraternity', u'frau', u'fraud', u'free', u'free-for-all', u'freed', u'freedom', u'freer', u'freeze', u'freezes', u'freight', u'frequent', u'frequently', u'fresh', u'freshman', u'friction', u'frictions', u'friend', u'friendliness', u'friendly', u'friends', u'frightening', u'frigid', u'fringe', u'fringed', u'frock', u'from', u'front', u'fronts', u'frosting', u'frothier', u'fruitful', u'frustrated', u'frustrating', u'frustrations', u'fuel', u'fueled', u'fuels', u'fulfill', u'fulfilled', u'fulfillment', u'full', u'full-dress', u'full-fledged', u'full-scale', u'full-time', u'fullback', u'fullbacking', u'fuller', u'fully', u'fumble', u'fumes', u'fun', u'fun-loving', u'function', u'functional', u'functionary', u'functions', u'fund', u\"fund's\", u'fund-raiser', u'fund-raisers', u'fund-raising', u'fundamental', u'fundamentalism', u'fundamentally', u'fundamentals', u'funds', u'funeral', u'fur', u'furlongs', u'furlough', u'furloughed', u'furnish', u'furnished', u'furnishings', u'furniture', u'furs', u'further', u'fuselage', u'future', u'g-p', u'gain', u'gained', u'gaining', u'gains', u'gait', u'gala', u'gale', u'gallery', u'gallons', u'gals', u'gamble', u'gambling', u'game', u\"game's\", u'games', u'gang', u'gangland', u'gangling', u'gangsters', u'gaping', u'garbage', u'garde', u'garden', u'gardenias', u'garrulous', u'gas', u'gas-fired', u'gasoline', u'gates', u'gather', u'gathered', u'gathering', u'gaudy', u'gauntlet', u'gave', u'gay', u'gayety', u'gazing', u'gear', u'geeing', u'general', u\"general's\", u'generally', u'generated', u'generation', u'generosity', u'generous', u'generously', u'genes', u'genial', u'gentlemanly', u'gentlemen', u'genuine', u'geographical', u'geographically', u'geography', u'geometrically', u'geriatric', u'gesture', u'get', u'get-together', u'getaway', u'gets', u'getting', u'ghastly', u'giant', u'giants', u'gift', u'gifted', u'gifts', u'gigantic', u'gin', u'ginning', u'gins', u'girl', u\"girl's\", u'girls', u'give', u'giveaway', u'given', u'gives', u'giving', u'glad', u'glamor', u'glamorous', u'glanced', u'glaze', u'gleam', u'glib', u'gliders', u'glimpsed', u'global', u'globe', u'globe-girdling', u'globetrotter', u'gloomily', u'glories', u'glove', u'glow', u'glowing', u'glutted', u'go', u'go-go-go', u'goaded', u'goal', u'goals', u'god-like', u'godliness', u'goes', u'going', u'gold', u'golden', u'golf', u\"golf's\", u'golfer', u'golfers', u'golfing', u'gone', u'good', u'good-will', u'goodness', u'goods', u'got', u'gotten', u'goutte', u'govern', u'governed', u'governing', u'government', u\"government's\", u'governmental', u'governments', u'governor', u\"governor's\", u'governs', u'gown', u'grab', u'grabbed', u'grabbing', u'grace', u'graciously', u'grade', u'grader', u'grads', u'gradually', u'graduate', u'graduated', u'graduates', u'graduation', u'grain', u'grammar', u'grand', u'grand-slam', u'grandchildren', u'grandfather', u'grandiose', u'grandma', u\"grandmother's\", u'grant', u'grant-in-aid', u'granted', u'grants', u'granular-type', u'grapefruit', u'grapes', u'grasp', u'grass', u'grass-green', u'grassroots', u'grateful', u'gratification', u'grave', u'gravy', u'gray', u'gray-haired', u'great', u'greater', u'greatest', u'greatly', u'green', u'greenish', u'greens', u'greet', u'greeted', u'greeting', u'grew', u'grievances', u'grillwork', u'grimace', u'grimly', u'grin', u'grip', u'gripped', u'grips', u'grisly', u'grist', u'groceries', u'grocery', u'grooming', u'groomsmen', u'groove', u'gross', u'ground', u'grounder', u'grounds', u'group', u'groupings', u'groups', u'grow', u'growing', u'grown', u'grows', u'growth', u'grumble', u'gruonded', u'guarantee', u'guaranteed', u'guard', u'guardians', u'guarding', u'guards', u'gubernatorial', u'guerrilla', u'guessing', u'guest', u'guests', u'guidance', u'guide', u\"guide's\", u'guided', u'guiding', u'guilt', u'guiltless', u'guilty', u'guise', u'guitar', u'gulf', u'gully', u'gulped', u'gum', u'gumption', u'gun', u'gunmen', u'guns', u'guttural', u'guy', u'guys', u'ha', u'hackers', u'had', u\"hadn't\", u'haggling', u'hailed', u'hair', u'half', u'half-brothers', u'half-mile', u'halfback', u'halfbacks', u'halftime', u'halfway', u'hall', u'halt', u'halted', u'halting', u'haltingly', u'ham', u'hamburger', u'hamlet', u'hammered', u'hampered', u'hand', u'hand-crafted', u'hand-screened', u'hand-woven', u'handed', u'handful', u'handicapped', u'handing', u'handle', u'handled', u'handles', u'handling', u'hands', u'handsome', u'handwriting', u'handy', u'hang', u'happen', u'happened', u'happening', u'happens', u'happier', u'happily', u'happy', u'hard', u'hard-fought', u'hard-hit', u'hard-to-get', u'harder', u'hardly', u'hardship', u'hardware', u'harm', u'harmless', u'harmonies', u'harmony', u'harrowing', u'harsh', u'harvesting', u'has', u\"hasn't\", u'hastened', u'hastily', u'hasty', u'hat', u'hate', u'hats', u'haute', u'have', u'having', u'hawing', u'hazards', u'haze', u'he', u\"he'll\", u\"he's\", u'head', u'head-and-shoulders', u'head-on', u'headache', u'headboard', u'headdress', u'headed', u'heading', u'headlights', u'headline', u'headlines', u'headmaster', u'headquarters', u'heads', u'heady', u'healed', u'health', u'hear', u'heard', u'hearing', u'hearings', u'hearsay', u'heart', u'heartbreaking', u'heartening', u'hearts', u'hearty', u'heat', u'heaters', u'heather', u'heavier', u'heavily', u'heavy', u'heavy-electrical-goods', u'heed', u'heel', u'heels', u'height', u'heightened', u'heights', u'heirs', u'held', u'helm', u'help', u'helped', u'helping', u'helpless', u'helps', u'hemisphere', u\"hemisphere's\", u'hence', u'heptachlor', u'her', u'heralded', u'here', u'heredity', u'heritage', u'hero', u'heroes', u'heroics', u'heroin', u'herself', u'hesitated', u'heyday', u'hidden', u'hides', u'high', u'high-ceilinged', u'high-density', u'high-legged', u'high-school', u'high-sounding', u'high-wage', u'higher', u'highest', u'highest-paid', u'highly', u'highs', u'highway', u'highways', u'hijacked', u'hijackers', u'hike', u'hill', u'hilt', u'him', u'himself', u'hinted', u'hip', u'hire', u'hired', u'hiring', u'his', u'historian', u'historic', u'historical', u'history', u'hit', u'hit-run', u'hitch', u'hitched', u'hitless', u'hits', u'hitter', u'hitters', u'hitting', u'hoc', u'hog', u'hold', u'hold-back', u'holders', u'holdings', u'holds', u'holdup', u'hole', u'holed', u'holes', u'holiday', u'holidays', u'home', u'home-and-home', u'home-owners', u'home-run', u'homemakers', u'homeowners', u'homer', u'homers', u'homerun', u'homes', u'honest', u'honestly', u'honeymoon', u'honor', u'honorary', u'honored', u'honoree', u'honoring', u'honors', u'hood', u'hoodlum', u'hoodlums', u'hooked', u'hope', u'hoped', u'hoped-for', u'hopeful', u'hopelessly', u'hopes', u'hoping', u'hopper', u'horde', u'horizon', u'horse', u'horsemanship', u'horses', u'hospitable', u'hospital', u'hospital-care', u'hospitality', u'hospitals', u'hostages', u'hostess', u'hostesses', u'hosts', u'hot', u'hotdogs', u'hotel', u'hotels', u'hottest', u'hour', u'hours', u'house', u'house-cleaning', u'housed', u'household', u'household-type', u'houses', u'housewife', u'housing', u'how', u'however', u'hubby', u'huddle', u'huddling', u'huge', u'hull', u'human', u'humans', u'humiliating', u'humor', u'hundred', u'hundreds', u'hung', u'hungry', u'hunt', u'hunter', u'hunter-killer', u'hunting', u'hurdle', u'hurler', u'hurlers', u'hurry', u'hurting', u'hurtling', u'husband', u'husbands', u'husky', u'huzzahs', u'hypocrisies', u'i.e.', u'icy', u'idea', u'ideal', u'idealism', u'ideas', u'identical', u'identically', u'identification', u'identified', u'identity', u'ideological', u'ideology', u'idle', u'idleness', u'idol', u'idolize', u'idols', u'if', u'ignited', u'ignition', u'ignored', u'ignoring', u'ill', u'illegal', u'illegitimacy', u'illness', u'illusion', u'illusory', u'illustrate', u'illustrated', u'illustration', u'image', u'imagination', u'imagine', u'imagines', u'imbroglio', u'immediate', u'immediately', u'immigrant', u'imminent', u'immorality', u'immunization', u'impact', u'impair', u'impeccable', u'impersonal', u'impetus', u'impinging', u'implement', u'implementation', u'implements', u'implication', u'implicit', u'imply', u'impolitic', u'import', u'important', u'imports', u'imposed', u'imposes', u'imposing', u'imposition', u'impossible', u'impossibly', u'impotency', u'impoverished', u'impressed', u'impression', u'impressionist', u'impressions', u'impressive', u'imprisonment', u'improper', u'improperly', u'improve', u'improved', u'improvement', u'improvements', u'improving', u'imprudently', u'impunity', u'in', u'in-group', u'inability', u'inadequacy', u'inadequate', u'inappropriate', u'inapt', u'inaugural', u'inauguration', u'inboard', u'incentive', u'inches', u'incident', u'incidents', u'incinerator', u'inclination', u'inclined', u'include', u'included', u'includes', u'including', u'inclusive', u'income', u'incomparable', u'incomparably', u'incompetents', u'incomplete', u'inconclusive', u'inconsistencies', u'incorporated', u'incorrigible', u'increase', u'increased', u'increases', u'increasing', u'increasingly', u'incredible', u'incredibly', u'incumbent', u'incurred', u'indecisive', u'indeed', u'indefinite', u'independence', u'independent', u'independents', u'index', u'indicate', u'indicated', u'indicates', u'indicating', u'indication', u'indicted', u'indictment', u'indictments', u'indifference', u'indignation', u'indirect', u'indispensable', u'individual', u'individuals', u'indoor', u'indorsed', u'induce', u'inducted', u'industrial', u'industrialist', u'industrialized', u'industries', u'industry', u'ineffectual', u'inefficient', u'ineligible', u'ineptness', u'inevitable', u'inevitably', u'infallible', u'infant', u'infantile', u'inferior', u'infest', u'infested', u'infield', u'infiltrating', u'inflamed', u'inflate', u'inflation', u'inflexible', u'inflicted', u'inflow', u'influence', u'influences', u'influx', u'inform', u'informal', u'informally', u'information', u'informed', u'infrequent', u'inhabitants', u'inherent', u'inherited', u'inhomogeneous', u'initial', u'initially', u'initiating', u'initiative', u'inject', u'injection', u'injunctions', u'injured', u'injuries', u'injuring', u'injury', u'inlaid', u'innate', u'inner', u'inning', u'innings', u'innocence', u'innocent', u'innumerable', u'inquired', u'inquiries', u'inroads', u'inscription', u'insects', u'insets', u'inside', u'insist', u'insisted', u'insistence', u'insists', u'inspection', u'inspired', u'inspiring', u'installed', u'instance', u'instances', u'instantly', u'instead', u'instincts', u'institute', u'instituted', u'institution', u'institutions', u'instructed', u'instruction', u'instructor', u'instrument', u'instrumentals', u'instruments', u'insult', u'insurance', u'insure', u'insurgent', u'intact', u'intangible', u'intangibles', u'integrate', u'integrated', u'integration', u'intellectual', u'intellectually', u'intelligent', u'intend', u'intended', u'intends', u'intense', u'intensified', u'intensifying', u'intensity', u'intention', u'intentions', u'intercepted', u'interest', u'interested', u'interesting', u'interests', u'interfere', u'interfered', u'interference', u'interfering', u'interim', u'interior', u'interlibrary', u'interlude', u'interment', u'intern', u'internal', u'international', u'internationalist', u'interpret', u'interpretation', u'interrupt', u'intersection', u'interstate', u'intervals', u'intervene', u'intervened', u'intervening', u'intervention', u'interview', u'interviewed', u'interviews', u'intimated', u'intimidation', u'into', u'intra-mural', u'intrigue', u'introduced', u'introduction', u'intruders', u'inure', u'invaded', u'invasion', u'inventories', u'inverted', u'investigate', u'investigated', u'investigating', u'investigation', u'investigations', u'investigators', u'investment', u'investments', u'investor', u'investors', u'invests', u'inviolate', u'invitation', u'invitations', u'invited', u'invites', u'inviting', u'invoices', u'invoked', u'invoking', u'involve', u'involved', u'involving', u'irate', u'iron', u'irrational', u'irrationality', u'irreconcilable', u'irregularities', u'irrespective', u'irritable', u'is', u'island', u\"isn't\", u'isolated', u'issuance', u'issue', u'issued', u'issues', u'it', u\"it's\", u'item', u'items', u'its', u'itself', u'ivory', u'jacket', u'jail', u'jails', u'jangling', u'janitor', u'janitors', u\"janitors'\", u'jarred', u'jazz', u'jealousies', u'jeopardizing', u'jeopardy', u'jersey', u'jesting', u'jet', u'jetliners', u'jewelry', u'jewels', u'jitters', u'job', u'job-seekers', u'joblessness', u'jobs', u'jockeying', u'join', u'joined', u'joining', u'joint', u'jointly', u'joints', u'jolt', u'jotted', u'journalism', u'journalist', u'journey', u'judge', u'judged', u'judges', u'judgeship', u'judging', u'judgment', u'juice', u'jump', u'jumped', u'jumpy', u'junction', u'junior', u\"junior's\", u'junior-senior', u'juniors', u'junta', u'juries', u'jurisdictional', u'jurist', u'juror', u'jurors', u'jury', u'jury-tampering', u'just', u'justice', u'justices', u'justified', u'justify', u'juvenile', u'keep', u'keeping', u'keeps', u'kept', u'kerosene', u'key', u'keyboarding', u'keyhole', u'keynote', u'kick', u'kickbacks', u'kicked', u'kicking', u'kickoff', u'kicks', u'kid', u'kidding', u'kidnaped', u'kidnapping', u'kids', u'kill', u'killed', u'killer', u'killing', u'kind', u'kinda', u'kindergarten', u'kinds', u'king', u'kingdom', u'kitchen', u'knee', u'knees', u'knew', u'knit', u'knock', u'knock-down', u'knocked', u'knocks', u'know', u'know-how', u'knowing', u'knowledge', u'known', u'knows', u'knuckleball', u'la', u'label', u'labeled', u'labor', u'labor-management', u'laboratory', u'laborers', u'lace', u'lacerations', u'lack', u'lacked', u'lacking', u'lad', u'ladder', u'ladies', u\"ladies'\", u'lady', u'lag', u'lagged', u'lags', u'laid', u'lamb', u'lamp', u'lampoon', u'lamps', u'land', u'landed', u'landing', u'landscape', u'landscaped', u'language', u'languages', u'lap', u'larceny', u'large', u'largely', u'larger', u'largest', u'last', u'last-minute', u'last-round', u'lasted', u'lasting', u'latch', u'late', u'lately', u'later', u'latest', u'latter', u\"latter's\", u'launched', u'laurels', u'lavish', u'lavishly', u'law', u'lawmakers', u'lawn', u'laws', u'lawyer', u'lawyers', u'lay', u'lay-offs', u'layer', u'laying', u\"layman's\", u'laymen', u'layout', u'lazy', u'le', u'lead', u'leader', u\"leader's\", u'leaders', u'leadership', u'leading', u'leads', u'league', u\"league's\", u'leaguer', u'leagues', u'leaked', u'lean', u'leaned', u'learn', u'learned', u'learning', u'lease', u'least', u'leather', u'leathery', u'leave', u'leaving', u'lecture', u'lecturer', u'led', u'left', u'left-centerfield', u'left-handed', u'leftfield', u'lefthander', u'lefthanders', u'leg', u'legal', u'legend', u'legislation', u'legislation-delaying', u'legislative', u'legislator', u'legislators', u'legislature', u'legitimate', u'legs', u'leisurely', u'lemonade', u'lend', u'lending', u'length', u'lengthening', u'lengthy', u'lenient', u'less', u'less-developed', u'lesson', u'lessons', u'lest', u'let', u\"let's\", u'letter', u'lettered', u'letterman', u'lettermen', u'letters', u'letting', u'level', u'levels', u'lever', u'levy', u'liable', u'liaison', u'liberal', u'liberal-conservative', u'liberals', u'liberty', u'librarian', u\"librarian's\", u'librarian-board', u'librarians', u'libraries', u'library', u'license', u'licenses', u'licensing', u'licked', u'lid', u'lie', u'lied', u'liens', u'lies', u'lieutenant', u'lieutenants', u'life', u'lifeblood', u'lifetime', u'lift', u'lifted', u'ligament', u'light', u'lighter', u'lighters', u'lightly', u'lightness', u'lights', u'lightweight', u'like', u'liked', u'likelihood', u'likely', u'likes', u'limit', u'limitations', u'limited', u'limiting', u'line', u'linebackers', u'lineman', u'linen', u'liner', u'lines', u'lineup', u'lining', u'link', u'linking', u'lip', u'liquidation', u'liquidations', u'liquor', u'list', u'listed', u'listen', u'listened', u'listening', u'listing', u'listings', u'lists', u'literally', u'literary', u'literature', u'little', u'livability', u'live', u'lived', u'livelihood', u'liveliness', u'lively', u'lives', u'livestock', u'living', u'load', u'loaded', u'loading', u'loan', u'loans', u'loath', u'lobby', u'local', u'locale', u'locally', u'locate', u'located', u'locked', u'locker', u'locomotive', u'lodge', u'lodged', u'log-jam', u'logging', u'logic', u'logical', u'logistical', u'long', u'long-bodied', u'long-life', u'long-range', u'long-term', u'long-time', u'longer', u'longstanding', u'look', u'looked', u'looking', u'looks', u'loomed', u'loop', u'loophole', u'loose', u'loosely', u'looting', u'lose', u'loser', u'loses', u'losing', u'loss', u'losses', u'lost', u'lot', u'lots', u'loud', u'loudly', u'love', u'lovely', u'lover', u'lovers', u'loves', u'loving', u'low', u'low-down', u'low-key', u'low-wage', u'lower', u'lower-priced', u'lowered', u'lowest', u'lowliest', u'lows', u'loyal', u'loyalist', u'loyalists', u'loyalty', u'luck', u'lucky', u'lucrative', u'luggage', u'lukewarm', u'lull', u'lumber', u'lumped', u'lunch', u'luncheon', u'luncheon-table', u'luncheons', u'lure', u'lurked', u'lustrous', u'luxury', u'lying', u'm.p.h.', u'machine', u'machinery', u'machines', u'machinist', u'mad', u'made', u'magazine', u'magenta', u'magic', u'magistrate', u'magnetic', u'magnification', u'magnificent', u'maid', u'maiden', u'maids', u'mail', u'mailed', u'mails', u'main', u'mainly', u'maintain', u'maintaining', u'maintains', u'maintenance', u'maitre', u'majestic', u'major', u'major-league', u'majorities', u'majority', u'majors', u'make', u'maker', u'makers', u'makes', u'makeshift', u'making', u'male', u'males', u'malice', u'maligned', u'malingering', u'mall', u'mammoth', u'man', u\"man's\", u'managed', u'management', u\"management's\", u'managements', u'manager', u'managers', u'managing', u'mandatory', u'maneuver', u'manganese', u'manifestations', u'manifestly', u'manipulate', u'manned', u'manner', u'mano', u'manslaughter', u'mantel', u'mantle', u'mantlepiece', u'manual', u'manufacture', u'manufactured', u'manufacturer', u'manufacturers', u\"manufacturers'\", u'manufacturing', u'manuscript', u'many', u'mar', u'marble', u'march', u'marching', u'margin', u'marginal', u'margins', u'marines', u'mark', u'marked', u'market', u'marketed', u'marketing', u'marketings', u'markets', u'marking', u'marks', u'marriage', u'marriages', u'married', u'marvel', u'marveled', u'masked', u\"maskers'\", u'masonry', u'masquerade', u'masquerades', u'mass', u'masses', u'massive', u'master', u\"master's\", u'masterful', u'masterpiece', u'mastodons', u'mat', u'match', u'matched', u'matches', u'matching', u'material', u'materialize', u'materials', u'mates', u'math', u'mathematically', u'mathematics', u'mating', u'matter', u'matters', u'mature', u'maturity', u'maverick', u'maximum', u'may', u'maybe', u'mayonnaise', u'mayor', u\"mayor's\", u'me', u'mea', u'meager', u'meals', u'mean', u'meaning', u'meaningless', u'means', u'meant', u'meantime', u'meanwhile', u'measles', u'measure', u'measured', u'measures', u'measuring', u'meat', u'mechanic', u\"mechanic's\", u'mechanical', u'mechanically', u'mechanics', u'mechanism', u'mechanisms', u'mechanization', u'medal', u'meddle', u'medical', u'medicine', u\"medico's\", u'medics', u'mediocre', u'meditating', u'meet', u'meeting', u'meetings', u'meets', u'megaton', u'melee', u'melt', u'melted', u'member', u'members', u\"members'\", u'membership', u'memory', u'men', u\"men's\", u'menace', u'menaced', u'mental', u'mentally', u'mention', u'mentioned', u'mentions', u'menu', u'mercenaries', u'merchandise', u'merchandising', u'merchants', u'mercy', u'mere', u'merely', u'merge', u'merger', u'mergers', u'merit', u'merited', u'meritorious', u'merits', u'merry-go-round', u'mess', u'message', u'met', u'metal', u'meteorological', u'meter', u'method', u'methods', u'metropolitan', u'micro-microcurie', u'microfilm', u'mid-1960', u'mid-July', u'mid-June', u'mid-September', u'mid-flight', u'middle', u'middle-aged', u'midmorning', u'midnight', u'midst', u'midway', u'miffed', u'might', u'mighty', u'mile', u'mileage', u'miles', u'milestone', u'military', u'milk', u'mill', u'million', u'millions', u'mind', u'minds', u'mine', u'mined', u'mineral', u'mineral-rich', u'miners', u'mines', u'mingle', u'miniature', u'mining', u'minister', u'ministerial', u'ministers', u'mink', u'minor', u'minorities', u'minors', u'minute', u'minutes', u'miracle', u'miracles', u'mirror', u'miscalculation', u'miscellaneous', u'misconstrued', u'miscount', u'miserable', u'misfortune', u'mishap', u'misled', u'miss', u'missed', u'misses', u'missile', u'missiles', u'missing', u'mission', u'missionary', u'missions', u'mistake', u'mistakes', u'mistrial', u'misunderstanding', u'misunderstandings', u'misuse', u'moans', u'mob', u\"mob's\", u'mobile', u'model', u'models', u'moderate', u'moderate-income', u'moderates', u'modern', u'modernization', u'modernized', u'modernizing', u'modest', u'modification', u'modifications', u'modified', u'moist', u'moldboard', u'moment', u\"moment's\", u'moments', u'momentum', u'monetary', u'money', u'money-winner', u'monks', u'monopolies', u'monopolistic', u'monopoly', u'monotonous', u'monotony', u'monstrous', u'month', u\"month's\", u'month-long', u'monthly', u'months', u\"months'\", u'monument', u'monumental', u'monuments', u'mood', u'moral', u'morality', u'morals', u'more', u'more-than-ordinary', u'morning', u\"morning's\", u'mortal', u'mortgage', u'mortgages', u'most', u'most-valuable', u'most-valuable-player', u'mostly', u'motel', u'motel-keepers', u'motel-keeping', u'motels', u'mother', u\"mother's\", u'mothers', u'motion', u'motion-picture', u'motions', u'motivated', u'motivations', u'motor', u'motorist', u'motorists', u\"motorists'\", u'motto', u'mound', u'mountainous', u'mounted', u'mounting', u'mourn', u'mouth', u'mouths', u'move', u'moved', u'movement', u'movements', u'moves', u'movie', u'movies', u'moving', u'much', u'much-copied', u'mud', u'multi-family', u'multi-million-dollar', u'multi-product', u'multiple', u'multiply', u'multiplying', u'municipal', u'municipalities', u'murder', u'murdered', u'muscle', u'muscles', u'muscular', u'museum', u'mushrooms', u'music', u'music-loving', u'musical', u'musician', u'musicians', u'must', u'muster', u'muted', u'mutiny', u'mutter', u'muttered', u'mutterers', u'mutual', u'my', u'myself', u'mystery', u'nab', u'nabbed', u'nailed', u'name', u'named', u'namely', u'names', u'nap', u'narcotic', u'narcotics', u'narrow', u'narrowed', u'narrowly', u'nation', u\"nation's\", u'national', u'nationalism', u'nationalized', u'nationally', u'nations', u'nationwide', u'native', u'natural', u'naturalized', u'naturally', u'nature', u'naughtier', u'naughty', u'naval', u'navy', u\"navy's\", u'near', u'near-Balkanization', u'nearby', u'nearest', u'nearing', u'nearly', u'neatly', u'necessary', u'necessitate', u'necessitated', u'necessity', u'neck', u'neckline', u'need', u'needed', u'needles', u'needs', u'needy', u'negative', u'negotiate', u'negotiating', u'negotiation', u'negotiations', u'neighbor', u'neighborhood', u'neighboring', u'neighbors', u'neither', u'neo-stagnationist', u'nerve', u'nerves', u'net', u'netted', u'network', u'neutral', u'neutralist', u'neutralists', u'neutralized', u'never', u'nevertheless', u'new', u'new-rich', u'newcomers', u'newer', u'newest', u'newly', u'newly-appointed', u'newlyweds', u'news', u'newsletter', u'newsman', u'newsmen', u'newspaper', u'newspapers', u'next', u'nice', u'nicer', u'nickels', u'niece', u'night', u\"night's\", u'night-coach', u'nightclubs', u'nightfall', u'nightly', u'nightmare', u'nights', u'nine', u'nine-game', u'nine-year', u'nineteen', u'nineteenth', u'nineteenth-century', u'ninety-nine', u'ninth', u'nitroglycerine', u'no', u'no-driving', u'no-hit', u'noble', u'nobody', u'nodded', u'noes', u'noise', u'nolo', u'nominal', u'nominated', u'nominating', u'nomination', u'nominee', u'non-farm', u'non-partisan', u'non-profit', u'noncommissioned', u'nondescript', u'none', u'nonfiction', u'nonsense', u'nonviolent', u'nonwhite', u'noon', u'nor', u'norm', u'normal', u'normalcy', u'normally', u'north', u'north-bound', u'northeast', u'northern', u'northernmost', u'northwest', u'nose', u'noses', u'nostalgic', u'not', u'notable', u'notably', u'notarized', u'note', u'noted', u'notes', u'nothing', u'notice', u'noticeable', u'noticed', u'notices', u'noting', u'notion', u'notions', u'notorious', u'nourished', u'novel', u'now', u'nowhere', u'nozzle', u'nuclear', u'nucleus', u'number', u'numbered', u'numbers', u'numerous', u'nuns', u'nurse', u'nursing', u'nut', u'nw.', u'nymphomaniacs', u\"o'clock\", u'oases', u'oath-taking', u'oats', u'object', u'objected', u'objection', u'objective', u'obligated', u'obligation', u'obligations', u'obliged', u'obliterated', u'observations', u'observer', u'observers', u'observing', u'obstacle', u'obstacles', u'obstructed', u'obstructionist', u'obtain', u'obtained', u'obtaining', u'obvious', u'obviously', u'occasion', u'occasional', u'occasionally', u'occasions', u'occupancy', u'occupants', u'occupation', u'occupied', u'occupying', u'occur', u'occurred', u'occurrence', u'ocean', u'odds', u'of', u'off', u'off-beat', u'off-duty', u'offenders', u'offense', u'offenses', u'offensive', u'offensives', u'offer', u'offered', u'offering', u'offerings', u'offers', u'office', u'officer', u'officered', u'officers', u'offices', u'official', u'officially', u'officials', u'officiate', u'officiated', u'officiating', u'officious', u'oft-repeated', u'often', u'ogled', u'oil', u'oilman-rancher', u'oks', u\"ol'\", u'old', u'older', u'oldest', u'olive-green', u'ominous', u'omitted', u'on', u'on-the-scene', u'once', u'one', u\"one's\", u'one-fourth', u'one-half', u'one-iron', u'one-over-par', u'one-room', u'one-sided', u'one-story', u'one-third', u'one-week-old', u'ones', u'onetime', u'onion', u'only', u'onrush', u'onslaught', u'onto', u'onus', u'oops', u'open', u'opened', u'opener', u'opening', u'openly', u'opens', u'opera', u'operate', u'operated', u'operates', u'operating', u'operation', u'operations', u'operator', u'operators', u'opinion', u'opinions', u'opponents', u'opportunities', u'opportunity', u'oppose', u'opposed', u'opposes', u'opposite', u'opposition', u'optimism', u'optimistic', u'option', u'opus', u'or', u'orange', u'orchestra', u'orchids', u'ordained', u'order', u'ordered', u'orderly', u'orders', u'ordinance', u'ordinarily', u'ordinary', u\"ordinary's\", u'organ', u'organdy', u'organization', u\"organization's\", u'organizations', u'organize', u'organized', u'organizers', u'organizing', u'organs', u'oriental', u'orientation', u'origin', u'original', u'originally', u'originated', u'originating', u'other', u\"other's\", u'others', u'otherwise', u'ought', u'our', u'ours', u'ourselves', u'oust', u'ouster', u'out', u'out-of-bounds', u'outclass', u'outclassed', u'outcome', u'outdoors', u'outfield', u'outfielder', u'outfit', u'outgoing', u'outlawed', u'outlay', u'outlets', u'outline', u'outlook', u'outmoded', u'outnumber', u'outpatient', u'outplayed', u'output', u'outright', u'outrun', u'outset', u'outside', u'outsider', u'outsiders', u'outspoken', u'outstanding', u'ova', u'over', u'over-all', u'over-corrected', u'over-night', u'over-the-counter', u'overcame', u'overcome', u'overcrowding', u'overdeveloped', u'overhauling', u'overhead', u'overlooked', u'overly', u'overnight', u'overpowered', u'overreach', u'overseas', u'overshot', u'oversimplification', u'overtake', u'overthrow', u'overtime', u'overturned', u'overwhelmingly', u'owe', u'owed', u'own', u'owned', u'owner', u'owners', u\"owners'\", u'ownership', u'owns', u'oysters', u'p.m.', u'pace', u'paces', u'pack', u'packed', u'pact', u'pad', u'pads', u'paganism', u'page', u'paid', u'paid-for', u'pain', u'painful', u'pains', u'painted', u'painter', u'painting', u'paintings', u'pair', u'paired', u'pal', u'pall', u'palm', u'palmed', u'pan', u'panel', u\"panel's\", u'paneled', u'paneling', u'panels', u'panic', u'paper', u'papers', u'par', u'par-3', u'par-5', u'parade', u'parading', u'paradox', u'paragon', u'paralyzed', u'paramount', u'paratroops', u'pardon', u'pardoned', u'parent', u\"parent's\", u'parents', u'parimutuels', u'parish', u'park', u'parked', u'parking', u'parklike', u'parks', u'parlor', u'parochial', u'parole', u'parolees', u'pars', u'part', u'part-time', u'partially', u'participate', u'participating', u'participation', u'particular', u'particularly', u'particulars', u'parties', u'partner', u'partners', u'parts', u'party', u'pass', u'passage', u'passages', u'passed', u'passenger', u'passengers', u'passes', u'passing', u'passport', u'past', u'pastel-like', u'pastime', u'pastors', u\"pastors'\", u'paternalism', u'path', u'paths', u'patience', u'patient', u'patients', u'patio', u'patrol', u'patrolman', u'patronage', u'patrons', u'pattern', u'patterned', u'pause', u'paused', u'paving', u'pay', u'paycheck', u'paying', u'paymaster', u'payment', u'payments', u'payoff', u'payroll', u'pays', u'peace', u'peace-loving', u'peacetime', u'peak', u'peaks', u'peanut', u'pearl', u'peasant', u'peasants', u'pecan', u'peck', u'peculiar', u'peculiarities', u'pedagogue', u'peddle', u'peddler', u'peddlers', u'pedestal', u'pedestrian', u'pedestrians', u'pedigreed', u'penalized', u'penalties', u'penalty', u'pending', u'penetration', u'pennant', u'pennies', u'pension', u'pensions', u'people', u\"people's\", u'peoples', u'pepper', u'peppery', u'pepping', u'per', u'per-game', u'percent', u'percentage', u'percentages', u'perched', u'perennial', u'perfect', u'perfection', u'perform', u'performance', u'performances', u'performed', u'performers', u'performing', u'perhaps', u'peril', u'period', u'periodic', u'periodicals', u'perjury', u'permanence', u'permanent', u'permission', u'permit', u'permits', u'permitted', u'permitting', u'persecution', u'persistent', u'person', u'personal', u'personalities', u'personality', u'personally', u'personification', u'personnel', u'persons', u'persuade', u'pert', u'pertained', u'pertinent', u'perturbed', u'pessimism', u'pest', u'pester', u'pesticides', u'petition', u'petitions', u'petty', u'phalanx', u'phase', u'phases', u'philosopher', u'philosophy', u'phone', u'phones', u'phonies', u'photographers', u'photographing', u'phrase', u'physical', u'physically', u'physician', u\"physician's\", u'physics', u'physiology', u'pianist', u'pianists', u'piano', u'pick', u'picked', u'picker', u'pickers', u'picket', u'picketed', u'picketing', u'picking', u'picks', u'pickup', u'picnic', u'picture', u'pictured', u'pictures', u'piece', u'pieces', u'pier', u'piety', u'pile', u'pilgrimage', u'pillow', u'pilot', u'pilots', u'pin', u'pinch-hitter', u'pinch-hitters', u'pine', u'pink', u'pinks', u'pinpoint', u'pioneer', u'pious', u'pipe', u'pipeline', u'piping', u'piracy', u'pirates', u'pistol', u'pitch', u'pitched', u'pitcher', u'pitchers', u'pitches', u'pitching', u'pitfall', u'pitifully', u'pivotal', u'pixies', u'pizza', u'pl.', u'place', u'place-kicker', u'place-kicking', u'placed', u'places', u'placing', u'plague', u'plagued', u'plain', u'plaintiffs', u'plan', u'plane', u'planes', u'planned', u'planner', u'planners', u'planning', u'plans', u'plant', u'planted', u'plants', u'plaques', u'plate', u'plates', u'platform', u'play', u'playable', u'played', u'player', u\"player's\", u'players', u\"players'\", u'playing', u'playoff', u'plays', u'playtime', u'plea', u'plead', u'pleaded', u'pleads', u'pleasant', u'please', u'pleased', u'pleasure', u'pledge', u'pledged', u'pledges', u'plenary', u'plenty', u'plight', u'plot', u'plotting', u'plow', u'plowing', u'plows', u'plunder', u'plunkers', u'plus', u'pocket', u'pocket-size', u'pockets', u'poet', u'poetic', u'poets', u'point', u'pointed', u'pointing', u'points', u'poised', u'pole', u'police', u'policeman', u'policemen', u'policies', u'policy', u'polished', u'politely', u'political', u'politicians', u'politicos', u'politics', u'poll', u'polled', u'polls', u'pollution', u'pondered', u'ponies', u'pool', u'pooling', u'pools', u'poor', u'poor-mouth', u'poorly', u'pop', u'popped', u'pops', u'popular', u'popularity', u'populated', u'population', u'populous', u'pork', u'pork-barrel', u'portable', u'portion', u'portions', u'portrait', u'portrayal', u'posed', u'position', u'positions', u'positive', u'possess', u'possessing', u'possessive', u'possibility', u'possible', u'possibly', u'post', u'posted', u'poster', u'posters', u'postgraduate', u'postman', u'posts', u'potato', u'potatoes', u'potent', u'potential', u'potentially', u'poultry', u'pound', u'pounds', u'pour', u'poured', u'powderpuff', u'power', u'powered', u'powerful', u'powers', u'practical', u'practice', u'practiced', u'practices', u'practicing', u'praise', u'praised', u'pray', u'prayer-time', u'prayers', u'pre-Easter', u'pre-Fair', u'pre-academic', u'pre-school', u'pre-season', u'pre-set', u'preach', u'preached', u'preaching', u'precarious', u'precautionary', u'precede', u'preceded', u'precedence', u'precedent', u'preceding', u'preceeded', u'precinct', u'precincts', u'precipitated', u'precisely', u'preclude', u'predict', u'predictably', u'predicted', u'prediction', u'predominating', u'prefer', u'preferable', u'preferably', u'preferred', u'prefers', u'prejudicial', u'preliminary', u'prelude', u'premier', u'premium', u'preoccupied', u'prepare', u'prepared', u'prepares', u'prepayment', u'presence', u'present', u'presentation', u'presented', u'presently', u'presentments', u'presents', u'preservation', u'preserve', u'preserved', u'preserving', u'presidency', u'president', u\"president's\", u'presidential', u'presides', u'presiding', u'press', u'pressed-paper', u'pressing', u'pressure', u'pressures', u'prestige', u'presumably', u'presumed', u'pretends', u'pretenses', u'pretext', u'pretexts', u'pretty', u'prevailed', u'prevent', u'prevention', u'preview', u'previous', u'previously', u'price', u'price-earnings', u'price-setting', u'priced', u'prices', u'pricing', u'pricking', u'pride', u'priests', u'primarily', u'primary', u'prime', u'princess', u'princesse', u'principal', u'principally', u'principle', u'principles', u'printed', u'prior', u'prior-year', u'priority', u'prison', u'prisoners', u'private', u'private-eye', u'private-school', u'privately', u'privilege', u'privileged', u'privileges', u'prize', u'prizes', u'pro', u'pro-Communist', u'pro-Western', u'pro-Yankee', u'probability', u'probable', u'probably', u'probate', u'probation', u'probe', u'probing', u'problem', u'problems', u'procedure', u'procedures', u'proceed', u'proceeded', u'proceedings', u'proceeds', u'process', u'processes', u'processing', u'procurement', u'prod', u'prodigal', u'produce', u'produced', u'producer', u'producer-hubby', u'producers', u'produces', u'producing', u'product', u'production', u'productions', u'productive', u'products', u'profession', u'professional', u'professionals', u'professor', u'professors', u'profit', u'profits', u'profound', u'program', u'programmed', u'programs', u'progress', u'project', u'projects', u'prominent', u'prominently', u'promise', u'promised', u'promises', u'promising', u'promote', u'promotion', u'promotional', u'prompt', u'promptly', u'prone', u'pronounced', u'pronto', u'proof', u'prop', u'propaganda', u'propeller', u'propeller-driven', u'propelling', u'proper', u'properly', u'properties', u'property', u'proportionate', u'proportionately', u'proposal', u'proposals', u'propose', u'proposed', u'proposes', u'proposing', u'proprietor', u'props', u'pros', u'prosecute', u'prosecution', u'prosecutions', u'prosecutor', u'prosecutors', u'proselytizing', u'prospect', u'prospective', u'prospects', u'prosperity', u'prostitution', u'protect', u'protected', u'protection', u'protective', u'protest', u'protested', u'protests', u'protocol', u'proud', u'prove', u'proved', u'proven', u'provide', u'provided', u'provides', u'providing', u'province', u'provinces', u'provincial', u'provision', u'provisional', u'provisions', u'provocation', u'provoked', u'proximity', u'prudently', u'pry', u'pseudynom', u'psychology', u'public', u'public-school', u'publicity', u'publicized', u'publicly', u'published', u'publishes', u'publishing', u'pubs', u'pull', u'pulled', u'pulling', u'pulse', u'pulse-jet', u'pun', u'punching', u'punted', u'pupils', u'puppet', u\"puppet's\", u'puppets', u'purchase', u'purchased', u'purchases', u'purchasing', u'pure', u'purged', u'purple', u'purpose', u'purposely', u'purposes', u'purse', u'pursued', u'pursuing', u'pursuit', u'push', u'pushed', u'pushing', u'put', u'putout', u'puts', u'putt', u'putted', u'putter', u'putting', u'puzzle', u'qualifications', u'qualified', u'qualify', u'qualities', u'quality', u'quarrel', u'quarreling', u'quarter', u'quarter-century', u'quarter-mile', u'quarter-to-quarter', u'quarterback', u'quarterbacks', u'quarterly', u'quarters', u'quartet', u'queen', u'queries', u'quest', u'question', u'questionable', u'questioned', u'questioning', u'questions', u'quick', u'quickie', u'quickly', u'quiet', u'quiet-spoken', u'quieted', u'quietly', u'quipping', u'quit', u'quite', u'quo', u'quota', u'quotas', u'quote', u'quoted', u'rabbit', u'race', u'raced', u'races', u'racial', u'racing', u'racket', u'racketeer', u'racy', u'radiation', u'radical', u'radio', u'radioactive', u'radioed', u'radiomen', u'radios', u'raft', u'raged', u'rail', u'railing', u'railroad', u\"railroad's\", u'railroading', u'railroads', u'railway', u'rain', u'rain-slick', u'raincoats', u'rains', u'rainstorm', u'rainy', u'raise', u'raised', u'raiser', u'raises', u'raising', u'rallies', u'rally', u'ramp', u'ran', u'ranch', u'rancho', u'range', u'ranged', u'rangers', u'ranges', u'ranging', u'rangy', u'rank', u'ranked', u'ranks', u'ransacked', u'rapid', u'rapidly', u'raping', u'rapped', u'rapport', u'rapt', u'rare', u'rarity', u'rat-a-tat-tatty', u'rate', u'rated', u'rates', u'rather', u'ratification', u'ratified', u'ration', u'rational', u'rationale', u'ratios', u'raw', u\"rbi's\", u're-arguing', u're-elected', u're-election', u're-enactment', u're-set', u'reach', u'reached', u'reaches', u'reaching', u'react', u'reacted', u'reacting', u'reaction', u'reactionary', u'reactions', u'reactor', u'reactors', u'read', u'reader', u'readers', u'readiness', u'reading', u'readjust', u'reads', u'ready', u'real', u'realistic', u'realities', u'realization', u'realize', u'realized', u'realizing', u'really', u'realty', u'reams', u'rear', u'reared', u'reason', u'reasonable', u'reasoning', u'reasons', u'rebel', u'rebellion', u'rebels', u'rebound', u'rebuffed', u'rebuild', u'recalled', u'recalls', u'receipts', u'receive', u'received', u'receives', u'receiving', u'recent', u'recently', u'reception', u'receptive', u'recessed', u'recession', u'recipe', u'recipient', u'recipients', u'reckless', u'reckonings', u'recognize', u'recognized', u'recognizes', u'recommend', u'recommendation', u'recommendations', u'recommended', u'recommends', u'reconsider', u'reconsideration', u'reconstruction', u'reconvened', u'reconvenes', u'reconvention', u'record', u'record-tying', u'recorded', u'recording', u'records', u'recover', u'recovering', u'recovery', u'recruit', u'recruiter', u'recruiting', u'recruits', u'red', u'redecoration', u'redevelopers', u'redhead', u'redistricting', u'redoubled', u'reds', u'reduce', u'reduced', u'reducing', u'reduction', u'reelected', u'reelection', u'reestablish', u'refer', u'reference', u'referendum', u'referred', u'refinement', u'reflected', u'reflecting', u'reflexes', u'refocusing', u'reform', u'reformatory', u'reforms', u'refuel', u'refueling', u'refurbishing', u'refused', u'refuted', u'regard', u'regarded', u'regents', u'regime', u'regional', u'register', u'registered', u'registration', u'regrets', u'regrettable', u'regretted', u'regrouping', u'regular', u'regularly', u'regulate', u'regulated', u'regulating', u'regulation', u'rehabilitation', u'rehearsal', u'reign', u'rein', u'reiterate', u'reiterated', u'reiterating', u'rejected', u'rejection', u'rejoin', u'rejoining', u'rekindling', u'related', u'relations', u'relationship', u'relationships', u'relative', u'relatively', u'relatives', u'relaxation', u'relearns', u'release', u'released', u'relegated', u'relentlessly', u'reliance', u'relief', u'relieve', u'relieved', u'relieves', u'religion', u'religions', u'religious', u'relinquish', u'reluctant', u'reluctantly', u'rely', u'remain', u'remainder', u'remained', u'remaining', u'remains', u'remanding', u'remark', u'remarkable', u'remarkably', u'remarked', u'remarks', u'remedy', u'remember', u'remembered', u'reminiscence', u'reminiscent', u'reminisces', u'remodeling', u'remote', u'removal', u'remove', u'removed', u'render', u'rendered', u'renderings', u'renew', u'renewal', u'renewed', u'renowned', u'rental', u'rentals', u'renting', u'reopening', u'reorganization', u'repaid', u'repair', u'repaired', u'repairs', u'repartee', u'repay', u'repealed', u'repeated', u'repeatedly', u'replace', u'replaced', u'replacement', u'replied', u'replies', u'reply', u'report', u'reported', u'reportedly', u'reporter', u'reporters', u'reporting', u'reports', u'repository', u'represent', u'representation', u'representations', u'representative', u'representatives', u'represented', u'representing', u'represents', u'reprimanded', u'reprisal', u'reproduced', u'reproductions', u'republic', u'reputation', u'reputedly', u'request', u'requested', u'requesting', u'requests', u'require', u'required', u'requirement', u'requirements', u'requires', u'requiring', u'rescind', u'rescue', u'rescued', u'research', u'researchers', u'resembled', u'resembles', u'resent', u'resented', u'resentment', u'reservations', u'reserve', u'reserved', u'reserves', u'reserving', u'reservoir', u'reservoirs', u'reside', u'residence', u'residences', u'resident', u'residential', u'residents', u'residing', u'resignation', u'resigned', u'resist', u'resistance', u'resistant', u'resisting', u'resolution', u'resolve', u'resort', u'resource', u'resourcefulness', u'resources', u'respect', u'respectable', u'respected', u'respective', u'respects', u'respond', u'responded', u'responding', u'response', u'responses', u'responsibilities', u'responsibility', u'responsible', u'rest', u'restaurant', u'restaurants', u'rested', u'resting', u'restless', u'restrain', u'restrained', u'restraint', u'restrict', u'restricted', u'restriction', u'restrictions', u'result', u'resulted', u'resulting', u'results', u'resumed', u'resumption', u'resurrection', u'retail', u'retailers', u'retain', u'retained', u'retains', u'retaliating', u'retarded', u'retire', u'retired', u'retirement', u'retirements', u'retiring', u'retracted', u'retrenching', u'retrospect', u'return', u'returned', u'returning', u'returns', u'reunion', u'revamped', u'reveal', u'revealed', u'revelation', u'revenge', u'revenue', u'revenuers', u'revenues', u'review', u'reviewed', u'reviewing', u'revised', u'revision', u'revisions', u'revive', u'revived', u'revolt', u'revolutionary', u'revolutionized', u'revolving', u'revulsion', u'reward', u'rhythm', u'ribbon', u'ribbons', u'ribs', u'rich', u'richer', u'richest', u'rid', u'ride', u'rides', u'ridiculous', u'riding', u'rifle', u'rifles', u'rig', u'rigged', u'rigging', u'right', u'right-handed', u'rightfield', u'rightfully', u'righthander', u'rights', u'ring', u'ringing', u'rings', u'ringside', u'ringsiders', u'riot', u'rioting', u'ripened', u'ripped', u'rise', u'risen', u'rises', u'rising', u'risk', u'ritiuality', u'ritual', u'rival', u'rivalries', u'rivalry', u'road', u\"road's\", u'roadblock', u'roads', u'roadside', u'roar', u'roaring', u'robbed', u'robber', u'robberies', u'robbery', u'robbing', u'robes', u'rock', u'rock-strewn', u'rocket', u\"rocket's\", u'rocket-bomb', u'rocket-bombs', u'rodents', u'role', u'roles', u'roll', u'rolled', u'roller', u'rolling', u'romp', u'romped', u'roof', u'roofer', u'rookie', u'rookie-of-the-year', u'rookies', u'room', u'rooming', u'roommate', u'roommates', u'rooms', u'rooted', u'rose', u'roses', u'roster', u'rosy', u'rotunda', u'rough', u'rough-housing', u'roughly', u'round', u'rounded', u'rounds', u'roundup', u'route', u'routed', u'routine', u'row', u'royal', u'rubbish', u'ruddy', u'ruefully', u'ruggedly', u'rule', u'ruled', u'rulers', u'rules', u'ruling', u\"ruling's\", u'rumor', u'rumored', u'run', u'run-scoring', u'run-up', u'run-ups', u'runaway', u'rundown', u'runner-up', u'runners', u'running', u'runs', u'runway', u'rural', u'rush', u'rushed', u'rushing', u'ruthless', u'sacker', u'sacrifice', u'sacrifices', u'sacrilege', u'sad', u'sadism', u'safari', u'safe', u'safely', u'safeties', u'safety', u'saffron', u'sagging', u'said', u'sailing', u'sake', u'salaries', u'salary', u'sale', u'sales', u'sales-conscious', u'salesman', u\"salesman's\", u'salesmanship', u'salting', u'salutary', u'saluted', u'same', u'sampled', u'sanctuary', u'sand', u'sandwich', u'sang', u'sank', u'sat', u'satin', u'satisfaction', u'satisfactorily', u'satisfactory', u'satisfied', u'satisfy', u'satisfying', u'saturation', u'saute', u'savage', u'save', u'saved', u'saves', u'saving', u'savings', u'saw', u'saws', u'say', u'saying', u'says', u'scale', u'scalloped', u'scandals', u'scapegoats', u'scarcely', u'scattered', u'scene', u'scenery', u'scenic', u'schedule', u'scheduled', u'schedules', u'scheduling', u'scheme', u'scholar', u'scholars', u'scholarship', u'scholarships', u'scholastic', u'scholastically', u'scholastics', u'school', u\"school's\", u'schoolers', u'schooling', u'schools', u'science', u'scientific', u'scientist', u'scoop', u'scope', u'score', u'scoreboard', u'scoreboards', u'scorecard', u'scored', u'scoreless', u'scoring', u'scramble', u'scrambled', u'scrapbook', u'scratches', u'scratching', u'screen', u'screenings', u'scrimmage', u'scrimmaged', u'script', u'scriptures', u'scrutiny', u'sculpture', u'sculptured', u'sculptures', u'sea', u'seams', u'search', u'seashore', u'seaside', u'season', u\"season's\", u'seasonal', u'seasonally', u'seasoned', u'seasons', u'seat', u'seated', u'seats', u'secede', u'seceded', u'secessionist', u'second', u'second-degree', u'second-echelon', u'second-half', u'second-place', u'secondary', u'seconds', u'secret', u'secretarial', u'secretary', u\"secretary's\", u'secretary-treasurer', u'secretly', u'secrets', u'section', u'sections', u'sectors', u'secular', u'secure', u'securities', u'security', u'see', u'seed', u'seedless', u'seeing', u'seek', u'seekers', u'seeking', u'seeks', u'seem', u'seemed', u'seemingly', u'seems', u'seen', u'sees', u'segment', u'segregated', u'segregation', u'segregationist', u'seize', u'seized', u'seldom', u'select', u'selected', u'selection', u'selections', u'selects', u'self-crimination', u'self-exile', u'self-plagiarisms', u'self-portrait', u'self-respect', u'self-restraint', u'self-sacrifice', u'selfish', u'sell', u'selling', u'sellout', u'sells', u'semester', u'semipublic', u'senate', u'senator', u'senators', u'send', u'sending', u'senior', u'seniority', u'seniors', u'sensation', u'sensational', u'sense', u'senseless', u'sensitive', u'sent', u'sentence', u'sentenced', u'sentences', u'sentencing', u'separate', u'separated', u'separately', u'separating', u'separation', u'separators', u'sequins', u'serene', u'series', u'serious', u'seriously', u'servants', u'serve', u'served', u'serves', u'service', u'services', u'serving', u'session', u'sessions', u'set', u'setback', u'setbacks', u'sets', u'setting', u'settle', u'settled', u'settlement', u'settling', u'setup', u'seven', u'seven-hit', u'seven-iron', u'seven-stories', u'seventeen', u'seventh', u'several', u'severe', u'severely', u'severly', u'sewage', u'sewer', u'sewing', u'sex', u'sexton', u'shade', u'shades', u'shadows', u'shadowy', u'shake', u'shaken', u'shaking', u'shaky', u'shall', u'shape', u'shaped', u'shapeless', u'share', u'shared', u'shareholder', u'shareholders', u'shares', u'sharing', u'sharp', u'sharply', u'she', u'sheep', u'sheet', u'shell', u'shelter', u'shelters', u'shelves', u'sheriff', u\"sheriff's\", u'shift', u'shifting', u'shiny', u'ship', u'shipments', u'shipped', u'shipping', u'ships', u'shirking', u'shocked', u'shocker', u'shoe', u'shoes', u'shoji', u'shooting', u'shootings', u'shop', u\"shop's\", u'shopping', u'shops', u'short', u'short-term', u'shortage', u'shortages', u'shortcuts', u'shortly', u'shortstop', u'shot', u'shotgun', u'shots', u'should', u'shouldda', u'shoulder', u'shoulders', u\"shouldn't\", u'shouted', u'shouting', u'show', u'showdown', u'showed', u'showing', u'showings', u'showman', u'showmanship', u'shown', u'shows', u'shrewd', u'shrimp', u'shrines', u'shrink', u'shrinkage', u'shrinking', u'shrugged', u'shuns', u'sick', u'side', u'sidechairs', u'sidelines', u'sidemen', u'siding', u'sidled', u'sighed', u'sight', u'sights', u'sign', u'signal', u'signaled', u'signals', u'signature', u'signatures', u'signed', u'signers', u'significance', u'significant', u'signing', u'signs', u'silenced', u'silent', u'silhouette', u'silhouettes', u'silk', u'silly', u'silver', u'similar', u'simple', u'simplest', u'simplicity', u'simply', u'simultaneous', u'since', u'sing', u'singers', u'singing', u'single', u'singled', u'sink', u'sinking', u'sinless', u'sins', u'sir', u'sirens', u'sister', u\"sister's\", u'sister-in-law', u'sisters', u'sit', u'site', u'sites', u'sitting', u'situation', u'situations', u'six', u'six-point', u'sixth', u'sixth-sense', u'sizable', u'size', u'skeet', u'skid', u'skidded', u'skidding', u'skiddy', u'skies', u'skilled', u'skills', u'skimmed', u'skins', u'skip', u'skips', u'skirt', u'skit', u'skits', u'sky', u'skyjacked', u'skyjackers', u'skylarking', u'slackening', u'slammed', u'slapstick', u'slash', u'slashed', u'slate', u'slated', u'slaughter', u'slave', u'slaying', u'sledding', u'sleeping', u'sleeps', u'slender', u'slice', u'sliced', u'slid', u'slides', u'slight', u'slightly', u'slim', u'slip', u'slipped', u'slipper', u'slippers', u'slob', u'slogan', u'slogans', u'slope', u'slow', u'slow-baked', u'slow-bouncing', u'slowed', u'slower', u'slowly', u'slowly-mending', u'slug', u'slugged', u'slugger', u'sluggers', u'slugging', u'slugs', u'sluice', u'slump', u'slumped', u'slums', u'sly', u'small', u'small-town', u'smaller', u'smallest', u'smash', u'smashed', u'smell', u'smelling', u'smelts', u'smile', u'smiles', u'smoldered', u'smooth', u'smoothed', u'smoother', u'smothered', u'smuggling', u'snack', u'snacks', u'snake', u'snapback', u'snapped', u'snow', u'snowfall', u'snubbed', u'snubbing', u'so', u'so-called', u'so-far', u'so-so', u'soaring', u'social', u'socialized', u'societies', u'society', u'socket', u'socks', u'sofas', u'soft', u'soft-shell', u'softened', u'softening', u'soil', u'sold', u'soldier', u'soldiers', u'solemnly', u'solicit', u'solicitor', u'solicits', u'solid', u'solidarity', u'solo', u'soloists', u'solos', u'solution', u'solve', u'solved', u'solving', u'some', u'somebody', u'somehow', u'someone', u'someplace', u'something', u'sometime', u'sometimes', u'somewhat', u'somewhere', u'son', u'son-in-law', u'song', u'songs', u'sons', u'soon', u'sooner', u'sophisticated', u'sophomore', u'sore', u'sorely', u'sorry', u'sort', u'sorts', u'sought', u'sound', u'sounded', u'soup', u'source', u'sources', u'south', u'southeast', u'southern-central', u'southpaw', u'southward', u'southwest', u'souvenir', u'soviet', u'sow', u'sp.', u'space', u'spacious', u'span', u'spare', u'sparing', u'spark', u'sparkle', u'sparks', u'sparsely', u'speak', u'speaker', u'speakers', u'speaking', u'spearhead', u'special', u'special-interest', u'specialists', u'specialization', u'specialize', u'specialized', u'specializing', u'specialties', u'specific', u'specifically', u'specifications', u'specified', u'specimen', u'speck', u'spectacular', u'spectator', u'spectators', u'specter', u'speculated', u'speculating', u'speculations', u'speculative', u'sped', u'speech', u'speech-making', u'speeches', u'speed', u'speeding', u'speedy', u'spell', u'spelled', u'spend', u'spending', u'spends', u'spent', u'sphynxes', u'spice', u'spices', u'spider-leg', u'spills', u'spirit', u'spirits', u'spiritual', u'splendid', u'split', u'split-level', u'splitting', u'spoke', u'spoken', u'spokesman', u'spokesmen', u'spongy', u'sponsor', u'sponsored', u'sponsoring', u'sponsors', u'sponsorship', u'spontaneous', u'spontaneously', u'spooned', u'sporadic', u'sport', u'sporting', u'sports', u'sportsman', u'sportswriter', u'spot', u'spotlight', u'spotlights', u'spots', u'spotted', u'spouse', u'sprained', u'spraying', u'spread', u'spreads', u'spree', u'spring', u'spring-training', u'springboard', u'springing', u'sprinkle', u'spun', u'spurred', u'spurt', u'spy', u'squabbles', u'squad', u'squads', u'square', u'squared', u'squarely', u'squeeze', u'squeezed', u'stab', u'stabilization', u'stadium', u'staff', u'staffed', u'staffing', u'staffs', u'stag', u'stage', u'stagecoach', u'staged', u'stages', u'staggered', u'staging', u'stairs', u'stake', u'stakes', u'stalemate', u'stalled', u'stances', u'stand', u'stand-ins', u'standard', u'standards', u'standing', u'standpoint', u'stands', u'star', u'stared', u'starred', u'starring', u'stars', u'start', u'started', u'starter', u'starting', u'startled', u'startling', u'startlingly', u'starts', u'state', u\"state's\", u'stated', u'statement', u'statements', u'states', u'statesmen', u'statewide', u'stating', u'station', u'stations', u'statistical', u'statistics', u'statues', u'stature', u'status', u'statutes', u'statutory', u'staunchest', u'stave', u'stay', u'stayed', u'stays', u'steady', u'steak', u'steaks', u'steal', u'steam', u'steamed', u'steamily', u'steaming', u'steamship', u'steel', u'steelmaker', u\"steelmakers'\", u'steep', u'steer', u'steered', u'steering', u'stein', u'stemmed', u'stems', u'step', u'stephanotis', u'stepped', u'stepped-up', u'stepping', u'steps', u'stepson', u'stereotype', u'stevedore', u'stew', u'stewardess', u'stewardesses', u'stewards', u'stick', u'stiff', u'still', u'still-building', u'stimulant', u'stimulation', u'stimulatory', u'stimulus', u'stirling', u'stirred', u'stitch', u'stock', u'stockholder', u'stockholders', u'stocks', u'stoked', u'stole', u'stolen', u'stomach', u'stomachs', u'stood', u'stop', u'stopovers', u'stoppage', u'stoppages', u'stopped', u'stopping', u'stops', u'storage', u'store', u'stores', u'stories', u'storm', u'storms', u'story', u'stove', u'straight', u'straight-line', u'straightaway', u'strain', u'strange', u'strategic', u'strategy', u'strayed', u'streak', u'streaked', u'stream', u'streamer', u'streamlined', u'streamliner', u'streams', u'street', u'streetcar', u'streets', u'strength', u'strengthen', u'strengthened', u'strengthening', u'stressed', u'stresses', u'stretch', u'stretching', u'strictly', u'strike', u'strikes', u'striking', u'strikingly', u'string', u'strings', u'strip', u'stripped', u'strive', u'stroke', u'strokes', u'strong', u'stronger', u'strongest', u'strongly', u'strongrooms', u'struck', u'structure', u'structured', u'structures', u'struggle', u'struggles', u'struggling', u'stuck', u'student', u'students', u\"students'\", u'studied', u'studies', u'studio', u'study', u'studying', u'stuff', u'stuffed', u'stultifying', u'stunk', u'stupidity', u'style', u'styling', u'suavity', u'sub', u'sub-zero', u'subbing', u'subcommittee', u'subdivision', u'subdue', u'subdued', u'subject', u'subjected', u'subjects', u'sublime', u'submachine', u'submarine', u'submarine-ball', u'submarines', u'submitted', u'subordinated', u'subpenaed', u'subpenas', u'subpoenas', u'subs', u'subscribe', u'subsequent', u'subsequently', u'subsidiary', u'subsidies', u'subsidized', u'subsidy', u'subsistence', u'substance', u'substantial', u'substantially', u'substantiation', u'substitute', u'substitutionary', u'subtitled', u'suburb', u'suburban', u'suburbs', u'succeed', u'succeeded', u'succeeding', u'succeeds', u'success', u'successes', u'successful', u'successfully', u'succession', u'successive', u'successor', u'successors', u'such', u'sudden', u'suddenly', u'sue', u'sued', u'suffered', u'suffering', u'sufficient', u'sufficiently', u'suffrage', u'suffragettes', u'sugar', u'suggest', u'suggested', u'suggestion', u'suggestions', u'suicide', u'suit', u'suitable', u'suitcases', u'suite', u'suited', u'suites', u'suits', u'sum', u'summed', u'summer', u\"summer's\", u'summertime', u'summit', u'summitry', u'summoned', u'sumptuous', u'sums', u'sun', u'sun-tanned', u'sunbonnet', u'super', u'super-secret', u'superintendent', u\"superintendent's\", u'superior', u'supermarkets', u'supernatural', u'supersensitive', u'supervise', u'supervision', u'supervisor', u'supervisors', u'supper', u'supplement', u'supplied', u'supplies', u'supply', u'supplying', u'support', u'supported', u'supporters', u'supports', u'supposed', u'supposedly', u'suppressed', u'supreme', u'sure', u'surely', u'surfaces', u'surge', u'surged', u'surgery', u'surpassed', u'surplus', u'surpluses', u'surprise', u'surprised', u'surprises', u'surprising', u'surrender', u'surrounded', u'surveillance', u'survey', u'surveyed', u'survival', u'survive', u'surviving', u'survivors', u'susceptible', u'suspect', u'suspected', u'suspects', u'suspend', u'suspended', u'suspicion', u'suspicious', u'swap', u'swarm', u'sway', u'swearing', u'swearing-in', u'sweat-suits', u'sweater', u'sweeping', u'sweets', u'swelling', u'swept', u'swift', u'swift-striding', u'swim', u'swimming', u'swine', u'swing', u'swinging', u'swings', u'swipe', u'switch', u'switch-hitter', u'switched', u'switching', u'swum', u'swung', u'symbol', u'sympathetic', u'sympathy', u'symphony', u\"symphony's\", u'syndicate', u'system', u\"system's\", u'systems', u'tab', u'table', u'tables', u'tacked', u'tackle', u'tactic', u'tactical', u'tactics', u'taffeta', u'tag', u'tagged', u'tail', u'take', u'take-off', u'taken', u'takes', u'taking', u'takings', u'talent', u'talents', u'talk', u'talked', u'talking', u'talks', u'tall', u'tallies', u'tally', u'tambourine', u'tangible', u'tangle', u'tank', u'tanks', u'tape', u'taper', u'tapestries', u'tapestry', u'tapped', u'tardiness', u'target', u'task', u'tasks', u'taste', u'tasteful', u'tastes', u'tattered', u'taught', u'taunted', u'tax', u'tax-aided', u'tax-exempt', u'tax-exemption', u'tax-free', u'tax-freedom', u'taxable', u'taxation', u'taxed', u'taxes', u'taxi', u'taxiing', u'taxing', u'taxpayer', u\"taxpayer's\", u'taxpayers', u\"taxpayers'\", u'tea', u'teach', u'teacher', u'teacher-employee', u'teachers', u'teaches', u'teaching', u'teahouse', u'team', u\"team's\", u'teammate', u\"teammate's\", u'teammates', u\"teammates'\", u'teams', u\"teams'\", u'teamster', u'teamsters', u'teardrop', u'tearing', u'tears', u'tease', u'technical', u'technicians', u'technique', u'techniques', u'technology', u'tee', u'teen-age', u'teen-agers', u'teenage', u'teenagers', u'teeth', u'telephone', u'telephoned', u'teletype', u'televised', u'television', u'tell', u'telling', u'tells', u'temper', u'temperament', u'temperate', u'temperatures', u'temporarily', u'temporary', u'ten', u'ten-concert', u'ten-hour', u'ten-month', u'tend', u'tended', u'tendency', u'tending', u'tennis', u'tenor', u'tense', u'tension', u'tensions', u'tent', u'tentative', u'tentatively', u'tenths', u'tenure', u'term', u'term-end', u'termed', u'terminate', u'terminated', u'termination', u'terms', u'terrace', u'terribly', u'territories', u'territory', u'terror', u'test', u'testified', u'testify', u'testimony', u'testing', u'tests', u'text', u'textile', u'textile-exporting', u'textile-importing', u'textile-producing', u'textiles', u'texture', u'than', u'thank', u'thanks', u'that', u\"that's\", u'the', u'theater', u'theaters', u'theatrical', u'theft', u'their', u'them', u'theme', u'themselves', u'then', u'theologian', u'theory', u'there', u\"there's\", u'thereafter', u'thereby', u'therefore', u'thereupon', u'these', u'thesis', u'they', u\"they'd\", u\"they're\", u\"they've\", u'thieves', u'thigh', u'thin', u'thing', u'things', u'think', u'thinking', u'thinks', u'thinning', u'third', u'third-inning', u'thirds', u'thirteen', u'thirty', u'thirty-eighth', u'this', u'thorny', u'thoroughfare', u'thoroughly', u'those', u'though', u'thought', u'thousand', u'thousands', u'threads', u'threat', u'threaten', u'threatened', u'threatening', u'threats', u'three', u'three-building', u'three-day', u'three-fifths', u'three-front', u'three-hour', u'three-inning', u'three-man', u'three-month', u'three-round', u'three-story', u'three-way', u'three-wood', u'three-year', u'threesome', u'threshold', u'threw', u'thrill', u'thrilling', u'thriving', u'through', u'throughout', u'throw', u'throwing', u'throws', u'thru', u'thrusts', u'thug', u'thunderous', u'thus', u'thwarted', u'ticket', u'tickets', u'tidal', u'tide', u'tidelands', u'tidying', u'tie', u'tied', u'tiers', u'ties', u'tight', u'tighten', u'tightly', u'tile', u'tiled', u'tiles', u'tilling', u'tilts', u'time', u'timed', u'timeless', u'timely', u'times', u'timetable', u'timing', u'tin', u'tiny', u'tip', u'tipped', u'tired', u'tires', u'titian-haired', u'title', u'title-holder', u'titled', u'titles', u'titular', u'to', u'toast', u'today', u\"today's\", u'toes', u'together', u'token', u'told', u'tolerated', u'toll', u'toll-rate', u'toll-road', u'tolls', u'tomato-red', u'tomb', u'tomorrow', u\"tomorrow's\", u'ton', u'tone', u'toneless', u'tones', u'tongues', u'tonight', u\"tonight's\", u'tons', u'too', u'took', u'tool', u'toolmaker', u'tools', u'top', u'top-grade', u'top-ranking', u'topics', u'topnotch', u'tops', u'tore', u'torn', u'torpedoes', u'tortured', u'toss', u'tossed', u'tosses', u'total', u'totaled', u'totaling', u'totalitarian', u'totally', u'totals', u'touch', u'touchdown', u'touchdowns', u'touched', u'touches', u'tough', u'tougher', u'toughness', u'tour', u'toured', u'tourists', u'tournament', u'tournaments', u'tours', u'toward', u'towards', u'towel', u'towels', u'tower', u'towering', u'town', u\"town's\", u'toy', u'toys', u'tracing', u'track', u'tracks', u'tract', u'tractor', u'tractor-trailer', u'tractors', u'tracts', u'trade', u'traded', u'trading', u'tradition', u'traditional', u'traditionally', u'traffic', u'tragedies', u'tragedy', u'trailed', u'trailing', u'train', u'trained', u'training', u'trains', u'trait', u'trampled', u'transaction', u'transatlantic', u'transcended', u'transfer', u'transferred', u'transferring', u'transfers', u'transit', u'transition', u'translate', u'translated', u'translates', u'transmitter', u'transportation', u'transporting', u'transports', u'travel', u'traveled', u'traveling', u'trawler', u'treacheries', u'treasurer', u'treasures', u'treat', u'treated', u'treating', u'treatment', u'trees', u'tremendous', u'trend', u'trends', u'tri-motor', u'trial', u'trials', u'tribe', u'tribes', u'tribesmen', u'tribunal', u'tribunals', u'tribute', u'trick', u'tricked', u'tried', u'tries', u'trim', u'trimmed', u'trims', u'trio', u'trip', u'tripartite', u'triple', u'triple-crown', u'tripled', u'tripping', u'trips', u'triumph', u'triumphs', u'trivial', u'troops', u'troopships', u'trophy', u'trouble', u'troubled', u'troubles', u'troublesome', u'trout', u'truce', u'truck', u'trucks', u'true', u'truly', u'trumpet', u'truncated', u'trust', u'trusted', u'trustees', u\"trustees'\", u'trusting', u'truth', u'truths', u'try', u'trying', u'tuba', u'tube', u'tuck', u'tucked', u'tulle', u'tumbled', u'turbines', u'turmoil', u'turn', u'turned', u'turning', u'turnpike', u'turnpikes', u'turns', u'tusks', u'tutors', u'twelfth', u'twelve', u'twenty', u'twenty-first', u'twice', u'twice-a-year', u'twin', u'twirler', u'twisting', u'two', u'two-and-a-half-mile', u'two-family', u'two-game', u'two-hour', u'two-run', u'two-season', u'two-story', u'two-thirds', u'two-year', u'two-year-old', u'twosome', u'tying', u'type', u'types', u'typewriter', u'typewriters', u'typhoon', u'typical', u'ugly', u'ultimate', u'ultimately', u'ultimatum', u'unable', u'unaccustomed', u'unanimity', u'unanimous', u'unanimously', u'unarmed', u'uncertain', u'unchanged', u'unchecked', u'uncle', u'uncles', u'uncommitted', u'uncommon', u'unconsciously', u'unconstitutional', u'uncontrolled', u'unconventional', u'uncorked', u'undefined', u'under', u'under-developed', u'underbelly', u'underdeveloped', u'underestimate', u'undergo', u'undergoing', u'undergone', u'undergraduate', u'underground', u'underlying', u'undermine', u'undermining', u'underprivileged', u'undersea', u'understand', u'understandable', u'understandably', u'understanding', u'understands', u'understatement', u'understates', u'understood', u'undertake', u'undertaken', u'undertakes', u'underwater', u'underwrite', u'underwriter', u'underwriters', u'underwriting', u'undetermined', u'undeveloped', u'undisputed', u'undistinguished', u'undoubtedly', u'undue', u'une', u'unearned', u'unemployment', u'unexpected', u'unfair', u'unfamiliar', u'unfortunately', u'unhappiest', u'unhappily', u'unhappy', u'unheard', u'unified', u'uniform', u'uniformed', u'uniforms', u'unify', u'uninjured', u'union', u\"union's\", u'unions', u'unique', u'uniquely', u'unit', u'unite', u'units', u'unity', u'universal', u'universities', u'university', u\"university's\", u'unknown', u'unknowns', u'unless', u'unlike', u'unlikely', u'unlinked', u'unmarried', u'unmatched', u'unmeritorious', u'unmistakably', u'unnecessary', u'unnoticed', u'unofficial', u'unpleasant', u'unprecedented', u'unpredictability', u'unprepared', u'unprofitable', u'unquestionably', u'unresponsive', u'unrest', u'unrestrictedly', u'unsatisfactory', u'unscathed', u'unspecified', u'unspoken', u'unsupported', u'unsure', u'until', u'untold', u'untrammeled', u'unusual', u'unusually', u'unveiled', u'unworkable', u'up', u'updated', u'upheld', u'uphold', u'upon', u'upped', u'upper', u'uprisings', u'upset', u'upshots', u'upstairs', u'upswing', u'uptown', u'uptrend', u'upturn', u'upward', u'upwards', u'uranium', u'urban', u'urged', u'urgency', u'urgent', u'urges', u'urging', u'us', u'use', u'used', u'useful', u'usefulness', u'useless', u'uses', u'using', u'usual', u'usually', u'utilitarian', u'utilities', u'utility', u'utter', u'utterly', u'vacancies', u'vacancy', u'vacated', u'vacation', u'vacationing', u'vaguely', u'vagueness', u'valid', u'validated', u'validity', u'valuable', u'valuation', u'value', u'valued', u'valve', u'vanilla', u'vantage', u'variation', u'variations', u'varied', u'varieties', u'variety', u'various', u'variously', u'vary', u'varying', u'vast', u'vehemence', u'vehicle', u'vehicles', u'vehicular', u'veil', u'veiled', u'venerable', u'venom', u'vented', u'ventilates', u'venture', u'ventured', u'verbally', u'verdict', u'verification', u'verify', u'versatile', u'versed', u'version', u'very', u'vessel', u'vests', u'veteran', u'veto', u'vexing', u'via', u'vice', u'vice-chairman', u'vice-president', u'vicinity', u'vicious', u'victim', u'victimized', u'victims', u'victories', u'victory', u'video', u'view', u'viewed', u'viewers', u'viewing', u'viewpoint', u'views', u'vigor', u'vigorous', u'vigorously', u'villa', u'village', u'vindicated', u'vindication', u'vines', u'violate', u'violated', u'violating', u'violation', u'violations', u'violence', u'violent', u'violin', u'violinists', u'virile', u'virtually', u'virtue', u'virtues', u'visa', u'visible', u'visibly', u'vision', u'visit', u'visited', u'visiting', u'visitor', u'visitors', u'visits', u'vital', u'vitality', u'vitally', u'vivid', u'vocalization', u'vocals', u'vocational', u'voice', u'voiced', u'volume', u'volumes', u'voluntarily', u'voluntary', u'volunteer', u'volunteered', u'volunteers', u'vote', u'voted', u'voter', u'voters', u'votes', u'voting', u'vouchers', u'vow', u'vowed', u'vows', u'vs.', u'vulgar', u'w.', u'wage', u'waged', u'wages', u'wagging', u'wagons', u'wailed', u'wait', u'waited', u'waiting', u'walk', u'walked', u'walking', u'walkout', u'walks', u'walkways', u'wall', u'wall-to-wall', u'wallet', u'walloped', u'walloping', u'walls', u'walnut', u'want', u'wanted', u'wanting', u'wants', u'war', u\"war's\", u'war-ridden', u'warbling', u'ward', u'warden', u'wardens', u'wardrobe', u'wards', u'warehouse', u\"warehouseman's\", u'warfare', u'warhead', u'warless', u'warm', u'warmed', u'warmth', u'warn', u'warned', u'warning', u'warnings', u'warrant', u'wars', u'wary', u'was', u'wash', u'washed', u'washed-out', u\"wasn't\", u'wasteful', u'watch', u'watched', u'watchers', u'watching', u'water', u'watered', u'waterfront', u'waterline', u'waters', u'wave', u'waved', u'wavelengths', u'way', u'ways', u'wayward', u'we', u\"we'd\", u\"we'll\", u\"we're\", u\"we've\", u'weaken', u'weakened', u'weaker', u'weakness', u'weaknesses', u'wealth', u'wealthy', u'weapon', u'weapons', u'wear', u'wearing', u'weary', u'weather', u'wed', u'wedding', u'wedge', u'weeds', u'week', u\"week's\", u'week-end', u'weekend', u'weekly', u'weeks', u'weigh', u'weighs', u'weight', u'welcome', u'welcomed', u'welcoming', u'welfare', u'well', u'well-armed', u'well-established', u'well-informed', u'well-planned', u'well-played', u'well-prepared', u'well-springs', u'well-stocked', u'welled', u'wellknown', u'went', u'were', u\"weren't\", u'west', u'western', u'wetlands', u'what', u'whatever', u'wheat', u'wheel', u'wheeled', u'wheels', u'when', u'where', u'whereby', u'wherever', u'whether', u'which', u'whichever', u'while', u'whims', u'whip', u'whiplash', u'whipped', u'whirling', u'whisking', u'white', u'white-clad', u'whites', u'whiz', u'who', u'whole', u'wholesale', u'wholly', u'wholly-owned', u'whom', u'whopping', u'whose', u'why', u'wide', u'wide-open', u'wide-ranging', u'widely', u'wider', u'widespread', u'widow', u'widowed', u'wife', u\"wife's\", u'wild', u'wilderness', u'wildlife', u'wildly', u'will', u'willing', u'willingness', u'win', u'wind', u'wind-and-water', u'window', u'windows', u'winds', u'windshield', u'windy', u'wing', u'winged', u'wings', u'winless', u'winner', u'winners', u'winning', u'winnings', u'wins', u'winter', u'wintertime', u'wiped', u'wiping', u'wire', u'wired', u'wisdom', u'wish', u'wished', u'wistfully', u'with', u'withdraw', u'withdrawal', u'withdrawing', u'withdrawn', u'within', u'without', u'withstand', u'witness', u'witnessed', u'witnesses', u'witnessing', u'woman', u\"woman's\", u'women', u\"women's\", u'women-trodden', u'won', u\"won't\", u'won-lost', u'wonder', u'wonderful', u'wonderfully', u'woo', u'wood', u'woodcarver', u'wooden', u'woods', u'wool', u'word', u'worded', u'wording', u'words', u'wore', u'work', u'workable', u'worked', u'worker', u'workers', u\"workers'\", u'working', u'workmen', u'workout', u'works', u'workshop', u'workshops', u'world', u\"world's\", u'world-famous', u'world-wide', u'wormy', u'worn', u'worry', u'worse', u'worsens', u'worship', u'worst', u'worth', u'worthiest', u'would', u\"wouldn't\", u'wound', u'wrangler', u'wrapping', u'wreath', u'wreck', u'wrecked', u'wrinkle', u'wrinkles', u'write', u'writer', u'writers', u\"writers'\", u'writes', u'writing', u'written', u'wrong', u'wrongdoing', u'wrongful', u'wrote', u'yard', u'yardage', u'yards', u'yardstick', u'yarn', u'ye', u'year', u\"year's\", u'year-earlier', u'year-old', u'year-round', u'year-to-year', u'yearbook', u'yearly', u'years', u\"years'\", u'yeast', u'yellow', u'yen', u'yesterday', u\"yesterday's\", u'yesteryear', u'yet', u'yield', u'yielding', u'yields', u'yodel', u'you', u\"you'd\", u\"you'll\", u\"you're\", u\"you've\", u'young', u'younger', u'youngest', u'youngsters', u'your', u'yourself', u'youth', u'youthful', u'youths', u'zeal', u'zeroed', u'zinc', u'zombies', u'zone']\n"
     ]
    }
   ],
   "source": [
    "word_list = sorted(set(tokens))\n",
    "print word_list"
   ]
  },
  {
   "cell_type": "code",
   "execution_count": null,
   "metadata": {
    "collapsed": false
   },
   "outputs": [],
   "source": [
    "fd = nltk.FreqDist(nltk.corpus.brown.words())\n",
    "cumulative = 0.0\n",
    "for rank, word in enumerate(fd):\n",
    "    cumulative += fd[word] * 100 / fd.N()\n",
    "    print \"%3d %6.2f% %s\" % (rank + 1, cumulative, word)\n",
    "    if cumulative > 25:\n",
    "        break"
   ]
  },
  {
   "cell_type": "code",
   "execution_count": 3,
   "metadata": {
    "collapsed": false
   },
   "outputs": [
    {
     "data": {
      "text/plain": [
       "nltk.probability.FreqDist"
      ]
     },
     "execution_count": 3,
     "metadata": {},
     "output_type": "execute_result"
    }
   ],
   "source": [
    "fd = nltk.FreqDist(nltk.corpus.brown.words())\n",
    "type(fd)"
   ]
  },
  {
   "cell_type": "code",
   "execution_count": 6,
   "metadata": {
    "collapsed": false
   },
   "outputs": [
    {
     "name": "stdout",
     "output_type": "stream",
     "text": [
      "Help on class FreqDist in nltk.probability:\n",
      "\n",
      "nltk.probability.FreqDist = class FreqDist(collections.Counter)\n",
      " |  A frequency distribution for the outcomes of an experiment.  A\n",
      " |  frequency distribution records the number of times each outcome of\n",
      " |  an experiment has occurred.  For example, a frequency distribution\n",
      " |  could be used to record the frequency of each word type in a\n",
      " |  document.  Formally, a frequency distribution can be defined as a\n",
      " |  function mapping from each sample to the number of times that\n",
      " |  sample occurred as an outcome.\n",
      " |  \n",
      " |  Frequency distributions are generally constructed by running a\n",
      " |  number of experiments, and incrementing the count for a sample\n",
      " |  every time it is an outcome of an experiment.  For example, the\n",
      " |  following code will produce a frequency distribution that encodes\n",
      " |  how often each word occurs in a text:\n",
      " |  \n",
      " |      >>> from nltk.tokenize import word_tokenize\n",
      " |      >>> from nltk.probability import FreqDist\n",
      " |      >>> sent = 'This is an example sentence'\n",
      " |      >>> fdist = FreqDist()\n",
      " |      >>> for word in word_tokenize(sent):\n",
      " |      ...    fdist[word.lower()] += 1\n",
      " |  \n",
      " |  An equivalent way to do this is with the initializer:\n",
      " |  \n",
      " |      >>> fdist = FreqDist(word.lower() for word in word_tokenize(sent))\n",
      " |  \n",
      " |  Method resolution order:\n",
      " |      FreqDist\n",
      " |      collections.Counter\n",
      " |      __builtin__.dict\n",
      " |      __builtin__.object\n",
      " |  \n",
      " |  Methods defined here:\n",
      " |  \n",
      " |  B(self)\n",
      " |      Return the total number of sample values (or \"bins\") that\n",
      " |      have counts greater than zero.  For the total\n",
      " |      number of sample outcomes recorded, use ``FreqDist.N()``.\n",
      " |      (FreqDist.B() is the same as len(FreqDist).)\n",
      " |      \n",
      " |      :rtype: int\n",
      " |  \n",
      " |  N(self)\n",
      " |      Return the total number of sample outcomes that have been\n",
      " |      recorded by this FreqDist.  For the number of unique\n",
      " |      sample values (or bins) with counts greater than zero, use\n",
      " |      ``FreqDist.B()``.\n",
      " |      \n",
      " |      :rtype: int\n",
      " |  \n",
      " |  Nr(self, r, bins=None)\n",
      " |  \n",
      " |  __ge__ lambda self, other\n",
      " |      # @total_ordering doesn't work here, since the class inherits from a builtin class\n",
      " |  \n",
      " |  __gt__ lambda self, other\n",
      " |  \n",
      " |  __init__(self, samples=None)\n",
      " |      Construct a new frequency distribution.  If ``samples`` is\n",
      " |      given, then the frequency distribution will be initialized\n",
      " |      with the count of each object in ``samples``; otherwise, it\n",
      " |      will be initialized to be empty.\n",
      " |      \n",
      " |      In particular, ``FreqDist()`` returns an empty frequency\n",
      " |      distribution; and ``FreqDist(samples)`` first creates an empty\n",
      " |      frequency distribution, and then calls ``update`` with the\n",
      " |      list ``samples``.\n",
      " |      \n",
      " |      :param samples: The samples to initialize the frequency\n",
      " |          distribution with.\n",
      " |      :type samples: Sequence\n",
      " |  \n",
      " |  __le__(self, other)\n",
      " |  \n",
      " |  __lt__ lambda self, other\n",
      " |  \n",
      " |  __repr__(self)\n",
      " |      Return a string representation of this FreqDist.\n",
      " |      \n",
      " |      :rtype: string\n",
      " |  \n",
      " |  __str__(self)\n",
      " |      Return a string representation of this FreqDist.\n",
      " |      \n",
      " |      :rtype: string\n",
      " |  \n",
      " |  __unicode__ = __str__(self)\n",
      " |      Return a string representation of this FreqDist.\n",
      " |      \n",
      " |      :rtype: string\n",
      " |  \n",
      " |  copy(self)\n",
      " |      Create a copy of this frequency distribution.\n",
      " |      \n",
      " |      :rtype: FreqDist\n",
      " |  \n",
      " |  freq(self, sample)\n",
      " |      Return the frequency of a given sample.  The frequency of a\n",
      " |      sample is defined as the count of that sample divided by the\n",
      " |      total number of sample outcomes that have been recorded by\n",
      " |      this FreqDist.  The count of a sample is defined as the\n",
      " |      number of times that sample outcome was recorded by this\n",
      " |      FreqDist.  Frequencies are always real numbers in the range\n",
      " |      [0, 1].\n",
      " |      \n",
      " |      :param sample: the sample whose frequency\n",
      " |             should be returned.\n",
      " |      :type sample: any\n",
      " |      :rtype: float\n",
      " |  \n",
      " |  hapaxes(self)\n",
      " |      Return a list of all samples that occur once (hapax legomena)\n",
      " |      \n",
      " |      :rtype: list\n",
      " |  \n",
      " |  max(self)\n",
      " |      Return the sample with the greatest number of outcomes in this\n",
      " |      frequency distribution.  If two or more samples have the same\n",
      " |      number of outcomes, return one of them; which sample is\n",
      " |      returned is undefined.  If no outcomes have occurred in this\n",
      " |      frequency distribution, return None.\n",
      " |      \n",
      " |      :return: The sample with the maximum number of outcomes in this\n",
      " |              frequency distribution.\n",
      " |      :rtype: any or None\n",
      " |  \n",
      " |  pformat(self, maxlen=10)\n",
      " |      Return a string representation of this FreqDist.\n",
      " |      \n",
      " |      :param maxlen: The maximum number of items to display\n",
      " |      :type maxlen: int\n",
      " |      :rtype: string\n",
      " |  \n",
      " |  plot(self, *args, **kwargs)\n",
      " |      Plot samples from the frequency distribution\n",
      " |      displaying the most frequent sample first.  If an integer\n",
      " |      parameter is supplied, stop after this many samples have been\n",
      " |      plotted.  For a cumulative plot, specify cumulative=True.\n",
      " |      (Requires Matplotlib to be installed.)\n",
      " |      \n",
      " |      :param title: The title for the graph\n",
      " |      :type title: str\n",
      " |      :param cumulative: A flag to specify whether the plot is cumulative (default = False)\n",
      " |      :type title: bool\n",
      " |  \n",
      " |  pprint(self, maxlen=10, stream=None)\n",
      " |      Print a string representation of this FreqDist to 'stream'\n",
      " |      \n",
      " |      :param maxlen: The maximum number of items to print\n",
      " |      :type maxlen: int\n",
      " |      :param stream: The stream to print to. stdout by default\n",
      " |  \n",
      " |  r_Nr(self, bins=None)\n",
      " |      Return the dictionary mapping r to Nr, the number of samples with frequency r, where Nr > 0.\n",
      " |      \n",
      " |      :type bins: int\n",
      " |      :param bins: The number of possible sample outcomes.  ``bins``\n",
      " |          is used to calculate Nr(0).  In particular, Nr(0) is\n",
      " |          ``bins-self.B()``.  If ``bins`` is not specified, it\n",
      " |          defaults to ``self.B()`` (so Nr(0) will be 0).\n",
      " |      :rtype: int\n",
      " |  \n",
      " |  tabulate(self, *args, **kwargs)\n",
      " |      Tabulate the given samples from the frequency distribution (cumulative),\n",
      " |      displaying the most frequent sample first.  If an integer\n",
      " |      parameter is supplied, stop after this many samples have been\n",
      " |      plotted.\n",
      " |      \n",
      " |      :param samples: The samples to plot (default is all samples)\n",
      " |      :type samples: list\n",
      " |  \n",
      " |  unicode_repr = __repr__(self)\n",
      " |      Return a string representation of this FreqDist.\n",
      " |      \n",
      " |      :rtype: string\n",
      " |  \n",
      " |  ----------------------------------------------------------------------\n",
      " |  Methods inherited from collections.Counter:\n",
      " |  \n",
      " |  __add__(self, other)\n",
      " |      Add counts from two counters.\n",
      " |      \n",
      " |      >>> Counter('abbb') + Counter('bcc')\n",
      " |      Counter({'b': 4, 'c': 2, 'a': 1})\n",
      " |  \n",
      " |  __and__(self, other)\n",
      " |      Intersection is the minimum of corresponding counts.\n",
      " |      \n",
      " |      >>> Counter('abbb') & Counter('bcc')\n",
      " |      Counter({'b': 1})\n",
      " |  \n",
      " |  __delitem__(self, elem)\n",
      " |      Like dict.__delitem__() but does not raise KeyError for missing values.\n",
      " |  \n",
      " |  __missing__(self, key)\n",
      " |      The count of elements not in the Counter is zero.\n",
      " |  \n",
      " |  __or__(self, other)\n",
      " |      Union is the maximum of value in either of the input counters.\n",
      " |      \n",
      " |      >>> Counter('abbb') | Counter('bcc')\n",
      " |      Counter({'b': 3, 'c': 2, 'a': 1})\n",
      " |  \n",
      " |  __reduce__(self)\n",
      " |  \n",
      " |  __sub__(self, other)\n",
      " |      Subtract count, but keep only results with positive counts.\n",
      " |      \n",
      " |      >>> Counter('abbbc') - Counter('bccd')\n",
      " |      Counter({'b': 2, 'a': 1})\n",
      " |  \n",
      " |  elements(self)\n",
      " |      Iterator over elements repeating each as many times as its count.\n",
      " |      \n",
      " |      >>> c = Counter('ABCABC')\n",
      " |      >>> sorted(c.elements())\n",
      " |      ['A', 'A', 'B', 'B', 'C', 'C']\n",
      " |      \n",
      " |      # Knuth's example for prime factors of 1836:  2**2 * 3**3 * 17**1\n",
      " |      >>> prime_factors = Counter({2: 2, 3: 3, 17: 1})\n",
      " |      >>> product = 1\n",
      " |      >>> for factor in prime_factors.elements():     # loop over factors\n",
      " |      ...     product *= factor                       # and multiply them\n",
      " |      >>> product\n",
      " |      1836\n",
      " |      \n",
      " |      Note, if an element's count has been set to zero or is a negative\n",
      " |      number, elements() will ignore it.\n",
      " |  \n",
      " |  most_common(self, n=None)\n",
      " |      List the n most common elements and their counts from the most\n",
      " |      common to the least.  If n is None, then list all element counts.\n",
      " |      \n",
      " |      >>> Counter('abcdeabcdabcaba').most_common(3)\n",
      " |      [('a', 5), ('b', 4), ('c', 3)]\n",
      " |  \n",
      " |  subtract(*args, **kwds)\n",
      " |      Like dict.update() but subtracts counts instead of replacing them.\n",
      " |      Counts can be reduced below zero.  Both the inputs and outputs are\n",
      " |      allowed to contain zero and negative counts.\n",
      " |      \n",
      " |      Source can be an iterable, a dictionary, or another Counter instance.\n",
      " |      \n",
      " |      >>> c = Counter('which')\n",
      " |      >>> c.subtract('witch')             # subtract elements from another iterable\n",
      " |      >>> c.subtract(Counter('watch'))    # subtract elements from another counter\n",
      " |      >>> c['h']                          # 2 in which, minus 1 in witch, minus 1 in watch\n",
      " |      0\n",
      " |      >>> c['w']                          # 1 in which, minus 1 in witch, minus 1 in watch\n",
      " |      -1\n",
      " |  \n",
      " |  update(*args, **kwds)\n",
      " |      Like dict.update() but add counts instead of replacing them.\n",
      " |      \n",
      " |      Source can be an iterable, a dictionary, or another Counter instance.\n",
      " |      \n",
      " |      >>> c = Counter('which')\n",
      " |      >>> c.update('witch')           # add elements from another iterable\n",
      " |      >>> d = Counter('watch')\n",
      " |      >>> c.update(d)                 # add elements from another counter\n",
      " |      >>> c['h']                      # four 'h' in which, witch, and watch\n",
      " |      4\n",
      " |  \n",
      " |  ----------------------------------------------------------------------\n",
      " |  Class methods inherited from collections.Counter:\n",
      " |  \n",
      " |  fromkeys(cls, iterable, v=None) from __builtin__.type\n",
      " |  \n",
      " |  ----------------------------------------------------------------------\n",
      " |  Data descriptors inherited from collections.Counter:\n",
      " |  \n",
      " |  __dict__\n",
      " |      dictionary for instance variables (if defined)\n",
      " |  \n",
      " |  __weakref__\n",
      " |      list of weak references to the object (if defined)\n",
      " |  \n",
      " |  ----------------------------------------------------------------------\n",
      " |  Methods inherited from __builtin__.dict:\n",
      " |  \n",
      " |  __cmp__(...)\n",
      " |      x.__cmp__(y) <==> cmp(x,y)\n",
      " |  \n",
      " |  __contains__(...)\n",
      " |      D.__contains__(k) -> True if D has a key k, else False\n",
      " |  \n",
      " |  __eq__(...)\n",
      " |      x.__eq__(y) <==> x==y\n",
      " |  \n",
      " |  __getattribute__(...)\n",
      " |      x.__getattribute__('name') <==> x.name\n",
      " |  \n",
      " |  __getitem__(...)\n",
      " |      x.__getitem__(y) <==> x[y]\n",
      " |  \n",
      " |  __iter__(...)\n",
      " |      x.__iter__() <==> iter(x)\n",
      " |  \n",
      " |  __len__(...)\n",
      " |      x.__len__() <==> len(x)\n",
      " |  \n",
      " |  __ne__(...)\n",
      " |      x.__ne__(y) <==> x!=y\n",
      " |  \n",
      " |  __setitem__(...)\n",
      " |      x.__setitem__(i, y) <==> x[i]=y\n",
      " |  \n",
      " |  __sizeof__(...)\n",
      " |      D.__sizeof__() -> size of D in memory, in bytes\n",
      " |  \n",
      " |  clear(...)\n",
      " |      D.clear() -> None.  Remove all items from D.\n",
      " |  \n",
      " |  get(...)\n",
      " |      D.get(k[,d]) -> D[k] if k in D, else d.  d defaults to None.\n",
      " |  \n",
      " |  has_key(...)\n",
      " |      D.has_key(k) -> True if D has a key k, else False\n",
      " |  \n",
      " |  items(...)\n",
      " |      D.items() -> list of D's (key, value) pairs, as 2-tuples\n",
      " |  \n",
      " |  iteritems(...)\n",
      " |      D.iteritems() -> an iterator over the (key, value) items of D\n",
      " |  \n",
      " |  iterkeys(...)\n",
      " |      D.iterkeys() -> an iterator over the keys of D\n",
      " |  \n",
      " |  itervalues(...)\n",
      " |      D.itervalues() -> an iterator over the values of D\n",
      " |  \n",
      " |  keys(...)\n",
      " |      D.keys() -> list of D's keys\n",
      " |  \n",
      " |  pop(...)\n",
      " |      D.pop(k[,d]) -> v, remove specified key and return the corresponding value.\n",
      " |      If key is not found, d is returned if given, otherwise KeyError is raised\n",
      " |  \n",
      " |  popitem(...)\n",
      " |      D.popitem() -> (k, v), remove and return some (key, value) pair as a\n",
      " |      2-tuple; but raise KeyError if D is empty.\n",
      " |  \n",
      " |  setdefault(...)\n",
      " |      D.setdefault(k[,d]) -> D.get(k,d), also set D[k]=d if k not in D\n",
      " |  \n",
      " |  values(...)\n",
      " |      D.values() -> list of D's values\n",
      " |  \n",
      " |  viewitems(...)\n",
      " |      D.viewitems() -> a set-like object providing a view on D's items\n",
      " |  \n",
      " |  viewkeys(...)\n",
      " |      D.viewkeys() -> a set-like object providing a view on D's keys\n",
      " |  \n",
      " |  viewvalues(...)\n",
      " |      D.viewvalues() -> an object providing a view on D's values\n",
      " |  \n",
      " |  ----------------------------------------------------------------------\n",
      " |  Data and other attributes inherited from __builtin__.dict:\n",
      " |  \n",
      " |  __hash__ = None\n",
      " |  \n",
      " |  __new__ = <built-in method __new__ of type object>\n",
      " |      T.__new__(S, ...) -> a new object with type S, a subtype of T\n",
      "\n"
     ]
    }
   ],
   "source": [
    "help('nltk.probability.FreqDist')"
   ]
  },
  {
   "cell_type": "code",
   "execution_count": 9,
   "metadata": {
    "collapsed": false
   },
   "outputs": [],
   "source": [
    "sent = 'The dog gave John the newspaper'\n",
    "tokenizer = nltk.tokenize.SpaceTokenizer()"
   ]
  },
  {
   "cell_type": "code",
   "execution_count": 10,
   "metadata": {
    "collapsed": false
   },
   "outputs": [
    {
     "data": {
      "text/plain": [
       "[[u'The', u'dog', u'gave'],\n",
       " [u'dog', u'gave', u'John'],\n",
       " [u'gave', u'John', u'the'],\n",
       " [u'John', u'the', u'newspaper']]"
      ]
     },
     "execution_count": 10,
     "metadata": {},
     "output_type": "execute_result"
    }
   ],
   "source": [
    "a = tokenizer.tokenize(sent)\n",
    "n = 3 # n-grams\n",
    "[a[i:i+n] for i in range(len(a) - n + 1)]"
   ]
  },
  {
   "cell_type": "code",
   "execution_count": 11,
   "metadata": {
    "collapsed": false
   },
   "outputs": [
    {
     "name": "stdout",
     "output_type": "stream",
     "text": [
      "Help on function bigrams in nltk:\n",
      "\n",
      "nltk.bigrams = bigrams(sequence, **kwargs)\n",
      "    Return the bigrams generated from a sequence of items, as an iterator.\n",
      "    For example:\n",
      "    \n",
      "        >>> from nltk.util import bigrams\n",
      "        >>> list(bigrams([1,2,3,4,5]))\n",
      "        [(1, 2), (2, 3), (3, 4), (4, 5)]\n",
      "    \n",
      "    Use bigrams for a list version of this function.\n",
      "    \n",
      "    :param sequence: the source data to be converted into bigrams\n",
      "    :type sequence: sequence or iter\n",
      "    :rtype: iter(tuple)\n",
      "\n"
     ]
    }
   ],
   "source": [
    "help('nltk.bigrams')"
   ]
  },
  {
   "cell_type": "code",
   "execution_count": 12,
   "metadata": {
    "collapsed": false
   },
   "outputs": [
    {
     "data": {
      "text/plain": [
       "[(u'The', u'dog'),\n",
       " (u'dog', u'gave'),\n",
       " (u'gave', u'John'),\n",
       " (u'John', u'the'),\n",
       " (u'the', u'newspaper')]"
      ]
     },
     "execution_count": 12,
     "metadata": {},
     "output_type": "execute_result"
    }
   ],
   "source": [
    "list(nltk.bigrams(a))"
   ]
  },
  {
   "cell_type": "code",
   "execution_count": 13,
   "metadata": {
    "collapsed": true
   },
   "outputs": [],
   "source": [
    "import re\n",
    "def get_text(file):\n",
    "    \"\"\"Read text from file, normalizing whitespace and scripting HTML markup.\"\"\"\n",
    "    text = open(file).read()\n",
    "    text = re.sub('\\s+', ' ', text)\n",
    "    text = re.sub(r'<.*?>', ' ', text)\n",
    "    return text"
   ]
  },
  {
   "cell_type": "code",
   "execution_count": 14,
   "metadata": {
    "collapsed": false
   },
   "outputs": [
    {
     "name": "stdout",
     "output_type": "stream",
     "text": [
      "Help on function sub in re:\n",
      "\n",
      "re.sub = sub(pattern, repl, string, count=0, flags=0)\n",
      "    Return the string obtained by replacing the leftmost\n",
      "    non-overlapping occurrences of the pattern in string by the\n",
      "    replacement repl.  repl can be either a string or a callable;\n",
      "    if a string, backslash escapes in it are processed.  If it is\n",
      "    a callable, it's passed the match object and must return\n",
      "    a replacement string to be used.\n",
      "\n"
     ]
    }
   ],
   "source": [
    "help('re.sub')"
   ]
  },
  {
   "cell_type": "code",
   "execution_count": 18,
   "metadata": {
    "collapsed": false
   },
   "outputs": [
    {
     "name": "stdout",
     "output_type": "stream",
     "text": [
      "no Python documentation found for 'get_text'\n",
      "\n"
     ]
    }
   ],
   "source": [
    "help('get_text')"
   ]
  },
  {
   "cell_type": "code",
   "execution_count": 20,
   "metadata": {
    "collapsed": false
   },
   "outputs": [
    {
     "name": "stdout",
     "output_type": "stream",
     "text": [
      "hola\n",
      "['noun']\n"
     ]
    }
   ],
   "source": [
    "# Mutable vs Inmutable\n",
    "def set_up(word, properties):\n",
    "    word = 'lolcat'\n",
    "    properties.append('noun')\n",
    "    properties = 5\n",
    "\n",
    "w = 'hola'\n",
    "p = []\n",
    "set_up(w,p)\n",
    "print w\n",
    "print p"
   ]
  },
  {
   "cell_type": "markdown",
   "metadata": {},
   "source": [
    "### Checking parameter types"
   ]
  },
  {
   "cell_type": "code",
   "execution_count": 26,
   "metadata": {
    "collapsed": true
   },
   "outputs": [],
   "source": [
    "# defensive programming\n",
    "def tag(word):\n",
    "    assert isinstance(word, basestring), \"argument to tag() must be a string\"\n",
    "    if word in ['a', 'the', 'all']:\n",
    "        return 'det'\n",
    "    else:\n",
    "        return 'noun'"
   ]
  },
  {
   "cell_type": "code",
   "execution_count": 27,
   "metadata": {
    "collapsed": false
   },
   "outputs": [
    {
     "data": {
      "text/plain": [
       "'noun'"
      ]
     },
     "execution_count": 27,
     "metadata": {},
     "output_type": "execute_result"
    }
   ],
   "source": [
    "tag('hello')"
   ]
  },
  {
   "cell_type": "code",
   "execution_count": 23,
   "metadata": {
    "collapsed": false
   },
   "outputs": [
    {
     "ename": "AssertionError",
     "evalue": "argument to tag() must be a string",
     "output_type": "error",
     "traceback": [
      "\u001b[0;31m---------------------------------------------------------------------------\u001b[0m",
      "\u001b[0;31mAssertionError\u001b[0m                            Traceback (most recent call last)",
      "\u001b[0;32m<ipython-input-23-228e03c62a33>\u001b[0m in \u001b[0;36m<module>\u001b[0;34m()\u001b[0m\n\u001b[0;32m----> 1\u001b[0;31m \u001b[0mtag\u001b[0m\u001b[0;34m(\u001b[0m\u001b[0;34m[\u001b[0m\u001b[0;34m'lalala'\u001b[0m\u001b[0;34m]\u001b[0m\u001b[0;34m)\u001b[0m\u001b[0;34m\u001b[0m\u001b[0m\n\u001b[0m",
      "\u001b[0;32m<ipython-input-21-24fd4d279c2f>\u001b[0m in \u001b[0;36mtag\u001b[0;34m(word)\u001b[0m\n\u001b[1;32m      1\u001b[0m \u001b[0;31m# defensive programming\u001b[0m\u001b[0;34m\u001b[0m\u001b[0;34m\u001b[0m\u001b[0m\n\u001b[1;32m      2\u001b[0m \u001b[0;32mdef\u001b[0m \u001b[0mtag\u001b[0m\u001b[0;34m(\u001b[0m\u001b[0mword\u001b[0m\u001b[0;34m)\u001b[0m\u001b[0;34m:\u001b[0m\u001b[0;34m\u001b[0m\u001b[0m\n\u001b[0;32m----> 3\u001b[0;31m     \u001b[0;32massert\u001b[0m \u001b[0misinstance\u001b[0m\u001b[0;34m(\u001b[0m\u001b[0mword\u001b[0m\u001b[0;34m,\u001b[0m \u001b[0mbasestring\u001b[0m\u001b[0;34m)\u001b[0m\u001b[0;34m,\u001b[0m \u001b[0;34m\"argument to tag() must be a string\"\u001b[0m\u001b[0;34m\u001b[0m\u001b[0m\n\u001b[0m\u001b[1;32m      4\u001b[0m     \u001b[0;32mif\u001b[0m \u001b[0mword\u001b[0m \u001b[0;32min\u001b[0m \u001b[0;34m[\u001b[0m\u001b[0;34m'a'\u001b[0m\u001b[0;34m,\u001b[0m \u001b[0;34m'the'\u001b[0m\u001b[0;34m,\u001b[0m \u001b[0;34m'all'\u001b[0m\u001b[0;34m]\u001b[0m\u001b[0;34m:\u001b[0m\u001b[0;34m\u001b[0m\u001b[0m\n\u001b[1;32m      5\u001b[0m         \u001b[0;32mreturn\u001b[0m \u001b[0;34m'det'\u001b[0m\u001b[0;34m\u001b[0m\u001b[0m\n",
      "\u001b[0;31mAssertionError\u001b[0m: argument to tag() must be a string"
     ]
    }
   ],
   "source": [
    "tag(['lalala'])"
   ]
  },
  {
   "cell_type": "code",
   "execution_count": 10,
   "metadata": {
    "collapsed": false
   },
   "outputs": [],
   "source": [
    "from bs4 import BeautifulSoup\n",
    "import urllib2\n",
    "def freq_words(url, n):\n",
    "    text = BeautifulSoup(urllib2.urlopen(url)).getText()\n",
    "    freq_dist = nltk.FreqDist()\n",
    "    #text = nltk.clean_html(url) it seems to be deprecated\n",
    "    for word in nltk.word_tokenize(text):\n",
    "        freq_dist[word.lower()] += 1\n",
    "    return freq_dist"
   ]
  },
  {
   "cell_type": "code",
   "execution_count": 12,
   "metadata": {
    "collapsed": false
   },
   "outputs": [
    {
     "name": "stdout",
     "output_type": "stream",
     "text": [
      "[u'all', u'delaware', u'neglected', u'forbidden', u'hath', u'rutledge', u'ga', u'invariably', u'settlement', u'assembled', u'causes', u'whose', u'william', u'providence', u'witherspoon', u'suspending', u'0', u'edward', u'those', u'whatsoever']\n"
     ]
    }
   ],
   "source": [
    "constitution = \"http://www.archives.gov/exhibits/charters/declaration_transcript.html\"\n",
    "fd = freq_words(constitution, 20)\n",
    "print fd.keys()[:20]"
   ]
  },
  {
   "cell_type": "markdown",
   "metadata": {},
   "source": [
    "### Functions as arguments"
   ]
  },
  {
   "cell_type": "code",
   "execution_count": 14,
   "metadata": {
    "collapsed": false
   },
   "outputs": [
    {
     "data": {
      "text/plain": [
       "[4, 4, 2, 3, 5, 1, 3, 3, 6, 4, 4, 4, 2, 10]"
      ]
     },
     "execution_count": 14,
     "metadata": {},
     "output_type": "execute_result"
    }
   ],
   "source": [
    "sent = \"Take care of the sense, and the sounds will take care of themselves\"\n",
    "\n",
    "def extract_property(prop):\n",
    "    return [prop(word) for word in nltk.word_tokenize(sent)]\n",
    "\n",
    "extract_property(len)"
   ]
  },
  {
   "cell_type": "code",
   "execution_count": 16,
   "metadata": {
    "collapsed": false
   },
   "outputs": [
    {
     "data": {
      "text/plain": [
       "'/Users/b3j90/anaconda/envs/nlp/lib/python2.7/site-packages/nltk/translate/metrics.pyc'"
      ]
     },
     "execution_count": 16,
     "metadata": {},
     "output_type": "execute_result"
    }
   ],
   "source": [
    "nltk.metrics.__file__"
   ]
  },
  {
   "cell_type": "code",
   "execution_count": 17,
   "metadata": {
    "collapsed": true
   },
   "outputs": [],
   "source": [
    "# iterative\n",
    "def factorial1(n):\n",
    "    result = 1\n",
    "    for i in range(n):\n",
    "        result *= (i+1)\n",
    "    return result\n",
    "\n",
    "# recursion\n",
    "def factorial2(n):\n",
    "    if n == 1: # base case\n",
    "        return 1\n",
    "    else:\n",
    "        return n * factorial2(n-1)"
   ]
  },
  {
   "cell_type": "code",
   "execution_count": 18,
   "metadata": {
    "collapsed": true
   },
   "outputs": [],
   "source": [
    "def size1(s):\n",
    "    return 1 + sum(size1(child) for child in s.hyponyms())"
   ]
  },
  {
   "cell_type": "code",
   "execution_count": 19,
   "metadata": {
    "collapsed": true
   },
   "outputs": [],
   "source": [
    "def size2(s):\n",
    "    layer = [s]\n",
    "    total = 0\n",
    "    while layer:\n",
    "        total += len(layer)\n",
    "        layer = [h for c in layer for h in c.hyponyms()]\n",
    "    return total"
   ]
  },
  {
   "cell_type": "code",
   "execution_count": 21,
   "metadata": {
    "collapsed": false
   },
   "outputs": [
    {
     "data": {
      "text/plain": [
       "190"
      ]
     },
     "execution_count": 21,
     "metadata": {},
     "output_type": "execute_result"
    }
   ],
   "source": [
    "from nltk.corpus import wordnet as wn\n",
    "dog = wn.synset('dog.n.01')\n",
    "size1(dog)"
   ]
  },
  {
   "cell_type": "code",
   "execution_count": 22,
   "metadata": {
    "collapsed": false
   },
   "outputs": [
    {
     "data": {
      "text/plain": [
       "190"
      ]
     },
     "execution_count": 22,
     "metadata": {},
     "output_type": "execute_result"
    }
   ],
   "source": [
    "size2(dog)"
   ]
  },
  {
   "cell_type": "code",
   "execution_count": 23,
   "metadata": {
    "collapsed": false
   },
   "outputs": [
    {
     "data": {
      "text/plain": [
       "'cat'"
      ]
     },
     "execution_count": 23,
     "metadata": {},
     "output_type": "execute_result"
    }
   ],
   "source": [
    "# Building a letter trie\n",
    "def insert(trie, key, value):\n",
    "    if key:\n",
    "        first, rest = key[0], key[1:]\n",
    "        if first not in trie:\n",
    "            trie[first] = {}\n",
    "        insert(trie[first], rest, value)\n",
    "    else:\n",
    "        trie['value'] = value\n",
    "\n",
    "trie = nltk.defaultdict(dict)\n",
    "insert(trie, 'chat', 'cat')\n",
    "insert(trie, 'chien', 'dog')\n",
    "insert(trie, 'chair', 'flesh')\n",
    "\n",
    "trie = dict(trie)\n",
    "trie['c']['h']['a']['t']['value']"
   ]
  },
  {
   "cell_type": "code",
   "execution_count": 25,
   "metadata": {
    "collapsed": false
   },
   "outputs": [
    {
     "name": "stdout",
     "output_type": "stream",
     "text": [
      "{'c': {'h': {'a': {'i': {'r': {'value': 'flesh'}}, 't': {'value': 'cat'}}, 'i': {'e': {'n': {'value': 'dog'}}}}}}\n"
     ]
    }
   ],
   "source": [
    "print(trie)"
   ]
  },
  {
   "cell_type": "markdown",
   "metadata": {},
   "source": [
    "Despite the simplicity of recursive programming. It comes with a cost. Each time a function is called, some state information needs to be pushed on a stack, so that once the function has completed the execution can continue from where it let off. For this reason, iterative solutions are often more efficient than recursive solutions."
   ]
  },
  {
   "cell_type": "markdown",
   "metadata": {},
   "source": [
    "### Space-Time Trade-offs"
   ]
  },
  {
   "cell_type": "code",
   "execution_count": null,
   "metadata": {
    "collapsed": true
   },
   "outputs": [],
   "source": [
    "def raw(file):\n",
    "    contents = open(file).read()\n",
    "    contents = re.sub(r'<.*?>', ' ', contents)\n",
    "    contents = re.sub('\\s+', ' ', contents)\n",
    "    return contents\n",
    "\n",
    "def snippet(doc, term):\n",
    "    text = ' '*30 + raw(doc) + ' ' * 30\n",
    "    pos = text.index(term)\n",
    "    return text[pos-30:pos+30]\n",
    "    \n",
    "print \"Building Index...\"\n",
    "files = nltk.corpus.movie_reviews.abspaths()\n",
    "idx = nltk.Index((w,f) for f in files for w in raw(f).split())\n",
    "    "
   ]
  },
  {
   "cell_type": "markdown",
   "metadata": {},
   "source": [
    "## Categorizing and Tagging Words"
   ]
  },
  {
   "cell_type": "code",
   "execution_count": 6,
   "metadata": {
    "collapsed": false
   },
   "outputs": [
    {
     "data": {
      "text/plain": [
       "[('And', 'CC'),\n",
       " ('now', 'RB'),\n",
       " ('for', 'IN'),\n",
       " ('something', 'NN'),\n",
       " ('completely', 'RB'),\n",
       " ('different', 'JJ')]"
      ]
     },
     "execution_count": 6,
     "metadata": {},
     "output_type": "execute_result"
    }
   ],
   "source": [
    "text = nltk.word_tokenize(\"And now for something completely different\")\n",
    "nltk.pos_tag(text)"
   ]
  },
  {
   "cell_type": "code",
   "execution_count": 11,
   "metadata": {
    "collapsed": false
   },
   "outputs": [
    {
     "name": "stdout",
     "output_type": "stream",
     "text": [
      "CC: conjunction, coordinating\n",
      "    & 'n and both but either et for less minus neither nor or plus so\n",
      "    therefore times v. versus vs. whether yet\n",
      "None\n",
      "RB: adverb\n",
      "    occasionally unabatingly maddeningly adventurously professedly\n",
      "    stirringly prominently technologically magisterially predominately\n",
      "    swiftly fiscally pitilessly ...\n",
      "None\n",
      "IN: preposition or conjunction, subordinating\n",
      "    astride among uppon whether out inside pro despite on by throughout\n",
      "    below within for towards near behind atop around if like until below\n",
      "    next into if beside ...\n",
      "None\n",
      "NN: noun, common, singular or mass\n",
      "    common-carrier cabbage knuckle-duster Casino afghan shed thermostat\n",
      "    investment slide humour falloff slick wind hyena override subhumanity\n",
      "    machinist ...\n",
      "None\n",
      "JJ: adjective or numeral, ordinal\n",
      "    third ill-mannered pre-war regrettable oiled calamitous first separable\n",
      "    ectoplasmic battery-powered participatory fourth still-to-be-named\n",
      "    multilingual multi-disciplinary ...\n",
      "None\n"
     ]
    }
   ],
   "source": [
    "for tag in ['CC', 'RB', 'IN', 'NN', 'JJ']:\n",
    "    print nltk.help.upenn_tagset(tag)"
   ]
  },
  {
   "cell_type": "code",
   "execution_count": 13,
   "metadata": {
    "collapsed": false
   },
   "outputs": [
    {
     "data": {
      "text/plain": [
       "[('They', 'PRP'),\n",
       " ('refuse', 'VBP'),\n",
       " ('to', 'TO'),\n",
       " ('permit', 'VB'),\n",
       " ('us', 'PRP'),\n",
       " ('to', 'TO'),\n",
       " ('obtain', 'VB'),\n",
       " ('the', 'DT'),\n",
       " ('refuse', 'NN'),\n",
       " ('permit', 'NN')]"
      ]
     },
     "execution_count": 13,
     "metadata": {},
     "output_type": "execute_result"
    }
   ],
   "source": [
    "text = nltk.word_tokenize(\"They refuse to permit us to obtain the refuse permit\")\n",
    "nltk.pos_tag(text)"
   ]
  },
  {
   "cell_type": "markdown",
   "metadata": {},
   "source": [
    "### Tagging Spanish words"
   ]
  },
  {
   "cell_type": "code",
   "execution_count": 52,
   "metadata": {
    "collapsed": false
   },
   "outputs": [],
   "source": [
    "from nltk.corpus import cess_esp as cess\n",
    "from nltk import UnigramTagger as ut\n",
    "from nltk import BigramTagger as bt\n",
    "\n",
    "# Read the corpus into a list\n",
    "# each entry in the list is one sentence\n",
    "cess_sents = cess.tagged_sents()\n",
    "\n",
    "# Train the unigram tagger\n",
    "uni_tag = ut(cess_sents)"
   ]
  },
  {
   "cell_type": "code",
   "execution_count": null,
   "metadata": {
    "collapsed": true
   },
   "outputs": [],
   "source": [
    "sentence = \"El perro es bonito\"\n",
    "\n",
    "# Tagger reads a list of tokens\n",
    "uni_tag.tag(sentence.split(\" \"))"
   ]
  },
  {
   "cell_type": "code",
   "execution_count": 31,
   "metadata": {
    "collapsed": true
   },
   "outputs": [],
   "source": [
    "# Saving tagger\n",
    "from pickle import dump\n",
    "output = open('uni_spa.pkl', 'wb')\n",
    "dump(uni_tag, output, -1)\n",
    "output.close()"
   ]
  },
  {
   "cell_type": "code",
   "execution_count": 65,
   "metadata": {
    "collapsed": true
   },
   "outputs": [],
   "source": [
    "# Load tagger\n",
    "from pickle import load\n",
    "input = open('uni_spa.pkl','rb')\n",
    "tagger = load(input)\n",
    "input.close()"
   ]
  },
  {
   "cell_type": "code",
   "execution_count": 27,
   "metadata": {
    "collapsed": false
   },
   "outputs": [],
   "source": [
    "# Split corpus into training and testing set\n",
    "train = int(len(cess_sents) * 90/100)\n",
    "\n",
    "# Train a bigram tagger with only training data\n",
    "bi_tag = bt(cess_sents[:train])"
   ]
  },
  {
   "cell_type": "code",
   "execution_count": 63,
   "metadata": {
    "collapsed": false
   },
   "outputs": [
    {
     "name": "stdout",
     "output_type": "stream",
     "text": [
      "0.109240687679\n"
     ]
    },
    {
     "data": {
      "text/plain": [
       "[('El', u'da0ms0'), ('perro', None), ('es', None), ('bonito', None)]"
      ]
     },
     "execution_count": 63,
     "metadata": {},
     "output_type": "execute_result"
    }
   ],
   "source": [
    "# Evaluates on testing data ramaining 10%\n",
    "print bi_tag.evaluate(cess_sents[train+1:])\n",
    "\n",
    "# Using the tagger\n",
    "bi_tag.tag(sentence.split(\" \"))"
   ]
  },
  {
   "cell_type": "code",
   "execution_count": 32,
   "metadata": {
    "collapsed": false
   },
   "outputs": [],
   "source": [
    "# Saving tagger\n",
    "from pickle import dump\n",
    "output = open('bi_spa.pkl', 'wb')\n",
    "dump(bi_tag, output, -1)\n",
    "output.close()"
   ]
  },
  {
   "cell_type": "markdown",
   "metadata": {},
   "source": [
    "### Automatic Tagging\n",
    "#### The default tagger"
   ]
  },
  {
   "cell_type": "code",
   "execution_count": 5,
   "metadata": {
    "collapsed": true
   },
   "outputs": [],
   "source": [
    "from nltk.corpus import brown"
   ]
  },
  {
   "cell_type": "code",
   "execution_count": 4,
   "metadata": {
    "collapsed": false
   },
   "outputs": [
    {
     "data": {
      "text/plain": [
       "u'NN'"
      ]
     },
     "execution_count": 4,
     "metadata": {},
     "output_type": "execute_result"
    }
   ],
   "source": [
    "tags = [tag for (word,tag) in brown.tagged_words(categories='news')]\n",
    "nltk.FreqDist(tags).max()"
   ]
  },
  {
   "cell_type": "code",
   "execution_count": 5,
   "metadata": {
    "collapsed": true
   },
   "outputs": [],
   "source": [
    "raw = \"I do not like green eggs and ham, I don not like them Sam I am\"\n",
    "tokens = nltk.word_tokenize(raw)\n",
    "default_tagger = nltk.DefaultTagger('NN')"
   ]
  },
  {
   "cell_type": "code",
   "execution_count": 7,
   "metadata": {
    "collapsed": false
   },
   "outputs": [
    {
     "data": {
      "text/plain": [
       "[('I', 'NN'),\n",
       " ('do', 'NN'),\n",
       " ('not', 'NN'),\n",
       " ('like', 'NN'),\n",
       " ('green', 'NN'),\n",
       " ('eggs', 'NN'),\n",
       " ('and', 'NN'),\n",
       " ('ham', 'NN'),\n",
       " (',', 'NN'),\n",
       " ('I', 'NN'),\n",
       " ('don', 'NN'),\n",
       " ('not', 'NN'),\n",
       " ('like', 'NN'),\n",
       " ('them', 'NN'),\n",
       " ('Sam', 'NN'),\n",
       " ('I', 'NN'),\n",
       " ('am', 'NN')]"
      ]
     },
     "execution_count": 7,
     "metadata": {},
     "output_type": "execute_result"
    }
   ],
   "source": [
    "default_tagger.tag(tokens)"
   ]
  },
  {
   "cell_type": "code",
   "execution_count": 10,
   "metadata": {
    "collapsed": false
   },
   "outputs": [
    {
     "data": {
      "text/plain": [
       "0.13089484257215028"
      ]
     },
     "execution_count": 10,
     "metadata": {},
     "output_type": "execute_result"
    }
   ],
   "source": [
    "brown_tagged_sens = brown.tagged_sents(categories = 'news')\n",
    "default_tagger.evaluate(brown_tagged_sens)"
   ]
  },
  {
   "cell_type": "markdown",
   "metadata": {},
   "source": [
    "#### The Regular Expressioon Tagger"
   ]
  },
  {
   "cell_type": "code",
   "execution_count": 13,
   "metadata": {
    "collapsed": true
   },
   "outputs": [],
   "source": [
    "patterns = [\n",
    "    (r'.*ing$', 'VBG'),  # gerunds\n",
    "    (r'.*ed$', 'VBD'),   # single past\n",
    "    (r'.*es$', 'VBZ'),   # Nouns (default) \n",
    "    (r'.*ould$', 'MD'), # Modals\n",
    "    (r'.*\\'s$', 'NN$'),  # Possesive Nouns\n",
    "    (r'.*s$', 'NNS'),    # Pluran Nouns\n",
    "    (r'.^-?[0-9]+(.[0-9]+)?$', 'CD'), # cardinal numbers\n",
    "    (r'.*', 'NN') # Nouns (default) \n",
    "]"
   ]
  },
  {
   "cell_type": "code",
   "execution_count": 14,
   "metadata": {
    "collapsed": false
   },
   "outputs": [
    {
     "data": {
      "text/plain": [
       "0.1914195357718241"
      ]
     },
     "execution_count": 14,
     "metadata": {},
     "output_type": "execute_result"
    }
   ],
   "source": [
    "regexp_tagger = nltk.RegexpTagger(patterns)\n",
    "regexp_tagger.evaluate(brown_tagged_sens)"
   ]
  },
  {
   "cell_type": "markdown",
   "metadata": {},
   "source": [
    "#### The Lookup Tagger"
   ]
  },
  {
   "cell_type": "code",
   "execution_count": 36,
   "metadata": {
    "collapsed": false
   },
   "outputs": [
    {
     "data": {
      "text/plain": [
       "0.45578495136941344"
      ]
     },
     "execution_count": 36,
     "metadata": {},
     "output_type": "execute_result"
    }
   ],
   "source": [
    "fd = nltk.FreqDist(brown.words(categories='news'))\n",
    "cfd = nltk.ConditionalFreqDist(brown.tagged_words(categories='news'))\n",
    "#ordered_fd = nltk.FreqDist(reversed(sorted(fd.iteritems(), key=lambda (k,v): (v,k))))\n",
    "most_freq_words = [word for (word, freq) in fd.most_common(100)]\n",
    "likely_tags = dict((word, cfd[word].max()) for word in most_freq_words)\n",
    "baseline_tagger = nltk.UnigramTagger(model=likely_tags)\n",
    "baseline_tagger.evaluate(brown_tagged_sens)"
   ]
  },
  {
   "cell_type": "markdown",
   "metadata": {},
   "source": [
    "#### Backoff"
   ]
  },
  {
   "cell_type": "code",
   "execution_count": 37,
   "metadata": {
    "collapsed": true
   },
   "outputs": [],
   "source": [
    "baseline_tagger = nltk.UnigramTagger(model = likely_tags, backoff=nltk.DefaultTagger('NN'))"
   ]
  },
  {
   "cell_type": "code",
   "execution_count": 14,
   "metadata": {
    "collapsed": true
   },
   "outputs": [],
   "source": [
    "def performance(cfd, wordlist):\n",
    "    lt = dict((word, cfd[word].max()) for word in wordlist)\n",
    "    baseline_tagger = nltk.UnigramTagger(model=lt, backoff=nltk.DefaultTagger('NN'))\n",
    "    return baseline_tagger.evaluate(brown.tagged_sents(categories='news'))\n",
    "\n",
    "def display():\n",
    "    words_by_freq = list(nltk.FreqDist(brown.words(categories='news')))\n",
    "    cfd = nltk.ConditionalFreqDist(brown.tagged_words(categories='news'))\n",
    "    sizes = 2 ** pylab.arange(15)\n",
    "    perfs = [performance(cfd, words_by_freq[:size]) for size in sizes]\n",
    "    plot(sizes, perfs, '-bo')\n",
    "    title('Lookup Tagger Performance with Varying Model Size')\n",
    "    xlabel('Model Size')\n",
    "    ylabel('Performance')"
   ]
  },
  {
   "cell_type": "code",
   "execution_count": 13,
   "metadata": {
    "collapsed": false
   },
   "outputs": [
    {
     "ename": "TypeError",
     "evalue": "bad operand type for unary -: 'str'",
     "output_type": "error",
     "traceback": [
      "\u001b[0;31m---------------------------------------------------------------------------\u001b[0m",
      "\u001b[0;31mTypeError\u001b[0m                                 Traceback (most recent call last)",
      "\u001b[0;32m<ipython-input-13-bfe6f1d72895>\u001b[0m in \u001b[0;36m<module>\u001b[0;34m()\u001b[0m\n\u001b[0;32m----> 1\u001b[0;31m \u001b[0mdisplay\u001b[0m\u001b[0;34m(\u001b[0m\u001b[0;34m)\u001b[0m\u001b[0;34m\u001b[0m\u001b[0m\n\u001b[0m",
      "\u001b[0;32m<ipython-input-12-951d6477922a>\u001b[0m in \u001b[0;36mdisplay\u001b[0;34m()\u001b[0m\n\u001b[1;32m      9\u001b[0m     \u001b[0msizes\u001b[0m \u001b[0;34m=\u001b[0m \u001b[0;36m2\u001b[0m \u001b[0;34m**\u001b[0m \u001b[0mpylab\u001b[0m\u001b[0;34m.\u001b[0m\u001b[0marange\u001b[0m\u001b[0;34m(\u001b[0m\u001b[0;36m15\u001b[0m\u001b[0;34m)\u001b[0m\u001b[0;34m\u001b[0m\u001b[0m\n\u001b[1;32m     10\u001b[0m     \u001b[0mperfs\u001b[0m \u001b[0;34m=\u001b[0m \u001b[0;34m[\u001b[0m\u001b[0mperformance\u001b[0m\u001b[0;34m(\u001b[0m\u001b[0mcfd\u001b[0m\u001b[0;34m,\u001b[0m \u001b[0mwords_by_freq\u001b[0m\u001b[0;34m[\u001b[0m\u001b[0;34m:\u001b[0m\u001b[0msize\u001b[0m\u001b[0;34m]\u001b[0m\u001b[0;34m)\u001b[0m \u001b[0;32mfor\u001b[0m \u001b[0msize\u001b[0m \u001b[0;32min\u001b[0m \u001b[0msizes\u001b[0m\u001b[0;34m]\u001b[0m\u001b[0;34m\u001b[0m\u001b[0m\n\u001b[0;32m---> 11\u001b[0;31m     \u001b[0mplot\u001b[0m\u001b[0;34m(\u001b[0m\u001b[0msizes\u001b[0m\u001b[0;34m,\u001b[0m \u001b[0mperfs\u001b[0m\u001b[0;34m,\u001b[0m \u001b[0;34m-\u001b[0m\u001b[0;34m'bo'\u001b[0m\u001b[0;34m)\u001b[0m\u001b[0;34m\u001b[0m\u001b[0m\n\u001b[0m\u001b[1;32m     12\u001b[0m     \u001b[0mtitle\u001b[0m\u001b[0;34m(\u001b[0m\u001b[0;34m'Lookup Tagger Performance with Varying Model Size'\u001b[0m\u001b[0;34m)\u001b[0m\u001b[0;34m\u001b[0m\u001b[0m\n\u001b[1;32m     13\u001b[0m     \u001b[0mxlabel\u001b[0m\u001b[0;34m(\u001b[0m\u001b[0;34m'Model Size'\u001b[0m\u001b[0;34m)\u001b[0m\u001b[0;34m\u001b[0m\u001b[0m\n",
      "\u001b[0;31mTypeError\u001b[0m: bad operand type for unary -: 'str'"
     ]
    }
   ],
   "source": [
    "display() "
   ]
  },
  {
   "cell_type": "markdown",
   "metadata": {
    "collapsed": true
   },
   "source": [
    "#### Evaluation\n",
    "\n",
    "In fact, evaluating the performance of such tools is a central theme in NLP. Recall the processing pipeline, any errors in the output of one module are greatly multiplied in the downstream modules.\n",
    "\n",
    "We evaluate the performance of a tagger relative to the tags a human expert would assign. Since we usually don't have access to an expert and imartial human judge, we make doinstead with **gold standard** test data.\n",
    "\n",
    "Of course, the humans who designed and carried out the original gold standard annotation were only human. Further analysis migh show mistakes in the gold standard, or may eventually lead to a revised tagset and more elaborate guidelines. Nevertherless, the gold standard is by definition \"correct\"as far as the evaluation of an automatic tagger is concerned.\n",
    "\n",
    "Developing an annotated corpus is a major undertaking. Apart from the data, it generates sophisticated tools, documentation, and practices for ensuring high-quality annotation. The tagsets and other coding schemes inevitably depend on some theoretical position that is not shared by all. However, corpus creators often go to great lengths to make their work as theory-neutral as possible in order to maximizae the usefulness of their work."
   ]
  },
  {
   "cell_type": "markdown",
   "metadata": {
    "collapsed": true
   },
   "source": [
    "### N-gram Tagging\n",
    "#### Unigram Tagging"
   ]
  },
  {
   "cell_type": "code",
   "execution_count": 15,
   "metadata": {
    "collapsed": false
   },
   "outputs": [
    {
     "data": {
      "text/plain": [
       "[(u'Various', u'JJ'),\n",
       " (u'of', u'IN'),\n",
       " (u'the', u'AT'),\n",
       " (u'apartments', u'NNS'),\n",
       " (u'are', u'BER'),\n",
       " (u'of', u'IN'),\n",
       " (u'the', u'AT'),\n",
       " (u'terrace', u'NN'),\n",
       " (u'type', u'NN'),\n",
       " (u',', u','),\n",
       " (u'being', u'BEG'),\n",
       " (u'on', u'IN'),\n",
       " (u'the', u'AT'),\n",
       " (u'ground', u'NN'),\n",
       " (u'floor', u'NN'),\n",
       " (u'so', u'QL'),\n",
       " (u'that', u'CS'),\n",
       " (u'entrance', u'NN'),\n",
       " (u'is', u'BEZ'),\n",
       " (u'direct', u'JJ'),\n",
       " (u'.', u'.')]"
      ]
     },
     "execution_count": 15,
     "metadata": {},
     "output_type": "execute_result"
    }
   ],
   "source": [
    "from nltk.corpus import brown\n",
    "brown_tagged_sents = brown.tagged_sents(categories='news')\n",
    "brown_sents = brown.sents(categories='news')\n",
    "unigram_tagger = nltk.UnigramTagger(brown_tagged_sents)\n",
    "unigram_tagger.tag(brown_sents[2007])"
   ]
  },
  {
   "cell_type": "code",
   "execution_count": 16,
   "metadata": {
    "collapsed": false
   },
   "outputs": [
    {
     "data": {
      "text/plain": [
       "0.9349006503968017"
      ]
     },
     "execution_count": 16,
     "metadata": {},
     "output_type": "execute_result"
    }
   ],
   "source": [
    "unigram_tagger.evaluate(brown_tagged_sents)"
   ]
  },
  {
   "cell_type": "markdown",
   "metadata": {},
   "source": [
    "### Separating the Training and Testing Data"
   ]
  },
  {
   "cell_type": "code",
   "execution_count": 17,
   "metadata": {
    "collapsed": false
   },
   "outputs": [
    {
     "data": {
      "text/plain": [
       "0.8120203329014253"
      ]
     },
     "execution_count": 17,
     "metadata": {},
     "output_type": "execute_result"
    }
   ],
   "source": [
    "size = int(len(brown_tagged_sents) * 0.9)\n",
    "train_sents = brown_tagged_sents[:size]\n",
    "test_sents = brown_tagged_sents[size:]\n",
    "unigram_tagger = nltk.UnigramTagger(train_sents)\n",
    "unigram_tagger.evaluate(test_sents)"
   ]
  },
  {
   "cell_type": "markdown",
   "metadata": {},
   "source": [
    "### General N-Gram Tagging"
   ]
  },
  {
   "cell_type": "code",
   "execution_count": 18,
   "metadata": {
    "collapsed": false
   },
   "outputs": [
    {
     "data": {
      "text/plain": [
       "[(u'Various', u'JJ'),\n",
       " (u'of', u'IN'),\n",
       " (u'the', u'AT'),\n",
       " (u'apartments', u'NNS'),\n",
       " (u'are', u'BER'),\n",
       " (u'of', u'IN'),\n",
       " (u'the', u'AT'),\n",
       " (u'terrace', u'NN'),\n",
       " (u'type', u'NN'),\n",
       " (u',', u','),\n",
       " (u'being', u'BEG'),\n",
       " (u'on', u'IN'),\n",
       " (u'the', u'AT'),\n",
       " (u'ground', u'NN'),\n",
       " (u'floor', u'NN'),\n",
       " (u'so', u'CS'),\n",
       " (u'that', u'CS'),\n",
       " (u'entrance', u'NN'),\n",
       " (u'is', u'BEZ'),\n",
       " (u'direct', u'JJ'),\n",
       " (u'.', u'.')]"
      ]
     },
     "execution_count": 18,
     "metadata": {},
     "output_type": "execute_result"
    }
   ],
   "source": [
    "bigram_tagger = nltk.BigramTagger(train_sents)\n",
    "bigram_tagger.tag(brown_sents[2007])"
   ]
  },
  {
   "cell_type": "code",
   "execution_count": 20,
   "metadata": {
    "collapsed": false
   },
   "outputs": [
    {
     "data": {
      "text/plain": [
       "[((u'But', u'CC'), None),\n",
       " ((u'in', u'IN'), None),\n",
       " ((u'all', u'ABN'), None),\n",
       " ((u'its', u'PP$'), None),\n",
       " ((u'175', u'CD'), None),\n",
       " ((u'years', u'NNS'), None),\n",
       " ((u',', u','), None),\n",
       " ((u'not', u'*'), None),\n",
       " ((u'a', u'AT'), None),\n",
       " ((u'single', u'AP'), None),\n",
       " ((u'Negro', u'NP'), None),\n",
       " ((u'student', u'NN'), None),\n",
       " ((u'has', u'HVZ'), None),\n",
       " ((u'entered', u'VBN'), None),\n",
       " ((u'its', u'PP$'), None),\n",
       " ((u'classrooms', u'NNS'), None),\n",
       " ((u'.', u'.'), None)]"
      ]
     },
     "execution_count": 20,
     "metadata": {},
     "output_type": "execute_result"
    }
   ],
   "source": [
    "unseen_sent = test_sents[0]\n",
    "bigram_tagger.tag(unseen_sent)"
   ]
  },
  {
   "cell_type": "code",
   "execution_count": 21,
   "metadata": {
    "collapsed": false
   },
   "outputs": [
    {
     "data": {
      "text/plain": [
       "0.10276088906608193"
      ]
     },
     "execution_count": 21,
     "metadata": {},
     "output_type": "execute_result"
    }
   ],
   "source": [
    "bigram_tagger.evaluate(test_sents)"
   ]
  },
  {
   "cell_type": "markdown",
   "metadata": {},
   "source": [
    "As n gets larger, the specifity of the contexts increases, as does the chance that the data we wish to tag contains contexts that were not present in the training data. This is know as the sparse data problem, and is quite pervasive in NLP. As a consequence there is a trade-off between the accuracy and the coverage of our results (and this is related to the **precision/recall trade-off** on information retrieval)\n",
    "\n",
    "N-gram taggers should not consider context that crosses a sentence boundary. Accordingle, NLTK taggers are designed to work with lists of sentences, where each sentence is a list of words."
   ]
  },
  {
   "cell_type": "markdown",
   "metadata": {},
   "source": [
    "### Combining Taggers\n",
    "\n",
    "1. Try tagging the token with the bigram tagger\n",
    "2. If the bigram tagger is unabel to find a tag for the token, try the unigram tagger\n",
    "3. If the unigram tagger is also unable to find a tag, use a default tagger"
   ]
  },
  {
   "cell_type": "code",
   "execution_count": 22,
   "metadata": {
    "collapsed": false
   },
   "outputs": [
    {
     "data": {
      "text/plain": [
       "0.844911791089405"
      ]
     },
     "execution_count": 22,
     "metadata": {},
     "output_type": "execute_result"
    }
   ],
   "source": [
    "t0 = nltk.DefaultTagger('NN')\n",
    "t1 = nltk.UnigramTagger(train_sents, backoff=t0)\n",
    "t2 = nltk.BigramTagger(train_sents, backoff=t1)\n",
    "t2.evaluate(test_sents)"
   ]
  },
  {
   "cell_type": "markdown",
   "metadata": {},
   "source": [
    "We can further specify that a tagger needs to see more than one instance of a context in order to retain in it."
   ]
  },
  {
   "cell_type": "code",
   "execution_count": 24,
   "metadata": {
    "collapsed": false
   },
   "outputs": [
    {
     "data": {
      "text/plain": [
       "0.7907903917073656"
      ]
     },
     "execution_count": 24,
     "metadata": {},
     "output_type": "execute_result"
    }
   ],
   "source": [
    "t0 = nltk.DefaultTagger('NN')\n",
    "t1 = nltk.UnigramTagger(train_sents, cutoff=2, backoff=t0)\n",
    "t2 = nltk.BigramTagger(train_sents,cutoff=2, backoff=t1)\n",
    "t2.evaluate(test_sents)"
   ]
  },
  {
   "cell_type": "code",
   "execution_count": 26,
   "metadata": {
    "collapsed": false
   },
   "outputs": [
    {
     "data": {
      "text/plain": [
       "0.8424200139539519"
      ]
     },
     "execution_count": 26,
     "metadata": {},
     "output_type": "execute_result"
    }
   ],
   "source": [
    "t0 = nltk.DefaultTagger('NN')\n",
    "t1 = nltk.UnigramTagger(train_sents, backoff=t0)\n",
    "t2 = nltk.BigramTagger(train_sents, backoff=t1)\n",
    "t3 = nltk.TrigramTagger(train_sents, backoff=t2)\n",
    "t3.evaluate(test_sents)"
   ]
  },
  {
   "cell_type": "markdown",
   "metadata": {},
   "source": [
    "How can we do better with unknown words, or **out-of-vocabulary** items?\n",
    "\n",
    "A useful method to tag unknown words based on contexts is to limit the vocabulary oof a tagger to the most frequen n words, and to replace every other word with a special word UNK. During training, a unigram tagger will problably learn that UNK is usally a noun. However, the n-gram taggers will detect contexts in which it has some other tag."
   ]
  },
  {
   "cell_type": "markdown",
   "metadata": {},
   "source": [
    "<a id=\"brill\"></a>\n",
    "### Transformation-Based Tagging\n",
    "\n",
    "A potential issue with n-gram taggers is the size of their n-gram table (or language model). If tagging is to be employed in a variety of language technologies deployed on mobile computing devices, it is important to strinke a balance between model size and tagger performacnce. An n-gram tagger with backoff may store trigram and bigram tables, which are large, sparse arrays that may have hundreds of millions of entries.\n",
    "\n",
    "A second issue concerns context. The only information an n-gram tagger oconsiders from prior context is tags, even though words themselves migh be a useful source of information. It is simply impractical for n-gram models to be conditioned on the identities of words in the context. In this sectionm we wxamine **Brill tagging**, an inductive tagging method which performs very well using models that are only tiny fraction of the size of n-gram taggers.\n",
    "\n",
    "Brill tagging is a kind of **transformation-based learning**, named after irs inventor. The genreal idea is very simple: guess the taf of each word, then go back and fix the mistakes. In this way, a Brill tagger successively transforms a bad tagging og a text into a better one. As with n-gram tagging, this is a **supervised learning method**, since we need annotated training daata to figure out wheher the tagger's guess is a mistake or not. However, unlike n-gram tagging, it does not count observations but complies a list of transformational correction rules.\n",
    "\n",
    "Thre process of Brill tagging is usually explained by analogy with painting. Suppose we were painting a tree, with all its details of boughs, branches, twigs, and leaves, agains a uniform sky-blue backgroud. Instead of painting the tree firstand then traying to paint blue in the gaps, it is simpler to paint the whole canvas blue, then \"correct\" the tree section by over-painting the blue background. In the same fashion, we might paint the trunk a uniform bowen before going back to over-painting further details with even finer brushes.\n",
    "\n",
    "Rules are generated from a template of the following form: \"replate C1 with T2 in the context of C\". During its training phase, the tagger guesses values for T1, T2, and C, to create thousands of candidate rules. Each rule is scored according to its net benefit: the number of incorrecting that it corrects, less the number of correct tags it incorrectly modifies.\n",
    "\n",
    "**Brill taggers** have another intestegin property: the rules are linguistically interpretable. Compraing with n-gram gaggers we cannot learn much from direct inspection of such a table, in comparison to rules learnesd by the Brill tagger."
   ]
  },
  {
   "cell_type": "markdown",
   "metadata": {},
   "source": [
    "### How to Determine the Category of a Word\n",
    "\n",
    "In general, linguists use **morphological, syntactic, and semantic clues** to determine the category of a word. Common tagsets often capture **morphosyntactic** information, that is, information about the kind of morphological markings that words receive by vierue of their synstactic role. The Brown tagset captues these distinctions.\n",
    "\n",
    "Most part-of-speech tagsets make use of the seme basic categories, such as noun, verb, adjective, and preposition. However, tagsets differ both in how finely they divide words into categories, and how they define their categories."
   ]
  },
  {
   "cell_type": "markdown",
   "metadata": {},
   "source": [
    "### New Words\n",
    "\n",
    "Names are **open class**, by contrat, prepositons are regarded as a **closed class**."
   ]
  },
  {
   "cell_type": "markdown",
   "metadata": {},
   "source": [
    "#### Similar words"
   ]
  },
  {
   "cell_type": "code",
   "execution_count": 20,
   "metadata": {
    "collapsed": false
   },
   "outputs": [
    {
     "name": "stdout",
     "output_type": "stream",
     "text": [
      "man time day year car moment world family house country child boy\n",
      "state job way war girl place word work\n"
     ]
    }
   ],
   "source": [
    "text = nltk.Text(word.lower() for word in nltk.corpus.brown.words())\n",
    "text.similar('woman')"
   ]
  },
  {
   "cell_type": "code",
   "execution_count": 21,
   "metadata": {
    "collapsed": false
   },
   "outputs": [
    {
     "name": "stdout",
     "output_type": "stream",
     "text": [
      "made said put done seen had found left given heard brought got been\n",
      "was set told took in felt that\n"
     ]
    }
   ],
   "source": [
    "text.similar('bought')"
   ]
  },
  {
   "cell_type": "code",
   "execution_count": 22,
   "metadata": {
    "collapsed": false
   },
   "outputs": [
    {
     "name": "stdout",
     "output_type": "stream",
     "text": [
      "in on to of and for with from at by that into as up out down through\n",
      "is all about\n"
     ]
    }
   ],
   "source": [
    "text.similar('over')"
   ]
  },
  {
   "cell_type": "code",
   "execution_count": 23,
   "metadata": {
    "collapsed": false
   },
   "outputs": [
    {
     "name": "stdout",
     "output_type": "stream",
     "text": [
      "a his this their its her an that our any all one these my in your no\n",
      "some other and\n"
     ]
    }
   ],
   "source": [
    "text.similar('the')"
   ]
  },
  {
   "cell_type": "code",
   "execution_count": 33,
   "metadata": {
    "collapsed": false
   },
   "outputs": [
    {
     "name": "stdout",
     "output_type": "stream",
     "text": [
      "fly\n",
      "NN\n"
     ]
    }
   ],
   "source": [
    "tagged_token = nltk.tag.str2tuple('fly/NN')\n",
    "tagged_token\n",
    "print tagged_token[0]\n",
    "print tagged_token[1]"
   ]
  },
  {
   "cell_type": "code",
   "execution_count": 34,
   "metadata": {
    "collapsed": false
   },
   "outputs": [
    {
     "data": {
      "text/plain": [
       "[('\\nThe', 'AT'),\n",
       " ('grand', 'JJ'),\n",
       " ('jury', 'NN'),\n",
       " ('commented', 'VBD'),\n",
       " ('on', 'IN'),\n",
       " ('a', 'AT'),\n",
       " ('number', 'NN'),\n",
       " ('of/IN\\nother', 'AP'),\n",
       " ('topics', 'NNS'),\n",
       " (',', ','),\n",
       " ('AMONG', 'IN'),\n",
       " ('them', 'PPO'),\n",
       " ('the', 'AT'),\n",
       " ('Atlanta', 'NP'),\n",
       " ('and/CC\\nFulton', 'NP-TL'),\n",
       " ('County', 'NN-TL'),\n",
       " ('purchasing', 'VBG'),\n",
       " ('departments', 'NNS'),\n",
       " ('which', 'WDT'),\n",
       " ('it/PPS\\nsaid', 'VBD'),\n",
       " ('``', '``'),\n",
       " ('ARE', 'BER'),\n",
       " ('well', 'QL'),\n",
       " ('operated', 'VBN'),\n",
       " ('and', 'CC'),\n",
       " ('follow', 'VB'),\n",
       " ('generally', 'RB'),\n",
       " ('\\naccepted', 'VBN'),\n",
       " ('practices', 'NNS'),\n",
       " ('which', 'WDT'),\n",
       " ('inure', 'VB'),\n",
       " ('to', 'IN'),\n",
       " ('the', 'AT'),\n",
       " ('best/JJT\\ninterest', 'NN'),\n",
       " ('of', 'IN'),\n",
       " ('both', 'ABX'),\n",
       " ('governments', 'NNS'),\n",
       " (\"''\", \"''\"),\n",
       " ('.', '.\\n')]"
      ]
     },
     "execution_count": 34,
     "metadata": {},
     "output_type": "execute_result"
    }
   ],
   "source": [
    "sent = '''\n",
    "The/AT grand/JJ jury/NN commented/VBD on/IN a/AT number/NN of/IN\n",
    "other/AP topics/NNS ,/, AMONG/IN them/PPO the/AT Atlanta/NP and/CC\n",
    "Fulton/NP-tl County/NN-tl purchasing/VBG departments/NNS which/WDT it/PPS\n",
    "said/VBD ``/`` ARE/BER well/QL operated/VBN and/CC follow/VB generally/RB \n",
    "accepted/VBN practices/NNS which/WDT inure/VB to/IN the/AT best/JJT\n",
    "interest/NN of/IN both/ABX governments/NNS ''/'' ./.\n",
    "'''\n",
    "\n",
    "[nltk.tag.str2tuple(t) for t in sent.split(' ')]"
   ]
  },
  {
   "cell_type": "code",
   "execution_count": 35,
   "metadata": {
    "collapsed": false
   },
   "outputs": [
    {
     "data": {
      "text/plain": [
       "[(u'The', u'AT'), (u'Fulton', u'NP-TL'), ...]"
      ]
     },
     "execution_count": 35,
     "metadata": {},
     "output_type": "execute_result"
    }
   ],
   "source": [
    "nltk.corpus.brown.tagged_words()"
   ]
  },
  {
   "cell_type": "code",
   "execution_count": 36,
   "metadata": {
    "collapsed": false
   },
   "outputs": [
    {
     "data": {
      "text/plain": [
       "[(u'Pierre', u'NNP'), (u'Vinken', u'NNP'), ...]"
      ]
     },
     "execution_count": 36,
     "metadata": {},
     "output_type": "execute_result"
    }
   ],
   "source": [
    "nltk.corpus.treebank.tagged_words()"
   ]
  },
  {
   "cell_type": "code",
   "execution_count": 41,
   "metadata": {
    "collapsed": false
   },
   "outputs": [
    {
     "data": {
      "text/plain": [
       "[(u'The', u'AT'), (u'Fulton', u'NP-TL'), ...]"
      ]
     },
     "execution_count": 41,
     "metadata": {},
     "output_type": "execute_result"
    }
   ],
   "source": [
    "nltk.corpus.brown.tagged_words()"
   ]
  },
  {
   "cell_type": "code",
   "execution_count": 48,
   "metadata": {
    "collapsed": false
   },
   "outputs": [
    {
     "data": {
      "text/plain": [
       "[u'ADV',\n",
       " u'NOUN',\n",
       " u'ADP',\n",
       " u'PRON',\n",
       " u'DET',\n",
       " u'.',\n",
       " u'PRT',\n",
       " u'VERB',\n",
       " u'X',\n",
       " u'NUM',\n",
       " u'CONJ',\n",
       " u'ADJ']"
      ]
     },
     "execution_count": 48,
     "metadata": {},
     "output_type": "execute_result"
    }
   ],
   "source": [
    "from nltk.corpus import brown\n",
    "brown_news_tagged = brown.tagged_words(categories = 'news', tagset='universal')\n",
    "tag_fd = nltk.FreqDist(tag for (word, tag) in brown_news_tagged)\n",
    "tag_fd.keys()"
   ]
  },
  {
   "cell_type": "code",
   "execution_count": 49,
   "metadata": {
    "collapsed": false
   },
   "outputs": [
    {
     "data": {
      "image/png": "[encoded data removed]",
      "text/plain": [
       "<matplotlib.figure.Figure at 0x121c415d0>"
      ]
     },
     "metadata": {},
     "output_type": "display_data"
    }
   ],
   "source": [
    "tag_fd.plot(cumulative = True)"
   ]
  },
  {
   "cell_type": "code",
   "execution_count": 58,
   "metadata": {
    "collapsed": false
   },
   "outputs": [],
   "source": [
    "def findtags(tag_prefix, tagged_text):\n",
    "    cfd = nltk.ConditionalFreqDist((tag, word) for (word, tag) in tagged_text if tag.startswith(tag_prefix))\n",
    "    return dict((tag, cfd[tag].keys()[:5]) for tag in cfd.conditions())"
   ]
  },
  {
   "cell_type": "code",
   "execution_count": 62,
   "metadata": {
    "collapsed": false
   },
   "outputs": [
    {
     "name": "stdout",
     "output_type": "stream",
     "text": [
      "NN [u'inning', u'pardon', u'sunbonnet', u'temperament', u'hitch']\n",
      "NN$ [u\"junior's\", u\"player's\", u\"wife's\", u\"layman's\", u\"coach's\"]\n",
      "NN$-HL [u\"Golf's\", u\"Navy's\"]\n",
      "NN$-TL [u\"House's\", u\"Art's\", u\"University's\", u\"U.'s\", u\"Department's\"]\n",
      "NN-HL [u'son', u'help', u'show', u'lack', u'rest']\n",
      "NN-NC [u'eva', u'ova', u'aya']\n",
      "NN-TL [u'Communisn', u'Communism', u'Secretary-General', u'Monthly', u'Self']\n",
      "NN-TL-HL [u'City', u'Commissioner', u'Grove', u'House', u'Oak']\n",
      "NNS [u'wetlands', u'hats', u'facilities', u'woods', u'$12.50']\n",
      "NNS$ [u\"steelmakers'\", u\"taxpayers'\", u\"teammates'\", u\"bishops'\", u\"owners'\"]\n",
      "NNS$-HL [u\"Dealers'\", u\"Idols'\"]\n",
      "NNS$-TL [u\"Officers'\", u\"States'\", u\"Bombers'\", u\"Falcons'\", u\"Princes'\"]\n",
      "NNS-HL [u'years', u'idols', u'Creations', u'thanks', u'centers']\n",
      "NNS-TL [u'Gables', u'Broncos', u'Hills', u'Workers', u'Ministers']\n",
      "NNS-TL-HL [u'Nations']\n"
     ]
    }
   ],
   "source": [
    "tagdict = findtags('NN', nltk.corpus.brown.tagged_words(categories='news'))\n",
    "for tag in sorted(tagdict):\n",
    "    print tag, tagdict[tag]"
   ]
  },
  {
   "cell_type": "markdown",
   "metadata": {},
   "source": [
    "### Classifying: finding patterns\n",
    "\n",
    "The first step in creating a classifier is deciding what features of the input are relevant, and how to encode those features. ** Following extractor**"
   ]
  },
  {
   "cell_type": "code",
   "execution_count": 66,
   "metadata": {
    "collapsed": true
   },
   "outputs": [],
   "source": [
    "def gender_features(word):\n",
    "    return {'last_letter': word[-1]}"
   ]
  },
  {
   "cell_type": "code",
   "execution_count": 67,
   "metadata": {
    "collapsed": false
   },
   "outputs": [
    {
     "data": {
      "text/plain": [
       "{'last_letter': 'k'}"
      ]
     },
     "execution_count": 67,
     "metadata": {},
     "output_type": "execute_result"
    }
   ],
   "source": [
    "gender_features('shrek')"
   ]
  },
  {
   "cell_type": "markdown",
   "metadata": {},
   "source": [
    "Most classification methods require that features be encoded using simple value types, such as Booleans, numbers, and strings. But note that just because a feature has a simple type, this does no t necessarily mean that the feature's value is simple to express or compute; indeed, it is even possible to use very complex and informative values, such as the output of a second supervised classifier, as features."
   ]
  },
  {
   "cell_type": "code",
   "execution_count": 68,
   "metadata": {
    "collapsed": true
   },
   "outputs": [],
   "source": [
    "from nltk.corpus import names\n",
    "import random\n",
    "names = ([(name, 'male') for name in names.words('male.txt')] + \n",
    "        [(name, 'female') for name in names.words('female.txt')])\n",
    "random.shuffle(names)"
   ]
  },
  {
   "cell_type": "code",
   "execution_count": 69,
   "metadata": {
    "collapsed": true
   },
   "outputs": [],
   "source": [
    "featuresets = [(gender_features(n), g) for (n,g) in names]\n",
    "train_set, test_set = featuresets[500: ], featuresets[:500]\n",
    "classifier = nltk.NaiveBayesClassifier.train(train_set)"
   ]
  },
  {
   "cell_type": "code",
   "execution_count": 70,
   "metadata": {
    "collapsed": false
   },
   "outputs": [
    {
     "data": {
      "text/plain": [
       "'male'"
      ]
     },
     "execution_count": 70,
     "metadata": {},
     "output_type": "execute_result"
    }
   ],
   "source": [
    "classifier.classify(gender_features('Neo'))"
   ]
  },
  {
   "cell_type": "code",
   "execution_count": 71,
   "metadata": {
    "collapsed": false
   },
   "outputs": [
    {
     "data": {
      "text/plain": [
       "'female'"
      ]
     },
     "execution_count": 71,
     "metadata": {},
     "output_type": "execute_result"
    }
   ],
   "source": [
    "classifier.classify(gender_features('Trinity'))"
   ]
  },
  {
   "cell_type": "code",
   "execution_count": 72,
   "metadata": {
    "collapsed": false
   },
   "outputs": [
    {
     "name": "stdout",
     "output_type": "stream",
     "text": [
      "0.756\n"
     ]
    }
   ],
   "source": [
    "print nltk.classify.accuracy(classifier, test_set)"
   ]
  },
  {
   "cell_type": "code",
   "execution_count": 73,
   "metadata": {
    "collapsed": false
   },
   "outputs": [
    {
     "name": "stdout",
     "output_type": "stream",
     "text": [
      "Most Informative Features\n",
      "             last_letter = u'k'             male : female =     46.0 : 1.0\n",
      "             last_letter = u'a'           female : male   =     32.6 : 1.0\n",
      "             last_letter = u'f'             male : female =     16.7 : 1.0\n",
      "             last_letter = u'p'             male : female =     12.6 : 1.0\n",
      "             last_letter = u'v'             male : female =     11.2 : 1.0\n"
     ]
    }
   ],
   "source": [
    "classifier.show_most_informative_features(5)"
   ]
  },
  {
   "cell_type": "markdown",
   "metadata": {},
   "source": [
    "These ratios are known as **likelihood ratios**"
   ]
  },
  {
   "cell_type": "code",
   "execution_count": 84,
   "metadata": {
    "collapsed": false
   },
   "outputs": [],
   "source": [
    "def complex_gender_features(name):\n",
    "    return {'last_letter': name[-1],\n",
    "           'lengh': len(name),\n",
    "           'first_letter': name[0].lower()}"
   ]
  },
  {
   "cell_type": "code",
   "execution_count": 76,
   "metadata": {
    "collapsed": false
   },
   "outputs": [],
   "source": [
    "featuresets = [(complex_gender_features(n), g) for (n,g) in names]\n",
    "train_set, test_set = featuresets[500:], featuresets[:500]\n",
    "classifier = nltk.NaiveBayesClassifier.train(train_set)"
   ]
  },
  {
   "cell_type": "code",
   "execution_count": 82,
   "metadata": {
    "collapsed": false
   },
   "outputs": [
    {
     "name": "stdout",
     "output_type": "stream",
     "text": [
      "Most Informative Features\n",
      "             last_letter = u'k'             male : female =     46.0 : 1.0\n",
      "             last_letter = u'a'           female : male   =     32.6 : 1.0\n",
      "             last_letter = u'f'             male : female =     16.7 : 1.0\n",
      "             last_letter = u'p'             male : female =     12.6 : 1.0\n",
      "             last_letter = u'v'             male : female =     11.2 : 1.0\n",
      "             last_letter = u'd'             male : female =      9.6 : 1.0\n",
      "             last_letter = u'o'             male : female =      9.6 : 1.0\n",
      "             last_letter = u'm'             male : female =      8.1 : 1.0\n",
      "             last_letter = u'r'             male : female =      6.4 : 1.0\n",
      "             last_letter = u'z'             male : female =      5.6 : 1.0\n",
      "             last_letter = u'w'             male : female =      5.4 : 1.0\n",
      "             last_letter = u'g'             male : female =      5.1 : 1.0\n",
      "            first_letter = u'W'             male : female =      5.0 : 1.0\n"
     ]
    }
   ],
   "source": [
    "classifier.show_most_informative_features(13)"
   ]
  },
  {
   "cell_type": "markdown",
   "metadata": {},
   "source": [
    "<a id=\"Choosing the Right Features\"></a>\n",
    "### Choosing the Right Features\n",
    "\n",
    "Selecting relevant features and deciding how to encode them for learning can have an enormous impact on the learning method's ability to extract a good model. Much of the interesting work in building a classifier is deciding which features might be relevant, and how we can represent them. Although it's often possible to get decent performance by using a fairly simple and obvious set of features, there are usually significant gains to be had by using carefully constructed features based on a thorugh understanding of the task at hand.\n",
    "\n",
    "Typically, **feature extractors** are built through a process of trial-and-error, guided by the intuitions about what information is relevant to the problem. It's common to start with a \"kitchen sink\" approach, including all the features that you can  think of, and then checking to see which features are helpful.\n",
    "\n",
    "However, there are usually limits to the number of features that you should use with a given learning algorithm; if you provide too many features, then the algorithm will have a higher chance of relying on idiosyncrasies of your training data that don't generalize well to new examples. This problem is known as **overfitting**, ant can be especially problematic when working with small training sets. For example, if we train a naive Bayes classifier using the feature extractor shown below, it will overfir the relativelt small training set, resuting in a system whose accuracy is about 1% lower that the accuracy of a classifier that only pays attention to the final letter of each name.\n",
    "\n",
    "Once we've used the dev-test set to help us develop the model, we can no longer trust that it will give us an accurate idea of how well the model would perform on new data. It is therefore important to keep the test set separate, and unused, until our model development is complete. At that point, we can use the test set to evaluate how well our model will perform on new input values."
   ]
  },
  {
   "cell_type": "code",
   "execution_count": 85,
   "metadata": {
    "collapsed": true
   },
   "outputs": [],
   "source": [
    "def gender_features2(name):\n",
    "    features = {}\n",
    "    features[\"firstletter\"] = name[0].lower()\n",
    "    for letter in 'abcdefghijklmnopqrstuvwxyz':\n",
    "        features[\"count(%s)\" % letter] = name.lower().count(letter)\n",
    "        features[\"has(%s)\" % letter] = (letter in name.lower())\n",
    "    return features"
   ]
  },
  {
   "cell_type": "code",
   "execution_count": 86,
   "metadata": {
    "collapsed": false
   },
   "outputs": [
    {
     "data": {
      "text/plain": [
       "{'count(a)': 0,\n",
       " 'count(b)': 0,\n",
       " 'count(c)': 0,\n",
       " 'count(d)': 0,\n",
       " 'count(e)': 0,\n",
       " 'count(f)': 0,\n",
       " 'count(g)': 0,\n",
       " 'count(h)': 1,\n",
       " 'count(i)': 0,\n",
       " 'count(j)': 1,\n",
       " 'count(k)': 0,\n",
       " 'count(l)': 0,\n",
       " 'count(m)': 0,\n",
       " 'count(n)': 1,\n",
       " 'count(o)': 1,\n",
       " 'count(p)': 0,\n",
       " 'count(q)': 0,\n",
       " 'count(r)': 0,\n",
       " 'count(s)': 0,\n",
       " 'count(t)': 0,\n",
       " 'count(u)': 0,\n",
       " 'count(v)': 0,\n",
       " 'count(w)': 0,\n",
       " 'count(x)': 0,\n",
       " 'count(y)': 0,\n",
       " 'count(z)': 0,\n",
       " 'firstletter': 'j',\n",
       " 'has(a)': False,\n",
       " 'has(b)': False,\n",
       " 'has(c)': False,\n",
       " 'has(d)': False,\n",
       " 'has(e)': False,\n",
       " 'has(f)': False,\n",
       " 'has(g)': False,\n",
       " 'has(h)': True,\n",
       " 'has(i)': False,\n",
       " 'has(j)': True,\n",
       " 'has(k)': False,\n",
       " 'has(l)': False,\n",
       " 'has(m)': False,\n",
       " 'has(n)': True,\n",
       " 'has(o)': True,\n",
       " 'has(p)': False,\n",
       " 'has(q)': False,\n",
       " 'has(r)': False,\n",
       " 'has(s)': False,\n",
       " 'has(t)': False,\n",
       " 'has(u)': False,\n",
       " 'has(v)': False,\n",
       " 'has(w)': False,\n",
       " 'has(x)': False,\n",
       " 'has(y)': False,\n",
       " 'has(z)': False}"
      ]
     },
     "execution_count": 86,
     "metadata": {},
     "output_type": "execute_result"
    }
   ],
   "source": [
    "gender_features2(\"John\")"
   ]
  },
  {
   "cell_type": "code",
   "execution_count": 88,
   "metadata": {
    "collapsed": false
   },
   "outputs": [
    {
     "name": "stdout",
     "output_type": "stream",
     "text": [
      "0.7\n"
     ]
    }
   ],
   "source": [
    "featuresets = [(gender_features2(n), g) for (n,g) in names]\n",
    "train_set, test_set = featuresets[500:], featuresets[:500]\n",
    "classifier = nltk.NaiveBayesClassifier.train(train_set)\n",
    "print nltk.classify.accuracy(classifier, test_set)"
   ]
  },
  {
   "cell_type": "code",
   "execution_count": 89,
   "metadata": {
    "collapsed": true
   },
   "outputs": [],
   "source": [
    "train_names = names[1500:]\n",
    "devtest_names = names[500:1500]\n",
    "test_names = names[:500]"
   ]
  },
  {
   "cell_type": "code",
   "execution_count": 90,
   "metadata": {
    "collapsed": true
   },
   "outputs": [],
   "source": [
    "train_set = [(gender_features(n), g) for (n,g) in train_names]\n",
    "devtest_set = [(gender_features(n), g) for (n,g) in devtest_names]\n",
    "test_set = [(gender_features(n), g) for (n,g) in test_names]"
   ]
  },
  {
   "cell_type": "code",
   "execution_count": 91,
   "metadata": {
    "collapsed": false
   },
   "outputs": [
    {
     "name": "stdout",
     "output_type": "stream",
     "text": [
      "0.752\n"
     ]
    }
   ],
   "source": [
    "classifier = nltk.NaiveBayesClassifier.train(train_set)\n",
    "print nltk.classify.accuracy(classifier, devtest_set)"
   ]
  },
  {
   "cell_type": "code",
   "execution_count": 92,
   "metadata": {
    "collapsed": true
   },
   "outputs": [],
   "source": [
    "errors = []\n",
    "for (name, tag) in devtest_names:\n",
    "    guess = classifier.classify(gender_features(name))\n",
    "    if guess != 'tag':\n",
    "        errors.append((tag, guess, name))"
   ]
  },
  {
   "cell_type": "code",
   "execution_count": 93,
   "metadata": {
    "collapsed": false
   },
   "outputs": [
    {
     "name": "stdout",
     "output_type": "stream",
     "text": [
      "correct=female   guess=female   name=Abbey                         \n",
      "correct=female   guess=female   name=Adah                          \n",
      "correct=female   guess=female   name=Adeline                       \n",
      "correct=female   guess=female   name=Adelle                        \n",
      "correct=female   guess=female   name=Adina                         \n",
      "correct=female   guess=female   name=Adrienne                      \n",
      "correct=female   guess=female   name=Agatha                        \n",
      "correct=female   guess=female   name=Agnola                        \n",
      "correct=female   guess=female   name=Agretha                       \n",
      "correct=female   guess=female   name=Aile                          \n",
      "correct=female   guess=female   name=Ailene                        \n",
      "correct=female   guess=female   name=Ajay                          \n",
      "correct=female   guess=female   name=Albertine                     \n",
      "correct=female   guess=female   name=Albina                        \n",
      "correct=female   guess=female   name=Alexina                       \n",
      "correct=female   guess=female   name=Allie                         \n",
      "correct=female   guess=female   name=Allissa                       \n",
      "correct=female   guess=female   name=Ally                          \n",
      "correct=female   guess=female   name=Althea                        \n",
      "correct=female   guess=female   name=Amalia                        \n",
      "correct=female   guess=female   name=Anastassia                    \n",
      "correct=female   guess=female   name=Andree                        \n",
      "correct=female   guess=female   name=Andriette                     \n",
      "correct=female   guess=female   name=Anja                          \n",
      "correct=female   guess=female   name=Annabela                      \n",
      "correct=female   guess=female   name=Annadiana                     \n",
      "correct=female   guess=female   name=Annalena                      \n",
      "correct=female   guess=female   name=Annalise                      \n",
      "correct=female   guess=female   name=Annalyse                      \n",
      "correct=female   guess=female   name=Annissa                       \n",
      "correct=female   guess=female   name=Antonie                       \n",
      "correct=female   guess=female   name=Ariadne                       \n",
      "correct=female   guess=female   name=Arleyne                       \n",
      "correct=female   guess=female   name=Aubrey                        \n",
      "correct=female   guess=female   name=Aura                          \n",
      "correct=female   guess=female   name=Aurelea                       \n",
      "correct=female   guess=female   name=Aurora                        \n",
      "correct=female   guess=female   name=Avie                          \n",
      "correct=female   guess=female   name=Aviva                         \n",
      "correct=female   guess=female   name=Babette                       \n",
      "correct=female   guess=female   name=Bambie                        \n",
      "correct=female   guess=female   name=Bamby                         \n",
      "correct=female   guess=female   name=Barbe                         \n",
      "correct=female   guess=female   name=Barbie                        \n",
      "correct=female   guess=female   name=Beckie                        \n",
      "correct=female   guess=female   name=Belinda                       \n",
      "correct=female   guess=female   name=Bella                         \n",
      "correct=female   guess=female   name=Bellina                       \n",
      "correct=female   guess=female   name=Benedicta                     \n",
      "correct=female   guess=female   name=Benedikta                     \n",
      "correct=female   guess=female   name=Berta                         \n",
      "correct=female   guess=female   name=Bertie                        \n",
      "correct=female   guess=female   name=Beth                          \n",
      "correct=female   guess=female   name=Bethany                       \n",
      "correct=female   guess=female   name=Binnie                        \n",
      "correct=female   guess=female   name=Blondy                        \n",
      "correct=female   guess=female   name=Bobette                       \n",
      "correct=female   guess=female   name=Bobinette                     \n",
      "correct=female   guess=female   name=Brana                         \n",
      "correct=female   guess=female   name=Brandi                        \n",
      "correct=female   guess=female   name=Brandice                      \n",
      "correct=female   guess=female   name=Briney                        \n",
      "correct=female   guess=female   name=Brunhilda                     \n",
      "correct=female   guess=female   name=Caralie                       \n",
      "correct=female   guess=female   name=Carena                        \n",
      "correct=female   guess=female   name=Caressa                       \n",
      "correct=female   guess=female   name=Carie                         \n",
      "correct=female   guess=female   name=Carina                        \n",
      "correct=female   guess=female   name=Carlina                       \n",
      "correct=female   guess=female   name=Carlota                       \n",
      "correct=female   guess=female   name=Carmela                       \n",
      "correct=female   guess=female   name=Carmelita                     \n",
      "correct=female   guess=female   name=Carmina                       \n",
      "correct=female   guess=female   name=Carrie                        \n",
      "correct=female   guess=female   name=Celine                        \n",
      "correct=female   guess=female   name=Celinka                       \n",
      "correct=female   guess=female   name=Charlotte                     \n",
      "correct=female   guess=female   name=Chelsy                        \n",
      "correct=female   guess=female   name=Cherianne                     \n",
      "correct=female   guess=female   name=Cherie                        \n",
      "correct=female   guess=female   name=Cherish                       \n",
      "correct=female   guess=female   name=Chickie                       \n",
      "correct=female   guess=female   name=Chicky                        \n",
      "correct=female   guess=female   name=Cinderella                    \n",
      "correct=female   guess=female   name=Clarabelle                    \n",
      "correct=female   guess=female   name=Clarette                      \n",
      "correct=female   guess=female   name=Clary                         \n",
      "correct=female   guess=female   name=Clerissa                      \n",
      "correct=female   guess=female   name=Conney                        \n",
      "correct=female   guess=female   name=Consolata                     \n",
      "correct=female   guess=female   name=Corena                        \n",
      "correct=female   guess=female   name=Corene                        \n",
      "correct=female   guess=female   name=Corissa                       \n",
      "correct=female   guess=female   name=Cosette                       \n",
      "correct=female   guess=female   name=Crista                        \n",
      "correct=female   guess=female   name=Crysta                        \n",
      "correct=female   guess=female   name=Crystie                       \n",
      "correct=female   guess=female   name=Cynthy                        \n",
      "correct=female   guess=female   name=Dale                          \n",
      "correct=female   guess=female   name=Dalenna                       \n",
      "correct=female   guess=female   name=Dana                          \n",
      "correct=female   guess=female   name=Darbie                        \n",
      "correct=female   guess=female   name=Darby                         \n",
      "correct=female   guess=female   name=Darcy                         \n",
      "correct=female   guess=female   name=Darsie                        \n",
      "correct=female   guess=female   name=Darya                         \n",
      "correct=female   guess=female   name=Dasi                          \n",
      "correct=female   guess=female   name=Daveta                        \n",
      "correct=female   guess=female   name=Debbi                         \n",
      "correct=female   guess=female   name=Debi                          \n",
      "correct=female   guess=female   name=Deerdre                       \n",
      "correct=female   guess=female   name=Delaney                       \n",
      "correct=female   guess=female   name=Delilah                       \n",
      "correct=female   guess=female   name=Deloria                       \n",
      "correct=female   guess=female   name=Delphine                      \n",
      "correct=female   guess=female   name=Deny                          \n",
      "correct=female   guess=female   name=Diane                         \n",
      "correct=female   guess=female   name=Dianemarie                    \n",
      "correct=female   guess=female   name=Dolora                        \n",
      "correct=female   guess=female   name=Donetta                       \n",
      "correct=female   guess=female   name=Donia                         \n",
      "correct=female   guess=female   name=Donni                         \n",
      "correct=female   guess=female   name=Dora                          \n",
      "correct=female   guess=female   name=Doralynne                     \n",
      "correct=female   guess=female   name=Dorelia                       \n",
      "correct=female   guess=female   name=Dorena                        \n",
      "correct=female   guess=female   name=Dorolice                      \n",
      "correct=female   guess=female   name=Dorothy                       \n",
      "correct=female   guess=female   name=Eadie                         \n",
      "correct=female   guess=female   name=Ebony                         \n",
      "correct=female   guess=female   name=Edithe                        \n",
      "correct=female   guess=female   name=Elbertina                     \n",
      "correct=female   guess=female   name=Eleanore                      \n",
      "correct=female   guess=female   name=Elena                         \n",
      "correct=female   guess=female   name=Eleonora                      \n",
      "correct=female   guess=female   name=Eleonore                      \n",
      "correct=female   guess=female   name=Elga                          \n",
      "correct=female   guess=female   name=Elissa                        \n",
      "correct=female   guess=female   name=Elka                          \n",
      "correct=female   guess=female   name=Elna                          \n",
      "correct=female   guess=female   name=Elnora                        \n",
      "correct=female   guess=female   name=Elva                          \n",
      "correct=female   guess=female   name=Elysee                        \n",
      "correct=female   guess=female   name=Emelina                       \n",
      "correct=female   guess=female   name=Emelita                       \n",
      "correct=female   guess=female   name=Emera                         \n",
      "correct=female   guess=female   name=Emilia                        \n",
      "correct=female   guess=female   name=Emiline                       \n",
      "correct=female   guess=female   name=Emily                         \n",
      "correct=female   guess=female   name=Emmalee                       \n",
      "correct=female   guess=female   name=Emmey                         \n",
      "correct=female   guess=female   name=Emogene                       \n",
      "correct=female   guess=female   name=Enrica                        \n",
      "correct=female   guess=female   name=Enrichetta                    \n",
      "correct=female   guess=female   name=Enya                          \n",
      "correct=female   guess=female   name=Erika                         \n",
      "correct=female   guess=female   name=Erna                          \n",
      "correct=female   guess=female   name=Ernaline                      \n",
      "correct=female   guess=female   name=Ertha                         \n",
      "correct=female   guess=female   name=Esme                          \n",
      "correct=female   guess=female   name=Etheline                      \n",
      "correct=female   guess=female   name=Etty                          \n",
      "correct=female   guess=female   name=Eva                           \n",
      "correct=female   guess=female   name=Evangeline                    \n",
      "correct=female   guess=female   name=Evey                          \n",
      "correct=female   guess=female   name=Faith                         \n",
      "correct=female   guess=female   name=Farah                         \n",
      "correct=female   guess=female   name=Fawne                         \n",
      "correct=female   guess=female   name=Faydra                        \n",
      "correct=female   guess=female   name=Felice                        \n",
      "correct=female   guess=female   name=Felicia                       \n",
      "correct=female   guess=female   name=Fey                           \n",
      "correct=female   guess=female   name=Fifi                          \n",
      "correct=female   guess=female   name=Fifine                        \n",
      "correct=female   guess=female   name=Florance                      \n",
      "correct=female   guess=female   name=Florencia                     \n",
      "correct=female   guess=female   name=Florina                       \n",
      "correct=female   guess=female   name=Fortune                       \n",
      "correct=female   guess=female   name=France                        \n",
      "correct=female   guess=female   name=Francesca                     \n",
      "correct=female   guess=female   name=Francine                      \n",
      "correct=female   guess=female   name=Franky                        \n",
      "correct=female   guess=female   name=Freddi                        \n",
      "correct=female   guess=female   name=Gabriella                     \n",
      "correct=female   guess=female   name=Genevieve                     \n",
      "correct=female   guess=female   name=Genna                         \n",
      "correct=female   guess=female   name=Gennie                        \n",
      "correct=female   guess=female   name=Genvieve                      \n",
      "correct=female   guess=female   name=George                        \n",
      "correct=female   guess=female   name=Georgia                       \n",
      "correct=female   guess=female   name=Geraldina                     \n",
      "correct=female   guess=female   name=Geraldine                     \n",
      "correct=female   guess=female   name=Germaine                      \n",
      "correct=female   guess=female   name=Gerrie                        \n",
      "correct=female   guess=female   name=Gianna                        \n",
      "correct=female   guess=female   name=Gilbertina                    \n",
      "correct=female   guess=female   name=Gillie                        \n",
      "correct=female   guess=female   name=Ginevra                       \n",
      "correct=female   guess=female   name=Ginnie                        \n",
      "correct=female   guess=female   name=Glenda                        \n",
      "correct=female   guess=female   name=Goldi                         \n",
      "correct=female   guess=female   name=Guenevere                     \n",
      "correct=female   guess=female   name=Gusta                         \n",
      "correct=female   guess=female   name=Gwenore                       \n",
      "correct=female   guess=female   name=Hali                          \n",
      "correct=female   guess=female   name=Hannie                        \n",
      "correct=female   guess=female   name=Happy                         \n",
      "correct=female   guess=female   name=Harmonie                      \n",
      "correct=female   guess=female   name=Harri                         \n",
      "correct=female   guess=female   name=Hatti                         \n",
      "correct=female   guess=female   name=Heida                         \n",
      "correct=female   guess=female   name=Helise                        \n",
      "correct=female   guess=female   name=Hertha                        \n",
      "correct=female   guess=female   name=Hetty                         \n",
      "correct=female   guess=female   name=Hilda                         \n",
      "correct=female   guess=female   name=Hildy                         \n",
      "correct=female   guess=female   name=Holley                        \n",
      "correct=female   guess=female   name=Hyacinth                      \n",
      "correct=female   guess=female   name=Hyacintha                     \n",
      "correct=female   guess=female   name=Ida                           \n",
      "correct=female   guess=female   name=Ileane                        \n",
      "correct=female   guess=female   name=Imelda                        \n",
      "correct=female   guess=female   name=Inesita                       \n",
      "correct=female   guess=female   name=Inga                          \n",
      "correct=female   guess=female   name=Inna                          \n",
      "correct=female   guess=female   name=Irina                         \n",
      "correct=female   guess=female   name=Jacky                         \n",
      "correct=female   guess=female   name=Jada                          \n",
      "correct=female   guess=female   name=Jaimie                        \n",
      "correct=female   guess=female   name=Janelle                       \n",
      "correct=female   guess=female   name=Janenna                       \n",
      "correct=female   guess=female   name=Janette                       \n",
      "correct=female   guess=female   name=Janey                         \n",
      "correct=female   guess=female   name=Jania                         \n",
      "correct=female   guess=female   name=Janna                         \n",
      "correct=female   guess=female   name=Jaquenetta                    \n",
      "correct=female   guess=female   name=Jennica                       \n",
      "correct=female   guess=female   name=Jennie                        \n",
      "correct=female   guess=female   name=Jeralee                       \n",
      "correct=female   guess=female   name=Jere                          \n",
      "correct=female   guess=female   name=Jessa                         \n",
      "correct=female   guess=female   name=Jessamine                     \n",
      "correct=female   guess=female   name=Jessi                         \n",
      "correct=female   guess=female   name=Jessy                         \n",
      "correct=female   guess=female   name=Jillana                       \n",
      "correct=female   guess=female   name=Jilly                         \n",
      "correct=female   guess=female   name=JoAnne                        \n",
      "correct=female   guess=female   name=Joanna                        \n",
      "correct=female   guess=female   name=Joella                        \n",
      "correct=female   guess=female   name=Joey                          \n",
      "correct=female   guess=female   name=Jordana                       \n",
      "correct=female   guess=female   name=Jorey                         \n",
      "correct=female   guess=female   name=Jori                          \n",
      "correct=female   guess=female   name=Josefa                        \n",
      "correct=female   guess=female   name=Josy                          \n",
      "correct=female   guess=female   name=Judie                         \n",
      "correct=female   guess=female   name=Juliette                      \n",
      "correct=female   guess=female   name=Junie                         \n",
      "correct=female   guess=female   name=Kacie                         \n",
      "correct=female   guess=female   name=Kacy                          \n",
      "correct=female   guess=female   name=Kandy                         \n",
      "correct=female   guess=female   name=Kara                          \n",
      "correct=female   guess=female   name=Karlotta                      \n",
      "correct=female   guess=female   name=Karna                         \n",
      "correct=female   guess=female   name=Karrie                        \n",
      "correct=female   guess=female   name=Karry                         \n",
      "correct=female   guess=female   name=Kassandra                     \n",
      "correct=female   guess=female   name=Kassey                        \n",
      "correct=female   guess=female   name=Kath                          \n",
      "correct=female   guess=female   name=Katharine                     \n",
      "correct=female   guess=female   name=Katinka                       \n",
      "correct=female   guess=female   name=Katrine                       \n",
      "correct=female   guess=female   name=Katrinka                      \n",
      "correct=female   guess=female   name=Katy                          \n",
      "correct=female   guess=female   name=Kay                           \n",
      "correct=female   guess=female   name=Kayle                         \n",
      "correct=female   guess=female   name=Kee                           \n",
      "correct=female   guess=female   name=Keeley                        \n",
      "correct=female   guess=female   name=Kelli                         \n",
      "correct=female   guess=female   name=Kerianne                      \n",
      "correct=female   guess=female   name=Keslie                        \n",
      "correct=female   guess=female   name=Kessia                        \n",
      "correct=female   guess=female   name=Kessiah                       \n",
      "correct=female   guess=female   name=Kettie                        \n",
      "correct=female   guess=female   name=Kiah                          \n",
      "correct=female   guess=female   name=Kimbra                        \n",
      "correct=female   guess=female   name=Kimmi                         \n",
      "correct=female   guess=female   name=Kippie                        \n",
      "correct=female   guess=female   name=Kippy                         \n",
      "correct=female   guess=female   name=Klara                         \n",
      "correct=female   guess=female   name=Kristy                        \n",
      "correct=female   guess=female   name=Lacy                          \n",
      "correct=female   guess=female   name=Lanette                       \n",
      "correct=female   guess=female   name=Lanie                         \n",
      "correct=female   guess=female   name=Laurianne                     \n",
      "correct=female   guess=female   name=Laverne                       \n",
      "correct=female   guess=female   name=Leelah                        \n",
      "correct=female   guess=female   name=Leilah                        \n",
      "correct=female   guess=female   name=Leodora                       \n",
      "correct=female   guess=female   name=Leoline                       \n",
      "correct=female   guess=female   name=Leona                         \n",
      "correct=female   guess=female   name=Leonanie                      \n",
      "correct=female   guess=female   name=Lesley                        \n",
      "correct=female   guess=female   name=Lesya                         \n",
      "correct=female   guess=female   name=Letitia                       \n",
      "correct=female   guess=female   name=Leyla                         \n",
      "correct=female   guess=female   name=Libby                         \n",
      "correct=female   guess=female   name=Lidia                         \n",
      "correct=female   guess=female   name=Linda                         \n",
      "correct=female   guess=female   name=Lisa                          \n",
      "correct=female   guess=female   name=Lisabeth                      \n",
      "correct=female   guess=female   name=Lissa                         \n",
      "correct=female   guess=female   name=Lizzy                         \n",
      "correct=female   guess=female   name=Lonee                         \n",
      "correct=female   guess=female   name=Lora                          \n",
      "correct=female   guess=female   name=Loralee                       \n",
      "correct=female   guess=female   name=Loralie                       \n",
      "correct=female   guess=female   name=Lorilee                       \n",
      "correct=female   guess=female   name=Lorinda                       \n",
      "correct=female   guess=female   name=Lucina                        \n",
      "correct=female   guess=female   name=Lucinda                       \n",
      "correct=female   guess=female   name=Lucine                        \n",
      "correct=female   guess=female   name=Lucretia                      \n",
      "correct=female   guess=female   name=Lucy                          \n",
      "correct=female   guess=female   name=Luelle                        \n",
      "correct=female   guess=female   name=Luisa                         \n",
      "correct=female   guess=female   name=Lusa                          \n",
      "correct=female   guess=female   name=Lynnea                        \n",
      "correct=female   guess=female   name=Lysandra                      \n",
      "correct=female   guess=female   name=Mable                         \n",
      "correct=female   guess=female   name=Madelaine                     \n",
      "correct=female   guess=female   name=Madelene                      \n",
      "correct=female   guess=female   name=Mady                          \n",
      "correct=female   guess=female   name=Maggie                        \n",
      "correct=female   guess=female   name=Mahalia                       \n",
      "correct=female   guess=female   name=Maire                         \n",
      "correct=female   guess=female   name=Mala                          \n",
      "correct=female   guess=female   name=Malka                         \n",
      "correct=female   guess=female   name=Malva                         \n",
      "correct=female   guess=female   name=Marcellina                    \n",
      "correct=female   guess=female   name=Margarete                     \n",
      "correct=female   guess=female   name=Margy                         \n",
      "correct=female   guess=female   name=Marianna                      \n",
      "correct=female   guess=female   name=Marlee                        \n",
      "correct=female   guess=female   name=Marne                         \n",
      "correct=female   guess=female   name=Marry                         \n",
      "correct=female   guess=female   name=Marthena                      \n",
      "correct=female   guess=female   name=Maryrose                      \n",
      "correct=female   guess=female   name=Marysa                        \n",
      "correct=female   guess=female   name=Masha                         \n",
      "correct=female   guess=female   name=May                           \n",
      "correct=female   guess=female   name=Meade                         \n",
      "correct=female   guess=female   name=Melinda                       \n",
      "correct=female   guess=female   name=Melitta                       \n",
      "correct=female   guess=female   name=Mella                         \n",
      "correct=female   guess=female   name=Melonie                       \n",
      "correct=female   guess=female   name=Merrielle                     \n",
      "correct=female   guess=female   name=Michaela                      \n",
      "correct=female   guess=female   name=Michaelina                    \n",
      "correct=female   guess=female   name=Midge                         \n",
      "correct=female   guess=female   name=Mireielle                     \n",
      "correct=female   guess=female   name=Monah                         \n",
      "correct=female   guess=female   name=Morgana                       \n",
      "correct=female   guess=female   name=Moria                         \n",
      "correct=female   guess=female   name=Morissa                       \n",
      "correct=female   guess=female   name=Myra                          \n",
      "correct=female   guess=female   name=Myrah                         \n",
      "correct=female   guess=female   name=Myranda                       \n",
      "correct=female   guess=female   name=Myrtie                        \n",
      "correct=female   guess=female   name=Nada                          \n",
      "correct=female   guess=female   name=Nanice                        \n",
      "correct=female   guess=female   name=Natalina                      \n",
      "correct=female   guess=female   name=Neille                        \n",
      "correct=female   guess=female   name=Nelia                         \n",
      "correct=female   guess=female   name=Nelli                         \n",
      "correct=female   guess=female   name=Nellie                        \n",
      "correct=female   guess=female   name=Netti                         \n",
      "correct=female   guess=female   name=Nettle                        \n",
      "correct=female   guess=female   name=Nevsa                         \n",
      "correct=female   guess=female   name=Nicki                         \n",
      "correct=female   guess=female   name=Nikolia                       \n",
      "correct=female   guess=female   name=Nixie                         \n",
      "correct=female   guess=female   name=Nolie                         \n",
      "correct=female   guess=female   name=Nonah                         \n",
      "correct=female   guess=female   name=Nonie                         \n",
      "correct=female   guess=female   name=Odele                         \n",
      "correct=female   guess=female   name=Odelia                        \n",
      "correct=female   guess=female   name=Odette                        \n",
      "correct=female   guess=female   name=Ofelia                        \n",
      "correct=female   guess=female   name=Ofilia                        \n",
      "correct=female   guess=female   name=Oralee                        \n",
      "correct=female   guess=female   name=Orelie                        \n",
      "correct=female   guess=female   name=Pammi                         \n",
      "correct=female   guess=female   name=Pammie                        \n",
      "correct=female   guess=female   name=Paula                         \n",
      "correct=female   guess=female   name=Paulette                      \n",
      "correct=female   guess=female   name=Penelopa                      \n",
      "correct=female   guess=female   name=Peria                         \n",
      "correct=female   guess=female   name=Perla                         \n",
      "correct=female   guess=female   name=Perri                         \n",
      "correct=female   guess=female   name=Phillida                      \n",
      "correct=female   guess=female   name=Phyllida                      \n",
      "correct=female   guess=female   name=Pia                           \n",
      "correct=female   guess=female   name=Priscilla                     \n",
      "correct=female   guess=female   name=Prudi                         \n",
      "correct=female   guess=female   name=Querida                       \n",
      "correct=female   guess=female   name=Raphaela                      \n",
      "correct=female   guess=female   name=Raquela                       \n",
      "correct=female   guess=female   name=Ray                           \n",
      "correct=female   guess=female   name=Reta                          \n",
      "correct=female   guess=female   name=Retha                         \n",
      "correct=female   guess=female   name=Rey                           \n",
      "correct=female   guess=female   name=Rhea                          \n",
      "correct=female   guess=female   name=Rheba                         \n",
      "correct=female   guess=female   name=Rikki                         \n",
      "correct=female   guess=female   name=Risa                          \n",
      "correct=female   guess=female   name=Robbi                         \n",
      "correct=female   guess=female   name=Robinette                     \n",
      "correct=female   guess=female   name=Rochella                      \n",
      "correct=female   guess=female   name=Rochelle                      \n",
      "correct=female   guess=female   name=Romona                        \n",
      "correct=female   guess=female   name=Rory                          \n",
      "correct=female   guess=female   name=Rosabelle                     \n",
      "correct=female   guess=female   name=Rosalie                       \n",
      "correct=female   guess=female   name=Roselle                       \n",
      "correct=female   guess=female   name=Rosemaria                     \n",
      "correct=female   guess=female   name=Rosette                       \n",
      "correct=female   guess=female   name=Rozanne                       \n",
      "correct=female   guess=female   name=Rozina                        \n",
      "correct=female   guess=female   name=Rubia                         \n",
      "correct=female   guess=female   name=Ruth                          \n",
      "correct=female   guess=female   name=Rycca                         \n",
      "correct=female   guess=female   name=Sallie                        \n",
      "correct=female   guess=female   name=Samantha                      \n",
      "correct=female   guess=female   name=Sandye                        \n",
      "correct=female   guess=female   name=Sapphire                      \n",
      "correct=female   guess=female   name=Saree                         \n",
      "correct=female   guess=female   name=Secunda                       \n",
      "correct=female   guess=female   name=Sella                         \n",
      "correct=female   guess=female   name=Serena                        \n",
      "correct=female   guess=female   name=Shandee                       \n",
      "correct=female   guess=female   name=Sharie                        \n",
      "correct=female   guess=female   name=Sheba                         \n",
      "correct=female   guess=female   name=Sheelagh                      \n",
      "correct=female   guess=female   name=Sheilah                       \n",
      "correct=female   guess=female   name=Shilpa                        \n",
      "correct=female   guess=female   name=Siana                         \n",
      "correct=female   guess=female   name=Sianna                        \n",
      "correct=female   guess=female   name=Sibbie                        \n",
      "correct=female   guess=female   name=Sibylla                       \n",
      "correct=female   guess=female   name=Sile                          \n",
      "correct=female   guess=female   name=Simona                        \n",
      "correct=female   guess=female   name=Sissie                        \n",
      "correct=female   guess=female   name=Sofie                         \n",
      "correct=female   guess=female   name=Sonni                         \n",
      "correct=female   guess=female   name=Stacia                        \n",
      "correct=female   guess=female   name=Stepha                        \n",
      "correct=female   guess=female   name=Stormie                       \n",
      "correct=female   guess=female   name=Sukey                         \n",
      "correct=female   guess=female   name=Susana                        \n",
      "correct=female   guess=female   name=Susanne                       \n",
      "correct=female   guess=female   name=Susette                       \n",
      "correct=female   guess=female   name=Suzi                          \n",
      "correct=female   guess=female   name=Suzzy                         \n",
      "correct=female   guess=female   name=Sylvia                        \n",
      "correct=female   guess=female   name=Tabbi                         \n",
      "correct=female   guess=female   name=Tandie                        \n",
      "correct=female   guess=female   name=Tania                         \n",
      "correct=female   guess=female   name=Teddi                         \n",
      "correct=female   guess=female   name=Tedi                          \n",
      "correct=female   guess=female   name=Teresa                        \n",
      "correct=female   guess=female   name=TeresaAnne                    \n",
      "correct=female   guess=female   name=Terina                        \n",
      "correct=female   guess=female   name=Terri                         \n",
      "correct=female   guess=female   name=Tilda                         \n",
      "correct=female   guess=female   name=Tildy                         \n",
      "correct=female   guess=female   name=Tonie                         \n",
      "correct=female   guess=female   name=Tony                          \n",
      "correct=female   guess=female   name=Tory                          \n",
      "correct=female   guess=female   name=Tracy                         \n",
      "correct=female   guess=female   name=Trisha                        \n",
      "correct=female   guess=female   name=Trudie                        \n",
      "correct=female   guess=female   name=Trudy                         \n",
      "correct=female   guess=female   name=Ursa                          \n",
      "correct=female   guess=female   name=Ursola                        \n",
      "correct=female   guess=female   name=Vale                          \n",
      "correct=female   guess=female   name=Valli                         \n",
      "correct=female   guess=female   name=Vanda                         \n",
      "correct=female   guess=female   name=Ventura                       \n",
      "correct=female   guess=female   name=Verile                        \n",
      "correct=female   guess=female   name=Verine                        \n",
      "correct=female   guess=female   name=Veronica                      \n",
      "correct=female   guess=female   name=Veronike                      \n",
      "correct=female   guess=female   name=Vida                          \n",
      "correct=female   guess=female   name=Vivi                          \n",
      "correct=female   guess=female   name=Vivienne                      \n",
      "correct=female   guess=female   name=Vonnie                        \n",
      "correct=female   guess=female   name=Wandie                        \n",
      "correct=female   guess=female   name=Wilie                         \n",
      "correct=female   guess=female   name=Windy                         \n",
      "correct=female   guess=female   name=Wini                          \n",
      "correct=female   guess=female   name=Winonah                       \n",
      "correct=female   guess=female   name=Wylma                         \n",
      "correct=female   guess=female   name=Wynnie                        \n",
      "correct=female   guess=female   name=Yvette                        \n",
      "correct=female   guess=female   name=Yvonne                        \n",
      "correct=female   guess=female   name=Zabrina                       \n",
      "correct=female   guess=female   name=Zahara                        \n",
      "correct=female   guess=female   name=Zaneta                        \n",
      "correct=female   guess=female   name=Zenia                         \n",
      "correct=female   guess=female   name=Zorine                        \n",
      "correct=female   guess=male     name=Abigail                       \n",
      "correct=female   guess=male     name=Adelind                       \n",
      "correct=female   guess=male     name=Agnes                         \n",
      "correct=female   guess=male     name=Aigneis                       \n",
      "correct=female   guess=male     name=Aileen                        \n",
      "correct=female   guess=male     name=Ailyn                         \n",
      "correct=female   guess=male     name=Alleen                        \n",
      "correct=female   guess=male     name=Ambur                         \n",
      "correct=female   guess=male     name=Anais                         \n",
      "correct=female   guess=male     name=Angil                         \n",
      "correct=female   guess=male     name=Arden                         \n",
      "correct=female   guess=male     name=Ardys                         \n",
      "correct=female   guess=male     name=Avril                         \n",
      "correct=female   guess=male     name=Babs                          \n",
      "correct=female   guess=male     name=Beitris                       \n",
      "correct=female   guess=male     name=Bess                          \n",
      "correct=female   guess=male     name=Bill                          \n",
      "correct=female   guess=male     name=Blair                         \n",
      "correct=female   guess=male     name=Brear                         \n",
      "correct=female   guess=male     name=Caitlin                       \n",
      "correct=female   guess=male     name=Caro                          \n",
      "correct=female   guess=male     name=Carolann                      \n",
      "correct=female   guess=male     name=Carolyn                       \n",
      "correct=female   guess=male     name=Caryl                         \n",
      "correct=female   guess=male     name=Charin                        \n",
      "correct=female   guess=male     name=Charyl                        \n",
      "correct=female   guess=male     name=Cheryl                        \n",
      "correct=female   guess=male     name=Chloris                       \n",
      "correct=female   guess=male     name=Clem                          \n",
      "correct=female   guess=male     name=Corabel                       \n",
      "correct=female   guess=male     name=Coral                         \n",
      "correct=female   guess=male     name=Cybal                         \n",
      "correct=female   guess=male     name=Dawn                          \n",
      "correct=female   guess=male     name=Delores                       \n",
      "correct=female   guess=male     name=Dolores                       \n",
      "correct=female   guess=male     name=Doreen                        \n",
      "correct=female   guess=male     name=Dorris                        \n",
      "correct=female   guess=male     name=Dot                           \n",
      "correct=female   guess=male     name=Dyan                          \n",
      "correct=female   guess=male     name=Eileen                        \n",
      "correct=female   guess=male     name=Em                            \n",
      "correct=female   guess=male     name=Estell                        \n",
      "correct=female   guess=male     name=Gladis                        \n",
      "correct=female   guess=male     name=Glynnis                       \n",
      "correct=female   guess=male     name=Gwen                          \n",
      "correct=female   guess=male     name=Gwenn                         \n",
      "correct=female   guess=male     name=Hannibal                      \n",
      "correct=female   guess=male     name=Harriot                       \n",
      "correct=female   guess=male     name=Imogen                        \n",
      "correct=female   guess=male     name=Inger                         \n",
      "correct=female   guess=male     name=Isador                        \n",
      "correct=female   guess=male     name=Jacklin                       \n",
      "correct=female   guess=male     name=Jaclyn                        \n",
      "correct=female   guess=male     name=Janean                        \n",
      "correct=female   guess=male     name=Janis                         \n",
      "correct=female   guess=male     name=Jaynell                       \n",
      "correct=female   guess=male     name=Jean                          \n",
      "correct=female   guess=male     name=Jessalin                      \n",
      "correct=female   guess=male     name=Jessalyn                      \n",
      "correct=female   guess=male     name=Jo                            \n",
      "correct=female   guess=male     name=Jo Ann                        \n",
      "correct=female   guess=male     name=Joann                         \n",
      "correct=female   guess=male     name=Jonis                         \n",
      "correct=female   guess=male     name=Jourdan                       \n",
      "correct=female   guess=male     name=Kameko                        \n",
      "correct=female   guess=male     name=Karmen                        \n",
      "correct=female   guess=male     name=Katheryn                      \n",
      "correct=female   guess=male     name=Kathleen                      \n",
      "correct=female   guess=male     name=Kerstin                       \n",
      "correct=female   guess=male     name=Kial                          \n",
      "correct=female   guess=male     name=Koren                         \n",
      "correct=female   guess=male     name=Laurel                        \n",
      "correct=female   guess=male     name=Lian                          \n",
      "correct=female   guess=male     name=Lib                           \n",
      "correct=female   guess=male     name=Lillis                        \n",
      "correct=female   guess=male     name=Linet                         \n",
      "correct=female   guess=male     name=Lurleen                       \n",
      "correct=female   guess=male     name=Lyndel                        \n",
      "correct=female   guess=male     name=Lynett                        \n",
      "correct=female   guess=male     name=Lynnell                       \n",
      "correct=female   guess=male     name=Lynnet                        \n",
      "correct=female   guess=male     name=Mabel                         \n",
      "correct=female   guess=male     name=Madelyn                       \n",
      "correct=female   guess=male     name=Mairead                       \n",
      "correct=female   guess=male     name=Margaux                       \n",
      "correct=female   guess=male     name=Marget                        \n",
      "correct=female   guess=male     name=Marie-Ann                     \n",
      "correct=female   guess=male     name=Marj                          \n",
      "correct=female   guess=male     name=Marlyn                        \n",
      "correct=female   guess=male     name=Marylou                       \n",
      "correct=female   guess=male     name=Meaghan                       \n",
      "correct=female   guess=male     name=Meg                           \n",
      "correct=female   guess=male     name=Moll                          \n",
      "correct=female   guess=male     name=Nicol                         \n",
      "correct=female   guess=male     name=Nil                           \n",
      "correct=female   guess=male     name=Nitin                         \n",
      "correct=female   guess=male     name=Noell                         \n",
      "correct=female   guess=male     name=Noreen                        \n",
      "correct=female   guess=male     name=Phyllys                       \n",
      "correct=female   guess=male     name=Ros                           \n",
      "correct=female   guess=male     name=Rosalynd                      \n",
      "correct=female   guess=male     name=Roselyn                       \n",
      "correct=female   guess=male     name=Roz                           \n",
      "correct=female   guess=male     name=Ryann                         \n",
      "correct=female   guess=male     name=Sharron                       \n",
      "correct=female   guess=male     name=Shawn                         \n",
      "correct=female   guess=male     name=Sheryl                        \n",
      "correct=female   guess=male     name=Star                          \n",
      "correct=female   guess=male     name=Sybyl                         \n",
      "correct=female   guess=male     name=Tatum                         \n",
      "correct=female   guess=male     name=Viviyan                       \n",
      "correct=female   guess=male     name=Winifred                      \n",
      "correct=male     guess=female   name=Anatoly                       \n",
      "correct=male     guess=female   name=Andy                          \n",
      "correct=male     guess=female   name=Ari                           \n",
      "correct=male     guess=female   name=Aristotle                     \n",
      "correct=male     guess=female   name=Augustine                     \n",
      "correct=male     guess=female   name=Avi                           \n",
      "correct=male     guess=female   name=Barnabe                       \n",
      "correct=male     guess=female   name=Berke                         \n",
      "correct=male     guess=female   name=Blaine                        \n",
      "correct=male     guess=female   name=Blayne                        \n",
      "correct=male     guess=female   name=Boyce                         \n",
      "correct=male     guess=female   name=Broddie                       \n",
      "correct=male     guess=female   name=Broddy                        \n",
      "correct=male     guess=female   name=Carlyle                       \n",
      "correct=male     guess=female   name=Chevy                         \n",
      "correct=male     guess=female   name=Chrissy                       \n",
      "correct=male     guess=female   name=Christophe                    \n",
      "correct=male     guess=female   name=Christy                       \n",
      "correct=male     guess=female   name=Chrisy                        \n",
      "correct=male     guess=female   name=Clemente                      \n",
      "correct=male     guess=female   name=Cody                          \n",
      "correct=male     guess=female   name=Constantine                   \n",
      "correct=male     guess=female   name=Cy                            \n",
      "correct=male     guess=female   name=Cyrille                       \n",
      "correct=male     guess=female   name=Dabney                        \n",
      "correct=male     guess=female   name=Davy                          \n",
      "correct=male     guess=female   name=Donnie                        \n",
      "correct=male     guess=female   name=Drake                         \n",
      "correct=male     guess=female   name=Duke                          \n",
      "correct=male     guess=female   name=Durante                       \n",
      "correct=male     guess=female   name=Emile                         \n",
      "correct=male     guess=female   name=Enrique                       \n",
      "correct=male     guess=female   name=Eugene                        \n",
      "correct=male     guess=female   name=Freddie                       \n",
      "correct=male     guess=female   name=Friedrich                     \n",
      "correct=male     guess=female   name=Gayle                         \n",
      "correct=male     guess=female   name=Georgie                       \n",
      "correct=male     guess=female   name=Gere                          \n",
      "correct=male     guess=female   name=Gerry                         \n",
      "correct=male     guess=female   name=Giavani                       \n",
      "correct=male     guess=female   name=Granville                     \n",
      "correct=male     guess=female   name=Guthrey                       \n",
      "correct=male     guess=female   name=Guthrie                       \n",
      "correct=male     guess=female   name=Herbie                        \n",
      "correct=male     guess=female   name=Herculie                      \n",
      "correct=male     guess=female   name=Hermy                         \n",
      "correct=male     guess=female   name=Hewie                         \n",
      "correct=male     guess=female   name=Horace                        \n",
      "correct=male     guess=female   name=Huntlee                       \n",
      "correct=male     guess=female   name=Ignace                        \n",
      "correct=male     guess=female   name=Jay                           \n",
      "correct=male     guess=female   name=Jean-Pierre                   \n",
      "correct=male     guess=female   name=Jerri                         \n",
      "correct=male     guess=female   name=Jerrome                       \n",
      "correct=male     guess=female   name=Jesse                         \n",
      "correct=male     guess=female   name=Jessey                        \n",
      "correct=male     guess=female   name=Jeth                          \n",
      "correct=male     guess=female   name=Jodie                         \n",
      "correct=male     guess=female   name=Jody                          \n",
      "correct=male     guess=female   name=Johnny                        \n",
      "correct=male     guess=female   name=Juanita                       \n",
      "correct=male     guess=female   name=Kelly                         \n",
      "correct=male     guess=female   name=Kelsey                        \n",
      "correct=male     guess=female   name=Larry                         \n",
      "correct=male     guess=female   name=Lay                           \n",
      "correct=male     guess=female   name=Lazare                        \n",
      "correct=male     guess=female   name=Lenny                         \n",
      "correct=male     guess=female   name=Leroy                         \n",
      "correct=male     guess=female   name=Mace                          \n",
      "correct=male     guess=female   name=Manish                        \n",
      "correct=male     guess=female   name=Marty                         \n",
      "correct=male     guess=female   name=Maurise                       \n",
      "correct=male     guess=female   name=Maury                         \n",
      "correct=male     guess=female   name=Meredith                      \n",
      "correct=male     guess=female   name=Micky                         \n",
      "correct=male     guess=female   name=Mika                          \n",
      "correct=male     guess=female   name=Moore                         \n",
      "correct=male     guess=female   name=Mordecai                      \n",
      "correct=male     guess=female   name=Morty                         \n",
      "correct=male     guess=female   name=Neddie                        \n",
      "correct=male     guess=female   name=Neville                       \n",
      "correct=male     guess=female   name=Niki                          \n",
      "correct=male     guess=female   name=Obadiah                       \n",
      "correct=male     guess=female   name=Paddie                        \n",
      "correct=male     guess=female   name=Parry                         \n",
      "correct=male     guess=female   name=Pasquale                      \n",
      "correct=male     guess=female   name=Pattie                        \n",
      "correct=male     guess=female   name=Patty                         \n",
      "correct=male     guess=female   name=Pennie                        \n",
      "correct=male     guess=female   name=Percy                         \n",
      "correct=male     guess=female   name=Pete                          \n",
      "correct=male     guess=female   name=Phillipe                      \n",
      "correct=male     guess=female   name=Prentice                      \n",
      "correct=male     guess=female   name=Rafe                          \n",
      "correct=male     guess=female   name=Ralph                         \n",
      "correct=male     guess=female   name=Ravi                          \n",
      "correct=male     guess=female   name=Reggy                         \n",
      "correct=male     guess=female   name=Riley                         \n",
      "correct=male     guess=female   name=Robbie                        \n",
      "correct=male     guess=female   name=Rolph                         \n",
      "correct=male     guess=female   name=Roni                          \n",
      "correct=male     guess=female   name=Rourke                        \n",
      "correct=male     guess=female   name=Rube                          \n",
      "correct=male     guess=female   name=Ruddy                         \n",
      "correct=male     guess=female   name=Rustie                        \n",
      "correct=male     guess=female   name=Sarge                         \n",
      "correct=male     guess=female   name=Sergei                        \n",
      "correct=male     guess=female   name=Shelby                        \n",
      "correct=male     guess=female   name=Shelley                       \n",
      "correct=male     guess=female   name=Si                            \n",
      "correct=male     guess=female   name=Sidney                        \n",
      "correct=male     guess=female   name=Solly                         \n",
      "correct=male     guess=female   name=Stacy                         \n",
      "correct=male     guess=female   name=Steve                         \n",
      "correct=male     guess=female   name=Tallie                        \n",
      "correct=male     guess=female   name=Tally                         \n",
      "correct=male     guess=female   name=Tanny                         \n",
      "correct=male     guess=female   name=Tate                          \n",
      "correct=male     guess=female   name=Theodore                      \n",
      "correct=male     guess=female   name=Timothy                       \n",
      "correct=male     guess=female   name=Tobiah                        \n",
      "correct=male     guess=female   name=Toby                          \n",
      "correct=male     guess=female   name=Tony                          \n",
      "correct=male     guess=female   name=Tre                           \n",
      "correct=male     guess=female   name=Ulrich                        \n",
      "correct=male     guess=female   name=Vassily                       \n",
      "correct=male     guess=female   name=Verne                         \n",
      "correct=male     guess=female   name=Verney                        \n",
      "correct=male     guess=female   name=Vince                         \n",
      "correct=male     guess=female   name=Virge                         \n",
      "correct=male     guess=female   name=Waverley                      \n",
      "correct=male     guess=female   name=Waverly                       \n",
      "correct=male     guess=female   name=Willey                        \n",
      "correct=male     guess=female   name=Willi                         \n",
      "correct=male     guess=female   name=Winny                         \n",
      "correct=male     guess=female   name=Yancy                         \n",
      "correct=male     guess=male     name=Abelard                       \n",
      "correct=male     guess=male     name=Abram                         \n",
      "correct=male     guess=male     name=Adrick                        \n",
      "correct=male     guess=male     name=Agamemnon                     \n",
      "correct=male     guess=male     name=Agustin                       \n",
      "correct=male     guess=male     name=Alasdair                      \n",
      "correct=male     guess=male     name=Aleksandrs                    \n",
      "correct=male     guess=male     name=Alex                          \n",
      "correct=male     guess=male     name=Alexis                        \n",
      "correct=male     guess=male     name=Alic                          \n",
      "correct=male     guess=male     name=Alston                        \n",
      "correct=male     guess=male     name=Alwin                         \n",
      "correct=male     guess=male     name=Ambros                        \n",
      "correct=male     guess=male     name=Amos                          \n",
      "correct=male     guess=male     name=Ansell                        \n",
      "correct=male     guess=male     name=Aron                          \n",
      "correct=male     guess=male     name=Aubert                        \n",
      "correct=male     guess=male     name=Avrom                         \n",
      "correct=male     guess=male     name=Bard                          \n",
      "correct=male     guess=male     name=Bartholomew                   \n",
      "correct=male     guess=male     name=Bartolomeo                    \n",
      "correct=male     guess=male     name=Berchtold                     \n",
      "correct=male     guess=male     name=Bert                          \n",
      "correct=male     guess=male     name=Bob                           \n",
      "correct=male     guess=male     name=Brent                         \n",
      "correct=male     guess=male     name=Briggs                        \n",
      "correct=male     guess=male     name=Cain                          \n",
      "correct=male     guess=male     name=Calhoun                       \n",
      "correct=male     guess=male     name=Chalmers                      \n",
      "correct=male     guess=male     name=Charles                       \n",
      "correct=male     guess=male     name=Charleton                     \n",
      "correct=male     guess=male     name=Chester                       \n",
      "correct=male     guess=male     name=Chev                          \n",
      "correct=male     guess=male     name=Clair                         \n",
      "correct=male     guess=male     name=Cleland                       \n",
      "correct=male     guess=male     name=Clemens                       \n",
      "correct=male     guess=male     name=Clifford                      \n",
      "correct=male     guess=male     name=Clifton                       \n",
      "correct=male     guess=male     name=Constantinos                  \n",
      "correct=male     guess=male     name=Curtis                        \n",
      "correct=male     guess=male     name=Damon                         \n",
      "correct=male     guess=male     name=Darien                        \n",
      "correct=male     guess=male     name=Darrell                       \n",
      "correct=male     guess=male     name=Davis                         \n",
      "correct=male     guess=male     name=Dawson                        \n",
      "correct=male     guess=male     name=Deryl                         \n",
      "correct=male     guess=male     name=Desmond                       \n",
      "correct=male     guess=male     name=Dillon                        \n",
      "correct=male     guess=male     name=Dominic                       \n",
      "correct=male     guess=male     name=Edouard                       \n",
      "correct=male     guess=male     name=Ehud                          \n",
      "correct=male     guess=male     name=Eldon                         \n",
      "correct=male     guess=male     name=Emilio                        \n",
      "correct=male     guess=male     name=Ernst                         \n",
      "correct=male     guess=male     name=Ethelred                      \n",
      "correct=male     guess=male     name=Euclid                        \n",
      "correct=male     guess=male     name=Ewart                         \n",
      "correct=male     guess=male     name=Ferd                          \n",
      "correct=male     guess=male     name=Ferdinand                     \n",
      "correct=male     guess=male     name=Filbert                       \n",
      "correct=male     guess=male     name=Flemming                      \n",
      "correct=male     guess=male     name=Flinn                         \n",
      "correct=male     guess=male     name=Fonz                          \n",
      "correct=male     guess=male     name=Fran                          \n",
      "correct=male     guess=male     name=Francesco                     \n",
      "correct=male     guess=male     name=Fredrick                      \n",
      "correct=male     guess=male     name=Fritz                         \n",
      "correct=male     guess=male     name=Gail                          \n",
      "correct=male     guess=male     name=Gardener                      \n",
      "correct=male     guess=male     name=Geof                          \n",
      "correct=male     guess=male     name=Geraldo                       \n",
      "correct=male     guess=male     name=Gershon                       \n",
      "correct=male     guess=male     name=Gian                          \n",
      "correct=male     guess=male     name=Giancarlo                     \n",
      "correct=male     guess=male     name=Gideon                        \n",
      "correct=male     guess=male     name=Gil                           \n",
      "correct=male     guess=male     name=Gilbert                       \n",
      "correct=male     guess=male     name=Gilberto                      \n",
      "correct=male     guess=male     name=Godard                        \n",
      "correct=male     guess=male     name=Griswold                      \n",
      "correct=male     guess=male     name=Gustavus                      \n",
      "correct=male     guess=male     name=Halvard                       \n",
      "correct=male     guess=male     name=Hamlet                        \n",
      "correct=male     guess=male     name=Harrison                      \n",
      "correct=male     guess=male     name=Hastings                      \n",
      "correct=male     guess=male     name=Hayward                       \n",
      "correct=male     guess=male     name=Herb                          \n",
      "correct=male     guess=male     name=Herbert                       \n",
      "correct=male     guess=male     name=Hermon                        \n",
      "correct=male     guess=male     name=Heywood                       \n",
      "correct=male     guess=male     name=Higgins                       \n",
      "correct=male     guess=male     name=Hilbert                       \n",
      "correct=male     guess=male     name=Hollis                        \n",
      "correct=male     guess=male     name=Howard                        \n",
      "correct=male     guess=male     name=Hubert                        \n",
      "correct=male     guess=male     name=Hudson                        \n",
      "correct=male     guess=male     name=Ingamar                       \n",
      "correct=male     guess=male     name=Ingram                        \n",
      "correct=male     guess=male     name=Ismail                        \n",
      "correct=male     guess=male     name=Izak                          \n",
      "correct=male     guess=male     name=Jarvis                        \n",
      "correct=male     guess=male     name=Jean-Francois                 \n",
      "correct=male     guess=male     name=Jean-Luc                      \n",
      "correct=male     guess=male     name=Jef                           \n",
      "correct=male     guess=male     name=Jerold                        \n",
      "correct=male     guess=male     name=Joab                          \n",
      "correct=male     guess=male     name=Joao                          \n",
      "correct=male     guess=male     name=Jonas                         \n",
      "correct=male     guess=male     name=Jordan                        \n",
      "correct=male     guess=male     name=Josephus                      \n",
      "correct=male     guess=male     name=Jud                           \n",
      "correct=male     guess=male     name=Judas                         \n",
      "correct=male     guess=male     name=Judd                          \n",
      "correct=male     guess=male     name=Keenan                        \n",
      "correct=male     guess=male     name=Kenton                        \n",
      "correct=male     guess=male     name=King                          \n",
      "correct=male     guess=male     name=Kris                          \n",
      "correct=male     guess=male     name=Kurt                          \n",
      "correct=male     guess=male     name=Lambert                       \n",
      "correct=male     guess=male     name=Lawson                        \n",
      "correct=male     guess=male     name=Lawton                        \n",
      "correct=male     guess=male     name=Lazlo                         \n",
      "correct=male     guess=male     name=Leo                           \n",
      "correct=male     guess=male     name=Lev                           \n",
      "correct=male     guess=male     name=Lew                           \n",
      "correct=male     guess=male     name=Liam                          \n",
      "correct=male     guess=male     name=Lothar                        \n",
      "correct=male     guess=male     name=Lucien                        \n",
      "correct=male     guess=male     name=Ludwig                        \n",
      "correct=male     guess=male     name=Manfred                       \n",
      "correct=male     guess=male     name=Mart                          \n",
      "correct=male     guess=male     name=Mathias                       \n",
      "correct=male     guess=male     name=Matt                          \n",
      "correct=male     guess=male     name=Matthieu                      \n",
      "correct=male     guess=male     name=Mayor                         \n",
      "correct=male     guess=male     name=Meier                         \n",
      "correct=male     guess=male     name=Melvyn                        \n",
      "correct=male     guess=male     name=Merwin                        \n",
      "correct=male     guess=male     name=Mikael                        \n",
      "correct=male     guess=male     name=Muhammad                      \n",
      "correct=male     guess=male     name=Munmro                        \n",
      "correct=male     guess=male     name=Nat                           \n",
      "correct=male     guess=male     name=Ned                           \n",
      "correct=male     guess=male     name=Nelsen                        \n",
      "correct=male     guess=male     name=Niall                         \n",
      "correct=male     guess=male     name=Nick                          \n",
      "correct=male     guess=male     name=Nickolas                      \n",
      "correct=male     guess=male     name=Nilson                        \n",
      "correct=male     guess=male     name=Odell                         \n",
      "correct=male     guess=male     name=Olaf                          \n",
      "correct=male     guess=male     name=Oren                          \n",
      "correct=male     guess=male     name=Orrin                         \n",
      "correct=male     guess=male     name=Osbourn                       \n",
      "correct=male     guess=male     name=Osmund                        \n",
      "correct=male     guess=male     name=Otes                          \n",
      "correct=male     guess=male     name=Paco                          \n",
      "correct=male     guess=male     name=Palmer                        \n",
      "correct=male     guess=male     name=Parker                        \n",
      "correct=male     guess=male     name=Pen                           \n",
      "correct=male     guess=male     name=Phil                          \n",
      "correct=male     guess=male     name=Phillip                       \n",
      "correct=male     guess=male     name=Phillipp                      \n",
      "correct=male     guess=male     name=Phineas                       \n",
      "correct=male     guess=male     name=Piet                          \n",
      "correct=male     guess=male     name=Pincas                        \n",
      "correct=male     guess=male     name=Piotr                         \n",
      "correct=male     guess=male     name=Quint                         \n",
      "correct=male     guess=male     name=Ramon                         \n",
      "correct=male     guess=male     name=Raphael                       \n",
      "correct=male     guess=male     name=Reagan                        \n",
      "correct=male     guess=male     name=Regan                         \n",
      "correct=male     guess=male     name=Renato                        \n",
      "correct=male     guess=male     name=Ricardo                       \n",
      "correct=male     guess=male     name=Robb                          \n",
      "correct=male     guess=male     name=Roland                        \n",
      "correct=male     guess=male     name=Rolf                          \n",
      "correct=male     guess=male     name=Rudolfo                       \n",
      "correct=male     guess=male     name=Russ                          \n",
      "correct=male     guess=male     name=Rutherford                    \n",
      "correct=male     guess=male     name=Salmon                        \n",
      "correct=male     guess=male     name=Saunder                       \n",
      "correct=male     guess=male     name=Sayer                         \n",
      "correct=male     guess=male     name=Sean                          \n",
      "correct=male     guess=male     name=Sebastiano                    \n",
      "correct=male     guess=male     name=Shannon                       \n",
      "correct=male     guess=male     name=Shaw                          \n",
      "correct=male     guess=male     name=Shell                         \n",
      "correct=male     guess=male     name=Shelton                       \n",
      "correct=male     guess=male     name=Sholom                        \n",
      "correct=male     guess=male     name=Shurwood                      \n",
      "correct=male     guess=male     name=Silvain                       \n",
      "correct=male     guess=male     name=Sim                           \n",
      "correct=male     guess=male     name=Simeon                        \n",
      "correct=male     guess=male     name=Son                           \n",
      "correct=male     guess=male     name=Spencer                       \n",
      "correct=male     guess=male     name=Spud                          \n",
      "correct=male     guess=male     name=Stefano                       \n",
      "correct=male     guess=male     name=Steffen                       \n",
      "correct=male     guess=male     name=Sterling                      \n",
      "correct=male     guess=male     name=Steven                        \n",
      "correct=male     guess=male     name=Sting                         \n",
      "correct=male     guess=male     name=Stu                           \n",
      "correct=male     guess=male     name=Sumner                        \n",
      "correct=male     guess=male     name=Syd                           \n",
      "correct=male     guess=male     name=Sylvan                        \n",
      "correct=male     guess=male     name=Taber                         \n",
      "correct=male     guess=male     name=Tan                           \n",
      "correct=male     guess=male     name=Teodorico                     \n",
      "correct=male     guess=male     name=Thacher                       \n",
      "correct=male     guess=male     name=Thaddius                      \n",
      "correct=male     guess=male     name=Thaxter                       \n",
      "correct=male     guess=male     name=Thebault                      \n",
      "correct=male     guess=male     name=Thedrick                      \n",
      "correct=male     guess=male     name=Theodoric                     \n",
      "correct=male     guess=male     name=Theophyllus                   \n",
      "correct=male     guess=male     name=Thornton                      \n",
      "correct=male     guess=male     name=Tiebold                       \n",
      "correct=male     guess=male     name=Tiebout                       \n",
      "correct=male     guess=male     name=Timotheus                     \n",
      "correct=male     guess=male     name=Tomas                         \n",
      "correct=male     guess=male     name=Traver                        \n",
      "correct=male     guess=male     name=Trent                         \n",
      "correct=male     guess=male     name=Trev                          \n",
      "correct=male     guess=male     name=Trever                        \n",
      "correct=male     guess=male     name=Truman                        \n",
      "correct=male     guess=male     name=Ulises                        \n",
      "correct=male     guess=male     name=Ulysses                       \n",
      "correct=male     guess=male     name=Vaclav                        \n",
      "correct=male     guess=male     name=Valdemar                      \n",
      "correct=male     guess=male     name=Wait                          \n",
      "correct=male     guess=male     name=Wakefield                     \n",
      "correct=male     guess=male     name=Wald                          \n",
      "correct=male     guess=male     name=Warren                        \n",
      "correct=male     guess=male     name=Washington                    \n",
      "correct=male     guess=male     name=Wendel                        \n",
      "correct=male     guess=male     name=Whittaker                     \n",
      "correct=male     guess=male     name=Witold                        \n",
      "correct=male     guess=male     name=Wood                          \n",
      "correct=male     guess=male     name=Wyn                           \n",
      "correct=male     guess=male     name=Wynn                          \n",
      "correct=male     guess=male     name=Yard                          \n"
     ]
    }
   ],
   "source": [
    "for (tag, guess, name) in sorted(errors):\n",
    "    print \"correct=%-8s guess=%-8s name=%-30s\" % (tag, guess, name)"
   ]
  },
  {
   "cell_type": "code",
   "execution_count": 96,
   "metadata": {
    "collapsed": true
   },
   "outputs": [],
   "source": [
    "def gender_features_suffix(name):\n",
    "    return {\"suffix1\": name[-1:],\n",
    "           \"suffix2\": name[-2:]}"
   ]
  },
  {
   "cell_type": "code",
   "execution_count": 97,
   "metadata": {
    "collapsed": false
   },
   "outputs": [],
   "source": [
    "train_set = [(gender_features_suffix(n), g) for (n,g) in train_names]\n",
    "devtest_set = [(gender_features_suffix(n), g) for (n,g) in devtest_names]\n",
    "test_set = [(gender_features_suffix(n), g) for (n,g) in test_names]"
   ]
  },
  {
   "cell_type": "code",
   "execution_count": 98,
   "metadata": {
    "collapsed": false
   },
   "outputs": [
    {
     "name": "stdout",
     "output_type": "stream",
     "text": [
      "0.758\n"
     ]
    }
   ],
   "source": [
    "classifier = nltk.NaiveBayesClassifier.train(train_set)\n",
    "print nltk.classify.accuracy(classifier, devtest_set)"
   ]
  },
  {
   "cell_type": "markdown",
   "metadata": {
    "collapsed": true
   },
   "source": [
    "### Document Classification\n",
    "\n",
    "The ultime objective of machine learning is to **generalize** the facts from some empirical sample data. This is called generalizaton, ans is essentially yhe ability to use these inferred fats to accurately perform at an accurate rate on new unseen data.\n",
    "\n",
    "[Choosing the Right Features](#Choosing the Right Features)"
   ]
  },
  {
   "cell_type": "code",
   "execution_count": 30,
   "metadata": {
    "collapsed": false
   },
   "outputs": [],
   "source": [
    "from nltk.corpus import movie_reviews\n",
    "\n",
    "documents = [(list(movie_reviews.words(fileid)), category) \\\n",
    "             for category in movie_reviews.categories() \\\n",
    "             for fileid in movie_reviews.fileids(category)]\n",
    "\n",
    "random.shuffle(documents)"
   ]
  },
  {
   "cell_type": "code",
   "execution_count": null,
   "metadata": {
    "collapsed": true
   },
   "outputs": [],
   "source": [
    "all_words = nltk.FreqDist(w.lower() for w in movie_reviews.words())\n",
    "word_features = all_words.keys()[:2000]"
   ]
  },
  {
   "cell_type": "code",
   "execution_count": 35,
   "metadata": {
    "collapsed": false
   },
   "outputs": [],
   "source": [
    "def document_features(document):\n",
    "    # checking whether a word occurs in a set is much faster than checking\n",
    "    # it occurs in a list\n",
    "    document_words = set(document)\n",
    "    features = {}\n",
    "    for word in word_features:\n",
    "        features['contains(%s)' % word] = (word in document_words)\n",
    "    return features"
   ]
  },
  {
   "cell_type": "code",
   "execution_count": 34,
   "metadata": {
    "collapsed": false
   },
   "outputs": [
    {
     "name": "stdout",
     "output_type": "stream",
     "text": [
      "{u'contains(corporate)': False, u'contains(barred)': False, u'contains(batmans)': False, u'contains(menacing)': False, u'contains(rags)': False, u'contains(inquires)': False, u'contains(nosebleeding)': False, u'contains(playhouse)': False, u'contains(peculiarities)': False, u'contains(kilgore)': False, u'contains(tarnish)': False, u'contains(sand)': False, u'contains(busting)': False, u'contains(wedge)': False, u'contains(smelling)': False, u'contains(tulip)': False, u'contains(singled)': False, u'contains(wahlberg)': False, u'contains(needed)': False, u'contains(lydia)': False, u'contains(rick)': False, u'contains(cambodia)': False, u'contains(outfielders)': False, u'contains(jovivich)': False, u'contains(pinon)': False, u'contains(fix)': False, u'contains(marla)': False, u'contains(resources)': False, u'contains(nomi)': False, u'contains(irs)': False, u'contains(mason)': False, u'contains(vicariously)': False, u'contains(ingrained)': False, u'contains(skepticism)': False, u'contains(tested)': False, u'contains(spat)': False, u'contains(nfeatured)': False, u'contains(accomplishes)': False, u'contains(sierra)': False, u'contains(lunges)': False, u'contains(telefixated)': False, u'contains(wednesday)': False, u'contains(spiders)': False, u'contains(waft)': False, u'contains(jim)': False, u'contains(cinematic)': False, u'contains(pseudonymous)': False, u'contains(troubles)': False, u'contains(dimension)': False, u'contains(cassette)': False, u'contains(corsucant)': False, u'contains(absolute)': False, u'contains(harmonious)': False, u'contains(saying)': False, u'contains(misdemeanors)': False, u'contains(prodigious)': False, u'contains(reclining)': False, u'contains(loudness)': False, u'contains(lombard)': False, u'contains(sickening)': False, u'contains(cooking)': False, u'contains(oprah)': False, u'contains(platt)': False, u'contains(rolf)': False, u'contains(episodes)': False, u'contains(derivative)': False, u'contains(receipt)': False, u'contains(impactful)': False, u'contains(fonzie)': False, u'contains(chyron)': False, u'contains(dragonflies)': False, u'contains(ugliness)': False, u'contains(sauce)': False, u'contains(crossroads)': False, u'contains(paired)': False, u'contains(tomei)': False, u'contains(hounds)': False, u'contains(marshmallows)': False, u'contains(lick)': False, u'contains(hass)': False, u'contains(surges)': False, u'contains(watched)': False, u'contains(ivey)': False, u'contains(nuez)': False, u'contains(mentors)': False, u'contains(tricky)': False, u'contains(surveying)': False, u'contains(ditching)': False, u'contains(haystack)': False, u'contains(warriors)': False, u'contains(purged)': False, u'contains(rehabilitation)': False, u'contains(petitions)': False, u'contains(bogs)': False, u'contains(absense)': False, u'contains(courtesans)': False, u'contains(followed)': False, u'contains(har)': False, u'contains(anthesis)': False, u'contains(grotesqe)': False, u'contains(_i_know_what_you_did_last_summer_)': False, u'contains(survey)': False, u'contains(bartok)': False, u'contains(thivisol)': False, u'contains(exponential)': False, u'contains(birdie)': False, u'contains(cincinnati)': False, u'contains(unthrilling)': False, u'contains(balsan)': False, u'contains(bumming)': False, u'contains(celebrated)': False, u'contains(renovated)': False, u'contains(crowd)': False, u'contains(shows)': False, u'contains(lana)': False, u'contains(haskin)': False, u'contains(despite)': False, u'contains(scharzenegger)': False, u'contains(undergone)': False, u'contains(aissa)': False, u'contains(leit)': False, u'contains(mouth)': False, u'contains(demeaning)': False, u'contains(drilling)': False, u'contains(unsworth)': False, u'contains(bannister)': False, u'contains(wiseguy)': False, u'contains(lackies)': False, u'contains(norville)': False, u'contains(dampens)': False, u'contains(satisfactory)': False, u'contains(abuser)': False, u'contains(had)': False, u'contains(nature)': False, u'contains(awake)': False, u'contains(wiseguys)': False, u'contains(cerebrally)': False, u'contains(ballisitic)': False, u'contains(trauma)': False, u'contains(geography)': False, u'contains(genieveve)': False, u'contains(leeanne)': False, u'contains(cannibal)': False, u'contains(intoxicating)': False, u'contains(olds)': False, u'contains(tastefully)': False, u'contains(defy)': False, u'contains(drafted)': False, u'contains(strums)': False, u'contains(dilemnas)': False, u'contains(amoeba)': False, u'contains(assimilation)': False, u'contains(reprisal)': False, u'contains(janusz)': False, u'contains(leonardi)': False, u'contains(procures)': False, u'contains(canoeing)': False, u'contains(emergence)': False, u'contains(diving)': False, u'contains(aatish)': False, u'contains(masturbatory)': False, u'contains(peaceably)': False, u'contains(persistently)': False, u'contains(survival)': False, u'contains(portrays)': False, u'contains(ceasing)': False, u'contains(bubble)': False, u'contains(sonja)': False, u'contains(unarguably)': False, u'contains(unbuttoning)': False, u'contains(jessalyn)': False, u'contains(windmill)': False, u'contains(longs)': False, u'contains(baby)': False, u'contains(mute)': False, u'contains(sikh)': False, u'contains(nicely)': False, u'contains(burial)': False, u'contains(formed)': False, u'contains(locket)': False, u'contains(frizzy)': False, u'contains(darnell)': False, u'contains(outraging)': False, u'contains(politicos)': False, u'contains(2293)': False, u'contains(devoured)': False, u'contains(universality)': False, u'contains(didn)': False, u'contains(perpetrator)': False, u'contains(thats)': False, u'contains(dethroned)': False, u'contains(malintentioned)': False, u'contains(insubordinate)': False, u'contains(humpback)': False, u'contains(meditative)': False, u'contains(pimply)': False, u'contains(tyranny)': False, u'contains(loyalties)': False, u'contains(humbler)': False, u'contains(kindergartner)': False, u'contains(suitcases)': False, u'contains(grope)': False, u'contains(touts)': False, u'contains(advertisement)': False, u'contains(shirts)': False, u'contains(videodrome)': False, u'contains(eggar)': False, u'contains(portillo)': False, u'contains(macht)': False, u'contains(perishes)': False, u'contains(preference)': False, u'contains(pell)': False, u'contains(moniker)': False, u'contains(fakery)': False, u'contains(edouard)': False, u'contains(aughra)': False, u'contains(foregrounds)': False, u'contains(snobbish)': False, u'contains(printed)': False, u'contains(dispite)': False, u'contains(pulled)': False, u'contains(russ)': False, u'contains(admires)': False, u'contains(hurricaine)': False, u'contains(milked)': False, u'contains(master)': False, u'contains(spurting)': False, u'contains(oversimplified)': False, u'contains(overlord)': False, u'contains(goody)': False, u'contains(has)': True, u'contains(pringles)': False, u'contains(celebrates)': False, u'contains(domed)': False, u'contains(wrinkles)': False, u'contains(abandons)': False, u'contains(solaris)': False, u'contains(clumsiness)': False, u'contains(deductions)': False, u'contains(sugarplums)': False, u'contains(lombardo)': False, u'contains(humbled)': False, u'contains(beware)': False, u'contains(antichrist)': False, u'contains(cavity)': False, u'contains(anthropologists)': False, u'contains(typicalness)': False, u'contains(crowe)': False, u'contains(scramble)': False, u'contains(stoically)': False, u'contains(tanker)': False, u'contains(thanking)': False, u'contains(brunette)': False, u'contains(retells)': False, u'contains(rudnick)': False, u'contains(sidebars)': False, u'contains(interviewed)': False, u'contains(greenwald)': False, u'contains(brutally)': False, u'contains(misconstrued)': False, u'contains(piscapo)': False, u'contains(vocalized)': False, u'contains(negg)': False, u'contains(benigness)': False, u'contains(cigarettes)': False, u'contains(want)': False, u'contains(huge)': False, u'contains(mediocrity)': False, u'contains(opar)': False, u'contains(abortion)': False, u'contains(chap)': False, u'contains(paled)': False, u'contains(distraction)': False, u'contains(hypsy)': False, u'contains(elders)': False, u'contains(compass)': False, u'contains(circuitry)': False, u'contains(rebuilding)': False, u'contains(hat)': False, u'contains(marshall)': False, u'contains(professory)': False, u'contains(dismisses)': False, u'contains(oderkerk)': False, u'contains(bunker)': False, u'contains(spit)': False, u'contains(abject)': False, u'contains(s)': True, u'contains(underdone)': False, u'contains(starring)': False, u'contains(dared)': False, u'contains(antidote)': False, u'contains(igniting)': False, u'contains(touchy)': False, u'contains(doubts)': False, u'contains(erich)': False, u'contains(trails)': False, u'contains(socking)': False, u'contains(surfing)': False, u'contains(promotional)': False, u'contains(sponsorship)': False, u'contains(circumstances)': False, u'contains(zoe)': False, u'contains(process)': False, u'contains(sponsor)': False, u'contains(mortified)': False, u'contains(snickered)': False, u'contains(minah)': False, u'contains(soaked)': False, u'contains(entering)': False, u'contains(cheddar)': False, u'contains(soundbite)': False, u'contains(recombination)': False, u'contains(zigged)': False, u'contains(sublimated)': False, u'contains(niall)': False, u'contains(sixteen)': False, u'contains(harassing)': False, u'contains(loitered)': False, u'contains(dna)': False, u'contains(noblewoman)': False, u'contains(interogation)': False, u'contains(locusts)': False, u'contains(skirmish)': False, u'contains(unintentionally)': False, u'contains(bounce)': False, u'contains(rebounding)': False, u'contains(guarded)': False, u'contains(mori)': False, u'contains(cages)': False, u'contains(atlantis)': False, u'contains(sustaining)': False, u'contains(straighten)': False, u'contains(otto)': False, u'contains(flotsam)': False, u'contains(centuries)': False, u'contains(promiss)': False, u'contains(maude)': False, u'contains(hawkes)': False, u'contains(scott)': False, u'contains(edged)': False, u'contains(wrong)': True, u'contains(frenchmen)': False, u'contains(dilbert)': False, u'contains(indicative)': False, u'contains(bruckheimer)': False, u'contains(porpoise)': False, u'contains(uncharacteristically)': False, u'contains(ellen)': False, u'contains(stifle)': False, u'contains(stormare)': False, u'contains(wracked)': False, u'contains(encourage)': False, u'contains(wits)': False, u'contains(bios)': False, u'contains(fry)': False, u'contains(resonated)': False, u'contains(lyndon)': False, u'contains(stylings)': False, u'contains(rangers)': False, u'contains(marlo)': False, u'contains(stillness)': False, u'contains(arlington)': False, u'contains(scold)': False, u'contains(belt)': False, u'contains(mcferran)': False, u'contains(ching)': False, u'contains(stern)': False, u'contains(crackles)': False, u'contains(antwerp)': False, u'contains(remembrance)': False, u'contains(expressively)': False, u'contains(byline)': False, u'contains(admirer)': False, u'contains(squirt)': False, u'contains(saucy)': False, u'contains(clients)': False, u'contains(mirrors)': False, u'contains(gloating)': False, u'contains(herzfeld)': False, u'contains(inconsistent)': False, u'contains(untouched)': False, u'contains(whizzing)': False, u'contains(traumatizes)': False, u'contains(bouyant)': False, u'contains(initiated)': False, u'contains(yogi)': False, u'contains(wales)': False, u'contains(disintegrated)': False, u'contains(spotty)': False, u'contains(fisherman)': False, u'contains(greatness)': False, u'contains(neary)': False, u'contains(boiler)': False, u'contains(westlake)': False, u'contains(allan)': False, u'contains(organisations)': False, u'contains(premier)': False, u'contains(apace)': False, u'contains(matilda)': False, u'contains(belloq)': False, u'contains(glenne)': False, u'contains(nothin)': False, u'contains(revolutionized)': False, u'contains(macgowan)': False, u'contains(faded)': False, u'contains(ryan_)': False, u'contains(terrifyingly)': False, u'contains(awaiting)': False, u'contains(onofrio)': False, u'contains(goodman)': False, u'contains(crazies)': False, u'contains(caitlyn)': False, u'contains(virus)': False, u'contains(adroit)': False, u'contains(prostration)': False, u'contains(resorts)': False, u'contains(yugoslavians)': False, u'contains(signs)': False, u'contains(formulates)': False, u'contains(squabble)': False, u'contains(much)': False, u'contains(screaming)': False, u'contains(methods)': False, u'contains(despises)': False, u'contains(bogg)': False, u'contains(ony)': False, u'contains(excising)': False, u'contains(dahlings)': False, u'contains(makes)': False, u'contains(sympathize)': False, u'contains(stoicism)': False, u'contains(isaac)': False, u'contains(juergen)': False, u'contains(bolstered)': False, u'contains(blonde)': False, u'contains(aggressivelly)': False, u'contains(fruity)': False, u'contains(mutilated)': False, u'contains(mensch)': False, u'contains(behave)': False, u'contains(red)': False, u'contains(palladino)': False, u'contains(welcomes)': False, u'contains(seaman)': False, u'contains(couple)': False, u'contains(excitable)': False, u'contains(charges)': False, u'contains(rich)': False, u'contains(broader)': False, u'contains(shapely)': False, u'contains(dolph)': False, u'contains(gladys)': False, u'contains(wives)': False, u'contains(detectives)': False, u'contains(cobblers)': False, u'contains(unrecognizable)': False, u'contains(colonists)': False, u'contains(mintues)': False, u'contains(mystic)': False, u'contains(sportsmanship)': False, u'contains(benson)': False, u'contains(parachute)': False, u'contains(millieu)': False, u'contains(defensively)': False, u'contains(being)': False, u'contains(seminal)': False, u'contains(music)': False, u'contains(pull)': False, u'contains(90210)': False, u'contains(cloris)': False, u'contains(traumatised)': False, u'contains(diapers)': False, u'contains(replied)': False, u'contains(wachowskis)': False, u'contains(speedboat)': False, u'contains(krippendorf)': False, u'contains(hercules)': False, u'contains(meteorologist)': False, u'contains(bogglingly)': False, u'contains(smiling)': False, u'contains(pinto)': False, u'contains(bursting)': False, u'contains(modestly)': False, u'contains(climber)': False, u'contains(dodie)': False, u'contains(retell)': False, u'contains(wage)': False, u'contains(sela)': False, u'contains(henpecked)': False, u'contains(complications)': False, u'contains(pretzel)': False, u'contains(stifled)': False, u'contains(trys)': False, u'contains(reopens)': False, u'contains(babe)': False, u'contains(discerning)': False, u'contains(headset)': False, u'contains(stoker)': False, u'contains(doom)': False, u'contains(snuggles)': False, u'contains(cessation)': False, u'contains(abbreviated)': False, u'contains(enjoys)': False, u'contains(ideally)': False, u'contains(raped)': False, u'contains(_seven_nights_)': False, u'contains(haviland)': False, u'contains(confrontatory)': False, u'contains(charnel)': False, u'contains(pasadena)': False, u'contains(portentuous)': False, u'contains(titanium)': False, u'contains(abnormally)': False, u'contains(unwelcomed)': False, u'contains(procreate)': False, u'contains(keeble)': False, u'contains(sumptuous)': False, u'contains(conscious)': False, u'contains(regressive)': False, u'contains(embark)': False, u'contains(expound)': False, u'contains(wacked)': False, u'contains(engages)': False, u'contains(touchstone)': False, u'contains(amarcord)': False, u'contains(tsui)': False, u'contains(petrice)': False, u'contains(numeric)': False, u'contains(hotcakes)': False, u'contains(chlorine)': False, u'contains(locked)': False, u'contains(tremble)': False, u'contains(featherbrained)': False, u'contains(conceptually)': False, u'contains(genesis)': False, u'contains(meddled)': False, u'contains(lads)': False, u'contains(friggin)': False, u'contains(mutinies)': False, u'contains(stoked)': False, u'contains(copious)': False, u'contains(revelatory)': False, u'contains(cronenberg)': False, u'contains(absorbs)': False, u'contains(rhythmless)': False, u'contains(burley)': False, u'contains(whoever)': False, u'contains(mosques)': False, u'contains(hag)': False, u'contains(bianca)': False, u'contains(anonymously)': False, u'contains(prior)': False, u'contains(procreating)': False, u'contains(carelessly)': False, u'contains(chad)': False, u'contains(forwarned)': False, u'contains(maker)': False, u'contains(fin)': False, u'contains(bulow)': False, u'contains(informants)': False, u'contains(nora)': False, u'contains(ballet)': False, u'contains(chomped)': False, u'contains(sommers)': False, u'contains(spacemusic)': False, u'contains(bastad)': False, u'contains(rabal)': False, u'contains(golden)': False, u'contains(whoaaaaaa)': False, u'contains(toning)': False, u'contains(overturned)': False, u'contains(handcuffs)': False, u'contains(nonsensical)': False, u'contains(preservation)': False, u'contains(eyelids)': False, u'contains(considerably)': False, u'contains(rioters)': False, u'contains(pressed)': False, u'contains(tightened)': False, u'contains(extent)': False, u'contains(wandering)': False, u'contains(dozen)': False, u'contains(remastered)': False, u'contains(deserves)': False, u'contains(beowolf)': False, u'contains(warfield)': False, u'contains(audaciously)': False, u'contains(majorino)': False, u'contains(featherweight)': False, u'contains(superiority)': False, u'contains(portents)': False, u'contains(harvests)': False, u'contains(colleague)': False, u'contains(fewer)': False, u'contains(turned)': False, u'contains(wunderkind)': False, u'contains(opportunists)': False, u'contains(goggins)': False, u'contains(zellwegger)': False, u'contains(middleton)': False, u'contains(atlantic)': False, u'contains(pimp)': False, u'contains(grounded)': False, u'contains(doreen)': False, u'contains(caan)': False, u'contains(unknowns)': False, u'contains(seldes)': False, u'contains(spine)': False, u'contains(measurements)': False, u'contains(stifler)': False, u'contains(heebie)': False, u'contains(turner)': False, u'contains(ingrid)': False, u'contains(complicates)': False, u'contains(absurdities)': False, u'contains(unredeemable)': False, u'contains(navigators)': False, u'contains(rice)': False, u'contains(graffiti)': False, u'contains(oxymoron)': False, u'contains(sweaty)': False, u'contains(smashed)': False, u'contains(sorted)': False, u'contains(joely)': False, u'contains(phallus)': False, u'contains(roll)': False, u'contains(damnit)': False, u'contains(fugitives)': False, u'contains(shootout)': False, u'contains(saddened)': False, u'contains(span)': False, u'contains(condolences)': False, u'contains(koppelman)': False, u'contains(gardenia)': False, u'contains(locklear)': False, u'contains(cheekbones)': False, u'contains(horndog)': False, u'contains(topping)': False, u'contains(simplistic)': False, u'contains(foregin)': False, u'contains(muth)': False, u'contains(bamboo)': False, u'contains(leary)': False, u'contains(18th)': False, u'contains(gisbourne)': False, u'contains(oingo)': False, u'contains(natured)': False, u'contains(mistic)': False, u'contains(disaster_)': False, u'contains(ugc)': False, u'contains(spins)': False, u'contains(euphegenia)': False, u'contains(overpopulated)': False, u'contains(mba)': False, u'contains(more)': False, u'contains(lanky)': False, u'contains(oldies)': False, u'contains(_titus_andronicus_)': False, u'contains(thora)': False, u'contains(rooker)': False, u'contains(copulate)': False, u'contains(islamic)': False, u'contains(sympathetically)': False, u'contains(betraying)': False, u'contains(dynamics)': False, u'contains(convincingly)': False, u'contains(bedridden)': False, u'contains(woody)': False, u'contains(sunny)': False, u'contains(combatants)': False, u'contains(cannibals)': False, u'contains(allah)': False, u'contains(capoeira)': False, u'contains(petey)': False, u'contains(codename)': False, u'contains(goregeous)': False, u'contains(beloved)': False, u'contains(hav)': False, u'contains(macho)': False, u'contains(chins)': False, u'contains(goddamn)': False, u'contains(desiring)': False, u'contains(watcher)': False, u'contains(congratulations)': False, u'contains(velda)': False, u'contains(stylistics)': False, u'contains(crowbar)': False, u'contains(ahern)': False, u'contains(pyroclastic)': False, u'contains(incongruent)': False, u'contains(isacsson)': False, u'contains(shocks)': False, u'contains(hideaway)': False, u'contains(alexandre)': False, u'contains(chirping)': False, u'contains(gunshot)': False, u'contains(nervousness)': False, u'contains(retroactive)': False, u'contains(nighthawks)': False, u'contains(cranked)': False, u'contains(disasters)': False, u'contains(quaint)': False, u'contains(wrinkled)': False, u'contains(frontgate)': False, u'contains(shadow)': False, u'contains(onw)': False, u'contains(binges)': False, u'contains(unjust)': False, u'contains(meantime)': False, u'contains(scorces)': False, u'contains(mirabella)': False, u'contains(charmed)': False, u'contains(stays)': False, u'contains(disgrace)': False, u'contains(yakov)': False, u'contains(therefore)': False, u'contains(grapples)': False, u'contains(painkiller)': False, u'contains(waning)': False, u'contains(recycles)': False, u'contains(symmetry)': False, u'contains(wants)': False, u'contains(f)': False, u'contains(melinda)': False, u'contains(magma)': False, u'contains(falstaff)': False, u'contains(battleships)': False, u'contains(shenanigans)': False, u'contains(locations)': False, u'contains(dumbest)': False, u'contains(diggler)': False, u'contains(dismantling)': False, u'contains(canran)': False, u'contains(ahmet)': False, u'contains(prizes)': False, u'contains(longo)': False, u'contains(overcooked)': False, u'contains(stereotypical)': False, u'contains(vivien)': False, u'contains(negativity)': False, u'contains(impacted)': False, u'contains(snugly)': False, u'contains(collides)': False, u'contains(stipulate)': False, u'contains(stifles)': False, u'contains(originally)': False, u'contains(upstate)': False, u'contains(gigolo)': False, u'contains(delectably)': False, u'contains(unjustifyably)': False, u'contains(pivot)': False, u'contains(spewing)': False, u'contains(former)': False, u'contains(fedoras)': False, u'contains(devito)': False, u'contains(telescope)': False, u'contains(collectively)': False, u'contains(savini)': False, u'contains(periodic)': False, u'contains(skewer)': False, u'contains(disasterous)': False, u'contains(enthrall)': False, u'contains(displays)': False, u'contains(carrion)': False, u'contains(weirdoes)': False, u'contains(buliwyf)': False, u'contains(palms)': False, u'contains(omaha)': False, u'contains(beesley)': False, u'contains(spyglass)': False, u'contains(spam)': False, u'contains(dyer)': False, u'contains(feeling)': False, u'contains(======)': False, u'contains(fueled)': False, u'contains(aussies)': False, u'contains(tenacious)': False, u'contains(restraints)': False, u'contains(doos)': False, u'contains(modest)': False, u'contains(chu)': False, u'contains(guitry)': False, u'contains(boarded)': False, u'contains(fistfights)': False, u'contains(trekkie)': False, u'contains(gripe)': False, u'contains(universally)': False, u'contains(lingering)': False, u'contains(breakfast)': False, u'contains(societal)': False, u'contains(courses)': False, u'contains(outburst)': False, u'contains(hatchette)': False, u'contains(obscured)': False, u'contains(floated)': False, u'contains(limburgher)': False, u'contains(gorman)': False, u'contains(pissant)': False, u'contains(mussenden)': False, u'contains(underlining)': False, u'contains(duet)': False, u'contains(estimate)': False, u'contains(testaments)': False, u'contains(francesca)': False, u'contains(lameness)': False, u'contains(bliss)': False, u'contains(slothful)': False, u'contains(bazooms)': False, u'contains(smirk)': False, u'contains(haw)': False, u'contains(glowers)': False, u'contains(learn)': False, u'contains(playfulness)': False, u'contains(hackwork)': False, u'contains(distractedness)': False, u'contains(perturbed)': False, u'contains(aboard)': False, u'contains(enliven)': False, u'contains(briesewitz)': False, u'contains(exasperating)': False, u'contains(ambiguities)': False, u'contains(waitering)': False, u'contains(israel)': False, u'contains(insane)': False, u'contains(kfc)': False, u'contains(spin)': False, u'contains(tracking)': False, u'contains(massironi)': False, u'contains(directs)': False, u'contains(limitless)': False, u'contains(slaver)': False, u'contains(chrissy)': False, u'contains(lang)': False, u'contains(droning)': False, u'contains(deserved)': False, u'contains(bozo)': False, u'contains(apropos)': False, u'contains(subplots)': False, u'contains(parlay)': False, u'contains(hai)': False, u'contains(healed)': False, u'contains(collided)': False, u'contains(expanded)': False, u'contains(academic)': False, u'contains(chaz)': False, u'contains(pridefully)': False, u'contains(twisting)': False, u'contains(whacking)': False, u'contains(francesco)': False, u'contains(turkish)': False, u'contains(extend)': False, u'contains(sock)': False, u'contains(kriss)': False, u'contains(tolan)': False, u'contains(concentrates)': False, u'contains(friend)': False, u'contains(small)': False, u'contains(landslide)': False, u'contains(himalayas)': False, u'contains(clarkson)': False, u'contains(delicately)': False, u'contains(punishable)': False, u'contains(chow)': False, u'contains(simplify)': False, u'contains(romper)': False, u'contains(rickman)': False, u'contains(shipments)': False, u'contains(inanimate)': False, u'contains(gershon)': False, u'contains(unsubstantial)': False, u'contains(neophytes)': False, u'contains(unsinkable)': False, u'contains(bohemians)': False, u'contains(surname)': False, u'contains(noteables)': False, u'contains(pooper)': False, u'contains(boozed)': False, u'contains(villiany)': False, u'contains(cuisine)': False, u'contains(arkin)': False, u'contains(wires)': False, u'contains(barrel)': False, u'contains(coaxed)': False, u'contains(duper)': False, u'contains(nordoff)': False, u'contains(aboslutely)': False, u'contains(jonnie)': False, u'contains(flipper)': False, u'contains(issac)': False, u'contains(uplifting)': False, u'contains(satire)': False, u'contains(mesmerize)': False, u'contains(norm)': False, u'contains(sects)': False, u'contains(decapitation)': False, u'contains(weendigo)': False, u'contains(union)': False, u'contains(admired)': False, u'contains(municipality)': False, u'contains(initiate)': False, u'contains(sked)': False, u'contains(freehold)': False, u'contains(butchers)': False, u'contains(conscription)': False, u'contains(tempted)': False, u'contains(engaged)': False, u'contains(soviets)': False, u'contains(milquetoast)': False, u'contains(scrubs)': False, u'contains(binding)': False, u'contains(.)': True, u'contains(ire)': False, u'contains(neurologist)': False, u'contains(address)': False, u'contains(tantalizingly)': False, u'contains(shockwave)': False, u'contains(dickinson)': False, u'contains(tightrope)': False, u'contains(transported)': False, u'contains(symbolise)': False, u'contains(plucked)': False, u'contains(assuring)': False, u'contains(investment)': False, u'contains(tricks)': False, u'contains(r2)': False, u'contains(implicit)': False, u'contains(phelps)': False, u'contains(door)': False, u'contains(ghostbusters)': False, u'contains(emmylou)': False, u'contains(houseman)': False, u'contains(proprietor)': False, u'contains(shandling)': False, u'contains(masturbates)': False, u'contains(sonorra)': False, u'contains(obliges)': False, u'contains(bicentennial)': False, u'contains(faulkner)': False, u'contains(minnie)': False, u'contains(ambling)': False, u'contains(mythos)': False, u'contains(courageously)': False, u'contains(grandma)': False, u'contains(marquee)': False, u'contains(storyboarded)': False, u'contains(hairdresser)': False, u'contains(following)': False, u'contains(guamo)': False, u'contains(horsing)': False, u'contains(sedition)': False, u'contains(redirection)': False, u'contains(roots)': False, u'contains(painstakingly)': False, u'contains(contrastingly)': False, u'contains(dues)': False, u'contains(huddled)': False, u'contains(disengaging)': False, u'contains(disgraced)': False, u'contains(crater)': False, u'contains(fabric)': False, u'contains(zippers)': False, u'contains(attenuated)': False, u'contains(cultivating)': False, u'contains(gown)': False, u'contains(positively)': False, u'contains(singed)': False, u'contains(twotg)': False, u'contains(disturbed)': False, u'contains(liebes)': False, u'contains(peppy)': False, u'contains(vexing)': False, u'contains(holdover)': False, u'contains(singer)': False, u'contains(shawn)': False, u'contains(sprinkle)': False, u'contains(consoles)': False, u'contains(sensitively)': False, u'contains(midget)': False, u'contains(land)': False, u'contains(katie)': False, u'contains(jitters)': False, u'contains(corrects)': False, u'contains(magyuver)': False, u'contains(indiscretion)': False, u'contains(locks)': False, u'contains(integrating)': False, u'contains(loco)': False, u'contains(ratttz)': False, u'contains(flyboy)': False, u'contains(hessian)': False, u'contains(budget)': False, u'contains(turvy)': False, u'contains(occurs)': False, u'contains(kroon)': False, u'contains(customer)': False, u'contains(hugh)': False, u'contains(ayla)': False, u'contains(crowdpleasing)': False, u'contains(embrassment)': False, u'contains(hockley)': False, u'contains(jovovich)': False, u'contains(malfunctions)': False, u'contains(jiang)': False, u'contains(scoffs)': False, u'contains(filmcritic)': False, u'contains(ahmed)': False, u'contains(zappa)': False, u'contains(designing)': False, u'contains(rabbinical)': False, u'contains(kyzynski)': False, u'contains(meaner)': False, u'contains(palisades)': False, u'contains(kensington)': False, u'contains(uhhhhhm)': False, u'contains(faceted)': False, u'contains(cadence)': False, u'contains(delroy)': False, u'contains(laughton)': False, u'contains(unequipped)': False, u'contains(pales)': False, u'contains(portait)': False, u'contains(photos)': False, u'contains(bouncy)': False, u'contains(_dragon_)': False, u'contains(sensitivity)': False, u'contains(assigns)': False, u'contains(tasting)': False, u'contains(dismissed)': False, u'contains(namuth)': False, u'contains(kids)': False, u'contains(acted)': False, u'contains(materialized)': False, u'contains(concentrated)': False, u'contains(individuals)': False, u'contains(alarming)': False, u'contains(wyman)': False, u'contains(elisa)': False, u'contains(internet)': False, u'contains(pass)': False, u'contains(existential)': False, u'contains(pencil)': False, u'contains(hennings)': False, u'contains(boorman)': False, u'contains(hash)': False, u'contains(balaban)': False, u'contains(exclaimed)': False, u'contains(chat)': False, u'contains(reconstruction)': False, u'contains(rocque)': False, u'contains(sensational)': False, u'contains(morose)': False, u'contains(rewatched)': False, u'contains(quarter)': False, u'contains(maclachlan)': False, u'contains(agitation)': False, u'contains(rover)': False, u'contains(eradicate)': False, u'contains(restoring)': False, u'contains(neilsen)': False, u'contains(traumatized)': False, u'contains(bureaucrat)': False, u'contains(padded)': False, u'contains(wickedly)': False, u'contains(self)': False, u'contains(overal)': False, u'contains(frieberg)': False, u'contains(teresa)': False, u'contains(jetsons)': False, u'contains(puzzling)': False, u'contains(gloomy)': False, u'contains(jip)': False, u'contains(waving)': False, u'contains(reconciling)': False, u'contains(typhoon)': False, u'contains(professionally)': False, u'contains(magwitch)': False, u'contains(lengthen)': False, u'contains(_eve)': False, u'contains(chabert)': False, u'contains(tamahori)': False, u'contains(welcomed)': False, u'contains(crates)': False, u'contains(reap)': False, u'contains(suffice)': False, u'contains(xenophobe)': False, u'contains(controversy)': False, u'contains(caned)': False, u'contains(mishandle)': False, u'contains(hay)': False, u'contains(honk)': False, u'contains(henceforth)': False, u'contains(sojourn)': False, u'contains(amphibians)': False, u'contains(rage)': False, u'contains(funicello)': False, u'contains(buzzsaw)': False, u'contains(fornicators)': False, u'contains(naomi)': False, u'contains(sci)': False, u'contains(lane)': False, u'contains(effects)': False, u'contains(uploaded)': False, u'contains(bueller)': False, u'contains(gadget)': False, u'contains(reactions)': False, u'contains(academia)': False, u'contains(brainless)': False, u'contains(henreid)': False, u'contains(debilitating)': False, u'contains(oblige)': False, u'contains(patrolled)': False, u'contains(realisation)': False, u'contains(explosions)': False, u'contains(voicework)': False, u'contains(raucous)': False, u'contains(edges)': False, u'contains(hoyle)': False, u'contains(pumpkins)': False, u'contains(tamara)': False, u'contains(eduard)': False, u'contains(vegetative)': False, u'contains(k)': False, u'contains(casualness)': False, u'contains(uninterrupted)': False, u'contains(amalgamation)': False, u'contains(exact)': False, u'contains(harnessed)': False, u'contains(moderately)': False, u'contains(minute)': False, u'contains(canning)': False, u'contains(continents)': False, u'contains(comically)': False, u'contains(stagecoach)': False, u'contains(harve)': False, u'contains(bummer)': False, u'contains(barren)': False, u'contains(colorized)': False, u'contains(edgecomb)': False, u'contains(rewarded)': False, u'contains(also)': True, u'contains(hormones)': False, u'contains(losin)': False, u'contains(policed)': False, u'contains(tardis)': False, u'contains(fecal)': False, u'contains(blond)': False, u'contains(detested)': False, u'contains(playback)': False, u'contains(reingold)': False, u'contains(rulebook)': False, u'contains(undeveloped)': False, u'contains(wynt)': False, u'contains(toucha)': False, u'contains(connection)': False, u'contains(matheson)': False, u'contains(civilians)': False, u'contains(scream)': True, u'contains(scalvaging)': False, u'contains(rica)': False, u'contains(brassed)': False, u'contains(troubled)': False, u'contains(altogether)': False, u'contains(oldham)': False, u'contains(dave)': False, u'contains(bacri)': False, u'contains(slurring)': False, u'contains(bakersfield)': False, u'contains(droves)': False, u'contains(carters)': False, u'contains(ineffable)': False, u'contains(beristain)': False, u'contains(spar)': False, u'contains(von)': False, u'contains(coachmen)': False, u'contains(mafioso)': False, u'contains(mora)': False, u'contains(crackled)': False, u'contains(working)': False, u'contains(plate)': False, u'contains(opposed)': False, u'contains(unrepentant)': False, u'contains(mayer)': False, u'contains(vision)': False, u'contains(clock)': False, u'contains(unveil)': False, u'contains(hickey)': False, u'contains(swanky)': False, u'contains(brazilian)': False, u'contains(rootless)': False, u'contains(turnaround)': False, u'contains(conceptions)': False, u'contains(metamorphoses)': False, u'contains(heirloom)': False, u'contains(looted)': False, u'contains(photon)': False, u'contains(climb)': False, u'contains(last)': False, u'contains(sidekicks)': False, u'contains(traffic)': False, u'contains(honeymoon)': False, u'contains(interactivity)': False, u'contains(farsical)': False, u'contains(lasso)': False, u'contains(principals)': False, u'contains(china)': True, u'contains(intrepid)': False, u'contains(maltese)': False, u'contains(choice)': False, u'contains(kuei)': False, u'contains(unwittingly)': False, u'contains(lifeline)': False, u'contains(sums)': False, u'contains(demarco)': False, u'contains(orleans)': False, u'contains(thurman)': False, u'contains(treason)': False, u'contains(woods)': False, u'contains(captive)': False, u'contains(mummified)': False, u'contains(everclear)': False, u'contains(droppingly)': False, u'contains(patriarch)': False, u'contains(portobello)': False, u'contains(ooooooo)': False, u'contains(vaporize)': False, u'contains(tahoe)': False, u'contains(dinosaurs)': False, u'contains(remaning)': False, u'contains(underbelly)': False, u'contains(one)': True, u'contains(watches)': False, u'contains(hal)': False, u'contains(megabytes)': False, u'contains(sealed)': False, u'contains(hopkins)': False, u'contains(unlikeable)': False, u'contains(remedy)': False, u'contains(thomsen)': False, u'contains(riots)': False, u'contains(everytime)': False, u'contains(affairs)': False, u'contains(tragicomic)': False, u'contains(scraped)': False, u'contains(confidence)': False, u'contains(clarified)': False, u'contains(resemblances)': False, u'contains(feuds)': False, u'contains(muck)': False, u'contains(mindless)': False, u'contains(awkwardness)': False, u'contains(grueling)': False, u'contains(singles)': False, u'contains(glamor)': False, u'contains(innuendos)': False, u'contains(neglect)': False, u'contains(lipstick)': False, u'contains(heartedness)': False, u'contains(portrayed)': False, u'contains(salva)': False, u'contains(damning)': False, u'contains(bandaras)': False, u'contains(beyer)': False, u'contains(squeezes)': False, u'contains(rehash)': False, u'contains(emotion)': False, u'contains(boiled)': False, u'contains(mckidd)': False, u'contains(yankovich)': False, u'contains(amuck)': False, u'contains(_escape)': False, u'contains(puppy)': False, u'contains(overboard)': False, u'contains(structuring)': False, u'contains(inquired)': False, u'contains(dangerfield)': False, u'contains(sank)': False, u'contains(heavyweight)': False, u'contains(coaxing)': False, u'contains(caruso)': False, u'contains(splashing)': False, u'contains(carping)': False, u'contains(blizzard)': False, u'contains(demolition)': False, u'contains(employ)': False, u'contains(calculation)': False, u'contains(isaak)': False, u'contains(repayment)': False, u'contains(feasibility)': False, u'contains(influx)': False, u'contains(saint)': False, u'contains(tiegs)': False, u'contains(experience)': False, u'contains(locker)': False, u'contains(preciously)': False, u'contains(pairs)': False, u'contains(espouses)': False, u'contains(childs)': False, u'contains(vicent)': False, u'contains(dusty)': False, u'contains(prancer)': False, u'contains(overthrow)': False, u'contains(retarded)': False, u'contains(mcnamara)': False, u'contains(studious)': False, u'contains(listens)': False, u'contains(emergency)': False, u'contains(split)': False, u'contains(saving)': False, u'contains(unequivocally)': False, u'contains(admire)': False, u'contains(vamires)': False, u'contains(smashes)': False, u'contains(overwhelmed)': False, u'contains(sucess)': False, u'contains(48th)': False, u'contains(prostrate)': False, u'contains(haplessly)': False, u'contains(glean)': False, u'contains(verges)': False, u'contains(hounded)': False, u'contains(excuses)': False, u'contains(jere)': False, u'contains(quartet)': False, u'contains(recipients)': False, u'contains(crescendo)': False, u'contains(merpeople)': False, u'contains(dowling)': False, u'contains(skywalker)': False, u'contains(canet)': False, u'contains(dyed)': False, u'contains(taj)': False, u'contains(veer)': False, u'contains(project)': False, u'contains(beatng)': False, u'contains(spews)': False, u'contains(jacks)': False, u'contains(spectrum)': False, u'contains(boarder)': False, u'contains(rewards)': False, u'contains(schandling)': False, u'contains(antagonizes)': False, u'contains(workplace)': False, u'contains(complicated)': False, u'contains(dysfuntion)': False, u'contains(afi)': False, u'contains(scatter)': False, u'contains(raeeyain)': False, u'contains(dirty)': False, u'contains(suspensefully)': False, u'contains(weeds)': False, u'contains(palme)': False, u'contains(deflection)': False, u'contains(enrols)': False, u'contains(jewels)': False, u'contains(barcode)': False, u'contains(wolves)': False, u'contains(research)': False, u'contains(tripe)': False, u'contains(infamous)': False, u'contains(recoiling)': False, u'contains(scrumptiously)': False, u'contains(spearing)': False, u'contains(firorina)': False, u'contains(plath)': False, u'contains(amusements)': False, u'contains(parasites)': False, u'contains(causes)': False, u'contains(gallagher)': False, u'contains(sometimes)': False, u'contains(explainable)': False, u'contains(opal)': False, u'contains(hone)': False, u'contains(psychiatric)': False, u'contains(ham)': False, u'contains(invite)': False, u'contains(cream)': False, u'contains(november)': False, u'contains(rawhide)': False, u'contains(moons)': False, u'contains(multitudes)': False, u'contains(errors)': False, u'contains(deflate)': False, u'contains(sleuthing)': False, u'contains(oilrig)': False, u'contains(prostitues)': False, u'contains(dialogueless)': False, u'contains(attendance)': False, u'contains(paraglider)': False, u'contains(massaging)': False, u'contains(deadpan)': False, u'contains(snake)': False, u'contains(racers)': False, u'contains(gases)': False, u'contains(corrected)': False, u'contains(considerable)': False, u'contains(indigenous)': False, u'contains(definition)': False, u'contains(retrieve)': False, u'contains(admitedly)': False, u'contains(beings)': False, u'contains(kasinsky)': False, u'contains(testament)': False, u'contains(rhodes)': False, u'contains(lyricized)': False, u'contains(elmo)': False, u'contains(daqughter)': False, u'contains(ballhaus)': False, u'contains(paychecks)': False, u'contains(world)': True, u'contains(zsigmond)': False, u'contains(crowned)': False, u'contains(gopher)': False, u'contains(activists)': False, u'contains(grasping)': False, u'contains(adaptable)': False, u'contains(emanating)': False, u'contains(maliciously)': False, u'contains(polemic)': False, u'contains(affiliated)': False, u'contains(imagines)': False, u'contains(videoshelves)': False, u'contains(concurrence)': False, u'contains(ocious)': False, u'contains(loren)': False, u'contains(biederman)': False, u'contains(claustral)': False, u'contains(motives)': False, u'contains(penthouse)': False, u'contains(sentencing)': False, u'contains(professors)': False, u'contains(rejoiced)': False, u'contains(yevgeny)': False, u'contains(whodunit)': False, u'contains(appropriately)': False, u'contains(robot)': False, u'contains(alice)': False, u'contains(majestically)': False, u'contains(years)': False, u'contains(theroux)': False, u'contains(zoo)': False, u'contains(west)': False, u'contains(nntphub)': False, u'contains(tonino)': False, u'contains(benefit)': False, u'contains(prances)': False, u'contains(reacquaints)': False, u'contains(natalie)': False, u'contains(rediscovers)': False, u'contains(sharpe)': False, u'contains(cheaply)': False, u'contains(rico)': False, u'contains(opposite)': False, u'contains(recycled)': False, u'contains(past)': False, u'contains(francois)': False, u'contains(disobeying)': False, u'contains(sprouted)': False, u'contains(jia)': False, u'contains(instability)': False, u'contains(ira)': False, u'contains(stamping)': False, u'contains(eery)': False, u'contains(murphy)': False, u'contains(lookin)': False, u'contains(witt)': False, u'contains(hanging)': False, u'contains(jargon)': False, u'contains(suspension)': False, u'contains(cagey)': False, u'contains(wraps)': False, u'contains(benches)': False, u'contains(respective)': False, u'contains(didi)': False, u'contains(fleischer)': False, u'contains(retains)': False, u'contains(remand)': False, u'contains(likeablity)': False, u'contains(educational)': False, u'contains(obscures)': False, u'contains(intelligent)': False, u'contains(incense)': False, u'contains(kret)': False, u'contains(friction)': False, u'contains(influence)': False, u'contains(morally)': False, u'contains(mistreated)': False, u'contains(lively)': False, u'contains(wholesome)': False, u'contains(recognizing)': False, u'contains(yahoo)': False, u'contains(salads)': False, u'contains(initiation)': False, u'contains(gavan)': False, u'contains(barrymore)': False, u'contains(mournful)': False, u'contains(caraciture)': False, u'contains(complexly)': False, u'contains(caged)': False, u'contains(bell)': False, u'contains(richelieu)': False, u'contains(gypsies)': False, u'contains(zucker)': False, u'contains(globally)': False, u'contains(diverted)': False, u'contains(chair)': False, u'contains(cavanaugh)': False, u'contains(situation)': False, u'contains(stetson)': False, u'contains(americanised)': False, u'contains(broiled)': False, u'contains(masquerading)': False, u'contains(fearlessly)': False, u'contains(sumo)': False, u'contains(periodical)': False, u'contains(seize)': False, u'contains(mishap)': False, u'contains(reuben)': False, u'contains(rush)': False, u'contains(abound)': False, u'contains(melbourne)': False, u'contains(oversight)': False, u'contains(cecilia)': False, u'contains(topicality)': False, u'contains(conjure)': False, u'contains(tomahawk)': False, u'contains(wakes)': False, u'contains(patois)': False, u'contains(kihlstedt)': False, u'contains(han)': False, u'contains(bandits)': False, u'contains(defeatist)': False, u'contains(mendes)': False, u'contains(crown)': False, u'contains(boondocks)': False, u'contains(restlessness)': False, u'contains(averse)': False, u'contains(messier)': False, u'contains(flooded)': False, u'contains(lock)': False, u'contains(commensurately)': False, u'contains(gregor)': False, u'contains(sabotaging)': False, u'contains(signy)': False, u'contains(unformal)': False, u'contains(adapt)': False, u'contains(cleverness)': False, u'contains(abbots)': False, u'contains(patch)': False, u'contains(realize)': False, u'contains(seagrave)': False, u'contains(beaman)': False, u'contains(nears)': False, u'contains(blunted)': False, u'contains(choudhury)': False, u'contains(coolness)': False, u'contains(almasy)': False, u'contains(sickness)': False, u'contains(bukater)': False, u'contains(sweats)': False, u'contains(vargas)': False, u'contains(askew)': False, u'contains(erica)': False, u'contains(primeval)': False, u'contains(interned)': False, u'contains(johnston)': False, u'contains(songwriter)': False, u'contains(respite)': False, u'contains(multidimensional)': False, u'contains(follower)': False, u'contains(seriously)': False, u'contains(originality)': False, u'contains(loveliest)': False, u'contains(flits)': False, u'contains(abused)': False, u'contains(inhuman)': False, u'contains(vomits)': False, u'contains(kethcum)': False, u'contains(sang)': False, u'contains(passenger)': False, u'contains(imagined)': False, u'contains(leadership)': False, u'contains(ethnocentric)': False, u'contains(prosper)': False, u'contains(crook)': False, u'contains(buffet)': False, u'contains(fig)': False, u'contains(chucky)': False, u'contains(memoirs)': False, u'contains(kaminski)': False, u'contains(tilting)': False, u'contains(czech)': False, u'contains(_would_)': False, u'contains(improvisationaly)': False, u'contains(linebackers)': False, u'contains(disjointed)': False, u'contains(wang)': False, u'contains(modernizing)': False, u'contains(foreheads)': False, u'contains(catchiness)': False, u'contains(raiders)': False, u'contains(silencers)': False, u'contains(uncouth)': False, u'contains(idly)': False, u'contains(voe)': False, u'contains(exuberantly)': False, u'contains(hallucinogenic)': False, u'contains(mackey)': False, u'contains(cartman)': False, u'contains(retrospect)': False, u'contains(vow)': False, u'contains(egotistical)': False, u'contains(snatch)': False, u'contains(hofstra)': False, u'contains(crooned)': False, u'contains(fifteen)': False, u'contains(doctoring)': False, u'contains(aaaaaaaahhhh)': False, u'contains(purred)': False, u'contains(lapping)': False, u'contains(allie)': False, u'contains(thaddeus)': False, u'contains(guarding)': False, u'contains(hawaiian)': False, u'contains(protovision)': False, u'contains(chopping)': False, u'contains(yugoslavian)': False, u'contains(internalize)': False, u'contains(inserting)': False, u'contains(monogamy)': False, u'contains(company)': False, u'contains(wooden)': False, u'contains(awestruck)': False, u'contains(tribes)': False, u'contains(intestines)': False, u'contains(obese)': False, u'contains(frighteners)': False, u'contains(shread)': False, u'contains(prepared)': False, u'contains(travel)': False, u'contains(yeager)': False, u'contains(royalist)': False, u'contains(slimeball)': False, u'contains(colorfully)': False, u'contains(pimple)': False, u'contains(into)': True, u'contains(firth)': False, u'contains(braggarts)': False, u'contains(babs)': False, u'contains(crackin)': False, u'contains(workmanlike)': False, u'contains(forrester)': False, u'contains(idle)': False, u'contains(cusack)': False, u'contains(accomplished)': True, u'contains(skewed)': False, u'contains(zahn)': False, u'contains(hong)': True, u'contains(sebastiano)': False, u'contains(clicked)': False, u'contains(paperwork)': False, u'contains(unwraps)': False, u'contains(wayward)': False, u'contains(rayden)': False, u'contains(torpedoes)': False, u'contains(elgar)': False, u'contains(sell)': False, u'contains(ernie)': False, u'contains(bongos)': False, u'contains(boatload)': False, u'contains(flowing)': False, u'contains(crashlands)': False, u'contains(nuptials)': False, u'contains(allegra)': False, u'contains(plotless)': False, u'contains(obssessed)': False, u'contains(realizes)': False, u'contains(advertisment)': False, u'contains(lass)': False, u'contains(spatula)': False, u'contains(initation)': False, u'contains(bigscreen)': False, u'contains(voyeuristic)': False, u'contains(grooms)': False, u'contains(blunderheaded)': False, u'contains(barton)': False, u'contains(cooks)': False, u'contains(blended)': False, u'contains(chapelle)': False, u'contains(thigh)': False, u'contains(arrow)': False, u'contains(legitimately)': False, u'contains(yojimbo)': False, u'contains(eleven)': False, u'contains(engagingly)': False, u'contains(competed)': False, u'contains(miniatures)': False, u'contains(postal)': False, u'contains(deloreans)': False, u'contains(climbs)': False, u'contains(stanleyville)': False, u'contains(thieves)': False, u'contains(fades)': False, u'contains(hugo)': False, u'contains(cayman)': False, u'contains(phil)': False, u'contains(sciorra)': False, u'contains(downloading)': False, u'contains(impaling)': False, u'contains(deuteronomy)': False, u'contains(projection)': False, u'contains(tanked)': False, u'contains(bogan)': False, u'contains(odile)': False, u'contains(palentologist)': False, u'contains(confronts)': False, u'contains(bottom)': False, u'contains(portorican)': False, u'contains(inventively)': False, u'contains(cuffs)': False, u'contains(boxing)': False, u'contains(consenting)': False, u'contains(accommodations)': False, u'contains(rapes)': False, u'contains(narrations)': False, u'contains(shocking)': False, u'contains(variable)': False, u'contains(despised)': False, u'contains(resemble)': False, u'contains(rza)': False, u'contains(conciousness)': False, u'contains(haunt)': False, u'contains(rehab)': False, u'contains(comprehensible)': False, u'contains(attorney)': False, u'contains(frights)': False, u'contains(bilingual)': False, u'contains(poignantly)': False, u'contains(goofing)': False, u'contains(dethrones)': False, u'contains(reintroduced)': False, u'contains(alienbusting)': False, u'contains(mccleod)': False, u'contains(procured)': False, u'contains(melancholic)': False, u'contains(barclay)': False, u'contains(toontown)': False, u'contains(courier)': False, u'contains(lavishness)': False, u'contains(hugs)': False, u'contains(familar)': False, u'contains(rifling)': False, u'contains(thickened)': False, u'contains(martineau)': False, u'contains(millionaire)': False, u'contains(amiss)': False, u'contains(gratuitous)': False, u'contains(urinate)': False, u'contains(materializes)': False, u'contains(fro)': False, u'contains(recollections)': False, u'contains(frewer)': False, u'contains(essays)': False, u'contains(unnerve)': False, u'contains(diverse)': False, u'contains(roadster)': False, u'contains(sant)': False, u'contains(gleam)': False, u'contains(succumb)': False, u'contains(marched)': False, u'contains(superintendent)': False, u'contains(effortlessly)': True, u'contains(prescott)': False, u'contains(comparitive)': False, u'contains(thumps)': False, u'contains(_2001_)': False, u'contains(captivatingly)': False, u'contains(kinkiness)': False, u'contains(ofcs)': False, u'contains(with)': True, u'contains(disfigured)': False, u'contains(wynn)': False, u'contains(idols)': False, u'contains(lounging)': False, u'contains(lindner)': False, u'contains(arousal)': False, u'contains(vainly)': False, u'contains(huns)': False, u'contains(intent)': False, u'contains(rosselini)': False, u'contains(jubilantly)': False, u'contains(novelty)': False, u'contains(unparalleled)': False, u'contains(insight)': False, u'contains(workmates)': False, u'contains(perfect)': False, u'contains(1600s)': False, u'contains(impressions)': False, u'contains(rumored)': False, u'contains(getaway)': False, u'contains(slickster)': False, u'contains(dirtier)': False, u'contains(spoken)': False, u'contains(dryland)': False, u'contains(chain)': False, u'contains(realized)': False, u'contains(_people_)': False, u'contains(tech)': False, u'contains(brotherhood)': False, u'contains(operation)': False, u'contains(houston)': False, u'contains(guiler)': False, u'contains(sublte)': False, u'contains(newspaper)': False, u'contains(dick_)': False, u'contains(eddie)': False, u'contains(ulcer)': False, u'contains(fanatasies)': False, u'contains(tv2)': False, u'contains(emerich)': False, u'contains(caused)': False, u'contains(missy)': False, u'contains(marshals)': False, u'contains(jittery)': False, u'contains(dolly)': False, u'contains(hap)': False, u'contains(barbarino)': False, u'contains(insecurity)': False, u'contains(numeral)': False, u'contains(decorating)': False, u'contains(crotch)': False, u'contains(cherbourg)': False, u'contains(controversies)': False, u'contains(dwindling)': False, u'contains(cormack)': False, u'contains(buffed)': False, u'contains(committing)': False, u'contains(powaqqatsi)': False, u'contains(malevolent)': False, u'contains(insubordination)': False, u'contains(awards)': False, u'contains(visually)': False, u'contains(tvs)': False, u'contains(thailand)': False, u'contains(rejoin)': False, u'contains(sommerset)': False, u'contains(disheveled)': False, u'contains(seclusion)': False, u'contains(comedy)': True, u'contains(silva)': False, u'contains(hypnotist)': False, u'contains(scraggly)': False, u'contains(thai)': False, u'contains(terrorists)': False, u'contains(nebbish)': False, u'contains(documentarian)': False, u'contains(waterlogged)': False, u'contains(cynics)': False, u'contains(understands)': False, u'contains(jugs)': False, u'contains(boardroom)': False, u'contains(15th)': False, u'contains(subkoff)': False, u'contains(hab)': False, u'contains(24th)': False, u'contains(comely)': False, u'contains(dicks)': False, u'contains(copyrighted)': False, u'contains(paper)': False, u'contains(denny)': False, u'contains(leonardo)': False, u'contains(matsumoto)': False, u'contains(sane)': False, u'contains(intended)': False, u'contains(kaminsky)': False, u'contains(underbids)': False, u'contains(brides)': False, u'contains(retrograding)': False, u'contains(overpowering)': False, u'contains(depravity)': False, u'contains(tingles)': False, u'contains(multiracial)': False, u'contains(eighteen)': False, u'contains(flashback)': False, u'contains(homogeneity)': False, u'contains(knowingly)': False, u'contains(full)': False, u'contains(wcw)': False, u'contains(divine)': False, u'contains(pleasured)': False, u'contains(reverence)': False, u'contains(loca)': False, u'contains(suburbs)': False, u'contains(toothed)': False, u'contains(infect)': False, u'contains(greener)': False, u'contains(quicker)': False, u'contains(wane)': False, u'contains(video)': False, u'contains(catchy)': False, u'contains(service)': False, u'contains(\\\\)': False, u'contains(maclaine)': False, u'contains(associating)': False, u'contains(critter)': False, u'contains(pesimism)': False, u'contains(resonates)': False, u'contains(gooey)': False, u'contains(installed)': False, u'contains(exaggerations)': False, u'contains(dishearteningly)': False, u'contains(knocked)': False, u'contains(justly)': False, u'contains(intend)': False, u'contains(sans)': False, u'contains(illness)': False, u'contains(manga)': False, u'contains(menancing)': False, u'contains(otherworldly)': False, u'contains(existentialist)': False, u'contains(sickeningly)': False, u'contains(jerk)': False, u'contains(role)': False, u'contains(hasn)': False, u'contains(introspection)': False, u'contains(frizzi)': False, u'contains(triangles)': False, u'contains(parents)': False, u'contains(crookier)': False, u'contains(fakeouts)': False, u'contains(mat)': False, u'contains(indifference)': False, u'contains(prakazrel)': False, u'contains(spielbergization)': False, u'contains(33)': False, u'contains(chorus)': False, u'contains(ugh)': False, u'contains(tornatore)': False, u'contains(cleon)': False, u'contains(squirming)': False, u'contains(bogie)': False, u'contains(panicked)': False, u'contains(automats)': False, u'contains(rossi)': False, u'contains(festivities)': False, u'contains(lash)': False, u'contains(zzzzzzz)': False, u'contains(maxwell)': False, u'contains(readings)': False, u'contains(shoots)': False, u'contains(unabashedly)': False, u'contains(septic)': False, u'contains(riders)': False, u'contains(sooty)': False, u'contains(teck)': False, u'contains(disconnect)': False, u'contains(dubious)': False, u'contains(diminishing)': False, u'contains(dancefloor)': False, u'contains(adaptation)': False, u'contains(victor)': False, u'contains(oneness)': False, u'contains(plunges)': False, u'contains(healer)': False, u'contains(disdains)': False, u'contains(quiclky)': False, u'contains(anette)': False, u'contains(reiser)': False, u'contains(secular)': False, u'contains(fondled)': False, u'contains(911)': False, u'contains(jacki)': False, u'contains(leia)': False, u'contains(ogled)': False, u'contains(davidovitch)': False, u'contains(finklestein)': False, u'contains(undeterred)': False, u'contains(dwells)': False, u'contains(dentures)': False, u'contains(bringing)': False, u'contains(matchmakers)': False, u'contains(pleasures)': True, u'contains(freelance)': False, u'contains(slashfest)': False, u'contains(abbott)': False, u'contains(localized)': False, u'contains(liaisons)': False, u'contains(fit)': False, u'contains(trips)': False, u'contains(wreaked)': False, u'contains(next)': False, u'contains(theater)': False, u'contains(swigert)': False, u'contains(civilian)': False, u'contains(suppression)': False, u'contains(punts)': False, u'contains(charade)': False, u'contains(wordlessly)': False, u'contains(abuses)': False, u'contains(billboard)': False, u'contains(sextette)': False}\n"
     ]
    }
   ],
   "source": [
    "print document_features(movie_reviews.words('pos/cv957_8737.txt'))"
   ]
  },
  {
   "cell_type": "code",
   "execution_count": 38,
   "metadata": {
    "collapsed": false
   },
   "outputs": [
    {
     "name": "stdout",
     "output_type": "stream",
     "text": [
      "0.61\n"
     ]
    }
   ],
   "source": [
    "featuresets = [(document_features(d), c) for (d,c) in documents]\n",
    "train_set, test_sent = featuresets[100:], featuresets[:100]\n",
    "classifier = nltk.NaiveBayesClassifier.train(train_set)\n",
    "\n",
    "print nltk.classify.accuracy(classifier, test_sent)"
   ]
  },
  {
   "cell_type": "code",
   "execution_count": 39,
   "metadata": {
    "collapsed": false
   },
   "outputs": [
    {
     "name": "stdout",
     "output_type": "stream",
     "text": [
      "Most Informative Features\n",
      "        contains(doubts) = True              pos : neg    =      9.5 : 1.0\n",
      "          contains(sans) = True              neg : pos    =      9.2 : 1.0\n",
      "     contains(uplifting) = True              pos : neg    =      8.4 : 1.0\n",
      "    contains(mediocrity) = True              neg : pos    =      7.8 : 1.0\n",
      "     contains(dismissed) = True              pos : neg    =      6.9 : 1.0\n"
     ]
    }
   ],
   "source": [
    "classifier.show_most_informative_features(5)"
   ]
  },
  {
   "cell_type": "markdown",
   "metadata": {},
   "source": [
    "Instead of a regular expression tagger handcrafted-developed we can train a classifier to work ou which sifixes are most informative."
   ]
  },
  {
   "cell_type": "code",
   "execution_count": 41,
   "metadata": {
    "collapsed": false
   },
   "outputs": [],
   "source": [
    "from nltk.corpus import brown\n",
    "suffix_fdist = nltk.FreqDist()\n",
    "\n",
    "for word in brown.words():\n",
    "    word = word.lower()\n",
    "    suffix_fdist[word[-1:]] += 1\n",
    "    suffix_fdist[word[-2:]] += 1\n",
    "    suffix_fdist[word[-3:]] += 1 "
   ]
  },
  {
   "cell_type": "code",
   "execution_count": 42,
   "metadata": {
    "collapsed": false
   },
   "outputs": [
    {
     "name": "stdout",
     "output_type": "stream",
     "text": [
      "[(u'e', 202946), (u',', 175002), (u'.', 152999), (u's', 128722), (u'd', 105687), (u't', 94459), (u'he', 92084), (u'n', 87889), (u'a', 74912), (u'of', 72978), (u'the', 70026), (u'y', 59146), (u'r', 58212), (u'to', 54483), (u'in', 47011), (u'f', 43173), (u'o', 42363), (u'ed', 41527), (u'nd', 36418), (u'is', 33768), (u'on', 33382), (u'l', 31996), (u'g', 31294), (u'and', 31057), (u'ng', 30034), (u'er', 28751), (u'as', 28025), (u'ing', 27283), (u'h', 26400), (u'at', 25410), (u'es', 22408), (u'or', 22044), (u're', 21829), (u'it', 19457), (u'``', 17674), (u'an', 17650), (u\"''\", 17639), (u'm', 16947), (u';', 16698), (u'i', 16413), (u'ly', 16395), (u'ion', 14905), (u'en', 14705), (u'al', 14121), (u'?', 14079), (u'nt', 13151), (u'be', 13068), (u'hat', 12692), (u'st', 12426), (u'his', 12151), (u'th', 11870), (u'll', 11458), (u'le', 11091), (u'ce', 10953), (u'by', 10922), (u'ts', 10808), (u'me', 10573), (u've', 10557), (u\"'\", 10455), (u'se', 10380), (u'ut', 10052), (u'was', 9815), (u'for', 9496), (u'ent', 9369), (u'ch', 9265), (u'k', 9215), (u'w', 9115), (u'ld', 9017), (u'`', 8837), (u'rs', 8633), (u'ted', 8520), (u'ere', 8198), (u'her', 8192), (u'ne', 8075), (u'ns', 7893), (u'ith', 7550), (u'ad', 7515), (u'ry', 7500), (u')', 7416), (u'(', 7305), (u'te', 7147), (u'--', 6864), (u'ay', 6482), (u'ty', 6458), (u'ot', 6333), (u'p', 6309), (u'nce', 5971), (u\"'s\", 5865), (u'ter', 5704), (u'om', 5696), (u'ss', 5510), (u':', 5385), (u'we', 5345), (u'are', 5343), (u'c', 5324), (u'ers', 5237), (u'uld', 5210), (u'had', 5134), (u'so', 5118), (u'ey', 5030)]\n"
     ]
    }
   ],
   "source": [
    "common_suffixes = suffix_fdist.most_common(100)\n",
    "print common_suffixes"
   ]
  },
  {
   "cell_type": "code",
   "execution_count": 61,
   "metadata": {
    "collapsed": true
   },
   "outputs": [],
   "source": [
    "def pos_features(word):\n",
    "    features = {}\n",
    "    for suffix in common_suffixes:\n",
    "        features['endswith(%s)' % suffix[0]] = word.lower().endswith(suffix[0])\n",
    "    return features"
   ]
  },
  {
   "cell_type": "code",
   "execution_count": 62,
   "metadata": {
    "collapsed": false
   },
   "outputs": [
    {
     "data": {
      "text/plain": [
       "0.6270512182993535"
      ]
     },
     "execution_count": 62,
     "metadata": {},
     "output_type": "execute_result"
    }
   ],
   "source": [
    "tagged_words = brown.tagged_words(categories = 'news')\n",
    "featuresets = [(pos_features(n), g) for (n,g) in tagged_words]\n",
    "size = int(len(featuresets) * 0.1)\n",
    "train_set, test_set = featuresets[size:], featuresets[:size]"
   ]
  },
  {
   "cell_type": "code",
   "execution_count": null,
   "metadata": {
    "collapsed": true
   },
   "outputs": [],
   "source": [
    "classifier = nltk.DecisionTreeClassifier.train(train_set)\n",
    "nltk.classify.accuracy(classifier, test_set)"
   ]
  },
  {
   "cell_type": "code",
   "execution_count": 63,
   "metadata": {
    "collapsed": false
   },
   "outputs": [
    {
     "data": {
      "text/plain": [
       "u'NNS'"
      ]
     },
     "execution_count": 63,
     "metadata": {},
     "output_type": "execute_result"
    }
   ],
   "source": [
    "classifier.classify(pos_features(\"cats\"))"
   ]
  },
  {
   "cell_type": "code",
   "execution_count": 64,
   "metadata": {
    "collapsed": false
   },
   "outputs": [
    {
     "name": "stdout",
     "output_type": "stream",
     "text": [
      "if endswith(the) == False: \n",
      "  if endswith(,) == False: \n",
      "    if endswith(s) == False: \n",
      "      if endswith(.) == False: return u'.'\n",
      "      if endswith(.) == True: return u'.'\n",
      "    if endswith(s) == True: \n",
      "      if endswith(is) == False: return u'PP$'\n",
      "      if endswith(is) == True: return u'BEZ'\n",
      "  if endswith(,) == True: return u','\n",
      "if endswith(the) == True: return u'AT'\n",
      "\n"
     ]
    }
   ],
   "source": [
    "print classifier.pseudocodeeudocode(depth = 4)"
   ]
  },
  {
   "cell_type": "code",
   "execution_count": 65,
   "metadata": {
    "collapsed": true
   },
   "outputs": [],
   "source": [
    "# A POS classifier whose feature detector examines \n",
    "# the context in which a word appears in order to determine\n",
    "# which POS ag should be assigned.\n",
    "\n",
    "def pos_features(sentence, i):\n",
    "    features = {\"sufix(1)\": sentence[i][-1:],\n",
    "               \"sufix(2)\": sentence[i][-2:],\n",
    "               \"sufix(3)\": sentence[i][-3:]}\n",
    "    \n",
    "    if i == 0:\n",
    "        features[\"prev-word\"] = \"<START>\"\n",
    "    else:\n",
    "        features[\"pre-word\"] = sentence[i-1]\n",
    "    return features"
   ]
  },
  {
   "cell_type": "code",
   "execution_count": 68,
   "metadata": {
    "collapsed": false
   },
   "outputs": [
    {
     "data": {
      "text/plain": [
       "{'pre-word': u'an', 'sufix(1)': u'n', 'sufix(2)': u'on', 'sufix(3)': u'ion'}"
      ]
     },
     "execution_count": 68,
     "metadata": {},
     "output_type": "execute_result"
    }
   ],
   "source": [
    "pos_features(brown.sents()[0], 8)"
   ]
  },
  {
   "cell_type": "code",
   "execution_count": 70,
   "metadata": {
    "collapsed": false
   },
   "outputs": [
    {
     "data": {
      "text/plain": [
       "0.783490800596718"
      ]
     },
     "execution_count": 70,
     "metadata": {},
     "output_type": "execute_result"
    }
   ],
   "source": [
    "tagged_sents = brown.tagged_sents(categories='news')\n",
    "featuresets = []\n",
    "for tagged_sent in tagged_sents:\n",
    "    untagged_sent = nltk.tag.untag(tagged_sent)\n",
    "    for i, (word, tag) in enumerate(tagged_sent):\n",
    "        featuresets.append(\n",
    "        (pos_features(untagged_sent,i), tag)\n",
    "        )\n",
    "size = int(len(featuresets) * 0.2)        \n",
    "train_set, test_set = featuresets[size:], featuresets[:size]\n",
    "classifier = nltk.NaiveBayesClassifier.train(train_set)\n",
    "nltk.classify.accuracy(classifier, test_set)"
   ]
  },
  {
   "cell_type": "markdown",
   "metadata": {},
   "source": [
    "### Sequence Classification\n",
    "\n",
    "In order to capture the dependencies between related classification tasks, we can use **join classifier** models , whih choose an appropriate labeling for a collection of related inputs. In teh case of POS tagging, a variety of different **sequence classifier** models can be used to jointly choos POS tags or all the words in a given sentence.\n",
    "\n",
    "One sequence classification strategy, known as **consecutive classification** or **greedy sequence classification**, is to find the most likely class label for the firt input, then to use that answer to help find the best label for the next input. The process can then be repeated until all of the inputs have been labeled."
   ]
  },
  {
   "cell_type": "code",
   "execution_count": 71,
   "metadata": {
    "collapsed": true
   },
   "outputs": [],
   "source": [
    "def pos_features(sentence, i, history):\n",
    "    features = {\"suffix(1)\": sentence[i][-1:],\n",
    "               \"suffix(2)\": sentence[i][-2:],\n",
    "               \"suffix(3)\": sentence[i][-3:]}\n",
    "    if i == 0:\n",
    "        features[\"prev-word\"] = \"<START>\"\n",
    "        features[\"prev-tag\"] = \"<START>\"\n",
    "    else:\n",
    "        features[\"prev-word\"] = sentence[i-1]\n",
    "        features[\"prev-tag\"] = history[i-1]\n",
    "    return features"
   ]
  },
  {
   "cell_type": "code",
   "execution_count": 74,
   "metadata": {
    "collapsed": true
   },
   "outputs": [],
   "source": [
    "class ConsecutivePosTagger(nltk.TaggerI):\n",
    "    def __init__(self, train_sents):\n",
    "        train_sent = []\n",
    "        for tagged_sent in train_sents:\n",
    "            untagged_sent = nltk.tag.untag(tagged_sent)\n",
    "            history = []\n",
    "            for i, (word, tag) in enumerate(tagged_sent):\n",
    "                featureset = pos_features(untagged_sent, i, history)\n",
    "                train_set.append((featureset, tag))\n",
    "                history.append(tag)\n",
    "        self.classifier = nltk.NaiveBayesClassifier.train(train_set)\n",
    "        \n",
    "    def tag(self, sentence):\n",
    "        history = []\n",
    "        for i, word in enumerate(sentence):\n",
    "            featureset = pos_features(sentence, i, history)\n",
    "            tag = self.classifier.classify(featureset)\n",
    "            history.append(tag)\n",
    "        return zip(sentence, history)"
   ]
  },
  {
   "cell_type": "code",
   "execution_count": 75,
   "metadata": {
    "collapsed": false
   },
   "outputs": [
    {
     "name": "stdout",
     "output_type": "stream",
     "text": [
      "0.79916550765\n"
     ]
    }
   ],
   "source": [
    "tagged_sents = brown.tagged_sents(categories='news')\n",
    "size = int(len(tagged_sents) * 0.1)\n",
    "train_sents, test_sents = tagged_sents[size:], tagged_sents[:size]\n",
    "tagger = ConsecutivePosTagger(train_sents)\n",
    "print tagger.evaluate(test_sents)"
   ]
  },
  {
   "cell_type": "markdown",
   "metadata": {},
   "source": [
    "### Other Methods for Sequence Classification\n",
    "\n",
    "One shortcoming of this approach is that we commit to every decision that we make. For example, if we decide to label a word as a noun, but later find evidence that it should have been a verb, there's no way to go back and fix out mistake. One solution to this problem is to adopt a **transformational strategy** instead. Transformation joint classifiers work by adoting an initial argument of labels for the inputs, and then iterativelt refining taht assignment in an atemt to reapir inconsisencies between related inputs. The [Brill Tagger](#brill) is an example.\n",
    "\n",
    "Another solution is to assign scores to all the possible sequences of POS tags, and to choose the sequence whose overall score is highest. This is the approach taken by **Hidden Markov Models**. Rather than simply finding the simple best tagg for a given word, they generate a probability scores for tag sequences, and the gat sequence with the hghest probability. Unfortunately, the number of possible sequences separately, Hidden Markov Models require that the feature extractor only look at the most recent tag. Given that restriction, it is possible to use **dynamic programming** to efficiently find the most likely tag sequence. The same approach is takn by two mode advanced models, called **Maximum Entropy Markov Models** and **Linear-Chain Conditional Random Field Models**, but different algorithms are used to find scores for tag sequences."
   ]
  },
  {
   "cell_type": "markdown",
   "metadata": {},
   "source": [
    "### Recognizing Textual Entailment\n",
    "\n",
    "**RTE** is the task of determining whether a given piece of text T entails another text called the hypothesis. We can treat RTE as a classification task, in which we try to predict the True/False label for each pair. Although it seems likely that succesful appraoches to this task will involve a combination of parsing, semantics, and real-world knowledge, many early attemts at RTEE achieved reasonably good results with shallow analysis, based on similarity between the text and hypothesis at the word level."
   ]
  },
  {
   "cell_type": "code",
   "execution_count": 86,
   "metadata": {
    "collapsed": true
   },
   "outputs": [],
   "source": [
    "def rte_features(rtepair):\n",
    "    extractor = nltk.RTEFeatureExtractor(rtepair)\n",
    "    # The RTEFeatureExtractor class builds a bag of words for both the text and the hypothesis after\n",
    "    # throwing away some stopwords, then calculates overlap and difference\n",
    "    features = {}\n",
    "    features['word_overlap'] = len(extractor.overlap('word'))\n",
    "    features['word_hyp_extra'] = len(extractor.hyp_extra('word'))\n",
    "    features['ne_overlap'] = len(extractor.overlap('ne'))\n",
    "    features['ne_hyp_extra'] = len(extractor.hyp_extra('ne'))\n",
    "    return features"
   ]
  },
  {
   "cell_type": "code",
   "execution_count": 88,
   "metadata": {
    "collapsed": false
   },
   "outputs": [
    {
     "name": "stdout",
     "output_type": "stream",
     "text": [
      "set([''])\n",
      "set([''])\n",
      "set([''])\n",
      "set([])\n",
      "set([])\n"
     ]
    }
   ],
   "source": [
    "rtepair = nltk.corpus.rte.pairs(['rte3_dev.xml'])[33]\n",
    "extractor = nltk.RTEFeatureExtractor(rtepair)\n",
    "print extractor.text_words\n",
    "print extractor.hyp_words\n",
    "print extractor.overlap('word')\n",
    "print extractor.hyp_extra('word')\n",
    "print extractor.hyp_extra('ne')"
   ]
  },
  {
   "cell_type": "code",
   "execution_count": 89,
   "metadata": {
    "collapsed": false
   },
   "outputs": [
    {
     "name": "stdout",
     "output_type": "stream",
     "text": [
      "Help on class RTEFeatureExtractor in nltk:\n",
      "\n",
      "nltk.RTEFeatureExtractor = class RTEFeatureExtractor(__builtin__.object)\n",
      " |  This builds a bag of words for both the text and the hypothesis after\n",
      " |  throwing away some stopwords, then calculates overlap and difference.\n",
      " |  \n",
      " |  Methods defined here:\n",
      " |  \n",
      " |  __init__(self, rtepair, stop=True, lemmatize=False)\n",
      " |      :param rtepair: a ``RTEPair`` from which features should be extracted\n",
      " |      :param stop: if ``True``, stopwords are thrown away.\n",
      " |      :type stop: bool\n",
      " |  \n",
      " |  hyp_extra(self, toktype, debug=True)\n",
      " |      Compute the extraneous material in the hypothesis.\n",
      " |      \n",
      " |      :param toktype: distinguish Named Entities from ordinary words\n",
      " |      :type toktype: 'ne' or 'word'\n",
      " |  \n",
      " |  overlap(self, toktype, debug=False)\n",
      " |      Compute the overlap between text and hypothesis.\n",
      " |      \n",
      " |      :param toktype: distinguish Named Entities from ordinary words\n",
      " |      :type toktype: 'ne' or 'word'\n",
      " |  \n",
      " |  ----------------------------------------------------------------------\n",
      " |  Data descriptors defined here:\n",
      " |  \n",
      " |  __dict__\n",
      " |      dictionary for instance variables (if defined)\n",
      " |  \n",
      " |  __weakref__\n",
      " |      list of weak references to the object (if defined)\n",
      "\n"
     ]
    }
   ],
   "source": [
    "help('nltk.RTEFeatureExtractor')"
   ]
  },
  {
   "cell_type": "markdown",
   "metadata": {},
   "source": [
    "### Confusion Matrices\n",
    "\n",
    "When performing tasks with three or more labels, it can be informative to subdivide the error made by the models based on which types of mistake it made. A **confusion matrix** is a table where each cell [i,j] indicates how often label j was predicted when the correct label was i. Thus, the diagonal entries (i.t, cells[i,j]) indicate labels that were correctly prodicted, and the off-diagonal entries indicate errors."
   ]
  },
  {
   "cell_type": "code",
   "execution_count": 103,
   "metadata": {
    "collapsed": true
   },
   "outputs": [],
   "source": [
    "def tag_list(tagged_sents):\n",
    "    return [tag for sent in tagged_sents for (word, tag) in sent]\n",
    "\n",
    "def apply_tagger(tagger, corpus):\n",
    "    return [tagger.tag(nltk.tag.untag(sent)) for sent in corpus]"
   ]
  },
  {
   "cell_type": "code",
   "execution_count": 112,
   "metadata": {
    "collapsed": false
   },
   "outputs": [],
   "source": [
    "gold = tag_list(brown.tagged_sents(categories='editorial', tagset='universal'))\n",
    "test = tag_list(apply_tagger(t2, brown.tagged_sents(categories='editorial', tagset='universal')))\n",
    "cm = nltk.ConfusionMatrix(gold, test)"
   ]
  },
  {
   "cell_type": "code",
   "execution_count": 113,
   "metadata": {
    "collapsed": false
   },
   "outputs": [
    {
     "name": "stdout",
     "output_type": "stream",
     "text": [
      "         |                                                                                                                                                                                                                                                                                                 F                                                                                                                                                N                                                                                                                                                     P    P                                                                                                                                                                                     |\n",
      "         |                                                                                                                                      B                                                                                                                                                          W                                                                                                                                                N              N                                                                                                                  P    P              P    P    P    P                                                                                                                                                                           |\n",
      "         |                                                                                                                                      E                             B                                                                                              D                        E    -                   F                                                                     J                                       N              -              N    N    N                                                                                                        P    P    P         S    S    P    P                                                                                                   V    V         V    V         V                                         |\n",
      "         |                                                                                                        A    A                   B    D                             E                   C    C         C    C                                                      T                        X    A    F    F    F    W                                       I    I         J    J         J                        M              N    N    N    T              S    N    N                   N    N                   N              O                                            S    S    P         S    S    S    S                                  R    R                        T              V    V              B    B         B    B         B                                         |\n",
      "         |                                  ,              .                                                      T    T              B    E    Z                        B    R         B         C    C         D    D    C                             D         D         +                        +    T    W    W    W    -                             H         N    N         J    J         R                        D              $    N    N    L         N    $    S    S    N              P    P                   R              D                   P         P              +    +    S    P    +    +    S    S    P                             B    B                        O              B    B              G    G         N    N         Z    V                                    |\n",
      "         |                                  -              -         A    A    A    A    A    A         A         -    -         B    E    D    -    B    B    B    B    E    -    B    E         -    -         -    -    O         D         D    D    O    D    O         B    D    D    D         B    -    -    -    -    N         H    H    H    H    V         -    -         -    -    J    -    J    J         M    -         N    -    -    -    -    N    N    -    -    -    O         N    -    -    N         N    -    N         -         P    P    P    P    P    P    P    B    H    +    P    B    B    +    +    R    P         Q         R    -    -    R    R              -              -    -    V    V    -    -    V    -    -    V    -    E    W    W    W    W    W           |\n",
      "         |         '                        H    -         H         B    B    B    D    D    D    A    P    A    H    T    B    E    D    Z    H    E    E    E    E    R    H    E    Z    C    H    T    C    H    T    N    C    E    D    O    O    D    O    Z    D    E    T    T    T    E    E    T    C    I    N    N    H    V    V    V    V    Z    I    H    T    J    H    T    J    T    J    J    M    D    H    N    N    T    H    T    H    N    S    T    H    T    U    N    P    H    T    P    N    R    T    U    O    T    P    N    P    $    P    L    P    P    E    V    M    S    E    E    H    M    O    R    Q    L    R    B    H    T    B    B    R    T    H    U    V    H    T    B    B    H    T    B    H    T    B    H    R    D    P    P    P    R         ` |\n",
      "         |    '    '    (    )    *    ,    L    -    .    L    :    L    N    X    J    P    V    P    $    T    L    L    E    D    Z    *    L    G    M    N    R    *    L    Z    *    C    L    L    D    L    L    J    S    T    O    *    D    *    Z    *    T    Z    I    S    X    X    Z    L    C    N    N    S    V    D    G    N    Z    *    N    L    L    J    L    L    R    L    S    T    D    *    L    N    $    L    L    L    L    S    $    L    L    L    N    P    $    L    L    S    R    $    L    M    D    L    N    $    $    $    L    S    O    S    Z    Z    D    S    M    R    V    D    N    T    L    P    B    $    L    L    R    T    P    O    L    H    B    L    L    D    G    L    L    N    L    L    Z    L    B    T    $    O    S    B    X    ` |\n",
      "---------+---------------------------------------------------------------------------------------------------------------------------------------------------------------------------------------------------------------------------------------------------------------------------------------------------------------------------------------------------------------------------------------------------------------------------------------------------------------------------------------------------------------------------------------------------------------------------------------------------------------------------------------------------------------------------------------------------------------------------------------------------------------------------------------------------+\n",
      "       ' |   <.>   .    .    .    .    .    .    .    .    .    .    .    .    .    .    .    .    .    .    .    .    .    .    .    .    .    .    .    .    .    .    .    .    .    .    .    .    .    .    .    .    .    .    .    .    .    .    .    .    .    .    .    .    .    .    .    .    .    .    .    .    .    .    .    .    .    .    .    .    .    .    .    .    .    .    .    .    .    .    .    .    .    .    .    .    .    .    .    .    .    .    .    .    .    .    .    .    .    .    .    .    .    .    .    .    .    .    .    .    .    .    .    .    .    .    .    .    .    .    .    .    .    .    .    .    .    .    .    .    .    .    .    .    .    .    .    .    .    .    .    .    .    .    .    .    .    .    .    .    .    .    .    .    . |\n",
      "      '' |    .   <.>   .    .    .    .    .    .    .    .    .    .    .    .    .    .    .    .    .    .    .    .    .    .    .    .    .    .    .    .    .    .    .    .    .    .    .    .    .    .    .    .    .    .    .    .    .    .    .    .    .    .    .    .    .    .    .    .    .    .    .    .    .    .    .    .    .    .    .    .    .    .    .    .    .    .    .    .    .    .    .    .    .    .    .    .    .    .    .    .    .    .    .    .    .    .    .    .    .    .    .    .    .    .    .    .    .    .    .    .    .    .    .    .    .    .    .    .    .    .    .    .    .    .    .    .    .    .    .    .    .    .    .    .    .    .    .    .    .    .    .    .    .    .    .    .    .    .    .    .    .    .    .    . |\n",
      "       ( |    .    .   <.>   .    .    .    .    .    .    .    .    .    .    .    .    .    .    .    .    .    .    .    .    .    .    .    .    .    .    .    .    .    .    .    .    .    .    .    .    .    .    .    .    .    .    .    .    .    .    .    .    .    .    .    .    .    .    .    .    .    .    .    .    .    .    .    .    .    .    .    .    .    .    .    .    .    .    .    .    .    .    .    .    .    .    .    .    .    .    .    .    .    .    .    .    .    .    .    .    .    .    .    .    .    .    .    .    .    .    .    .    .    .    .    .    .    .    .    .    .    .    .    .    .    .    .    .    .    .    .    .    .    .    .    .    .    .    .    .    .    .    .    .    .    .    .    .    .    .    .    .    .    .    . |\n",
      "       ) |    .    .    .   <.>   .    .    .    .    .    .    .    .    .    .    .    .    .    .    .    .    .    .    .    .    .    .    .    .    .    .    .    .    .    .    .    .    .    .    .    .    .    .    .    .    .    .    .    .    .    .    .    .    .    .    .    .    .    .    .    .    .    .    .    .    .    .    .    .    .    .    .    .    .    .    .    .    .    .    .    .    .    .    .    .    .    .    .    .    .    .    .    .    .    .    .    .    .    .    .    .    .    .    .    .    .    .    .    .    .    .    .    .    .    .    .    .    .    .    .    .    .    .    .    .    .    .    .    .    .    .    .    .    .    .    .    .    .    .    .    .    .    .    .    .    .    .    .    .    .    .    .    .    .    . |\n",
      "       * |    .    .    .    .   <.>   .    .    .    .    .    .    .    .    .    .    .    .    .    .    .    .    .    .    .    .    .    .    .    .    .    .    .    .    .    .    .    .    .    .    .    .    .    .    .    .    .    .    .    .    .    .    .    .    .    .    .    .    .    .    .    .    .    .    .    .    .    .    .    .    .    .    .    .    .    .    .    .    .    .    .    .    .    .    .    .    .    .    .    .    .    .    .    .    .    .    .    .    .    .    .    .    .    .    .    .    .    .    .    .    .    .    .    .    .    .    .    .    .    .    .    .    .    .    .    .    .    .    .    .    .    .    .    .    .    .    .    .    .    .    .    .    .    .    .    .    .    .    .    .    .    .    .    .    . |\n",
      "       , |    .    .    .    .    .   <.>   .    .    .    .    .    .    .    .    .    .    .    .    .    .    .    .    .    .    .    .    .    .    .    .    .    .    .    .    .    .    .    .    .    .    .    .    .    .    .    .    .    .    .    .    .    .    .    .    .    .    .    .    .    .    .    .    .    .    .    .    .    .    .    .    .    .    .    .    .    .    .    .    .    .    .    .    .    .    .    .    .    .    .    .    .    .    .    .    .    .    .    .    .    .    .    .    .    .    .    .    .    .    .    .    .    .    .    .    .    .    .    .    .    .    .    .    .    .    .    .    .    .    .    .    .    .    .    .    .    .    .    .    .    .    .    .    .    .    .    .    .    .    .    .    .    .    .    . |\n",
      "    ,-HL |    .    .    .    .    .    .   <.>   .    .    .    .    .    .    .    .    .    .    .    .    .    .    .    .    .    .    .    .    .    .    .    .    .    .    .    .    .    .    .    .    .    .    .    .    .    .    .    .    .    .    .    .    .    .    .    .    .    .    .    .    .    .    .    .    .    .    .    .    .    .    .    .    .    .    .    .    .    .    .    .    .    .    .    .    .    .    .    .    .    .    .    .    .    .    .    .    .    .    .    .    .    .    .    .    .    .    .    .    .    .    .    .    .    .    .    .    .    .    .    .    .    .    .    .    .    .    .    .    .    .    .    .    .    .    .    .    .    .    .    .    .    .    .    .    .    .    .    .    .    .    .    .    .    .    . |\n",
      "      -- |    .    .    .    .    .    .    .   <.>   .    .    .    .    .    .    .    .    .    .    .    .    .    .    .    .    .    .    .    .    .    .    .    .    .    .    .    .    .    .    .    .    .    .    .    .    .    .    .    .    .    .    .    .    .    .    .    .    .    .    .    .    .    .    .    .    .    .    .    .    .    .    .    .    .    .    .    .    .    .    .    .    .    .    .    .    .    .    .    .    .    .    .    .    .    .    .    .    .    .    .    .    .    .    .    .    .    .    .    .    .    .    .    .    .    .    .    .    .    .    .    .    .    .    .    .    .    .    .    .    .    .    .    .    .    .    .    .    .    .    .    .    .    .    .    .    .    .    .    .    .    .    .    .    .    . |\n",
      "       . |   19  382   95   95    . 2758    8  192<2996>   5  153    .    .    .    .    .    .    .    .    .    .    .    .    .    .    .    .    .    .    .    .    .    .    .    .    .    .    .    .    .    .    .    .    .    .    .    .    .    .    .    .    .    .    .    .    .    .    .    .    .    .    .    .    .    .    .    .    .    .    .    .    .    .    .    .    .    .    .    .    .    .    .    .    .    .    .    .    .    .    .    .    .    .    .    .    .    .    .    .    .    .    .    .    .    .    .    .    .    .    .    .    .    .    .    .    .    .    .    .    .    .    .    .    .    .    .    .    .    .    .    .    .    .    .    .    .    .    .    .    .    .    .    .    .    .    .    .    .    .    .    .    .    .  396 |\n",
      "    .-HL |    .    .    .    .    .    .    .    .    .   <.>   .    .    .    .    .    .    .    .    .    .    .    .    .    .    .    .    .    .    .    .    .    .    .    .    .    .    .    .    .    .    .    .    .    .    .    .    .    .    .    .    .    .    .    .    .    .    .    .    .    .    .    .    .    .    .    .    .    .    .    .    .    .    .    .    .    .    .    .    .    .    .    .    .    .    .    .    .    .    .    .    .    .    .    .    .    .    .    .    .    .    .    .    .    .    .    .    .    .    .    .    .    .    .    .    .    .    .    .    .    .    .    .    .    .    .    .    .    .    .    .    .    .    .    .    .    .    .    .    .    .    .    .    .    .    .    .    .    .    .    .    .    .    .    . |\n",
      "       : |    .    .    .    .    .    .    .    .    .    .   <.>   .    .    .    .    .    .    .    .    .    .    .    .    .    .    .    .    .    .    .    .    .    .    .    .    .    .    .    .    .    .    .    .    .    .    .    .    .    .    .    .    .    .    .    .    .    .    .    .    .    .    .    .    .    .    .    .    .    .    .    .    .    .    .    .    .    .    .    .    .    .    .    .    .    .    .    .    .    .    .    .    .    .    .    .    .    .    .    .    .    .    .    .    .    .    .    .    .    .    .    .    .    .    .    .    .    .    .    .    .    .    .    .    .    .    .    .    .    .    .    .    .    .    .    .    .    .    .    .    .    .    .    .    .    .    .    .    .    .    .    .    .    .    . |\n",
      "     ABL |    .    .    .    .    .    .    .    .    .    .    .   <.>   .    .    .    .    .    .    .    .    .    .    .    .    .    .    .    .    .    .    .    .    .    .    .    .    .    .    .    .    .    .    .    .    .    .    .    .    .    .    .    .    .    .    .    .    .    .    .    .    .    .    .    .    .    .    .    .    .    .    .    .    .    .    .    .    .    .    .    .    .    .    .    .    .    .    .    .    .    .    .    .    .    .    .    .    .    .    .    .    .    .    .    .    .    .    .    .    .    .    .    .    .    .    .    .    .    .    .    .    .    .    .    .    .    .    .    .    .    .    .    .    .    .    .    .    .    .    .    .    .    .    .    .    .    .    .    .    .    .    .    .    .    . |\n",
      "     ABN |    .    .    .    .    .    .    .    .    .    .    .    .   <.>   .    .    .    .    .    .    .    .    .    .    .    .    .    .    .    .    .    .    .    .    .    .    .    .    .    .    .    .    .    .    .    .    .    .    .    .    .    .    .    .    .    .    .    .    .    .    .    .    .    .    .    .    .    .    .    .    .    .    .    .    .    .    .    .    .    .    .    .    .    .    .    .    .    .    .    .    .    .    .    .    .    .    .    .    .    .    .    .    .    .    .    .    .    .    .    .    .    .    .    .    .    .    .    .    .    .    .    .    .    .    .    .    .    .    .    .    .    .    .    .    .    .    .    .    .    .    .    .    .    .    .    .    .    .    .    .    .    .    .    .    . |\n",
      "     ABX |    .    .    .    .    .    .    .    .    .    .    .    .    .   <.>   .    .    .    .    .    .    .    .    .    .    .    .    .    .    .    .    .    .    .    .    .    .    .    .    .    .    .    .    .    .    .    .    .    .    .    .    .    .    .    .    .    .    .    .    .    .    .    .    .    .    .    .    .    .    .    .    .    .    .    .    .    .    .    .    .    .    .    .    .    .    .    .    .    .    .    .    .    .    .    .    .    .    .    .    .    .    .    .    .    .    .    .    .    .    .    .    .    .    .    .    .    .    .    .    .    .    .    .    .    .    .    .    .    .    .    .    .    .    .    .    .    .    .    .    .    .    .    .    .    .    .    .    .    .    .    .    .    .    .    . |\n",
      "     ADJ |    .    .    .    .    .    .    .    .    .    .    .    2    .    .   <.>   .    .  564    .    .    .    .    .    .    .    .    .    .    .    .    .    .    .    .    .    .    .    .    .    .    .    .    1    .    .    .    .    .    .    .    .    .    .    .    .    .    .    .    .    .    .    .    .    .    .    .    .    .    2    .    . 2485    5  354   72    4   18   48    .    .    . 1138    .    .    1    5    .    1    .    .    .    .    .   27    .    .   12    3    3    .   25    .   85    2    .    .    .    .    .    .    .    .    .    .    .    .    .    .    .    .    .    .   37    1   29    .    5    .   11    .    .    .    .    .   11    .    .    4    2    .    .    1    .    .    .    .    .    .    .    .    .    .    .    . |\n",
      "     ADP |    .    .    .    .    .    .    .    .    .    .    .    .    .    .    .   <.>   .    3    .    .    .    .    .    .    .    .    .    .    .    .    .    .    .    .    .    9    .    .    .    .    .    . 1079    .    .    .    .    .    .    .    7    .    .    .    .    .    .    .    .    .    .    .    .    .    .    .    .    . 5727   12   69    .    .    .    .    .    .    .    .    .    .   40    .    .    .    .    .    1    .    .    .    .    .    .    .    .    .    .    .    .    .    .    .    .    .    .    2    .    .    .    .    .    .    .    .    .    .    .    .    .    .    .    7    .   36    .    .    .    .    .   39  559    1    .    .    .    .    .    3    .    .    .    .    .    .    .    .    .    .    .   19    .    .    . |\n",
      "     ADV |    .    .    .    .  307    .    .    .    .    .    .    2   13    .    .    .   <.> 125    .   14    .    .    .    .    .    .    .    .    .    .    .    .    .    .    .    6    .    .    .    .    .    .   87    .    .    .    .    .    .    .    1    .    .    .    .   18    .    .    .    .    .    .    .    .    .    .    .    .   34    .    .   45    .    .   11    .    .    3    .    .    .  300    .    .    .    .    .    .    .    .    .    .    .    .    .    .    .    .    .    .    .    .    8    .    .    .    .    .    .    .    .    .    .    .    .    .    .    .    .    .    .    .  314   10 1386    .    7    2   33    1    .    .    .    .    .    .    .    .    .    .    .    .    .    .    .    .    .    .    .    .    .  270    .    . |\n",
      "      AP |    .    .    .    .    .    .    .    .    .    .    .    .    .    .    .    .    .   <.>   .    .    .    .    .    .    .    .    .    .    .    .    .    .    .    .    .    .    .    .    .    .    .    .    .    .    .    .    .    .    .    .    .    .    .    .    .    .    .    .    .    .    .    .    .    .    .    .    .    .    .    .    .    .    .    .    .    .    .    .    .    .    .    .    .    .    .    .    .    .    .    .    .    .    .    .    .    .    .    .    .    .    .    .    .    .    .    .    .    .    .    .    .    .    .    .    .    .    .    .    .    .    .    .    .    .    .    .    .    .    .    .    .    .    .    .    .    .    .    .    .    .    .    .    .    .    .    .    .    .    .    .    .    .    .    . |\n",
      "     AP$ |    .    .    .    .    .    .    .    .    .    .    .    .    .    .    .    .    .    .   <.>   .    .    .    .    .    .    .    .    .    .    .    .    .    .    .    .    .    .    .    .    .    .    .    .    .    .    .    .    .    .    .    .    .    .    .    .    .    .    .    .    .    .    .    .    .    .    .    .    .    .    .    .    .    .    .    .    .    .    .    .    .    .    .    .    .    .    .    .    .    .    .    .    .    .    .    .    .    .    .    .    .    .    .    .    .    .    .    .    .    .    .    .    .    .    .    .    .    .    .    .    .    .    .    .    .    .    .    .    .    .    .    .    .    .    .    .    .    .    .    .    .    .    .    .    .    .    .    .    .    .    .    .    .    .    . |\n",
      "      AT |    .    .    .    .    .    .    .    .    .    .    .    .    .    .    .    .    .    .    .   <.>   .    .    .    .    .    .    .    .    .    .    .    .    .    .    .    .    .    .    .    .    .    .    .    .    .    .    .    .    .    .    .    .    .    .    .    .    .    .    .    .    .    .    .    .    .    .    .    .    .    .    .    .    .    .    .    .    .    .    .    .    .    .    .    .    .    .    .    .    .    .    .    .    .    .    .    .    .    .    .    .    .    .    .    .    .    .    .    .    .    .    .    .    .    .    .    .    .    .    .    .    .    .    .    .    .    .    .    .    .    .    .    .    .    .    .    .    .    .    .    .    .    .    .    .    .    .    .    .    .    .    .    .    .    . |\n",
      "   AT-HL |    .    .    .    .    .    .    .    .    .    .    .    .    .    .    .    .    .    .    .    .   <.>   .    .    .    .    .    .    .    .    .    .    .    .    .    .    .    .    .    .    .    .    .    .    .    .    .    .    .    .    .    .    .    .    .    .    .    .    .    .    .    .    .    .    .    .    .    .    .    .    .    .    .    .    .    .    .    .    .    .    .    .    .    .    .    .    .    .    .    .    .    .    .    .    .    .    .    .    .    .    .    .    .    .    .    .    .    .    .    .    .    .    .    .    .    .    .    .    .    .    .    .    .    .    .    .    .    .    .    .    .    .    .    .    .    .    .    .    .    .    .    .    .    .    .    .    .    .    .    .    .    .    .    .    . |\n",
      "   AT-TL |    .    .    .    .    .    .    .    .    .    .    .    .    .    .    .    .    .    .    .    .    .   <.>   .    .    .    .    .    .    .    .    .    .    .    .    .    .    .    .    .    .    .    .    .    .    .    .    .    .    .    .    .    .    .    .    .    .    .    .    .    .    .    .    .    .    .    .    .    .    .    .    .    .    .    .    .    .    .    .    .    .    .    .    .    .    .    .    .    .    .    .    .    .    .    .    .    .    .    .    .    .    .    .    .    .    .    .    .    .    .    .    .    .    .    .    .    .    .    .    .    .    .    .    .    .    .    .    .    .    .    .    .    .    .    .    .    .    .    .    .    .    .    .    .    .    .    .    .    .    .    .    .    .    .    . |\n",
      "      BE |    .    .    .    .    .    .    .    .    .    .    .    .    .    .    .    .    .    .    .    .    .    .   <.>   .    .    .    .    .    .    .    .    .    .    .    .    .    .    .    .    .    .    .    .    .    .    .    .    .    .    .    .    .    .    .    .    .    .    .    .    .    .    .    .    .    .    .    .    .    .    .    .    .    .    .    .    .    .    .    .    .    .    .    .    .    .    .    .    .    .    .    .    .    .    .    .    .    .    .    .    .    .    .    .    .    .    .    .    .    .    .    .    .    .    .    .    .    .    .    .    .    .    .    .    .    .    .    .    .    .    .    .    .    .    .    .    .    .    .    .    .    .    .    .    .    .    .    .    .    .    .    .    .    .    . |\n",
      "     BED |    .    .    .    .    .    .    .    .    .    .    .    .    .    .    .    .    .    .    .    .    .    .    .   <.>   .    .    .    .    .    .    .    .    .    .    .    .    .    .    .    .    .    .    .    .    .    .    .    .    .    .    .    .    .    .    .    .    .    .    .    .    .    .    .    .    .    .    .    .    .    .    .    .    .    .    .    .    .    .    .    .    .    .    .    .    .    .    .    .    .    .    .    .    .    .    .    .    .    .    .    .    .    .    .    .    .    .    .    .    .    .    .    .    .    .    .    .    .    .    .    .    .    .    .    .    .    .    .    .    .    .    .    .    .    .    .    .    .    .    .    .    .    .    .    .    .    .    .    .    .    .    .    .    .    . |\n",
      "    BEDZ |    .    .    .    .    .    .    .    .    .    .    .    .    .    .    .    .    .    .    .    .    .    .    .    .   <.>   .    .    .    .    .    .    .    .    .    .    .    .    .    .    .    .    .    .    .    .    .    .    .    .    .    .    .    .    .    .    .    .    .    .    .    .    .    .    .    .    .    .    .    .    .    .    .    .    .    .    .    .    .    .    .    .    .    .    .    .    .    .    .    .    .    .    .    .    .    .    .    .    .    .    .    .    .    .    .    .    .    .    .    .    .    .    .    .    .    .    .    .    .    .    .    .    .    .    .    .    .    .    .    .    .    .    .    .    .    .    .    .    .    .    .    .    .    .    .    .    .    .    .    .    .    .    .    .    . |\n",
      "   BEDZ* |    .    .    .    .    .    .    .    .    .    .    .    .    .    .    .    .    .    .    .    .    .    .    .    .    .   <.>   .    .    .    .    .    .    .    .    .    .    .    .    .    .    .    .    .    .    .    .    .    .    .    .    .    .    .    .    .    .    .    .    .    .    .    .    .    .    .    .    .    .    .    .    .    .    .    .    .    .    .    .    .    .    .    .    .    .    .    .    .    .    .    .    .    .    .    .    .    .    .    .    .    .    .    .    .    .    .    .    .    .    .    .    .    .    .    .    .    .    .    .    .    .    .    .    .    .    .    .    .    .    .    .    .    .    .    .    .    .    .    .    .    .    .    .    .    .    .    .    .    .    .    .    .    .    .    . |\n",
      " BEDZ-HL |    .    .    .    .    .    .    .    .    .    .    .    .    .    .    .    .    .    .    .    .    .    .    .    .    .    .   <.>   .    .    .    .    .    .    .    .    .    .    .    .    .    .    .    .    .    .    .    .    .    .    .    .    .    .    .    .    .    .    .    .    .    .    .    .    .    .    .    .    .    .    .    .    .    .    .    .    .    .    .    .    .    .    .    .    .    .    .    .    .    .    .    .    .    .    .    .    .    .    .    .    .    .    .    .    .    .    .    .    .    .    .    .    .    .    .    .    .    .    .    .    .    .    .    .    .    .    .    .    .    .    .    .    .    .    .    .    .    .    .    .    .    .    .    .    .    .    .    .    .    .    .    .    .    .    . |\n",
      "     BEG |    .    .    .    .    .    .    .    .    .    .    .    .    .    .    .    .    .    .    .    .    .    .    .    .    .    .    .   <.>   .    .    .    .    .    .    .    .    .    .    .    .    .    .    .    .    .    .    .    .    .    .    .    .    .    .    .    .    .    .    .    .    .    .    .    .    .    .    .    .    .    .    .    .    .    .    .    .    .    .    .    .    .    .    .    .    .    .    .    .    .    .    .    .    .    .    .    .    .    .    .    .    .    .    .    .    .    .    .    .    .    .    .    .    .    .    .    .    .    .    .    .    .    .    .    .    .    .    .    .    .    .    .    .    .    .    .    .    .    .    .    .    .    .    .    .    .    .    .    .    .    .    .    .    .    . |\n",
      "     BEM |    .    .    .    .    .    .    .    .    .    .    .    .    .    .    .    .    .    .    .    .    .    .    .    .    .    .    .    .   <.>   .    .    .    .    .    .    .    .    .    .    .    .    .    .    .    .    .    .    .    .    .    .    .    .    .    .    .    .    .    .    .    .    .    .    .    .    .    .    .    .    .    .    .    .    .    .    .    .    .    .    .    .    .    .    .    .    .    .    .    .    .    .    .    .    .    .    .    .    .    .    .    .    .    .    .    .    .    .    .    .    .    .    .    .    .    .    .    .    .    .    .    .    .    .    .    .    .    .    .    .    .    .    .    .    .    .    .    .    .    .    .    .    .    .    .    .    .    .    .    .    .    .    .    .    . |\n",
      "     BEN |    .    .    .    .    .    .    .    .    .    .    .    .    .    .    .    .    .    .    .    .    .    .    .    .    .    .    .    .    .   <.>   .    .    .    .    .    .    .    .    .    .    .    .    .    .    .    .    .    .    .    .    .    .    .    .    .    .    .    .    .    .    .    .    .    .    .    .    .    .    .    .    .    .    .    .    .    .    .    .    .    .    .    .    .    .    .    .    .    .    .    .    .    .    .    .    .    .    .    .    .    .    .    .    .    .    .    .    .    .    .    .    .    .    .    .    .    .    .    .    .    .    .    .    .    .    .    .    .    .    .    .    .    .    .    .    .    .    .    .    .    .    .    .    .    .    .    .    .    .    .    .    .    .    .    . |\n",
      "     BER |    .    .    .    .    .    .    .    .    .    .    .    .    .    .    .    .    .    .    .    .    .    .    .    .    .    .    .    .    .    .   <.>   .    .    .    .    .    .    .    .    .    .    .    .    .    .    .    .    .    .    .    .    .    .    .    .    .    .    .    .    .    .    .    .    .    .    .    .    .    .    .    .    .    .    .    .    .    .    .    .    .    .    .    .    .    .    .    .    .    .    .    .    .    .    .    .    .    .    .    .    .    .    .    .    .    .    .    .    .    .    .    .    .    .    .    .    .    .    .    .    .    .    .    .    .    .    .    .    .    .    .    .    .    .    .    .    .    .    .    .    .    .    .    .    .    .    .    .    .    .    .    .    .    .    . |\n",
      "    BER* |    .    .    .    .    .    .    .    .    .    .    .    .    .    .    .    .    .    .    .    .    .    .    .    .    .    .    .    .    .    .    .   <.>   .    .    .    .    .    .    .    .    .    .    .    .    .    .    .    .    .    .    .    .    .    .    .    .    .    .    .    .    .    .    .    .    .    .    .    .    .    .    .    .    .    .    .    .    .    .    .    .    .    .    .    .    .    .    .    .    .    .    .    .    .    .    .    .    .    .    .    .    .    .    .    .    .    .    .    .    .    .    .    .    .    .    .    .    .    .    .    .    .    .    .    .    .    .    .    .    .    .    .    .    .    .    .    .    .    .    .    .    .    .    .    .    .    .    .    .    .    .    .    .    .    . |\n",
      "  BER-HL |    .    .    .    .    .    .    .    .    .    .    .    .    .    .    .    .    .    .    .    .    .    .    .    .    .    .    .    .    .    .    .    .   <.>   .    .    .    .    .    .    .    .    .    .    .    .    .    .    .    .    .    .    .    .    .    .    .    .    .    .    .    .    .    .    .    .    .    .    .    .    .    .    .    .    .    .    .    .    .    .    .    .    .    .    .    .    .    .    .    .    .    .    .    .    .    .    .    .    .    .    .    .    .    .    .    .    .    .    .    .    .    .    .    .    .    .    .    .    .    .    .    .    .    .    .    .    .    .    .    .    .    .    .    .    .    .    .    .    .    .    .    .    .    .    .    .    .    .    .    .    .    .    .    .    . |\n",
      "     BEZ |    .    .    .    .    .    .    .    .    .    .    .    .    .    .    .    .    .    .    .    .    .    .    .    .    .    .    .    .    .    .    .    .    .   <.>   .    .    .    .    .    .    .    .    .    .    .    .    .    .    .    .    .    .    .    .    .    .    .    .    .    .    .    .    .    .    .    .    .    .    .    .    .    .    .    .    .    .    .    .    .    .    .    .    .    .    .    .    .    .    .    .    .    .    .    .    .    .    .    .    .    .    .    .    .    .    .    .    .    .    .    .    .    .    .    .    .    .    .    .    .    .    .    .    .    .    .    .    .    .    .    .    .    .    .    .    .    .    .    .    .    .    .    .    .    .    .    .    .    .    .    .    .    .    .    . |\n",
      "    BEZ* |    .    .    .    .    .    .    .    .    .    .    .    .    .    .    .    .    .    .    .    .    .    .    .    .    .    .    .    .    .    .    .    .    .    .   <.>   .    .    .    .    .    .    .    .    .    .    .    .    .    .    .    .    .    .    .    .    .    .    .    .    .    .    .    .    .    .    .    .    .    .    .    .    .    .    .    .    .    .    .    .    .    .    .    .    .    .    .    .    .    .    .    .    .    .    .    .    .    .    .    .    .    .    .    .    .    .    .    .    .    .    .    .    .    .    .    .    .    .    .    .    .    .    .    .    .    .    .    .    .    .    .    .    .    .    .    .    .    .    .    .    .    .    .    .    .    .    .    .    .    .    .    .    .    .    . |\n",
      "      CC |    .    .    .    .    .    .    .    .    .    .    .    .    .    .    .    .    .    .    .    .    .    .    .    .    .    .    .    .    .    .    .    .    .    .    .   <.>   .    .    .    .    .    .    .    .    .    .    .    .    .    .    .    .    .    .    .    .    .    .    .    .    .    .    .    .    .    .    .    .    .    .    .    .    .    .    .    .    .    .    .    .    .    .    .    .    .    .    .    .    .    .    .    .    .    .    .    .    .    .    .    .    .    .    .    .    .    .    .    .    .    .    .    .    .    .    .    .    .    .    .    .    .    .    .    .    .    .    .    .    .    .    .    .    .    .    .    .    .    .    .    .    .    .    .    .    .    .    .    .    .    .    .    .    .    . |\n",
      "   CC-HL |    .    .    .    .    .    .    .    .    .    .    .    .    .    .    .    .    .    .    .    .    .    .    .    .    .    .    .    .    .    .    .    .    .    .    .    .   <.>   .    .    .    .    .    .    .    .    .    .    .    .    .    .    .    .    .    .    .    .    .    .    .    .    .    .    .    .    .    .    .    .    .    .    .    .    .    .    .    .    .    .    .    .    .    .    .    .    .    .    .    .    .    .    .    .    .    .    .    .    .    .    .    .    .    .    .    .    .    .    .    .    .    .    .    .    .    .    .    .    .    .    .    .    .    .    .    .    .    .    .    .    .    .    .    .    .    .    .    .    .    .    .    .    .    .    .    .    .    .    .    .    .    .    .    .    . |\n",
      "   CC-TL |    .    .    .    .    .    .    .    .    .    .    .    .    .    .    .    .    .    .    .    .    .    .    .    .    .    .    .    .    .    .    .    .    .    .    .    .    .   <.>   .    .    .    .    .    .    .    .    .    .    .    .    .    .    .    .    .    .    .    .    .    .    .    .    .    .    .    .    .    .    .    .    .    .    .    .    .    .    .    .    .    .    .    .    .    .    .    .    .    .    .    .    .    .    .    .    .    .    .    .    .    .    .    .    .    .    .    .    .    .    .    .    .    .    .    .    .    .    .    .    .    .    .    .    .    .    .    .    .    .    .    .    .    .    .    .    .    .    .    .    .    .    .    .    .    .    .    .    .    .    .    .    .    .    .    . |\n",
      "      CD |    .    .    .    .    .    .    .    .    .    .    .    .    .    .    .    .    .    .    .    .    .    .    .    .    .    .    .    .    .    .    .    .    .    .    .    .    .    .   <.>   .    .    .    .    .    .    .    .    .    .    .    .    .    .    .    .    .    .    .    .    .    .    .    .    .    .    .    .    .    .    .    .    .    .    .    .    .    .    .    .    .    .    .    .    .    .    .    .    .    .    .    .    .    .    .    .    .    .    .    .    .    .    .    .    .    .    .    .    .    .    .    .    .    .    .    .    .    .    .    .    .    .    .    .    .    .    .    .    .    .    .    .    .    .    .    .    .    .    .    .    .    .    .    .    .    .    .    .    .    .    .    .    .    .    . |\n",
      "   CD-HL |    .    .    .    .    .    .    .    .    .    .    .    .    .    .    .    .    .    .    .    .    .    .    .    .    .    .    .    .    .    .    .    .    .    .    .    .    .    .    .   <.>   .    .    .    .    .    .    .    .    .    .    .    .    .    .    .    .    .    .    .    .    .    .    .    .    .    .    .    .    .    .    .    .    .    .    .    .    .    .    .    .    .    .    .    .    .    .    .    .    .    .    .    .    .    .    .    .    .    .    .    .    .    .    .    .    .    .    .    .    .    .    .    .    .    .    .    .    .    .    .    .    .    .    .    .    .    .    .    .    .    .    .    .    .    .    .    .    .    .    .    .    .    .    .    .    .    .    .    .    .    .    .    .    .    . |\n",
      "   CD-TL |    .    .    .    .    .    .    .    .    .    .    .    .    .    .    .    .    .    .    .    .    .    .    .    .    .    .    .    .    .    .    .    .    .    .    .    .    .    .    .    .   <.>   .    .    .    .    .    .    .    .    .    .    .    .    .    .    .    .    .    .    .    .    .    .    .    .    .    .    .    .    .    .    .    .    .    .    .    .    .    .    .    .    .    .    .    .    .    .    .    .    .    .    .    .    .    .    .    .    .    .    .    .    .    .    .    .    .    .    .    .    .    .    .    .    .    .    .    .    .    .    .    .    .    .    .    .    .    .    .    .    .    .    .    .    .    .    .    .    .    .    .    .    .    .    .    .    .    .    .    .    .    .    .    .    . |\n",
      "    CONJ |    .    .    .    .    .    .    .    .    .    .    .    .    .    .    .    .    .    .    .    .    .    .    .    .    .    .    .    .    .    .    .    .    .    .    . 1846    1    2    .    .    .   <.>   .    .    .    .    .    .    .    .    .    .    .    .    3    .    .    .    .    .    .    .    .    .    .    .    .    .    2    .    .    .    .    .    .    .    .    .    .    .    .    1    .    .    .    .    .    .    .    .    .    .    .    .    .    .    .    .    .    .    .    .    .    .    .    .    .    .    .    .    .    .    .    .    .    .    .    .    .    .    .    .    .    .    7    .    .    .    .    .    .    .    .    .    .    .    .    .    .    .    .    .    .    .    .    .    .    .    .    .    .    .    .    . |\n",
      "      CS |    .    .    .    .    .    .    .    .    .    .    .    .    .    .    .    .    .    .    .    .    .    .    .    .    .    .    .    .    .    .    .    .    .    .    .    .    .    .    .    .    .    .   <.>   .    .    .    .    .    .    .    .    .    .    .    .    .    .    .    .    .    .    .    .    .    .    .    .    .    .    .    .    .    .    .    .    .    .    .    .    .    .    .    .    .    .    .    .    .    .    .    .    .    .    .    .    .    .    .    .    .    .    .    .    .    .    .    .    .    .    .    .    .    .    .    .    .    .    .    .    .    .    .    .    .    .    .    .    .    .    .    .    .    .    .    .    .    .    .    .    .    .    .    .    .    .    .    .    .    .    .    .    .    .    . |\n",
      "     DET |    .    .    .    .    .    .    .    .    .    .    .    .    .   30    .    .    .    .    . 5426    3   19    .    .    .    .    .    .    .    .    .    .    .    .    .    4    .    .    .    .    .    .   54   <.>   .    .    .    .    .    .  452    .  187  140    .    .    .    .    .    .    .    .    .    .    .    .    .    .    .    .    .    .    .    .    .    .    .    .    .    .    .    5    .    .    .    .    .    .    .    .    .    .    .    .    .    .    .    .    .    .    .    .    .    .    .    .  767    .    .    .    6    .    .    .    .    .    .    .    .    .    .    .    .    .    1    .    .    .    .    .    .    .    .    .    .    .    .    .    .    .    .    .    .    .    .    .    .  310   11    .    1    .    .    . |\n",
      "      DO |    .    .    .    .    .    .    .    .    .    .    .    .    .    .    .    .    .    .    .    .    .    .    .    .    .    .    .    .    .    .    .    .    .    .    .    .    .    .    .    .    .    .    .    .   <.>   .    .    .    .    .    .    .    .    .    .    .    .    .    .    .    .    .    .    .    .    .    .    .    .    .    .    .    .    .    .    .    .    .    .    .    .    .    .    .    .    .    .    .    .    .    .    .    .    .    .    .    .    .    .    .    .    .    .    .    .    .    .    .    .    .    .    .    .    .    .    .    .    .    .    .    .    .    .    .    .    .    .    .    .    .    .    .    .    .    .    .    .    .    .    .    .    .    .    .    .    .    .    .    .    .    .    .    .    . |\n",
      "     DO* |    .    .    .    .    .    .    .    .    .    .    .    .    .    .    .    .    .    .    .    .    .    .    .    .    .    .    .    .    .    .    .    .    .    .    .    .    .    .    .    .    .    .    .    .    .   <.>   .    .    .    .    .    .    .    .    .    .    .    .    .    .    .    .    .    .    .    .    .    .    .    .    .    .    .    .    .    .    .    .    .    .    .    .    .    .    .    .    .    .    .    .    .    .    .    .    .    .    .    .    .    .    .    .    .    .    .    .    .    .    .    .    .    .    .    .    .    .    .    .    .    .    .    .    .    .    .    .    .    .    .    .    .    .    .    .    .    .    .    .    .    .    .    .    .    .    .    .    .    .    .    .    .    .    .    . |\n",
      "     DOD |    .    .    .    .    .    .    .    .    .    .    .    .    .    .    .    .    .    .    .    .    .    .    .    .    .    .    .    .    .    .    .    .    .    .    .    .    .    .    .    .    .    .    .    .    .    .   <.>   .    .    .    .    .    .    .    .    .    .    .    .    .    .    .    .    .    .    .    .    .    .    .    .    .    .    .    .    .    .    .    .    .    .    .    .    .    .    .    .    .    .    .    .    .    .    .    .    .    .    .    .    .    .    .    .    .    .    .    .    .    .    .    .    .    .    .    .    .    .    .    .    .    .    .    .    .    .    .    .    .    .    .    .    .    .    .    .    .    .    .    .    .    .    .    .    .    .    .    .    .    .    .    .    .    .    . |\n",
      "    DOD* |    .    .    .    .    .    .    .    .    .    .    .    .    .    .    .    .    .    .    .    .    .    .    .    .    .    .    .    .    .    .    .    .    .    .    .    .    .    .    .    .    .    .    .    .    .    .    .   <.>   .    .    .    .    .    .    .    .    .    .    .    .    .    .    .    .    .    .    .    .    .    .    .    .    .    .    .    .    .    .    .    .    .    .    .    .    .    .    .    .    .    .    .    .    .    .    .    .    .    .    .    .    .    .    .    .    .    .    .    .    .    .    .    .    .    .    .    .    .    .    .    .    .    .    .    .    .    .    .    .    .    .    .    .    .    .    .    .    .    .    .    .    .    .    .    .    .    .    .    .    .    .    .    .    .    . |\n",
      "     DOZ |    .    .    .    .    .    .    .    .    .    .    .    .    .    .    .    .    .    .    .    .    .    .    .    .    .    .    .    .    .    .    .    .    .    .    .    .    .    .    .    .    .    .    .    .    .    .    .    .   <.>   .    .    .    .    .    .    .    .    .    .    .    .    .    .    .    .    .    .    .    .    .    .    .    .    .    .    .    .    .    .    .    .    .    .    .    .    .    .    .    .    .    .    .    .    .    .    .    .    .    .    .    .    .    .    .    .    .    .    .    .    .    .    .    .    .    .    .    .    .    .    .    .    .    .    .    .    .    .    .    .    .    .    .    .    .    .    .    .    .    .    .    .    .    .    .    .    .    .    .    .    .    .    .    .    . |\n",
      "    DOZ* |    .    .    .    .    .    .    .    .    .    .    .    .    .    .    .    .    .    .    .    .    .    .    .    .    .    .    .    .    .    .    .    .    .    .    .    .    .    .    .    .    .    .    .    .    .    .    .    .    .   <.>   .    .    .    .    .    .    .    .    .    .    .    .    .    .    .    .    .    .    .    .    .    .    .    .    .    .    .    .    .    .    .    .    .    .    .    .    .    .    .    .    .    .    .    .    .    .    .    .    .    .    .    .    .    .    .    .    .    .    .    .    .    .    .    .    .    .    .    .    .    .    .    .    .    .    .    .    .    .    .    .    .    .    .    .    .    .    .    .    .    .    .    .    .    .    .    .    .    .    .    .    .    .    .    . |\n",
      "      DT |    .    .    .    .    .    .    .    .    .    .    .    .    .    .    .    .    .    .    .    .    .    .    .    .    .    .    .    .    .    .    .    .    .    .    .    .    .    .    .    .    .    .    .    .    .    .    .    .    .    .   <.>   .    .    .    .    .    .    .    .    .    .    .    .    .    .    .    .    .    .    .    .    .    .    .    .    .    .    .    .    .    .    .    .    .    .    .    .    .    .    .    .    .    .    .    .    .    .    .    .    .    .    .    .    .    .    .    .    .    .    .    .    .    .    .    .    .    .    .    .    .    .    .    .    .    .    .    .    .    .    .    .    .    .    .    .    .    .    .    .    .    .    .    .    .    .    .    .    .    .    .    .    .    .    . |\n",
      "  DT+BEZ |    .    .    .    .    .    .    .    .    .    .    .    .    .    .    .    .    .    .    .    .    .    .    .    .    .    .    .    .    .    .    .    .    .    .    .    .    .    .    .    .    .    .    .    .    .    .    .    .    .    .    .   <.>   .    .    .    .    .    .    .    .    .    .    .    .    .    .    .    .    .    .    .    .    .    .    .    .    .    .    .    .    .    .    .    .    .    .    .    .    .    .    .    .    .    .    .    .    .    .    .    .    .    .    .    .    .    .    .    .    .    .    .    .    .    .    .    .    .    .    .    .    .    .    .    .    .    .    .    .    .    .    .    .    .    .    .    .    .    .    .    .    .    .    .    .    .    .    .    .    .    .    .    .    .    . |\n",
      "     DTI |    .    .    .    .    .    .    .    .    .    .    .    .    .    .    .    .    .    .    .    .    .    .    .    .    .    .    .    .    .    .    .    .    .    .    .    .    .    .    .    .    .    .    .    .    .    .    .    .    .    .    .    .   <.>   .    .    .    .    .    .    .    .    .    .    .    .    .    .    .    .    .    .    .    .    .    .    .    .    .    .    .    .    .    .    .    .    .    .    .    .    .    .    .    .    .    .    .    .    .    .    .    .    .    .    .    .    .    .    .    .    .    .    .    .    .    .    .    .    .    .    .    .    .    .    .    .    .    .    .    .    .    .    .    .    .    .    .    .    .    .    .    .    .    .    .    .    .    .    .    .    .    .    .    .    . |\n",
      "     DTS |    .    .    .    .    .    .    .    .    .    .    .    .    .    .    .    .    .    .    .    .    .    .    .    .    .    .    .    .    .    .    .    .    .    .    .    .    .    .    .    .    .    .    .    .    .    .    .    .    .    .    .    .    .   <.>   .    .    .    .    .    .    .    .    .    .    .    .    .    .    .    .    .    .    .    .    .    .    .    .    .    .    .    .    .    .    .    .    .    .    .    .    .    .    .    .    .    .    .    .    .    .    .    .    .    .    .    .    .    .    .    .    .    .    .    .    .    .    .    .    .    .    .    .    .    .    .    .    .    .    .    .    .    .    .    .    .    .    .    .    .    .    .    .    .    .    .    .    .    .    .    .    .    .    .    . |\n",
      "     DTX |    .    .    .    .    .    .    .    .    .    .    .    .    .    .    .    .    .    .    .    .    .    .    .    .    .    .    .    .    .    .    .    .    .    .    .    .    .    .    .    .    .    .    .    .    .    .    .    .    .    .    .    .    .    .   <.>   .    .    .    .    .    .    .    .    .    .    .    .    .    .    .    .    .    .    .    .    .    .    .    .    .    .    .    .    .    .    .    .    .    .    .    .    .    .    .    .    .    .    .    .    .    .    .    .    .    .    .    .    .    .    .    .    .    .    .    .    .    .    .    .    .    .    .    .    .    .    .    .    .    .    .    .    .    .    .    .    .    .    .    .    .    .    .    .    .    .    .    .    .    .    .    .    .    .    . |\n",
      "      EX |    .    .    .    .    .    .    .    .    .    .    .    .    .    .    .    .    .    .    .    .    .    .    .    .    .    .    .    .    .    .    .    .    .    .    .    .    .    .    .    .    .    .    .    .    .    .    .    .    .    .    .    .    .    .    .   <.>   .    .    .    .    .    .    .    .    .    .    .    .    .    .    .    .    .    .    .    .    .    .    .    .    .    .    .    .    .    .    .    .    .    .    .    .    .    .    .    .    .    .    .    .    .    .    .    .    .    .    .    .    .    .    .    .    .    .    .    .    .    .    .    .    .    .    .    .    .    .    .    .    .    .    .    .    .    .    .    .    .    .    .    .    .    .    .    .    .    .    .    .    .    .    .    .    .    . |\n",
      "  EX+BEZ |    .    .    .    .    .    .    .    .    .    .    .    .    .    .    .    .    .    .    .    .    .    .    .    .    .    .    .    .    .    .    .    .    .    .    .    .    .    .    .    .    .    .    .    .    .    .    .    .    .    .    .    .    .    .    .    .   <.>   .    .    .    .    .    .    .    .    .    .    .    .    .    .    .    .    .    .    .    .    .    .    .    .    .    .    .    .    .    .    .    .    .    .    .    .    .    .    .    .    .    .    .    .    .    .    .    .    .    .    .    .    .    .    .    .    .    .    .    .    .    .    .    .    .    .    .    .    .    .    .    .    .    .    .    .    .    .    .    .    .    .    .    .    .    .    .    .    .    .    .    .    .    .    .    .    . |\n",
      "FW-AT-TL |    .    .    .    .    .    .    .    .    .    .    .    .    .    .    .    .    .    .    .    .    .    .    .    .    .    .    .    .    .    .    .    .    .    .    .    .    .    .    .    .    .    .    .    .    .    .    .    .    .    .    .    .    .    .    .    .    .   <.>   .    .    .    .    .    .    .    .    .    .    .    .    .    .    .    .    .    .    .    .    .    .    .    .    .    .    .    .    .    .    .    .    .    .    .    .    .    .    .    .    .    .    .    .    .    .    .    .    .    .    .    .    .    .    .    .    .    .    .    .    .    .    .    .    .    .    .    .    .    .    .    .    .    .    .    .    .    .    .    .    .    .    .    .    .    .    .    .    .    .    .    .    .    .    .    . |\n",
      "   FW-CC |    .    .    .    .    .    .    .    .    .    .    .    .    .    .    .    .    .    .    .    .    .    .    .    .    .    .    .    .    .    .    .    .    .    .    .    .    .    .    .    .    .    .    .    .    .    .    .    .    .    .    .    .    .    .    .    .    .    .   <.>   .    .    .    .    .    .    .    .    .    .    .    .    .    .    .    .    .    .    .    .    .    .    .    .    .    .    .    .    .    .    .    .    .    .    .    .    .    .    .    .    .    .    .    .    .    .    .    .    .    .    .    .    .    .    .    .    .    .    .    .    .    .    .    .    .    .    .    .    .    .    .    .    .    .    .    .    .    .    .    .    .    .    .    .    .    .    .    .    .    .    .    .    .    .    . |\n",
      "   FW-IN |    .    .    .    .    .    .    .    .    .    .    .    .    .    .    .    .    .    .    .    .    .    .    .    .    .    .    .    .    .    .    .    .    .    .    .    .    .    .    .    .    .    .    .    .    .    .    .    .    .    .    .    .    .    .    .    .    .    .    .   <.>   .    .    .    .    .    .    .    .    .    .    .    .    .    .    .    .    .    .    .    .    .    .    .    .    .    .    .    .    .    .    .    .    .    .    .    .    .    .    .    .    .    .    .    .    .    .    .    .    .    .    .    .    .    .    .    .    .    .    .    .    .    .    .    .    .    .    .    .    .    .    .    .    .    .    .    .    .    .    .    .    .    .    .    .    .    .    .    .    .    .    .    .    .    . |\n",
      "   FW-NN |    .    .    .    .    .    .    .    .    .    .    .    .    .    .    .    .    .    .    .    .    .    .    .    .    .    .    .    .    .    .    .    .    .    .    .    .    .    .    .    .    .    .    .    .    .    .    .    .    .    .    .    .    .    .    .    .    .    .    .    .   <.>   .    .    .    .    .    .    .    .    .    .    .    .    .    .    .    .    .    .    .    .    .    .    .    .    .    .    .    .    .    .    .    .    .    .    .    .    .    .    .    .    .    .    .    .    .    .    .    .    .    .    .    .    .    .    .    .    .    .    .    .    .    .    .    .    .    .    .    .    .    .    .    .    .    .    .    .    .    .    .    .    .    .    .    .    .    .    .    .    .    .    .    .    . |\n",
      "  FW-NNS |    .    .    .    .    .    .    .    .    .    .    .    .    .    .    .    .    .    .    .    .    .    .    .    .    .    .    .    .    .    .    .    .    .    .    .    .    .    .    .    .    .    .    .    .    .    .    .    .    .    .    .    .    .    .    .    .    .    .    .    .    .   <.>   .    .    .    .    .    .    .    .    .    .    .    .    .    .    .    .    .    .    .    .    .    .    .    .    .    .    .    .    .    .    .    .    .    .    .    .    .    .    .    .    .    .    .    .    .    .    .    .    .    .    .    .    .    .    .    .    .    .    .    .    .    .    .    .    .    .    .    .    .    .    .    .    .    .    .    .    .    .    .    .    .    .    .    .    .    .    .    .    .    .    .    . |\n",
      "      HV |    .    .    .    .    .    .    .    .    .    .    .    .    .    .    .    .    .    .    .    .    .    .    .    .    .    .    .    .    .    .    .    .    .    .    .    .    .    .    .    .    .    .    .    .    .    .    .    .    .    .    .    .    .    .    .    .    .    .    .    .    .    .   <.>   .    .    .    .    .    .    .    .    .    .    .    .    .    .    .    .    .    .    .    .    .    .    .    .    .    .    .    .    .    .    .    .    .    .    .    .    .    .    .    .    .    .    .    .    .    .    .    .    .    .    .    .    .    .    .    .    .    .    .    .    .    .    .    .    .    .    .    .    .    .    .    .    .    .    .    .    .    .    .    .    .    .    .    .    .    .    .    .    .    .    . |\n",
      "     HVD |    .    .    .    .    .    .    .    .    .    .    .    .    .    .    .    .    .    .    .    .    .    .    .    .    .    .    .    .    .    .    .    .    .    .    .    .    .    .    .    .    .    .    .    .    .    .    .    .    .    .    .    .    .    .    .    .    .    .    .    .    .    .    .   <.>   .    .    .    .    .    .    .    .    .    .    .    .    .    .    .    .    .    .    .    .    .    .    .    .    .    .    .    .    .    .    .    .    .    .    .    .    .    .    .    .    .    .    .    .    .    .    .    .    .    .    .    .    .    .    .    .    .    .    .    .    .    .    .    .    .    .    .    .    .    .    .    .    .    .    .    .    .    .    .    .    .    .    .    .    .    .    .    .    .    . |\n",
      "     HVG |    .    .    .    .    .    .    .    .    .    .    .    .    .    .    .    .    .    .    .    .    .    .    .    .    .    .    .    .    .    .    .    .    .    .    .    .    .    .    .    .    .    .    .    .    .    .    .    .    .    .    .    .    .    .    .    .    .    .    .    .    .    .    .    .   <.>   .    .    .    .    .    .    .    .    .    .    .    .    .    .    .    .    .    .    .    .    .    .    .    .    .    .    .    .    .    .    .    .    .    .    .    .    .    .    .    .    .    .    .    .    .    .    .    .    .    .    .    .    .    .    .    .    .    .    .    .    .    .    .    .    .    .    .    .    .    .    .    .    .    .    .    .    .    .    .    .    .    .    .    .    .    .    .    .    . |\n",
      "     HVN |    .    .    .    .    .    .    .    .    .    .    .    .    .    .    .    .    .    .    .    .    .    .    .    .    .    .    .    .    .    .    .    .    .    .    .    .    .    .    .    .    .    .    .    .    .    .    .    .    .    .    .    .    .    .    .    .    .    .    .    .    .    .    .    .    .   <.>   .    .    .    .    .    .    .    .    .    .    .    .    .    .    .    .    .    .    .    .    .    .    .    .    .    .    .    .    .    .    .    .    .    .    .    .    .    .    .    .    .    .    .    .    .    .    .    .    .    .    .    .    .    .    .    .    .    .    .    .    .    .    .    .    .    .    .    .    .    .    .    .    .    .    .    .    .    .    .    .    .    .    .    .    .    .    .    . |\n",
      "     HVZ |    .    .    .    .    .    .    .    .    .    .    .    .    .    .    .    .    .    .    .    .    .    .    .    .    .    .    .    .    .    .    .    .    .    .    .    .    .    .    .    .    .    .    .    .    .    .    .    .    .    .    .    .    .    .    .    .    .    .    .    .    .    .    .    .    .    .   <.>   .    .    .    .    .    .    .    .    .    .    .    .    .    .    .    .    .    .    .    .    .    .    .    .    .    .    .    .    .    .    .    .    .    .    .    .    .    .    .    .    .    .    .    .    .    .    .    .    .    .    .    .    .    .    .    .    .    .    .    .    .    .    .    .    .    .    .    .    .    .    .    .    .    .    .    .    .    .    .    .    .    .    .    .    .    .    . |\n",
      "    HVZ* |    .    .    .    .    .    .    .    .    .    .    .    .    .    .    .    .    .    .    .    .    .    .    .    .    .    .    .    .    .    .    .    .    .    .    .    .    .    .    .    .    .    .    .    .    .    .    .    .    .    .    .    .    .    .    .    .    .    .    .    .    .    .    .    .    .    .    .   <.>   .    .    .    .    .    .    .    .    .    .    .    .    .    .    .    .    .    .    .    .    .    .    .    .    .    .    .    .    .    .    .    .    .    .    .    .    .    .    .    .    .    .    .    .    .    .    .    .    .    .    .    .    .    .    .    .    .    .    .    .    .    .    .    .    .    .    .    .    .    .    .    .    .    .    .    .    .    .    .    .    .    .    .    .    .    . |\n",
      "      IN |    .    .    .    .    .    .    .    .    .    .    .    .    .    .    .    .    .    .    .    .    .    .    .    .    .    .    .    .    .    .    .    .    .    .    .    .    .    .    .    .    .    .    .    .    .    .    .    .    .    .    .    .    .    .    .    .    .    .    .    .    .    .    .    .    .    .    .    .   <.>   .    .    .    .    .    .    .    .    .    .    .    .    .    .    .    .    .    .    .    .    .    .    .    .    .    .    .    .    .    .    .    .    .    .    .    .    .    .    .    .    .    .    .    .    .    .    .    .    .    .    .    .    .    .    .    .    .    .    .    .    .    .    .    .    .    .    .    .    .    .    .    .    .    .    .    .    .    .    .    .    .    .    .    .    . |\n",
      "   IN-HL |    .    .    .    .    .    .    .    .    .    .    .    .    .    .    .    .    .    .    .    .    .    .    .    .    .    .    .    .    .    .    .    .    .    .    .    .    .    .    .    .    .    .    .    .    .    .    .    .    .    .    .    .    .    .    .    .    .    .    .    .    .    .    .    .    .    .    .    .    .   <.>   .    .    .    .    .    .    .    .    .    .    .    .    .    .    .    .    .    .    .    .    .    .    .    .    .    .    .    .    .    .    .    .    .    .    .    .    .    .    .    .    .    .    .    .    .    .    .    .    .    .    .    .    .    .    .    .    .    .    .    .    .    .    .    .    .    .    .    .    .    .    .    .    .    .    .    .    .    .    .    .    .    .    .    . |\n",
      "   IN-TL |    .    .    .    .    .    .    .    .    .    .    .    .    .    .    .    .    .    .    .    .    .    .    .    .    .    .    .    .    .    .    .    .    .    .    .    .    .    .    .    .    .    .    .    .    .    .    .    .    .    .    .    .    .    .    .    .    .    .    .    .    .    .    .    .    .    .    .    .    .    .   <.>   .    .    .    .    .    .    .    .    .    .    .    .    .    .    .    .    .    .    .    .    .    .    .    .    .    .    .    .    .    .    .    .    .    .    .    .    .    .    .    .    .    .    .    .    .    .    .    .    .    .    .    .    .    .    .    .    .    .    .    .    .    .    .    .    .    .    .    .    .    .    .    .    .    .    .    .    .    .    .    .    .    .    . |\n",
      "      JJ |    .    .    .    .    .    .    .    .    .    .    .    .    .    .    .    .    .    .    .    .    .    .    .    .    .    .    .    .    .    .    .    .    .    .    .    .    .    .    .    .    .    .    .    .    .    .    .    .    .    .    .    .    .    .    .    .    .    .    .    .    .    .    .    .    .    .    .    .    .    .    .   <.>   .    .    .    .    .    .    .    .    .    .    .    .    .    .    .    .    .    .    .    .    .    .    .    .    .    .    .    .    .    .    .    .    .    .    .    .    .    .    .    .    .    .    .    .    .    .    .    .    .    .    .    .    .    .    .    .    .    .    .    .    .    .    .    .    .    .    .    .    .    .    .    .    .    .    .    .    .    .    .    .    .    . |\n",
      "   JJ-HL |    .    .    .    .    .    .    .    .    .    .    .    .    .    .    .    .    .    .    .    .    .    .    .    .    .    .    .    .    .    .    .    .    .    .    .    .    .    .    .    .    .    .    .    .    .    .    .    .    .    .    .    .    .    .    .    .    .    .    .    .    .    .    .    .    .    .    .    .    .    .    .    .   <.>   .    .    .    .    .    .    .    .    .    .    .    .    .    .    .    .    .    .    .    .    .    .    .    .    .    .    .    .    .    .    .    .    .    .    .    .    .    .    .    .    .    .    .    .    .    .    .    .    .    .    .    .    .    .    .    .    .    .    .    .    .    .    .    .    .    .    .    .    .    .    .    .    .    .    .    .    .    .    .    .    . |\n",
      "   JJ-TL |    .    .    .    .    .    .    .    .    .    .    .    .    .    .    .    .    .    .    .    .    .    .    .    .    .    .    .    .    .    .    .    .    .    .    .    .    .    .    .    .    .    .    .    .    .    .    .    .    .    .    .    .    .    .    .    .    .    .    .    .    .    .    .    .    .    .    .    .    .    .    .    .    .   <.>   .    .    .    .    .    .    .    .    .    .    .    .    .    .    .    .    .    .    .    .    .    .    .    .    .    .    .    .    .    .    .    .    .    .    .    .    .    .    .    .    .    .    .    .    .    .    .    .    .    .    .    .    .    .    .    .    .    .    .    .    .    .    .    .    .    .    .    .    .    .    .    .    .    .    .    .    .    .    .    . |\n",
      "     JJR |    .    .    .    .    .    .    .    .    .    .    .    .    .    .    .    .    .    .    .    .    .    .    .    .    .    .    .    .    .    .    .    .    .    .    .    .    .    .    .    .    .    .    .    .    .    .    .    .    .    .    .    .    .    .    .    .    .    .    .    .    .    .    .    .    .    .    .    .    .    .    .    .    .    .   <.>   .    .    .    .    .    .    .    .    .    .    .    .    .    .    .    .    .    .    .    .    .    .    .    .    .    .    .    .    .    .    .    .    .    .    .    .    .    .    .    .    .    .    .    .    .    .    .    .    .    .    .    .    .    .    .    .    .    .    .    .    .    .    .    .    .    .    .    .    .    .    .    .    .    .    .    .    .    .    . |\n",
      "  JJR-TL |    .    .    .    .    .    .    .    .    .    .    .    .    .    .    .    .    .    .    .    .    .    .    .    .    .    .    .    .    .    .    .    .    .    .    .    .    .    .    .    .    .    .    .    .    .    .    .    .    .    .    .    .    .    .    .    .    .    .    .    .    .    .    .    .    .    .    .    .    .    .    .    .    .    .    .   <.>   .    .    .    .    .    .    .    .    .    .    .    .    .    .    .    .    .    .    .    .    .    .    .    .    .    .    .    .    .    .    .    .    .    .    .    .    .    .    .    .    .    .    .    .    .    .    .    .    .    .    .    .    .    .    .    .    .    .    .    .    .    .    .    .    .    .    .    .    .    .    .    .    .    .    .    .    .    . |\n",
      "     JJS |    .    .    .    .    .    .    .    .    .    .    .    .    .    .    .    .    .    .    .    .    .    .    .    .    .    .    .    .    .    .    .    .    .    .    .    .    .    .    .    .    .    .    .    .    .    .    .    .    .    .    .    .    .    .    .    .    .    .    .    .    .    .    .    .    .    .    .    .    .    .    .    .    .    .    .    .   <.>   .    .    .    .    .    .    .    .    .    .    .    .    .    .    .    .    .    .    .    .    .    .    .    .    .    .    .    .    .    .    .    .    .    .    .    .    .    .    .    .    .    .    .    .    .    .    .    .    .    .    .    .    .    .    .    .    .    .    .    .    .    .    .    .    .    .    .    .    .    .    .    .    .    .    .    .    . |\n",
      "     JJT |    .    .    .    .    .    .    .    .    .    .    .    .    .    .    .    .    .    .    .    .    .    .    .    .    .    .    .    .    .    .    .    .    .    .    .    .    .    .    .    .    .    .    .    .    .    .    .    .    .    .    .    .    .    .    .    .    .    .    .    .    .    .    .    .    .    .    .    .    .    .    .    .    .    .    .    .    .   <.>   .    .    .    .    .    .    .    .    .    .    .    .    .    .    .    .    .    .    .    .    .    .    .    .    .    .    .    .    .    .    .    .    .    .    .    .    .    .    .    .    .    .    .    .    .    .    .    .    .    .    .    .    .    .    .    .    .    .    .    .    .    .    .    .    .    .    .    .    .    .    .    .    .    .    .    . |\n",
      "      MD |    .    .    .    .    .    .    .    .    .    .    .    .    .    .    .    .    .    .    .    .    .    .    .    .    .    .    .    .    .    .    .    .    .    .    .    .    .    .    .    .    .    .    .    .    .    .    .    .    .    .    .    .    .    .    .    .    .    .    .    .    .    .    .    .    .    .    .    .    .    .    .    .    .    .    .    .    .    .   <.>   .    .    .    .    .    .    .    .    .    .    .    .    .    .    .    .    .    .    .    .    .    .    .    .    .    .    .    .    .    .    .    .    .    .    .    .    .    .    .    .    .    .    .    .    .    .    .    .    .    .    .    .    .    .    .    .    .    .    .    .    .    .    .    .    .    .    .    .    .    .    .    .    .    .    . |\n",
      "     MD* |    .    .    .    .    .    .    .    .    .    .    .    .    .    .    .    .    .    .    .    .    .    .    .    .    .    .    .    .    .    .    .    .    .    .    .    .    .    .    .    .    .    .    .    .    .    .    .    .    .    .    .    .    .    .    .    .    .    .    .    .    .    .    .    .    .    .    .    .    .    .    .    .    .    .    .    .    .    .    .   <.>   .    .    .    .    .    .    .    .    .    .    .    .    .    .    .    .    .    .    .    .    .    .    .    .    .    .    .    .    .    .    .    .    .    .    .    .    .    .    .    .    .    .    .    .    .    .    .    .    .    .    .    .    .    .    .    .    .    .    .    .    .    .    .    .    .    .    .    .    .    .    .    .    .    . |\n",
      "   MD-HL |    .    .    .    .    .    .    .    .    .    .    .    .    .    .    .    .    .    .    .    .    .    .    .    .    .    .    .    .    .    .    .    .    .    .    .    .    .    .    .    .    .    .    .    .    .    .    .    .    .    .    .    .    .    .    .    .    .    .    .    .    .    .    .    .    .    .    .    .    .    .    .    .    .    .    .    .    .    .    .    .   <.>   .    .    .    .    .    .    .    .    .    .    .    .    .    .    .    .    .    .    .    .    .    .    .    .    .    .    .    .    .    .    .    .    .    .    .    .    .    .    .    .    .    .    .    .    .    .    .    .    .    .    .    .    .    .    .    .    .    .    .    .    .    .    .    .    .    .    .    .    .    .    .    .    . |\n",
      "      NN |    .    .    .    .    .    .    .    .    .    .    .    .    .    .    .    .    .    .    .    .    .    .    .    .    .    .    .    .    .    .    .    .    .    .    .    .    .    .    .    .    .    .    .    .    .    .    .    .    .    .    .    .    .    .    .    .    .    .    .    .    .    .    .    .    .    .    .    .    .    .    .    .    .    .    .    .    .    .    .    .    .   <.>   .    .    .    .    .    .    .    .    .    .    .    .    .    .    .    .    .    .    .    .    .    .    .    .    .    .    .    .    .    .    .    .    .    .    .    .    .    .    .    .    .    .    .    .    .    .    .    .    .    .    .    .    .    .    .    .    .    .    .    .    .    .    .    .    .    .    .    .    .    .    .    . |\n",
      "     NN$ |    .    .    .    .    .    .    .    .    .    .    .    .    .    .    .    .    .    .    .    .    .    .    .    .    .    .    .    .    .    .    .    .    .    .    .    .    .    .    .    .    .    .    .    .    .    .    .    .    .    .    .    .    .    .    .    .    .    .    .    .    .    .    .    .    .    .    .    .    .    .    .    .    .    .    .    .    .    .    .    .    .    .   <.>   .    .    .    .    .    .    .    .    .    .    .    .    .    .    .    .    .    .    .    .    .    .    .    .    .    .    .    .    .    .    .    .    .    .    .    .    .    .    .    .    .    .    .    .    .    .    .    .    .    .    .    .    .    .    .    .    .    .    .    .    .    .    .    .    .    .    .    .    .    .    . |\n",
      "  NN$-TL |    .    .    .    .    .    .    .    .    .    .    .    .    .    .    .    .    .    .    .    .    .    .    .    .    .    .    .    .    .    .    .    .    .    .    .    .    .    .    .    .    .    .    .    .    .    .    .    .    .    .    .    .    .    .    .    .    .    .    .    .    .    .    .    .    .    .    .    .    .    .    .    .    .    .    .    .    .    .    .    .    .    .    .   <.>   .    .    .    .    .    .    .    .    .    .    .    .    .    .    .    .    .    .    .    .    .    .    .    .    .    .    .    .    .    .    .    .    .    .    .    .    .    .    .    .    .    .    .    .    .    .    .    .    .    .    .    .    .    .    .    .    .    .    .    .    .    .    .    .    .    .    .    .    .    . |\n",
      "   NN-HL |    .    .    .    .    .    .    .    .    .    .    .    .    .    .    .    .    .    .    .    .    .    .    .    .    .    .    .    .    .    .    .    .    .    .    .    .    .    .    .    .    .    .    .    .    .    .    .    .    .    .    .    .    .    .    .    .    .    .    .    .    .    .    .    .    .    .    .    .    .    .    .    .    .    .    .    .    .    .    .    .    .    .    .    .   <.>   .    .    .    .    .    .    .    .    .    .    .    .    .    .    .    .    .    .    .    .    .    .    .    .    .    .    .    .    .    .    .    .    .    .    .    .    .    .    .    .    .    .    .    .    .    .    .    .    .    .    .    .    .    .    .    .    .    .    .    .    .    .    .    .    .    .    .    .    . |\n",
      "   NN-TL |    .    .    .    .    .    .    .    .    .    .    .    .    .    .    .    .    .    .    .    .    .    .    .    .    .    .    .    .    .    .    .    .    .    .    .    .    .    .    .    .    .    .    .    .    .    .    .    .    .    .    .    .    .    .    .    .    .    .    .    .    .    .    .    .    .    .    .    .    .    .    .    .    .    .    .    .    .    .    .    .    .    .    .    .    .   <.>   .    .    .    .    .    .    .    .    .    .    .    .    .    .    .    .    .    .    .    .    .    .    .    .    .    .    .    .    .    .    .    .    .    .    .    .    .    .    .    .    .    .    .    .    .    .    .    .    .    .    .    .    .    .    .    .    .    .    .    .    .    .    .    .    .    .    .    . |\n",
      "NN-TL-HL |    .    .    .    .    .    .    .    .    .    .    .    .    .    .    .    .    .    .    .    .    .    .    .    .    .    .    .    .    .    .    .    .    .    .    .    .    .    .    .    .    .    .    .    .    .    .    .    .    .    .    .    .    .    .    .    .    .    .    .    .    .    .    .    .    .    .    .    .    .    .    .    .    .    .    .    .    .    .    .    .    .    .    .    .    .    .   <.>   .    .    .    .    .    .    .    .    .    .    .    .    .    .    .    .    .    .    .    .    .    .    .    .    .    .    .    .    .    .    .    .    .    .    .    .    .    .    .    .    .    .    .    .    .    .    .    .    .    .    .    .    .    .    .    .    .    .    .    .    .    .    .    .    .    .    . |\n",
      "     NNS |    .    .    .    .    .    .    .    .    .    .    .    .    .    .    .    .    .    .    .    .    .    .    .    .    .    .    .    .    .    .    .    .    .    .    .    .    .    .    .    .    .    .    .    .    .    .    .    .    .    .    .    .    .    .    .    .    .    .    .    .    .    .    .    .    .    .    .    .    .    .    .    .    .    .    .    .    .    .    .    .    .    .    .    .    .    .    .   <.>   .    .    .    .    .    .    .    .    .    .    .    .    .    .    .    .    .    .    .    .    .    .    .    .    .    .    .    .    .    .    .    .    .    .    .    .    .    .    .    .    .    .    .    .    .    .    .    .    .    .    .    .    .    .    .    .    .    .    .    .    .    .    .    .    .    . |\n",
      "    NNS$ |    .    .    .    .    .    .    .    .    .    .    .    .    .    .    .    .    .    .    .    .    .    .    .    .    .    .    .    .    .    .    .    .    .    .    .    .    .    .    .    .    .    .    .    .    .    .    .    .    .    .    .    .    .    .    .    .    .    .    .    .    .    .    .    .    .    .    .    .    .    .    .    .    .    .    .    .    .    .    .    .    .    .    .    .    .    .    .    .   <.>   .    .    .    .    .    .    .    .    .    .    .    .    .    .    .    .    .    .    .    .    .    .    .    .    .    .    .    .    .    .    .    .    .    .    .    .    .    .    .    .    .    .    .    .    .    .    .    .    .    .    .    .    .    .    .    .    .    .    .    .    .    .    .    .    . |\n",
      " NNS$-TL |    .    .    .    .    .    .    .    .    .    .    .    .    .    .    .    .    .    .    .    .    .    .    .    .    .    .    .    .    .    .    .    .    .    .    .    .    .    .    .    .    .    .    .    .    .    .    .    .    .    .    .    .    .    .    .    .    .    .    .    .    .    .    .    .    .    .    .    .    .    .    .    .    .    .    .    .    .    .    .    .    .    .    .    .    .    .    .    .    .   <.>   .    .    .    .    .    .    .    .    .    .    .    .    .    .    .    .    .    .    .    .    .    .    .    .    .    .    .    .    .    .    .    .    .    .    .    .    .    .    .    .    .    .    .    .    .    .    .    .    .    .    .    .    .    .    .    .    .    .    .    .    .    .    .    . |\n",
      "  NNS-HL |    .    .    .    .    .    .    .    .    .    .    .    .    .    .    .    .    .    .    .    .    .    .    .    .    .    .    .    .    .    .    .    .    .    .    .    .    .    .    .    .    .    .    .    .    .    .    .    .    .    .    .    .    .    .    .    .    .    .    .    .    .    .    .    .    .    .    .    .    .    .    .    .    .    .    .    .    .    .    .    .    .    .    .    .    .    .    .    .    .    .   <.>   .    .    .    .    .    .    .    .    .    .    .    .    .    .    .    .    .    .    .    .    .    .    .    .    .    .    .    .    .    .    .    .    .    .    .    .    .    .    .    .    .    .    .    .    .    .    .    .    .    .    .    .    .    .    .    .    .    .    .    .    .    .    . |\n",
      "  NNS-TL |    .    .    .    .    .    .    .    .    .    .    .    .    .    .    .    .    .    .    .    .    .    .    .    .    .    .    .    .    .    .    .    .    .    .    .    .    .    .    .    .    .    .    .    .    .    .    .    .    .    .    .    .    .    .    .    .    .    .    .    .    .    .    .    .    .    .    .    .    .    .    .    .    .    .    .    .    .    .    .    .    .    .    .    .    .    .    .    .    .    .    .   <.>   .    .    .    .    .    .    .    .    .    .    .    .    .    .    .    .    .    .    .    .    .    .    .    .    .    .    .    .    .    .    .    .    .    .    .    .    .    .    .    .    .    .    .    .    .    .    .    .    .    .    .    .    .    .    .    .    .    .    .    .    .    . |\n",
      "    NOUN |    .    .    .    .    .    .    .    .    .    .    1    .    .    .    .    .    .    .    .    2    .    .    .    .    .    .    .    1    .    .    .    .    .    .    .    .    .    .   20    .    .    .    .    .    1    .    .    .    .    .    .    .    .    .    .    .    .    .    .    .    2    .    .    .    .    .    .    .    1    .    .  140    .    8    .    .    2    .    8    .    . 9667   39   13   20  916    3 2033    7    1   16  136   <.>1367   50   14  170   51   43    6    .    .    .    .   85    1    .    .    .    .    .    .    .    .    .    .    .    .    .    .    .    .    3    .    4    .    .    .    .    .    .    .    .    1  168    2    .    2   68    .    .    9    .    .   55    2    .    .    .    .    .    .    .    . |\n",
      "      NP |    .    .    .    .    .    .    .    .    .    .    .    .    .    .    .    .    .    .    .    .    .    .    .    .    .    .    .    .    .    .    .    .    .    .    .    .    .    .    .    .    .    .    .    .    .    .    .    .    .    .    .    .    .    .    .    .    .    .    .    .    .    .    .    .    .    .    .    .    .    .    .    .    .    .    .    .    .    .    .    .    .    .    .    .    .    .    .    .    .    .    .    .    .   <.>   .    .    .    .    .    .    .    .    .    .    .    .    .    .    .    .    .    .    .    .    .    .    .    .    .    .    .    .    .    .    .    .    .    .    .    .    .    .    .    .    .    .    .    .    .    .    .    .    .    .    .    .    .    .    .    .    .    .    .    . |\n",
      "     NP$ |    .    .    .    .    .    .    .    .    .    .    .    .    .    .    .    .    .    .    .    .    .    .    .    .    .    .    .    .    .    .    .    .    .    .    .    .    .    .    .    .    .    .    .    .    .    .    .    .    .    .    .    .    .    .    .    .    .    .    .    .    .    .    .    .    .    .    .    .    .    .    .    .    .    .    .    .    .    .    .    .    .    .    .    .    .    .    .    .    .    .    .    .    .    .   <.>   .    .    .    .    .    .    .    .    .    .    .    .    .    .    .    .    .    .    .    .    .    .    .    .    .    .    .    .    .    .    .    .    .    .    .    .    .    .    .    .    .    .    .    .    .    .    .    .    .    .    .    .    .    .    .    .    .    .    . |\n",
      "   NP-HL |    .    .    .    .    .    .    .    .    .    .    .    .    .    .    .    .    .    .    .    .    .    .    .    .    .    .    .    .    .    .    .    .    .    .    .    .    .    .    .    .    .    .    .    .    .    .    .    .    .    .    .    .    .    .    .    .    .    .    .    .    .    .    .    .    .    .    .    .    .    .    .    .    .    .    .    .    .    .    .    .    .    .    .    .    .    .    .    .    .    .    .    .    .    .    .   <.>   .    .    .    .    .    .    .    .    .    .    .    .    .    .    .    .    .    .    .    .    .    .    .    .    .    .    .    .    .    .    .    .    .    .    .    .    .    .    .    .    .    .    .    .    .    .    .    .    .    .    .    .    .    .    .    .    .    . |\n",
      "   NP-TL |    .    .    .    .    .    .    .    .    .    .    .    .    .    .    .    .    .    .    .    .    .    .    .    .    .    .    .    .    .    .    .    .    .    .    .    .    .    .    .    .    .    .    .    .    .    .    .    .    .    .    .    .    .    .    .    .    .    .    .    .    .    .    .    .    .    .    .    .    .    .    .    .    .    .    .    .    .    .    .    .    .    .    .    .    .    .    .    .    .    .    .    .    .    .    .    .   <.>   .    .    .    .    .    .    .    .    .    .    .    .    .    .    .    .    .    .    .    .    .    .    .    .    .    .    .    .    .    .    .    .    .    .    .    .    .    .    .    .    .    .    .    .    .    .    .    .    .    .    .    .    .    .    .    .    . |\n",
      "     NPS |    .    .    .    .    .    .    .    .    .    .    .    .    .    .    .    .    .    .    .    .    .    .    .    .    .    .    .    .    .    .    .    .    .    .    .    .    .    .    .    .    .    .    .    .    .    .    .    .    .    .    .    .    .    .    .    .    .    .    .    .    .    .    .    .    .    .    .    .    .    .    .    .    .    .    .    .    .    .    .    .    .    .    .    .    .    .    .    .    .    .    .    .    .    .    .    .    .   <.>   .    .    .    .    .    .    .    .    .    .    .    .    .    .    .    .    .    .    .    .    .    .    .    .    .    .    .    .    .    .    .    .    .    .    .    .    .    .    .    .    .    .    .    .    .    .    .    .    .    .    .    .    .    .    .    . |\n",
      "      NR |    .    .    .    .    .    .    .    .    .    .    .    .    .    .    .    .    .    .    .    .    .    .    .    .    .    .    .    .    .    .    .    .    .    .    .    .    .    .    .    .    .    .    .    .    .    .    .    .    .    .    .    .    .    .    .    .    .    .    .    .    .    .    .    .    .    .    .    .    .    .    .    .    .    .    .    .    .    .    .    .    .    .    .    .    .    .    .    .    .    .    .    .    .    .    .    .    .    .   <.>   .    .    .    .    .    .    .    .    .    .    .    .    .    .    .    .    .    .    .    .    .    .    .    .    .    .    .    .    .    .    .    .    .    .    .    .    .    .    .    .    .    .    .    .    .    .    .    .    .    .    .    .    .    .    . |\n",
      "     NR$ |    .    .    .    .    .    .    .    .    .    .    .    .    .    .    .    .    .    .    .    .    .    .    .    .    .    .    .    .    .    .    .    .    .    .    .    .    .    .    .    .    .    .    .    .    .    .    .    .    .    .    .    .    .    .    .    .    .    .    .    .    .    .    .    .    .    .    .    .    .    .    .    .    .    .    .    .    .    .    .    .    .    .    .    .    .    .    .    .    .    .    .    .    .    .    .    .    .    .    .   <.>   .    .    .    .    .    .    .    .    .    .    .    .    .    .    .    .    .    .    .    .    .    .    .    .    .    .    .    .    .    .    .    .    .    .    .    .    .    .    .    .    .    .    .    .    .    .    .    .    .    .    .    .    .    . |\n",
      "   NR-TL |    .    .    .    .    .    .    .    .    .    .    .    .    .    .    .    .    .    .    .    .    .    .    .    .    .    .    .    .    .    .    .    .    .    .    .    .    .    .    .    .    .    .    .    .    .    .    .    .    .    .    .    .    .    .    .    .    .    .    .    .    .    .    .    .    .    .    .    .    .    .    .    .    .    .    .    .    .    .    .    .    .    .    .    .    .    .    .    .    .    .    .    .    .    .    .    .    .    .    .    .   <.>   .    .    .    .    .    .    .    .    .    .    .    .    .    .    .    .    .    .    .    .    .    .    .    .    .    .    .    .    .    .    .    .    .    .    .    .    .    .    .    .    .    .    .    .    .    .    .    .    .    .    .    .    . |\n",
      "     NUM |    .    .    .    .    .    .    .    .    .    .    .    .    .    .    .    .    .    .    .    .    .    .    .    .    .    .    .    .    .    .    .    .    .    .    .    .    .    .  621    2   15    .    .    .    .    .    .    .    .    .    .    .    .    .    .    .    .    .    .    .    .    .    .    .    .    .    .    .    .    .    .    .    .    .    .    .    .    .    .    .    .   77    .    .    .    .    .    .    .    .    .    .    .    .    .    .    .    .    .    .    .   <.>   .    .    7    .    .    .    .    .    .    .    .    .    .    .    .    .    .    .    .    .    .    .    .    .    .    .    .    .    .    .    .    .    .    .    .    .    .    .    .    .    .    .    .    .    .    .    .    .    .    .    .    . |\n",
      "      OD |    .    .    .    .    .    .    .    .    .    .    .    .    .    .    .    .    .    .    .    .    .    .    .    .    .    .    .    .    .    .    .    .    .    .    .    .    .    .    .    .    .    .    .    .    .    .    .    .    .    .    .    .    .    .    .    .    .    .    .    .    .    .    .    .    .    .    .    .    .    .    .    .    .    .    .    .    .    .    .    .    .    .    .    .    .    .    .    .    .    .    .    .    .    .    .    .    .    .    .    .    .    .   <.>   .    .    .    .    .    .    .    .    .    .    .    .    .    .    .    .    .    .    .    .    .    .    .    .    .    .    .    .    .    .    .    .    .    .    .    .    .    .    .    .    .    .    .    .    .    .    .    .    .    .    . |\n",
      "   OD-TL |    .    .    .    .    .    .    .    .    .    .    .    .    .    .    .    .    .    .    .    .    .    .    .    .    .    .    .    .    .    .    .    .    .    .    .    .    .    .    .    .    .    .    .    .    .    .    .    .    .    .    .    .    .    .    .    .    .    .    .    .    .    .    .    .    .    .    .    .    .    .    .    .    .    .    .    .    .    .    .    .    .    .    .    .    .    .    .    .    .    .    .    .    .    .    .    .    .    .    .    .    .    .    .   <.>   .    .    .    .    .    .    .    .    .    .    .    .    .    .    .    .    .    .    .    .    .    .    .    .    .    .    .    .    .    .    .    .    .    .    .    .    .    .    .    .    .    .    .    .    .    .    .    .    .    . |\n",
      "      PN |    .    .    .    .    .    .    .    .    .    .    .    .    .    .    .    .    .    .    .    .    .    .    .    .    .    .    .    .    .    .    .    .    .    .    .    .    .    .    .    .    .    .    .    .    .    .    .    .    .    .    .    .    .    .    .    .    .    .    .    .    .    .    .    .    .    .    .    .    .    .    .    .    .    .    .    .    .    .    .    .    .    .    .    .    .    .    .    .    .    .    .    .    .    .    .    .    .    .    .    .    .    .    .    .   <.>   .    .    .    .    .    .    .    .    .    .    .    .    .    .    .    .    .    .    .    .    .    .    .    .    .    .    .    .    .    .    .    .    .    .    .    .    .    .    .    .    .    .    .    .    .    .    .    .    . |\n",
      "     PN$ |    .    .    .    .    .    .    .    .    .    .    .    .    .    .    .    .    .    .    .    .    .    .    .    .    .    .    .    .    .    .    .    .    .    .    .    .    .    .    .    .    .    .    .    .    .    .    .    .    .    .    .    .    .    .    .    .    .    .    .    .    .    .    .    .    .    .    .    .    .    .    .    .    .    .    .    .    .    .    .    .    .    .    .    .    .    .    .    .    .    .    .    .    .    .    .    .    .    .    .    .    .    .    .    .    .   <.>   .    .    .    .    .    .    .    .    .    .    .    .    .    .    .    .    .    .    .    .    .    .    .    .    .    .    .    .    .    .    .    .    .    .    .    .    .    .    .    .    .    .    .    .    .    .    .    . |\n",
      "     PP$ |    .    .    .    .    .    .    .    .    .    .    .    .    .    .    .    .    .    .    .    .    .    .    .    .    .    .    .    .    .    .    .    .    .    .    .    .    .    .    .    .    .    .    .    .    .    .    .    .    .    .    .    .    .    .    .    .    .    .    .    .    .    .    .    .    .    .    .    .    .    .    .    .    .    .    .    .    .    .    .    .    .    .    .    .    .    .    .    .    .    .    .    .    .    .    .    .    .    .    .    .    .    .    .    .    .    .   <.>   .    .    .    .    .    .    .    .    .    .    .    .    .    .    .    .    .    .    .    .    .    .    .    .    .    .    .    .    .    .    .    .    .    .    .    .    .    .    .    .    .    .    .    .    .    .    . |\n",
      "    PP$$ |    .    .    .    .    .    .    .    .    .    .    .    .    .    .    .    .    .    .    .    .    .    .    .    .    .    .    .    .    .    .    .    .    .    .    .    .    .    .    .    .    .    .    .    .    .    .    .    .    .    .    .    .    .    .    .    .    .    .    .    .    .    .    .    .    .    .    .    .    .    .    .    .    .    .    .    .    .    .    .    .    .    .    .    .    .    .    .    .    .    .    .    .    .    .    .    .    .    .    .    .    .    .    .    .    .    .    .   <.>   .    .    .    .    .    .    .    .    .    .    .    .    .    .    .    .    .    .    .    .    .    .    .    .    .    .    .    .    .    .    .    .    .    .    .    .    .    .    .    .    .    .    .    .    .    . |\n",
      "     PPL |    .    .    .    .    .    .    .    .    .    .    .    .    .    .    .    .    .    .    .    .    .    .    .    .    .    .    .    .    .    .    .    .    .    .    .    .    .    .    .    .    .    .    .    .    .    .    .    .    .    .    .    .    .    .    .    .    .    .    .    .    .    .    .    .    .    .    .    .    .    .    .    .    .    .    .    .    .    .    .    .    .    .    .    .    .    .    .    .    .    .    .    .    .    .    .    .    .    .    .    .    .    .    .    .    .    .    .    .   <.>   .    .    .    .    .    .    .    .    .    .    .    .    .    .    .    .    .    .    .    .    .    .    .    .    .    .    .    .    .    .    .    .    .    .    .    .    .    .    .    .    .    .    .    .    . |\n",
      "    PPLS |    .    .    .    .    .    .    .    .    .    .    .    .    .    .    .    .    .    .    .    .    .    .    .    .    .    .    .    .    .    .    .    .    .    .    .    .    .    .    .    .    .    .    .    .    .    .    .    .    .    .    .    .    .    .    .    .    .    .    .    .    .    .    .    .    .    .    .    .    .    .    .    .    .    .    .    .    .    .    .    .    .    .    .    .    .    .    .    .    .    .    .    .    .    .    .    .    .    .    .    .    .    .    .    .    .    .    .    .    .   <.>   .    .    .    .    .    .    .    .    .    .    .    .    .    .    .    .    .    .    .    .    .    .    .    .    .    .    .    .    .    .    .    .    .    .    .    .    .    .    .    .    .    .    .    . |\n",
      "     PPO |    .    .    .    .    .    .    .    .    .    .    .    .    .    .    .    .    .    .    .    .    .    .    .    .    .    .    .    .    .    .    .    .    .    .    .    .    .    .    .    .    .    .    .    .    .    .    .    .    .    .    .    .    .    .    .    .    .    .    .    .    .    .    .    .    .    .    .    .    .    .    .    .    .    .    .    .    .    .    .    .    .    .    .    .    .    .    .    .    .    .    .    .    .    .    .    .    .    .    .    .    .    .    .    .    .    .    .    .    .    .   <.>   .    .    .    .    .    .    .    .    .    .    .    .    .    .    .    .    .    .    .    .    .    .    .    .    .    .    .    .    .    .    .    .    .    .    .    .    .    .    .    .    .    .    . |\n",
      "     PPS |    .    .    .    .    .    .    .    .    .    .    .    .    .    .    .    .    .    .    .    .    .    .    .    .    .    .    .    .    .    .    .    .    .    .    .    .    .    .    .    .    .    .    .    .    .    .    .    .    .    .    .    .    .    .    .    .    .    .    .    .    .    .    .    .    .    .    .    .    .    .    .    .    .    .    .    .    .    .    .    .    .    .    .    .    .    .    .    .    .    .    .    .    .    .    .    .    .    .    .    .    .    .    .    .    .    .    .    .    .    .    .   <.>   .    .    .    .    .    .    .    .    .    .    .    .    .    .    .    .    .    .    .    .    .    .    .    .    .    .    .    .    .    .    .    .    .    .    .    .    .    .    .    .    .    . |\n",
      " PPS+BEZ |    .    .    .    .    .    .    .    .    .    .    .    .    .    .    .    .    .    .    .    .    .    .    .    .    .    .    .    .    .    .    .    .    .    .    .    .    .    .    .    .    .    .    .    .    .    .    .    .    .    .    .    .    .    .    .    .    .    .    .    .    .    .    .    .    .    .    .    .    .    .    .    .    .    .    .    .    .    .    .    .    .    .    .    .    .    .    .    .    .    .    .    .    .    .    .    .    .    .    .    .    .    .    .    .    .    .    .    .    .    .    .    .   <.>   .    .    .    .    .    .    .    .    .    .    .    .    .    .    .    .    .    .    .    .    .    .    .    .    .    .    .    .    .    .    .    .    .    .    .    .    .    .    .    .    . |\n",
      " PPS+HVZ |    .    .    .    .    .    .    .    .    .    .    .    .    .    .    .    .    .    .    .    .    .    .    .    .    .    .    .    .    .    .    .    .    .    .    .    .    .    .    .    .    .    .    .    .    .    .    .    .    .    .    .    .    .    .    .    .    .    .    .    .    .    .    .    .    .    .    .    .    .    .    .    .    .    .    .    .    .    .    .    .    .    .    .    .    .    .    .    .    .    .    .    .    .    .    .    .    .    .    .    .    .    .    .    .    .    .    .    .    .    .    .    .    .   <.>   .    .    .    .    .    .    .    .    .    .    .    .    .    .    .    .    .    .    .    .    .    .    .    .    .    .    .    .    .    .    .    .    .    .    .    .    .    .    .    . |\n",
      "  PPS+MD |    .    .    .    .    .    .    .    .    .    .    .    .    .    .    .    .    .    .    .    .    .    .    .    .    .    .    .    .    .    .    .    .    .    .    .    .    .    .    .    .    .    .    .    .    .    .    .    .    .    .    .    .    .    .    .    .    .    .    .    .    .    .    .    .    .    .    .    .    .    .    .    .    .    .    .    .    .    .    .    .    .    .    .    .    .    .    .    .    .    .    .    .    .    .    .    .    .    .    .    .    .    .    .    .    .    .    .    .    .    .    .    .    .    .   <.>   .    .    .    .    .    .    .    .    .    .    .    .    .    .    .    .    .    .    .    .    .    .    .    .    .    .    .    .    .    .    .    .    .    .    .    .    .    .    . |\n",
      "    PPSS |    .    .    .    .    .    .    .    .    .    .    .    .    .    .    .    .    .    .    .    .    .    .    .    .    .    .    .    .    .    .    .    .    .    .    .    .    .    .    .    .    .    .    .    .    .    .    .    .    .    .    .    .    .    .    .    .    .    .    .    .    .    .    .    .    .    .    .    .    .    .    .    .    .    .    .    .    .    .    .    .    .    .    .    .    .    .    .    .    .    .    .    .    .    .    .    .    .    .    .    .    .    .    .    .    .    .    .    .    .    .    .    .    .    .    .   <.>   .    .    .    .    .    .    .    .    .    .    .    .    .    .    .    .    .    .    .    .    .    .    .    .    .    .    .    .    .    .    .    .    .    .    .    .    .    . |\n",
      "PPSS+BEM |    .    .    .    .    .    .    .    .    .    .    .    .    .    .    .    .    .    .    .    .    .    .    .    .    .    .    .    .    .    .    .    .    .    .    .    .    .    .    .    .    .    .    .    .    .    .    .    .    .    .    .    .    .    .    .    .    .    .    .    .    .    .    .    .    .    .    .    .    .    .    .    .    .    .    .    .    .    .    .    .    .    .    .    .    .    .    .    .    .    .    .    .    .    .    .    .    .    .    .    .    .    .    .    .    .    .    .    .    .    .    .    .    .    .    .    .   <.>   .    .    .    .    .    .    .    .    .    .    .    .    .    .    .    .    .    .    .    .    .    .    .    .    .    .    .    .    .    .    .    .    .    .    .    .    . |\n",
      "PPSS+BER |    .    .    .    .    .    .    .    .    .    .    .    .    .    .    .    .    .    .    .    .    .    .    .    .    .    .    .    .    .    .    .    .    .    .    .    .    .    .    .    .    .    .    .    .    .    .    .    .    .    .    .    .    .    .    .    .    .    .    .    .    .    .    .    .    .    .    .    .    .    .    .    .    .    .    .    .    .    .    .    .    .    .    .    .    .    .    .    .    .    .    .    .    .    .    .    .    .    .    .    .    .    .    .    .    .    .    .    .    .    .    .    .    .    .    .    .    .   <.>   .    .    .    .    .    .    .    .    .    .    .    .    .    .    .    .    .    .    .    .    .    .    .    .    .    .    .    .    .    .    .    .    .    .    .    . |\n",
      " PPSS+HV |    .    .    .    .    .    .    .    .    .    .    .    .    .    .    .    .    .    .    .    .    .    .    .    .    .    .    .    .    .    .    .    .    .    .    .    .    .    .    .    .    .    .    .    .    .    .    .    .    .    .    .    .    .    .    .    .    .    .    .    .    .    .    .    .    .    .    .    .    .    .    .    .    .    .    .    .    .    .    .    .    .    .    .    .    .    .    .    .    .    .    .    .    .    .    .    .    .    .    .    .    .    .    .    .    .    .    .    .    .    .    .    .    .    .    .    .    .    .   <.>   .    .    .    .    .    .    .    .    .    .    .    .    .    .    .    .    .    .    .    .    .    .    .    .    .    .    .    .    .    .    .    .    .    .    . |\n",
      " PPSS+MD |    .    .    .    .    .    .    .    .    .    .    .    .    .    .    .    .    .    .    .    .    .    .    .    .    .    .    .    .    .    .    .    .    .    .    .    .    .    .    .    .    .    .    .    .    .    .    .    .    .    .    .    .    .    .    .    .    .    .    .    .    .    .    .    .    .    .    .    .    .    .    .    .    .    .    .    .    .    .    .    .    .    .    .    .    .    .    .    .    .    .    .    .    .    .    .    .    .    .    .    .    .    .    .    .    .    .    .    .    .    .    .    .    .    .    .    .    .    .    .   <.>   .    .    .    .    .    .    .    .    .    .    .    .    .    .    .    .    .    .    .    .    .    .    .    .    .    .    .    .    .    .    .    .    .    . |\n",
      "    PRON |    .    .    .    .    .    .    .    .    .    .    .    .    .    .    .    .    .    .    .    .    .    .    .    .    .    .    .    .    .    .    .    .    .    .    .    .    .    .    .    .    .    .   58    .    .    .    .    .    .    .    2    .    .    .    .    .    .    .    .    .    .    .    .    .    .    .    .    .    .    .    .    .    .    .    .    .    .    .    .    .    .   13    .    .    .    .    .    .    .    .    .    .    .    .    .    .    .    .    .    .    .    .    .    .    .    .    8    4   57   26  433  790    .    .    .  683    .    .    .    .   <.>   .    .    .    .    .    .    .    .    .    .    .    .    .    .    .    .    .    .    .    .    .    .    .    .    .    .    .    .    8  209    .    .    . |\n",
      "     PRT |    .    .    .    .    .    .    .    .    .    .    .    2  152    .    .    .    .    .    1    .    .    .    .    .    .    .    .    .    .    .    .    .    .    .    .    .    .    .    .    .    .    .    .    .    .    .    .    .    .    .    .    1    .    .    .   92    4    .    .    .    .    .    .    .    .    .    .    .  121    1    .   12    .    .    .    .    .    .    .    .    .   17    .    .    .    .    .    .    .    .    .    .    .    .    .    .    .    .    .    .    .    .    .    .    .    .    .    .    .    .    .    .   22    3    2    .    2   12    6    7    .   <.>   1    .    6    3    .    .    .    .  163  902    .    .    3    .    .    .    .    .    .    .    .    .    .    .    .    .    .    .    .    1    .    . |\n",
      "      QL |    .    .    .    .    .    .    .    .    .    .    .    .    .    .    .    .    .    .    .    .    .    .    .    .    .    .    .    .    .    .    .    .    .    .    .    .    .    .    .    .    .    .    .    .    .    .    .    .    .    .    .    .    .    .    .    .    .    .    .    .    .    .    .    .    .    .    .    .    .    .    .    .    .    .    .    .    .    .    .    .    .    .    .    .    .    .    .    .    .    .    .    .    .    .    .    .    .    .    .    .    .    .    .    .    .    .    .    .    .    .    .    .    .    .    .    .    .    .    .    .    .    .   <.>   .    .    .    .    .    .    .    .    .    .    .    .    .    .    .    .    .    .    .    .    .    .    .    .    .    .    .    .    .    .    . |\n",
      "     QLP |    .    .    .    .    .    .    .    .    .    .    .    .    .    .    .    .    .    .    .    .    .    .    .    .    .    .    .    .    .    .    .    .    .    .    .    .    .    .    .    .    .    .    .    .    .    .    .    .    .    .    .    .    .    .    .    .    .    .    .    .    .    .    .    .    .    .    .    .    .    .    .    .    .    .    .    .    .    .    .    .    .    .    .    .    .    .    .    .    .    .    .    .    .    .    .    .    .    .    .    .    .    .    .    .    .    .    .    .    .    .    .    .    .    .    .    .    .    .    .    .    .    .    .   <.>   .    .    .    .    .    .    .    .    .    .    .    .    .    .    .    .    .    .    .    .    .    .    .    .    .    .    .    .    .    . |\n",
      "      RB |    .    .    .    .    .    .    .    .    .    .    .    .    .    .    .    .    .    .    .    .    .    .    .    .    .    .    .    .    .    .    .    .    .    .    .    .    .    .    .    .    .    .    .    .    .    .    .    .    .    .    .    .    .    .    .    .    .    .    .    .    .    .    .    .    .    .    .    .    .    .    .    .    .    .    .    .    .    .    .    .    .    .    .    .    .    .    .    .    .    .    .    .    .    .    .    .    .    .    .    .    .    .    .    .    .    .    .    .    .    .    .    .    .    .    .    .    .    .    .    .    .    .    .    .   <.>   .    .    .    .    .    .    .    .    .    .    .    .    .    .    .    .    .    .    .    .    .    .    .    .    .    .    .    .    . |\n",
      "     RB$ |    .    .    .    .    .    .    .    .    .    .    .    .    .    .    .    .    .    .    .    .    .    .    .    .    .    .    .    .    .    .    .    .    .    .    .    .    .    .    .    .    .    .    .    .    .    .    .    .    .    .    .    .    .    .    .    .    .    .    .    .    .    .    .    .    .    .    .    .    .    .    .    .    .    .    .    .    .    .    .    .    .    .    .    .    .    .    .    .    .    .    .    .    .    .    .    .    .    .    .    .    .    .    .    .    .    .    .    .    .    .    .    .    .    .    .    .    .    .    .    .    .    .    .    .    .   <.>   .    .    .    .    .    .    .    .    .    .    .    .    .    .    .    .    .    .    .    .    .    .    .    .    .    .    .    . |\n",
      "   RB-HL |    .    .    .    .    .    .    .    .    .    .    .    .    .    .    .    .    .    .    .    .    .    .    .    .    .    .    .    .    .    .    .    .    .    .    .    .    .    .    .    .    .    .    .    .    .    .    .    .    .    .    .    .    .    .    .    .    .    .    .    .    .    .    .    .    .    .    .    .    .    .    .    .    .    .    .    .    .    .    .    .    .    .    .    .    .    .    .    .    .    .    .    .    .    .    .    .    .    .    .    .    .    .    .    .    .    .    .    .    .    .    .    .    .    .    .    .    .    .    .    .    .    .    .    .    .    .   <.>   .    .    .    .    .    .    .    .    .    .    .    .    .    .    .    .    .    .    .    .    .    .    .    .    .    .    . |\n",
      "   RB-TL |    .    .    .    .    .    .    .    .    .    .    .    .    .    .    .    .    .    .    .    .    .    .    .    .    .    .    .    .    .    .    .    .    .    .    .    .    .    .    .    .    .    .    .    .    .    .    .    .    .    .    .    .    .    .    .    .    .    .    .    .    .    .    .    .    .    .    .    .    .    .    .    .    .    .    .    .    .    .    .    .    .    .    .    .    .    .    .    .    .    .    .    .    .    .    .    .    .    .    .    .    .    .    .    .    .    .    .    .    .    .    .    .    .    .    .    .    .    .    .    .    .    .    .    .    .    .    .   <.>   .    .    .    .    .    .    .    .    .    .    .    .    .    .    .    .    .    .    .    .    .    .    .    .    .    . |\n",
      "     RBR |    .    .    .    .    .    .    .    .    .    .    .    .    .    .    .    .    .    .    .    .    .    .    .    .    .    .    .    .    .    .    .    .    .    .    .    .    .    .    .    .    .    .    .    .    .    .    .    .    .    .    .    .    .    .    .    .    .    .    .    .    .    .    .    .    .    .    .    .    .    .    .    .    .    .    .    .    .    .    .    .    .    .    .    .    .    .    .    .    .    .    .    .    .    .    .    .    .    .    .    .    .    .    .    .    .    .    .    .    .    .    .    .    .    .    .    .    .    .    .    .    .    .    .    .    .    .    .    .   <.>   .    .    .    .    .    .    .    .    .    .    .    .    .    .    .    .    .    .    .    .    .    .    .    .    . |\n",
      "     RBT |    .    .    .    .    .    .    .    .    .    .    .    .    .    .    .    .    .    .    .    .    .    .    .    .    .    .    .    .    .    .    .    .    .    .    .    .    .    .    .    .    .    .    .    .    .    .    .    .    .    .    .    .    .    .    .    .    .    .    .    .    .    .    .    .    .    .    .    .    .    .    .    .    .    .    .    .    .    .    .    .    .    .    .    .    .    .    .    .    .    .    .    .    .    .    .    .    .    .    .    .    .    .    .    .    .    .    .    .    .    .    .    .    .    .    .    .    .    .    .    .    .    .    .    .    .    .    .    .    .   <.>   .    .    .    .    .    .    .    .    .    .    .    .    .    .    .    .    .    .    .    .    .    .    .    . |\n",
      "      RP |    .    .    .    .    .    .    .    .    .    .    .    .    .    .    .    .    .    .    .    .    .    .    .    .    .    .    .    .    .    .    .    .    .    .    .    .    .    .    .    .    .    .    .    .    .    .    .    .    .    .    .    .    .    .    .    .    .    .    .    .    .    .    .    .    .    .    .    .    .    .    .    .    .    .    .    .    .    .    .    .    .    .    .    .    .    .    .    .    .    .    .    .    .    .    .    .    .    .    .    .    .    .    .    .    .    .    .    .    .    .    .    .    .    .    .    .    .    .    .    .    .    .    .    .    .    .    .    .    .    .   <.>   .    .    .    .    .    .    .    .    .    .    .    .    .    .    .    .    .    .    .    .    .    .    . |\n",
      "      TO |    .    .    .    .    .    .    .    .    .    .    .    .    .    .    .    .    .    .    .    .    .    .    .    .    .    .    .    .    .    .    .    .    .    .    .    .    .    .    .    .    .    .    .    .    .    .    .    .    .    .    .    .    .    .    .    .    .    .    .    .    .    .    .    .    .    .    .    .    .    .    .    .    .    .    .    .    .    .    .    .    .    .    .    .    .    .    .    .    .    .    .    .    .    .    .    .    .    .    .    .    .    .    .    .    .    .    .    .    .    .    .    .    .    .    .    .    .    .    .    .    .    .    .    .    .    .    .    .    .    .    .   <.>   .    .    .    .    .    .    .    .    .    .    .    .    .    .    .    .    .    .    .    .    .    . |\n",
      "   TO-HL |    .    .    .    .    .    .    .    .    .    .    .    .    .    .    .    .    .    .    .    .    .    .    .    .    .    .    .    .    .    .    .    .    .    .    .    .    .    .    .    .    .    .    .    .    .    .    .    .    .    .    .    .    .    .    .    .    .    .    .    .    .    .    .    .    .    .    .    .    .    .    .    .    .    .    .    .    .    .    .    .    .    .    .    .    .    .    .    .    .    .    .    .    .    .    .    .    .    .    .    .    .    .    .    .    .    .    .    .    .    .    .    .    .    .    .    .    .    .    .    .    .    .    .    .    .    .    .    .    .    .    .    .   <.>   .    .    .    .    .    .    .    .    .    .    .    .    .    .    .    .    .    .    .    .    . |\n",
      "      UH |    .    .    .    .    .    .    .    .    .    .    .    .    .    .    .    .    .    .    .    .    .    .    .    .    .    .    .    .    .    .    .    .    .    .    .    .    .    .    .    .    .    .    .    .    .    .    .    .    .    .    .    .    .    .    .    .    .    .    .    .    .    .    .    .    .    .    .    .    .    .    .    .    .    .    .    .    .    .    .    .    .    .    .    .    .    .    .    .    .    .    .    .    .    .    .    .    .    .    .    .    .    .    .    .    .    .    .    .    .    .    .    .    .    .    .    .    .    .    .    .    .    .    .    .    .    .    .    .    .    .    .    .    .   <.>   .    .    .    .    .    .    .    .    .    .    .    .    .    .    .    .    .    .    .    . |\n",
      "      VB |    .    .    .    .    .    .    .    .    .    .    .    .    .    .    .    .    .    .    .    .    .    .    .    .    .    .    .    .    .    .    .    .    .    .    .    .    .    .    .    .    .    .    .    .    .    .    .    .    .    .    .    .    .    .    .    .    .    .    .    .    .    .    .    .    .    .    .    .    .    .    .    .    .    .    .    .    .    .    .    .    .    .    .    .    .    .    .    .    .    .    .    .    .    .    .    .    .    .    .    .    .    .    .    .    .    .    .    .    .    .    .    .    .    .    .    .    .    .    .    .    .    .    .    .    .    .    .    .    .    .    .    .    .    .   <.>   .    .    .    .    .    .    .    .    .    .    .    .    .    .    .    .    .    .    . |\n",
      "   VB-HL |    .    .    .    .    .    .    .    .    .    .    .    .    .    .    .    .    .    .    .    .    .    .    .    .    .    .    .    .    .    .    .    .    .    .    .    .    .    .    .    .    .    .    .    .    .    .    .    .    .    .    .    .    .    .    .    .    .    .    .    .    .    .    .    .    .    .    .    .    .    .    .    .    .    .    .    .    .    .    .    .    .    .    .    .    .    .    .    .    .    .    .    .    .    .    .    .    .    .    .    .    .    .    .    .    .    .    .    .    .    .    .    .    .    .    .    .    .    .    .    .    .    .    .    .    .    .    .    .    .    .    .    .    .    .    .   <.>   .    .    .    .    .    .    .    .    .    .    .    .    .    .    .    .    .    . |\n",
      "   VB-TL |    .    .    .    .    .    .    .    .    .    .    .    .    .    .    .    .    .    .    .    .    .    .    .    .    .    .    .    .    .    .    .    .    .    .    .    .    .    .    .    .    .    .    .    .    .    .    .    .    .    .    .    .    .    .    .    .    .    .    .    .    .    .    .    .    .    .    .    .    .    .    .    .    .    .    .    .    .    .    .    .    .    .    .    .    .    .    .    .    .    .    .    .    .    .    .    .    .    .    .    .    .    .    .    .    .    .    .    .    .    .    .    .    .    .    .    .    .    .    .    .    .    .    .    .    .    .    .    .    .    .    .    .    .    .    .    .   <.>   .    .    .    .    .    .    .    .    .    .    .    .    .    .    .    .    . |\n",
      "     VBD |    .    .    .    .    .    .    .    .    .    .    .    .    .    .    .    .    .    .    .    .    .    .    .    .    .    .    .    .    .    .    .    .    .    .    .    .    .    .    .    .    .    .    .    .    .    .    .    .    .    .    .    .    .    .    .    .    .    .    .    .    .    .    .    .    .    .    .    .    .    .    .    .    .    .    .    .    .    .    .    .    .    .    .    .    .    .    .    .    .    .    .    .    .    .    .    .    .    .    .    .    .    .    .    .    .    .    .    .    .    .    .    .    .    .    .    .    .    .    .    .    .    .    .    .    .    .    .    .    .    .    .    .    .    .    .    .    .   <.>   .    .    .    .    .    .    .    .    .    .    .    .    .    .    .    . |\n",
      "     VBG |    .    .    .    .    .    .    .    .    .    .    .    .    .    .    .    .    .    .    .    .    .    .    .    .    .    .    .    .    .    .    .    .    .    .    .    .    .    .    .    .    .    .    .    .    .    .    .    .    .    .    .    .    .    .    .    .    .    .    .    .    .    .    .    .    .    .    .    .    .    .    .    .    .    .    .    .    .    .    .    .    .    .    .    .    .    .    .    .    .    .    .    .    .    .    .    .    .    .    .    .    .    .    .    .    .    .    .    .    .    .    .    .    .    .    .    .    .    .    .    .    .    .    .    .    .    .    .    .    .    .    .    .    .    .    .    .    .    .   <.>   .    .    .    .    .    .    .    .    .    .    .    .    .    .    . |\n",
      "  VBG-HL |    .    .    .    .    .    .    .    .    .    .    .    .    .    .    .    .    .    .    .    .    .    .    .    .    .    .    .    .    .    .    .    .    .    .    .    .    .    .    .    .    .    .    .    .    .    .    .    .    .    .    .    .    .    .    .    .    .    .    .    .    .    .    .    .    .    .    .    .    .    .    .    .    .    .    .    .    .    .    .    .    .    .    .    .    .    .    .    .    .    .    .    .    .    .    .    .    .    .    .    .    .    .    .    .    .    .    .    .    .    .    .    .    .    .    .    .    .    .    .    .    .    .    .    .    .    .    .    .    .    .    .    .    .    .    .    .    .    .    .   <.>   .    .    .    .    .    .    .    .    .    .    .    .    .    . |\n",
      "  VBG-TL |    .    .    .    .    .    .    .    .    .    .    .    .    .    .    .    .    .    .    .    .    .    .    .    .    .    .    .    .    .    .    .    .    .    .    .    .    .    .    .    .    .    .    .    .    .    .    .    .    .    .    .    .    .    .    .    .    .    .    .    .    .    .    .    .    .    .    .    .    .    .    .    .    .    .    .    .    .    .    .    .    .    .    .    .    .    .    .    .    .    .    .    .    .    .    .    .    .    .    .    .    .    .    .    .    .    .    .    .    .    .    .    .    .    .    .    .    .    .    .    .    .    .    .    .    .    .    .    .    .    .    .    .    .    .    .    .    .    .    .    .   <.>   .    .    .    .    .    .    .    .    .    .    .    .    . |\n",
      "     VBN |    .    .    .    .    .    .    .    .    .    .    .    .    .    .    .    .    .    .    .    .    .    .    .    .    .    .    .    .    .    .    .    .    .    .    .    .    .    .    .    .    .    .    .    .    .    .    .    .    .    .    .    .    .    .    .    .    .    .    .    .    .    .    .    .    .    .    .    .    .    .    .    .    .    .    .    .    .    .    .    .    .    .    .    .    .    .    .    .    .    .    .    .    .    .    .    .    .    .    .    .    .    .    .    .    .    .    .    .    .    .    .    .    .    .    .    .    .    .    .    .    .    .    .    .    .    .    .    .    .    .    .    .    .    .    .    .    .    .    .    .    .   <.>   .    .    .    .    .    .    .    .    .    .    .    . |\n",
      "  VBN-HL |    .    .    .    .    .    .    .    .    .    .    .    .    .    .    .    .    .    .    .    .    .    .    .    .    .    .    .    .    .    .    .    .    .    .    .    .    .    .    .    .    .    .    .    .    .    .    .    .    .    .    .    .    .    .    .    .    .    .    .    .    .    .    .    .    .    .    .    .    .    .    .    .    .    .    .    .    .    .    .    .    .    .    .    .    .    .    .    .    .    .    .    .    .    .    .    .    .    .    .    .    .    .    .    .    .    .    .    .    .    .    .    .    .    .    .    .    .    .    .    .    .    .    .    .    .    .    .    .    .    .    .    .    .    .    .    .    .    .    .    .    .    .   <.>   .    .    .    .    .    .    .    .    .    .    . |\n",
      "  VBN-TL |    .    .    .    .    .    .    .    .    .    .    .    .    .    .    .    .    .    .    .    .    .    .    .    .    .    .    .    .    .    .    .    .    .    .    .    .    .    .    .    .    .    .    .    .    .    .    .    .    .    .    .    .    .    .    .    .    .    .    .    .    .    .    .    .    .    .    .    .    .    .    .    .    .    .    .    .    .    .    .    .    .    .    .    .    .    .    .    .    .    .    .    .    .    .    .    .    .    .    .    .    .    .    .    .    .    .    .    .    .    .    .    .    .    .    .    .    .    .    .    .    .    .    .    .    .    .    .    .    .    .    .    .    .    .    .    .    .    .    .    .    .    .    .   <.>   .    .    .    .    .    .    .    .    .    . |\n",
      "     VBZ |    .    .    .    .    .    .    .    .    .    .    .    .    .    .    .    .    .    .    .    .    .    .    .    .    .    .    .    .    .    .    .    .    .    .    .    .    .    .    .    .    .    .    .    .    .    .    .    .    .    .    .    .    .    .    .    .    .    .    .    .    .    .    .    .    .    .    .    .    .    .    .    .    .    .    .    .    .    .    .    .    .    .    .    .    .    .    .    .    .    .    .    .    .    .    .    .    .    .    .    .    .    .    .    .    .    .    .    .    .    .    .    .    .    .    .    .    .    .    .    .    .    .    .    .    .    .    .    .    .    .    .    .    .    .    .    .    .    .    .    .    .    .    .    .   <.>   .    .    .    .    .    .    .    .    . |\n",
      "  VBZ-HL |    .    .    .    .    .    .    .    .    .    .    .    .    .    .    .    .    .    .    .    .    .    .    .    .    .    .    .    .    .    .    .    .    .    .    .    .    .    .    .    .    .    .    .    .    .    .    .    .    .    .    .    .    .    .    .    .    .    .    .    .    .    .    .    .    .    .    .    .    .    .    .    .    .    .    .    .    .    .    .    .    .    .    .    .    .    .    .    .    .    .    .    .    .    .    .    .    .    .    .    .    .    .    .    .    .    .    .    .    .    .    .    .    .    .    .    .    .    .    .    .    .    .    .    .    .    .    .    .    .    .    .    .    .    .    .    .    .    .    .    .    .    .    .    .    .   <.>   .    .    .    .    .    .    .    . |\n",
      "    VERB |    .    .    .    .    .    .    .    .    .    .    .    .    .    .    .    .    .    4    .    .    .    .  421  109  307    2    1   45   19  151  297    3    1  752    7    .    .    .    .    .    .    .    6    .  111   24   36    5   29   10    .    .    .    .    .    .    .    .    .    .    .    .  275  124   19    8  261    6    .    .    .   27    .    .    .    .    .    .  864   63    7 1527    .    .    1    .    .   62    .    .    1    1    .    1    .    .    .    .    .    .    .    .    .    .    .    .    .    .    .    .    .    .    .    .    .    .    .    .    .    .    .    .    .    .    2    .    .    .    .    .    .    .    .    . 1536    .    3  743  560    1    3 1049    8   79  314   11   <.>   .    .    .    .    .    .    . |\n",
      "     WDT |    .    .    .    .    .    .    .    .    .    .    .    .    .    .    .    .    .    .    .    .    .    .    .    .    .    .    .    .    .    .    .    .    .    .    .    .    .    .    .    .    .    .    .    .    .    .    .    .    .    .    .    .    .    .    .    .    .    .    .    .    .    .    .    .    .    .    .    .    .    .    .    .    .    .    .    .    .    .    .    .    .    .    .    .    .    .    .    .    .    .    .    .    .    .    .    .    .    .    .    .    .    .    .    .    .    .    .    .    .    .    .    .    .    .    .    .    .    .    .    .    .    .    .    .    .    .    .    .    .    .    .    .    .    .    .    .    .    .    .    .    .    .    .    .    .    .    .   <.>   .    .    .    .    .    . |\n",
      "     WP$ |    .    .    .    .    .    .    .    .    .    .    .    .    .    .    .    .    .    .    .    .    .    .    .    .    .    .    .    .    .    .    .    .    .    .    .    .    .    .    .    .    .    .    .    .    .    .    .    .    .    .    .    .    .    .    .    .    .    .    .    .    .    .    .    .    .    .    .    .    .    .    .    .    .    .    .    .    .    .    .    .    .    .    .    .    .    .    .    .    .    .    .    .    .    .    .    .    .    .    .    .    .    .    .    .    .    .    .    .    .    .    .    .    .    .    .    .    .    .    .    .    .    .    .    .    .    .    .    .    .    .    .    .    .    .    .    .    .    .    .    .    .    .    .    .    .    .    .    .   <.>   .    .    .    .    . |\n",
      "     WPO |    .    .    .    .    .    .    .    .    .    .    .    .    .    .    .    .    .    .    .    .    .    .    .    .    .    .    .    .    .    .    .    .    .    .    .    .    .    .    .    .    .    .    .    .    .    .    .    .    .    .    .    .    .    .    .    .    .    .    .    .    .    .    .    .    .    .    .    .    .    .    .    .    .    .    .    .    .    .    .    .    .    .    .    .    .    .    .    .    .    .    .    .    .    .    .    .    .    .    .    .    .    .    .    .    .    .    .    .    .    .    .    .    .    .    .    .    .    .    .    .    .    .    .    .    .    .    .    .    .    .    .    .    .    .    .    .    .    .    .    .    .    .    .    .    .    .    .    .    .   <.>   .    .    .    . |\n",
      "     WPS |    .    .    .    .    .    .    .    .    .    .    .    .    .    .    .    .    .    .    .    .    .    .    .    .    .    .    .    .    .    .    .    .    .    .    .    .    .    .    .    .    .    .    .    .    .    .    .    .    .    .    .    .    .    .    .    .    .    .    .    .    .    .    .    .    .    .    .    .    .    .    .    .    .    .    .    .    .    .    .    .    .    .    .    .    .    .    .    .    .    .    .    .    .    .    .    .    .    .    .    .    .    .    .    .    .    .    .    .    .    .    .    .    .    .    .    .    .    .    .    .    .    .    .    .    .    .    .    .    .    .    .    .    .    .    .    .    .    .    .    .    .    .    .    .    .    .    .    .    .    .   <.>   .    .    . |\n",
      "     WRB |    .    .    .    .    .    .    .    .    .    .    .    .    .    .    .    .    .    .    .    .    .    .    .    .    .    .    .    .    .    .    .    .    .    .    .    .    .    .    .    .    .    .    .    .    .    .    .    .    .    .    .    .    .    .    .    .    .    .    .    .    .    .    .    .    .    .    .    .    .    .    .    .    .    .    .    .    .    .    .    .    .    .    .    .    .    .    .    .    .    .    .    .    .    .    .    .    .    .    .    .    .    .    .    .    .    .    .    .    .    .    .    .    .    .    .    .    .    .    .    .    .    .    .    .    .    .    .    .    .    .    .    .    .    .    .    .    .    .    .    .    .    .    .    .    .    .    .    .    .    .    .   <.>   .    . |\n",
      "       X |    .    .    .    .    .    .    .    .    .    .    .    .    .    .    .    .    .    .    .    .    .    .    .    .    .    .    .    .    .    .    .    .    .    .    .    .    .    .    .    .    .    .    .    .    .    .    .    .    .    .    .    .    .    .    .    .    .    1    1    3    2    1    .    .    .    .    .    .    .    .    .    .    .   11    .    .    .    .    .    .    .   32    .    .    .    1    .    .    .    .    .    .    .    3    .    .    .    .    .    .   21    .    .    .    .    .    .    .    .    .    .    .    .    .    .    .    .    .    .    .    .    .    .    .    .    .    .    .    .    .    .    .    .    .    .    .    .    .    .    .    .    .    .    .    .    .    .    .    .    .    .    .   <.>   . |\n",
      "      `` |    .    .    .    .    .    .    .    .    .    .    .    .    .    .    .    .    .    .    .    .    .    .    .    .    .    .    .    .    .    .    .    .    .    .    .    .    .    .    .    .    .    .    .    .    .    .    .    .    .    .    .    .    .    .    .    .    .    .    .    .    .    .    .    .    .    .    .    .    .    .    .    .    .    .    .    .    .    .    .    .    .    .    .    .    .    .    .    .    .    .    .    .    .    .    .    .    .    .    .    .    .    .    .    .    .    .    .    .    .    .    .    .    .    .    .    .    .    .    .    .    .    .    .    .    .    .    .    .    .    .    .    .    .    .    .    .    .    .    .    .    .    .    .    .    .    .    .    .    .    .    .    .    .   <.>|\n",
      "---------+---------------------------------------------------------------------------------------------------------------------------------------------------------------------------------------------------------------------------------------------------------------------------------------------------------------------------------------------------------------------------------------------------------------------------------------------------------------------------------------------------------------------------------------------------------------------------------------------------------------------------------------------------------------------------------------------------------------------------------------------------------------------------------------------------+\n",
      "(row = reference; col = test)\n",
      "\n"
     ]
    }
   ],
   "source": [
    "print cm"
   ]
  },
  {
   "cell_type": "markdown",
   "metadata": {},
   "source": [
    "### Cross-Validation\n",
    "\n",
    "If the test set is too small, our evaluation may not be accurate. However, making the test set larger  usually means making the training set smaller, which can have a significant impact on performance if a limited amount of annotated data is available.\n",
    "\n",
    "One solution to this problem is to perform multiple evaluations on different test tests, then to combine the scores from those evaluations, a technique known as **cross-validation**. In particular, we subdivide the original corpus into N subsets called **folds**. For each of these folds, we train the model using all data except the data in that fold, and then test that model on the fold. Even through the individual folds might be too small to give accurate evaluation score on their own, the combined evaluation score is based on a large amount of data and is therefore quite reliable.\n",
    "\n",
    "A second, and equally important, advantaga is using cross-validation is that it allows us to examine how widely the **performance** varies across different training set. If we get very similar scores for all N training sets, then we can be fairly confidents that the score is accurate. On the other hand, if scores vary widely across the N training sets. then we should probably be skeptical about the accuracu of the evaluation score."
   ]
  },
  {
   "cell_type": "markdown",
   "metadata": {},
   "source": [
    "## Decision Trees"
   ]
  },
  {
   "cell_type": "code",
   "execution_count": 114,
   "metadata": {
    "collapsed": true
   },
   "outputs": [],
   "source": [
    "# Calculating the entropy of a labels\n",
    "import math\n",
    "def entropy(labels):\n",
    "    freqdist = nltk.FreqDist(labels)\n",
    "    probs = [freqdist.freq(l) for l in nltk.FreqDist(labels)]\n",
    "    return -sum([p * math.log(p,2) for p in probs])"
   ]
  },
  {
   "cell_type": "code",
   "execution_count": 117,
   "metadata": {
    "collapsed": false
   },
   "outputs": [
    {
     "name": "stdout",
     "output_type": "stream",
     "text": [
      "-0.0\n",
      "0.811278124459\n",
      "1.0\n"
     ]
    }
   ],
   "source": [
    "print entropy(['male', 'male', 'male', 'male'])\n",
    "print entropy(['male', 'male', 'male', 'female'])\n",
    "print entropy(['male', 'male', 'female', 'female'])"
   ]
  },
  {
   "cell_type": "markdown",
   "metadata": {},
   "source": [
    "## Exracting information from text\n",
    "\n",
    "The state of the art in NLP is still long way from being able to build general-purpose repreentation of meaning from unrestricted text. If we, instead, focus our efforts on a limited set of questions we can make significant progress.\n",
    "\n",
    "Rather than trying to use text to answer questions directly, we first convert the unstructured data of natural language sentences into structured data and we reap the benefits of powerful query such as SQL. This method of getting meaning from text is called **Information Extraction**.\n",
    "\n",
    "Information extraction has many applications, including **business intelligence**, media analysis, sentiment detection, patent search, and emailing scraping.\n",
    "\n",
    "### Information Extraction Pipeline \n",
    "raw text -> [sentence segmentation] -> sentences -> [tokenization] -> tokenized sentences -> [POS tagging] -> pos-tagged sentences -> [entity recognition] -> chunked sentences -> [relation recognition] -> relations [lists of tuples]"
   ]
  },
  {
   "cell_type": "code",
   "execution_count": 118,
   "metadata": {
    "collapsed": true
   },
   "outputs": [],
   "source": [
    "def ie_process(document):\n",
    "    sentences = nltk.sent_tokenize(document)\n",
    "    sentences = [nltk.tokenize(sent) for sent in sentences]\n",
    "    sentences = [nltk.pos_tag(sent) for sent in sentences]"
   ]
  },
  {
   "cell_type": "markdown",
   "metadata": {},
   "source": [
    "### Chunking\n",
    "\n",
    "Chunking is the process of segmenting and labeling multitoken sequences. Chunkings groups low-level informations such as word-level information or POS tagging. Like tokenization, which omits whitespace, chunking usuarlly selects a subset of the tokens. Also like tokenization, the pieces produces by a chunker do not overlap in the source text. We will use regular expression and n-gram approaches to chunking.\n",
    "\n",
    "#### Noun phrase chunking\n",
    "\n",
    "One of the most useful sources of information for NP-chunking is **POS tagging**. This is one of the motivations for performing POS tagging in our information extraction system."
   ]
  },
  {
   "cell_type": "code",
   "execution_count": 119,
   "metadata": {
    "collapsed": false
   },
   "outputs": [
    {
     "name": "stdout",
     "output_type": "stream",
     "text": [
      "(S\n",
      "  (NP the/DT little/JJ yellow/JJ dog/NN)\n",
      "  barked/VBD\n",
      "  at/IN\n",
      "  (NP the/DT cat/NN))\n"
     ]
    }
   ],
   "source": [
    "sentence = [(\"the\", \"DT\"), (\"little\", \"JJ\"),(\"yellow\", \"JJ\"),(\"dog\", \"NN\"),(\"barked\", \"VBD\"),\\\n",
    "           (\"at\", \"IN\"),(\"the\", \"DT\"),(\"cat\", \"NN\")]\n",
    "\n",
    "grammar = \"NP: {<DT>?<JJ>*<NN>}\"\n",
    "cp = nltk.RegexpParser(grammar)\n",
    "result = cp.parse(sentence)\n",
    "print result"
   ]
  },
  {
   "cell_type": "code",
   "execution_count": 124,
   "metadata": {
    "collapsed": false
   },
   "outputs": [
    {
     "data": {
      "image/png": "[encoded data removed]",
      "text/plain": [
       "Tree('S', [Tree('NP', [('the', 'DT'), ('little', 'JJ'), ('yellow', 'JJ'), ('dog', 'NN')]), ('barked', 'VBD'), ('at', 'IN'), Tree('NP', [('the', 'DT'), ('cat', 'NN')])])"
      ]
     },
     "execution_count": 124,
     "metadata": {},
     "output_type": "execute_result"
    }
   ],
   "source": [
    "# It opens an external window\n",
    "result"
   ]
  },
  {
   "cell_type": "markdown",
   "metadata": {},
   "source": [
    "#### Tag Patterns\n",
    "\n",
    "The rules that make up a chunk grammar use **tag patterns** to describe sequences of tagged words. A tag pattern is a sequence of POS tags delimited using angle brackets. "
   ]
  },
  {
   "cell_type": "code",
   "execution_count": 123,
   "metadata": {
    "collapsed": false
   },
   "outputs": [
    {
     "data": {
      "image/png": "[encoded data removed]",
      "text/plain": [
       "Tree('S', [Tree('NP', [('Rapunzel', 'NNP')]), ('let', 'VBD'), ('down', 'RP'), Tree('NP', [('her', 'PP$'), ('long', 'JJ'), ('golden', 'JJ'), ('hair', 'NN')])])"
      ]
     },
     "execution_count": 123,
     "metadata": {},
     "output_type": "execute_result"
    }
   ],
   "source": [
    "grammar = r\"\"\"\n",
    "  NP : {<DT|PP\\$>?<JJ>*<NN>}\n",
    "       {<NNP>+}\n",
    "\"\"\"\n",
    "cp = nltk.RegexpParser(grammar)\n",
    "sentence = [(\"Rapunzel\", \"NNP\"), (\"let\", \"VBD\"), (\"down\", \"RP\"), \n",
    "            (\"her\", \"PP$\"), (\"long\", \"JJ\"), \\\n",
    "           (\"golden\", \"JJ\"), (\"hair\", \"NN\")]\n",
    "\n",
    "cp.parse(sentence)"
   ]
  },
  {
   "cell_type": "code",
   "execution_count": 122,
   "metadata": {
    "collapsed": false
   },
   "outputs": [
    {
     "data": {
      "image/png": "[encoded data removed]",
      "text/plain": [
       "Tree('S', [Tree('NP', [('money', 'NN'), ('market', 'NN')]), ('fund', 'NN')])"
      ]
     },
     "execution_count": 122,
     "metadata": {},
     "output_type": "execute_result"
    }
   ],
   "source": [
    "nouns = [(\"money\", \"NN\"),(\"market\", \"NN\"),(\"fund\", \"NN\")]\n",
    "grammar = \"NP: {<NN><NN>}\"\n",
    "cp = nltk.RegexpParser(grammar)\n",
    "cp.parse(nouns)"
   ]
  },
  {
   "cell_type": "markdown",
   "metadata": {},
   "source": [
    "#### Exploring Text Corpora"
   ]
  },
  {
   "cell_type": "code",
   "execution_count": 130,
   "metadata": {
    "collapsed": false
   },
   "outputs": [
    {
     "name": "stdout",
     "output_type": "stream",
     "text": [
      "(CHUNK combined/VBN to/TO achieve/VB)\n",
      "(CHUNK continue/VB to/TO place/VB)\n",
      "(CHUNK serve/VB to/TO protect/VB)\n",
      "(CHUNK wanted/VBD to/TO wait/VB)\n",
      "(CHUNK allowed/VBN to/TO place/VB)\n",
      "(CHUNK expected/VBN to/TO become/VB)\n",
      "(CHUNK expected/VBN to/TO approve/VB)\n",
      "(CHUNK expected/VBN to/TO make/VB)\n",
      "(CHUNK intends/VBZ to/TO make/VB)\n",
      "(CHUNK seek/VB to/TO set/VB)\n",
      "(CHUNK like/VB to/TO see/VB)\n"
     ]
    }
   ],
   "source": [
    "limit = 100\n",
    "cp = nltk.RegexpParser('CHUNK: {<V.*> <TO> <V.*>}')\n",
    "brown = nltk.corpus.brown\n",
    "for sent in brown.tagged_sents()[:limit]:\n",
    "    tree = cp.parse(sent)\n",
    "    for subtree in tree.subtrees():\n",
    "        if subtree.label() == 'CHUNK': print subtree"
   ]
  },
  {
   "cell_type": "markdown",
   "metadata": {},
   "source": [
    "### Chinking\n",
    "\n",
    "Sometimes it is easier to define what we want to **exclude** from a chunk. We can define a **chink** to be a sequence of tokens that is not included in a chunk. Chinking is the process of removing a sequence of tokens from a chunk. If the matching sequence of tokens appear in the middle of the chunk, these tokens are removed, leaving **two chunks**, these tokens are removed, leaving two chunks where thare was only one before."
   ]
  },
  {
   "cell_type": "code",
   "execution_count": 132,
   "metadata": {
    "collapsed": false
   },
   "outputs": [
    {
     "data": {
      "image/png": "[encoded data removed]",
      "text/plain": [
       "Tree('S', [Tree('NP', [('the', 'DT'), ('little', 'JJ'), ('yellow', 'JJ'), ('dog', 'NN')]), ('barked', 'VBD'), ('at', 'IN'), Tree('NP', [('the', 'DT'), ('cat', 'NN')])])"
      ]
     },
     "execution_count": 132,
     "metadata": {},
     "output_type": "execute_result"
    }
   ],
   "source": [
    "# Simple chinker\n",
    "grammar = r\"\"\"\n",
    "  NP: \n",
    "    {<.*>+} # Chunk everything\n",
    "    }<VBD|IN>+{ # Chink sequences of VBD and IN\n",
    "\"\"\"\n",
    "\n",
    "sentence = [(\"the\", \"DT\"), (\"little\", \"JJ\"),(\"yellow\", \"JJ\"),(\"dog\", \"NN\"),(\"barked\", \"VBD\"),\\\n",
    "           (\"at\", \"IN\"),(\"the\", \"DT\"),(\"cat\", \"NN\")]\n",
    "\n",
    "cp = nltk.RegexpParser(grammar)\n",
    "cp.parse(sentence)"
   ]
  },
  {
   "cell_type": "markdown",
   "metadata": {},
   "source": [
    "### Representing Chunks: Tags Versus Trees\n",
    "\n",
    "Chunk structres can be represented using either tags or trees. The most widespread file representation uses **IOB tags**. In this scheme, each token is tagged with one of three special chunk tags, I (inside), O (outside), or B (begin). The B and I tags are suffixed with the chunk tupe. \n",
    "\n",
    "**IOB** tags have become the standard to represent chunk structure files."
   ]
  },
  {
   "cell_type": "markdown",
   "metadata": {},
   "source": [
    "### Developing and Evaluating Chunkers"
   ]
  },
  {
   "cell_type": "code",
   "execution_count": 133,
   "metadata": {
    "collapsed": false
   },
   "outputs": [
    {
     "data": {
      "image/png": "[encoded data removed]",
      "text/plain": [
       "Tree('S', [Tree('NP', [(u'he', u'PRP')]), (u'accepted', u'VBD'), Tree('NP', [(u'the', u'DT'), (u'position', u'NN')]), (u'of', u'IN'), Tree('NP', [(u'vice', u'NN'), (u'chairman', u'NN')]), (u'of', u'IN'), Tree('NP', [(u'Carlyle', u'NNP'), (u'Group', u'NNP')]), (u',', u','), Tree('NP', [(u'a', u'DT'), (u'merchant', u'NN'), (u'banking', u'NN'), (u'concern', u'NN')]), (u'.', u'.')])"
      ]
     },
     "execution_count": 133,
     "metadata": {},
     "output_type": "execute_result"
    }
   ],
   "source": [
    "text = \"\"\"\n",
    "he PRP B-NP\n",
    "accepted VBD B-VP\n",
    "the DT B-NP\n",
    "position NN I-NP\n",
    "of IN B-PP\n",
    "vice NN B-NP\n",
    "chairman NN I-NP\n",
    "of IN B-PP\n",
    "Carlyle NNP B-NP\n",
    "Group NNP I-NP\n",
    ", , O\n",
    "a DT B-NP\n",
    "merchant NN I-NP\n",
    "banking NN I-NP\n",
    "concern NN I-NP\n",
    ". . O\n",
    "\"\"\"\n",
    "nltk.chunk.conllstr2tree(text, chunk_types=['NP'])"
   ]
  },
  {
   "cell_type": "code",
   "execution_count": 134,
   "metadata": {
    "collapsed": false
   },
   "outputs": [
    {
     "name": "stdout",
     "output_type": "stream",
     "text": [
      "(S\n",
      "  (PP Over/IN)\n",
      "  (NP a/DT cup/NN)\n",
      "  (PP of/IN)\n",
      "  (NP coffee/NN)\n",
      "  ,/,\n",
      "  (NP Mr./NNP Stone/NNP)\n",
      "  (VP told/VBD)\n",
      "  (NP his/PRP$ story/NN)\n",
      "  ./.)\n"
     ]
    }
   ],
   "source": [
    "from nltk.corpus import conll2000\n",
    "print conll2000.chunked_sents('train.txt')[99]"
   ]
  },
  {
   "cell_type": "code",
   "execution_count": 142,
   "metadata": {
    "collapsed": false
   },
   "outputs": [
    {
     "name": "stdout",
     "output_type": "stream",
     "text": [
      "ChunkParse score:\n",
      "    IOB Accuracy:  87.7%\n",
      "    Precision:     70.6%\n",
      "    Recall:        67.8%\n",
      "    F-Measure:     69.2%\n"
     ]
    }
   ],
   "source": [
    "test_sents = conll2000.chunked_sents('test.txt', chunk_types=['NP'])\n",
    "grammar = r\"NP: {<[CDJNP].*>+}\"\n",
    "cp = nltk.RegexpParser(grammar)\n",
    "print cp.evaluate(test_sents)"
   ]
  },
  {
   "cell_type": "code",
   "execution_count": 153,
   "metadata": {
    "collapsed": false
   },
   "outputs": [],
   "source": [
    "class UnigramChunker(nltk.ChunkParserI): \n",
    "    def __init__(self, train_sents):\n",
    "        train_data = [[(t,c) for w,t,c in nltk.chunk.tree2conlltags(sent)] \\\n",
    "                      for sent in train_sents]\n",
    "        self.tagger = nltk.UnigramTagger(train_data)\n",
    "\n",
    "        def parse(self, sentence):\n",
    "            pos_tags = [pos for (word,pos) in sentence]\n",
    "            tagged_pos_tags = self.tagger.tag(pos_tags)\n",
    "            chunktags = [chunktag for (pos, chunktag) in tagged_pos_tags] \n",
    "            conlltags = [(word, pos, chunktag) for ((word,pos),chunktag) \\\n",
    "                         in zip(sentence, chunktags)]\n",
    "            print conlltags\n",
    "            return nltk.chunk.conlltags2tree(conlltags)\n",
    "        "
   ]
  },
  {
   "cell_type": "code",
   "execution_count": 157,
   "metadata": {
    "collapsed": false
   },
   "outputs": [
    {
     "ename": "NotImplementedError",
     "evalue": "",
     "output_type": "error",
     "traceback": [
      "\u001b[0;31m---------------------------------------------------------------------------\u001b[0m",
      "\u001b[0;31mNotImplementedError\u001b[0m                       Traceback (most recent call last)",
      "\u001b[0;32m<ipython-input-157-11b989d47837>\u001b[0m in \u001b[0;36m<module>\u001b[0;34m()\u001b[0m\n\u001b[1;32m      1\u001b[0m \u001b[0mtrain_sents\u001b[0m \u001b[0;34m=\u001b[0m \u001b[0mconll2000\u001b[0m\u001b[0;34m.\u001b[0m\u001b[0mchunked_sents\u001b[0m\u001b[0;34m(\u001b[0m\u001b[0;34m'train.txt'\u001b[0m\u001b[0;34m,\u001b[0m \u001b[0mchunk_types\u001b[0m\u001b[0;34m=\u001b[0m\u001b[0;34m[\u001b[0m\u001b[0;34m'NP'\u001b[0m\u001b[0;34m]\u001b[0m\u001b[0;34m)\u001b[0m\u001b[0;34m\u001b[0m\u001b[0m\n\u001b[1;32m      2\u001b[0m \u001b[0munigram_chunker\u001b[0m \u001b[0;34m=\u001b[0m \u001b[0mUnigramChunker\u001b[0m\u001b[0;34m(\u001b[0m\u001b[0mtrain_sents\u001b[0m\u001b[0;34m)\u001b[0m\u001b[0;34m\u001b[0m\u001b[0m\n\u001b[0;32m----> 3\u001b[0;31m \u001b[0;32mprint\u001b[0m \u001b[0munigram_chunker\u001b[0m\u001b[0;34m.\u001b[0m\u001b[0mparse\u001b[0m\u001b[0;34m(\u001b[0m\u001b[0mtest_sents\u001b[0m\u001b[0;34m)\u001b[0m\u001b[0;34m\u001b[0m\u001b[0m\n\u001b[0m",
      "\u001b[0;32m/Users/b3j90/anaconda/envs/nlp/lib/python2.7/site-packages/nltk/chunk/api.pyc\u001b[0m in \u001b[0;36mparse\u001b[0;34m(self, tokens)\u001b[0m\n\u001b[1;32m     32\u001b[0m         \u001b[0;34m:\u001b[0m\u001b[0mrtype\u001b[0m\u001b[0;34m:\u001b[0m \u001b[0mTree\u001b[0m\u001b[0;34m\u001b[0m\u001b[0m\n\u001b[1;32m     33\u001b[0m         \"\"\"\n\u001b[0;32m---> 34\u001b[0;31m         \u001b[0;32mraise\u001b[0m \u001b[0mNotImplementedError\u001b[0m\u001b[0;34m(\u001b[0m\u001b[0;34m)\u001b[0m\u001b[0;34m\u001b[0m\u001b[0m\n\u001b[0m\u001b[1;32m     35\u001b[0m \u001b[0;34m\u001b[0m\u001b[0m\n\u001b[1;32m     36\u001b[0m     \u001b[0;32mdef\u001b[0m \u001b[0mevaluate\u001b[0m\u001b[0;34m(\u001b[0m\u001b[0mself\u001b[0m\u001b[0;34m,\u001b[0m \u001b[0mgold\u001b[0m\u001b[0;34m)\u001b[0m\u001b[0;34m:\u001b[0m\u001b[0;34m\u001b[0m\u001b[0m\n",
      "\u001b[0;31mNotImplementedError\u001b[0m: "
     ]
    }
   ],
   "source": [
    "train_sents = conll2000.chunked_sents('train.txt', chunk_types=['NP']) \n",
    "unigram_chunker = UnigramChunker(train_sents)\n",
    "print unigram_chunker.evaluate(test_sents)"
   ]
  },
  {
   "cell_type": "code",
   "execution_count": 158,
   "metadata": {
    "collapsed": false
   },
   "outputs": [
    {
     "name": "stdout",
     "output_type": "stream",
     "text": [
      "Help on class ChunkParserI in module nltk.chunk.api:\n",
      "\n",
      "class ChunkParserI(nltk.parse.api.ParserI)\n",
      " |  A processing interface for identifying non-overlapping groups in\n",
      " |  unrestricted text.  Typically, chunk parsers are used to find base\n",
      " |  syntactic constituents, such as base noun phrases.  Unlike\n",
      " |  ``ParserI``, ``ChunkParserI`` guarantees that the ``parse()`` method\n",
      " |  will always generate a parse.\n",
      " |  \n",
      " |  Method resolution order:\n",
      " |      ChunkParserI\n",
      " |      nltk.parse.api.ParserI\n",
      " |      __builtin__.object\n",
      " |  \n",
      " |  Methods defined here:\n",
      " |  \n",
      " |  evaluate(self, gold)\n",
      " |      Score the accuracy of the chunker against the gold standard.\n",
      " |      Remove the chunking the gold standard text, rechunk it using\n",
      " |      the chunker, and return a ``ChunkScore`` object\n",
      " |      reflecting the performance of this chunk peraser.\n",
      " |      \n",
      " |      :type gold: list(Tree)\n",
      " |      :param gold: The list of chunked sentences to score the chunker on.\n",
      " |      :rtype: ChunkScore\n",
      " |  \n",
      " |  parse(self, tokens)\n",
      " |      Return the best chunk structure for the given tokens\n",
      " |      and return a tree.\n",
      " |      \n",
      " |      :param tokens: The list of (word, tag) tokens to be chunked.\n",
      " |      :type tokens: list(tuple)\n",
      " |      :rtype: Tree\n",
      " |  \n",
      " |  ----------------------------------------------------------------------\n",
      " |  Methods inherited from nltk.parse.api.ParserI:\n",
      " |  \n",
      " |  grammar(self)\n",
      " |      :return: The grammar used by this parser.\n",
      " |  \n",
      " |  parse_all(self, sent, *args, **kwargs)\n",
      " |      :rtype: list(Tree)\n",
      " |  \n",
      " |  parse_one(self, sent, *args, **kwargs)\n",
      " |      :rtype: Tree or None\n",
      " |  \n",
      " |  parse_sents(self, sents, *args, **kwargs)\n",
      " |      Apply ``self.parse()`` to each element of ``sents``.\n",
      " |      :rtype: iter(iter(Tree))\n",
      " |  \n",
      " |  ----------------------------------------------------------------------\n",
      " |  Data descriptors inherited from nltk.parse.api.ParserI:\n",
      " |  \n",
      " |  __dict__\n",
      " |      dictionary for instance variables (if defined)\n",
      " |  \n",
      " |  __weakref__\n",
      " |      list of weak references to the object (if defined)\n",
      "\n"
     ]
    }
   ],
   "source": [
    "help(nltk.ChunkParserI)"
   ]
  },
  {
   "cell_type": "markdown",
   "metadata": {},
   "source": [
    "### Training Classifier-Based Chunkers"
   ]
  },
  {
   "cell_type": "code",
   "execution_count": 165,
   "metadata": {
    "collapsed": true
   },
   "outputs": [],
   "source": [
    "# Noun phrase chunking with a consecutive classifier\n",
    "\n",
    "class ConsecutiveNPChunkTagger(nltk.TaggerI):\n",
    "    \n",
    "    def __init__(self, train_sents):\n",
    "        train_set = []\n",
    "        for tagged_sent in train_sents:\n",
    "            untagged_sent = nltk.tag.untag(tagged_sent)\n",
    "            history = []\n",
    "            for i, (word, tag) in enumerate(tagged_sent):\n",
    "                featureset = npchunk_features(untagged_sent, i, history)\n",
    "                train_set.append((featureset, tag))\n",
    "                history.append(tag)\n",
    "        self.classifier = nltk.MaxentClassifier.train(\n",
    "          train_set, trace = 0)\n",
    "        \n",
    "    def tag(self, sentence):\n",
    "        history = []\n",
    "        for i, word in enumerate(sentence):\n",
    "            featureset = npchunk_features(sentence, i, history)\n",
    "            tag = self.classifier.classify(featureset)\n",
    "            history.append(tag)\n",
    "        return zip(sentence, history)\n",
    "    \n",
    "class ConsecutiveNPChunker(nltk.ChunkParserI):\n",
    "\n",
    "    def __init__(self, train_sents):\n",
    "        tagged_sents = [[((w,t), c) for (w,t,c) in nltk.chunk.tree2conlltags(sent)]\n",
    "                       for sent in train_sents]\n",
    "        self.tagger = ConsecutiveNPChunkTagger(tagged_sents)\n",
    "        \n",
    "    def parse(self, sentence):\n",
    "        tagged_sentences = self.tagger.tag(sentence)\n",
    "        conlltags = [(w,t,c) for ((w,t),c) in tagged_sents]\n",
    "        return nltk.chunk.conlltags2tree(conlltags)\n",
    "        "
   ]
  },
  {
   "cell_type": "code",
   "execution_count": 166,
   "metadata": {
    "collapsed": true
   },
   "outputs": [],
   "source": [
    "def npchunk_features(sentence, i, history):\n",
    "    word, pos = sentence[i]\n",
    "    return {\"pos\": pos}"
   ]
  },
  {
   "cell_type": "code",
   "execution_count": 167,
   "metadata": {
    "collapsed": false
   },
   "outputs": [
    {
     "name": "stdout",
     "output_type": "stream",
     "text": [
      "      Training stopped: keyboard interrupt\n"
     ]
    },
    {
     "ename": "ValueError",
     "evalue": "too many values to unpack",
     "output_type": "error",
     "traceback": [
      "\u001b[0;31m---------------------------------------------------------------------------\u001b[0m",
      "\u001b[0;31mValueError\u001b[0m                                Traceback (most recent call last)",
      "\u001b[0;32m<ipython-input-167-5acfcf23dfc6>\u001b[0m in \u001b[0;36m<module>\u001b[0;34m()\u001b[0m\n\u001b[1;32m      1\u001b[0m \u001b[0mchunker\u001b[0m \u001b[0;34m=\u001b[0m \u001b[0mConsecutiveNPChunker\u001b[0m\u001b[0;34m(\u001b[0m\u001b[0mtrain_sents\u001b[0m\u001b[0;34m)\u001b[0m\u001b[0;34m\u001b[0m\u001b[0m\n\u001b[0;32m----> 2\u001b[0;31m \u001b[0;32mprint\u001b[0m \u001b[0mchunker\u001b[0m\u001b[0;34m.\u001b[0m\u001b[0mevaluate\u001b[0m\u001b[0;34m(\u001b[0m\u001b[0mtest_sents\u001b[0m\u001b[0;34m)\u001b[0m\u001b[0;34m\u001b[0m\u001b[0m\n\u001b[0m",
      "\u001b[0;32m/Users/b3j90/anaconda/envs/nlp/lib/python2.7/site-packages/nltk/chunk/api.pyc\u001b[0m in \u001b[0;36mevaluate\u001b[0;34m(self, gold)\u001b[0m\n\u001b[1;32m     47\u001b[0m         \u001b[0mchunkscore\u001b[0m \u001b[0;34m=\u001b[0m \u001b[0mChunkScore\u001b[0m\u001b[0;34m(\u001b[0m\u001b[0;34m)\u001b[0m\u001b[0;34m\u001b[0m\u001b[0m\n\u001b[1;32m     48\u001b[0m         \u001b[0;32mfor\u001b[0m \u001b[0mcorrect\u001b[0m \u001b[0;32min\u001b[0m \u001b[0mgold\u001b[0m\u001b[0;34m:\u001b[0m\u001b[0;34m\u001b[0m\u001b[0m\n\u001b[0;32m---> 49\u001b[0;31m             \u001b[0mchunkscore\u001b[0m\u001b[0;34m.\u001b[0m\u001b[0mscore\u001b[0m\u001b[0;34m(\u001b[0m\u001b[0mcorrect\u001b[0m\u001b[0;34m,\u001b[0m \u001b[0mself\u001b[0m\u001b[0;34m.\u001b[0m\u001b[0mparse\u001b[0m\u001b[0;34m(\u001b[0m\u001b[0mcorrect\u001b[0m\u001b[0;34m.\u001b[0m\u001b[0mleaves\u001b[0m\u001b[0;34m(\u001b[0m\u001b[0;34m)\u001b[0m\u001b[0;34m)\u001b[0m\u001b[0;34m)\u001b[0m\u001b[0;34m\u001b[0m\u001b[0m\n\u001b[0m\u001b[1;32m     50\u001b[0m         \u001b[0;32mreturn\u001b[0m \u001b[0mchunkscore\u001b[0m\u001b[0;34m\u001b[0m\u001b[0m\n\u001b[1;32m     51\u001b[0m \u001b[0;34m\u001b[0m\u001b[0m\n",
      "\u001b[0;32m<ipython-input-165-93063d8d8d19>\u001b[0m in \u001b[0;36mparse\u001b[0;34m(self, sentence)\u001b[0m\n\u001b[1;32m     32\u001b[0m     \u001b[0;32mdef\u001b[0m \u001b[0mparse\u001b[0m\u001b[0;34m(\u001b[0m\u001b[0mself\u001b[0m\u001b[0;34m,\u001b[0m \u001b[0msentence\u001b[0m\u001b[0;34m)\u001b[0m\u001b[0;34m:\u001b[0m\u001b[0;34m\u001b[0m\u001b[0m\n\u001b[1;32m     33\u001b[0m         \u001b[0mtagged_sentences\u001b[0m \u001b[0;34m=\u001b[0m \u001b[0mself\u001b[0m\u001b[0;34m.\u001b[0m\u001b[0mtagger\u001b[0m\u001b[0;34m.\u001b[0m\u001b[0mtag\u001b[0m\u001b[0;34m(\u001b[0m\u001b[0msentence\u001b[0m\u001b[0;34m)\u001b[0m\u001b[0;34m\u001b[0m\u001b[0m\n\u001b[0;32m---> 34\u001b[0;31m         \u001b[0mconlltags\u001b[0m \u001b[0;34m=\u001b[0m \u001b[0;34m[\u001b[0m\u001b[0;34m(\u001b[0m\u001b[0mw\u001b[0m\u001b[0;34m,\u001b[0m\u001b[0mt\u001b[0m\u001b[0;34m,\u001b[0m\u001b[0mc\u001b[0m\u001b[0;34m)\u001b[0m \u001b[0;32mfor\u001b[0m \u001b[0;34m(\u001b[0m\u001b[0;34m(\u001b[0m\u001b[0mw\u001b[0m\u001b[0;34m,\u001b[0m\u001b[0mt\u001b[0m\u001b[0;34m)\u001b[0m\u001b[0;34m,\u001b[0m\u001b[0mc\u001b[0m\u001b[0;34m)\u001b[0m \u001b[0;32min\u001b[0m \u001b[0mtagged_sents\u001b[0m\u001b[0;34m]\u001b[0m\u001b[0;34m\u001b[0m\u001b[0m\n\u001b[0m\u001b[1;32m     35\u001b[0m         \u001b[0;32mreturn\u001b[0m \u001b[0mnltk\u001b[0m\u001b[0;34m.\u001b[0m\u001b[0mchunk\u001b[0m\u001b[0;34m.\u001b[0m\u001b[0mconlltags2tree\u001b[0m\u001b[0;34m(\u001b[0m\u001b[0mconlltags\u001b[0m\u001b[0;34m)\u001b[0m\u001b[0;34m\u001b[0m\u001b[0m\n\u001b[1;32m     36\u001b[0m \u001b[0;34m\u001b[0m\u001b[0m\n",
      "\u001b[0;31mValueError\u001b[0m: too many values to unpack"
     ]
    }
   ],
   "source": [
    "chunker = ConsecutiveNPChunker(train_sents)\n",
    "print chunker.evaluate(test_sents)"
   ]
  },
  {
   "cell_type": "code",
   "execution_count": null,
   "metadata": {
    "collapsed": true
   },
   "outputs": [],
   "source": [
    "def npchunk_features(sentence, i, history):\n",
    "    word, pos = sentence[i]\n",
    "    if i == 0:\n",
    "        prevword, prevpos = \"<START>\", \"<START>\"\n",
    "    else:\n",
    "        prevword, prevpos = sentence[i-1]\n",
    "\n",
    "    return {\"pos\": pos, \"prevpos\": prevpos}\n",
    "\n",
    "chunker = ConsecutiveNPChunker(train_sents)\n",
    "print chunker.evaluate(test_sents)"
   ]
  },
  {
   "cell_type": "markdown",
   "metadata": {},
   "source": [
    "#### Tree Traversal"
   ]
  },
  {
   "cell_type": "code",
   "execution_count": 175,
   "metadata": {
    "collapsed": true
   },
   "outputs": [],
   "source": [
    "def traverse(t):\n",
    "    try:\n",
    "        t.label()\n",
    "    except AttributeError:\n",
    "        print t\n",
    "    else: # We know that t.node is defined\n",
    "        print \"(\", t.label(),\n",
    "        for child in t:\n",
    "            traverse(child)\n",
    "        print \")\""
   ]
  },
  {
   "cell_type": "code",
   "execution_count": 177,
   "metadata": {
    "collapsed": false
   },
   "outputs": [
    {
     "name": "stdout",
     "output_type": "stream",
     "text": [
      "Help on class Tree in module nltk.tree:\n",
      "\n",
      "class Tree(__builtin__.list)\n",
      " |  A Tree represents a hierarchical grouping of leaves and subtrees.\n",
      " |  For example, each constituent in a syntax tree is represented by a single Tree.\n",
      " |  \n",
      " |  A tree's children are encoded as a list of leaves and subtrees,\n",
      " |  where a leaf is a basic (non-tree) value; and a subtree is a\n",
      " |  nested Tree.\n",
      " |  \n",
      " |      >>> from nltk.tree import Tree\n",
      " |      >>> print(Tree(1, [2, Tree(3, [4]), 5]))\n",
      " |      (1 2 (3 4) 5)\n",
      " |      >>> vp = Tree('VP', [Tree('V', ['saw']),\n",
      " |      ...                  Tree('NP', ['him'])])\n",
      " |      >>> s = Tree('S', [Tree('NP', ['I']), vp])\n",
      " |      >>> print(s)\n",
      " |      (S (NP I) (VP (V saw) (NP him)))\n",
      " |      >>> print(s[1])\n",
      " |      (VP (V saw) (NP him))\n",
      " |      >>> print(s[1,1])\n",
      " |      (NP him)\n",
      " |      >>> t = Tree.fromstring(\"(S (NP I) (VP (V saw) (NP him)))\")\n",
      " |      >>> s == t\n",
      " |      True\n",
      " |      >>> t[1][1].set_label('X')\n",
      " |      >>> t[1][1].label()\n",
      " |      'X'\n",
      " |      >>> print(t)\n",
      " |      (S (NP I) (VP (V saw) (X him)))\n",
      " |      >>> t[0], t[1,1] = t[1,1], t[0]\n",
      " |      >>> print(t)\n",
      " |      (S (X him) (VP (V saw) (NP I)))\n",
      " |  \n",
      " |  The length of a tree is the number of children it has.\n",
      " |  \n",
      " |      >>> len(t)\n",
      " |      2\n",
      " |  \n",
      " |  The set_label() and label() methods allow individual constituents\n",
      " |  to be labeled.  For example, syntax trees use this label to specify\n",
      " |  phrase tags, such as \"NP\" and \"VP\".\n",
      " |  \n",
      " |  Several Tree methods use \"tree positions\" to specify\n",
      " |  children or descendants of a tree.  Tree positions are defined as\n",
      " |  follows:\n",
      " |  \n",
      " |    - The tree position *i* specifies a Tree's *i*\\ th child.\n",
      " |    - The tree position ``()`` specifies the Tree itself.\n",
      " |    - If *p* is the tree position of descendant *d*, then\n",
      " |      *p+i* specifies the *i*\\ th child of *d*.\n",
      " |  \n",
      " |  I.e., every tree position is either a single index *i*,\n",
      " |  specifying ``tree[i]``; or a sequence *i1, i2, ..., iN*,\n",
      " |  specifying ``tree[i1][i2]...[iN]``.\n",
      " |  \n",
      " |  Construct a new tree.  This constructor can be called in one\n",
      " |  of two ways:\n",
      " |  \n",
      " |  - ``Tree(label, children)`` constructs a new tree with the\n",
      " |      specified label and list of children.\n",
      " |  \n",
      " |  - ``Tree.fromstring(s)`` constructs a new tree by parsing the string ``s``.\n",
      " |  \n",
      " |  Method resolution order:\n",
      " |      Tree\n",
      " |      __builtin__.list\n",
      " |      __builtin__.object\n",
      " |  \n",
      " |  Methods defined here:\n",
      " |  \n",
      " |  __add__(self, v)\n",
      " |  \n",
      " |  __delitem__(self, index)\n",
      " |  \n",
      " |  __eq__(self, other)\n",
      " |  \n",
      " |  __ge__ lambda self, other\n",
      " |  \n",
      " |  __getitem__(self, index)\n",
      " |  \n",
      " |  __gt__ lambda self, other\n",
      " |  \n",
      " |  __init__(self, node, children=None)\n",
      " |  \n",
      " |  __le__ lambda self, other\n",
      " |  \n",
      " |  __lt__(self, other)\n",
      " |  \n",
      " |  __mul__(self, v)\n",
      " |  \n",
      " |  __ne__ lambda self, other\n",
      " |      # @total_ordering doesn't work here, since the class inherits from a builtin class\n",
      " |  \n",
      " |  __radd__(self, v)\n",
      " |  \n",
      " |  __repr__(self)\n",
      " |  \n",
      " |  __rmul__(self, v)\n",
      " |  \n",
      " |  __setitem__(self, index, value)\n",
      " |  \n",
      " |  __str__(self)\n",
      " |  \n",
      " |  __unicode__ = __str__(self)\n",
      " |  \n",
      " |  chomsky_normal_form(self, factor=u'right', horzMarkov=None, vertMarkov=0, childChar=u'|', parentChar=u'^')\n",
      " |      This method can modify a tree in three ways:\n",
      " |      \n",
      " |        1. Convert a tree into its Chomsky Normal Form (CNF)\n",
      " |           equivalent -- Every subtree has either two non-terminals\n",
      " |           or one terminal as its children.  This process requires\n",
      " |           the creation of more\"artificial\" non-terminal nodes.\n",
      " |        2. Markov (vertical) smoothing of children in new artificial\n",
      " |           nodes\n",
      " |        3. Horizontal (parent) annotation of nodes\n",
      " |      \n",
      " |      :param factor: Right or left factoring method (default = \"right\")\n",
      " |      :type  factor: str = [left|right]\n",
      " |      :param horzMarkov: Markov order for sibling smoothing in artificial nodes (None (default) = include all siblings)\n",
      " |      :type  horzMarkov: int | None\n",
      " |      :param vertMarkov: Markov order for parent smoothing (0 (default) = no vertical annotation)\n",
      " |      :type  vertMarkov: int | None\n",
      " |      :param childChar: A string used in construction of the artificial nodes, separating the head of the\n",
      " |                        original subtree from the child nodes that have yet to be expanded (default = \"|\")\n",
      " |      :type  childChar: str\n",
      " |      :param parentChar: A string used to separate the node representation from its vertical annotation\n",
      " |      :type  parentChar: str\n",
      " |  \n",
      " |  collapse_unary(self, collapsePOS=False, collapseRoot=False, joinChar=u'+')\n",
      " |      Collapse subtrees with a single child (ie. unary productions)\n",
      " |      into a new non-terminal (Tree node) joined by 'joinChar'.\n",
      " |      This is useful when working with algorithms that do not allow\n",
      " |      unary productions, and completely removing the unary productions\n",
      " |      would require loss of useful information.  The Tree is modified\n",
      " |      directly (since it is passed by reference) and no value is returned.\n",
      " |      \n",
      " |      :param collapsePOS: 'False' (default) will not collapse the parent of leaf nodes (ie.\n",
      " |                          Part-of-Speech tags) since they are always unary productions\n",
      " |      :type  collapsePOS: bool\n",
      " |      :param collapseRoot: 'False' (default) will not modify the root production\n",
      " |                           if it is unary.  For the Penn WSJ treebank corpus, this corresponds\n",
      " |                           to the TOP -> productions.\n",
      " |      :type collapseRoot: bool\n",
      " |      :param joinChar: A string used to connect collapsed node values (default = \"+\")\n",
      " |      :type  joinChar: str\n",
      " |  \n",
      " |  copy(self, deep=False)\n",
      " |  \n",
      " |  draw(self)\n",
      " |      Open a new window containing a graphical diagram of this tree.\n",
      " |  \n",
      " |  flatten(self)\n",
      " |      Return a flat version of the tree, with all non-root non-terminals removed.\n",
      " |      \n",
      " |          >>> t = Tree.fromstring(\"(S (NP (D the) (N dog)) (VP (V chased) (NP (D the) (N cat))))\")\n",
      " |          >>> print(t.flatten())\n",
      " |          (S the dog chased the cat)\n",
      " |      \n",
      " |      :return: a tree consisting of this tree's root connected directly to\n",
      " |          its leaves, omitting all intervening non-terminal nodes.\n",
      " |      :rtype: Tree\n",
      " |  \n",
      " |  freeze(self, leaf_freezer=None)\n",
      " |  \n",
      " |  height(self)\n",
      " |      Return the height of the tree.\n",
      " |      \n",
      " |          >>> t = Tree.fromstring(\"(S (NP (D the) (N dog)) (VP (V chased) (NP (D the) (N cat))))\")\n",
      " |          >>> t.height()\n",
      " |          5\n",
      " |          >>> print(t[0,0])\n",
      " |          (D the)\n",
      " |          >>> t[0,0].height()\n",
      " |          2\n",
      " |      \n",
      " |      :return: The height of this tree.  The height of a tree\n",
      " |          containing no children is 1; the height of a tree\n",
      " |          containing only leaves is 2; and the height of any other\n",
      " |          tree is one plus the maximum of its children's\n",
      " |          heights.\n",
      " |      :rtype: int\n",
      " |  \n",
      " |  label(self)\n",
      " |      Return the node label of the tree.\n",
      " |      \n",
      " |          >>> t = Tree.fromstring('(S (NP (D the) (N dog)) (VP (V chased) (NP (D the) (N cat))))')\n",
      " |          >>> t.label()\n",
      " |          'S'\n",
      " |      \n",
      " |      :return: the node label (typically a string)\n",
      " |      :rtype: any\n",
      " |  \n",
      " |  leaf_treeposition(self, index)\n",
      " |      :return: The tree position of the ``index``-th leaf in this\n",
      " |          tree.  I.e., if ``tp=self.leaf_treeposition(i)``, then\n",
      " |          ``self[tp]==self.leaves()[i]``.\n",
      " |      \n",
      " |      :raise IndexError: If this tree contains fewer than ``index+1``\n",
      " |          leaves, or if ``index<0``.\n",
      " |  \n",
      " |  leaves(self)\n",
      " |      Return the leaves of the tree.\n",
      " |      \n",
      " |          >>> t = Tree.fromstring(\"(S (NP (D the) (N dog)) (VP (V chased) (NP (D the) (N cat))))\")\n",
      " |          >>> t.leaves()\n",
      " |          ['the', 'dog', 'chased', 'the', 'cat']\n",
      " |      \n",
      " |      :return: a list containing this tree's leaves.\n",
      " |          The order reflects the order of the\n",
      " |          leaves in the tree's hierarchical structure.\n",
      " |      :rtype: list\n",
      " |  \n",
      " |  pformat(self, margin=70, indent=0, nodesep=u'', parens=u'()', quotes=False)\n",
      " |      :return: A pretty-printed string representation of this tree.\n",
      " |      :rtype: str\n",
      " |      :param margin: The right margin at which to do line-wrapping.\n",
      " |      :type margin: int\n",
      " |      :param indent: The indentation level at which printing\n",
      " |          begins.  This number is used to decide how far to indent\n",
      " |          subsequent lines.\n",
      " |      :type indent: int\n",
      " |      :param nodesep: A string that is used to separate the node\n",
      " |          from the children.  E.g., the default value ``':'`` gives\n",
      " |          trees like ``(S: (NP: I) (VP: (V: saw) (NP: it)))``.\n",
      " |  \n",
      " |  pformat_latex_qtree(self)\n",
      " |      Returns a representation of the tree compatible with the\n",
      " |      LaTeX qtree package. This consists of the string ``\\Tree``\n",
      " |      followed by the tree represented in bracketed notation.\n",
      " |      \n",
      " |      For example, the following result was generated from a parse tree of\n",
      " |      the sentence ``The announcement astounded us``::\n",
      " |      \n",
      " |        \\Tree [.I'' [.N'' [.D The ] [.N' [.N announcement ] ] ]\n",
      " |            [.I' [.V'' [.V' [.V astounded ] [.N'' [.N' [.N us ] ] ] ] ] ] ]\n",
      " |      \n",
      " |      See http://www.ling.upenn.edu/advice/latex.html for the LaTeX\n",
      " |      style file for the qtree package.\n",
      " |      \n",
      " |      :return: A latex qtree representation of this tree.\n",
      " |      :rtype: str\n",
      " |  \n",
      " |  pos(self)\n",
      " |      Return a sequence of pos-tagged words extracted from the tree.\n",
      " |      \n",
      " |          >>> t = Tree.fromstring(\"(S (NP (D the) (N dog)) (VP (V chased) (NP (D the) (N cat))))\")\n",
      " |          >>> t.pos()\n",
      " |          [('the', 'D'), ('dog', 'N'), ('chased', 'V'), ('the', 'D'), ('cat', 'N')]\n",
      " |      \n",
      " |      :return: a list of tuples containing leaves and pre-terminals (part-of-speech tags).\n",
      " |          The order reflects the order of the leaves in the tree's hierarchical structure.\n",
      " |      :rtype: list(tuple)\n",
      " |  \n",
      " |  pprint(self, **kwargs)\n",
      " |      Print a string representation of this Tree to 'stream'\n",
      " |  \n",
      " |  pretty_print(self, sentence=None, highlight=(), stream=None, **kwargs)\n",
      " |      Pretty-print this tree as ASCII or Unicode art.\n",
      " |      For explanation of the arguments, see the documentation for\n",
      " |      `nltk.treeprettyprinter.TreePrettyPrinter`.\n",
      " |  \n",
      " |  productions(self)\n",
      " |      Generate the productions that correspond to the non-terminal nodes of the tree.\n",
      " |      For each subtree of the form (P: C1 C2 ... Cn) this produces a production of the\n",
      " |      form P -> C1 C2 ... Cn.\n",
      " |      \n",
      " |          >>> t = Tree.fromstring(\"(S (NP (D the) (N dog)) (VP (V chased) (NP (D the) (N cat))))\")\n",
      " |          >>> t.productions()\n",
      " |          [S -> NP VP, NP -> D N, D -> 'the', N -> 'dog', VP -> V NP, V -> 'chased',\n",
      " |          NP -> D N, D -> 'the', N -> 'cat']\n",
      " |      \n",
      " |      :rtype: list(Production)\n",
      " |  \n",
      " |  set_label(self, label)\n",
      " |      Set the node label of the tree.\n",
      " |      \n",
      " |          >>> t = Tree.fromstring(\"(S (NP (D the) (N dog)) (VP (V chased) (NP (D the) (N cat))))\")\n",
      " |          >>> t.set_label(\"T\")\n",
      " |          >>> print(t)\n",
      " |          (T (NP (D the) (N dog)) (VP (V chased) (NP (D the) (N cat))))\n",
      " |      \n",
      " |      :param label: the node label (typically a string)\n",
      " |      :type label: any\n",
      " |  \n",
      " |  subtrees(self, filter=None)\n",
      " |      Generate all the subtrees of this tree, optionally restricted\n",
      " |      to trees matching the filter function.\n",
      " |      \n",
      " |          >>> t = Tree.fromstring(\"(S (NP (D the) (N dog)) (VP (V chased) (NP (D the) (N cat))))\")\n",
      " |          >>> for s in t.subtrees(lambda t: t.height() == 2):\n",
      " |          ...     print(s)\n",
      " |          (D the)\n",
      " |          (N dog)\n",
      " |          (V chased)\n",
      " |          (D the)\n",
      " |          (N cat)\n",
      " |      \n",
      " |      :type filter: function\n",
      " |      :param filter: the function to filter all local trees\n",
      " |  \n",
      " |  treeposition_spanning_leaves(self, start, end)\n",
      " |      :return: The tree position of the lowest descendant of this\n",
      " |          tree that dominates ``self.leaves()[start:end]``.\n",
      " |      :raise ValueError: if ``end <= start``\n",
      " |  \n",
      " |  treepositions(self, order=u'preorder')\n",
      " |          >>> t = Tree.fromstring(\"(S (NP (D the) (N dog)) (VP (V chased) (NP (D the) (N cat))))\")\n",
      " |          >>> t.treepositions() # doctest: +ELLIPSIS\n",
      " |          [(), (0,), (0, 0), (0, 0, 0), (0, 1), (0, 1, 0), (1,), (1, 0), (1, 0, 0), ...]\n",
      " |          >>> for pos in t.treepositions('leaves'):\n",
      " |          ...     t[pos] = t[pos][::-1].upper()\n",
      " |          >>> print(t)\n",
      " |          (S (NP (D EHT) (N GOD)) (VP (V DESAHC) (NP (D EHT) (N TAC))))\n",
      " |      \n",
      " |      :param order: One of: ``preorder``, ``postorder``, ``bothorder``,\n",
      " |          ``leaves``.\n",
      " |  \n",
      " |  un_chomsky_normal_form(self, expandUnary=True, childChar=u'|', parentChar=u'^', unaryChar=u'+')\n",
      " |      This method modifies the tree in three ways:\n",
      " |      \n",
      " |        1. Transforms a tree in Chomsky Normal Form back to its\n",
      " |           original structure (branching greater than two)\n",
      " |        2. Removes any parent annotation (if it exists)\n",
      " |        3. (optional) expands unary subtrees (if previously\n",
      " |           collapsed with collapseUnary(...) )\n",
      " |      \n",
      " |      :param expandUnary: Flag to expand unary or not (default = True)\n",
      " |      :type  expandUnary: bool\n",
      " |      :param childChar: A string separating the head node from its children in an artificial node (default = \"|\")\n",
      " |      :type  childChar: str\n",
      " |      :param parentChar: A sting separating the node label from its parent annotation (default = \"^\")\n",
      " |      :type  parentChar: str\n",
      " |      :param unaryChar: A string joining two non-terminals in a unary production (default = \"+\")\n",
      " |      :type  unaryChar: str\n",
      " |  \n",
      " |  unicode_repr = __repr__(self)\n",
      " |  \n",
      " |  ----------------------------------------------------------------------\n",
      " |  Class methods defined here:\n",
      " |  \n",
      " |  convert(cls, tree) from __builtin__.type\n",
      " |      Convert a tree between different subtypes of Tree.  ``cls`` determines\n",
      " |      which class will be used to encode the new tree.\n",
      " |      \n",
      " |      :type tree: Tree\n",
      " |      :param tree: The tree that should be converted.\n",
      " |      :return: The new Tree.\n",
      " |  \n",
      " |  fromstring(cls, s, brackets=u'()', read_node=None, read_leaf=None, node_pattern=None, leaf_pattern=None, remove_empty_top_bracketing=False) from __builtin__.type\n",
      " |      Read a bracketed tree string and return the resulting tree.\n",
      " |      Trees are represented as nested brackettings, such as::\n",
      " |      \n",
      " |        (S (NP (NNP John)) (VP (V runs)))\n",
      " |      \n",
      " |      :type s: str\n",
      " |      :param s: The string to read\n",
      " |      \n",
      " |      :type brackets: str (length=2)\n",
      " |      :param brackets: The bracket characters used to mark the\n",
      " |          beginning and end of trees and subtrees.\n",
      " |      \n",
      " |      :type read_node: function\n",
      " |      :type read_leaf: function\n",
      " |      :param read_node, read_leaf: If specified, these functions\n",
      " |          are applied to the substrings of ``s`` corresponding to\n",
      " |          nodes and leaves (respectively) to obtain the values for\n",
      " |          those nodes and leaves.  They should have the following\n",
      " |          signature:\n",
      " |      \n",
      " |             read_node(str) -> value\n",
      " |      \n",
      " |          For example, these functions could be used to process nodes\n",
      " |          and leaves whose values should be some type other than\n",
      " |          string (such as ``FeatStruct``).\n",
      " |          Note that by default, node strings and leaf strings are\n",
      " |          delimited by whitespace and brackets; to override this\n",
      " |          default, use the ``node_pattern`` and ``leaf_pattern``\n",
      " |          arguments.\n",
      " |      \n",
      " |      :type node_pattern: str\n",
      " |      :type leaf_pattern: str\n",
      " |      :param node_pattern, leaf_pattern: Regular expression patterns\n",
      " |          used to find node and leaf substrings in ``s``.  By\n",
      " |          default, both nodes patterns are defined to match any\n",
      " |          sequence of non-whitespace non-bracket characters.\n",
      " |      \n",
      " |      :type remove_empty_top_bracketing: bool\n",
      " |      :param remove_empty_top_bracketing: If the resulting tree has\n",
      " |          an empty node label, and is length one, then return its\n",
      " |          single child instead.  This is useful for treebank trees,\n",
      " |          which sometimes contain an extra level of bracketing.\n",
      " |      \n",
      " |      :return: A tree corresponding to the string representation ``s``.\n",
      " |          If this class method is called using a subclass of Tree,\n",
      " |          then it will return a tree of that type.\n",
      " |      :rtype: Tree\n",
      " |  \n",
      " |  ----------------------------------------------------------------------\n",
      " |  Data descriptors defined here:\n",
      " |  \n",
      " |  __dict__\n",
      " |      dictionary for instance variables (if defined)\n",
      " |  \n",
      " |  __weakref__\n",
      " |      list of weak references to the object (if defined)\n",
      " |  \n",
      " |  node\n",
      " |      Outdated method to access the node value; use the label() method instead.\n",
      " |  \n",
      " |  ----------------------------------------------------------------------\n",
      " |  Methods inherited from __builtin__.list:\n",
      " |  \n",
      " |  __contains__(...)\n",
      " |      x.__contains__(y) <==> y in x\n",
      " |  \n",
      " |  __delslice__(...)\n",
      " |      x.__delslice__(i, j) <==> del x[i:j]\n",
      " |      \n",
      " |      Use of negative indices is not supported.\n",
      " |  \n",
      " |  __getattribute__(...)\n",
      " |      x.__getattribute__('name') <==> x.name\n",
      " |  \n",
      " |  __getslice__(...)\n",
      " |      x.__getslice__(i, j) <==> x[i:j]\n",
      " |      \n",
      " |      Use of negative indices is not supported.\n",
      " |  \n",
      " |  __iadd__(...)\n",
      " |      x.__iadd__(y) <==> x+=y\n",
      " |  \n",
      " |  __imul__(...)\n",
      " |      x.__imul__(y) <==> x*=y\n",
      " |  \n",
      " |  __iter__(...)\n",
      " |      x.__iter__() <==> iter(x)\n",
      " |  \n",
      " |  __len__(...)\n",
      " |      x.__len__() <==> len(x)\n",
      " |  \n",
      " |  __reversed__(...)\n",
      " |      L.__reversed__() -- return a reverse iterator over the list\n",
      " |  \n",
      " |  __setslice__(...)\n",
      " |      x.__setslice__(i, j, y) <==> x[i:j]=y\n",
      " |      \n",
      " |      Use  of negative indices is not supported.\n",
      " |  \n",
      " |  __sizeof__(...)\n",
      " |      L.__sizeof__() -- size of L in memory, in bytes\n",
      " |  \n",
      " |  append(...)\n",
      " |      L.append(object) -- append object to end\n",
      " |  \n",
      " |  count(...)\n",
      " |      L.count(value) -> integer -- return number of occurrences of value\n",
      " |  \n",
      " |  extend(...)\n",
      " |      L.extend(iterable) -- extend list by appending elements from the iterable\n",
      " |  \n",
      " |  index(...)\n",
      " |      L.index(value, [start, [stop]]) -> integer -- return first index of value.\n",
      " |      Raises ValueError if the value is not present.\n",
      " |  \n",
      " |  insert(...)\n",
      " |      L.insert(index, object) -- insert object before index\n",
      " |  \n",
      " |  pop(...)\n",
      " |      L.pop([index]) -> item -- remove and return item at index (default last).\n",
      " |      Raises IndexError if list is empty or index is out of range.\n",
      " |  \n",
      " |  remove(...)\n",
      " |      L.remove(value) -- remove first occurrence of value.\n",
      " |      Raises ValueError if the value is not present.\n",
      " |  \n",
      " |  reverse(...)\n",
      " |      L.reverse() -- reverse *IN PLACE*\n",
      " |  \n",
      " |  sort(...)\n",
      " |      L.sort(cmp=None, key=None, reverse=False) -- stable sort *IN PLACE*;\n",
      " |      cmp(x, y) -> -1, 0, 1\n",
      " |  \n",
      " |  ----------------------------------------------------------------------\n",
      " |  Data and other attributes inherited from __builtin__.list:\n",
      " |  \n",
      " |  __hash__ = None\n",
      " |  \n",
      " |  __new__ = <built-in method __new__ of type object>\n",
      " |      T.__new__(S, ...) -> a new object with type S, a subtype of T\n",
      "\n"
     ]
    }
   ],
   "source": [
    "help(nltk.Tree)"
   ]
  },
  {
   "cell_type": "code",
   "execution_count": 176,
   "metadata": {
    "collapsed": false
   },
   "outputs": [
    {
     "name": "stdout",
     "output_type": "stream",
     "text": [
      "( S ( NP I\n",
      ")\n",
      "( VP ( V saw\n",
      ")\n",
      "( NP him\n",
      ")\n",
      ")\n",
      ")\n"
     ]
    }
   ],
   "source": [
    "from nltk import Tree\n",
    "\n",
    "vp = Tree('VP', [Tree('V', ['saw']), Tree('NP', ['him'])])\n",
    "t = Tree('S', [Tree('NP', ['I']), vp])\n",
    "traverse(t)"
   ]
  },
  {
   "cell_type": "markdown",
   "metadata": {},
   "source": [
    "### Named Entity Recognition\n",
    "\n",
    "Named Entities are definite noun phrases that refer to specific types of individuals, such as organizations, persons, dates and so on. The goal of a **Named Entity Recognition** (NER) system is to identify all textual mentions of the named entities. This can be broken down into two subtasks: identifying the boundaries of the NE, and identifying its type. While NER is usually a prelude to identifying relations in **Information Extraction**, it can also contribute to other tasks. For example in **Question Answering**, we try to improve the precision of Information Retrieval by recovering not whole pages, but just those parts which contain an answer to the user's question. Most QA systems take the documents returned by standard Information retrieval and attept to isolate the minimal text snippet in the document containing the answer.\n",
    "\n",
    "How do we go about identifying named entities? One option would be to look up each word in an appropriate list of names. For example, in the case of locations, we could use a **gazetter**, or geographical dictionary, such as the [Alexandra Gazetter](http://canalplan.eu/gazetteer/4t8x) or the [Getty Gazetter](http://www.getty.edu/research/tools/vocabularies/tgn/).\n",
    "\n",
    "It's unlikely that we will be able to recognize many of the names using a gazetter lookup. Another majour source of difficulty is caused by the fact that many named entity term are ambiguous. Further challeges are posed by multiwords names and by names that contain other names. In NER, therefore, we need to be able to identify the beginning and end of multitoken sequences.\n",
    "\n",
    "NER is a task that is well suited to the type of classifier-based approach that we saw for noun phrase chunking. In particular, we can build a tagger that labels each word in a sentence using the IOB format, where chunks are labeled by their appropriate type."
   ]
  },
  {
   "cell_type": "code",
   "execution_count": 179,
   "metadata": {
    "collapsed": false
   },
   "outputs": [
    {
     "name": "stdout",
     "output_type": "stream",
     "text": [
      "(S\n",
      "  The/DT\n",
      "  (GPE U.S./NNP)\n",
      "  is/VBZ\n",
      "  one/CD\n",
      "  of/IN\n",
      "  the/DT\n",
      "  few/JJ\n",
      "  industrialized/VBN\n",
      "  nations/NNS\n",
      "  that/WDT\n",
      "  *T*-7/-NONE-\n",
      "  does/VBZ\n",
      "  n't/RB\n",
      "  have/VB\n",
      "  a/DT\n",
      "  higher/JJR\n",
      "  standard/NN\n",
      "  of/IN\n",
      "  regulation/NN\n",
      "  for/IN\n",
      "  the/DT\n",
      "  smooth/JJ\n",
      "  ,/,\n",
      "  needle-like/JJ\n",
      "  fibers/NNS\n",
      "  such/JJ\n",
      "  as/IN\n",
      "  crocidolite/NN\n",
      "  that/WDT\n",
      "  *T*-1/-NONE-\n",
      "  are/VBP\n",
      "  classified/VBN\n",
      "  *-5/-NONE-\n",
      "  as/IN\n",
      "  amphobiles/NNS\n",
      "  ,/,\n",
      "  according/VBG\n",
      "  to/TO\n",
      "  (PERSON Brooke/NNP T./NNP Mossman/NNP)\n",
      "  ,/,\n",
      "  a/DT\n",
      "  professor/NN\n",
      "  of/IN\n",
      "  pathlogy/NN\n",
      "  at/IN\n",
      "  the/DT\n",
      "  (ORGANIZATION University/NNP)\n",
      "  of/IN\n",
      "  (PERSON Vermont/NNP College/NNP)\n",
      "  of/IN\n",
      "  (GPE Medicine/NNP)\n",
      "  ./.)\n"
     ]
    }
   ],
   "source": [
    "sent = nltk.corpus.treebank.tagged_sents()[22]\n",
    "print nltk.ne_chunk(sent)"
   ]
  },
  {
   "cell_type": "markdown",
   "metadata": {},
   "source": [
    "### Relation Extraction\n",
    "\n",
    "Once named entities have been identified in a text, we then want to extract the relations that exist between them. As indicated earlier, we will typically be looking for relations between specified types of named entity. One way of approaching this task is to initially look for all tripes of the form (X,a,Y), where X and Y are named entities of the required types, and *a* that express the relation we are looking for. "
   ]
  },
  {
   "cell_type": "code",
   "execution_count": 180,
   "metadata": {
    "collapsed": true
   },
   "outputs": [],
   "source": [
    "import re"
   ]
  },
  {
   "cell_type": "code",
   "execution_count": 186,
   "metadata": {
    "collapsed": false
   },
   "outputs": [
    {
     "name": "stdout",
     "output_type": "stream",
     "text": [
      "[ORG: u'WHYY'] u'in' [LOC: u'Philadelphia']\n",
      "[ORG: u'McGlashan &AMP; Sarrail'] u'firm in' [LOC: u'San Mateo']\n",
      "[ORG: u'Freedom Forum'] u'in' [LOC: u'Arlington']\n",
      "[ORG: u'Brookings Institution'] u', the research group in' [LOC: u'Washington']\n",
      "[ORG: u'Idealab'] u', a self-described business incubator based in' [LOC: u'Los Angeles']\n",
      "[ORG: u'Open Text'] u', based in' [LOC: u'Waterloo']\n",
      "[ORG: u'WGBH'] u'in' [LOC: u'Boston']\n",
      "[ORG: u'Bastille Opera'] u'in' [LOC: u'Paris']\n",
      "[ORG: u'Omnicom'] u'in' [LOC: u'New York']\n",
      "[ORG: u'DDB Needham'] u'in' [LOC: u'New York']\n",
      "[ORG: u'Kaplan Thaler Group'] u'in' [LOC: u'New York']\n",
      "[ORG: u'BBDO South'] u'in' [LOC: u'Atlanta']\n",
      "[ORG: u'Georgia-Pacific'] u'in' [LOC: u'Atlanta']\n"
     ]
    }
   ],
   "source": [
    "# This regulat expression avoid sentences such as\n",
    "# \"success in supervising the transcation of\"\n",
    "IN = re.compile(r'.*\\bin\\b(?!\\b.+ing)')\n",
    "\n",
    "for doc in nltk.corpus.ieer.parsed_docs('NYT_19980315'):\n",
    "    for rel in nltk.sem.extract_rels('ORG','LOC', doc, \\\n",
    "                                     corpus='ieer', pattern = IN):\n",
    "        \n",
    "        print nltk.sem.relextract.rtuple(rel)\n",
    "    "
   ]
  },
  {
   "cell_type": "code",
   "execution_count": 195,
   "metadata": {
    "collapsed": false
   },
   "outputs": [
    {
     "name": "stdout",
     "output_type": "stream",
     "text": [
      "VAN(u\"cornet_d'elzius\", u'buitenlandse_handel')\n",
      "VAN(u'johan_rottiers', u'kardinaal_van_roey_instituut')\n",
      "VAN(u'annie_lennox', u'eurythmics')\n"
     ]
    }
   ],
   "source": [
    "from nltk.corpus import conll2002\n",
    "\n",
    "vnv = \"\"\"\n",
    "(\n",
    "  is/V|\n",
    "  was/V|\n",
    "  werd/V|\n",
    "  wordt/V\n",
    ")\n",
    ".*\n",
    "van/Prep\n",
    "\"\"\"\n",
    "VAN = re.compile(vnv, re.VERBOSE)\n",
    "\n",
    "for doc in conll2002.chunked_sents('ned.train'):\n",
    "    for r in nltk.sem.extract_rels('PER', 'ORG', doc, \n",
    "                                   corpus='conll2002', pattern = VAN):\n",
    "        print nltk.sem.relextract.clause(r, relsym='VAN')"
   ]
  },
  {
   "cell_type": "markdown",
   "metadata": {},
   "source": [
    "### Analyzing Sentence Structure\n",
    "\n",
    "We need a way to deal tith the ambiguity that natural language is famous for. We also need to be able to cope with the fact that there are unlimited number of possible sentences, and we can only write finite programs to analyze their structures and discover their meanings.\n",
    "\n",
    "The purpose of a grammar is to give an explicit description of a language. But the way in which we think of a grammar is closely intertwined with what we consider to have a language. It is a large but finite set of observed utterances and written texts? Is it sometimes more abstract like the implicit knowledge that competent speakers have abour grammatical sentences?\n",
    "\n",
    "Now, we will see the formal framework of **generative grammars**, in which a a language is considered to be nothing more than an enormous collection of all grammatical sentences, and a grammar is a formal notation that can be used for generating the members of this set. Grammar use recursive productions in the form of S -> aS "
   ]
  },
  {
   "cell_type": "code",
   "execution_count": 218,
   "metadata": {
    "collapsed": false
   },
   "outputs": [],
   "source": [
    "groucho_grammar = nltk.CFG.fromstring(\"\"\"\n",
    "S -> NP VP\n",
    "PP -> P NP\n",
    "NP -> Det N | Det N PP | 'I'\n",
    "VP -> V NP | VP PP\n",
    "Det -> 'an' | 'my'\n",
    "N -> 'elephant' | 'pajamas'\n",
    "V -> 'shot'\n",
    "P -> 'in'\n",
    "\"\"\")"
   ]
  },
  {
   "cell_type": "code",
   "execution_count": 210,
   "metadata": {
    "collapsed": false
   },
   "outputs": [],
   "source": [
    "grammar = nltk.CFG.fromstring(\"\"\"\n",
    "S -> NP VP\n",
    "PP -> P NP\n",
    "NP -> 'the' N | N PP | 'the' N PP\n",
    "VP -> V NP | V PP | V NP PP\n",
    "N -> 'cat'\n",
    "N -> 'dog'\n",
    "N -> 'rug'\n",
    "V -> 'chased'\n",
    "V -> 'sat'\n",
    "P -> 'in'\n",
    "P -> 'on'\n",
    "\"\"\")"
   ]
  },
  {
   "cell_type": "code",
   "execution_count": 230,
   "metadata": {
    "collapsed": false
   },
   "outputs": [
    {
     "name": "stdout",
     "output_type": "stream",
     "text": [
      "Parsing ['the', 'cat', 'chased', 'the', 'dog']\n",
      "\n",
      "(S (NP the (N cat)) (VP (V chased) (NP the (N dog))))\n",
      "\n",
      "Parsing ['the', 'cat', 'chased', 'the', 'dog', 'on', 'the', 'rug']\n",
      "\n",
      "(S\n",
      "  (NP the (N cat))\n",
      "  (VP (V chased) (NP the (N dog) (PP (P on) (NP the (N rug))))))\n",
      "(S\n",
      "  (NP the (N cat))\n",
      "  (VP (V chased) (NP the (N dog)) (PP (P on) (NP the (N rug)))))\n",
      "\n"
     ]
    }
   ],
   "source": [
    "from nltk.parse import RecursiveDescentParser \n",
    "\n",
    "rd = RecursiveDescentParser(grammar)\n",
    "sentence1 = 'the cat chased the dog'.split()\n",
    "sentence2 = 'the cat chased the dog on the rug'.split()\n",
    "for s in (sentence1, sentence2):\n",
    "    print \"Parsing %s\\n\" % s\n",
    "    for t in rd.parse(s):\n",
    "        print(t)\n",
    "    print "
   ]
  },
  {
   "cell_type": "code",
   "execution_count": 205,
   "metadata": {
    "collapsed": false
   },
   "outputs": [
    {
     "data": {
      "text/plain": [
       "['I', 'shot', 'an', 'elephant', 'in', 'my', 'pajamas']"
      ]
     },
     "execution_count": 205,
     "metadata": {},
     "output_type": "execute_result"
    }
   ],
   "source": []
  },
  {
   "cell_type": "code",
   "execution_count": null,
   "metadata": {
    "collapsed": true
   },
   "outputs": [],
   "source": []
  }
 ],
 "metadata": {
  "kernelspec": {
   "display_name": "Python 2",
   "language": "python",
   "name": "python2"
  },
  "language_info": {
   "codemirror_mode": {
    "name": "ipython",
    "version": 2
   },
   "file_extension": ".py",
   "mimetype": "text/x-python",
   "name": "python",
   "nbconvert_exporter": "python",
   "pygments_lexer": "ipython2",
   "version": "2.7.10"
  }
 },
 "nbformat": 4,
 "nbformat_minor": 0
}
