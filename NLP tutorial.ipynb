{
 "cells": [
  {
   "cell_type": "code",
   "execution_count": 3,
   "metadata": {
    "collapsed": false
   },
   "outputs": [
    {
     "name": "stdout",
     "output_type": "stream",
     "text": [
      "Populating the interactive namespace from numpy and matplotlib\n"
     ]
    }
   ],
   "source": [
    "%pylab inline\n",
    "import nltk"
   ]
  },
  {
   "cell_type": "markdown",
   "metadata": {},
   "source": [
    "## Procedural Versus Declarative Style\n",
    "### Procedural"
   ]
  },
  {
   "cell_type": "code",
   "execution_count": 2,
   "metadata": {
    "collapsed": false
   },
   "outputs": [
    {
     "name": "stdout",
     "output_type": "stream",
     "text": [
      "4.40154543827\n"
     ]
    }
   ],
   "source": [
    "tokens = nltk.corpus.brown.words(categories='news')\n",
    "count = 0\n",
    "total = 0\n",
    "for token in tokens:\n",
    "    count += 1\n",
    "    total += len(token)\n",
    "\n",
    "print total / (count * 1.0)"
   ]
  },
  {
   "cell_type": "code",
   "execution_count": 10,
   "metadata": {
    "collapsed": false
   },
   "outputs": [
    {
     "name": "stdout",
     "output_type": "stream",
     "text": [
      "unextinguishable\n"
     ]
    }
   ],
   "source": [
    "text = nltk.corpus.gutenberg.words('milton-paradise.txt')\n",
    "longest = ''\n",
    "for word in text:\n",
    "    if len(word) > len(longest):\n",
    "        longest = word\n",
    "print longest    "
   ]
  },
  {
   "cell_type": "code",
   "execution_count": 17,
   "metadata": {
    "collapsed": false
   },
   "outputs": [
    {
     "name": "stdout",
     "output_type": "stream",
     "text": [
      "[u'!', u'!', u'!', u'!', u'!', u'!', u'!', u'!', u'!', u'!', u'!', u'!', u'!', u'!', u'!', u'!', u'!', u'!', u'!', u'!', u'!', u'!', u'!', u'!', u'!', u'!', u'!', u'!', u'!', u'!', u'!', u'!', u'!', u'!', u'!', u'!', u'!', u'!', u'$1,000', u'$1,000', u'$10', u'$100', u\"''\", u\"''\", u\"''\", u\"''\", u\"''\", u\"''\", u\"''\", u\"''\", u\"''\", u\"''\", u\"''\", u\"''\", u\"''\", u\"''\", u\"''\", u\"''\", u\"''\", u\"''\", u\"''\", u\"''\", u\"''\", u\"''\", u\"''\", u\"Atlanta's\", u'County', u'Fulton', u'The']\n"
     ]
    }
   ],
   "source": [
    "word_list = []\n",
    "len_word_list = len(word_list)\n",
    "i = 0\n",
    "while i < len(tokens):\n",
    "    j = 0\n",
    "    while j < len_word_list and word_list[j] < tokens[i]:\n",
    "        i += 1\n",
    "    if j == 0 or tokens[i] != word_list[j]:\n",
    "        word_list.insert(j, tokens[i])\n",
    "        len_word_list += 1\n",
    "    i += 1\n",
    "\n",
    "print word_list"
   ]
  },
  {
   "cell_type": "markdown",
   "metadata": {},
   "source": [
    "### Declarative"
   ]
  },
  {
   "cell_type": "code",
   "execution_count": 7,
   "metadata": {
    "collapsed": false
   },
   "outputs": [
    {
     "name": "stdout",
     "output_type": "stream",
     "text": [
      "4.40154543827\n"
     ]
    }
   ],
   "source": [
    "total = sum(len(token) for token in tokens)\n",
    "print total / (len(tokens) * 1.0)"
   ]
  },
  {
   "cell_type": "code",
   "execution_count": 9,
   "metadata": {
    "collapsed": false
   },
   "outputs": [
    {
     "data": {
      "text/plain": [
       "[u'unextinguishable',\n",
       " u'transubstantiate',\n",
       " u'inextinguishable',\n",
       " u'incomprehensible']"
      ]
     },
     "execution_count": 9,
     "metadata": {},
     "output_type": "execute_result"
    }
   ],
   "source": [
    "maxlen = max(len(word) for word in text)\n",
    "[word for word in text if len(word) == maxlen]"
   ]
  },
  {
   "cell_type": "code",
   "execution_count": 18,
   "metadata": {
    "collapsed": false
   },
   "outputs": [
    {
     "name": "stdout",
     "output_type": "stream",
     "text": [
      "[u'!', u'$1', u'$1,000', u'$1,000,000,000', u'$1,500', u'$1,500,000', u'$1,600', u'$1,800', u'$1.1', u'$1.4', u'$1.5', u'$1.80', u'$10', u'$10,000', u'$10,000-per-year', u'$100', u'$100,000', u'$102,285,000', u'$109', u'$11.50', u'$115,000', u'$12', u'$12,192,865', u'$12,500', u'$12.50', u'$12.7', u'$120', u'$125', u'$135', u'$139.3', u'$14', u'$15', u'$15,000', u'$15,000,000', u'$150', u'$157,460', u'$16', u'$16,000', u'$17', u'$17,000', u'$17.8', u'$172,000', u'$172,400', u'$18', u'$18.2', u'$18.9', u'$2', u'$2,000', u'$2,170', u'$2,330,000', u'$2,700', u'$2.50', u'$2.80', u'$20', u'$20,000', u'$20,447,000', u'$200,000', u'$214', u'$22', u'$22.50', u'$2400', u'$25', u'$25,000', u'$25-a-plate', u'$250', u'$250,000', u'$251', u'$253,355,000', u'$26,000,000', u'$278,877,000', u'$28', u'$28,700,000', u'$29,000', u'$3', u'$3,500', u'$3,675', u'$3.5', u'$30', u'$300', u'$300,000,000', u'$3100', u'$32,000', u'$325', u'$344,000', u'$37', u'$37,500', u'$39,000', u'$39.5', u'$4', u'$4,177.37', u'$4,500', u'$4,700', u'$4,800', u'$40', u'$40,000', u'$40,000,000', u'$400', u'$43,000', u'$45', u'$450', u'$451,500', u'$457,000', u'$46.7', u'$47,101,000', u'$5', u'$5,000', u'$5,000,000', u'$5.2', u'$50', u'$50,000', u'$500', u'$5000', u'$52,500', u'$55,000', u'$57,500', u'$58,918', u'$581,000', u'$6,100,000,000', u'$60', u'$600', u'$634,517,000', u'$639', u'$65', u'$66,000', u'$67,000', u'$7,082', u'$7,500,000', u'$7.20', u'$70', u'$700', u'$740,000', u'$75', u'$754', u'$77,389,000', u'$8', u'$8,250', u'$8,555', u'$8.50', u'$80', u'$80,738', u'$800', u'$840,000', u'$842,617', u'$85', u'$88,000', u'$9', u'$9,841,000', u'$90', u'$900', u'&', u\"'\", u\"''\", u\"'20's\", u\"'40's\", u\"'49\", u\"'51\", u\"'52\", u\"'55\", u\"'em\", u'(', u')', u',', u'--', u'.', u'0', u'1', u'1%', u'1,000', u'1,065', u'1,119', u'1,212,000', u'1,253', u'1,257,700', u'1,400', u'1,509', u'1,512', u'1,700', u'1-0', u'1-1/2', u'1-1/2-story', u'1-3', u'1-inch', u'1.09.3', u'1.10.1', u'1.10.4', u'1.10.8', u'1.23', u'1.24', u'1.5', u'1.58', u'10', u'10%', u'10,000', u'10,000,000', u'10-hour', u\"10-o'clock\", u'10-team', u'10-year', u'10-year-old', u'100', u'100%', u'100,000', u'100-yard', u'1000', u'101b', u'102', u'1020', u'1044', u'108', u'10:30', u'10:45', u'10:50', u'10th', u'11', u'11,744', u'11-18', u'11-3', u'11-5', u'11-7', u'11-month-old', u'11-year', u'11-year-old', u'110', u'111', u'114', u'116', u'11:30', u'12', u'12,000', u'12-17', u'12-month', u'12-year-old', u'120', u'1200', u'121', u'1213', u'1213-15', u'1215', u'124', u'125,000', u'126', u'127', u'129%', u'12:01', u'12:50', u'12th', u'13', u'13%', u'13-1/2', u'13-5', u'13-8', u'13.5', u'130', u'130-year', u'1311', u'132,000', u'133', u'135', u'13th', u'14', u'14%', u'14-power', u'14-term', u'14.2', u'1409', u'142', u'145', u'145-pound', u'149', u'14th', u'15', u'15,000', u'15-1', u'15-hit', u'15-year-old', u'150', u'150,000,000', u'1500', u'154', u'155-yarder', u'1565', u'158-pounder', u'15th', u'16', u'16,000', u'16-22', u'16-year-old', u'160', u'160,000', u'1600', u'162', u'162-game', u'1630', u'165-unit', u'1671', u'1688', u'169', u'16th', u'17', u'17,000', u'17-1/2-inch', u'173', u'1733', u'174', u'175', u'1776', u'1792', u'18', u'18,792', u'180', u'180-degrees', u\"1800's\", u'182', u'1825', u'1834', u'185,000', u'1851', u'1859', u'186', u'1865', u'187-mile', u'187.5', u'1885', u'1886', u'189', u'1891', u'1896', u'1899', u'18th', u'19', u'19,000', u'19-12', u'1900', u\"1900's\", u'1908', u'1910', u'1910-14', u'1912', u'1913', u'1914', u'1917', u'1919', u'1920', u'1920s', u'1921', u'1922', u'1923', u'1924', u'1925', u'1926', u'1927', u'1928', u'1930', u'1930s', u'1932', u'1933', u'1934', u'1935', u'1937', u'1938', u'1940', u'1940s', u'1942', u'1943', u'1944', u'1945', u'1946', u'1947', u'1947-49', u'1948', u'1949', u'195', u'1950', u'1950s', u'1951', u'1952', u'1953', u'1954', u'1955', u'1956', u'1957', u'1958', u'1958-60', u'1959', u'1959-60', u'1960', u\"1960's\", u'1960-61', u'1960s', u'1961', u'1961-62', u'1962', u'1963', u'1964', u'1965', u'1966', u'1970', u'1970s', u'1971', u'1976', u'198', u'1981', u'1986', u'1991', u'19th', u'1:35', u'1:48', u'2', u'2%', u'2,100', u'2,418', u'2,700,877', u'2,963', u'2-1/2', u'2-3/4', u'2-and-2', u'2-baser', u'2-hour-and-27-minute', u'2-inch', u'2-over-par', u'2-run', u'2-score-year', u'2.21.6', u'2.295%', u'2.325%', u'2.5%', u'20', u'20%', u'20,000', u'20-piece', u'200', u'205-pound', u'206', u'208-pound', u'21', u'21-2', u'21-9', u'21-year', u'21-year-old', u'210', u'2100', u'211', u'213', u'214', u'215', u'21st', u'22', u'22-12', u'22-acre', u'22-year-old', u'220-yard', u'22111', u'224-170', u'225,000', u'2269', u'2274', u'228-229', u'229', u'23', u'23-year-old', u'237%', u'23d', u'24', u'24-inch', u'24-year-old', u'240', u'242%', u'2433', u'24th', u'25', u'25%', u'25,000', u'25,000,000', u'25,000-man', u'25-foot', u'25-footer', u'25-minute', u'250', u'250-275', u'2544', u'255', u'25th', u'26', u'26-year-old', u'260-member', u'27', u'27-year-old', u'2705', u'271', u'273', u'2731', u'28', u'280', u'280-yard', u'2809', u'281', u'2825', u'28th', u'29', u'29-5', u'29th', u'2:30', u'2d', u'2nd', u'3', u'3,000', u'3,325', u'3,399', u'3-0', u'3-10', u'3-5', u'3-game', u'3-hitter', u'3-inch', u'3-month', u'3-run', u'3-to-3', u'3-to-o', u'3-year-old', u'3.1', u'3.25', u'3.28', u'3.98', u'30', u'30,000', u'30,000,000', u'30-30', u'300', u'300,000', u'300-450', u'30th', u'31', u'31730', u'3181', u'31978', u'31st', u'32,000', u'32,589', u'3211', u'3247', u'325', u'33', u'33-man', u'330', u'3300', u'33d', u'34', u'34.7', u'340-blast', u'34220', u'343', u'35', u'350', u'3505o', u'354', u'355', u'357', u'36', u'36-year-old', u'361', u'3646', u'36th', u'37', u'37,000', u'37,679', u'37-year-old', u'375', u'38', u'38-7', u'38-point', u'380-foot', u'39', u'390-foot', u'3:30', u'3:57', u'3rd', u'4', u'4,441', u'4,500', u'4-0', u'4-1/2%', u'4-13', u'4-7/8', u'4-H', u'4-for-5', u'4-homer', u'4-under-par', u'4-year', u'4-year-old', u'4.4', u'40', u'40%', u'40-year-old', u'400', u'400,000,000', u'402', u'41', u'41-8', u'415', u'42', u'420', u'42d', u'43', u'44', u'44-year-old', u'447', u'45', u'45-degree', u'450', u'46', u'469', u'46th', u'47', u'48', u'480', u'49', u'4911', u'49ers', u'4:05', u'4:18', u'4:30', u'4th', u'5', u'5%', u'5,000', u'5-1', u'5-3', u'5-4', u'5-5', u'5-day', u'5-game', u'5-run', u'5-to-2', u'5-to-3', u'5.1', u'50', u'50%', u'50,000,000', u'50-year-old', u'500', u'5000', u'508-yard', u'50th', u'51', u'511', u'5155', u'51st', u'52', u'52-year', u'52-year-old', u'520-acre', u'53-year-old', u'54', u'540', u'543', u'545-yard', u'55', u'553', u'56', u'56-yard', u'57', u'5777', u'58', u'5835', u'5847', u'58th', u'59', u'5:30', u'6', u'6,000', u'6-12', u'6-3', u'6-3-3', u'6-5', u'6-6', u'6-7', u'6-foot', u'6-foot-10', u'6-foot-3-inch', u'6-ounce', u'6.5', u'60', u'60,000', u'60-day', u'60-inch', u'600-yard', u'61', u'6124', u'61st', u'62', u'62-year-old', u'63', u'637', u'64', u'64-cent', u'645-acre', u'646', u'65', u'65%', u'65,000', u'66', u'67', u'67-year-old', u'675', u'676', u'677', u'68', u'687.87', u'69', u'6934', u'695', u'6:15', u'6th', u'7', u'7,000', u'7-6', u'7-9', u'7-day', u'7.19', u'7.5', u'70', u'70,000', u'700', u'7026', u'7034', u'704', u'707', u'71', u'72', u'72-hole', u'72nd', u'73', u'734', u'74', u'75', u'75-minute', u'750', u'7599', u'75th', u'76', u'767', u'77', u'770', u'798', u'7:30', u'7:45', u'7A', u'8', u'8%', u'8,000', u'8,280', u'8,293', u'8-4', u'8-year-old', u'80', u'800', u'81', u'823', u'83', u'85', u'85-piece', u'85-student', u'86', u'869', u'87', u'87-1/2', u'87-31', u'87th', u'88', u'8861', u'8:30', u'8th', u'9', u'9,273', u'9-6', u'9-7', u'90', u'90%', u'90-day', u'900', u'900,000', u'900-student', u'92', u'923,076', u'9230', u'93', u'9329', u'949', u'95', u'96', u'963', u'99', u'9:30', u'9:40', u'9th', u':', u';', u'?', u'A', u\"A's\", u'A.', u'A.A.U.', u\"A.A.U.'s\", u'A.M.', u'A135', u'ADC', u'AF', u'AFL-CIO', u'AID', u\"AID's\", u'AM', u'AP', u'ARF', u'ASDIC', u'Aaron', u'Abatuno', u'Abbey', u'Abe', u'Abel', u'Abell', u'Abner', u'Abolition', u'About', u'Above', u'Abra', u'Abraham', u'Academy', u'Accardo', u'Accepted', u'Accounting', u'Ace', u'Achaeans', u\"Achaeans'\", u'Achievement', u'Acres', u'Act', u'Acting', u'Action', u'Actor-Crooner', u'Actress', u'Actually', u'Adair', u\"Adair's\", u'Adam', u'Adams', u'Adamson', u'Adcock', u'Add', u'Adequate', u'Aderholds', u'Adjusted', u'Adlai', u'Administration', u\"Administration's\", u'Administrative', u'Administrator', u'Admitting', u'Adnan', u'Advance', u'Adventures', u'Advisors', u'Advisory', u'Aeronautics', u'Affaire', u'Affairs', u'Africa', u'African', u'Afro-Cuban', u'After', u'Afterward', u'Afterwards', u'Again', u'Agencies', u'Agency', u'Aggies', u'Agriculture', u'Ah', u'Aid', u'Aiding', u'Aiken', u'Aikin', u'Ainsley', u'Ainsworth', u'Air', u'Aircraft', u\"Airline's\", u'Airlines', u'Airport', u'Aj', u'Al', u\"Al's\", u'Ala.', u'Alabama', u'Alan', u'Alba', u'Albacore', u'Albany', u'Albert', u'Alden', u'Aldo', u'Alex', u'Alexander', u'Alexandria', u'Alfred', u'Alice', u'All', u'Alla', u'Allan', u'Allegretti', u'Allen', u'Alliance', u'Allied', u'Allies', u'Allison', u\"Allison's\", u'Almost', u'Along', u'Alpha', u'Alpharetta', u'Already', u'Also', u'Alsop', u'Altar', u'Althaus', u'Although', u'Alto', u'Alton', u'Alusik', u\"Alusik's\", u'Alva', u'Alvin', u'Always', u'Amateur', u'Ambassador', u'Ambassador-designate', u'Ambulances', u'America', u\"America's\", u'American', u'Americana', u'Americans', u'Among', u'An', u'Anaconda', u'Analysts', u'Anatole', u'Ancient', u'And', u'Anderlini', u'Anderson', u\"Anderson's\", u'Andover', u'Andrew', u'Andy', u'Angel', u'Angeles', u\"Angeles'\", u'Angelico', u'Angelo', u'Angels', u'Angola', u'Anita', u'Ankara', u'Ann', u'Anna', u'Annamorena', u'Annapolis', u'Anne', u\"Anne's\", u'Anniston', u'Anniversary', u'Another', u'Anson', u'Answer', u'Anthony', u'Anti-Communist', u'Anticipated', u'Antone', u'Antonio', u'Any', u'Anyone', u'Anywhere', u'Aparicio', u'Apart', u'Apartment', u'Apartments', u'App', u'Apparently', u'Appeal', u'Appeals', u'Appointment', u'Appropriately', u'Appropriations', u'April', u'April-June', u'Aquinas', u'Arab', u'Arata', u'Archives', u'Arden', u'Are', u'Area', u'Arequipa', u'Arger', u'Ariz.', u'Arkansas', u\"Arkansas'\", u'Arlington', u'Armed', u'Armenian', u'Armisteads', u'Armond', u'Armory', u'Armour', u'Arms', u'Army', u\"Army's\", u'Arnold', u\"Arnold's\", u'Arranging', u'Arrington', u'Arrow', u'Arshinkoff', u'Art', u\"Art's\", u'Arthur', u'Artist', u'Arts', u'Arundel', u'Arvey', u'As', u'Ashman', u'Asia', u'Asian', u'Asilomar', u'Ask', u'Asked', u'Asks', u'Assemblies', u'Assembly', u'Assistant', u'Assisting', u'Assn.', u'Associated', u'Association', u'Associations', u'Assuming', u'At', u'Athlete', u'Athletic', u'Athletics', u'Atlanta', u\"Atlanta's\", u'Atlantic', u'Atlee', u'Attacks', u'Attendance', u'Attilio', u'Attitude', u'Attorney', u'Attorneys', u'Atty.', u'Atwells', u'Auburn', u'Auditorium', u'Audrey', u'Audubon', u'Aug.', u'August', u'Augusta', u\"Augusta's\", u'Augustine', u'Auntie', u'Aurora', u'Austin', u'Australia', u'Authenticated', u'Authority', u\"Authority's\", u'Av.', u'Ave.', u'Avenue', u'Averell', u'Avery', u'Avon', u'Award', u'B', u'B-52', u'B.', u'Babe', u'Bachelor', u'Back', u'Backs', u'Bad', u'Bahi', u'Bahia', u'Bailey', u'Baines', u'Baird', u'Bake', u'Bake-Off', u'Bake-off', u'Baker', u'Bal', u'Baldrige', u'Balenciaga', u'Bales', u'Bali', u'Balkan', u'Balkanize', u'Balkanizing', u'Ball', u'Ballet', u'Balloon', u'Ballroom', u'Baltimore', u\"Baltimore's\", u'Baltimorean', u'Band', u'Bandish', u'Bandstand', u'Bank', u'Bankers', u'Banks', u'Banner', u'Baptist', u'Bar', u'Baraclough', u'Barbara', u'Barber', u'Baringer', u'Barker', u'Barnard', u\"Barnard's\", u'Barnes', u'Barnet', u'Barnett', u'Barr', u'Barrett', u'Bartha', u'Baseball', u'Basel', u'Basic', u'Basin', u'Basketball', u'Bassi', u'Bassis', u'Batchelder', u'Baton', u'Battalion', u'Battle', u'Bay', u'Bay-front', u'Baylor', u\"Baylor's\", u'Bea', u'Beach', u'Beadle', u'Beadles', u\"Beadles'\", u'Beam', u'Beame', u\"Bear's\", u'Bearden', u'Beardens', u'Bears', u'Beat', u'Beatrice', u'Beaumont', u'Beauty', u'Beaverton', u'Because', u'Becket', u'Beesemyers', u'Before', u'Beginning', u'Behind', u'Being', u'Beirut', u'Bel-Air', u'Belafonte', u'Belanger', u'Belgian', u'Belgians', u'Bell', u'Belleville', u'Bellows', u'Bellwood', u'Belt', u'Belvidere', u'Beman', u'Ben', u'Benched', u'Bend', u'Beneficiary', u'Benington', u'Benjamin', u'Bennington', u'Berger', u\"Berger's\", u'Berlin', u\"Berlin's\", u'Bermuda', u\"Bernadine's\", u'Bernard', u'Bernardine', u'Bernet', u'Bernhard', u'Bernie', u'Beronio', u'Berra', u\"Berra's\", u'Berrellez', u'Berry', u\"Berry's\", u'Bert', u'Berteros', u'Bertoia', u'Berton', u'Bertorelli', u'Beryl', u'Besides', u'Bess', u'Besset', u'Bessie', u'Best', u'Bester', u'Bet', u'Betsy', u'Better', u'Between', u'Beverly', u'Bevo', u'Bexar', u'Beyeler', u'Beyond', u'Bianco', u'Bibb', u'Bible', u'Biblically', u'Bietnar', u'Big', u'Bill', u\"Bill's\", u'Billiken', u'Billikens', u'Bills', u'Billy', u'Bimini', u'Bingles', u'Bird', u'Birdie', u'Birds', u\"Birds'\", u'Birgit', u'Birmingham', u'Bishop', u'Bizerte', u'Blaber', u'Black', u'Blacks', u'Blaine', u'Blanchard', u\"Blanchard's\", u'Blanche', u'Blanton', u'Blasingame', u'Bldg.', u'Bleckley', u'Bloom', u'Blue', u'Bluebird', u'Blum', u'Blumberg', u'Blume', u'Blumenthal', u'Blvd.', u'Blyth', u'Board', u'Bob', u'Bobby', u'Boehmer', u'Boeing', u'Bolet', u'Bolker', u\"Bombers'\", u'Bonanza', u'Bond', u'Bonn', u'Bontempo', u'Book', u'Books', u'Bookwalter', u'Boonton', u'Boothby', u'Bootle', u\"Bootle's\", u'Bordeau', u'Border', u'Borland', u'Boston', u\"Boston's\", u'Both', u'Boucher', u'Boun', u'Bourcier', u'Bourguiba', u'Bouton', u'Bow', u'Bowden', u'Bowie', u'Bowl', u'Bowman', u'Box', u'Boxwood', u'Boy', u'Boyce', u'Boyd', u'Boyer', u'Boys', u'Bradford', u'Bradley', u'Brady', u'Brain', u'Branch', u'Brandeis', u'Brandenburg', u'Brandt', u'Branum', u'Braques', u\"Brassbound's\", u'Braun', u'Braves', u\"Braves'\", u'Break', u'Breakthrough', u'Breeding', u'Bregman', u'Brelin', u'Brett', u'Breuer', u'Brevard', u'Briar', u'Bricker', u'Brig.', u'Brigantine', u'Britain', u\"Britain's\", u'British', u'Broadly', u'Broadway', u'Brocklin', u\"Brocklin's\", u'Brod', u'Broeg', u'Broglio', u\"Broglio's\", u'Broncos', u'Broncs', u'Bronx', u'Brook', u'Brooklyn', u\"Brooklyn's\", u'Brooks', u\"Brooks's\", u\"Bros.'\", u'Brothers', u'Brown', u'Browning', u'Brownings', u'Bruce', u'Brussels', u'Bryan', u'Bryson', u'Buaford', u'Bubenik', u'Buchanan', u'Bucharest', u'Buchheister', u'Buck', u'Buckhead', u'Buckley', u'Bucks', u'Bucky', u'Bucs', u\"Bucs'\", u'Bud', u'Budapest', u'Buddy', u'Budgetary', u'Buell', u'Buffalo', u'Buick', u'Builders', u'Building', u'Bulloch', u'Bundle', u'Bundy', u'Burbank', u'Bureau', u'Burgess', u'Burgher', u'Burke', u'Burke-Rostagno', u'Burkes', u\"Burkes'\", u'Burnes', u'Burnside', u'Bursts', u'Busch', u'Bush', u'Business', u'Buster', u'But', u'Butcher', u'Butler', u'Butlers', u'By', u'By-passing', u'Byer-Rolnick', u'Byrd', u\"Byrd's\", u'Byron', u'C', u'C.', u'CBS', u'CD', u'COAHR', u'CTA', u'Cabana', u'Cabinet', u'Cable', u'Cabot', u'Cacophonist', u'Cadillac', u'Cadillacs', u'Caesar', u'Cafe', u'Cafeteria', u'Cain', u'Cal.', u'Caldwell', u\"Caldwell's\", u'Calif.', u'California', u'Callan', u'Called', u'Calling', u'Calls', u'Calmer', u'Caltech', u\"Caltech's\", u'Calude', u'Calvary', u'Cambridge', u'Camera', u'Camilla', u'Camille', u'Camilo', u'Camp', u'Campagnoli', u'Campaigning', u'Campbell', u'Campobello', u'Campus', u'Can', u\"Can't\", u'Canada', u\"Canada's\", u'Canadian', u'Canal', u'Cancer', u'Candlestick', u'Cannon', u'Cantonese', u'Cape', u'Capello', u'Capitalism', u'Capitol', u'Capt.', u'Captain', u'Carbones', u'Cardinal', u'Cardinals', u'Cards', u'Carey', u'Carl', u'Carla', u'Carlo', u'Carlson', u'Carmichael', u'Carmine', u'Carnegey', u'Carnegie', u'Carnival', u'Carol', u'Carolina', u'Caroline', u'Carolyn', u'Caron', u'Carpentier', u'Carr', u'Carre', u'Carrel', u'Carreon', u\"Carreon's\", u'Carroll', u'Carruthers', u'Carson', u'Carter', u'Carty', u'Casals', u'Casassa', u'Case', u\"Case's\", u'Casey', u'Cash', u'Casino', u'Castro', u\"Castro's\", u'Casualty', u'Catch', u'Catcher', u'Cater', u'Cathedral', u'Catholic', u'Catholics', u'Caucusing', u'Cauffman', u'Cavaliere', u'Cecil', u'Cecilia', u'Cedar', u'Cedric', u'Cedvet', u'Ceil', u'Celebration', u'Cemal', u'Cemetery', u'Cen-Tennial', u'Center', u\"Center's\", u'Central', u'Centredale', u'Century', u'Cerebral', u'Certain', u'Certainly', u'Cerv', u'Cervetto', u'Cezannes', u'Chairman', u'Chamber', u'Champion', u'Chance', u'Chancellor', u'Chandler', u'Change', u'Changes', u'Channel', u'Chantilly', u'Chapel', u'Chapelles', u'Chaplin', u'Chapman', u'Chapter', u'Chardon', u'Charge', u'Charges', u'Charitable', u'Charlayne', u'Charles', u'Charley', u'Charlie', u'Chase', u'Chases', u'Check', u'Chef', u'Chemical', u'Chen', u'Cheng', u'Cherry', u'Chesapeake', u'Cheshire', u'Chester', u'Chestnut', u'Chiang', u'Chicago', u\"Chicago's\", u'Chicken', u'Chico', u'Chief', u'Children', u'China', u\"China's\", u'Chinese', u\"Chip-o's\", u'Chips', u'Chisholm', u'Chiuchow', u'Choice', u'Christ', u'Christi', u'Christian', u'Christianity', u'Christine', u\"Christine's\", u'Christmas', u'Chromspun', u'Chronicle', u\"Chronicle's\", u'Chrysler', u'Chuck', u'Church', u'Churchill', u'Ciciulla', u'Cimoli', u'Cincinnati', u'Cinemactor', u\"Cipriani's\", u'Cir.', u'Circle', u'Circuit', u'Cites', u'Citizens', u'City', u'Civil', u'Claims', u'Clara', u'Clarence', u'Clark', u'Class', u'Class-D', u'Claude', u'Claus', u'Clay', u'Clayton', u'Cleaner', u'Clearwater', u'Clement', u'Clemente', u'Clements', u'Clerks', u'Cleveland', u'Cliff', u'Clifford', u'Clifton', u'Clint', u'Clinton', u'Clipper', u'Club', u\"Club's\", u'Clubs', u'Cluck', u'Clyde', u'Cmdr.', u'Co.', u'Coach', u'Coal', u'Coast', u'Cochran', u'Cocktail', u'Cocktails', u'Coconut', u'Cod', u'Cody', u'Coe', u'Cohen', u'Cohn', u'Col.', u'Colavito', u'Coleman', u'Coles', u'Coliseum', u'College', u'Collett', u'Collins', u\"Collins'\", u'Colmer', u\"Colmer's\", u'Cologne', u'Colonial', u'Colorado', u'Colorful', u'Colquitt', u'Columbia', u'Columbus', u'Columnist', u'Come', u'Comedian', u'Comic', u'Command', u'Commandeering', u'Commenting', u'Commerce', u'Commies', u'Commission', u'Commissioner', u\"Commissioner's\", u'Commissioners', u'Committee', u\"Committee's\", u'Committees', u'Common', u'Communism', u\"Communism's\", u'Communisn', u'Communist', u'Communist-led', u'Communists', u'Community', u'Company', u'Compare', u'Competent', u'Completing', u'Composite', u'Comus', u'Conant', u'Conceding', u'Concern', u'Concert', u'Concerts', u'Conductor', u'Confederacy', u'Conference', u'Conflict', u'Confronted', u'Confusion', u'Congo', u'Congolese', u'Congregation', u'Congress', u'Congresses', u'Congressional', u'Congressman', u'Conn.', u'Connall', u'Connecticut', u'Connection', u'Connelly', u'Connie', u'Conrad', u'Consequently', u'Conservation', u'Considering', u'Consolidated', u'Constant', u'Constantinos', u'Constitution', u'Construction', u'Consul', u'Consumer', u'Contemporary', u'Contempt', u'Continental', u'Contribution', u'Contributions', u'Control', u'Controller', u\"Controller's\", u'Convair', u'Convenience', u'Convention', u'Conversion', u'Cook', u'Cooke', u'Coolidge', u'Cooper', u'Cooperation', u'Cooperman', u'Coopers', u'Copeland', u'Copper', u'Coral', u'Corcoran', u'Corneilus', u'Cornell', u'Coronado', u'Corp.', u'Corporate', u'Corporation', u'Corps', u'Corpus', u'Correction', u'Corruption', u'Cost', u'Costs', u'Cotillion', u'Cott', u'Cotten', u\"Cotten's\", u'Cotton', u'Cotty', u'Could', u'Coulson', u'Council', u\"Council's\", u'Councilman', u'Councilwoman', u'Counties', u'Country', u'County', u\"County's\", u'Courbet', u'Course', u'Court', u'Courtney', u'Couturier', u'Couve', u'Cover', u'Coward', u'Cox', u'Craig', u'Cranston', u'Crawford', u'Creations', u'Crime', u'Criminal', u'Crippled', u'Cris', u'Crispin', u'Crosby', u'Cross', u'Crozier', u'Crumlish', u'Crump', u'Crunch', u'Crusade', u'Crystal', u'Ct.', u'Cuba', u\"Cuba's\", u'Cuban', u'Cuban-American', u'Cubans', u'Cubs', u'Cudmore', u'Culbertson', u'Culmone', u'Cumbancheros', u'Cup', u'Curie', u'Curry', u'Currys', u'Curtis', u'Cushman', u'Customary', u'Cutting', u'Cynthia', u'D', u\"D'Art\", u'D.', u'D.C.', u'Da', u'Dade', u\"Dade's\", u'Daily', u'Daley', u'Dallas', u'Dallas-based', u'Dallas-headquartered', u'Dalles', u'Damascus', u'Dame', u'Dan', u'Danbury', u'Dancers', u'Dane', u'Danger', u'Daniel', u\"Daniel's\", u'Danish', u'Dannehower', u'Danny', u\"Danny's\", u'Dark', u'Darlene', u'Darnell', u'Darrell', u'Darrow', u'Dave', u'Davenport', u'David', u\"David's\", u'Davidson', u'Davis', u'Dawson', u'Day', u'Days', u'De', u'DeCicco', u'DeForest', u'DeSoto', u'Deadlock', u'Deadly', u'Deaf', u'Dealer', u\"Dealers'\", u'Dean', u'Deane', u'Dearborn', u'Debate', u'Debutante', u'Dec.', u'Decathlon', u'December', u'Decisions', u'Decorating', u'Decorators', u'Decries', u'Dedication', u'Defends', u'Defense', u'Del', u'Delahanty', u'Delaney', u'Delaware', u'Delegates', u'Delhi', u'Delinquency', u'Deloris', u'Delray', u'Delta', u'Democrat', u'Democratic', u'Democratic-endorsed', u'Democratic-sponsored', u'Democrats', u'Denials', u'Dennis', u'Densmore', u'Denton', u'Denver', u\"Denver's\", u'Denver-area', u'Denverite', u'Department', u\"Department's\", u'Deputy', u'Dequindre', u'Desert', u'Design', u'Designs', u'Desmond', u'Despite', u'Detective', u'Detente', u'Detroit', u\"Detroit's\", u'Development', u'Developments', u'Dewey', u'Dey', u'Di', u'DiMaggio', u'DiSimone', u'DiVarco', u'Dick', u'Dicks', u'Dictator', u'Did', u'Diety', u'Dignity', u'Dillon', u'Dilworth', u'Dimaggio', u'Dining', u'Diocesan', u'Dior', u'Dip', u'Director', u'Dirksen', u'Disapproval', u'Disarmament', u'Displayed', u'Displaying', u'Dist.', u'Distributive', u'District', u'Districts', u'Ditmar', u'Diversified', u'Diving', u'Division', u'Dixiecrats', u'Djakarta', u'Do', u'Dobbins', u'Dobbs', u'Doctor', u'Doctors', u'Dodge', u'Dodger', u'Dodgers', u'Dolce', u'Dollar', u'Dominic', u'Don', u\"Don't\", u'Donald', u'Donnell', u'Donnelly', u'Dorenzo', u'Doris', u\"Doris'\", u'Dorsey', u'Double', u'Douglas', u'Dow', u'Down', u'Downtown', u'Doxiadis', u'Doyle', u'Dr.', u'Draper', u'Drawers', u'Dreadnought', u'Dreamboat', u'Dresbach', u\"Dresbach's\", u'Dresbachs', u\"Dresbachs'\", u'Drexel', u\"Drexel's\", u'Drinkhouse', u'Drive', u'Driver', u'Drs.', u'Drum', u'Drury', u'Du', u'Dublin', u'Dubois', u'Dubovskoi', u'Due', u'Duffy', u'Duhagon', u'Dukes', u'Dulles', u'Dumas', u'Dumont', u'Dunbar', u'Duncan', u'Dunkel', u'Dunlop', u'Dunn', u'Duque', u'Durante', u'Duren', u'During', u'Durocher', u'Durwood', u'Dussa', u'Dusseldorf', u'Dutch', u'Dwight', u'Dyer', u'E.', u'E.G.T.', u'E.O.', u'Each', u'Eagles', u'Earl', u'Earlier', u'Easier', u'East', u'East-West', u'Easter', u'Eastern', u'Eastland', u'Eastman', u'Eastwick', u'Eaton', u'Ebbetts', u'Economic', u'Economically', u'Ed', u'Eddie', u'Eddy', u'Edgar', u'Edgewater', u'Edith', u'Edna', u'Education', u'Edward', u'Edwards', u'Edwin', u'Egerton', u'Egypt', u'Ehlers', u'Eight', u'Eighteenth', u'Eighteenth-century', u'Eileen', u'Eire', u'Eisenhower', u\"Eisenhower's\", u'Ekberg', u'El', u'Elaine', u'Elburn', u'Elder', u'Eldon', u'Eleanor', u'Elected', u'Election', u'Electoral', u'Electra', u'Electric', u'Elementary', u'Elevated', u'Eligio', u'Elios', u'Elizabeth', u'Elks', u'Ella', u'Ellen', u'Elliott', u'Ellsworth', u'Ellwood', u'Elm', u'Elmer', u'Elsie', u'Elvis', u'Embassy', u'Emcee', u'Emerald', u'Emilio', u'Emma', u'Emmert', u'Emory', u\"Emperor's\", u'Empire', u'Employes', u'Encouraging', u'End', u'Enforce', u'Eng.', u'Engaging', u'England', u'England-born', u'English', u'Ennis', u'Enos', u'Enrique', u'Ensign', u'Episcopal', u'Eppler', u'Epsilon', u'Epstein', u'Equal', u'Equator', u'Equipment', u'Erection', u'Ernie', u'Ernst', u'Ervin', u'Escape', u\"Escape's\", u'Esnards', u'Espagnol', u'Essex', u'Esther', u'Estimates', u'Ethel', u'Eugene', u'Europe', u\"Europe's\", u'European', u'Eustis', u'Evans', u'Evanston', u'Eve', u'Evegeni', u'Evelyn', u'Even', u'Every', u'Everybody', u'Everything', u'Everywhere', u'Ex-Oriole', u'Examiner', u'Examiners', u'Except', u'Exchange', u'Exclaimed', u'Executive', u'Executives', u'Exhibition', u'Expect', u'Experts', u'Exploratory', u'Explosion', u'Exposition', u'Expresses', u'Expressions', u'Expressway', u'Expressways', u'Extend', u'Extension', u'External', u'F', u'F.', u'FBI', u'FFA', u'Fabian', u'Faced', u'Factories', u'Factory', u'Failure', u'Fair', u'Fairchild', u'Fairless', u'Fairy', u\"Falcons'\", u'Fall', u'Falls', u'Famed', u'Family', u'Fanning', u\"Fardulli's\", u'Fargo', u'Farley', u'Farm', u'Farmers', u'Farrell', u'Fashion', u'Fatima', u'Fazio', u'Fears', u'Feb.', u'February', u\"February's\", u'Federal', u'Federation', u'Feis', u'Felix', u'Fellini', u'Fellowship', u'Felske', u'Fenwick', u'Ferdinand', u'Ferdinando', u'Fergeson', u'Feringa', u'Fernberger', u'Ferris', u'Festival', u'Fiat', u'Fidel', u'Fiedler', u\"Fiedler's\", u'Field', u\"Field's\", u'Fields', u'Fifteen', u'Fifth', u'Fifty-three', u'Fighters', u'Figone', u'Fike', u'Fil', u'Finalists', u'Finally', u'Finan', u'Finance', u'Fine', u'Fingered', u'Fire', u'Fireside', u'Firm', u'First', u'Fisher', u'Fitzgerald', u'Fitzhugh', u'Five', u'Fla.', u'Flanagan', u'Flashed', u'Fleisher', u'Fletcher', u'Flight', u'Flip', u'Flock', u\"Flock's\", u'Florence', u'Floresville', u'Florida', u'Flower', u'Flowers', u'Flushing', u'Fogelson', u'Foil', u'Foliage', u'Folklore', u'Follow', u'Fonta', u'Food', u'Foods', u'Football', u'Footnotes', u'For', u\"Forbes's\", u'Force', u\"Force's\", u'Ford', u'Foreign', u'Forest', u'Forever', u'Formby', u\"Formby's\", u'Former', u'Formula', u'Forsyth', u'Forsythe', u'Fort', u'Forte', u'Fortier', u'Fortin', u'Foster', u'Foundation', u'Four', u'Fourteen', u'Foxx', u'Fra', u'France', u\"France's\", u'Frances', u'Francesca', u'Francis', u'Franciscans', u'Francisco', u\"Francisco's\", u'Frank', u'Frankford', u'Frankie', u'Franklin', u'Fred', u'Freddie', u'Frederic', u'Frederick', u'Freedom', u'Freeholder', u'Freeman', u'Freeport', u'Freida', u'French', u'French-born', u'Fresh', u'Frick', u'Friday', u\"Friday's\", u'Friend', u'Friends', u'Frito', u'Fritz', u'Frog-marched', u'From', u'Fruit', u'Fuchs', u'Fuhrmann', u\"Fuhrmann's\", u'Fulbright', u'Full', u'Fulton', u'Fund', u'Fundamental', u'Funds', u'Funeral', u'Fur', u\"Furhmann's\", u'Further', u'Future', u'G.', u'GA', u'GOP', u'Ga.', u'Gables', u'Gaines', u\"Gaines'\", u'Gainesville', u'Gaining', u'Gains', u'Gaither', u'Gala', u'Gallery', u\"Gallery's\", u'Gallup', u'Galt', u'Galveston', u'Games', u'Gamma', u'Gander', u'Gannon', u\"Gannon's\", u'Garden', u'Gardner', u\"Gardner's\", u'Garland', u'Garson', u'Gary', u'Garza', u'Gas', u'Gaston', u'Gate', u'Gateway', u'Gather', u'Gauer', u'Gay', u'Gaynor', u'Geddes', u'Gee', u\"Gee's\", u'Gehrig', u'Gen.', u'Gene', u'General', u'Generale', u'Generally', u'Geneticist', u'Geneva', u'Genevieve', u'Gentile', u'George', u'Georgetown', u'Georgia', u\"Georgia's\", u'Georgia-Pacific', u'Geraghty', u\"Geraghty's\", u\"Geraghtys'\", u'Gerald', u'Geraldine', u'German', u'Germania', u'Germany', u'Gerosa', u\"Gerosa's\", u'Get', u'Gets', u'Getting', u'Gettysburg', u'Gevurtz', u'Ghana', u'Ghormley', u'Giacometti', u'Giacomo', u'Giants', u\"Giants'\", u'Gibson', u'Gift', u'Gil', u'Gill', u'Gillis', u'Gilman', u'Gimbel', u'Gin', u'Ginghams', u\"Ginner's\", u'Ginning', u'Gino', u'Giorgio', u'Give', u'Given', u'Givers', u'Giving', u'Gladden', u\"Gladden's\", u'Glass', u'Glazer', u'Glen', u'Glenda', u'Glennon', u'Glimco', u\"Glimco's\", u'Glison', u'Globe-Democrat', u'Gloriana', u'Go', u'God', u'Gods', u'Godwin', u'Gogh', u'Gold', u'Goldberg', u'Golden', u'Goldwater', u'Golf', u\"Golf's\", u'Golfers', u'Gomez', u'Good', u'Goodbye', u'Goodis', u'Goodman', u'Gordin', u'Gordon', u\"Gordon's\", u'Gore', u\"Gore's\", u'Gorgeous', u'Gotham', u'Gould', u'Gov.', u'Government', u\"Government's\", u'Governments', u'Governor', u\"Governor's\", u'Grace', u'Gradual', u'Graduate', u'Grady', u'Graft', u'Graham', u'Grahamstown', u'Grand', u'Grandparents', u'Grant', u'Grapefruit', u'Gray', u'Grayson', u'Great', u'Greater', u'Greece', u'Greek', u'Green', u\"Green's\", u'Greenberg', u'Greene', u'Greenfield', u'Greenock', u'Greenville', u'Greenwich', u'Greenwood', u'Greer', u'Gregg', u'Gregorio', u'Gregory', u'Grenier', u'Grenoble', u'Gretchen', u'Greyhound', u'Griffin', u'Griffith-Jones', u'Grimm', u'Grinsfelder', u\"Grizzlies'\", u'Groat', u'Grocery', u'Grooms', u'Grossman', u'Grounds', u'Group', u'Grove', u'Grover', u'Grovers', u'Growth', u'Grzesiak', u'Guam', u'Guard', u'Guatemala', u'Guerin', u'Guest', u'Guests', u'Guglielmo', u'Guinea', u'Gulf', u\"Gulf's\", u'Gunther', u'Gursel', u'Gus', u'Guy', u'H.', u'Haaek', u'Haase', u'Habib', u'Hack', u'Hackett', u'Hackstaff', u'Had', u'Haddix', u'Hagner', u'Hail', u'Hal', u'Half', u'Halfback', u'Hall', u\"Hall's\", u'Halleck', u\"Hallowell's\", u'Hambric', u'Hamey', u'Hamilton', u'Hamm', u'Hammarskjold', u'Hammett', u'Hammond', u'Hammons', u'Hampton', u'Hand', u'Handicapped', u'Handsome', u'Hank', u'Hansen', u\"Hansen's\", u'Happy', u'Harbor', u'Harcourt', u'Hardwicke-Etter', u'Hardy', u'Hargett', u'Harlingen', u'Harmon', u'Harmony', u'Harold', u'Harriet', u'Harriman', u'Harris', u'Harrity', u'Harry', u'Hartford', u'Hartley', u'Hartman', u'Hartselle', u'Hartsfield', u'Hartweger', u'Harvard', u\"Harvard's\", u'Harvest', u'Harvester', u'Harvey', u'Harveys', u'Has', u'Haskins', u'Hat', u'Hatfield', u'Hatters', u'Havana', u'Havilland', u'Having', u'Hawaiian', u'Hawksley', u'Hayes', u'Haynes', u'Hays', u'Hayward', u'Hazard', u'He', u\"He'll\", u\"He's\", u'Headquarters', u'Health', u'Hearn', u'Heating', u'Heavy', u'Hector', u'Heideman', u'Heights', u'Heilman', u'Heinkel', u'Heinze', u'Heitschmidt', u'Held', u'Helen', u'Helene', u'Help', u'Helping', u'Hemphill', u'Hempstead', u'Hemus', u'Henderson', u'Hengesbach', u'Henri', u'Henry', u'Her', u'Herb', u'Herbert', u'Here', u\"Here's\", u'Heritage', u'Herman', u'Herridge', u'Herrington', u'Herter', u'Herzog', u'Hess', u'Hester', u'Hewlett-Woodmere', u'Heywood', u'Hickok', u'Hicks', u'High', u\"High's\", u'Higher', u'Highway', u'Hill', u'Hillcrest', u'Hills', u'Hillsboro', u'Hillsdale', u'Hilton', u'Hinckley', u'Hinsdale', u'Hinton', u'Hiring', u'His', u'Hit', u\"Hitler's\", u'Hitting', u'Hmpf', u'Hoak', u'Hoaps', u'Hobart', u'Hockaday', u'Hodges', u'Hodosh', u'Hoffa', u'Hogan', u'Holabird', u'Holbrook', u'Holders', u'Hole', u'Hollander', u'Hollowell', u'Hollywood', u\"Hollywood's\", u'Holman', u'Holmes', u'Holy', u'Home', u'Homeowners', u'Homer', u'Hong', u'Honolulu', u'Honor', u'Honors', u'Hood', u'Hooked', u'Hoover', u'Hope', u'Hopefully', u'Horace', u'Hord', u'Horstman', u'Horton', u'Hose', u'Hospital', u'Hotel', u'Houghton', u'Houk', u'Hours', u'House', u\"House's\", u'Housed', u'Housewives', u'Housing', u'Houston', u'Houtz', u'Hovarter', u'How', u'Howard', u'Howell', u'However', u'Howsam', u\"Howsam's\", u'Howser', u'Hoyt', u'Hubbell', u'Hubert', u\"Hubie's\", u'Huddle', u'Hudson', u'Huff', u\"Huff's\", u'Huffman', u'Hugh', u'Hughes', u\"Hughes'\", u'Human', u'Humphrey', u'Hungarian', u'Hunter', u'Huntington', u'Huntingtons', u'Huntley', u'Hurrah', u'Hurt', u'Hutchins', u\"Hutchins'\", u'Hyannis', u'Hyde', u\"Hyde's\", u'Hyndman', u'Hypocrisy', u'I', u\"I'd\", u\"I'll\", u\"I'm\", u\"I've\", u'I.', u'I.R.S.', u'ICC', u'Idaho', u'Idea', u'Idealist', u'Ideally', u\"Idols'\", u'Ierulli', u'If', u'Iglehart', u'Ignition', u'Ike', u'Ill.', u'Illinois', u'Illustrated', u'Ilona', u'Ilyushin', u'Immigration', u'Imperial', u'Implementation', u'Import', u'Important', u'In', u'Inaugural', u'Inauguration', u'Inc.', u'Incidentally', u'Incinerator', u'Increase', u'Increasing', u'Incumbent', u'Ind.', u'Indeed', u'Indemnity', u'Independent', u'India', u'Indian', u'Indiana', u'Indianapolis', u'Indians', u'Indicating', u'Indication', u'Indications', u'Individual', u'Indo-China', u'Indonesia', u'Industrial', u'Industries', u'Industry', u'Ingo', u'Inheriting', u'Initially', u'Inn', u'Inna', u'Innumerable', u'Inside', u'Insofar', u'Inspections', u'Instant', u'Instead', u'Institute', u'Insurance', u'Insuring', u'Inter-American', u'Interested', u'International', u'Interstate', u'Intervenes', u'Interviews', u'Into', u'Investigation', u'Investment', u'Investors', u'Invitation', u'Invitations', u'Iowa', u'Iran', u'Ireland', u'Irene', u'Irina', u'Irish', u'Irwin', u'Is', u'Isaac', u'Isaacson', u'Island', u\"Island's\", u'Islands', u'Isles', u'Isodine', u'Issue', u'It', u\"It'll\", u\"It's\", u'Italian', u'Italy', u\"Italy's\", u'Its', u'Ivan', u'Ivory', u'Izvestia', u'J.', u'JA', u'Jack', u'Jackie', u'Jackson', u'Jacksonville', u'Jacqueline', u'Jacques', u'Jail', u'Jamaica', u'Jamaican', u'James', u'Jan.', u'Jana', u'Jane', u'Janet', u'Janice', u'Jansen', u'Janssen', u'January', u'Japan', u'Japanese', u'Jaross', u'Jay', u'Jean', u'Jefferson', u'Jenkins', u\"Jenkins's\", u'Jenks', u'Jensen', u'Jeremiah', u'Jerome', u'Jerry', u'Jersey', u\"Jersey's\", u'Jessy', u'Jesus', u'Jewish', u'Jim', u'Jimmie', u'Jimmy', u'Joan', u'Joanne', u'Jock', u'Jockey', u'Jody', u'Joe', u'Joey', u'John', u\"John's\", u'Johnny', u'Johns', u'Johns-Manville', u'Johnson', u'Johnston', u'Jolly', u'Jon', u'Jones', u'Joplin', u'Jorda', u\"Jorda's\", u'Jordan', u'Jorge', u'Joseph', u'Jossy', u'Journal', u'Journal-American', u'Journal-Bulletin', u\"Journal-Bulletin's\", u'Joyce', u'Jr.', u\"Jr.'s\", u'Jude', u'Judge', u'Judith', u'Judson', u'Judy', u'Julian', u'July', u'Jump', u'June', u'Junior', u'Juras', u'Jurisdiction', u'Jury', u'Jussel', u'Just', u'Justice', u'Juvenile', u'K.', u'K.J.P.', u'KKK', u'KQED', u'Kader', u\"Kai-shek's\", u'Kaiser', u'Kalonji', u'Kamens', u'Kaminsky', u'Kan.', u'Kanin', u'Kankakee', u'Kans.', u'Kansas', u'Kaplan', u'Kapnek', u'Kappa', u'Karen', u'Karns', u\"Karns'\", u'Karol', u'Kas.', u'Kasai', u'Kasavubu', u'Katanga', u'Katherine', u'Kathleen', u'Kathy', u'Kaufnabb', u'Kawecki', u'Kay', u'Kedzie', u'Keegan', u'Keeler', u'Kegham', u'Keizer', u'Kel', u'Kelly', u'Kelsey', u'Kemm', u'Ken', u'Kenilworth', u'Kennedy', u\"Kennedy's\", u'Kenny', u'Kentfield', u'Kentucky', u'Kerby', u'Kercheval', u'Kern', u'Kerr', u'Kerrville', u'Kershbaum', u'Kestner', u'Khrush', u'Khrushchev', u\"Khrushchev's\", u'Kieffer', u'Kiefferm', u'Kika', u'Kilhour', u'Kililngsworth', u'Killebrew', u'Killingsworth', u'Kimbolton', u'Kimmell', u'Kimpton', u'King', u'Kings', u'Kiowa', u'Kira', u'Kirkland', u'Kirov', u\"Kirov's\", u'Kissak', u'Kittredge', u'Kivu', u'Kiwanis', u'Klan', u'Klaus', u'Klees', u'Klein', u'Kloman', u'Klux', u'Knauer', u'Knecht', u'Knickerbocker', u'Knight', u'Knights', u'Knoll', u'Knox', u'Kochanek', u'Kochaneks', u'Kolb', u'Kolpakova', u'Kong', u'Konstantin', u'Korman', u'Kowalski', u\"Kowalski's\", u\"Kramer's\", u'Kreisler', u'Kremlin', u'Kretchmer', u'Kriss', u'Kroger', u'Krogers', u\"Krogers'\", u'Ku', u'Kubek', u'Kunkel', u\"Kunkel's\", u'Ky.', u'L', u'L.', u'LSU', u'La', u'La.', u'LaSalle', u'Labor', u'Lacking', u'Lacy', u'Ladgham', u'Lady', u'Lafayette', u'Lafe', u'Laguna', u'Lake', u'Lamar', u'Lambert', u'Lancashire', u\"Landis'\", u'Landrum-Griffin', u'Lane', u'Lang', u'Langsdorf', u\"Lanin's\", u'Lao', u'Laos', u'Laotian', u'Laotians', u'Larimer', u'Larry', u'Larson', u'Las', u'Last', u'Later', u'Latin', u'Latinovich', u'Latter', u'Lauderdale', u'Laughlin', u'Lavaughn', u'Law', u'Lawford', u'Lawn', u'Lawrence', u'Lawrenceville', u'Lay', u'Le', u'Leader', u'Leaders', u'Leadership', u'Leading', u'League', u\"League's\", u'Leaguers', u'Leary', u'Leatherman', u'Leatherneck', u'Leave', u'Leavitt', u\"Leavitt's\", u'Led', u'Ledford', u'Ledge', u'Lee', u'Lefty', u'Legers', u'Legion', u'Legislative', u'Legislators', u'Legislature', u'Legislatures', u'Lehman', u'Lehner', u'Leighton', u'Leland', u'Lemon', u'Len', u'Leningrad', u'Lenny', u\"Lenobel's\", u'Lenygon', u\"Lenygon's\", u'Leo', u'Leon', u'Leonard', u'Leopold', u\"Leopold's\", u'Leopoldville', u'Leroy', u'Lester', u'Let', u'Letitia', u'Letters', u'Leukemia', u'Leverett', u'Levitt', u'Levittown', u'Lewelleyn', u'Lewis', u'Lex', u'Lexington', u'Liberal', u'Liberals', u'Librarians', u'Library', u'Licenses', u'Lichtenstein', u'Lieberman', u'Lien', u'Life', u'Ligget', u'Light', u'Like', u'Lilac', u'Lindy', u'Line', u'Lint', u'Liquor', u'Lisle', u'Liss', u'Listed', u'Liston', u'Little', u'Livermore', u'Lives', u'Living', u'Llewellyn', u'Lloyd', u'Loan', u'Local', u'Locked', u'Lockheed', u\"Lockheed's\", u'Lockies', u'Lodge', u'Loeb', u'Loen', u'Loewe', u'Logan', u'Lois', u'Lola', u'London', u'London-based', u'Long', u'Long-term', u'Longhorn', u'Longhorns', u'Longinotti', u'Lonsdale', u\"Lonsdale's\", u'Look', u'Loop', u'Loper', u'Lopez', u'Lorain', u'Lord', u'Lorenz', u'Lorlyn', u'Los', u'Lou', u'Louchheim', u'Louis', u\"Louis's\", u'Louise', u'Louisiana', u'Louisville', u'Lounge', u'Lovelace', u'Lovely', u'Lover', u'Lovett', u'Loving', u'Low-flying', u'Lowe', u\"Lowe's\", u'Lown', u'Lt.', u'Ltd.', u'Lubbock', u'Lucille', u'Lucy', u'Ludlow', u'Ludwick', u'Ludwig', u'Luechtefeld', u'Luette', u'Luis', u'Luise', u\"Luke's\", u'Lumia', u'Lummus', u'Lumpe', u'Lumumba', u\"Lumumba's\", u'Luther', u'Lutheran', u'Luthuli', u'Lyle', u'Lynn', u'Lyon', u'M', u'M.', u'MVP', u'Mac', u'MacDonald', u'MacGregors', u'MacPhail', u'MacWhorter', u'Macassar', u'Machinists', u'Mack', u'Mackey', u'Macon', u'Macwhyte', u'Madame', u'Madison', u'Madonna', u\"Maestro's\", u'Mag', u'Magarrell', u'Mail', u'Main', u'Maine', u'Maintenance', u'Majesties', u'Major', u'Major-League', u'Make', u'Mal', u'Malcolm', u'Mali', u'Mall', u'Malmud', u'Malone', u'Mame', u'Man', u'Mana', u'Manager', u'Managing', u'Mandarin', u'Manhattan', u'Manila', u'Mankowski', u'Manor', u'Mansion', u\"Mansion's\", u'Mantle', u\"Mantle's\", u'Manville', u'Many', u'Manzanola', u'Map', u'Maple', u'Maplecrest', u'Marc', u'March', u'Marcile', u'Marcus', u'Mardis', u'Marella', u'Margaret', u'Marie', u'Marietta', u'Marin', u'Marine', u'Marines', u'Maris', u\"Maris's\", u'Mark', u'Marketing', u'Maroy', u'Marr', u\"Marr's\", u'Marriage', u'Marshall', u'Marsicano', u'Marskmen', u'Martin', u'Martinelli', u'Martini', u'Marty', u'Marv', u'Marvin', u'Mary', u'Maryland', u\"Maryland's\", u'Mason', u'Masonic', u'Masons', u'Masque', u'Mass.', u'Massachusetts', u\"Massachusetts'\", u'Massey-Ferguson', u'Massimo', u'Master', u'Masters', u'Matching', u'Matisses', u'Mauch', u'Maureen', u'Maurice', u'Maurine', u'May', u'Maybe', u'Mayer', u'Mayfair', u'Maynard', u'Maynor', u'Mayor', u\"Mayor's\", u'Mayor-nominate', u'Mayoral', u'Mays', u\"Mays'\", u'Mazeroski', u'McAlester', u'McAlister', u'McAuliffe', u'McCauley', u'McClellan', u\"McClellan's\", u\"McCloy's\", u'McCluskey', u'McConnell', u\"McConnell's\", u'McCormick', u'McDaniel', u'McDermott', u'McEachern', u'McElvaney', u'McElyee', u'McFarland', u'McGehee', u'McGeorge', u'McIntosh', u'McIntyre', u'McKee', u'McLauchlin', u'McLemore', u'McN.', u'McNair', u'McNaughton', u'McNeil', u'McRoberts', u'Md.', u'Me', u'Mead', u'Meadow', u'Meanwhile', u'Mears', u'Measure', u'Medical', u'Mediterranean', u'Meek', u'Meet', u'Melcher', u'Mellow', u'Melvin', u'Members', u'Memorial', u'Memphis', u\"Men's\", u'Menderes', u'Menuhin', u'Mercer', u'Mercury', u'Mercy', u'Meredith', u'Merger', u'Merit', u'Merner', u'Merrill', u'Merritt', u'Mervin', u'Messrs', u'Messrs.', u'Met', u'Metal', u'Methodist', u'Metropolitan', u'Mets', u'Mexican', u'Mexico', u\"Mexico's\", u'Meyer', u'Meyers', u'Meyle', u'Meyner', u\"Meyner's\", u'Mfg.', u'Miami', u'Mich.', u'Michael', u'Michaels', u'Michaelson', u'Michigan', u'Mickey', u\"Mickey's\", u'Middle', u'Midway', u'Midwest', u'Mike', u'Mile', u'Milenoff', u'Miles', u'Military', u'Mill', u'Miller', u\"Miller's\", u'Millie', u'Mills', u\"Mills's\", u'Milt', u'Milties', u'Milton', u'Milwaukee', u\"Milwaukee's\", u'Mine', u'Mineral', u'Mining', u'Minister', u'Ministers', u'Miniver', u'Minneapolis', u'Minnesota', u\"Minnesota's\", u'Minnie', u'Minoso', u'Miss', u'Miss.', u'Misses', u'Missiles', u'Mission', u'Missionary', u'Mississippi', u\"Mississippi's\", u'Mississippians', u'Missoula', u'Missouri', u\"Missouri's\", u'Mister', u'Misunderstanding', u'Mitchell', u'Mizell', u'Mmes', u'Mmes.', u'Mo.', u'Mobutu', u'Models', u'Modern', u'Moffett', u'Mohammedanism', u'Moise', u'Molinari', u'Moller', u'Mollusks', u'Molly', u\"Molly's\", u'Molvar', u'Mom', u'Momentarily', u'Moments', u'Monday', u\"Monday's\", u'Monet', u'Money', u'Mongolia', u\"Mongolia's\", u'Monica', u'Monk', u'Monroe', u'Mont.', u'Monte', u'Montgomery', u'Monthly', u'Moody', u'Moore', u'More', u'Morehouse', u'Moreover', u'Morgan', u'Morgart', u'Moritz', u'Morley', u'Morocco', u'Morris', u'Morse', u'Mortar', u'Mortgage', u'Morton', u\"Morton's\", u'Moscone', u'Moscow', u'Moses', u'Moss', u'Most', u'Mostly', u'Motel', u'Mother', u'Motor', u'Motorists', u'Moulton', u'Moultons', u'Mound', u'Moune', u'Mount', u'Mountains', u'Mouse', u'Moving', u'Mr.', u'Mrs', u'Mrs.', u'Mt.', u'Much', u'Mullen', u'Mullenax', u'Mulligatawny', u'Multnomah', u'Muncipal', u'Munger', u'Munoz', u'Murphy', u'Murray', u'Murtaugh', u'Murville', u'Museum', u'Musial', u'Music', u'Musica', u\"Musician's\", u'Muskegon', u'Must', u'Mustang', u'Mustangs', u'Mutual', u'My', u'Myers', u'Myron', u'N.', u'N.C.', u'N.D.', u'N.J.', u'N.Y.', u'NATO', u\"NATO's\", u'NBC', u'NE', u'NLRB', u'NW', u'NYU', u'Nae', u'Nagle', u'Nairne', u'Nakoma', u'Nam', u'Named', u'Nancy', u'Nanook', u'Narragansett', u'Nassau', u'Natalie', u\"Nation's\", u'National', u'Nationalist', u'Nations', u'Natural', u'Naturally', u'Nautilus', u'Navigation', u'Navy', u\"Navy's\", u'Nazarene', u'Nazi', u'Neal', u'Nearly', u'Nebraska', u'Negro', u'Negroes', u'Nehf', u'Neighbor', u'Neil', u'Neiman-Marcus', u'Neither', u'Nell', u'Nelson', u'Nepal', u'Net', u'Neuberger', u'Neumann', u'Neusteter', u'Neusteters', u'Nev.', u'Nevada', u'Nevah', u'Neveh', u'Nevertheless', u'New', u'Newark', u'Newbold', u'Newburger', u'Newcomers', u'Newfoundland', u'Newman', u'Newport', u'Newport-based', u'News', u'Newsom', u'Newsweek', u'Newton', u'Newtown', u'Next', u'Nicholas', u'Nichols', u'Nick', u'Nicklaus', u'Nieman', u'Night', u'Nightingale', u'Nijinsky', u'Nikita', u'Nilsen', u'Nilsson', u'Nine', u'Ninth', u'Nischwitz', u\"Nischwitz'\", u'Niven', u'Nixon', u\"Nixon's\", u'Njust', u'No', u'No.', u'Nobel', u'Nobody', u\"Nobody's\", u'Noel', u'Nolan', u'None', u'Nonresidential', u'Nor', u'Nordmann', u'Norell', u'Nori', u'Norm', u'Norman', u'Norris-LaGuardia', u'Norristown', u'North', u'Northeast', u'Northern', u'Northwest', u'Northwestern', u'Norway', u'Not', u'Note', u'Noted', u'Nothing', u'Noting', u'Notre', u'Notte', u'Nov.', u'November', u'Novosibirsk', u'Now', u'Nugent', u\"Nugent's\", u'Nunes', u'Nursing', u'Nuttall', u'Nyberg', u'O', u\"O'Clock\", u\"O'Connor's\", u\"O'Hare\", u\"O'Neill\", u\"O'Sullivan\", u\"O's\", u'O-B', u'O.', u'OK', u'Oak', u'Oakland', u'Occasionally', u'Ocean', u'Oceania', u'Oct.', u'October', u'Oddly', u'Odell', u'Odom', u'Of', u'Offenses', u'Office', u'Officer', u\"Officers'\", u'Official', u'Officials', u'Ogden', u'Oh-the-pain-of-it', u'Ohio', u'Oil', u'Oilers', u'Okinawa', u'Okla.', u'Oklahoma', u\"Ol'\", u'Old', u'Oldsmobile', u'Olerichs', u'Olive', u'Oliver', u'Olivet', u'Olivetti', u'Olivia', u'Olney', u'Olsen', u'Olvey', u'Olympic', u'Omega', u'Omsk', u'On', u'Once', u'One', u'Only', u'Opelika', u'Open', u'Opera', u'Operating', u'Operation', u'Opponents', u'Opposition', u'Or', u'Orange', u'Orchestra', u'Orchestre', u'Orcutt', u'Order', u'Ordinarily', u'Ordinary', u'Ore.', u'Oregon', u'Organization', u'Oriental', u'Oriole', u'Orioles', u\"Orioles'\", u'Orkney', u'Orlando', u'Orleans', u'Oscar', u'Oslo', u'Other', u'Others', u'Otis', u'Oum', u'Our', u'Out', u'Outer', u'Outfielder', u'Outlays', u'Outside', u'Outstanding', u'Over', u'Owen', u'Owens', u\"Owl's\", u'Owls', u'Oxford', u'Oxnard', u'Ozzie', u'P.', u'P.M.', u'P.m.', u'PTC', u'Pa.', u'Pablo', u'Pabor', u'Pacific', u'Packers', u'Packs', u'Pact', u'Page', u'Paget', u'Paine', u'Pakistan', u'Pakistanis', u\"Pal's\", u'Palace', u'Palermo', u'Pall', u'Palm', u'Palmer', u\"Palmer's\", u'Palo', u'Palsy', u'Pamela', u'Pampa', u'Panama', u'Pankowski', u'Pantas', u'Papa', u'Pappas', u'Paradise', u'Paradoxically', u'Paree', u'Parents', u'Parichy', u'Parichy-Hamm', u'Paris', u'Park', u'Parker', u'Parkhouse', u'Parliament', u'Parmer', u'Parrillo', u'Parsons', u'Participants', u'Participating', u'Party', u\"Party's\", u'Pas', u'Pasadena', u'Paschal', u'Paschall', u'Paso', u'Passage', u'Passavant', u'Pat', u'Pate', u'Pathet', u'Patience', u'Patrice', u'Patricia', u\"Patrick's\", u'Patrol', u'Patrolman', u'Patrolmen', u'Patterson', u'Patti', u'Patty', u'Paul', u'Paul-Minneapolis', u'Paulah', u'Pauleys', u'Pavletich', u\"Pawtucket's\", u'Payson', u'Peace', u'Pearl', u'Pearson', u'Peck', u'Pecos', u'Peking', u'Pelham', u'Pen', u'Pennock', u'Pennsylvania', u'Pensacola', u'Pentagon', u\"Pentagon's\", u'People', u'Perasso', u'Perennian', u'Performers', u'Perhaps', u'Perkins', u'Perlman', u'Perry', u'Persian', u'Person', u'Persons', u'Peruvian', u'Pesce', u'Pete', u'Peter', u'Petersburg', u'Peterson', u'Petipa-Tschaikowsky', u'Petitions', u'Petrini', u'Pezza', u'Pfaff', u'Pfau', u'Pfc.', u'Pfohl', u'Pharmical', u'Phelan', u'Phil', u'Philadelphia', u\"Philadelphia's\", u'Philharmonique', u'Philip', u'Philippine', u'Phillies', u'Phillips', u'Philmont', u'Phoenix', u'Phouma', u\"Phouma's\", u'Phyfe', u'Phyllis', u'Physicians', u'Pi', u'Picasso', u'Piedmont', u'Pierce', u'Piero', u'Pierre', u'Piersee', u'Pierson', u'Pike', u'Pillsbury', u'Pilots', u'Pinar', u'Pinsk', u'Piraro', u'Pirate', u'Pirates', u\"Pirates'\", u'Pirie', u'Pitcher', u'Pitchers', u'Pittsboro', u'Pittsburgh', u'Place', u'Placentia', u'Plainfield', u'Plains', u'Plainview', u'Plan', u'Planning', u'Plant', u'Play', u'Playboy', u'Playboy-Show-Biz', u'Player', u\"Player's\", u'Players', u'Plaza', u'Plea', u'Pleas', u'Plee-Zing', u'Plus', u'Pohl', u\"Pohl's\", u'Pohly', u'Point', u'Polaris', u'Police', u'Policeman', u'Policemen', u'Policies', u'Political', u'Polls', u'Polo', u'Polytechnic', u'Pompano', u'Ponce', u'Pontiac', u\"Poor's\", u'Port', u'Porter', u'Porters', u'Portland', u\"Portland's\", u'Portugal', u'Portuguese', u'Possible', u'Post', u'Post-Dispatch', u'Potter', u'Powell', u'Pp.', u'Practice', u'Prairie', u'Pratt', u'Prattville', u'Pre-inaugural', u'Precise', u'Prejudice', u'Premier', u\"Prentice's\", u'Prentice-Hall', u'Presbyterian', u'Presbyterian-St.', u'Presently', u'President', u\"President's\", u'President-elect', u'Presidential', u'Presidents', u'Press', u'Pretty', u'Price', u'Priddy', u'Pride', u'Prince', u'Princes', u\"Princes'\", u'Princess', u'Princeton', u'Principal', u'Principals', u'Prior', u'Private', u'Privately', u'Prix', u'Prize', u'Probably', u'Proceeds', u'Producer', u'Productivity', u'Professional', u'Professors', u'Profili', u'Progress', u'Proof', u'Property', u'Prosecutor', u'Providence', u'Pualani', u'Public', u'Publique', u'Published', u'Publisher', u'Publishing', u'Puddingstone', u'Puerto', u'Pullen', u'Pulling', u'Pullings', u'Pumpkin', u'Purchasing', u\"Purdue's\", u'Purse', u'Put', u'Putt', u'Pye', u'Q.', u'Quaker', u'Quarterback', u'Queen', u'Queens', u'Quell', u'Question', u'Questions', u'Quincy', u'Quite', u'R', u\"R's\", u'R-Bergen', u'R-Cape', u'R-Warren', u'R.', u'R.L.', u'Rabb', u'Race', u'Rackmil', u'Racquet', u'Radio', u'Rae', u'Raesz', u'Rafer', u\"Raiders'\", u'Railroad', u'Railroads', u'Rainier', u'Ralph', u'Ramsey', u'Ranch', u'Randall', u'Random', u'Randy', u'Range', u'Ransom', u'Raoul', u\"Raphael's\", u'Ratcliff', u'Rather', u'Ratto', u'Ray', u'Rayburn', u\"Rayburn's\", u'Rayburn-Johnson', u'Raymond', u'Raymondville', u'Raymont', u'Rd.', u'Reaction', u'Read', u'Reading', u'Reama', u'Reared', u'Reconstruction', u'Recounting', u'Recovery', u'Red', u'Red-prone', u'Redbirds', u\"Redbirds'\", u'Redevelopment', u'Reds', u'Reed', u'Reeder', u'Reedville', u'Reese', u'Refuses', u'Regarding', u'Regional', u'Register', u'Registrations', u'Regrets', u'Reichenberg', u'Reid', u'Reifenrath', u'Reilly', u\"Reily's\", u'Relations', u'Relatively', u'Religious', u\"Rembrandt's\", u'Renaissance', u'Reno', u'Reno-Lake', u'Rensselaer', u'Rep.', u'Repertory', u'Report', u'Reports', u'Representative', u'Representatives', u'Reprisals', u'Reps.', u'Republic', u'Republican', u'Republican-controlled', u'Republicanism', u'Republicans', u\"Republicans'\", u'Reputedly', u'Requests', u'Research', u'Resentment', u'Reserve', u'Residential', u'Response', u'Restaurant', u'Result', u'Results', u'Retail', u'Returning', u'Rev.', u'Revenue', u'Revolutionary', u'Rex', u'Reyes', u'Reynolds', u'Rheims', u'Rhine-Westphalia', u'Rhode', u'Rhodes', u'Ricci', u'Rice', u'Richard', u'Richards', u'Richardson', u'Richey', u'Richmond', u'Richmond-Petersburg', u'Rickards', u'Rickenbaugh', u\"Rickey's\", u'Rickshaw', u'Rico', u'Rider', u'Riders', u'Ridge', u'Rights', u'Rimini', u'Rio', u'Rip', u'Ritchie', u'Rite', u'River', u'Riverside', u'Riverview', u'Riviera', u'Rizzuto', u'Road', u'Roads', u'Rob', u'Robbins', u'Robert', u'Roberts', u\"Roberts'\", u'Robertsons', u'Robinson', u\"Robinson's\", u'Robinsonville', u'Rochester', u'Rockhall', u'Rocky', u'Roger', u'Rogers', u'Roland', u'Rollie', u'Rolnick', u'Roman', u'Romans', u'Romantic', u'Rome', u'Ron', u'Ronald', u'Ronnie', u'Rookie', u'Room', u'Roommates', u'Roos', u'Roosevelt', u'Roquemore', u'Rosburg', u'Rose', u'Rosella', u'Rosemary', u'Rosen', u'Ross', u'Rostagno', u'Rostagnos', u'Rosy', u'Rotary', u'Rotelli', u'Rouge', u'Round', u'Rounded', u'Route', u'Row', u'Rowley', u'Roy', u'Royal', u'Rozelle', u'Rte.', u'Rudolph', u'Ruggiero', u'Ruiz', u'Rule', u'Rules', u'Ruling', u'Rum', u'Rumford', u'Rural', u'Rush', u'Rusk', u\"Rusk's\", u'Russ', u'Russell', u\"Russell's\", u'Russia', u\"Russia's\", u'Russian', u'Russians', u\"Russians'\", u'Rusty', u'Ruth', u\"Ruth's\", u'Rutherford', u'Rylie', u'Ryne', u'S', u'S.', u'S.C.', u'S.P.C.A.', u'SE', u'SEATO', u'SMU', u\"SMU's\", u'SW', u'SWC', u'Saba', u'Sabbath', u'Sabol', u'Sacramento', u'Sacrifices', u'Saga', u'Said', u'Salary', u'Saledo', u'Salem', u'Sales', u'Salinger', u'Salt', u'Salter', u'Saltonstall', u'Salvador', u'Salvation', u'Salvatore', u'Sam', u'Same', u'Samoa', u'Sample', u'Samuel', u'Samuels', u'San', u'SanAntonio', u'Sanctuary', u'Sandman', u'Sandra', u'Sands', u'Sanger-Harris', u'Sanitary', u'Sanitation', u'Santa', u\"Santa's\", u'Sapio', u'Sarasota', u'Sargent', u'Sarkees', u'Sarmi', u'Satterfield', u'Saturday', u\"Saturday's\", u'Saul', u'Savage', u'Savannah', u'Savings', u'Saxton', u'Scampini', u'Scarsdale', u'Scenic', u'Schaefer', u'Schenk', u'Scherer', u'Schley', u'Schmalzried', u'Schmidl-Seeberg', u'School', u'Schools', u'Schrunk', u'Schultz', u'Schuyler', u'Schwab', u'Schwartz', u'Schweitzer', u'Science', u'Sciences', u'Scolatti', u'Scores', u'Scotch', u'Scotch-Irish-Scandinavian', u'Scotchgard', u'Scotland', u'Scots', u'Scott', u'Scottish', u'Scrapiron', u'Screvane', u'Screw', u'Scripps', u'Sea', u'Seagoville', u'Searles', u'Sears', u'Seats', u'Seattle', u'Second', u'Secret', u'Secretariat', u'Secretary', u'Secretary-General', u'Secretary-designate', u'Section', u'Security', u'See', u'See-through', u'Seeking', u'Seekonk', u'Seeks', u'Seerey', u'Sees', u'Seidel', u'Self', u'Semenov', u'Seminole', u'Semmes', u'Sen.', u'Senate', u\"Senate's\", u'Senator', u'Senators', u'Send', u'Senese', u'Sens.', u'Sent', u'Sentry', u'Sept.', u'September', u'September-October', u'Sequoia', u'Series', u'Serra', u'Serve', u'Service', u'Services', u'Serving', u'Sethness', u'Seven', u'Seventeen', u'Several', u'Severna', u'Sexton', u'Shahn', u'Shamrock', u'Shantz', u'Shari', u'Sharkey', u'Sharon', u'Sharpe', u\"Shartzer's\", u'Shatilov', u'Shaw', u\"Shaw's\", u'Shay', u'She', u\"She'll\", u\"She's\", u'Shea', u\"Shea's\", u'Sheeran', u'Sheets', u'Sheila', u'Shelby', u'Sheldon', u'Sheraton-Biltmore', u'Sheraton-Dallas', u'Sheriff', u'Sherman', u'Sherwood', u'Shiflett', u'Shipley', u'Shipman', u'Shirley', u'Shoettle', u'Sholom', u'Shop', u\"Shop's\", u'Shopping', u'Shore', u'Shortcuts', u'Shortly', u'Shortstop', u'Should', u'Shoup', u'Show', u'Shreveport', u'Shrine', u'Shriver', u'Shrove', u'Siberia', u'Siciliana', u'Sid', u'Sidney', u'Siebern', u'Sievers', u'Sigma', u'Signal', u'Silvers', u'Similar', u'Simmons', u\"Simmons'\", u'Simmonsville', u'Simms', u'Simon', u'Simonelli', u'Simpkins', u'Simpson', u\"Simpson's\", u'Sims', u'Simultaneously', u'Sinatra', u'Since', u'Sinfonica', u'Singles', u'Sioux', u'Sir', u'Sisk', u'Sitting', u'Six', u'Sixth', u'Sixty-seven', u'Sizova', u'Skid', u'Skinner', u'Skinny', u'Skip', u'Skipjack', u\"Skipjack's\", u'Skorich', u'Skylark', u'Skyline', u'Skyway', u'Slack', u'Slate', u'Slaughter', u'Sleeping', u'Slenczynka', u'Slim', u'Slocum', u'Slow', u'Small', u'Smallwood', u'Smith', u\"Smith's\", u'Smith-Colmer', u'Smithfield', u'Smoky', u'Smythe', u'Snapped', u'Snead', u'Snellville', u'Snodgrass', u\"Snyder's\", u'So', u'Social', u'Socialist', u'Societe', u'Society', u'Socola', u'Sokol', u'Solicitor', u'Solid', u'Solly', u'Soloviev', u'Some', u'Somerset', u'Somerville', u'Something', u'Sometimes', u'Somewhere', u'Son', u'Song', u'Sons', u'Soon', u'Sopsaisana', u'Sorrentino', u'Soule', u'Souphanouvong', u'Sousa', u'South', u'Southeast', u'Southeastern', u'Southern', u'Southern-Republican', u'Southerner', u'Southerners', u'Southwest', u'Southwestern', u'Souvanna', u'Soviet', u'Sox', u'Space', u'Spahn', u\"Spahn's\", u'Spahnie', u'Spangled', u'Spanish', u'Spanish-born', u'Speaker', u\"Speaker's\", u'Speakers', u'Speaking', u'Special', u'Spice-Nice', u'Spikes', u'Split', u'Sports', u'Sportsman', u'Spot', u'Spring', u'Springfield', u'Springs', u'Sprinkel', u'Sprinkle', u'Spurdle', u'Squad', u'Square', u'Squeezed', u'Sr.', u'St.', u'Stacy', u'Stadium', u'Stafford', u'Stage', u'Stagecoach', u'Staiger', u'Stalingr', u'Stallard', u'Stalling', u'Stamford', u'Stan', u'Standard', u'Stanley', u'Stansbery', u'Stanton', u'Star', u'Stark', u'Stars', u'Starting', u'Starts', u'State', u'Statements', u'States', u\"States'\", u'Statesman', u'Station', u'Stay', u'Steak', u'Steel', u'Steelers', u'Steeves', u'Stein', u\"Stein's\", u'Stella', u'Stengel', u\"Stengel's\", u'Stennis', u'Stepanovich', u'Stephanie', u'Stephen', u\"Stephen's\", u'Stephenson', u'Stepson', u'Sterling', u'Stern', u'Stetson', u'Stetsons', u'Steve', u'Stevens', u\"Stevenses'\", u'Stevenson', u'Stewart', u'Stickler', u'Stickney', u'Still', u'Stirling', u'Stock', u'Stoll', u'Stone', u\"Stone's\", u'Stonestown', u'Story', u'Stout', u'Strafaci', u'Stram', u\"Stram's\", u'Stranahan', u'Strategic', u'Stratton', u'Street', u'Streeters', u'Streets', u'Strenuous', u'Stricken', u'Strickland', u'Strip', u'Stripes', u'Strong', u'Stuart', u'Student', u'Students', u'Studio', u'Study', u'Subsequent', u'Substance', u'Success', u'Successful', u'Such', u'Suddenly', u'Sudier', u'Sue', u'Sufficient', u'Sukarno', u'Sulcer', u'Sullivan', u'Sulphur', u'Sum', u'Summer', u'Summerdale', u'Sunay', u'Sunday', u\"Sunday's\", u'Sunman', u'Sunny', u'Sunnyvale', u'Sunrise', u'Sunset', u'Sunshine', u'Super', u'Superior', u'Supervisor', u'Supply', u'Supreme', u'Supt.', u'Surprised', u'Surrounding', u'Surveys', u'Survivors', u'Susan', u'Sustaining', u'Sutherland', u'Sweden', u'Sweet', u'Swelling', u'Swim', u'Swine', u'Swiss', u'Switzerland', u'Sybert', u'Sydney', u'Sylvania', u'Symington', u'Symonds', u'Symphony', u'Syria', u'System', u'T.', u'TCU', u\"TCU's\", u'TEA', u'TNT', u'TV', u'Tabb', u'Tactics', u'Taft-Hartley', u'Tahoe', u'Tailback', u'Take', u'Taking', u'Talking', u'Tallahassee', u'Tareytown', u'Tarrant', u'Tarzan', u'Task', u'Tau', u'Taussig', u'Tawes', u'Tax', u'Tax-free', u'Taxation', u'Taylor', u'Teachers', u'Teaching', u'Tearle', u'Tech', u\"Tech's\", u'Tech.', u'Technology', u'Ted', u'Tee', u'Teleprompter', u'Television-Electronics', u'Tell', u'Teller', u'Temple', u'Tenn.', u\"Tennessee's\", u'Tennis', u'Tension', u'Ter.', u'Terral', u'Terror', u'Terry', u'Testament', u'Testifies', u'Teter', u'Tex', u'Tex.', u'Texan', u'Texans', u'Texas', u\"Texas'\", u'Thailand', u'Thakhek', u'That', u\"That's\", u'The', u'Theater', u'Theatre', u'Their', u'Then', u'Theodore', u'Theology', u'There', u\"There's\", u'Thereafter', u'Therefore', u'These', u'Thesis', u'They', u\"They'll\", u\"They're\", u\"They've\", u'Thieves', u'Things', u'Third', u'Thirteen', u'Thirty-one', u'This', u'Thomas', u'Thompson', u'Thornton', u'Those', u'Though', u'Thousands', u'Threat', u'Three', u'Threshold', u'Thrift', u'Throneberry', u\"Throneberry's\", u'Through', u'Throw', u'Thru', u'Thrush', u'Thruston', u'Thurman', u'Thursday', u\"Thursday's\", u'Thus', u'Tiao', u'Tibetan', u'Tic-Tac-Toe', u'Ticker', u'Tieken', u'Tift', u'Tigard', u'Tim', u'Time', u'Times', u'Times-Picayune', u'Tims', u'Tipoff', u'Tires', u\"Titche's\", u'To', u'Today', u\"Today's\", u'Todd', u'Tokyo', u'Toll', u'Tom', u\"Tom's\", u'Tommie', u'Tommy', u'Toni', u'Tonight', u'Tony', u'Tooling', u'Toppers', u'Toronto', u'Total', u'Totaling', u'Tougas', u'Tournament', u'Tower', u'Town', u'Towne', u'Township', u'Toying', u'Toys', u'Track', u'Tractor', u'Trade', u'Trading', u'Traffic', u'Trager', u'Trail', u'Tranquility', u'Transportation', u'Transylvania', u'Trap', u'Traveler', u'Travelers', u'Traxel', u'Treadwell', u'Treasury', u'Treatment', u'Treaty', u'Tree', u'Trenton', u\"Tribe's\", u'Tribune', u'Trichieri', u'Trigg', u'Trimble', u'Trinity', u'Troop', u'Trooper', u'Troopers', u'Trophy', u'Tropic', u'Trouble-free', u'Troup', u'Troy', u'Truck', u'Truman', u'Trust', u'Trustee', u'Trustees', u'Tshombe', u'Tsitouris', u'Tualatin', u'Tuberculosis', u'Tucson', u'Tudor', u'Tuesday', u\"Tuesday's\", u'Tulane', u'Tulsa', u'Tune', u'Tunis', u'Tunisia', u'Tunisian', u'Tuohy', u'Turandot', u'Turin', u'Turk', u'Turkey', u'Turkish', u'Turner', u'Turnpike', u\"Tussard's\", u'Tuttle', u\"Tuttle's\", u'Twelve', u'Twenty-four', u'Twenty-one-year-old', u'Twins', u'Twist', u'Two', u'Tyler', u'Typical', u'Tyson', u'U-2', u'U-I', u'U.', u\"U.'s\", u'U.N.', u\"U.N.'s\", u'U.S.', u\"U.S.'s\", u\"U.S.S.R.'s\", u'UCLA', u'UGF', u'UN', u'UPI', u'US', u'USN.', u'USSR', u'Uhles', u'Ullman', u'Ultimately', u'Uncas', u'Uncle', u'Unconscionable', u'Under', u'Underlying', u'Underwood', u\"Underwood's\", u'Unfortunately', u'Union', u'Unit', u'United', u'Universal-International', u'University', u\"University's\", u'Unlike', u'Until', u'Urged', u'Uruguay', u'Use', u'Using', u'Usually', u'Utah', u'V-1', u'V.', u'Va.', u'Vacancy', u'Vagabonds', u'Vague', u'Valedictorian', u'Valerie', u'Valley', u'Valuable', u'Van', u'Vandiver', u'Varani', u'Various', u'Vast', u\"Veeck's\", u'Vegas', u'Venable', u'Venturi', u'Verboort', u'Vermeersch', u'Vermont', u'Vern', u'Vernava', u'Vernon', u'Vernor', u'Vero', u'Verrone', u'Verstandig', u'Very', u'Vic', u'Vice', u'Vice-President', u'Viceroy', u'Vickery', u'Vicky', u'Victim', u'Vienna', u'Vientiane', u'Viet', u'Vieth', u'Vietnam', u'Vietnamese', u'Vieux', u'View', u'Viewing', u'Vikings', u'Village', u'Vincent', u'Vinegar', u'Vinson', u'Virdon', u'Virgil', u'Virgin', u'Virginia', u'Virsaladze', u'Vita', u'Vital', u'Vivacious', u'Vivier', u'Vladilen', u'Vocational', u'Voiture', u'Volney', u'Volume', u'Voorhees', u'Voters', u'Vroman', u'W', u'W.', u\"W.'s\", u'W.M.', u'Wabash', u'Wacker', u\"Wackers'\", u'Wacklin', u'Waddell', u'Waggin', u'Wagner', u\"Wagner's\", u'Walbridge', u'Waldorf-Astoria', u'Wales', u'Walker', u'Walkers', u'Wall', u'Wallace', u'Wally', u'Walnut', u'Walsh', u'Walter', u'Walters', u'Wangemans', u'Wansley', u'War', u'Ward', u'Wards', u'Warren', u'Warwick', u'Wash.', u'Washington', u'Washington-Alexandria', u'Washington-Oregon', u'Water', u'Waters', u'Watson', u'Waveland', u'Waxworks', u'Way', u'Wayne', u'We', u\"We'd\", u\"We'll\", u\"We're\", u\"We've\", u'Wealth', u'Weatherford', u'Weaver', u'Webster', u'Wednesday', u\"Wednesday's\", u'Week', u'Weeks', u'Wegener', u'Weinberg', u'Weinstein', u\"Weinstein's\", u'Weissmuller', u'Welborn', u'Weldon', u'Welfare', u'Well-wishers', u'Wellesley', u'Wells', u'Wellsley', u'Wellsville', u'Welsh', u'Welton', u'Wendell', u'Wendells', u'Werner', u'Wert', u\"Wert's\", u'Wes', u'Wesley', u'West', u\"West's\", u'Western', u'Western-style', u'Westfield', u'Westinghouse', u'Westminster', u'Westphalia', u'Wexler', u'What', u\"What's\", u'Whatever', u'Whee', u'Wheel', u'Wheeler', u'Whelan', u'When', u'Where', u'Which', u'While', u'Whipple', u'White', u'Whitey', u'Whitfield', u'Whitney', u'Why', u'Wichita', u'Wick', u'Wide', u'Wilbur', u'Wild', u'Wilderness', u'Wiley', u'Wilhelm', u'Wilkinson', u'Willamette', u'Willard', u'Willett', u'William', u'Williams', u'Willie', u\"Willie's\", u'Willy', u'Wilmette', u'Wilmington', u'Wilshire', u'Wilson', u'Winchell', u'Winchester', u'Winds', u'Windsor', u'Wingback', u'Winnetka', u'Winston', u'Winthrop', u'Wise', u'Wish', u'Wissahickon', u'With', u'Within', u'Without', u'Wolcott', u'Wolverton', u\"Woman's\", u'Women', u\"Women's\", u'Woodland', u'Woodrow', u'Woodyard', u'Woonasquatucket', u'Word', u'Work', u'Workers', u'Works', u'Workshop', u'Workshops', u'World', u'Worrell', u'Worth', u'Would', u\"Wouldn't\", u'Wragge', u'Wright', u'Wrigley', u'Write', u'Writer', u'Writers', u\"Writers'\", u'Wyman', u'Wyoming', u'Ximenez-Vargas', u'Y-Teen', u'Y.', u'Yankee', u'Yankees', u\"Yankees'\", u'Yanks', u\"Yanks'\", u'Yards', u'Year', u\"Year's\", u'Yehudi', u'Yes', u'Yet', u'Yogi', u'Yokel', u'York', u\"York's\", u'York-Pennsylvania', u'You', u\"You'll\", u\"You're\", u'Young', u'Younger', u'Youngsters', u'Youth', u'Yuri', u'Zealand', u'Zebek', u'Zeising', u'Zimmerman', u'Zinman', u'Zoe', u'Zone', u'Zoning', u'Zubkovskaya', u'Zurcher', u'Zurich', u'``', u'a', u'a.m.', u'abandoned', u'abandonment', u'abide', u'abilities', u'ability', u'ablaze', u'able', u'aboard', u'abolish', u'abortive', u'about', u'above', u'abroad', u'abrupt', u'absence', u'absent', u'absolute', u'absolutely', u'absorb', u'absorbed', u'abstaining', u'abstention', u'abuse', u'abuses', u'acacia', u'academic', u'academies', u'accelerated', u'accent', u'accented', u'accept', u'acceptable', u'acceptance', u'accepted', u'accepting', u'access', u'accessories', u'accident', u'accidentally', u'acclaim', u'acclaimed', u'acclimatized', u'accommodated', u'accommodations', u'accomodations', u'accompanied', u'accompanying', u'accomplish', u'accomplished', u'accomplishment', u'accord', u'according', u'accordion', u'accosted', u'account', u'accounted', u'accounts', u'accredited', u'accumulation', u'accurate', u'accuse', u'accused', u'ace', u'achieve', u'achieved', u'achievement', u'achievements', u'achieves', u'aching', u'acid', u'acknowledge', u'acknowledged', u'acknowledgment', u'acquaint', u'acquaintance', u'acquire', u'acquired', u'acquisition', u'acquittal', u'acre', u'acreage', u'acres', u'acrobatic', u'across', u'act', u'acted', u'acting', u'action', u'actions', u'active', u'activities', u'activity', u'actors', u'actress', u'acts', u'actual', u'actually', u'acute', u'ad', u'adamant', u'adaptation', u'adapting', u'add', u'added', u'addicts', u'adding', u'addition', u'additional', u'address', u'addressed', u'addresses', u'addressing', u'adds', u'adept', u'adequate', u'adequately', u'adjoining', u'adjourned', u'adjourning', u'adjournment', u'adjust', u'adjusted', u'adjustment', u'adjustments', u'administered', u'administers', u'administration', u\"administration's\", u'administrative', u'administrator', u'administrators', u'adminstration', u'admired', u'admission', u'admit', u'admittance', u'admitted', u'admitting', u'adopt', u'adopted', u'adoption', u'adult', u'adults', u'advance', u'advanced', u'advances', u'advantage', u'advantages', u'adversaries', u'adversary', u'adverse', u'advertises', u'advertising', u'advertising-conscious', u'advice', u'advisability', u'advised', u'advisement', u'adviser', u'advisers', u'advisors', u'advisory', u'advocacy', u'advocate', u'advocating', u'aerial', u'aerials', u'aeronautical', u'affair', u'affairs', u'affect', u'affected', u'affects', u'affiliated', u'affiliations', u'affirmation', u'affixed', u'afford', u'afloat', u'aforementioned', u'afraid', u'aft', u'after', u'aftermath', u'afternoon', u'afternoons', u'again', u'against', u'age', u'aged', u'aged-care', u'agencies', u'agency', u'agenda', u'agent', u'agents', u'ages', u'aggravates', u'aggression', u'aggressive', u'aggressively', u'aggressiveness', u'agitating', u'ago', u'agonizing', u'agree', u'agreed', u'agreeing', u'agreement', u'agreements', u'agricultural', u'agriculture', u'ahead', u'aid', u'aid-to-education', u'aide', u'aided', u'aides', u'aiding', u'aids', u'ailerons', u'ailing', u'aimed', u'aiming', u'aims', u\"ain't\", u'air', u'air-conditioned', u'air-conditioning', u'aircraft', u'airfield', u'airlines', u'airplane', u'airport', u'airstrip', u'aisle', u'al', u'alarmingly', u'alcoholics', u'alert', u'alienated', u'alike', u'alive', u'all', u'all-American', u'all-automatic', u'all-county', u'all-important', u'all-out', u'all-round', u'all-time', u'all-woman', u'allegations', u'alleged', u'allegedly', u'alleging', u'allergic', u'alliance', u\"alliance's\", u'allied', u'allies', u'allocate', u'allocated', u'allocation', u'alloted', u'allotment', u'allotted', u'allotting', u'allow', u'allowance', u'allowances', u'allowed', u'allowing', u'allows', u'ally', u'almost', u'alone', u'along', u'alongside', u'aloud', u'already', u'also', u'alter', u'alterations', u'altered', u'alternate', u'alternative', u'alternatives', u'altho', u'although', u'altitude', u'always', u'am', u'amateur', u'amateurish', u'amazement', u'amazing', u'ambiguous', u'ambition', u'ambitious', u'ambled', u'ambulance', u'amend', u'amended', u'amending', u'amendment', u'amendments', u'amiable', u'amicable', u'amid', u'among', u'amount', u'amounted', u'amounts', u'ample', u'an', u'analysis', u'ancestor', u'ancient', u'and', u'anecdote', u'anemic', u'angry', u'animal', u'animals', u'animated', u'animism', u'ankle', u'ankles', u'anniversary', u'announce', u'announced', u'announcement', u'announcements', u'announcing', u'annual', u'annually', u'anomalies', u'anonymous', u'another', u\"another's\", u'answer', u'answerable', u'answered', u'ant', u'antagonism', u'antagonisms', u'ante', u'anti', u'anti-Colmer', u'anti-Kennedy', u'anti-Negro', u'anti-monopoly', u'anti-organization', u'anti-submarine', u'anti-trust', u'anticipated', u'antidote', u'antiquarians', u'antiques', u'ants', u'any', u'anybody', u'anymore', u'anyone', u'anything', u'anytime', u'anyway', u'anywhere', u'apart', u'apartment', u'apartment-building', u'apartments', u'apologetically', u'apparent', u'apparently', u'appeal', u'appealed', u'appealing', u'appeals', u'appear', u'appearance', u'appearances', u'appeared', u'appearing', u'appears', u'appeasement', u'applaud', u'applause', u'appliances', u'applicant', u'application', u'applications', u'applied', u'appliques', u'apply', u'applying', u'appoint', u'appointed', u'appointee', u'appointing', u'appointment', u'appointments', u'appraisal', u'appraisers', u'appreciate', u'appreciated', u'appreciation', u'apprentice', u'apprentices', u'approach', u'approached', u'approaching', u'appropriate', u'appropriation', u'appropriations', u'approval', u'approve', u'approved', u'approximately', u'apt', u'aptly', u'arc', u'archaeology', u'arched', u'arches', u'architect', u'architecture', u'ardor', u'are', u'area', u'areas', u\"aren't\", u'arenas', u'argue', u'argued', u'argument', u'arguments', u'arise', u'arises', u'arithmetical', u'arm', u'armchairs', u'armed', u\"armory's\", u'arms', u'army', u'arose', u'around', u'arouse', u'aroused', u'arrange', u'arranged', u'arrangement', u'arrangements', u'array', u'arrears', u'arrest', u'arrested', u'arrests', u'arrival', u'arrive', u'arrived', u'arson', u'art', u'article', u'artificial', u'artillery', u'artist', u'artistic', u'artists', u'arts', u'as', u'ashes', u'ashore', u'aside', u'ask', u'asked', u'asking', u'asks', u'aspect', u'aspects', u'assailant', u'assailed', u'assault', u'assaulted', u'assaulting', u'assaults', u'assemblage', u'assemble', u'assembled', u'assemblies', u'assembly', u'assent', u'asserted', u'assertion', u'assessment', u'assessments', u'assessors', u'asset', u'assets', u'assign', u'assigned', u'assignment', u'assignments', u'assist', u'assistance', u'assistant', u'assisted', u'assisting', u'associate', u'associated', u'associates', u'association', u\"association's\", u'assume', u'assumed', u'assumption', u'assure', u'assured', u'assuring', u'astray', u'at', u'at-bats', u'athlete', u\"athlete's\", u\"athletes'\", u'athletic', u'athletics', u'atmosphere', u'atom', u'atomic', u'attached', u'attachment', u'attack', u'attacked', u'attacking', u'attacks', u'attactive', u'attainment', u'attempt', u'attempted', u'attempting', u'attempts', u'attend', u'attendants', u'attended', u'attending', u'attends', u'attention', u'attire', u'attitude', u'attorney', u'attorneys', u'attract', u'attracted', u'attracting', u'attraction', u'attractive', u'attributable', u'attributed', u'audience', u'audio-visual', u'auditorium', u'augment', u'august', u'aunt', u'aunts', u'auspices', u'auspiciously', u'austere', u'author', u'authoritative', u'authorities', u'authority', u'authorize', u'authorized', u'authorizing', u'auto', u'automatic', u'automatically', u'automobile', u'autonomy', u'autumn', u'availability', u'available', u'avant', u'avenue', u'average', u'averages', u'averaging', u'avid', u'avidly', u'avoid', u'avoided', u'avoids', u'awaited', u'awaiting', u'awakening', u'award', u'awarded', u'awarding', u'awards', u'aware', u'awareness', u'away', u'awe', u'awed', u'awoke', u'axiomatic', u'aya', u'ayes', u'babies', u'baby', u'bachelor', u'back', u'backbone', u'backed', u'background', u'backgrounds', u'backs', u'bad', u'badly', u'bag', u'baggage', u'bags', u'bail', u'bake-offs', u'baked', u'baking', u'balance', u'balanced', u'balconies', u'balding', u'balking', u'ball', u'ball-carriers', u'ball-hawking', u'ballet', u'ballets', u'ballgowns', u'ballot', u'ballots', u'ballplayer', u'ballroom', u'balls', u'ban', u'band', u'bandit', u'bandstand', u'baneful', u'bang', u'banjo', u'bank', u'banked', u'banker', u'bankers', u'bankrupt', u'bankruptcy', u'banks', u'banned', u'banquet', u'bans', u'banshees', u'bar', u'barbecue', u'barber', u'barbs', u'bare', u'barely', u'bargain', u'bargaining', u'barge', u'barn', u'barrage', u'barred', u'barrel', u'barriers', u'bars', u'base', u'base-runner', u'base-stealing', u'baseball', u\"baseball's\", u'baseballight', u'baseballs', u'based', u'baseman', u'bases', u'basic', u'basically', u'basis', u'basketball', u'bass', u'bat', u'batch', u'bateau', u'bath', u'baton', u'bats', u'battalion', u'battalions', u'batted', u'batter', u'battered', u'batters', u'battery', u'batting', u'battle', u'battleground', u'battling', u'bay', u'bayonet', u'be', u'beach', u'beads', u'beaming', u'bean', u'bear', u'beardown', u'bearing', u'bearings', u'beat', u'beaten', u'beating', u'beatnik', u'beautiful', u'beautifully', u'beauty', u'became', u'because', u'become', u'becomes', u'becoming', u'bed', u'bed-time', u'bedridden', u'bedroom', u'bedrooms', u'beds', u'bedtime', u'beef', u'been', u'beer', u'before', u'began', u'beggar', u'begging', u'begin', u'beginning', u'begins', u'begun', u'behalf', u'behaving', u'behavior', u'behind', u'being', u'belated', u'belatedly', u'belief', u'beliefs', u'believe', u'believed', u'believes', u'believing', u'bellboys', u'belong', u'belonged', u'belonging', u'belongs', u'below', u'belt', u'belted', u'belting', u'bench', u'benches', u'beneath', u'beneficiaries', u'benefit', u'benefits', u'bent', u'beside', u'bespectacled', u'best', u'bestowal', u'bestowed', u'bet', u'better', u'betting', u'between', u'beyond', u'bicameral', u'bicycle-auto', u'bid', u'bids', u'biennial', u'big', u'big-league', u'bigger', u'biggest', u'bilateral', u'bill', u\"bill's\", u'billed', u'billing', u'billion', u'bills', u'binding', u'biography', u'biologist', u'biology', u'bipartisan', u'bird', u'birdie', u'birdied', u'birdies', u'birds', u'birth', u'birthday', u\"bishops'\", u'bit', u'bite', u'bites', u'bitter', u'biz', u'blabbed', u'black', u'blacked', u'blackmail', u'blackout', u'blades', u'blame', u'blamed', u'blast', u'blasted', u'blasting', u'blazing', u'bleacher-type', u'bleachers', u'bleak', u'blended', u'blind', u'bloc', u'block', u'blocked', u'blond', u'blonde', u'blood', u'bloodstream', u'blow', u'blows', u'bludgeon', u'blue', u'blue-uniformed', u'blueberries', u'bluebonnets', u'blueprints', u'blues', u'blundered', u'blunders', u'blunt', u'bluntly', u'blunts', u'board', u\"board's\", u'boarded', u'boarding', u'boards', u'boast', u'boasted', u'boasting', u'boatload', u'boats', u'bobbles', u'bobby-sox', u'bodice', u'bodies', u'bodily', u'body', u\"body's\", u'bogey', u'bogeyed', u'bogeys', u'boil', u'boiling', u'boils', u'boldly', u'boldness', u'bolted', u'bomb', u'bomber', u'bombers', u'bombing', u'bombs', u'bonanza', u'bond', u'bonding', u'bonds', u'bondsman', u'boobify', u'boogie', u'book', u'book-review', u'book-selection', u'bookcases', u'booked', u'bookkeeping', u'booklists', u'books', u'bookseller', u'boom', u'boomed', u'boos', u'boost', u'boosting', u'boosts', u'border', u'bordering', u'borders', u'bored', u'borer', u'born', u'borne', u'borrowed', u'borrower', u'borrowing', u'boss', u'bossman', u'both', u'bothered', u'bottled', u'bottleneck', u'bottling', u'bottom', u'bought', u'bounced', u'bouncy', u'bound', u'boundaries', u'bounded', u'bounds', u'bounty', u'bowed', u'bowl', u'bows', u'box', u'boxer', u'boxes', u'boxy', u'boy', u\"boy's\", u'boy-manager', u'boycott', u'boys', u'braced', u'brain', u'brainwashing', u'branch', u'branches', u'brand', u'breaching', u'bread', u'break', u'break-even', u'breakdown', u'breakfast', u'breaking', u'breakoff', u'breaks', u'breakups', u'breast', u'breasts', u'breathes', u'breed', u'brethren', u'bric-a-brac', u'brick', u'bridal', u'bride', u\"bride's\", u'bridegroom', u\"bridegroom's\", u'bridesmaids', u'bridge', u'bridges', u'brief', u'briefing', u'briefly', u'briefs', u'bright', u'brilliant', u'bring', u'bringing', u'brings', u'brink', u'brisk', u'briskly', u'broad', u'broadcast', u'broaden', u'broadened', u'brocade', u'broccoli', u'brochures', u'broke', u'broken', u'brokerage', u'brokers', u'bronzy-green-gold', u'brooding', u'brook', u'brother', u'brother-in-law', u'brotherly', u'brothers', u'brought', u'brown', u'bruises', u'brunches', u'brushed', u'brutality', u'bubble', u'bucked', u'buddies', u'buddy', u'budget', u'budgeted', u'budgets', u'buffet', u'buffets', u'build', u'build-up', u'builder', u'builders', u\"builders'\", u'building', u'buildings', u'built', u'builtin', u'bulge', u'bulk', u'bulky', u'bull', u'bull-necked', u\"bulletin'd\", u'bulletins', u'bulwark', u'bum', u'bumper', u'bunched', u'bundle', u'bundles', u'bunker', u'bunkered', u'bunt', u'bunter', u'bunters', u'burden', u'bureau', u'burglarproof', u'burglary', u'buried', u'burl', u'burned', u'burning', u'burns', u'burr', u'burrowed', u'burst', u'bus', u'buses', u'bushes', u'busied', u'business', u'businesses', u'businessman', u'businessmen', u'buss', u'bustling', u'busy', u'busy-work', u'but', u'butter', u'buy', u'buyers', u'buying', u'buys', u'by', u'by-laws', u'bypass', u'cab', u'cabinet', u'cabinetmakers', u'cabinets', u'cable', u'cabled', u'cadet', u'cafeteria', u'cafeterias', u'calamity', u'calculating', u'calendar', u'caliber', u'calico', u'call', u'called', u'calling', u'calls', u'calm', u'calmest', u'calypso', u'came', u'camera', u'cameras', u'camp', u'campaign', u'campaigned', u'campaigning', u'camping-out', u'camps', u'campus', u'can', u\"can't\", u'cancel', u'canceled', u'candid', u'candidacy', u'candidate', u'candidates', u'candidly', u'candle', u'candor', u'candy', u'cane', u'canned', u'cannibalistic', u'cannot', u'canted', u'canvas', u'canvass', u'canvassed', u'canvassers', u'cap', u'capabilities', u'capable', u'capacity', u'capers', u'capita', u'capital', u\"capital's\", u'capitalist', u'capitol', u'caps', u'capsule', u'captain', u'captivated', u'captivating', u'capture', u'captured', u'car', u\"car's\", u'caramel', u'carcass', u'card', u'cardiac', u'care', u'career', u'careers', u'careful', u'carefully', u'carpenters', u\"carpenters'\", u'carpet', u'carpeted', u'carpeting', u'carried', u'carriers', u'carries', u'carry', u'carrying', u'cars', u'cartels', u'carved', u'case', u'cases', u'cash', u'cashed', u'caskets', u'cast', u'casuals', u'catalogue', u'catapulted', u'catastrophe', u'catcher', u'catchers', u'catching', u'category', u'cats', u'caucus', u'caucuses', u'caught', u'cauliflower', u'cause', u'caused', u'causes', u'caution', u'cautioned', u'cautious', u'cease', u'cease-fire', u'ceased', u'celebrants', u'celebrate', u'celebrated', u'celebrates', u'celebrating', u'cell', u'cellar', u'cellist', u'cemetery', u'cent', u'center', u'centered', u'centers', u'central', u'centralization', u'centralized', u'cents', u'centuries', u'century', u'ceramic', u'cerebrated', u'ceremonial', u'ceremonies', u'ceremony', u'certain', u'certainly', u'certificate', u'certifying', u'chafing', u'chain', u'chains', u'chair', u'chairman', u'chairmanships', u'chairmen', u'chairs', u'chalk', u'challenge', u'challenged', u'challenger', u'challenges', u'challenging', u'chamber', u'chambers', u'champion', u'champions', u'championship', u'championships', u'champs', u'chance', u'chances', u'chandeliers', u'change', u'changed', u'changes', u'changing', u'channels', u'chaos', u'chaotic', u'chapel', u'chapter', u\"chapter's\", u'chapters', u'character', u'characteristic', u'characterized', u'characters', u'charge', u'charged', u'charges', u'charging', u'charities', u'charity', u'charm', u'charmed', u'charming', u'chart', u'charter', u'chartered', u'chase', u'chat', u'chatte', u'chatting', u'cheap', u'cheaper', u'check', u'checked', u'checks', u'cheer', u'cheery', u'chef', u'chemical', u'chemicals', u'chemise', u'chemistry', u'cherish', u'cherished', u'chest', u'chestnut', u'chests', u'chic', u'chicanery', u'chicken', u'chief', u'chiefly', u'chiefs', u'chien', u'child', u\"child's\", u'children', u\"children's\", u'chip', u'chipped', u'chocolate', u'choice', u'choices', u'choke', u'choking', u'choose', u'choosing', u'chopper', u'choppy', u'chops', u'chore', u'choreography', u'chores', u'chorus', u'chose', u'chosen', u'chow', u'chrome', u'chum', u'church', u\"church's\", u'church-state', u'churches', u'churchmen', u'cigaret', u'circulating', u'circulation', u'circumstances', u'circus', u'citation', u'cited', u'cities', u'citizen', u'citizenry', u'citizens', u'citizenship', u'city', u\"city's\", u'city-wide', u'civil', u'civilian', u'civilians', u'claim', u'claimed', u'claiming', u'claims', u'clamoring', u'clarification', u'clash', u'clashes', u'class', u'classed', u'classes', u'classic', u'classical', u'classics', u'classified', u'classmates', u'classroom', u'classrooms', u'clay', u'clay-mining', u'clean', u'cleaner', u'cleaners', u'cleaning', u'clear', u'clearance', u'cleared', u'clearing', u'clearly', u'clears', u'clerical', u'clerical-lay', u'clerk', u'clicked', u'client', u'clientele', u'clients', u\"clients'\", u'cliffhanging', u'climate', u'climaxed', u'climbed', u'climbing', u'clinic', u'cloakrooms', u'clobbers', u'clock', u'clocking', u'close', u'closed', u'closed-door', u'closely', u'closeness', u'closer', u'closest', u'closing', u'clothes', u'clothing', u'cloture', u'cloud', u'clouded', u'cloudless', u'clown', u'club', u\"club's\", u'clubhouse', u'clubs', u'clue', u'clustered', u'clusters', u'clutch', u'co-chairmen', u'co-educational', u'co-op', u'co-operation', u'co-operative', u'co-ops', u'co-ordination', u'co-signers', u'coach', u\"coach's\", u'coaches', u'coaching', u'coal', u'coalition', u'coast', u'coasted', u'coat', u'cobalt', u'cockpit', u'cocktail', u'cocky', u'coconut', u'code', u'codes', u'coeds', u'coercion', u'coffee', u'coincidence', u'coins', u'cold', u'cold-war', u'collaborated', u'collaborators', u'collapse', u'collapsed', u'colleagues', u'collect', u'collected', u'collecting', u'collection', u'collections', u'collective', u'collective-bargaining', u'collectors', u'collects', u'college', u'colleges', u'collegiate', u'collided', u'collision', u'collonaded', u'colonel', u'colonial', u'colonialism', u'colonialist', u'colonies', u'colony', u'color', u'colored', u'colorful', u'colors', u'colossus', u'colts', u'column', u'columnist', u'combat', u'combating', u'combination', u'combinations', u'combine', u'combined', u'combines', u'combining', u'combo', u'come', u'comeback', u'comedy', u'comes', u'comfort', u'comfortable', u'comforting', u'comic', u'coming', u'command', u'commandant', u'commander', u'commenced', u'commencing', u'commended', u'comment', u'commentator', u'commented', u'commenting', u'comments', u'commerce', u'commercial', u'commission', u\"commission's\", u'commissioner', u'commissioners', u'commit', u'commitment', u'commitments', u'committee', u\"committee's\", u'committees', u'committeewoman', u'commodities', u'commodity', u'common', u'communication', u'communications', u'communism', u'communist', u'communities', u'community', u'commuted', u'commuting', u'compact', u'compacts', u'companies', u'companion', u'companionship', u'company', u\"company's\", u'comparable', u'comparatively', u'compare', u'compared', u'comparison', u'compartment', u'compassion', u'compassionate', u'compel', u'compelled', u'compensated', u'compensation', u'compensations', u'compete', u'competed', u'competence', u'competing', u'competition', u'competitive', u'competitively', u'competitor', u'competitors', u'compiled', u'complacency', u'complained', u'complaining', u'complaint', u'complementary', u'complete', u'completed', u'completely', u'completes', u'completing', u'completion', u'completions', u'complex', u'complexity', u'complicated', u'complication', u'components', u'composed', u'composition', u'composure', u'comprehensive', u'comprise', u'comprised', u'compromise', u'compulsory', u'computed', u'computers', u'comradeship', u'con', u'concede', u'conceded', u'concentrate', u'concentration', u'concern', u'concerned', u'concerns', u'concert', u'concertmaster', u'concerts', u'concessionaires', u'concessions', u'conciliatory', u'concluded', u'conclusion', u'conclusions', u'concrete', u'condemned', u'condemning', u'condiments', u'condition', u'conditioned', u'conditions', u'conduct', u'conducted', u'conducting', u'conductor', u'conductors', u'conducts', u'conferees', u'conference', u\"conference's\", u'conferences', u'conferred', u'confessed', u'confessing', u'confession', u'confided', u'confidence', u'confident', u'confirm', u'confirmation', u'confirmed', u'confirming', u'conflict', u'conforms', u'confront', u'confrontation', u'confrontations', u'confronted', u'confronting', u'confronts', u'confusion', u'congealed', u'congenial', u'congestion', u'congratulated', u'congressional', u'congressmen', u'connect', u'connected', u'connection', u'connections', u'connotes', u'conpired', u'conquer', u'conscience', u'conscious', u'consecutive', u'consent', u'consequences', u'consequently', u'conservation', u'conservative', u'conservative-liberal', u'conservatives', u'conserve', u'consider', u'considerable', u'considerably', u'considered', u'considering', u'consisted', u'consistently', u'consisting', u'consists', u'consolidation', u'consonance', u'conspicuous', u'conspicuously', u'conspiracies', u'conspiracy', u'conspirators', u'conspired', u'constant', u'constantly', u'constituents', u'constituted', u'constitution', u'constitutional', u'constructing', u'construction', u'constructive', u'construed', u'consul', u'consulate', u'consult', u'consultant', u'consultation', u'consultations', u'consulted', u'consulting', u'consumed', u'consumer', u'consumers', u'contact', u'contacted', u'contain', u'contained', u'containing', u'contaminating', u'contemporary', u'contempt', u'contemptuous', u'contend', u'contended', u'contender', u'contendere', u'contented', u'contention', u'contest', u'contested', u'contests', u'continent', u'continents', u'contingency', u'contingent', u'continuance', u'continuation', u'continue', u'continued', u'continues', u'continuing', u'continuous', u'contract', u'contract-negotiation', u'contracted', u'contracting', u'contractor', u\"contractor's\", u'contractors', u'contracts', u'contractual', u'contrast', u'contrasting', u'contrasts', u'contribs', u'contributed', u'contributing', u'contribution', u'contributions', u'contributors', u'control', u'controlled', u'controllers', u'controlling', u'controls', u'controversial', u'controversy', u'convenience', u'convenient', u'convening', u'convention', u'conventional', u'conversation', u'conversations', u'conversion', u'conversions', u'convert', u'converted', u'convertible', u'converting', u'convey', u'convicted', u'conviction', u'convince', u'convinced', u'cook', u'cooked', u'cookie', u'cookies', u'cooking', u'cool', u'cooled', u'coolest', u'coolheaded', u'cooperate', u'cooperating', u'cooperation', u'cooperative', u'coordinate', u'coordinating', u'coordination', u'coordinator', u'cope', u'copies', u'coping', u'copper', u'copy', u'cordial', u'core', u'corn', u'corner', u'cornering', u'cornerstone', u'corporate', u'corporation', u'corporations', u'corps', u'correct', u'corrected', u'correctly', u'correctness', u'correlated', u'correspondence', u'correspondent', u'correspondents', u'corresponding', u'corrupt', u'corruption', u'cost', u'costlier', u'costly', u'costs', u'costumes', u'cotillion', u'cottage', u'cotton', u'cotton-growing', u'couch', u'could', u\"couldn't\", u'council', u\"council's\", u'councils', u'counsel', u'counseled', u'counseling', u'count', u'counted', u'countian', u'counties', u\"countin'\", u'counting', u'countless', u'countries', u'country', u\"country's\", u'counts', u'county', u\"county's\", u'county-wide', u'coup', u'couple', u'couples', u'courageous', u'course', u'courses', u'court', u\"court's\", u'court-appointed', u'court-length', u'courteous', u'courtly', u'courtroom', u'courts', u'cousin', u'cover', u'coverage', u'covered', u'covering', u'covers', u'coveted', u'cows', u'coyly', u'crabapple', u'crabs', u'crack', u'cracked', u'crackpots', u'craftsman', u'craftsmen', u'crash', u'crashed', u'crashes', u'craven', u'crazy', u'crazy-wonderful', u'cream', u'create', u'created', u'creating', u'creation', u'creations', u'creative', u'creator', u'creature', u'credit', u'creditable', u'credited', u'credits', u'creed', u'crew', u'crews', u'crime', u'criminal', u'criminals', u'crimson', u'crippled', u'crippling', u'crises', u'crisis', u'criteria', u'critic', u'critical', u'criticisms', u'criticized', u'critics', u'crop', u'crops', u'cross', u'cross-examination', u'cross-section', u'crossed', u'crossing', u'crossroads', u'crosswalk', u'crowd', u'crowding', u'crowds', u'crown', u'crowning', u'crowns', u'crucial', u'crucified', u'cruelty', u'crushed', u'crusher', u'crushing', u'cry', u'crypt', u'crystal', u'cubic', u'cufflinks', u'cuisine', u'culminates', u'culminating', u'culmination', u'culpas', u'cultural', u'culture', u'cumulative', u'cup', u'curator', u'curbing', u'curious', u'currency', u'current', u'currently', u'cursing', u'custodian', u'custom-design', u'customers', u'customs', u'cut', u'cut-off', u'cutback', u'cuts', u'cutting', u'cyclical', u\"d'etat\", u\"d'hotel\", u'daily', u'dais', u'damage', u'damaged', u'damages', u'dampened', u'dance', u'dancer', u'dancers', u'dances', u'dancing', u'danger', u'dangerous', u'dangerously', u'dangers', u'danseur', u'dapper', u'dares', u'daring', u'dark', u'dark-haired', u\"darlin'\", u'darling', u'dash', u'data', u'date', u'dated', u'dates', u'dating', u'daughter', u'daughters', u'dawn', u'day', u\"day's\", u'daylight', u'days', u'dazzler', u'de', u'dead', u'deadline', u'deadlock', u'deaf', u'deal', u'dealer', u'dealers', u'dealing', u'dealt', u'dean', u'death', u'debate', u'debates', u'debentures', u'debonair', u'debut', u'debutante', u'debuting', u'debuts', u'decade', u'decadence', u'decades', u'decency', u'decent', u'decertify', u'decide', u'decided', u'decides', u'decision', u'decision-making', u'decisions', u'decisive', u'declaration', u'declare', u'declared', u'declares', u'declaring', u'decline', u'declined', u'declines', u'decolletage', u'decor', u'decorate', u'decorating', u'decoration', u'decorations', u'decorative', u'decorator', u'decorators', u'decrease', u'decree', u'decreeing', u'decried', u'dedicated', u'dedication', u'deducted', u'deductibility', u'deductible', u'deduction', u'deductions', u'deed', u'deemed', u'deep', u'deeper', u'deeply', u'default', u'defaulted', u'defeat', u'defeated', u'defeats', u'defective', u'defend', u'defendant', u'defendants', u'defenders', u'defending', u'defends', u'defense', u'defensive', u'deferred', u'deficiencies', u'deficiency', u'deficit', u'define', u'definite', u'definitely', u'definition', u'definitive', u'defraud', u'defray', u'degree', u'delay', u'delayed', u'delegate', u'delegates', u'delegation', u'delegations', u'deliberate', u'deliberately', u'deliberation', u'deliberations', u'delicate', u'delight', u'delighted', u'delightful', u'delinquency', u'deliver', u'delivered', u'delivering', u'delivery', u'demand', u'demanded', u'demanding', u'demands', u'democracy', u'democratic', u'demolished', u'demonstrate', u'demonstrated', u'demonstration', u'denied', u'denomination', u\"denomination's\", u'denote', u'denounced', u'dense', u'density', u'dent', u'dental', u'denting', u'dentistry', u'denunciation', u'deny', u'denying', u'deodorant', u'departed', u'department', u'departments', u'departure', u'depend', u'depended', u'dependence', u'dependency', u'dependent', u'depending', u'depends', u'depletion', u'deplored', u'deposit', u'deposited', u'depositors', u'depreciation', u'depression', u'dept.', u'deputies', u'deputy', u'derive', u'derived', u'derives', u'dervishes', u'descendants', u'descent', u'described', u'describes', u'describing', u'description', u'desegregated', u'desegregation', u'desertion', u'deserts', u'deserves', u'design', u'design-conscious', u'designated', u'designed', u'designer', u'designers', u'designing', u'designs', u'desirable', u'desire', u'desired', u'desiring', u'desk', u'despair', u'desperate', u'despite', u'dessert', u'destined', u'destroy', u'destroyer', u'destroyers', u'destroying', u'detach', u'detachment', u'detail', u'detailed', u'details', u'detecting', u'detectives', u'detector', u'detente', u'detention', u'deteriorating', u'deterioration', u'determination', u'determine', u'determined', u'determining', u'deterrent', u'detested', u'detonation', u'detract', u'detriment', u'develop', u'developed', u'developing', u'development', u'developments', u'develops', u'device', u'devised', u'devote', u'devoted', u'devotion', u'diagnostic', u'dialects', u'diamond', u'diamond-studded', u'dichotomy', u'dictatorship', u'did', u\"didn't\", u'die', u'died', u'diehard', u'diem', u'dies', u'difference', u'different', u'differently', u'difficult', u'difficulties', u'difficulty', u'dignitaries', u'dignity', u'dilemma', u'dimension', u'dimes', u'diminutive', u'dining', u'dinner', u'dinners', u'diocesan', u'diplomacy', u'diplomat', u'diplomatic', u'diplomats', u'dipped', u'direct', u'directed', u'directing', u'direction', u'directions', u'directive', u'directly', u'director', u'directorate', u'directors', u'dirt', u'disability', u'disable', u'disabuse', u'disagreed', u'disagreement', u'disallowed', u'disappointing', u'disappointment', u'disappointments', u'disapproval', u'disapprove', u'disarmament', u'disaster', u'disbanded', u'disbelief', u'discarded', u'discharge', u'discharged', u'discharging', u'disclosed', u'disclosure', u'disclosures', u'discounts', u'discourage', u'discouraged', u'discover', u'discovered', u'discovering', u'discredit', u'discredited', u'discrepancies', u'discrepancy', u'discriminate', u'discriminating', u'discrimination', u'discriminatory', u'discuss', u'discussed', u'discussing', u'discussion', u'discussions', u'disgusted', u'dish', u'disharmony', u'disheartening', u'dishes', u'disillusioned', u'disinterested', u'dismal', u'dismiss', u'dismissal', u'dismissed', u'disparities', u'dispatched', u'dispatching', u'display', u'displayed', u'displaying', u'displays', u'disposal', u'disposed', u'disposition', u'disproportionate', u'dispute', u'disputes', u'disrepute', u'dissatisfaction', u'dissension', u'dissent', u'dissents', u'distance', u'distant', u'distasteful', u'distinction', u'distinctly', u'distinguished', u'distracted', u'distressing', u'distribute', u'distributed', u'distribution', u'distributions', u'district', u'districts', u'disturbance', u'disturbing', u'disunity', u'dive', u'diversified', u'divide', u'divided', u'dividend', u'dividends', u'dividing', u'diving', u'division', u'divorce', u'divorced', u'divulging', u'do', u'docile', u'doctor', u'doctors', u'documentary', u'documents', u'does', u\"doesn't\", u'dog', u'dogleg', u'dogs', u'doing', u'doings', u'doldrums', u'dole', u'dollar', u'dollars', u'domain', u'domestic', u'dominate', u'dominated', u'domination', u\"don't\", u'donated', u'donations', u'done', u'donor', u'door', u'door-fronted', u'door-to-door', u'doorman', u'doormen', u'doors', u'doorstep', u'dormitories', u'dot', u'dots', u'double', u'double-bogeyed', u'double-crosser', u'double-header', u'doubled', u'doubleheader', u'doubles', u'doubling', u'doubly', u'doubt', u'doubted', u'doubtful', u'doubtless', u'dough', u'dour', u'down', u'down-payments', u'down-to-earth', u'downed', u'downhill', u'downstairs', u'downstream', u'downtown', u'downtrodden', u'dozen', u'dozens', u'drab', u'draft', u'drafted', u'drafts', u'dragged', u'dragging', u'dragnet', u'drain', u'drama', u'dramatic', u'drank', u'drastic', u'draught', u'draw', u'drawing', u'drawings', u'drawn', u'dread', u'dreadful', u'dreamed', u'dreams', u'dress', u'dressers', u'drew', u'driers', u'drifting', u'drifts', u'drill', u'drive', u'drive-in', u'driven', u'driver', u'drivers', u\"drivers'\", u'drives', u'driveway', u'driving', u'drizzly', u'drop', u'dropped', u'dropping', u'drops', u'drought-seared', u'drove', u'drum', u'drums', u'drunk', u'drying', u'dud', u'due', u'duel', u'duels', u'duffer', u'duffers', u'dug', u'dull', u'dullest', u'dumb', u'dumping', u'duplicated', u'duplication', u'durable', u'duress', u'during', u'dust', u'duties', u'dutifully', u'duty', u'dwellings', u'dwindled', u'dying', u'dynamic', u'dynamite', u'dynamo', u'e.g.', u'each', u'eager', u'earlier', u'earliest', u'early', u'early-season', u'earn', u'earned', u'earned-run', u'earnest', u'earning', u'earnings', u'earns', u'earrings', u'ears', u'earth', u\"earth's\", u'ease', u'eased', u'easier', u'easily', u'east', u'easy', u'easy-to-reach', u'eat', u'eating', u'ebony', u'eccentricity', u'echoes', u'economic', u'economically', u'economics', u'economist', u'economists', u'economize', u'economy', u'edge', u'edged', u'edges', u'edging', u'editing', u'edition', u'editor', u'educated', u'education', u'educational', u'educators', u'effect', u'effected', u'effective', u'effectively', u'effectiveness', u'effects', u'efficiency', u'efficient', u'efficiently', u'effort', u'efforts', u'eggs', u'eggshell', u'eight', u'eight-year', u'eighteen', u'eighteenth-', u'eighth', u'either', u'eject', u'elaborate', u'elder', u'elderly', u'elect', u'elected', u'election', u'elections', u'electors', u'electric', u'electrical', u'electricity', u'electronic', u'elegant', u'element', u'elementary', u'elements', u'elephants', u'elevated', u'eleven', u'eleventh', u'eligible', u'eliminate', u'eliminates', u'eliminating', u'elite', u'else', u\"else's\", u'elsewhere', u'eluded', u'emasculated', u'embankment', u'embargo', u'embarrassing', u'embassies', u'embassy', u'embedded', u'embezzlement', u'embezzling', u'embossed', u'embroidered', u'emerge', u'emergency', u'emerges', u'eminent', u'emissaries', u'emissary', u'emotion', u'emotionally', u'emphasis', u'emphasize', u'emphasized', u'emphasizes', u'emphasizing', u'empires', u'employ', u'employed', u'employee', u'employees', u'employer', u'employers', u\"employers'\", u'employes', u'employment', u'employments', u'employs', u'en', u'enabled', u'enables', u'enabling', u'enact', u'enacted', u'enacting', u'enactment', u'enchantment', u'encounter', u'encounters', u'encourage', u'encouraged', u'encouragement', u'encouraging', u'end', u'endangering', u'endeared', u'ended', u'ending', u'endorse', u'endorsed', u'endowment', u'endowments', u'ends', u'endurance', u'endure', u'enemies', u'enemy', u'energy', u'enforce', u'enforced', u'enforcement', u'enforcers', u'enforcing', u'engage', u'engaged', u'engagement', u'engagements', u'engaging', u'engine', u'engineer', u'engineering', u'engineers', u\"engineers'\", u'engines', u'engrossed', u'engulfed', u'enigma', u'enjoy', u'enjoyed', u'enjoys', u'enlarge', u'enlarged', u'enlarging', u'enlisted', u'enlivened', u'enmity', u'enormous', u'enough', u'enriching', u'enrollment', u'enrollments', u'ensconced', u'ensembles', u'ensued', u'entail', u'entails', u'enter', u'entered', u'entering', u'enterprise', u'enterprises', u'enterprisingly', u'entertain', u'entertained', u'entertainers', u'entertaining', u'entertainment', u'enthralled', u'enthralling', u'enthusiasm', u'enthusiastic', u'entire', u'entirely', u'entirety', u'entities', u'entitled', u'entomologist', u'entourage', u'entrance', u'entrant', u'entries', u'entry', u'enunciate', u'envisaged', u'envision', u'envisioned', u'epicure', u'episode', u'episodes', u'equal', u'equality', u'equalizers', u'equally', u'equation', u'equatorial', u'equipment', u'equipped', u'equitable', u'equivalent', u'era', u'eradication', u'erase', u'erasing', u'erected', u'erratic', u'erred', u'erroneous', u'erroneously', u'error', u'errors', u'errs', u'ersatz', u'erupted', u'erupts', u'escape', u'escaped', u'escaping', u'escheat', u'escort', u'especially', u'esplanade', u'esprit', u'essence', u'essential', u'essentially', u'establish', u'established', u'establishing', u'establishment', u'estate', u'estimate', u'estimated', u'estimates', u'et', u'etc.', u'ethical', u'ethics', u'ethnic', u'eulogized', u'eulogizers', u'eva', u'evacuate', u'evacuation', u'evaluate', u'evaluating', u'evasive', u'eve', u'even', u'evening', u'evenings', u'event', u'events', u'eventual', u'eventually', u'ever', u'ever-changing', u'ever-present', u'every', u'everybody', u'everyday', u'everyone', u'everything', u'evidence', u'evidently', u'evil', u'evoked', u'evolutionary', u'ex-Mrs.', u'ex-National', u'ex-Yankee', u'ex-convict', u'ex-gambler', u'ex-marine', u'ex-schoolteacher', u'ex-singer', u'exacerbated', u'exact', u'exactly', u'exaggerate', u'exaggerated', u'exaggeration', u'exaltation', u'examine', u'examined', u'examiner', u'example', u'exasperated', u'excavation', u'exceed', u'excellence', u'excellent', u'except', u'exception', u'exceptionally', u'exceptions', u'excess', u'excessive', u'exchange', u'exchanged', u'exchanges', u'excise', u'excite', u'excitement', u'exciting', u'excluding', u'exclusive', u'exclusively', u'excused', u'excuses', u'exec', u'execute', u'executed', u'executions', u'executive', u'executives', u'exempt', u'exemption', u'exercise', u'exert', u'exhaust', u'exhibit', u'exhibited', u'exhibition', u'exhibitors', u'exile', u'exist', u'existed', u'existence', u'existing', u'exotic', u'expand', u'expanded', u'expanding', u'expansion', u'expansive', u'expect', u'expectation', u'expectations', u'expected', u'expects', u'expedient', u'expended', u'expenditures', u'expense', u'expenses', u'expensive', u'experience', u'experienced', u'experiencing', u'experiment', u'experimental', u'experiments', u'expert', u'experts', u'expire', u'expired', u'expires', u'explain', u'explained', u'explaining', u'explains', u'explanation', u'explicit', u'exploit', u'exploited', u'exploratory', u'explorers', u'exploring', u'explosion', u'explosive', u'export', u'exported', u'exporting', u'exports', u'exposed', u'express', u'expressed', u'expressing', u'extend', u'extended', u'extending', u'extends', u'extension', u'extensions', u'extensive', u'extent', u'extern', u'extra', u'extraction', u'extractors', u'extraordinarily', u'extraordinary', u'extreme', u'extremely', u'eye', u'eyebrow', u'eyes', u'fabled', u'fabrics', u'face', u'face-saving', u'faced', u'faces', u'facets', u'facilities', u'facing', u'fact', u'facto', u'factor', u'factories', u'factors', u'factory', u'facts', u'faculty', u'fail', u'failed', u'failing', u'fails', u'failure', u'faint', u'fair', u'fair-weather', u'fairgoers', u'fairies', u'fairly', u'fairway', u'fairways', u'faith', u'faked', u'fall', u\"fall's\", u'fall-off', u'fallacious', u'fallen', u'fallout', u'falls', u'false', u'fame', u'famed', u'familiar', u'familiarity', u'families', u'family', u'family-community', u'famous', u'fan', u'fancy', u'fanned', u'fans', u'fantastic', u'far', u'far-flung', u'far-out', u'far-reaching', u'fare', u'farewell', u'farm', u'farmer', u'farmers', u\"farmers'\", u'farms', u'fashion', u'fashions', u'fast', u'fast-grossing', u'fast-spreading', u'fastened', u'faster', u'fastest', u'fat', u'fatal', u'fate', u'father', u\"father's\", u'fathers', u'faults', u'favor', u'favorable', u'favored', u'favoring', u'favorite', u'favors', u'fear', u'feared', u'fearing', u'feasible', u'feat', u'feathers', u'feats', u'feature', u'featured', u'features', u'featuring', u'federal', u'federalism', u'federalize', u'fee', u'feeble', u'feed', u'feeds', u'feel', u'feeling', u'feelings', u'feels', u'fees', u'feet', u'fell', u'fellow', u'fellows', u'felt', u'female', u'females', u'feminine', u'femininity', u'fence', u'fender', u'fertilizer', u'festival', u'festive', u'festivities', u'fete', u'feted', u'few', u'fewer', u'fiance', u'fiasco', u'fiction', u'fictitious', u'field', u'fielded', u'fielders', u'fielding', u'fields', u'fierce', u'fiercest', u'fiery', u'fifteen', u'fifteenth', u'fifth', u'fifty', u'fight', u'fighters', u'fighting', u'figure', u'figured', u'figures', u'figuring', u'filbert', u'file', u'filed', u'filial', u'filibuster', u'filibusters', u'filing', u'fill', u'filled', u'filling', u'filly', u'film', u'films', u'filmy', u'final', u'finale', u'finalist', u'finally', u'finals', u'finance', u'financed', u'finances', u'financial', u'financing', u'find', u'finding', u'finds', u'fine', u'fined', u'fines', u'finest', u'finger', u'finger-paint', u'finish', u'finished', u'finishing', u'finned', u'fins', u'fire', u'fire-fighting', u'fired', u'firehouses', u'firemen', u'fireplace', u'fires', u'firing', u'firm', u\"firm's\", u'firmer', u'firmly', u'firms', u'first', u'first-class', u'first-floor', u'first-place', u'first-run', u'fiscal', u'fishing', u'fit', u'fits', u'fitted', u'fittest', u'five', u'five-cent', u'five-day', u'five-home', u'five-month', u'five-year', u'fixed', u'fixing', u'fixture', u'fizzled', u'flag-stick', u'flames', u'flaming', u'flanked', u'flared', u'flash', u'flashy', u'flat', u'flatly', u'flattened', u'flattering', u'flavor', u'flavored', u'fled', u'fleeing', u'fleet', u'flew', u'flex', u'flexible', u'flicker', u'flickered', u'flies', u'flight', u'flights', u'floated', u'flood', u'flooded', u'floor', u'floors', u'flour', u'flourish', u'flourishes', u'flow', u'flowed', u'flower', u'flowers', u'flowing', u'flows', u'flu', u'flubbed', u'fluid', u'flung', u'fly', u'flying', u'focus', u'focused', u'foes', u'foliage', u'folk', u'folks', u'follow', u'followed', u'followers', u'following', u'follows', u'fondness', u'food', u'foods', u'fool', u'foolish', u'foot', u'football', u\"football's\", u'footing', u'footnotes', u'for', u'forbid', u'forbidden', u'forbids', u'force', u'forced', u'forces', u'forcing', u'fore', u'forecast', u'forecasts', u'foreign', u'foreign-aid', u'foreign-policy', u'foreman', u'foresee', u'foreseeable', u'forest', u'forestry', u'forever', u'forget', u'forgetting', u'forgive', u'form', u'forma', u'formal', u'formally', u'format', u'formation', u'formative', u'formed', u'former', u'formerly', u'forming', u'forms', u'formula', u'formulating', u'forswears', u'forth', u'forthcoming', u'fortune', u'forty-year', u'forum', u'forward', u'foster', u'fought', u'fouled', u'fouling', u'found', u'foundation', u'founded', u'founder', u'founding', u'fountain', u'four', u'four-hour', u'four-jet', u'four-letter', u'four-wood', u'four-year', u'fourteen', u'fourteen-nation', u'fourteen-team', u'fourth', u'fourth-down', u'fraction', u'fractured', u'fractures', u'fragmentation', u'frame', u'framed', u'frames', u'franchise', u'frank', u'franker', u'frankness', u'frantic', u'fraternity', u'frau', u'fraud', u'free', u'free-for-all', u'freed', u'freedom', u'freer', u'freeze', u'freezes', u'freight', u'frequent', u'frequently', u'fresh', u'freshman', u'friction', u'frictions', u'friend', u'friendliness', u'friendly', u'friends', u'frightening', u'frigid', u'fringe', u'fringed', u'frock', u'from', u'front', u'fronts', u'frosting', u'frothier', u'fruitful', u'frustrated', u'frustrating', u'frustrations', u'fuel', u'fueled', u'fuels', u'fulfill', u'fulfilled', u'fulfillment', u'full', u'full-dress', u'full-fledged', u'full-scale', u'full-time', u'fullback', u'fullbacking', u'fuller', u'fully', u'fumble', u'fumes', u'fun', u'fun-loving', u'function', u'functional', u'functionary', u'functions', u'fund', u\"fund's\", u'fund-raiser', u'fund-raisers', u'fund-raising', u'fundamental', u'fundamentalism', u'fundamentally', u'fundamentals', u'funds', u'funeral', u'fur', u'furlongs', u'furlough', u'furloughed', u'furnish', u'furnished', u'furnishings', u'furniture', u'furs', u'further', u'fuselage', u'future', u'g-p', u'gain', u'gained', u'gaining', u'gains', u'gait', u'gala', u'gale', u'gallery', u'gallons', u'gals', u'gamble', u'gambling', u'game', u\"game's\", u'games', u'gang', u'gangland', u'gangling', u'gangsters', u'gaping', u'garbage', u'garde', u'garden', u'gardenias', u'garrulous', u'gas', u'gas-fired', u'gasoline', u'gates', u'gather', u'gathered', u'gathering', u'gaudy', u'gauntlet', u'gave', u'gay', u'gayety', u'gazing', u'gear', u'geeing', u'general', u\"general's\", u'generally', u'generated', u'generation', u'generosity', u'generous', u'generously', u'genes', u'genial', u'gentlemanly', u'gentlemen', u'genuine', u'geographical', u'geographically', u'geography', u'geometrically', u'geriatric', u'gesture', u'get', u'get-together', u'getaway', u'gets', u'getting', u'ghastly', u'giant', u'giants', u'gift', u'gifted', u'gifts', u'gigantic', u'gin', u'ginning', u'gins', u'girl', u\"girl's\", u'girls', u'give', u'giveaway', u'given', u'gives', u'giving', u'glad', u'glamor', u'glamorous', u'glanced', u'glaze', u'gleam', u'glib', u'gliders', u'glimpsed', u'global', u'globe', u'globe-girdling', u'globetrotter', u'gloomily', u'glories', u'glove', u'glow', u'glowing', u'glutted', u'go', u'go-go-go', u'goaded', u'goal', u'goals', u'god-like', u'godliness', u'goes', u'going', u'gold', u'golden', u'golf', u\"golf's\", u'golfer', u'golfers', u'golfing', u'gone', u'good', u'good-will', u'goodness', u'goods', u'got', u'gotten', u'goutte', u'govern', u'governed', u'governing', u'government', u\"government's\", u'governmental', u'governments', u'governor', u\"governor's\", u'governs', u'gown', u'grab', u'grabbed', u'grabbing', u'grace', u'graciously', u'grade', u'grader', u'grads', u'gradually', u'graduate', u'graduated', u'graduates', u'graduation', u'grain', u'grammar', u'grand', u'grand-slam', u'grandchildren', u'grandfather', u'grandiose', u'grandma', u\"grandmother's\", u'grant', u'grant-in-aid', u'granted', u'grants', u'granular-type', u'grapefruit', u'grapes', u'grasp', u'grass', u'grass-green', u'grassroots', u'grateful', u'gratification', u'grave', u'gravy', u'gray', u'gray-haired', u'great', u'greater', u'greatest', u'greatly', u'green', u'greenish', u'greens', u'greet', u'greeted', u'greeting', u'grew', u'grievances', u'grillwork', u'grimace', u'grimly', u'grin', u'grip', u'gripped', u'grips', u'grisly', u'grist', u'groceries', u'grocery', u'grooming', u'groomsmen', u'groove', u'gross', u'ground', u'grounder', u'grounds', u'group', u'groupings', u'groups', u'grow', u'growing', u'grown', u'grows', u'growth', u'grumble', u'gruonded', u'guarantee', u'guaranteed', u'guard', u'guardians', u'guarding', u'guards', u'gubernatorial', u'guerrilla', u'guessing', u'guest', u'guests', u'guidance', u'guide', u\"guide's\", u'guided', u'guiding', u'guilt', u'guiltless', u'guilty', u'guise', u'guitar', u'gulf', u'gully', u'gulped', u'gum', u'gumption', u'gun', u'gunmen', u'guns', u'guttural', u'guy', u'guys', u'ha', u'hackers', u'had', u\"hadn't\", u'haggling', u'hailed', u'hair', u'half', u'half-brothers', u'half-mile', u'halfback', u'halfbacks', u'halftime', u'halfway', u'hall', u'halt', u'halted', u'halting', u'haltingly', u'ham', u'hamburger', u'hamlet', u'hammered', u'hampered', u'hand', u'hand-crafted', u'hand-screened', u'hand-woven', u'handed', u'handful', u'handicapped', u'handing', u'handle', u'handled', u'handles', u'handling', u'hands', u'handsome', u'handwriting', u'handy', u'hang', u'happen', u'happened', u'happening', u'happens', u'happier', u'happily', u'happy', u'hard', u'hard-fought', u'hard-hit', u'hard-to-get', u'harder', u'hardly', u'hardship', u'hardware', u'harm', u'harmless', u'harmonies', u'harmony', u'harrowing', u'harsh', u'harvesting', u'has', u\"hasn't\", u'hastened', u'hastily', u'hasty', u'hat', u'hate', u'hats', u'haute', u'have', u'having', u'hawing', u'hazards', u'haze', u'he', u\"he'll\", u\"he's\", u'head', u'head-and-shoulders', u'head-on', u'headache', u'headboard', u'headdress', u'headed', u'heading', u'headlights', u'headline', u'headlines', u'headmaster', u'headquarters', u'heads', u'heady', u'healed', u'health', u'hear', u'heard', u'hearing', u'hearings', u'hearsay', u'heart', u'heartbreaking', u'heartening', u'hearts', u'hearty', u'heat', u'heaters', u'heather', u'heavier', u'heavily', u'heavy', u'heavy-electrical-goods', u'heed', u'heel', u'heels', u'height', u'heightened', u'heights', u'heirs', u'held', u'helm', u'help', u'helped', u'helping', u'helpless', u'helps', u'hemisphere', u\"hemisphere's\", u'hence', u'heptachlor', u'her', u'heralded', u'here', u'heredity', u'heritage', u'hero', u'heroes', u'heroics', u'heroin', u'herself', u'hesitated', u'heyday', u'hidden', u'hides', u'high', u'high-ceilinged', u'high-density', u'high-legged', u'high-school', u'high-sounding', u'high-wage', u'higher', u'highest', u'highest-paid', u'highly', u'highs', u'highway', u'highways', u'hijacked', u'hijackers', u'hike', u'hill', u'hilt', u'him', u'himself', u'hinted', u'hip', u'hire', u'hired', u'hiring', u'his', u'historian', u'historic', u'historical', u'history', u'hit', u'hit-run', u'hitch', u'hitched', u'hitless', u'hits', u'hitter', u'hitters', u'hitting', u'hoc', u'hog', u'hold', u'hold-back', u'holders', u'holdings', u'holds', u'holdup', u'hole', u'holed', u'holes', u'holiday', u'holidays', u'home', u'home-and-home', u'home-owners', u'home-run', u'homemakers', u'homeowners', u'homer', u'homers', u'homerun', u'homes', u'honest', u'honestly', u'honeymoon', u'honor', u'honorary', u'honored', u'honoree', u'honoring', u'honors', u'hood', u'hoodlum', u'hoodlums', u'hooked', u'hope', u'hoped', u'hoped-for', u'hopeful', u'hopelessly', u'hopes', u'hoping', u'hopper', u'horde', u'horizon', u'horse', u'horsemanship', u'horses', u'hospitable', u'hospital', u'hospital-care', u'hospitality', u'hospitals', u'hostages', u'hostess', u'hostesses', u'hosts', u'hot', u'hotdogs', u'hotel', u'hotels', u'hottest', u'hour', u'hours', u'house', u'house-cleaning', u'housed', u'household', u'household-type', u'houses', u'housewife', u'housing', u'how', u'however', u'hubby', u'huddle', u'huddling', u'huge', u'hull', u'human', u'humans', u'humiliating', u'humor', u'hundred', u'hundreds', u'hung', u'hungry', u'hunt', u'hunter', u'hunter-killer', u'hunting', u'hurdle', u'hurler', u'hurlers', u'hurry', u'hurting', u'hurtling', u'husband', u'husbands', u'husky', u'huzzahs', u'hypocrisies', u'i.e.', u'icy', u'idea', u'ideal', u'idealism', u'ideas', u'identical', u'identically', u'identification', u'identified', u'identity', u'ideological', u'ideology', u'idle', u'idleness', u'idol', u'idolize', u'idols', u'if', u'ignited', u'ignition', u'ignored', u'ignoring', u'ill', u'illegal', u'illegitimacy', u'illness', u'illusion', u'illusory', u'illustrate', u'illustrated', u'illustration', u'image', u'imagination', u'imagine', u'imagines', u'imbroglio', u'immediate', u'immediately', u'immigrant', u'imminent', u'immorality', u'immunization', u'impact', u'impair', u'impeccable', u'impersonal', u'impetus', u'impinging', u'implement', u'implementation', u'implements', u'implication', u'implicit', u'imply', u'impolitic', u'import', u'important', u'imports', u'imposed', u'imposes', u'imposing', u'imposition', u'impossible', u'impossibly', u'impotency', u'impoverished', u'impressed', u'impression', u'impressionist', u'impressions', u'impressive', u'imprisonment', u'improper', u'improperly', u'improve', u'improved', u'improvement', u'improvements', u'improving', u'imprudently', u'impunity', u'in', u'in-group', u'inability', u'inadequacy', u'inadequate', u'inappropriate', u'inapt', u'inaugural', u'inauguration', u'inboard', u'incentive', u'inches', u'incident', u'incidents', u'incinerator', u'inclination', u'inclined', u'include', u'included', u'includes', u'including', u'inclusive', u'income', u'incomparable', u'incomparably', u'incompetents', u'incomplete', u'inconclusive', u'inconsistencies', u'incorporated', u'incorrigible', u'increase', u'increased', u'increases', u'increasing', u'increasingly', u'incredible', u'incredibly', u'incumbent', u'incurred', u'indecisive', u'indeed', u'indefinite', u'independence', u'independent', u'independents', u'index', u'indicate', u'indicated', u'indicates', u'indicating', u'indication', u'indicted', u'indictment', u'indictments', u'indifference', u'indignation', u'indirect', u'indispensable', u'individual', u'individuals', u'indoor', u'indorsed', u'induce', u'inducted', u'industrial', u'industrialist', u'industrialized', u'industries', u'industry', u'ineffectual', u'inefficient', u'ineligible', u'ineptness', u'inevitable', u'inevitably', u'infallible', u'infant', u'infantile', u'inferior', u'infest', u'infested', u'infield', u'infiltrating', u'inflamed', u'inflate', u'inflation', u'inflexible', u'inflicted', u'inflow', u'influence', u'influences', u'influx', u'inform', u'informal', u'informally', u'information', u'informed', u'infrequent', u'inhabitants', u'inherent', u'inherited', u'inhomogeneous', u'initial', u'initially', u'initiating', u'initiative', u'inject', u'injection', u'injunctions', u'injured', u'injuries', u'injuring', u'injury', u'inlaid', u'innate', u'inner', u'inning', u'innings', u'innocence', u'innocent', u'innumerable', u'inquired', u'inquiries', u'inroads', u'inscription', u'insects', u'insets', u'inside', u'insist', u'insisted', u'insistence', u'insists', u'inspection', u'inspired', u'inspiring', u'installed', u'instance', u'instances', u'instantly', u'instead', u'instincts', u'institute', u'instituted', u'institution', u'institutions', u'instructed', u'instruction', u'instructor', u'instrument', u'instrumentals', u'instruments', u'insult', u'insurance', u'insure', u'insurgent', u'intact', u'intangible', u'intangibles', u'integrate', u'integrated', u'integration', u'intellectual', u'intellectually', u'intelligent', u'intend', u'intended', u'intends', u'intense', u'intensified', u'intensifying', u'intensity', u'intention', u'intentions', u'intercepted', u'interest', u'interested', u'interesting', u'interests', u'interfere', u'interfered', u'interference', u'interfering', u'interim', u'interior', u'interlibrary', u'interlude', u'interment', u'intern', u'internal', u'international', u'internationalist', u'interpret', u'interpretation', u'interrupt', u'intersection', u'interstate', u'intervals', u'intervene', u'intervened', u'intervening', u'intervention', u'interview', u'interviewed', u'interviews', u'intimated', u'intimidation', u'into', u'intra-mural', u'intrigue', u'introduced', u'introduction', u'intruders', u'inure', u'invaded', u'invasion', u'inventories', u'inverted', u'investigate', u'investigated', u'investigating', u'investigation', u'investigations', u'investigators', u'investment', u'investments', u'investor', u'investors', u'invests', u'inviolate', u'invitation', u'invitations', u'invited', u'invites', u'inviting', u'invoices', u'invoked', u'invoking', u'involve', u'involved', u'involving', u'irate', u'iron', u'irrational', u'irrationality', u'irreconcilable', u'irregularities', u'irrespective', u'irritable', u'is', u'island', u\"isn't\", u'isolated', u'issuance', u'issue', u'issued', u'issues', u'it', u\"it's\", u'item', u'items', u'its', u'itself', u'ivory', u'jacket', u'jail', u'jails', u'jangling', u'janitor', u'janitors', u\"janitors'\", u'jarred', u'jazz', u'jealousies', u'jeopardizing', u'jeopardy', u'jersey', u'jesting', u'jet', u'jetliners', u'jewelry', u'jewels', u'jitters', u'job', u'job-seekers', u'joblessness', u'jobs', u'jockeying', u'join', u'joined', u'joining', u'joint', u'jointly', u'joints', u'jolt', u'jotted', u'journalism', u'journalist', u'journey', u'judge', u'judged', u'judges', u'judgeship', u'judging', u'judgment', u'juice', u'jump', u'jumped', u'jumpy', u'junction', u'junior', u\"junior's\", u'junior-senior', u'juniors', u'junta', u'juries', u'jurisdictional', u'jurist', u'juror', u'jurors', u'jury', u'jury-tampering', u'just', u'justice', u'justices', u'justified', u'justify', u'juvenile', u'keep', u'keeping', u'keeps', u'kept', u'kerosene', u'key', u'keyboarding', u'keyhole', u'keynote', u'kick', u'kickbacks', u'kicked', u'kicking', u'kickoff', u'kicks', u'kid', u'kidding', u'kidnaped', u'kidnapping', u'kids', u'kill', u'killed', u'killer', u'killing', u'kind', u'kinda', u'kindergarten', u'kinds', u'king', u'kingdom', u'kitchen', u'knee', u'knees', u'knew', u'knit', u'knock', u'knock-down', u'knocked', u'knocks', u'know', u'know-how', u'knowing', u'knowledge', u'known', u'knows', u'knuckleball', u'la', u'label', u'labeled', u'labor', u'labor-management', u'laboratory', u'laborers', u'lace', u'lacerations', u'lack', u'lacked', u'lacking', u'lad', u'ladder', u'ladies', u\"ladies'\", u'lady', u'lag', u'lagged', u'lags', u'laid', u'lamb', u'lamp', u'lampoon', u'lamps', u'land', u'landed', u'landing', u'landscape', u'landscaped', u'language', u'languages', u'lap', u'larceny', u'large', u'largely', u'larger', u'largest', u'last', u'last-minute', u'last-round', u'lasted', u'lasting', u'latch', u'late', u'lately', u'later', u'latest', u'latter', u\"latter's\", u'launched', u'laurels', u'lavish', u'lavishly', u'law', u'lawmakers', u'lawn', u'laws', u'lawyer', u'lawyers', u'lay', u'lay-offs', u'layer', u'laying', u\"layman's\", u'laymen', u'layout', u'lazy', u'le', u'lead', u'leader', u\"leader's\", u'leaders', u'leadership', u'leading', u'leads', u'league', u\"league's\", u'leaguer', u'leagues', u'leaked', u'lean', u'leaned', u'learn', u'learned', u'learning', u'lease', u'least', u'leather', u'leathery', u'leave', u'leaving', u'lecture', u'lecturer', u'led', u'left', u'left-centerfield', u'left-handed', u'leftfield', u'lefthander', u'lefthanders', u'leg', u'legal', u'legend', u'legislation', u'legislation-delaying', u'legislative', u'legislator', u'legislators', u'legislature', u'legitimate', u'legs', u'leisurely', u'lemonade', u'lend', u'lending', u'length', u'lengthening', u'lengthy', u'lenient', u'less', u'less-developed', u'lesson', u'lessons', u'lest', u'let', u\"let's\", u'letter', u'lettered', u'letterman', u'lettermen', u'letters', u'letting', u'level', u'levels', u'lever', u'levy', u'liable', u'liaison', u'liberal', u'liberal-conservative', u'liberals', u'liberty', u'librarian', u\"librarian's\", u'librarian-board', u'librarians', u'libraries', u'library', u'license', u'licenses', u'licensing', u'licked', u'lid', u'lie', u'lied', u'liens', u'lies', u'lieutenant', u'lieutenants', u'life', u'lifeblood', u'lifetime', u'lift', u'lifted', u'ligament', u'light', u'lighter', u'lighters', u'lightly', u'lightness', u'lights', u'lightweight', u'like', u'liked', u'likelihood', u'likely', u'likes', u'limit', u'limitations', u'limited', u'limiting', u'line', u'linebackers', u'lineman', u'linen', u'liner', u'lines', u'lineup', u'lining', u'link', u'linking', u'lip', u'liquidation', u'liquidations', u'liquor', u'list', u'listed', u'listen', u'listened', u'listening', u'listing', u'listings', u'lists', u'literally', u'literary', u'literature', u'little', u'livability', u'live', u'lived', u'livelihood', u'liveliness', u'lively', u'lives', u'livestock', u'living', u'load', u'loaded', u'loading', u'loan', u'loans', u'loath', u'lobby', u'local', u'locale', u'locally', u'locate', u'located', u'locked', u'locker', u'locomotive', u'lodge', u'lodged', u'log-jam', u'logging', u'logic', u'logical', u'logistical', u'long', u'long-bodied', u'long-life', u'long-range', u'long-term', u'long-time', u'longer', u'longstanding', u'look', u'looked', u'looking', u'looks', u'loomed', u'loop', u'loophole', u'loose', u'loosely', u'looting', u'lose', u'loser', u'loses', u'losing', u'loss', u'losses', u'lost', u'lot', u'lots', u'loud', u'loudly', u'love', u'lovely', u'lover', u'lovers', u'loves', u'loving', u'low', u'low-down', u'low-key', u'low-wage', u'lower', u'lower-priced', u'lowered', u'lowest', u'lowliest', u'lows', u'loyal', u'loyalist', u'loyalists', u'loyalty', u'luck', u'lucky', u'lucrative', u'luggage', u'lukewarm', u'lull', u'lumber', u'lumped', u'lunch', u'luncheon', u'luncheon-table', u'luncheons', u'lure', u'lurked', u'lustrous', u'luxury', u'lying', u'm.p.h.', u'machine', u'machinery', u'machines', u'machinist', u'mad', u'made', u'magazine', u'magenta', u'magic', u'magistrate', u'magnetic', u'magnification', u'magnificent', u'maid', u'maiden', u'maids', u'mail', u'mailed', u'mails', u'main', u'mainly', u'maintain', u'maintaining', u'maintains', u'maintenance', u'maitre', u'majestic', u'major', u'major-league', u'majorities', u'majority', u'majors', u'make', u'maker', u'makers', u'makes', u'makeshift', u'making', u'male', u'males', u'malice', u'maligned', u'malingering', u'mall', u'mammoth', u'man', u\"man's\", u'managed', u'management', u\"management's\", u'managements', u'manager', u'managers', u'managing', u'mandatory', u'maneuver', u'manganese', u'manifestations', u'manifestly', u'manipulate', u'manned', u'manner', u'mano', u'manslaughter', u'mantel', u'mantle', u'mantlepiece', u'manual', u'manufacture', u'manufactured', u'manufacturer', u'manufacturers', u\"manufacturers'\", u'manufacturing', u'manuscript', u'many', u'mar', u'marble', u'march', u'marching', u'margin', u'marginal', u'margins', u'marines', u'mark', u'marked', u'market', u'marketed', u'marketing', u'marketings', u'markets', u'marking', u'marks', u'marriage', u'marriages', u'married', u'marvel', u'marveled', u'masked', u\"maskers'\", u'masonry', u'masquerade', u'masquerades', u'mass', u'masses', u'massive', u'master', u\"master's\", u'masterful', u'masterpiece', u'mastodons', u'mat', u'match', u'matched', u'matches', u'matching', u'material', u'materialize', u'materials', u'mates', u'math', u'mathematically', u'mathematics', u'mating', u'matter', u'matters', u'mature', u'maturity', u'maverick', u'maximum', u'may', u'maybe', u'mayonnaise', u'mayor', u\"mayor's\", u'me', u'mea', u'meager', u'meals', u'mean', u'meaning', u'meaningless', u'means', u'meant', u'meantime', u'meanwhile', u'measles', u'measure', u'measured', u'measures', u'measuring', u'meat', u'mechanic', u\"mechanic's\", u'mechanical', u'mechanically', u'mechanics', u'mechanism', u'mechanisms', u'mechanization', u'medal', u'meddle', u'medical', u'medicine', u\"medico's\", u'medics', u'mediocre', u'meditating', u'meet', u'meeting', u'meetings', u'meets', u'megaton', u'melee', u'melt', u'melted', u'member', u'members', u\"members'\", u'membership', u'memory', u'men', u\"men's\", u'menace', u'menaced', u'mental', u'mentally', u'mention', u'mentioned', u'mentions', u'menu', u'mercenaries', u'merchandise', u'merchandising', u'merchants', u'mercy', u'mere', u'merely', u'merge', u'merger', u'mergers', u'merit', u'merited', u'meritorious', u'merits', u'merry-go-round', u'mess', u'message', u'met', u'metal', u'meteorological', u'meter', u'method', u'methods', u'metropolitan', u'micro-microcurie', u'microfilm', u'mid-1960', u'mid-July', u'mid-June', u'mid-September', u'mid-flight', u'middle', u'middle-aged', u'midmorning', u'midnight', u'midst', u'midway', u'miffed', u'might', u'mighty', u'mile', u'mileage', u'miles', u'milestone', u'military', u'milk', u'mill', u'million', u'millions', u'mind', u'minds', u'mine', u'mined', u'mineral', u'mineral-rich', u'miners', u'mines', u'mingle', u'miniature', u'mining', u'minister', u'ministerial', u'ministers', u'mink', u'minor', u'minorities', u'minors', u'minute', u'minutes', u'miracle', u'miracles', u'mirror', u'miscalculation', u'miscellaneous', u'misconstrued', u'miscount', u'miserable', u'misfortune', u'mishap', u'misled', u'miss', u'missed', u'misses', u'missile', u'missiles', u'missing', u'mission', u'missionary', u'missions', u'mistake', u'mistakes', u'mistrial', u'misunderstanding', u'misunderstandings', u'misuse', u'moans', u'mob', u\"mob's\", u'mobile', u'model', u'models', u'moderate', u'moderate-income', u'moderates', u'modern', u'modernization', u'modernized', u'modernizing', u'modest', u'modification', u'modifications', u'modified', u'moist', u'moldboard', u'moment', u\"moment's\", u'moments', u'momentum', u'monetary', u'money', u'money-winner', u'monks', u'monopolies', u'monopolistic', u'monopoly', u'monotonous', u'monotony', u'monstrous', u'month', u\"month's\", u'month-long', u'monthly', u'months', u\"months'\", u'monument', u'monumental', u'monuments', u'mood', u'moral', u'morality', u'morals', u'more', u'more-than-ordinary', u'morning', u\"morning's\", u'mortal', u'mortgage', u'mortgages', u'most', u'most-valuable', u'most-valuable-player', u'mostly', u'motel', u'motel-keepers', u'motel-keeping', u'motels', u'mother', u\"mother's\", u'mothers', u'motion', u'motion-picture', u'motions', u'motivated', u'motivations', u'motor', u'motorist', u'motorists', u\"motorists'\", u'motto', u'mound', u'mountainous', u'mounted', u'mounting', u'mourn', u'mouth', u'mouths', u'move', u'moved', u'movement', u'movements', u'moves', u'movie', u'movies', u'moving', u'much', u'much-copied', u'mud', u'multi-family', u'multi-million-dollar', u'multi-product', u'multiple', u'multiply', u'multiplying', u'municipal', u'municipalities', u'murder', u'murdered', u'muscle', u'muscles', u'muscular', u'museum', u'mushrooms', u'music', u'music-loving', u'musical', u'musician', u'musicians', u'must', u'muster', u'muted', u'mutiny', u'mutter', u'muttered', u'mutterers', u'mutual', u'my', u'myself', u'mystery', u'nab', u'nabbed', u'nailed', u'name', u'named', u'namely', u'names', u'nap', u'narcotic', u'narcotics', u'narrow', u'narrowed', u'narrowly', u'nation', u\"nation's\", u'national', u'nationalism', u'nationalized', u'nationally', u'nations', u'nationwide', u'native', u'natural', u'naturalized', u'naturally', u'nature', u'naughtier', u'naughty', u'naval', u'navy', u\"navy's\", u'near', u'near-Balkanization', u'nearby', u'nearest', u'nearing', u'nearly', u'neatly', u'necessary', u'necessitate', u'necessitated', u'necessity', u'neck', u'neckline', u'need', u'needed', u'needles', u'needs', u'needy', u'negative', u'negotiate', u'negotiating', u'negotiation', u'negotiations', u'neighbor', u'neighborhood', u'neighboring', u'neighbors', u'neither', u'neo-stagnationist', u'nerve', u'nerves', u'net', u'netted', u'network', u'neutral', u'neutralist', u'neutralists', u'neutralized', u'never', u'nevertheless', u'new', u'new-rich', u'newcomers', u'newer', u'newest', u'newly', u'newly-appointed', u'newlyweds', u'news', u'newsletter', u'newsman', u'newsmen', u'newspaper', u'newspapers', u'next', u'nice', u'nicer', u'nickels', u'niece', u'night', u\"night's\", u'night-coach', u'nightclubs', u'nightfall', u'nightly', u'nightmare', u'nights', u'nine', u'nine-game', u'nine-year', u'nineteen', u'nineteenth', u'nineteenth-century', u'ninety-nine', u'ninth', u'nitroglycerine', u'no', u'no-driving', u'no-hit', u'noble', u'nobody', u'nodded', u'noes', u'noise', u'nolo', u'nominal', u'nominated', u'nominating', u'nomination', u'nominee', u'non-farm', u'non-partisan', u'non-profit', u'noncommissioned', u'nondescript', u'none', u'nonfiction', u'nonsense', u'nonviolent', u'nonwhite', u'noon', u'nor', u'norm', u'normal', u'normalcy', u'normally', u'north', u'north-bound', u'northeast', u'northern', u'northernmost', u'northwest', u'nose', u'noses', u'nostalgic', u'not', u'notable', u'notably', u'notarized', u'note', u'noted', u'notes', u'nothing', u'notice', u'noticeable', u'noticed', u'notices', u'noting', u'notion', u'notions', u'notorious', u'nourished', u'novel', u'now', u'nowhere', u'nozzle', u'nuclear', u'nucleus', u'number', u'numbered', u'numbers', u'numerous', u'nuns', u'nurse', u'nursing', u'nut', u'nw.', u'nymphomaniacs', u\"o'clock\", u'oases', u'oath-taking', u'oats', u'object', u'objected', u'objection', u'objective', u'obligated', u'obligation', u'obligations', u'obliged', u'obliterated', u'observations', u'observer', u'observers', u'observing', u'obstacle', u'obstacles', u'obstructed', u'obstructionist', u'obtain', u'obtained', u'obtaining', u'obvious', u'obviously', u'occasion', u'occasional', u'occasionally', u'occasions', u'occupancy', u'occupants', u'occupation', u'occupied', u'occupying', u'occur', u'occurred', u'occurrence', u'ocean', u'odds', u'of', u'off', u'off-beat', u'off-duty', u'offenders', u'offense', u'offenses', u'offensive', u'offensives', u'offer', u'offered', u'offering', u'offerings', u'offers', u'office', u'officer', u'officered', u'officers', u'offices', u'official', u'officially', u'officials', u'officiate', u'officiated', u'officiating', u'officious', u'oft-repeated', u'often', u'ogled', u'oil', u'oilman-rancher', u'oks', u\"ol'\", u'old', u'older', u'oldest', u'olive-green', u'ominous', u'omitted', u'on', u'on-the-scene', u'once', u'one', u\"one's\", u'one-fourth', u'one-half', u'one-iron', u'one-over-par', u'one-room', u'one-sided', u'one-story', u'one-third', u'one-week-old', u'ones', u'onetime', u'onion', u'only', u'onrush', u'onslaught', u'onto', u'onus', u'oops', u'open', u'opened', u'opener', u'opening', u'openly', u'opens', u'opera', u'operate', u'operated', u'operates', u'operating', u'operation', u'operations', u'operator', u'operators', u'opinion', u'opinions', u'opponents', u'opportunities', u'opportunity', u'oppose', u'opposed', u'opposes', u'opposite', u'opposition', u'optimism', u'optimistic', u'option', u'opus', u'or', u'orange', u'orchestra', u'orchids', u'ordained', u'order', u'ordered', u'orderly', u'orders', u'ordinance', u'ordinarily', u'ordinary', u\"ordinary's\", u'organ', u'organdy', u'organization', u\"organization's\", u'organizations', u'organize', u'organized', u'organizers', u'organizing', u'organs', u'oriental', u'orientation', u'origin', u'original', u'originally', u'originated', u'originating', u'other', u\"other's\", u'others', u'otherwise', u'ought', u'our', u'ours', u'ourselves', u'oust', u'ouster', u'out', u'out-of-bounds', u'outclass', u'outclassed', u'outcome', u'outdoors', u'outfield', u'outfielder', u'outfit', u'outgoing', u'outlawed', u'outlay', u'outlets', u'outline', u'outlook', u'outmoded', u'outnumber', u'outpatient', u'outplayed', u'output', u'outright', u'outrun', u'outset', u'outside', u'outsider', u'outsiders', u'outspoken', u'outstanding', u'ova', u'over', u'over-all', u'over-corrected', u'over-night', u'over-the-counter', u'overcame', u'overcome', u'overcrowding', u'overdeveloped', u'overhauling', u'overhead', u'overlooked', u'overly', u'overnight', u'overpowered', u'overreach', u'overseas', u'overshot', u'oversimplification', u'overtake', u'overthrow', u'overtime', u'overturned', u'overwhelmingly', u'owe', u'owed', u'own', u'owned', u'owner', u'owners', u\"owners'\", u'ownership', u'owns', u'oysters', u'p.m.', u'pace', u'paces', u'pack', u'packed', u'pact', u'pad', u'pads', u'paganism', u'page', u'paid', u'paid-for', u'pain', u'painful', u'pains', u'painted', u'painter', u'painting', u'paintings', u'pair', u'paired', u'pal', u'pall', u'palm', u'palmed', u'pan', u'panel', u\"panel's\", u'paneled', u'paneling', u'panels', u'panic', u'paper', u'papers', u'par', u'par-3', u'par-5', u'parade', u'parading', u'paradox', u'paragon', u'paralyzed', u'paramount', u'paratroops', u'pardon', u'pardoned', u'parent', u\"parent's\", u'parents', u'parimutuels', u'parish', u'park', u'parked', u'parking', u'parklike', u'parks', u'parlor', u'parochial', u'parole', u'parolees', u'pars', u'part', u'part-time', u'partially', u'participate', u'participating', u'participation', u'particular', u'particularly', u'particulars', u'parties', u'partner', u'partners', u'parts', u'party', u'pass', u'passage', u'passages', u'passed', u'passenger', u'passengers', u'passes', u'passing', u'passport', u'past', u'pastel-like', u'pastime', u'pastors', u\"pastors'\", u'paternalism', u'path', u'paths', u'patience', u'patient', u'patients', u'patio', u'patrol', u'patrolman', u'patronage', u'patrons', u'pattern', u'patterned', u'pause', u'paused', u'paving', u'pay', u'paycheck', u'paying', u'paymaster', u'payment', u'payments', u'payoff', u'payroll', u'pays', u'peace', u'peace-loving', u'peacetime', u'peak', u'peaks', u'peanut', u'pearl', u'peasant', u'peasants', u'pecan', u'peck', u'peculiar', u'peculiarities', u'pedagogue', u'peddle', u'peddler', u'peddlers', u'pedestal', u'pedestrian', u'pedestrians', u'pedigreed', u'penalized', u'penalties', u'penalty', u'pending', u'penetration', u'pennant', u'pennies', u'pension', u'pensions', u'people', u\"people's\", u'peoples', u'pepper', u'peppery', u'pepping', u'per', u'per-game', u'percent', u'percentage', u'percentages', u'perched', u'perennial', u'perfect', u'perfection', u'perform', u'performance', u'performances', u'performed', u'performers', u'performing', u'perhaps', u'peril', u'period', u'periodic', u'periodicals', u'perjury', u'permanence', u'permanent', u'permission', u'permit', u'permits', u'permitted', u'permitting', u'persecution', u'persistent', u'person', u'personal', u'personalities', u'personality', u'personally', u'personification', u'personnel', u'persons', u'persuade', u'pert', u'pertained', u'pertinent', u'perturbed', u'pessimism', u'pest', u'pester', u'pesticides', u'petition', u'petitions', u'petty', u'phalanx', u'phase', u'phases', u'philosopher', u'philosophy', u'phone', u'phones', u'phonies', u'photographers', u'photographing', u'phrase', u'physical', u'physically', u'physician', u\"physician's\", u'physics', u'physiology', u'pianist', u'pianists', u'piano', u'pick', u'picked', u'picker', u'pickers', u'picket', u'picketed', u'picketing', u'picking', u'picks', u'pickup', u'picnic', u'picture', u'pictured', u'pictures', u'piece', u'pieces', u'pier', u'piety', u'pile', u'pilgrimage', u'pillow', u'pilot', u'pilots', u'pin', u'pinch-hitter', u'pinch-hitters', u'pine', u'pink', u'pinks', u'pinpoint', u'pioneer', u'pious', u'pipe', u'pipeline', u'piping', u'piracy', u'pirates', u'pistol', u'pitch', u'pitched', u'pitcher', u'pitchers', u'pitches', u'pitching', u'pitfall', u'pitifully', u'pivotal', u'pixies', u'pizza', u'pl.', u'place', u'place-kicker', u'place-kicking', u'placed', u'places', u'placing', u'plague', u'plagued', u'plain', u'plaintiffs', u'plan', u'plane', u'planes', u'planned', u'planner', u'planners', u'planning', u'plans', u'plant', u'planted', u'plants', u'plaques', u'plate', u'plates', u'platform', u'play', u'playable', u'played', u'player', u\"player's\", u'players', u\"players'\", u'playing', u'playoff', u'plays', u'playtime', u'plea', u'plead', u'pleaded', u'pleads', u'pleasant', u'please', u'pleased', u'pleasure', u'pledge', u'pledged', u'pledges', u'plenary', u'plenty', u'plight', u'plot', u'plotting', u'plow', u'plowing', u'plows', u'plunder', u'plunkers', u'plus', u'pocket', u'pocket-size', u'pockets', u'poet', u'poetic', u'poets', u'point', u'pointed', u'pointing', u'points', u'poised', u'pole', u'police', u'policeman', u'policemen', u'policies', u'policy', u'polished', u'politely', u'political', u'politicians', u'politicos', u'politics', u'poll', u'polled', u'polls', u'pollution', u'pondered', u'ponies', u'pool', u'pooling', u'pools', u'poor', u'poor-mouth', u'poorly', u'pop', u'popped', u'pops', u'popular', u'popularity', u'populated', u'population', u'populous', u'pork', u'pork-barrel', u'portable', u'portion', u'portions', u'portrait', u'portrayal', u'posed', u'position', u'positions', u'positive', u'possess', u'possessing', u'possessive', u'possibility', u'possible', u'possibly', u'post', u'posted', u'poster', u'posters', u'postgraduate', u'postman', u'posts', u'potato', u'potatoes', u'potent', u'potential', u'potentially', u'poultry', u'pound', u'pounds', u'pour', u'poured', u'powderpuff', u'power', u'powered', u'powerful', u'powers', u'practical', u'practice', u'practiced', u'practices', u'practicing', u'praise', u'praised', u'pray', u'prayer-time', u'prayers', u'pre-Easter', u'pre-Fair', u'pre-academic', u'pre-school', u'pre-season', u'pre-set', u'preach', u'preached', u'preaching', u'precarious', u'precautionary', u'precede', u'preceded', u'precedence', u'precedent', u'preceding', u'preceeded', u'precinct', u'precincts', u'precipitated', u'precisely', u'preclude', u'predict', u'predictably', u'predicted', u'prediction', u'predominating', u'prefer', u'preferable', u'preferably', u'preferred', u'prefers', u'prejudicial', u'preliminary', u'prelude', u'premier', u'premium', u'preoccupied', u'prepare', u'prepared', u'prepares', u'prepayment', u'presence', u'present', u'presentation', u'presented', u'presently', u'presentments', u'presents', u'preservation', u'preserve', u'preserved', u'preserving', u'presidency', u'president', u\"president's\", u'presidential', u'presides', u'presiding', u'press', u'pressed-paper', u'pressing', u'pressure', u'pressures', u'prestige', u'presumably', u'presumed', u'pretends', u'pretenses', u'pretext', u'pretexts', u'pretty', u'prevailed', u'prevent', u'prevention', u'preview', u'previous', u'previously', u'price', u'price-earnings', u'price-setting', u'priced', u'prices', u'pricing', u'pricking', u'pride', u'priests', u'primarily', u'primary', u'prime', u'princess', u'princesse', u'principal', u'principally', u'principle', u'principles', u'printed', u'prior', u'prior-year', u'priority', u'prison', u'prisoners', u'private', u'private-eye', u'private-school', u'privately', u'privilege', u'privileged', u'privileges', u'prize', u'prizes', u'pro', u'pro-Communist', u'pro-Western', u'pro-Yankee', u'probability', u'probable', u'probably', u'probate', u'probation', u'probe', u'probing', u'problem', u'problems', u'procedure', u'procedures', u'proceed', u'proceeded', u'proceedings', u'proceeds', u'process', u'processes', u'processing', u'procurement', u'prod', u'prodigal', u'produce', u'produced', u'producer', u'producer-hubby', u'producers', u'produces', u'producing', u'product', u'production', u'productions', u'productive', u'products', u'profession', u'professional', u'professionals', u'professor', u'professors', u'profit', u'profits', u'profound', u'program', u'programmed', u'programs', u'progress', u'project', u'projects', u'prominent', u'prominently', u'promise', u'promised', u'promises', u'promising', u'promote', u'promotion', u'promotional', u'prompt', u'promptly', u'prone', u'pronounced', u'pronto', u'proof', u'prop', u'propaganda', u'propeller', u'propeller-driven', u'propelling', u'proper', u'properly', u'properties', u'property', u'proportionate', u'proportionately', u'proposal', u'proposals', u'propose', u'proposed', u'proposes', u'proposing', u'proprietor', u'props', u'pros', u'prosecute', u'prosecution', u'prosecutions', u'prosecutor', u'prosecutors', u'proselytizing', u'prospect', u'prospective', u'prospects', u'prosperity', u'prostitution', u'protect', u'protected', u'protection', u'protective', u'protest', u'protested', u'protests', u'protocol', u'proud', u'prove', u'proved', u'proven', u'provide', u'provided', u'provides', u'providing', u'province', u'provinces', u'provincial', u'provision', u'provisional', u'provisions', u'provocation', u'provoked', u'proximity', u'prudently', u'pry', u'pseudynom', u'psychology', u'public', u'public-school', u'publicity', u'publicized', u'publicly', u'published', u'publishes', u'publishing', u'pubs', u'pull', u'pulled', u'pulling', u'pulse', u'pulse-jet', u'pun', u'punching', u'punted', u'pupils', u'puppet', u\"puppet's\", u'puppets', u'purchase', u'purchased', u'purchases', u'purchasing', u'pure', u'purged', u'purple', u'purpose', u'purposely', u'purposes', u'purse', u'pursued', u'pursuing', u'pursuit', u'push', u'pushed', u'pushing', u'put', u'putout', u'puts', u'putt', u'putted', u'putter', u'putting', u'puzzle', u'qualifications', u'qualified', u'qualify', u'qualities', u'quality', u'quarrel', u'quarreling', u'quarter', u'quarter-century', u'quarter-mile', u'quarter-to-quarter', u'quarterback', u'quarterbacks', u'quarterly', u'quarters', u'quartet', u'queen', u'queries', u'quest', u'question', u'questionable', u'questioned', u'questioning', u'questions', u'quick', u'quickie', u'quickly', u'quiet', u'quiet-spoken', u'quieted', u'quietly', u'quipping', u'quit', u'quite', u'quo', u'quota', u'quotas', u'quote', u'quoted', u'rabbit', u'race', u'raced', u'races', u'racial', u'racing', u'racket', u'racketeer', u'racy', u'radiation', u'radical', u'radio', u'radioactive', u'radioed', u'radiomen', u'radios', u'raft', u'raged', u'rail', u'railing', u'railroad', u\"railroad's\", u'railroading', u'railroads', u'railway', u'rain', u'rain-slick', u'raincoats', u'rains', u'rainstorm', u'rainy', u'raise', u'raised', u'raiser', u'raises', u'raising', u'rallies', u'rally', u'ramp', u'ran', u'ranch', u'rancho', u'range', u'ranged', u'rangers', u'ranges', u'ranging', u'rangy', u'rank', u'ranked', u'ranks', u'ransacked', u'rapid', u'rapidly', u'raping', u'rapped', u'rapport', u'rapt', u'rare', u'rarity', u'rat-a-tat-tatty', u'rate', u'rated', u'rates', u'rather', u'ratification', u'ratified', u'ration', u'rational', u'rationale', u'ratios', u'raw', u\"rbi's\", u're-arguing', u're-elected', u're-election', u're-enactment', u're-set', u'reach', u'reached', u'reaches', u'reaching', u'react', u'reacted', u'reacting', u'reaction', u'reactionary', u'reactions', u'reactor', u'reactors', u'read', u'reader', u'readers', u'readiness', u'reading', u'readjust', u'reads', u'ready', u'real', u'realistic', u'realities', u'realization', u'realize', u'realized', u'realizing', u'really', u'realty', u'reams', u'rear', u'reared', u'reason', u'reasonable', u'reasoning', u'reasons', u'rebel', u'rebellion', u'rebels', u'rebound', u'rebuffed', u'rebuild', u'recalled', u'recalls', u'receipts', u'receive', u'received', u'receives', u'receiving', u'recent', u'recently', u'reception', u'receptive', u'recessed', u'recession', u'recipe', u'recipient', u'recipients', u'reckless', u'reckonings', u'recognize', u'recognized', u'recognizes', u'recommend', u'recommendation', u'recommendations', u'recommended', u'recommends', u'reconsider', u'reconsideration', u'reconstruction', u'reconvened', u'reconvenes', u'reconvention', u'record', u'record-tying', u'recorded', u'recording', u'records', u'recover', u'recovering', u'recovery', u'recruit', u'recruiter', u'recruiting', u'recruits', u'red', u'redecoration', u'redevelopers', u'redhead', u'redistricting', u'redoubled', u'reds', u'reduce', u'reduced', u'reducing', u'reduction', u'reelected', u'reelection', u'reestablish', u'refer', u'reference', u'referendum', u'referred', u'refinement', u'reflected', u'reflecting', u'reflexes', u'refocusing', u'reform', u'reformatory', u'reforms', u'refuel', u'refueling', u'refurbishing', u'refused', u'refuted', u'regard', u'regarded', u'regents', u'regime', u'regional', u'register', u'registered', u'registration', u'regrets', u'regrettable', u'regretted', u'regrouping', u'regular', u'regularly', u'regulate', u'regulated', u'regulating', u'regulation', u'rehabilitation', u'rehearsal', u'reign', u'rein', u'reiterate', u'reiterated', u'reiterating', u'rejected', u'rejection', u'rejoin', u'rejoining', u'rekindling', u'related', u'relations', u'relationship', u'relationships', u'relative', u'relatively', u'relatives', u'relaxation', u'relearns', u'release', u'released', u'relegated', u'relentlessly', u'reliance', u'relief', u'relieve', u'relieved', u'relieves', u'religion', u'religions', u'religious', u'relinquish', u'reluctant', u'reluctantly', u'rely', u'remain', u'remainder', u'remained', u'remaining', u'remains', u'remanding', u'remark', u'remarkable', u'remarkably', u'remarked', u'remarks', u'remedy', u'remember', u'remembered', u'reminiscence', u'reminiscent', u'reminisces', u'remodeling', u'remote', u'removal', u'remove', u'removed', u'render', u'rendered', u'renderings', u'renew', u'renewal', u'renewed', u'renowned', u'rental', u'rentals', u'renting', u'reopening', u'reorganization', u'repaid', u'repair', u'repaired', u'repairs', u'repartee', u'repay', u'repealed', u'repeated', u'repeatedly', u'replace', u'replaced', u'replacement', u'replied', u'replies', u'reply', u'report', u'reported', u'reportedly', u'reporter', u'reporters', u'reporting', u'reports', u'repository', u'represent', u'representation', u'representations', u'representative', u'representatives', u'represented', u'representing', u'represents', u'reprimanded', u'reprisal', u'reproduced', u'reproductions', u'republic', u'reputation', u'reputedly', u'request', u'requested', u'requesting', u'requests', u'require', u'required', u'requirement', u'requirements', u'requires', u'requiring', u'rescind', u'rescue', u'rescued', u'research', u'researchers', u'resembled', u'resembles', u'resent', u'resented', u'resentment', u'reservations', u'reserve', u'reserved', u'reserves', u'reserving', u'reservoir', u'reservoirs', u'reside', u'residence', u'residences', u'resident', u'residential', u'residents', u'residing', u'resignation', u'resigned', u'resist', u'resistance', u'resistant', u'resisting', u'resolution', u'resolve', u'resort', u'resource', u'resourcefulness', u'resources', u'respect', u'respectable', u'respected', u'respective', u'respects', u'respond', u'responded', u'responding', u'response', u'responses', u'responsibilities', u'responsibility', u'responsible', u'rest', u'restaurant', u'restaurants', u'rested', u'resting', u'restless', u'restrain', u'restrained', u'restraint', u'restrict', u'restricted', u'restriction', u'restrictions', u'result', u'resulted', u'resulting', u'results', u'resumed', u'resumption', u'resurrection', u'retail', u'retailers', u'retain', u'retained', u'retains', u'retaliating', u'retarded', u'retire', u'retired', u'retirement', u'retirements', u'retiring', u'retracted', u'retrenching', u'retrospect', u'return', u'returned', u'returning', u'returns', u'reunion', u'revamped', u'reveal', u'revealed', u'revelation', u'revenge', u'revenue', u'revenuers', u'revenues', u'review', u'reviewed', u'reviewing', u'revised', u'revision', u'revisions', u'revive', u'revived', u'revolt', u'revolutionary', u'revolutionized', u'revolving', u'revulsion', u'reward', u'rhythm', u'ribbon', u'ribbons', u'ribs', u'rich', u'richer', u'richest', u'rid', u'ride', u'rides', u'ridiculous', u'riding', u'rifle', u'rifles', u'rig', u'rigged', u'rigging', u'right', u'right-handed', u'rightfield', u'rightfully', u'righthander', u'rights', u'ring', u'ringing', u'rings', u'ringside', u'ringsiders', u'riot', u'rioting', u'ripened', u'ripped', u'rise', u'risen', u'rises', u'rising', u'risk', u'ritiuality', u'ritual', u'rival', u'rivalries', u'rivalry', u'road', u\"road's\", u'roadblock', u'roads', u'roadside', u'roar', u'roaring', u'robbed', u'robber', u'robberies', u'robbery', u'robbing', u'robes', u'rock', u'rock-strewn', u'rocket', u\"rocket's\", u'rocket-bomb', u'rocket-bombs', u'rodents', u'role', u'roles', u'roll', u'rolled', u'roller', u'rolling', u'romp', u'romped', u'roof', u'roofer', u'rookie', u'rookie-of-the-year', u'rookies', u'room', u'rooming', u'roommate', u'roommates', u'rooms', u'rooted', u'rose', u'roses', u'roster', u'rosy', u'rotunda', u'rough', u'rough-housing', u'roughly', u'round', u'rounded', u'rounds', u'roundup', u'route', u'routed', u'routine', u'row', u'royal', u'rubbish', u'ruddy', u'ruefully', u'ruggedly', u'rule', u'ruled', u'rulers', u'rules', u'ruling', u\"ruling's\", u'rumor', u'rumored', u'run', u'run-scoring', u'run-up', u'run-ups', u'runaway', u'rundown', u'runner-up', u'runners', u'running', u'runs', u'runway', u'rural', u'rush', u'rushed', u'rushing', u'ruthless', u'sacker', u'sacrifice', u'sacrifices', u'sacrilege', u'sad', u'sadism', u'safari', u'safe', u'safely', u'safeties', u'safety', u'saffron', u'sagging', u'said', u'sailing', u'sake', u'salaries', u'salary', u'sale', u'sales', u'sales-conscious', u'salesman', u\"salesman's\", u'salesmanship', u'salting', u'salutary', u'saluted', u'same', u'sampled', u'sanctuary', u'sand', u'sandwich', u'sang', u'sank', u'sat', u'satin', u'satisfaction', u'satisfactorily', u'satisfactory', u'satisfied', u'satisfy', u'satisfying', u'saturation', u'saute', u'savage', u'save', u'saved', u'saves', u'saving', u'savings', u'saw', u'saws', u'say', u'saying', u'says', u'scale', u'scalloped', u'scandals', u'scapegoats', u'scarcely', u'scattered', u'scene', u'scenery', u'scenic', u'schedule', u'scheduled', u'schedules', u'scheduling', u'scheme', u'scholar', u'scholars', u'scholarship', u'scholarships', u'scholastic', u'scholastically', u'scholastics', u'school', u\"school's\", u'schoolers', u'schooling', u'schools', u'science', u'scientific', u'scientist', u'scoop', u'scope', u'score', u'scoreboard', u'scoreboards', u'scorecard', u'scored', u'scoreless', u'scoring', u'scramble', u'scrambled', u'scrapbook', u'scratches', u'scratching', u'screen', u'screenings', u'scrimmage', u'scrimmaged', u'script', u'scriptures', u'scrutiny', u'sculpture', u'sculptured', u'sculptures', u'sea', u'seams', u'search', u'seashore', u'seaside', u'season', u\"season's\", u'seasonal', u'seasonally', u'seasoned', u'seasons', u'seat', u'seated', u'seats', u'secede', u'seceded', u'secessionist', u'second', u'second-degree', u'second-echelon', u'second-half', u'second-place', u'secondary', u'seconds', u'secret', u'secretarial', u'secretary', u\"secretary's\", u'secretary-treasurer', u'secretly', u'secrets', u'section', u'sections', u'sectors', u'secular', u'secure', u'securities', u'security', u'see', u'seed', u'seedless', u'seeing', u'seek', u'seekers', u'seeking', u'seeks', u'seem', u'seemed', u'seemingly', u'seems', u'seen', u'sees', u'segment', u'segregated', u'segregation', u'segregationist', u'seize', u'seized', u'seldom', u'select', u'selected', u'selection', u'selections', u'selects', u'self-crimination', u'self-exile', u'self-plagiarisms', u'self-portrait', u'self-respect', u'self-restraint', u'self-sacrifice', u'selfish', u'sell', u'selling', u'sellout', u'sells', u'semester', u'semipublic', u'senate', u'senator', u'senators', u'send', u'sending', u'senior', u'seniority', u'seniors', u'sensation', u'sensational', u'sense', u'senseless', u'sensitive', u'sent', u'sentence', u'sentenced', u'sentences', u'sentencing', u'separate', u'separated', u'separately', u'separating', u'separation', u'separators', u'sequins', u'serene', u'series', u'serious', u'seriously', u'servants', u'serve', u'served', u'serves', u'service', u'services', u'serving', u'session', u'sessions', u'set', u'setback', u'setbacks', u'sets', u'setting', u'settle', u'settled', u'settlement', u'settling', u'setup', u'seven', u'seven-hit', u'seven-iron', u'seven-stories', u'seventeen', u'seventh', u'several', u'severe', u'severely', u'severly', u'sewage', u'sewer', u'sewing', u'sex', u'sexton', u'shade', u'shades', u'shadows', u'shadowy', u'shake', u'shaken', u'shaking', u'shaky', u'shall', u'shape', u'shaped', u'shapeless', u'share', u'shared', u'shareholder', u'shareholders', u'shares', u'sharing', u'sharp', u'sharply', u'she', u'sheep', u'sheet', u'shell', u'shelter', u'shelters', u'shelves', u'sheriff', u\"sheriff's\", u'shift', u'shifting', u'shiny', u'ship', u'shipments', u'shipped', u'shipping', u'ships', u'shirking', u'shocked', u'shocker', u'shoe', u'shoes', u'shoji', u'shooting', u'shootings', u'shop', u\"shop's\", u'shopping', u'shops', u'short', u'short-term', u'shortage', u'shortages', u'shortcuts', u'shortly', u'shortstop', u'shot', u'shotgun', u'shots', u'should', u'shouldda', u'shoulder', u'shoulders', u\"shouldn't\", u'shouted', u'shouting', u'show', u'showdown', u'showed', u'showing', u'showings', u'showman', u'showmanship', u'shown', u'shows', u'shrewd', u'shrimp', u'shrines', u'shrink', u'shrinkage', u'shrinking', u'shrugged', u'shuns', u'sick', u'side', u'sidechairs', u'sidelines', u'sidemen', u'siding', u'sidled', u'sighed', u'sight', u'sights', u'sign', u'signal', u'signaled', u'signals', u'signature', u'signatures', u'signed', u'signers', u'significance', u'significant', u'signing', u'signs', u'silenced', u'silent', u'silhouette', u'silhouettes', u'silk', u'silly', u'silver', u'similar', u'simple', u'simplest', u'simplicity', u'simply', u'simultaneous', u'since', u'sing', u'singers', u'singing', u'single', u'singled', u'sink', u'sinking', u'sinless', u'sins', u'sir', u'sirens', u'sister', u\"sister's\", u'sister-in-law', u'sisters', u'sit', u'site', u'sites', u'sitting', u'situation', u'situations', u'six', u'six-point', u'sixth', u'sixth-sense', u'sizable', u'size', u'skeet', u'skid', u'skidded', u'skidding', u'skiddy', u'skies', u'skilled', u'skills', u'skimmed', u'skins', u'skip', u'skips', u'skirt', u'skit', u'skits', u'sky', u'skyjacked', u'skyjackers', u'skylarking', u'slackening', u'slammed', u'slapstick', u'slash', u'slashed', u'slate', u'slated', u'slaughter', u'slave', u'slaying', u'sledding', u'sleeping', u'sleeps', u'slender', u'slice', u'sliced', u'slid', u'slides', u'slight', u'slightly', u'slim', u'slip', u'slipped', u'slipper', u'slippers', u'slob', u'slogan', u'slogans', u'slope', u'slow', u'slow-baked', u'slow-bouncing', u'slowed', u'slower', u'slowly', u'slowly-mending', u'slug', u'slugged', u'slugger', u'sluggers', u'slugging', u'slugs', u'sluice', u'slump', u'slumped', u'slums', u'sly', u'small', u'small-town', u'smaller', u'smallest', u'smash', u'smashed', u'smell', u'smelling', u'smelts', u'smile', u'smiles', u'smoldered', u'smooth', u'smoothed', u'smoother', u'smothered', u'smuggling', u'snack', u'snacks', u'snake', u'snapback', u'snapped', u'snow', u'snowfall', u'snubbed', u'snubbing', u'so', u'so-called', u'so-far', u'so-so', u'soaring', u'social', u'socialized', u'societies', u'society', u'socket', u'socks', u'sofas', u'soft', u'soft-shell', u'softened', u'softening', u'soil', u'sold', u'soldier', u'soldiers', u'solemnly', u'solicit', u'solicitor', u'solicits', u'solid', u'solidarity', u'solo', u'soloists', u'solos', u'solution', u'solve', u'solved', u'solving', u'some', u'somebody', u'somehow', u'someone', u'someplace', u'something', u'sometime', u'sometimes', u'somewhat', u'somewhere', u'son', u'son-in-law', u'song', u'songs', u'sons', u'soon', u'sooner', u'sophisticated', u'sophomore', u'sore', u'sorely', u'sorry', u'sort', u'sorts', u'sought', u'sound', u'sounded', u'soup', u'source', u'sources', u'south', u'southeast', u'southern-central', u'southpaw', u'southward', u'southwest', u'souvenir', u'soviet', u'sow', u'sp.', u'space', u'spacious', u'span', u'spare', u'sparing', u'spark', u'sparkle', u'sparks', u'sparsely', u'speak', u'speaker', u'speakers', u'speaking', u'spearhead', u'special', u'special-interest', u'specialists', u'specialization', u'specialize', u'specialized', u'specializing', u'specialties', u'specific', u'specifically', u'specifications', u'specified', u'specimen', u'speck', u'spectacular', u'spectator', u'spectators', u'specter', u'speculated', u'speculating', u'speculations', u'speculative', u'sped', u'speech', u'speech-making', u'speeches', u'speed', u'speeding', u'speedy', u'spell', u'spelled', u'spend', u'spending', u'spends', u'spent', u'sphynxes', u'spice', u'spices', u'spider-leg', u'spills', u'spirit', u'spirits', u'spiritual', u'splendid', u'split', u'split-level', u'splitting', u'spoke', u'spoken', u'spokesman', u'spokesmen', u'spongy', u'sponsor', u'sponsored', u'sponsoring', u'sponsors', u'sponsorship', u'spontaneous', u'spontaneously', u'spooned', u'sporadic', u'sport', u'sporting', u'sports', u'sportsman', u'sportswriter', u'spot', u'spotlight', u'spotlights', u'spots', u'spotted', u'spouse', u'sprained', u'spraying', u'spread', u'spreads', u'spree', u'spring', u'spring-training', u'springboard', u'springing', u'sprinkle', u'spun', u'spurred', u'spurt', u'spy', u'squabbles', u'squad', u'squads', u'square', u'squared', u'squarely', u'squeeze', u'squeezed', u'stab', u'stabilization', u'stadium', u'staff', u'staffed', u'staffing', u'staffs', u'stag', u'stage', u'stagecoach', u'staged', u'stages', u'staggered', u'staging', u'stairs', u'stake', u'stakes', u'stalemate', u'stalled', u'stances', u'stand', u'stand-ins', u'standard', u'standards', u'standing', u'standpoint', u'stands', u'star', u'stared', u'starred', u'starring', u'stars', u'start', u'started', u'starter', u'starting', u'startled', u'startling', u'startlingly', u'starts', u'state', u\"state's\", u'stated', u'statement', u'statements', u'states', u'statesmen', u'statewide', u'stating', u'station', u'stations', u'statistical', u'statistics', u'statues', u'stature', u'status', u'statutes', u'statutory', u'staunchest', u'stave', u'stay', u'stayed', u'stays', u'steady', u'steak', u'steaks', u'steal', u'steam', u'steamed', u'steamily', u'steaming', u'steamship', u'steel', u'steelmaker', u\"steelmakers'\", u'steep', u'steer', u'steered', u'steering', u'stein', u'stemmed', u'stems', u'step', u'stephanotis', u'stepped', u'stepped-up', u'stepping', u'steps', u'stepson', u'stereotype', u'stevedore', u'stew', u'stewardess', u'stewardesses', u'stewards', u'stick', u'stiff', u'still', u'still-building', u'stimulant', u'stimulation', u'stimulatory', u'stimulus', u'stirling', u'stirred', u'stitch', u'stock', u'stockholder', u'stockholders', u'stocks', u'stoked', u'stole', u'stolen', u'stomach', u'stomachs', u'stood', u'stop', u'stopovers', u'stoppage', u'stoppages', u'stopped', u'stopping', u'stops', u'storage', u'store', u'stores', u'stories', u'storm', u'storms', u'story', u'stove', u'straight', u'straight-line', u'straightaway', u'strain', u'strange', u'strategic', u'strategy', u'strayed', u'streak', u'streaked', u'stream', u'streamer', u'streamlined', u'streamliner', u'streams', u'street', u'streetcar', u'streets', u'strength', u'strengthen', u'strengthened', u'strengthening', u'stressed', u'stresses', u'stretch', u'stretching', u'strictly', u'strike', u'strikes', u'striking', u'strikingly', u'string', u'strings', u'strip', u'stripped', u'strive', u'stroke', u'strokes', u'strong', u'stronger', u'strongest', u'strongly', u'strongrooms', u'struck', u'structure', u'structured', u'structures', u'struggle', u'struggles', u'struggling', u'stuck', u'student', u'students', u\"students'\", u'studied', u'studies', u'studio', u'study', u'studying', u'stuff', u'stuffed', u'stultifying', u'stunk', u'stupidity', u'style', u'styling', u'suavity', u'sub', u'sub-zero', u'subbing', u'subcommittee', u'subdivision', u'subdue', u'subdued', u'subject', u'subjected', u'subjects', u'sublime', u'submachine', u'submarine', u'submarine-ball', u'submarines', u'submitted', u'subordinated', u'subpenaed', u'subpenas', u'subpoenas', u'subs', u'subscribe', u'subsequent', u'subsequently', u'subsidiary', u'subsidies', u'subsidized', u'subsidy', u'subsistence', u'substance', u'substantial', u'substantially', u'substantiation', u'substitute', u'substitutionary', u'subtitled', u'suburb', u'suburban', u'suburbs', u'succeed', u'succeeded', u'succeeding', u'succeeds', u'success', u'successes', u'successful', u'successfully', u'succession', u'successive', u'successor', u'successors', u'such', u'sudden', u'suddenly', u'sue', u'sued', u'suffered', u'suffering', u'sufficient', u'sufficiently', u'suffrage', u'suffragettes', u'sugar', u'suggest', u'suggested', u'suggestion', u'suggestions', u'suicide', u'suit', u'suitable', u'suitcases', u'suite', u'suited', u'suites', u'suits', u'sum', u'summed', u'summer', u\"summer's\", u'summertime', u'summit', u'summitry', u'summoned', u'sumptuous', u'sums', u'sun', u'sun-tanned', u'sunbonnet', u'super', u'super-secret', u'superintendent', u\"superintendent's\", u'superior', u'supermarkets', u'supernatural', u'supersensitive', u'supervise', u'supervision', u'supervisor', u'supervisors', u'supper', u'supplement', u'supplied', u'supplies', u'supply', u'supplying', u'support', u'supported', u'supporters', u'supports', u'supposed', u'supposedly', u'suppressed', u'supreme', u'sure', u'surely', u'surfaces', u'surge', u'surged', u'surgery', u'surpassed', u'surplus', u'surpluses', u'surprise', u'surprised', u'surprises', u'surprising', u'surrender', u'surrounded', u'surveillance', u'survey', u'surveyed', u'survival', u'survive', u'surviving', u'survivors', u'susceptible', u'suspect', u'suspected', u'suspects', u'suspend', u'suspended', u'suspicion', u'suspicious', u'swap', u'swarm', u'sway', u'swearing', u'swearing-in', u'sweat-suits', u'sweater', u'sweeping', u'sweets', u'swelling', u'swept', u'swift', u'swift-striding', u'swim', u'swimming', u'swine', u'swing', u'swinging', u'swings', u'swipe', u'switch', u'switch-hitter', u'switched', u'switching', u'swum', u'swung', u'symbol', u'sympathetic', u'sympathy', u'symphony', u\"symphony's\", u'syndicate', u'system', u\"system's\", u'systems', u'tab', u'table', u'tables', u'tacked', u'tackle', u'tactic', u'tactical', u'tactics', u'taffeta', u'tag', u'tagged', u'tail', u'take', u'take-off', u'taken', u'takes', u'taking', u'takings', u'talent', u'talents', u'talk', u'talked', u'talking', u'talks', u'tall', u'tallies', u'tally', u'tambourine', u'tangible', u'tangle', u'tank', u'tanks', u'tape', u'taper', u'tapestries', u'tapestry', u'tapped', u'tardiness', u'target', u'task', u'tasks', u'taste', u'tasteful', u'tastes', u'tattered', u'taught', u'taunted', u'tax', u'tax-aided', u'tax-exempt', u'tax-exemption', u'tax-free', u'tax-freedom', u'taxable', u'taxation', u'taxed', u'taxes', u'taxi', u'taxiing', u'taxing', u'taxpayer', u\"taxpayer's\", u'taxpayers', u\"taxpayers'\", u'tea', u'teach', u'teacher', u'teacher-employee', u'teachers', u'teaches', u'teaching', u'teahouse', u'team', u\"team's\", u'teammate', u\"teammate's\", u'teammates', u\"teammates'\", u'teams', u\"teams'\", u'teamster', u'teamsters', u'teardrop', u'tearing', u'tears', u'tease', u'technical', u'technicians', u'technique', u'techniques', u'technology', u'tee', u'teen-age', u'teen-agers', u'teenage', u'teenagers', u'teeth', u'telephone', u'telephoned', u'teletype', u'televised', u'television', u'tell', u'telling', u'tells', u'temper', u'temperament', u'temperate', u'temperatures', u'temporarily', u'temporary', u'ten', u'ten-concert', u'ten-hour', u'ten-month', u'tend', u'tended', u'tendency', u'tending', u'tennis', u'tenor', u'tense', u'tension', u'tensions', u'tent', u'tentative', u'tentatively', u'tenths', u'tenure', u'term', u'term-end', u'termed', u'terminate', u'terminated', u'termination', u'terms', u'terrace', u'terribly', u'territories', u'territory', u'terror', u'test', u'testified', u'testify', u'testimony', u'testing', u'tests', u'text', u'textile', u'textile-exporting', u'textile-importing', u'textile-producing', u'textiles', u'texture', u'than', u'thank', u'thanks', u'that', u\"that's\", u'the', u'theater', u'theaters', u'theatrical', u'theft', u'their', u'them', u'theme', u'themselves', u'then', u'theologian', u'theory', u'there', u\"there's\", u'thereafter', u'thereby', u'therefore', u'thereupon', u'these', u'thesis', u'they', u\"they'd\", u\"they're\", u\"they've\", u'thieves', u'thigh', u'thin', u'thing', u'things', u'think', u'thinking', u'thinks', u'thinning', u'third', u'third-inning', u'thirds', u'thirteen', u'thirty', u'thirty-eighth', u'this', u'thorny', u'thoroughfare', u'thoroughly', u'those', u'though', u'thought', u'thousand', u'thousands', u'threads', u'threat', u'threaten', u'threatened', u'threatening', u'threats', u'three', u'three-building', u'three-day', u'three-fifths', u'three-front', u'three-hour', u'three-inning', u'three-man', u'three-month', u'three-round', u'three-story', u'three-way', u'three-wood', u'three-year', u'threesome', u'threshold', u'threw', u'thrill', u'thrilling', u'thriving', u'through', u'throughout', u'throw', u'throwing', u'throws', u'thru', u'thrusts', u'thug', u'thunderous', u'thus', u'thwarted', u'ticket', u'tickets', u'tidal', u'tide', u'tidelands', u'tidying', u'tie', u'tied', u'tiers', u'ties', u'tight', u'tighten', u'tightly', u'tile', u'tiled', u'tiles', u'tilling', u'tilts', u'time', u'timed', u'timeless', u'timely', u'times', u'timetable', u'timing', u'tin', u'tiny', u'tip', u'tipped', u'tired', u'tires', u'titian-haired', u'title', u'title-holder', u'titled', u'titles', u'titular', u'to', u'toast', u'today', u\"today's\", u'toes', u'together', u'token', u'told', u'tolerated', u'toll', u'toll-rate', u'toll-road', u'tolls', u'tomato-red', u'tomb', u'tomorrow', u\"tomorrow's\", u'ton', u'tone', u'toneless', u'tones', u'tongues', u'tonight', u\"tonight's\", u'tons', u'too', u'took', u'tool', u'toolmaker', u'tools', u'top', u'top-grade', u'top-ranking', u'topics', u'topnotch', u'tops', u'tore', u'torn', u'torpedoes', u'tortured', u'toss', u'tossed', u'tosses', u'total', u'totaled', u'totaling', u'totalitarian', u'totally', u'totals', u'touch', u'touchdown', u'touchdowns', u'touched', u'touches', u'tough', u'tougher', u'toughness', u'tour', u'toured', u'tourists', u'tournament', u'tournaments', u'tours', u'toward', u'towards', u'towel', u'towels', u'tower', u'towering', u'town', u\"town's\", u'toy', u'toys', u'tracing', u'track', u'tracks', u'tract', u'tractor', u'tractor-trailer', u'tractors', u'tracts', u'trade', u'traded', u'trading', u'tradition', u'traditional', u'traditionally', u'traffic', u'tragedies', u'tragedy', u'trailed', u'trailing', u'train', u'trained', u'training', u'trains', u'trait', u'trampled', u'transaction', u'transatlantic', u'transcended', u'transfer', u'transferred', u'transferring', u'transfers', u'transit', u'transition', u'translate', u'translated', u'translates', u'transmitter', u'transportation', u'transporting', u'transports', u'travel', u'traveled', u'traveling', u'trawler', u'treacheries', u'treasurer', u'treasures', u'treat', u'treated', u'treating', u'treatment', u'trees', u'tremendous', u'trend', u'trends', u'tri-motor', u'trial', u'trials', u'tribe', u'tribes', u'tribesmen', u'tribunal', u'tribunals', u'tribute', u'trick', u'tricked', u'tried', u'tries', u'trim', u'trimmed', u'trims', u'trio', u'trip', u'tripartite', u'triple', u'triple-crown', u'tripled', u'tripping', u'trips', u'triumph', u'triumphs', u'trivial', u'troops', u'troopships', u'trophy', u'trouble', u'troubled', u'troubles', u'troublesome', u'trout', u'truce', u'truck', u'trucks', u'true', u'truly', u'trumpet', u'truncated', u'trust', u'trusted', u'trustees', u\"trustees'\", u'trusting', u'truth', u'truths', u'try', u'trying', u'tuba', u'tube', u'tuck', u'tucked', u'tulle', u'tumbled', u'turbines', u'turmoil', u'turn', u'turned', u'turning', u'turnpike', u'turnpikes', u'turns', u'tusks', u'tutors', u'twelfth', u'twelve', u'twenty', u'twenty-first', u'twice', u'twice-a-year', u'twin', u'twirler', u'twisting', u'two', u'two-and-a-half-mile', u'two-family', u'two-game', u'two-hour', u'two-run', u'two-season', u'two-story', u'two-thirds', u'two-year', u'two-year-old', u'twosome', u'tying', u'type', u'types', u'typewriter', u'typewriters', u'typhoon', u'typical', u'ugly', u'ultimate', u'ultimately', u'ultimatum', u'unable', u'unaccustomed', u'unanimity', u'unanimous', u'unanimously', u'unarmed', u'uncertain', u'unchanged', u'unchecked', u'uncle', u'uncles', u'uncommitted', u'uncommon', u'unconsciously', u'unconstitutional', u'uncontrolled', u'unconventional', u'uncorked', u'undefined', u'under', u'under-developed', u'underbelly', u'underdeveloped', u'underestimate', u'undergo', u'undergoing', u'undergone', u'undergraduate', u'underground', u'underlying', u'undermine', u'undermining', u'underprivileged', u'undersea', u'understand', u'understandable', u'understandably', u'understanding', u'understands', u'understatement', u'understates', u'understood', u'undertake', u'undertaken', u'undertakes', u'underwater', u'underwrite', u'underwriter', u'underwriters', u'underwriting', u'undetermined', u'undeveloped', u'undisputed', u'undistinguished', u'undoubtedly', u'undue', u'une', u'unearned', u'unemployment', u'unexpected', u'unfair', u'unfamiliar', u'unfortunately', u'unhappiest', u'unhappily', u'unhappy', u'unheard', u'unified', u'uniform', u'uniformed', u'uniforms', u'unify', u'uninjured', u'union', u\"union's\", u'unions', u'unique', u'uniquely', u'unit', u'unite', u'units', u'unity', u'universal', u'universities', u'university', u\"university's\", u'unknown', u'unknowns', u'unless', u'unlike', u'unlikely', u'unlinked', u'unmarried', u'unmatched', u'unmeritorious', u'unmistakably', u'unnecessary', u'unnoticed', u'unofficial', u'unpleasant', u'unprecedented', u'unpredictability', u'unprepared', u'unprofitable', u'unquestionably', u'unresponsive', u'unrest', u'unrestrictedly', u'unsatisfactory', u'unscathed', u'unspecified', u'unspoken', u'unsupported', u'unsure', u'until', u'untold', u'untrammeled', u'unusual', u'unusually', u'unveiled', u'unworkable', u'up', u'updated', u'upheld', u'uphold', u'upon', u'upped', u'upper', u'uprisings', u'upset', u'upshots', u'upstairs', u'upswing', u'uptown', u'uptrend', u'upturn', u'upward', u'upwards', u'uranium', u'urban', u'urged', u'urgency', u'urgent', u'urges', u'urging', u'us', u'use', u'used', u'useful', u'usefulness', u'useless', u'uses', u'using', u'usual', u'usually', u'utilitarian', u'utilities', u'utility', u'utter', u'utterly', u'vacancies', u'vacancy', u'vacated', u'vacation', u'vacationing', u'vaguely', u'vagueness', u'valid', u'validated', u'validity', u'valuable', u'valuation', u'value', u'valued', u'valve', u'vanilla', u'vantage', u'variation', u'variations', u'varied', u'varieties', u'variety', u'various', u'variously', u'vary', u'varying', u'vast', u'vehemence', u'vehicle', u'vehicles', u'vehicular', u'veil', u'veiled', u'venerable', u'venom', u'vented', u'ventilates', u'venture', u'ventured', u'verbally', u'verdict', u'verification', u'verify', u'versatile', u'versed', u'version', u'very', u'vessel', u'vests', u'veteran', u'veto', u'vexing', u'via', u'vice', u'vice-chairman', u'vice-president', u'vicinity', u'vicious', u'victim', u'victimized', u'victims', u'victories', u'victory', u'video', u'view', u'viewed', u'viewers', u'viewing', u'viewpoint', u'views', u'vigor', u'vigorous', u'vigorously', u'villa', u'village', u'vindicated', u'vindication', u'vines', u'violate', u'violated', u'violating', u'violation', u'violations', u'violence', u'violent', u'violin', u'violinists', u'virile', u'virtually', u'virtue', u'virtues', u'visa', u'visible', u'visibly', u'vision', u'visit', u'visited', u'visiting', u'visitor', u'visitors', u'visits', u'vital', u'vitality', u'vitally', u'vivid', u'vocalization', u'vocals', u'vocational', u'voice', u'voiced', u'volume', u'volumes', u'voluntarily', u'voluntary', u'volunteer', u'volunteered', u'volunteers', u'vote', u'voted', u'voter', u'voters', u'votes', u'voting', u'vouchers', u'vow', u'vowed', u'vows', u'vs.', u'vulgar', u'w.', u'wage', u'waged', u'wages', u'wagging', u'wagons', u'wailed', u'wait', u'waited', u'waiting', u'walk', u'walked', u'walking', u'walkout', u'walks', u'walkways', u'wall', u'wall-to-wall', u'wallet', u'walloped', u'walloping', u'walls', u'walnut', u'want', u'wanted', u'wanting', u'wants', u'war', u\"war's\", u'war-ridden', u'warbling', u'ward', u'warden', u'wardens', u'wardrobe', u'wards', u'warehouse', u\"warehouseman's\", u'warfare', u'warhead', u'warless', u'warm', u'warmed', u'warmth', u'warn', u'warned', u'warning', u'warnings', u'warrant', u'wars', u'wary', u'was', u'wash', u'washed', u'washed-out', u\"wasn't\", u'wasteful', u'watch', u'watched', u'watchers', u'watching', u'water', u'watered', u'waterfront', u'waterline', u'waters', u'wave', u'waved', u'wavelengths', u'way', u'ways', u'wayward', u'we', u\"we'd\", u\"we'll\", u\"we're\", u\"we've\", u'weaken', u'weakened', u'weaker', u'weakness', u'weaknesses', u'wealth', u'wealthy', u'weapon', u'weapons', u'wear', u'wearing', u'weary', u'weather', u'wed', u'wedding', u'wedge', u'weeds', u'week', u\"week's\", u'week-end', u'weekend', u'weekly', u'weeks', u'weigh', u'weighs', u'weight', u'welcome', u'welcomed', u'welcoming', u'welfare', u'well', u'well-armed', u'well-established', u'well-informed', u'well-planned', u'well-played', u'well-prepared', u'well-springs', u'well-stocked', u'welled', u'wellknown', u'went', u'were', u\"weren't\", u'west', u'western', u'wetlands', u'what', u'whatever', u'wheat', u'wheel', u'wheeled', u'wheels', u'when', u'where', u'whereby', u'wherever', u'whether', u'which', u'whichever', u'while', u'whims', u'whip', u'whiplash', u'whipped', u'whirling', u'whisking', u'white', u'white-clad', u'whites', u'whiz', u'who', u'whole', u'wholesale', u'wholly', u'wholly-owned', u'whom', u'whopping', u'whose', u'why', u'wide', u'wide-open', u'wide-ranging', u'widely', u'wider', u'widespread', u'widow', u'widowed', u'wife', u\"wife's\", u'wild', u'wilderness', u'wildlife', u'wildly', u'will', u'willing', u'willingness', u'win', u'wind', u'wind-and-water', u'window', u'windows', u'winds', u'windshield', u'windy', u'wing', u'winged', u'wings', u'winless', u'winner', u'winners', u'winning', u'winnings', u'wins', u'winter', u'wintertime', u'wiped', u'wiping', u'wire', u'wired', u'wisdom', u'wish', u'wished', u'wistfully', u'with', u'withdraw', u'withdrawal', u'withdrawing', u'withdrawn', u'within', u'without', u'withstand', u'witness', u'witnessed', u'witnesses', u'witnessing', u'woman', u\"woman's\", u'women', u\"women's\", u'women-trodden', u'won', u\"won't\", u'won-lost', u'wonder', u'wonderful', u'wonderfully', u'woo', u'wood', u'woodcarver', u'wooden', u'woods', u'wool', u'word', u'worded', u'wording', u'words', u'wore', u'work', u'workable', u'worked', u'worker', u'workers', u\"workers'\", u'working', u'workmen', u'workout', u'works', u'workshop', u'workshops', u'world', u\"world's\", u'world-famous', u'world-wide', u'wormy', u'worn', u'worry', u'worse', u'worsens', u'worship', u'worst', u'worth', u'worthiest', u'would', u\"wouldn't\", u'wound', u'wrangler', u'wrapping', u'wreath', u'wreck', u'wrecked', u'wrinkle', u'wrinkles', u'write', u'writer', u'writers', u\"writers'\", u'writes', u'writing', u'written', u'wrong', u'wrongdoing', u'wrongful', u'wrote', u'yard', u'yardage', u'yards', u'yardstick', u'yarn', u'ye', u'year', u\"year's\", u'year-earlier', u'year-old', u'year-round', u'year-to-year', u'yearbook', u'yearly', u'years', u\"years'\", u'yeast', u'yellow', u'yen', u'yesterday', u\"yesterday's\", u'yesteryear', u'yet', u'yield', u'yielding', u'yields', u'yodel', u'you', u\"you'd\", u\"you'll\", u\"you're\", u\"you've\", u'young', u'younger', u'youngest', u'youngsters', u'your', u'yourself', u'youth', u'youthful', u'youths', u'zeal', u'zeroed', u'zinc', u'zombies', u'zone']\n"
     ]
    }
   ],
   "source": [
    "word_list = sorted(set(tokens))\n",
    "print word_list"
   ]
  },
  {
   "cell_type": "code",
   "execution_count": null,
   "metadata": {
    "collapsed": false
   },
   "outputs": [],
   "source": [
    "fd = nltk.FreqDist(nltk.corpus.brown.words())\n",
    "cumulative = 0.0\n",
    "for rank, word in enumerate(fd):\n",
    "    cumulative += fd[word] * 100 / fd.N()\n",
    "    print \"%3d %6.2f% %s\" % (rank + 1, cumulative, word)\n",
    "    if cumulative > 25:\n",
    "        break"
   ]
  },
  {
   "cell_type": "code",
   "execution_count": 3,
   "metadata": {
    "collapsed": false
   },
   "outputs": [
    {
     "data": {
      "text/plain": [
       "nltk.probability.FreqDist"
      ]
     },
     "execution_count": 3,
     "metadata": {},
     "output_type": "execute_result"
    }
   ],
   "source": [
    "fd = nltk.FreqDist(nltk.corpus.brown.words())\n",
    "type(fd)"
   ]
  },
  {
   "cell_type": "code",
   "execution_count": 6,
   "metadata": {
    "collapsed": false
   },
   "outputs": [
    {
     "name": "stdout",
     "output_type": "stream",
     "text": [
      "Help on class FreqDist in nltk.probability:\n",
      "\n",
      "nltk.probability.FreqDist = class FreqDist(collections.Counter)\n",
      " |  A frequency distribution for the outcomes of an experiment.  A\n",
      " |  frequency distribution records the number of times each outcome of\n",
      " |  an experiment has occurred.  For example, a frequency distribution\n",
      " |  could be used to record the frequency of each word type in a\n",
      " |  document.  Formally, a frequency distribution can be defined as a\n",
      " |  function mapping from each sample to the number of times that\n",
      " |  sample occurred as an outcome.\n",
      " |  \n",
      " |  Frequency distributions are generally constructed by running a\n",
      " |  number of experiments, and incrementing the count for a sample\n",
      " |  every time it is an outcome of an experiment.  For example, the\n",
      " |  following code will produce a frequency distribution that encodes\n",
      " |  how often each word occurs in a text:\n",
      " |  \n",
      " |      >>> from nltk.tokenize import word_tokenize\n",
      " |      >>> from nltk.probability import FreqDist\n",
      " |      >>> sent = 'This is an example sentence'\n",
      " |      >>> fdist = FreqDist()\n",
      " |      >>> for word in word_tokenize(sent):\n",
      " |      ...    fdist[word.lower()] += 1\n",
      " |  \n",
      " |  An equivalent way to do this is with the initializer:\n",
      " |  \n",
      " |      >>> fdist = FreqDist(word.lower() for word in word_tokenize(sent))\n",
      " |  \n",
      " |  Method resolution order:\n",
      " |      FreqDist\n",
      " |      collections.Counter\n",
      " |      __builtin__.dict\n",
      " |      __builtin__.object\n",
      " |  \n",
      " |  Methods defined here:\n",
      " |  \n",
      " |  B(self)\n",
      " |      Return the total number of sample values (or \"bins\") that\n",
      " |      have counts greater than zero.  For the total\n",
      " |      number of sample outcomes recorded, use ``FreqDist.N()``.\n",
      " |      (FreqDist.B() is the same as len(FreqDist).)\n",
      " |      \n",
      " |      :rtype: int\n",
      " |  \n",
      " |  N(self)\n",
      " |      Return the total number of sample outcomes that have been\n",
      " |      recorded by this FreqDist.  For the number of unique\n",
      " |      sample values (or bins) with counts greater than zero, use\n",
      " |      ``FreqDist.B()``.\n",
      " |      \n",
      " |      :rtype: int\n",
      " |  \n",
      " |  Nr(self, r, bins=None)\n",
      " |  \n",
      " |  __ge__ lambda self, other\n",
      " |      # @total_ordering doesn't work here, since the class inherits from a builtin class\n",
      " |  \n",
      " |  __gt__ lambda self, other\n",
      " |  \n",
      " |  __init__(self, samples=None)\n",
      " |      Construct a new frequency distribution.  If ``samples`` is\n",
      " |      given, then the frequency distribution will be initialized\n",
      " |      with the count of each object in ``samples``; otherwise, it\n",
      " |      will be initialized to be empty.\n",
      " |      \n",
      " |      In particular, ``FreqDist()`` returns an empty frequency\n",
      " |      distribution; and ``FreqDist(samples)`` first creates an empty\n",
      " |      frequency distribution, and then calls ``update`` with the\n",
      " |      list ``samples``.\n",
      " |      \n",
      " |      :param samples: The samples to initialize the frequency\n",
      " |          distribution with.\n",
      " |      :type samples: Sequence\n",
      " |  \n",
      " |  __le__(self, other)\n",
      " |  \n",
      " |  __lt__ lambda self, other\n",
      " |  \n",
      " |  __repr__(self)\n",
      " |      Return a string representation of this FreqDist.\n",
      " |      \n",
      " |      :rtype: string\n",
      " |  \n",
      " |  __str__(self)\n",
      " |      Return a string representation of this FreqDist.\n",
      " |      \n",
      " |      :rtype: string\n",
      " |  \n",
      " |  __unicode__ = __str__(self)\n",
      " |      Return a string representation of this FreqDist.\n",
      " |      \n",
      " |      :rtype: string\n",
      " |  \n",
      " |  copy(self)\n",
      " |      Create a copy of this frequency distribution.\n",
      " |      \n",
      " |      :rtype: FreqDist\n",
      " |  \n",
      " |  freq(self, sample)\n",
      " |      Return the frequency of a given sample.  The frequency of a\n",
      " |      sample is defined as the count of that sample divided by the\n",
      " |      total number of sample outcomes that have been recorded by\n",
      " |      this FreqDist.  The count of a sample is defined as the\n",
      " |      number of times that sample outcome was recorded by this\n",
      " |      FreqDist.  Frequencies are always real numbers in the range\n",
      " |      [0, 1].\n",
      " |      \n",
      " |      :param sample: the sample whose frequency\n",
      " |             should be returned.\n",
      " |      :type sample: any\n",
      " |      :rtype: float\n",
      " |  \n",
      " |  hapaxes(self)\n",
      " |      Return a list of all samples that occur once (hapax legomena)\n",
      " |      \n",
      " |      :rtype: list\n",
      " |  \n",
      " |  max(self)\n",
      " |      Return the sample with the greatest number of outcomes in this\n",
      " |      frequency distribution.  If two or more samples have the same\n",
      " |      number of outcomes, return one of them; which sample is\n",
      " |      returned is undefined.  If no outcomes have occurred in this\n",
      " |      frequency distribution, return None.\n",
      " |      \n",
      " |      :return: The sample with the maximum number of outcomes in this\n",
      " |              frequency distribution.\n",
      " |      :rtype: any or None\n",
      " |  \n",
      " |  pformat(self, maxlen=10)\n",
      " |      Return a string representation of this FreqDist.\n",
      " |      \n",
      " |      :param maxlen: The maximum number of items to display\n",
      " |      :type maxlen: int\n",
      " |      :rtype: string\n",
      " |  \n",
      " |  plot(self, *args, **kwargs)\n",
      " |      Plot samples from the frequency distribution\n",
      " |      displaying the most frequent sample first.  If an integer\n",
      " |      parameter is supplied, stop after this many samples have been\n",
      " |      plotted.  For a cumulative plot, specify cumulative=True.\n",
      " |      (Requires Matplotlib to be installed.)\n",
      " |      \n",
      " |      :param title: The title for the graph\n",
      " |      :type title: str\n",
      " |      :param cumulative: A flag to specify whether the plot is cumulative (default = False)\n",
      " |      :type title: bool\n",
      " |  \n",
      " |  pprint(self, maxlen=10, stream=None)\n",
      " |      Print a string representation of this FreqDist to 'stream'\n",
      " |      \n",
      " |      :param maxlen: The maximum number of items to print\n",
      " |      :type maxlen: int\n",
      " |      :param stream: The stream to print to. stdout by default\n",
      " |  \n",
      " |  r_Nr(self, bins=None)\n",
      " |      Return the dictionary mapping r to Nr, the number of samples with frequency r, where Nr > 0.\n",
      " |      \n",
      " |      :type bins: int\n",
      " |      :param bins: The number of possible sample outcomes.  ``bins``\n",
      " |          is used to calculate Nr(0).  In particular, Nr(0) is\n",
      " |          ``bins-self.B()``.  If ``bins`` is not specified, it\n",
      " |          defaults to ``self.B()`` (so Nr(0) will be 0).\n",
      " |      :rtype: int\n",
      " |  \n",
      " |  tabulate(self, *args, **kwargs)\n",
      " |      Tabulate the given samples from the frequency distribution (cumulative),\n",
      " |      displaying the most frequent sample first.  If an integer\n",
      " |      parameter is supplied, stop after this many samples have been\n",
      " |      plotted.\n",
      " |      \n",
      " |      :param samples: The samples to plot (default is all samples)\n",
      " |      :type samples: list\n",
      " |  \n",
      " |  unicode_repr = __repr__(self)\n",
      " |      Return a string representation of this FreqDist.\n",
      " |      \n",
      " |      :rtype: string\n",
      " |  \n",
      " |  ----------------------------------------------------------------------\n",
      " |  Methods inherited from collections.Counter:\n",
      " |  \n",
      " |  __add__(self, other)\n",
      " |      Add counts from two counters.\n",
      " |      \n",
      " |      >>> Counter('abbb') + Counter('bcc')\n",
      " |      Counter({'b': 4, 'c': 2, 'a': 1})\n",
      " |  \n",
      " |  __and__(self, other)\n",
      " |      Intersection is the minimum of corresponding counts.\n",
      " |      \n",
      " |      >>> Counter('abbb') & Counter('bcc')\n",
      " |      Counter({'b': 1})\n",
      " |  \n",
      " |  __delitem__(self, elem)\n",
      " |      Like dict.__delitem__() but does not raise KeyError for missing values.\n",
      " |  \n",
      " |  __missing__(self, key)\n",
      " |      The count of elements not in the Counter is zero.\n",
      " |  \n",
      " |  __or__(self, other)\n",
      " |      Union is the maximum of value in either of the input counters.\n",
      " |      \n",
      " |      >>> Counter('abbb') | Counter('bcc')\n",
      " |      Counter({'b': 3, 'c': 2, 'a': 1})\n",
      " |  \n",
      " |  __reduce__(self)\n",
      " |  \n",
      " |  __sub__(self, other)\n",
      " |      Subtract count, but keep only results with positive counts.\n",
      " |      \n",
      " |      >>> Counter('abbbc') - Counter('bccd')\n",
      " |      Counter({'b': 2, 'a': 1})\n",
      " |  \n",
      " |  elements(self)\n",
      " |      Iterator over elements repeating each as many times as its count.\n",
      " |      \n",
      " |      >>> c = Counter('ABCABC')\n",
      " |      >>> sorted(c.elements())\n",
      " |      ['A', 'A', 'B', 'B', 'C', 'C']\n",
      " |      \n",
      " |      # Knuth's example for prime factors of 1836:  2**2 * 3**3 * 17**1\n",
      " |      >>> prime_factors = Counter({2: 2, 3: 3, 17: 1})\n",
      " |      >>> product = 1\n",
      " |      >>> for factor in prime_factors.elements():     # loop over factors\n",
      " |      ...     product *= factor                       # and multiply them\n",
      " |      >>> product\n",
      " |      1836\n",
      " |      \n",
      " |      Note, if an element's count has been set to zero or is a negative\n",
      " |      number, elements() will ignore it.\n",
      " |  \n",
      " |  most_common(self, n=None)\n",
      " |      List the n most common elements and their counts from the most\n",
      " |      common to the least.  If n is None, then list all element counts.\n",
      " |      \n",
      " |      >>> Counter('abcdeabcdabcaba').most_common(3)\n",
      " |      [('a', 5), ('b', 4), ('c', 3)]\n",
      " |  \n",
      " |  subtract(*args, **kwds)\n",
      " |      Like dict.update() but subtracts counts instead of replacing them.\n",
      " |      Counts can be reduced below zero.  Both the inputs and outputs are\n",
      " |      allowed to contain zero and negative counts.\n",
      " |      \n",
      " |      Source can be an iterable, a dictionary, or another Counter instance.\n",
      " |      \n",
      " |      >>> c = Counter('which')\n",
      " |      >>> c.subtract('witch')             # subtract elements from another iterable\n",
      " |      >>> c.subtract(Counter('watch'))    # subtract elements from another counter\n",
      " |      >>> c['h']                          # 2 in which, minus 1 in witch, minus 1 in watch\n",
      " |      0\n",
      " |      >>> c['w']                          # 1 in which, minus 1 in witch, minus 1 in watch\n",
      " |      -1\n",
      " |  \n",
      " |  update(*args, **kwds)\n",
      " |      Like dict.update() but add counts instead of replacing them.\n",
      " |      \n",
      " |      Source can be an iterable, a dictionary, or another Counter instance.\n",
      " |      \n",
      " |      >>> c = Counter('which')\n",
      " |      >>> c.update('witch')           # add elements from another iterable\n",
      " |      >>> d = Counter('watch')\n",
      " |      >>> c.update(d)                 # add elements from another counter\n",
      " |      >>> c['h']                      # four 'h' in which, witch, and watch\n",
      " |      4\n",
      " |  \n",
      " |  ----------------------------------------------------------------------\n",
      " |  Class methods inherited from collections.Counter:\n",
      " |  \n",
      " |  fromkeys(cls, iterable, v=None) from __builtin__.type\n",
      " |  \n",
      " |  ----------------------------------------------------------------------\n",
      " |  Data descriptors inherited from collections.Counter:\n",
      " |  \n",
      " |  __dict__\n",
      " |      dictionary for instance variables (if defined)\n",
      " |  \n",
      " |  __weakref__\n",
      " |      list of weak references to the object (if defined)\n",
      " |  \n",
      " |  ----------------------------------------------------------------------\n",
      " |  Methods inherited from __builtin__.dict:\n",
      " |  \n",
      " |  __cmp__(...)\n",
      " |      x.__cmp__(y) <==> cmp(x,y)\n",
      " |  \n",
      " |  __contains__(...)\n",
      " |      D.__contains__(k) -> True if D has a key k, else False\n",
      " |  \n",
      " |  __eq__(...)\n",
      " |      x.__eq__(y) <==> x==y\n",
      " |  \n",
      " |  __getattribute__(...)\n",
      " |      x.__getattribute__('name') <==> x.name\n",
      " |  \n",
      " |  __getitem__(...)\n",
      " |      x.__getitem__(y) <==> x[y]\n",
      " |  \n",
      " |  __iter__(...)\n",
      " |      x.__iter__() <==> iter(x)\n",
      " |  \n",
      " |  __len__(...)\n",
      " |      x.__len__() <==> len(x)\n",
      " |  \n",
      " |  __ne__(...)\n",
      " |      x.__ne__(y) <==> x!=y\n",
      " |  \n",
      " |  __setitem__(...)\n",
      " |      x.__setitem__(i, y) <==> x[i]=y\n",
      " |  \n",
      " |  __sizeof__(...)\n",
      " |      D.__sizeof__() -> size of D in memory, in bytes\n",
      " |  \n",
      " |  clear(...)\n",
      " |      D.clear() -> None.  Remove all items from D.\n",
      " |  \n",
      " |  get(...)\n",
      " |      D.get(k[,d]) -> D[k] if k in D, else d.  d defaults to None.\n",
      " |  \n",
      " |  has_key(...)\n",
      " |      D.has_key(k) -> True if D has a key k, else False\n",
      " |  \n",
      " |  items(...)\n",
      " |      D.items() -> list of D's (key, value) pairs, as 2-tuples\n",
      " |  \n",
      " |  iteritems(...)\n",
      " |      D.iteritems() -> an iterator over the (key, value) items of D\n",
      " |  \n",
      " |  iterkeys(...)\n",
      " |      D.iterkeys() -> an iterator over the keys of D\n",
      " |  \n",
      " |  itervalues(...)\n",
      " |      D.itervalues() -> an iterator over the values of D\n",
      " |  \n",
      " |  keys(...)\n",
      " |      D.keys() -> list of D's keys\n",
      " |  \n",
      " |  pop(...)\n",
      " |      D.pop(k[,d]) -> v, remove specified key and return the corresponding value.\n",
      " |      If key is not found, d is returned if given, otherwise KeyError is raised\n",
      " |  \n",
      " |  popitem(...)\n",
      " |      D.popitem() -> (k, v), remove and return some (key, value) pair as a\n",
      " |      2-tuple; but raise KeyError if D is empty.\n",
      " |  \n",
      " |  setdefault(...)\n",
      " |      D.setdefault(k[,d]) -> D.get(k,d), also set D[k]=d if k not in D\n",
      " |  \n",
      " |  values(...)\n",
      " |      D.values() -> list of D's values\n",
      " |  \n",
      " |  viewitems(...)\n",
      " |      D.viewitems() -> a set-like object providing a view on D's items\n",
      " |  \n",
      " |  viewkeys(...)\n",
      " |      D.viewkeys() -> a set-like object providing a view on D's keys\n",
      " |  \n",
      " |  viewvalues(...)\n",
      " |      D.viewvalues() -> an object providing a view on D's values\n",
      " |  \n",
      " |  ----------------------------------------------------------------------\n",
      " |  Data and other attributes inherited from __builtin__.dict:\n",
      " |  \n",
      " |  __hash__ = None\n",
      " |  \n",
      " |  __new__ = <built-in method __new__ of type object>\n",
      " |      T.__new__(S, ...) -> a new object with type S, a subtype of T\n",
      "\n"
     ]
    }
   ],
   "source": [
    "help('nltk.probability.FreqDist')"
   ]
  },
  {
   "cell_type": "code",
   "execution_count": 9,
   "metadata": {
    "collapsed": false
   },
   "outputs": [],
   "source": [
    "sent = 'The dog gave John the newspaper'\n",
    "tokenizer = nltk.tokenize.SpaceTokenizer()"
   ]
  },
  {
   "cell_type": "code",
   "execution_count": 10,
   "metadata": {
    "collapsed": false
   },
   "outputs": [
    {
     "data": {
      "text/plain": [
       "[[u'The', u'dog', u'gave'],\n",
       " [u'dog', u'gave', u'John'],\n",
       " [u'gave', u'John', u'the'],\n",
       " [u'John', u'the', u'newspaper']]"
      ]
     },
     "execution_count": 10,
     "metadata": {},
     "output_type": "execute_result"
    }
   ],
   "source": [
    "a = tokenizer.tokenize(sent)\n",
    "n = 3 # n-grams\n",
    "[a[i:i+n] for i in range(len(a) - n + 1)]"
   ]
  },
  {
   "cell_type": "code",
   "execution_count": 11,
   "metadata": {
    "collapsed": false
   },
   "outputs": [
    {
     "name": "stdout",
     "output_type": "stream",
     "text": [
      "Help on function bigrams in nltk:\n",
      "\n",
      "nltk.bigrams = bigrams(sequence, **kwargs)\n",
      "    Return the bigrams generated from a sequence of items, as an iterator.\n",
      "    For example:\n",
      "    \n",
      "        >>> from nltk.util import bigrams\n",
      "        >>> list(bigrams([1,2,3,4,5]))\n",
      "        [(1, 2), (2, 3), (3, 4), (4, 5)]\n",
      "    \n",
      "    Use bigrams for a list version of this function.\n",
      "    \n",
      "    :param sequence: the source data to be converted into bigrams\n",
      "    :type sequence: sequence or iter\n",
      "    :rtype: iter(tuple)\n",
      "\n"
     ]
    }
   ],
   "source": [
    "help('nltk.bigrams')"
   ]
  },
  {
   "cell_type": "code",
   "execution_count": 12,
   "metadata": {
    "collapsed": false
   },
   "outputs": [
    {
     "data": {
      "text/plain": [
       "[(u'The', u'dog'),\n",
       " (u'dog', u'gave'),\n",
       " (u'gave', u'John'),\n",
       " (u'John', u'the'),\n",
       " (u'the', u'newspaper')]"
      ]
     },
     "execution_count": 12,
     "metadata": {},
     "output_type": "execute_result"
    }
   ],
   "source": [
    "list(nltk.bigrams(a))"
   ]
  },
  {
   "cell_type": "code",
   "execution_count": 13,
   "metadata": {
    "collapsed": true
   },
   "outputs": [],
   "source": [
    "import re\n",
    "def get_text(file):\n",
    "    \"\"\"Read text from file, normalizing whitespace and scripting HTML markup.\"\"\"\n",
    "    text = open(file).read()\n",
    "    text = re.sub('\\s+', ' ', text)\n",
    "    text = re.sub(r'<.*?>', ' ', text)\n",
    "    return text"
   ]
  },
  {
   "cell_type": "code",
   "execution_count": 14,
   "metadata": {
    "collapsed": false
   },
   "outputs": [
    {
     "name": "stdout",
     "output_type": "stream",
     "text": [
      "Help on function sub in re:\n",
      "\n",
      "re.sub = sub(pattern, repl, string, count=0, flags=0)\n",
      "    Return the string obtained by replacing the leftmost\n",
      "    non-overlapping occurrences of the pattern in string by the\n",
      "    replacement repl.  repl can be either a string or a callable;\n",
      "    if a string, backslash escapes in it are processed.  If it is\n",
      "    a callable, it's passed the match object and must return\n",
      "    a replacement string to be used.\n",
      "\n"
     ]
    }
   ],
   "source": [
    "help('re.sub')"
   ]
  },
  {
   "cell_type": "code",
   "execution_count": 18,
   "metadata": {
    "collapsed": false
   },
   "outputs": [
    {
     "name": "stdout",
     "output_type": "stream",
     "text": [
      "no Python documentation found for 'get_text'\n",
      "\n"
     ]
    }
   ],
   "source": [
    "help('get_text')"
   ]
  },
  {
   "cell_type": "code",
   "execution_count": 20,
   "metadata": {
    "collapsed": false
   },
   "outputs": [
    {
     "name": "stdout",
     "output_type": "stream",
     "text": [
      "hola\n",
      "['noun']\n"
     ]
    }
   ],
   "source": [
    "# Mutable vs Inmutable\n",
    "def set_up(word, properties):\n",
    "    word = 'lolcat'\n",
    "    properties.append('noun')\n",
    "    properties = 5\n",
    "\n",
    "w = 'hola'\n",
    "p = []\n",
    "set_up(w,p)\n",
    "print w\n",
    "print p"
   ]
  },
  {
   "cell_type": "markdown",
   "metadata": {},
   "source": [
    "### Checking parameter types"
   ]
  },
  {
   "cell_type": "code",
   "execution_count": 26,
   "metadata": {
    "collapsed": true
   },
   "outputs": [],
   "source": [
    "# defensive programming\n",
    "def tag(word):\n",
    "    assert isinstance(word, basestring), \"argument to tag() must be a string\"\n",
    "    if word in ['a', 'the', 'all']:\n",
    "        return 'det'\n",
    "    else:\n",
    "        return 'noun'"
   ]
  },
  {
   "cell_type": "code",
   "execution_count": 27,
   "metadata": {
    "collapsed": false
   },
   "outputs": [
    {
     "data": {
      "text/plain": [
       "'noun'"
      ]
     },
     "execution_count": 27,
     "metadata": {},
     "output_type": "execute_result"
    }
   ],
   "source": [
    "tag('hello')"
   ]
  },
  {
   "cell_type": "code",
   "execution_count": 23,
   "metadata": {
    "collapsed": false
   },
   "outputs": [
    {
     "ename": "AssertionError",
     "evalue": "argument to tag() must be a string",
     "output_type": "error",
     "traceback": [
      "\u001b[0;31m---------------------------------------------------------------------------\u001b[0m",
      "\u001b[0;31mAssertionError\u001b[0m                            Traceback (most recent call last)",
      "\u001b[0;32m<ipython-input-23-228e03c62a33>\u001b[0m in \u001b[0;36m<module>\u001b[0;34m()\u001b[0m\n\u001b[0;32m----> 1\u001b[0;31m \u001b[0mtag\u001b[0m\u001b[0;34m(\u001b[0m\u001b[0;34m[\u001b[0m\u001b[0;34m'lalala'\u001b[0m\u001b[0;34m]\u001b[0m\u001b[0;34m)\u001b[0m\u001b[0;34m\u001b[0m\u001b[0m\n\u001b[0m",
      "\u001b[0;32m<ipython-input-21-24fd4d279c2f>\u001b[0m in \u001b[0;36mtag\u001b[0;34m(word)\u001b[0m\n\u001b[1;32m      1\u001b[0m \u001b[0;31m# defensive programming\u001b[0m\u001b[0;34m\u001b[0m\u001b[0;34m\u001b[0m\u001b[0m\n\u001b[1;32m      2\u001b[0m \u001b[0;32mdef\u001b[0m \u001b[0mtag\u001b[0m\u001b[0;34m(\u001b[0m\u001b[0mword\u001b[0m\u001b[0;34m)\u001b[0m\u001b[0;34m:\u001b[0m\u001b[0;34m\u001b[0m\u001b[0m\n\u001b[0;32m----> 3\u001b[0;31m     \u001b[0;32massert\u001b[0m \u001b[0misinstance\u001b[0m\u001b[0;34m(\u001b[0m\u001b[0mword\u001b[0m\u001b[0;34m,\u001b[0m \u001b[0mbasestring\u001b[0m\u001b[0;34m)\u001b[0m\u001b[0;34m,\u001b[0m \u001b[0;34m\"argument to tag() must be a string\"\u001b[0m\u001b[0;34m\u001b[0m\u001b[0m\n\u001b[0m\u001b[1;32m      4\u001b[0m     \u001b[0;32mif\u001b[0m \u001b[0mword\u001b[0m \u001b[0;32min\u001b[0m \u001b[0;34m[\u001b[0m\u001b[0;34m'a'\u001b[0m\u001b[0;34m,\u001b[0m \u001b[0;34m'the'\u001b[0m\u001b[0;34m,\u001b[0m \u001b[0;34m'all'\u001b[0m\u001b[0;34m]\u001b[0m\u001b[0;34m:\u001b[0m\u001b[0;34m\u001b[0m\u001b[0m\n\u001b[1;32m      5\u001b[0m         \u001b[0;32mreturn\u001b[0m \u001b[0;34m'det'\u001b[0m\u001b[0;34m\u001b[0m\u001b[0m\n",
      "\u001b[0;31mAssertionError\u001b[0m: argument to tag() must be a string"
     ]
    }
   ],
   "source": [
    "tag(['lalala'])"
   ]
  },
  {
   "cell_type": "code",
   "execution_count": 10,
   "metadata": {
    "collapsed": false
   },
   "outputs": [],
   "source": [
    "from bs4 import BeautifulSoup\n",
    "import urllib2\n",
    "def freq_words(url, n):\n",
    "    text = BeautifulSoup(urllib2.urlopen(url)).getText()\n",
    "    freq_dist = nltk.FreqDist()\n",
    "    #text = nltk.clean_html(url) it seems to be deprecated\n",
    "    for word in nltk.word_tokenize(text):\n",
    "        freq_dist[word.lower()] += 1\n",
    "    return freq_dist"
   ]
  },
  {
   "cell_type": "code",
   "execution_count": 12,
   "metadata": {
    "collapsed": false
   },
   "outputs": [
    {
     "name": "stdout",
     "output_type": "stream",
     "text": [
      "[u'all', u'delaware', u'neglected', u'forbidden', u'hath', u'rutledge', u'ga', u'invariably', u'settlement', u'assembled', u'causes', u'whose', u'william', u'providence', u'witherspoon', u'suspending', u'0', u'edward', u'those', u'whatsoever']\n"
     ]
    }
   ],
   "source": [
    "constitution = \"http://www.archives.gov/exhibits/charters/declaration_transcript.html\"\n",
    "fd = freq_words(constitution, 20)\n",
    "print fd.keys()[:20]"
   ]
  },
  {
   "cell_type": "markdown",
   "metadata": {},
   "source": [
    "### Functions as arguments"
   ]
  },
  {
   "cell_type": "code",
   "execution_count": 14,
   "metadata": {
    "collapsed": false
   },
   "outputs": [
    {
     "data": {
      "text/plain": [
       "[4, 4, 2, 3, 5, 1, 3, 3, 6, 4, 4, 4, 2, 10]"
      ]
     },
     "execution_count": 14,
     "metadata": {},
     "output_type": "execute_result"
    }
   ],
   "source": [
    "sent = \"Take care of the sense, and the sounds will take care of themselves\"\n",
    "\n",
    "def extract_property(prop):\n",
    "    return [prop(word) for word in nltk.word_tokenize(sent)]\n",
    "\n",
    "extract_property(len)"
   ]
  },
  {
   "cell_type": "code",
   "execution_count": 16,
   "metadata": {
    "collapsed": false
   },
   "outputs": [
    {
     "data": {
      "text/plain": [
       "'/Users/b3j90/anaconda/envs/nlp/lib/python2.7/site-packages/nltk/translate/metrics.pyc'"
      ]
     },
     "execution_count": 16,
     "metadata": {},
     "output_type": "execute_result"
    }
   ],
   "source": [
    "nltk.metrics.__file__"
   ]
  },
  {
   "cell_type": "code",
   "execution_count": 17,
   "metadata": {
    "collapsed": true
   },
   "outputs": [],
   "source": [
    "# iterative\n",
    "def factorial1(n):\n",
    "    result = 1\n",
    "    for i in range(n):\n",
    "        result *= (i+1)\n",
    "    return result\n",
    "\n",
    "# recursion\n",
    "def factorial2(n):\n",
    "    if n == 1: # base case\n",
    "        return 1\n",
    "    else:\n",
    "        return n * factorial2(n-1)"
   ]
  },
  {
   "cell_type": "code",
   "execution_count": 18,
   "metadata": {
    "collapsed": true
   },
   "outputs": [],
   "source": [
    "def size1(s):\n",
    "    return 1 + sum(size1(child) for child in s.hyponyms())"
   ]
  },
  {
   "cell_type": "code",
   "execution_count": 19,
   "metadata": {
    "collapsed": true
   },
   "outputs": [],
   "source": [
    "def size2(s):\n",
    "    layer = [s]\n",
    "    total = 0\n",
    "    while layer:\n",
    "        total += len(layer)\n",
    "        layer = [h for c in layer for h in c.hyponyms()]\n",
    "    return total"
   ]
  },
  {
   "cell_type": "code",
   "execution_count": 21,
   "metadata": {
    "collapsed": false
   },
   "outputs": [
    {
     "data": {
      "text/plain": [
       "190"
      ]
     },
     "execution_count": 21,
     "metadata": {},
     "output_type": "execute_result"
    }
   ],
   "source": [
    "from nltk.corpus import wordnet as wn\n",
    "dog = wn.synset('dog.n.01')\n",
    "size1(dog)"
   ]
  },
  {
   "cell_type": "code",
   "execution_count": 22,
   "metadata": {
    "collapsed": false
   },
   "outputs": [
    {
     "data": {
      "text/plain": [
       "190"
      ]
     },
     "execution_count": 22,
     "metadata": {},
     "output_type": "execute_result"
    }
   ],
   "source": [
    "size2(dog)"
   ]
  },
  {
   "cell_type": "code",
   "execution_count": 23,
   "metadata": {
    "collapsed": false
   },
   "outputs": [
    {
     "data": {
      "text/plain": [
       "'cat'"
      ]
     },
     "execution_count": 23,
     "metadata": {},
     "output_type": "execute_result"
    }
   ],
   "source": [
    "# Building a letter trie\n",
    "def insert(trie, key, value):\n",
    "    if key:\n",
    "        first, rest = key[0], key[1:]\n",
    "        if first not in trie:\n",
    "            trie[first] = {}\n",
    "        insert(trie[first], rest, value)\n",
    "    else:\n",
    "        trie['value'] = value\n",
    "\n",
    "trie = nltk.defaultdict(dict)\n",
    "insert(trie, 'chat', 'cat')\n",
    "insert(trie, 'chien', 'dog')\n",
    "insert(trie, 'chair', 'flesh')\n",
    "\n",
    "trie = dict(trie)\n",
    "trie['c']['h']['a']['t']['value']"
   ]
  },
  {
   "cell_type": "code",
   "execution_count": 25,
   "metadata": {
    "collapsed": false
   },
   "outputs": [
    {
     "name": "stdout",
     "output_type": "stream",
     "text": [
      "{'c': {'h': {'a': {'i': {'r': {'value': 'flesh'}}, 't': {'value': 'cat'}}, 'i': {'e': {'n': {'value': 'dog'}}}}}}\n"
     ]
    }
   ],
   "source": [
    "print(trie)"
   ]
  },
  {
   "cell_type": "markdown",
   "metadata": {},
   "source": [
    "Despite the simplicity of recursive programming. It comes with a cost. Each time a function is called, some state information needs to be pushed on a stack, so that once the function has completed the execution can continue from where it let off. For this reason, iterative solutions are often more efficient than recursive solutions."
   ]
  },
  {
   "cell_type": "markdown",
   "metadata": {},
   "source": [
    "### Space-Time Trade-offs"
   ]
  },
  {
   "cell_type": "code",
   "execution_count": null,
   "metadata": {
    "collapsed": true
   },
   "outputs": [],
   "source": [
    "def raw(file):\n",
    "    contents = open(file).read()\n",
    "    contents = re.sub(r'<.*?>', ' ', contents)\n",
    "    contents = re.sub('\\s+', ' ', contents)\n",
    "    return contents\n",
    "\n",
    "def snippet(doc, term):\n",
    "    text = ' '*30 + raw(doc) + ' ' * 30\n",
    "    pos = text.index(term)\n",
    "    return text[pos-30:pos+30]\n",
    "    \n",
    "print \"Building Index...\"\n",
    "files = nltk.corpus.movie_reviews.abspaths()\n",
    "idx = nltk.Index((w,f) for f in files for w in raw(f).split())\n",
    "    "
   ]
  },
  {
   "cell_type": "markdown",
   "metadata": {},
   "source": [
    "## Categorizing and Tagging Words"
   ]
  },
  {
   "cell_type": "code",
   "execution_count": 6,
   "metadata": {
    "collapsed": false
   },
   "outputs": [
    {
     "data": {
      "text/plain": [
       "[('And', 'CC'),\n",
       " ('now', 'RB'),\n",
       " ('for', 'IN'),\n",
       " ('something', 'NN'),\n",
       " ('completely', 'RB'),\n",
       " ('different', 'JJ')]"
      ]
     },
     "execution_count": 6,
     "metadata": {},
     "output_type": "execute_result"
    }
   ],
   "source": [
    "text = nltk.word_tokenize(\"And now for something completely different\")\n",
    "nltk.pos_tag(text)"
   ]
  },
  {
   "cell_type": "code",
   "execution_count": 11,
   "metadata": {
    "collapsed": false
   },
   "outputs": [
    {
     "name": "stdout",
     "output_type": "stream",
     "text": [
      "CC: conjunction, coordinating\n",
      "    & 'n and both but either et for less minus neither nor or plus so\n",
      "    therefore times v. versus vs. whether yet\n",
      "None\n",
      "RB: adverb\n",
      "    occasionally unabatingly maddeningly adventurously professedly\n",
      "    stirringly prominently technologically magisterially predominately\n",
      "    swiftly fiscally pitilessly ...\n",
      "None\n",
      "IN: preposition or conjunction, subordinating\n",
      "    astride among uppon whether out inside pro despite on by throughout\n",
      "    below within for towards near behind atop around if like until below\n",
      "    next into if beside ...\n",
      "None\n",
      "NN: noun, common, singular or mass\n",
      "    common-carrier cabbage knuckle-duster Casino afghan shed thermostat\n",
      "    investment slide humour falloff slick wind hyena override subhumanity\n",
      "    machinist ...\n",
      "None\n",
      "JJ: adjective or numeral, ordinal\n",
      "    third ill-mannered pre-war regrettable oiled calamitous first separable\n",
      "    ectoplasmic battery-powered participatory fourth still-to-be-named\n",
      "    multilingual multi-disciplinary ...\n",
      "None\n"
     ]
    }
   ],
   "source": [
    "for tag in ['CC', 'RB', 'IN', 'NN', 'JJ']:\n",
    "    print nltk.help.upenn_tagset(tag)"
   ]
  },
  {
   "cell_type": "code",
   "execution_count": 13,
   "metadata": {
    "collapsed": false
   },
   "outputs": [
    {
     "data": {
      "text/plain": [
       "[('They', 'PRP'),\n",
       " ('refuse', 'VBP'),\n",
       " ('to', 'TO'),\n",
       " ('permit', 'VB'),\n",
       " ('us', 'PRP'),\n",
       " ('to', 'TO'),\n",
       " ('obtain', 'VB'),\n",
       " ('the', 'DT'),\n",
       " ('refuse', 'NN'),\n",
       " ('permit', 'NN')]"
      ]
     },
     "execution_count": 13,
     "metadata": {},
     "output_type": "execute_result"
    }
   ],
   "source": [
    "text = nltk.word_tokenize(\"They refuse to permit us to obtain the refuse permit\")\n",
    "nltk.pos_tag(text)"
   ]
  },
  {
   "cell_type": "markdown",
   "metadata": {},
   "source": [
    "### Tagging Spanish words"
   ]
  },
  {
   "cell_type": "code",
   "execution_count": 26,
   "metadata": {
    "collapsed": false
   },
   "outputs": [
    {
     "data": {
      "text/plain": [
       "[('El', u'da0ms0'),\n",
       " ('perro', u'ncms000'),\n",
       " ('es', u'vsip3s0'),\n",
       " ('bonito', u'aq0ms0')]"
      ]
     },
     "execution_count": 26,
     "metadata": {},
     "output_type": "execute_result"
    }
   ],
   "source": [
    "from nltk.corpus import cess_esp as cess\n",
    "from nltk import UnigramTagger as ut\n",
    "from nltk import BigramTagger as bt\n",
    "\n",
    "# Read the corpus into a list\n",
    "# each entry in the list is one sentence\n",
    "cess_sents = cess.tagged_sents()\n",
    "\n",
    "# Train the unigram tagger\n",
    "uni_tag = ut(cess_sents)"
   ]
  },
  {
   "cell_type": "code",
   "execution_count": null,
   "metadata": {
    "collapsed": true
   },
   "outputs": [],
   "source": [
    "sentence = \"El perro es bonito\"\n",
    "\n",
    "# Tagger reads a list of tokens\n",
    "uni_tag.tag(sentence.split(\" \"))"
   ]
  },
  {
   "cell_type": "code",
   "execution_count": null,
   "metadata": {
    "collapsed": true
   },
   "outputs": [],
   "source": [
    "# Saving tagger\n",
    "from pickle import dump\n",
    "output = open('uni_spa.pkl', 'wb')\n",
    "dump('bi_spa', output, -1)\n",
    "output.close()"
   ]
  },
  {
   "cell_type": "code",
   "execution_count": 27,
   "metadata": {
    "collapsed": false
   },
   "outputs": [],
   "source": [
    "# Split corpus into training and testing set\n",
    "train = int(len(cess_sents) * 90/100)\n",
    "\n",
    "# Train a bigram tagger with only training data\n",
    "bi_tag = bt(cess_sents[:train])"
   ]
  },
  {
   "cell_type": "code",
   "execution_count": 28,
   "metadata": {
    "collapsed": false
   },
   "outputs": [
    {
     "data": {
      "text/plain": [
       "[('El', u'da0ms0'), ('perro', None), ('es', None), ('bonito', None)]"
      ]
     },
     "execution_count": 28,
     "metadata": {},
     "output_type": "execute_result"
    }
   ],
   "source": [
    "# Evaluates on testing data ramaining 10%\n",
    "bi_tag.evaluate(cess_sents[train+1:])\n",
    "\n",
    "# Using the tagger\n",
    "bi_tag.tag(sentence.split(\" \"))"
   ]
  },
  {
   "cell_type": "code",
   "execution_count": 30,
   "metadata": {
    "collapsed": false
   },
   "outputs": [],
   "source": [
    "# Saving tagger\n",
    "from pickle import dump\n",
    "output = open('bi_spa.pkl', 'wb')\n",
    "dump('bi_spa', output, -1)\n",
    "output.close()"
   ]
  },
  {
   "cell_type": "markdown",
   "metadata": {},
   "source": [
    "#### Similar words"
   ]
  },
  {
   "cell_type": "code",
   "execution_count": 20,
   "metadata": {
    "collapsed": false
   },
   "outputs": [
    {
     "name": "stdout",
     "output_type": "stream",
     "text": [
      "man time day year car moment world family house country child boy\n",
      "state job way war girl place word work\n"
     ]
    }
   ],
   "source": [
    "text = nltk.Text(word.lower() for word in nltk.corpus.brown.words())\n",
    "text.similar('woman')"
   ]
  },
  {
   "cell_type": "code",
   "execution_count": 21,
   "metadata": {
    "collapsed": false
   },
   "outputs": [
    {
     "name": "stdout",
     "output_type": "stream",
     "text": [
      "made said put done seen had found left given heard brought got been\n",
      "was set told took in felt that\n"
     ]
    }
   ],
   "source": [
    "text.similar('bought')"
   ]
  },
  {
   "cell_type": "code",
   "execution_count": 22,
   "metadata": {
    "collapsed": false
   },
   "outputs": [
    {
     "name": "stdout",
     "output_type": "stream",
     "text": [
      "in on to of and for with from at by that into as up out down through\n",
      "is all about\n"
     ]
    }
   ],
   "source": [
    "text.similar('over')"
   ]
  },
  {
   "cell_type": "code",
   "execution_count": 23,
   "metadata": {
    "collapsed": false
   },
   "outputs": [
    {
     "name": "stdout",
     "output_type": "stream",
     "text": [
      "a his this their its her an that our any all one these my in your no\n",
      "some other and\n"
     ]
    }
   ],
   "source": [
    "text.similar('the')"
   ]
  },
  {
   "cell_type": "code",
   "execution_count": 25,
   "metadata": {
    "collapsed": false
   },
   "outputs": [
    {
     "data": {
      "text/plain": [
       "[[(u'El', u'da0ms0'),\n",
       "  (u'grupo', u'ncms000'),\n",
       "  (u'estatal', u'aq0cs0'),\n",
       "  (u'Electricit\\xe9_de_France', u'np00000'),\n",
       "  (u'-Fpa-', u'Fpa'),\n",
       "  (u'EDF', u'np00000'),\n",
       "  (u'-Fpt-', u'Fpt'),\n",
       "  (u'anunci\\xf3', u'vmis3s0'),\n",
       "  (u'hoy', u'rg'),\n",
       "  (u',', u'Fc'),\n",
       "  (u'jueves', u'W'),\n",
       "  (u',', u'Fc'),\n",
       "  (u'la', u'da0fs0'),\n",
       "  (u'compra', u'ncfs000'),\n",
       "  (u'del', u'spcms'),\n",
       "  (u'51_por_ciento', u'Zp'),\n",
       "  (u'de', u'sps00'),\n",
       "  (u'la', u'da0fs0'),\n",
       "  (u'empresa', u'ncfs000'),\n",
       "  (u'mexicana', u'aq0fs0'),\n",
       "  (u'Electricidad_\\xc1guila_de_Altamira', u'np00000'),\n",
       "  (u'-Fpa-', u'Fpa'),\n",
       "  (u'EAA', u'np00000'),\n",
       "  (u'-Fpt-', u'Fpt'),\n",
       "  (u',', u'Fc'),\n",
       "  (u'creada', u'aq0fsp'),\n",
       "  (u'por', u'sps00'),\n",
       "  (u'el', u'da0ms0'),\n",
       "  (u'japon\\xe9s', u'aq0ms0'),\n",
       "  (u'Mitsubishi_Corporation', u'np00000'),\n",
       "  (u'para', u'sps00'),\n",
       "  (u'poner_en_marcha', u'vmn0000'),\n",
       "  (u'una', u'di0fs0'),\n",
       "  (u'central', u'ncfs000'),\n",
       "  (u'de', u'sps00'),\n",
       "  (u'gas', u'ncms000'),\n",
       "  (u'de', u'sps00'),\n",
       "  (u'495', u'Z'),\n",
       "  (u'megavatios', u'ncmp000'),\n",
       "  (u'.', u'Fp')],\n",
       " [(u'Una', u'di0fs0'),\n",
       "  (u'portavoz', u'nccs000'),\n",
       "  (u'de', u'sps00'),\n",
       "  (u'EDF', u'np00000'),\n",
       "  (u'explic\\xf3', u'vmis3s0'),\n",
       "  (u'a', u'sps00'),\n",
       "  (u'EFE', u'np00000'),\n",
       "  (u'que', u'cs'),\n",
       "  (u'el', u'da0ms0'),\n",
       "  (u'proyecto', u'ncms000'),\n",
       "  (u'para', u'sps00'),\n",
       "  (u'la', u'da0fs0'),\n",
       "  (u'construcci\\xf3n', u'ncfs000'),\n",
       "  (u'de', u'sps00'),\n",
       "  (u'Altamira_2', u'np00000'),\n",
       "  (u',', u'Fc'),\n",
       "  (u'al', u'spcms'),\n",
       "  (u'norte', u'ncms000'),\n",
       "  (u'de', u'sps00'),\n",
       "  (u'Tampico', u'np00000'),\n",
       "  (u',', u'Fc'),\n",
       "  (u'prev\\xe9', u'vmm02s0'),\n",
       "  (u'la', u'da0fs0'),\n",
       "  (u'utilizaci\\xf3n', u'ncfs000'),\n",
       "  (u'de', u'sps00'),\n",
       "  (u'gas', u'ncms000'),\n",
       "  (u'natural', u'aq0cs0'),\n",
       "  (u'como', u'cs'),\n",
       "  (u'combustible', u'ncms000'),\n",
       "  (u'principal', u'aq0cs0'),\n",
       "  (u'en', u'sps00'),\n",
       "  (u'una', u'di0fs0'),\n",
       "  (u'central', u'ncfs000'),\n",
       "  (u'de', u'sps00'),\n",
       "  (u'ciclo', u'ncms000'),\n",
       "  (u'combinado', u'aq0msp'),\n",
       "  (u'que', u'pr0cn000'),\n",
       "  (u'debe', u'vmip3s0'),\n",
       "  (u'empezar', u'vmn0000'),\n",
       "  (u'a', u'sps00'),\n",
       "  (u'funcionar', u'vmn0000'),\n",
       "  (u'en', u'sps00'),\n",
       "  (u'mayo_del_2002', u'W'),\n",
       "  (u'.', u'Fp')],\n",
       " [(u'La', u'da0fs0'),\n",
       "  (u'electricidad', u'ncfs000'),\n",
       "  (u'producida', u'aq0fsp'),\n",
       "  (u'pasar\\xe1', u'vmif3s0'),\n",
       "  (u'a', u'sps00'),\n",
       "  (u'la', u'da0fs0'),\n",
       "  (u'red', u'ncfs000'),\n",
       "  (u'el\\xe9ctrica', u'aq0fs0'),\n",
       "  (u'p\\xfablica', u'aq0fs0'),\n",
       "  (u'de', u'sps00'),\n",
       "  (u'M\\xe9xico', u'np00000'),\n",
       "  (u'en_virtud_de', u'sps00'),\n",
       "  (u'un', u'di0ms0'),\n",
       "  (u'acuerdo', u'ncms000'),\n",
       "  (u'de', u'sps00'),\n",
       "  (u'venta', u'ncfs000'),\n",
       "  (u'de', u'sps00'),\n",
       "  (u'energ\\xeda', u'ncfs000'),\n",
       "  (u'de', u'sps00'),\n",
       "  (u'EAA', u'np00000'),\n",
       "  (u'con', u'sps00'),\n",
       "  (u'la', u'da0fs0'),\n",
       "  (u'Comisi\\xf3n_Federal_de_Electricidad', u'np00000'),\n",
       "  (u'-Fpa-', u'Fpa'),\n",
       "  (u'CFE', u'np00000'),\n",
       "  (u'-Fpt-', u'Fpt'),\n",
       "  (u'por', u'sps00'),\n",
       "  (u'una', u'di0fs0'),\n",
       "  (u'duraci\\xf3n', u'ncfs000'),\n",
       "  (u'de', u'sps00'),\n",
       "  (u'25', u'Z'),\n",
       "  (u'a\\xf1os', u'ncmp000'),\n",
       "  (u'.', u'Fp')],\n",
       " [(u'EDF', u'np00000'),\n",
       "  (u',', u'Fc'),\n",
       "  (u'que', u'pr0cn000'),\n",
       "  (u'no', u'rn'),\n",
       "  (u'quiso', u'vmis3s0'),\n",
       "  (u'revelar', u'vmn0000'),\n",
       "  (u'cu\\xe1nto', u'pt0ms000'),\n",
       "  (u'*0*', u'sn.e-SUJ'),\n",
       "  (u'pag\\xf3', u'vmis3s0'),\n",
       "  (u'por', u'sps00'),\n",
       "  (u'su', u'dp3cs0'),\n",
       "  (u'participaci\\xf3n', u'ncfs000'),\n",
       "  (u'mayoritaria', u'aq0fs0'),\n",
       "  (u'en', u'sps00'),\n",
       "  (u'EAA', u'np00000'),\n",
       "  (u',', u'Fc'),\n",
       "  (u'intervendr\\xe1', u'vmif3s0'),\n",
       "  (u'como', u'cs'),\n",
       "  (u'asistente', u'nccs000'),\n",
       "  (u'en', u'sps00'),\n",
       "  (u'la', u'da0fs0'),\n",
       "  (u'construcci\\xf3n', u'ncfs000'),\n",
       "  (u'de', u'sps00'),\n",
       "  (u'Altamira_2', u'np00000'),\n",
       "  (u'y', u'cc'),\n",
       "  (u',', u'Fc'),\n",
       "  (u'posteriormente', u'rg'),\n",
       "  (u',', u'Fc'),\n",
       "  (u'*0*', u'sn.e-SUJ'),\n",
       "  (u'se', u'p0300000'),\n",
       "  (u'encargar\\xe1', u'vmif3s0'),\n",
       "  (u'de', u'sps00'),\n",
       "  (u'explotarla', u'vmn0000'),\n",
       "  (u'como', u'cs'),\n",
       "  (u'principal', u'aq0cs0'),\n",
       "  (u'accionista', u'aq0cs0'),\n",
       "  (u'.', u'Fp')],\n",
       " [(u'EDF', u'np00000'),\n",
       "  (u'y', u'cc'),\n",
       "  (u'Mitsubishi', u'np00000'),\n",
       "  (u'participaron', u'vmis3p0'),\n",
       "  (u'en', u'sps00'),\n",
       "  (u'1998', u'W'),\n",
       "  (u'en', u'sps00'),\n",
       "  (u'la', u'da0fs0'),\n",
       "  (u'licitaci\\xf3n', u'ncfs000'),\n",
       "  (u'de', u'sps00'),\n",
       "  (u'licencias', u'ncfp000'),\n",
       "  (u'para', u'sps00'),\n",
       "  (u'construir', u'vmn0000'),\n",
       "  (u'centrales', u'ncfp000'),\n",
       "  (u'el\\xe9ctricas', u'aq0fp0'),\n",
       "  (u'en', u'sps00'),\n",
       "  (u'M\\xe9xico', u'np00000'),\n",
       "  (u'y', u'cc'),\n",
       "  (u'*0*', u'sn.e-SUJ'),\n",
       "  (u'se', u'p0300000'),\n",
       "  (u'quedaron', u'vmis3p0'),\n",
       "  (u'con', u'sps00'),\n",
       "  (u'dos', u'pn0cp000'),\n",
       "  (u'cada', u'di0cs0'),\n",
       "  (u'una', u'pi0fs000'),\n",
       "  (u':', u'Fd'),\n",
       "  (u'R\\xedo_Bravo', u'np00000'),\n",
       "  (u'y', u'cc'),\n",
       "  (u'Saltillo', u'np00000'),\n",
       "  (u'para', u'sps00'),\n",
       "  (u'la', u'da0fs0'),\n",
       "  (u'compa\\xf1\\xeda', u'ncfs000'),\n",
       "  (u'francesa', u'aq0fs0'),\n",
       "  (u'y', u'cc'),\n",
       "  (u'Altamira', u'np00000'),\n",
       "  (u'y', u'cc'),\n",
       "  (u'Tuxp\\xe1n', u'np00000'),\n",
       "  (u'para', u'sps00'),\n",
       "  (u'la', u'da0fs0'),\n",
       "  (u'japonesa', u'aq0fs0'),\n",
       "  (u'.', u'Fp')]]"
      ]
     },
     "execution_count": 25,
     "metadata": {},
     "output_type": "execute_result"
    }
   ],
   "source": [
    "cess_sents[:5]"
   ]
  },
  {
   "cell_type": "code",
   "execution_count": null,
   "metadata": {
    "collapsed": true
   },
   "outputs": [],
   "source": []
  }
 ],
 "metadata": {
  "kernelspec": {
   "display_name": "Python 2",
   "language": "python",
   "name": "python2"
  },
  "language_info": {
   "codemirror_mode": {
    "name": "ipython",
    "version": 2
   },
   "file_extension": ".py",
   "mimetype": "text/x-python",
   "name": "python",
   "nbconvert_exporter": "python",
   "pygments_lexer": "ipython2",
   "version": "2.7.10"
  }
 },
 "nbformat": 4,
 "nbformat_minor": 0
}
