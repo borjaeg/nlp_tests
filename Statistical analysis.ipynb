{
 "cells": [
  {
   "cell_type": "markdown",
   "metadata": {},
   "source": [
    "Source: http://www.randalolson.com/2012/08/06/statistical-analysis-made-easy-in-python/"
   ]
  },
  {
   "cell_type": "code",
   "execution_count": 6,
   "metadata": {
    "collapsed": true
   },
   "outputs": [],
   "source": [
    "import pandas as pd"
   ]
  },
  {
   "cell_type": "code",
   "execution_count": 7,
   "metadata": {
    "collapsed": false
   },
   "outputs": [],
   "source": [
    "experimentDF = pd.read_csv('https://raw.githubusercontent.com/rhiever/ipython-notebook-workshop/master/parasite_data.csv',\n",
    "                        na_values=[' '])"
   ]
  },
  {
   "cell_type": "code",
   "execution_count": 8,
   "metadata": {
    "collapsed": false
   },
   "outputs": [
    {
     "data": {
      "text/html": [
       "<div>\n",
       "<table border=\"1\" class=\"dataframe\">\n",
       "  <thead>\n",
       "    <tr style=\"text-align: right;\">\n",
       "      <th></th>\n",
       "      <th>Virulence</th>\n",
       "      <th>Replicate</th>\n",
       "      <th>ShannonDiversity</th>\n",
       "    </tr>\n",
       "  </thead>\n",
       "  <tbody>\n",
       "    <tr>\n",
       "      <th>0</th>\n",
       "      <td>0.5</td>\n",
       "      <td>1</td>\n",
       "      <td>0.059262</td>\n",
       "    </tr>\n",
       "    <tr>\n",
       "      <th>1</th>\n",
       "      <td>0.5</td>\n",
       "      <td>2</td>\n",
       "      <td>1.093600</td>\n",
       "    </tr>\n",
       "    <tr>\n",
       "      <th>2</th>\n",
       "      <td>0.5</td>\n",
       "      <td>3</td>\n",
       "      <td>1.139390</td>\n",
       "    </tr>\n",
       "    <tr>\n",
       "      <th>3</th>\n",
       "      <td>0.5</td>\n",
       "      <td>4</td>\n",
       "      <td>0.547651</td>\n",
       "    </tr>\n",
       "    <tr>\n",
       "      <th>4</th>\n",
       "      <td>0.5</td>\n",
       "      <td>5</td>\n",
       "      <td>0.065928</td>\n",
       "    </tr>\n",
       "  </tbody>\n",
       "</table>\n",
       "</div>"
      ],
      "text/plain": [
       "   Virulence  Replicate  ShannonDiversity\n",
       "0        0.5          1          0.059262\n",
       "1        0.5          2          1.093600\n",
       "2        0.5          3          1.139390\n",
       "3        0.5          4          0.547651\n",
       "4        0.5          5          0.065928"
      ]
     },
     "execution_count": 8,
     "metadata": {},
     "output_type": "execute_result"
    }
   ],
   "source": [
    "experimentDF.head()"
   ]
  },
  {
   "cell_type": "markdown",
   "metadata": {},
   "source": [
    "## Preprocessing impact"
   ]
  },
  {
   "cell_type": "code",
   "execution_count": 9,
   "metadata": {
    "collapsed": false
   },
   "outputs": [
    {
     "name": "stdout",
     "output_type": "stream",
     "text": [
      "0.75\n",
      "0.642857142857\n"
     ]
    }
   ],
   "source": [
    "print(experimentDF[\"Virulence\"].dropna().mean())\n",
    "print(experimentDF[\"Virulence\"].fillna(0.0).mean())"
   ]
  },
  {
   "cell_type": "markdown",
   "metadata": {},
   "source": [
    "## Standard Error of the Mean (SEM)"
   ]
  },
  {
   "cell_type": "code",
   "execution_count": 10,
   "metadata": {
    "collapsed": false
   },
   "outputs": [
    {
     "name": "stdout",
     "output_type": "stream",
     "text": [
      "SEM of Shannoon Diversity 2/ 0.8 Parasite Virulence = 0.110547585529\n"
     ]
    }
   ],
   "source": [
    "from scipy import stats\n",
    "\n",
    "print('SEM of Shannoon Diversity 2/ 0.8 Parasite Virulence =',\n",
    "      stats.sem(experimentDF[experimentDF[\"Virulence\"] == 0.8][\"ShannonDiversity\"]))"
   ]
  },
  {
   "cell_type": "markdown",
   "metadata": {},
   "source": [
    "## Mann-Whitney-Wilcoxon RankSum test\n",
    "\n",
    "It is useful to determine if two distributions are significantly different or not.\n",
    "Unlike the **t-test**, the RankSum does not assume that the data are normally distributed,\n",
    "potentially providing a more accurate assessment of the data sets."
   ]
  },
  {
   "cell_type": "code",
   "execution_count": 11,
   "metadata": {
    "collapsed": false
   },
   "outputs": [
    {
     "name": "stdout",
     "output_type": "stream",
     "text": [
      "Data set 1:\n",
      " 0    0.059262\n",
      "1    1.093600\n",
      "2    1.139390\n",
      "3    0.547651\n",
      "4    0.065928\n",
      "Name: ShannonDiversity, dtype: float64\n",
      "Data set 2:\n",
      " 150    1.433800\n",
      "151    2.079700\n",
      "152    0.892139\n",
      "153    2.384740\n",
      "154    0.006980\n",
      "Name: ShannonDiversity, dtype: float64\n"
     ]
    }
   ],
   "source": [
    "# select two treatment data sets from the parasite data  \n",
    "treatment1 = experimentDF[experimentDF[\"Virulence\"] == 0.5][\"ShannonDiversity\"]  \n",
    "treatment2 = experimentDF[experimentDF[\"Virulence\"] == 0.8][\"ShannonDiversity\"] \n",
    "\n",
    "print(\"Data set 1:\\n\", treatment1.head())\n",
    "print(\"Data set 2:\\n\", treatment2.head())"
   ]
  },
  {
   "cell_type": "code",
   "execution_count": 12,
   "metadata": {
    "collapsed": false
   },
   "outputs": [
    {
     "name": "stdout",
     "output_type": "stream",
     "text": [
      "MWW Ranksum P for treatment 1 and 2 =  0.000983355902735\n"
     ]
    }
   ],
   "source": [
    "z_stat, p_val = stats.ranksums(treatment1, treatment2)\n",
    "\n",
    "print(\"MWW Ranksum P for treatment 1 and 2 = \", p_val)"
   ]
  },
  {
   "cell_type": "markdown",
   "metadata": {},
   "source": [
    "The two distributions are significantly different"
   ]
  },
  {
   "cell_type": "markdown",
   "metadata": {},
   "source": [
    "## One-way analysis of varianve (ANOVA)"
   ]
  },
  {
   "cell_type": "code",
   "execution_count": 13,
   "metadata": {
    "collapsed": false
   },
   "outputs": [
    {
     "name": "stdout",
     "output_type": "stream",
     "text": [
      "One-way ANOVA P =  0.381509481874\n"
     ]
    }
   ],
   "source": [
    "treatment1 = experimentDF[experimentDF[\"Virulence\"] == 0.7][\"ShannonDiversity\"]  \n",
    "treatment2 = experimentDF[experimentDF[\"Virulence\"] == 0.8][\"ShannonDiversity\"]  \n",
    "treatment3 = experimentDF[experimentDF[\"Virulence\"] == 0.9][\"ShannonDiversity\"] \n",
    "\n",
    "z_stat, p_val = stats.f_oneway(treatment1, treatment2, treatment3)\n",
    "\n",
    "print(\"One-way ANOVA P = \", p_val)"
   ]
  },
  {
   "cell_type": "markdown",
   "metadata": {},
   "source": [
    "The means of the results of all three experiments are not significantly different"
   ]
  },
  {
   "cell_type": "markdown",
   "metadata": {},
   "source": [
    "## Bootsraped 95% confidence intervals\n",
    "\n",
    "when the dataset size is < 20, standard error mean may not be accurate enough."
   ]
  },
  {
   "cell_type": "code",
   "execution_count": 17,
   "metadata": {
    "collapsed": false
   },
   "outputs": [
    {
     "name": "stdout",
     "output_type": "stream",
     "text": [
      "Bootstrapped 95% confidence intervals\n",
      " Low: 0.9208756094 \n",
      "High 1.340388464\n"
     ]
    }
   ],
   "source": [
    "import scipy\n",
    "import scikits.bootstrap as bootstrap\n",
    "\n",
    "CIs = bootstrap.ci(data=treatment1, statfunction=scipy.mean)\n",
    "\n",
    "print(\"Bootstrapped 95% confidence intervals\\n Low:\", CIs[0], \"\\nHigh\", CIs[1])"
   ]
  },
  {
   "cell_type": "code",
   "execution_count": 18,
   "metadata": {
    "collapsed": false
   },
   "outputs": [
    {
     "name": "stdout",
     "output_type": "stream",
     "text": [
      "Bootstrapped 95% confidence intervals\n",
      " Low: 0.9861036594 \n",
      "High 1.2627904322\n"
     ]
    }
   ],
   "source": [
    "import scipy\n",
    "import scikits.bootstrap as bootstrap\n",
    "\n",
    "CIs = bootstrap.ci(data=treatment1, statfunction=scipy.mean, alpha = 0.2)\n",
    "\n",
    "print(\"Bootstrapped 95% confidence intervals\\n Low:\", CIs[0], \"\\nHigh\", CIs[1])"
   ]
  },
  {
   "cell_type": "code",
   "execution_count": 20,
   "metadata": {
    "collapsed": false
   },
   "outputs": [
    {
     "name": "stdout",
     "output_type": "stream",
     "text": [
      "Bootstrapped 95% confidence intervals\n",
      " Low: 1.0728948554 \n",
      "High 1.1831079314\n"
     ]
    }
   ],
   "source": [
    "import scipy\n",
    "import scikits.bootstrap as bootstrap\n",
    "\n",
    "CIs = bootstrap.ci(data=treatment1, statfunction=scipy.mean, alpha = 0.6, n_samples=20000)\n",
    "\n",
    "print(\"Bootstrapped 95% confidence intervals\\n Low:\", CIs[0], \"\\nHigh\", CIs[1])"
   ]
  },
  {
   "cell_type": "code",
   "execution_count": null,
   "metadata": {
    "collapsed": true
   },
   "outputs": [],
   "source": []
  }
 ],
 "metadata": {
  "kernelspec": {
   "display_name": "Python 3",
   "language": "python",
   "name": "python3"
  },
  "language_info": {
   "codemirror_mode": {
    "name": "ipython",
    "version": 3
   },
   "file_extension": ".py",
   "mimetype": "text/x-python",
   "name": "python",
   "nbconvert_exporter": "python",
   "pygments_lexer": "ipython3",
   "version": "3.5.1"
  }
 },
 "nbformat": 4,
 "nbformat_minor": 0
}
