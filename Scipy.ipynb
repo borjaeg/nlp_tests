{
 "metadata": {
  "name": "",
  "signature": "sha256:014f39034944272645c83c48f22c5f06cdc1f6b11120655d1b6975f6631240d3"
 },
 "nbformat": 3,
 "nbformat_minor": 0,
 "worksheets": [
  {
   "cells": [
    {
     "cell_type": "markdown",
     "metadata": {},
     "source": [
      "**Scipy** is a package that utilizes numpy arrays and manipulations to take on standard problems that scientists and engineers commonly face: integration, determining function's maxima or minimam finding eigenvectors for large sparse matrices, testing whether two distributions are the same, and much more."
     ]
    },
    {
     "cell_type": "markdown",
     "metadata": {},
     "source": [
      "## Optimization and Minimization\n",
      "### Data Modeling and Fitting\n",
      "There are several ways to fit data with a linear regression."
     ]
    },
    {
     "cell_type": "code",
     "collapsed": false,
     "input": [
      "%pylab inline\n",
      "import numpy\n",
      "from scipy.optimize import curvcurve_fit"
     ],
     "language": "python",
     "metadata": {},
     "outputs": [
      {
       "output_type": "stream",
       "stream": "stdout",
       "text": [
        "Populating the interactive namespace from numpy and matplotlib\n"
       ]
      }
     ],
     "prompt_number": 1
    },
    {
     "cell_type": "code",
     "collapsed": false,
     "input": [
      "def func(x,a,b):\n",
      "    return a*x + b"
     ],
     "language": "python",
     "metadata": {},
     "outputs": [],
     "prompt_number": 26
    },
    {
     "cell_type": "code",
     "collapsed": false,
     "input": [
      "# Generating clean data\n",
      "x = np.linspace(0, 10, 100)\n",
      "y = func(x,1,2)\n",
      "\n",
      "# Adding noise to the data\n",
      "yn = y * 0.9 * np.random.normal(size = len(x))"
     ],
     "language": "python",
     "metadata": {},
     "outputs": [],
     "prompt_number": 27
    },
    {
     "cell_type": "code",
     "collapsed": false,
     "input": [
      "# Executing curve fit on noisy data\n",
      "popt, pcov = curve_fit(func, x, yn)\n",
      "\n",
      "print popt"
     ],
     "language": "python",
     "metadata": {},
     "outputs": [
      {
       "output_type": "stream",
       "stream": "stdout",
       "text": [
        "[-0.07407549  0.20832685]\n"
       ]
      }
     ],
     "prompt_number": 28
    },
    {
     "cell_type": "code",
     "collapsed": false,
     "input": [
      "plot(x,y, 'r--')\n",
      "plot(x, yn, 'g*')"
     ],
     "language": "python",
     "metadata": {},
     "outputs": [
      {
       "metadata": {},
       "output_type": "pyout",
       "prompt_number": 29,
       "text": [
        "[<matplotlib.lines.Line2D at 0x1083265d0>]"
       ]
      },
      {
       "metadata": {},
       "output_type": "display_data",
       "png": "[encoded data removed]",
       "text": [
        "<matplotlib.figure.Figure at 0x108326890>"
       ]
      }
     ],
     "prompt_number": 29
    },
    {
     "cell_type": "code",
     "collapsed": false,
     "input": [
      "# Gaussian profile function\n",
      "def func(x, a, b, c):\n",
      "    return a * np.exp(-(x-b)**2/(2*c**2))\n",
      "\n",
      "# Getting clean data\n",
      "x = np.linspace(0, 10, 100)\n",
      "y = func(x, 1, 5 ,2)\n",
      "\n",
      "# Adding noise to the data\n",
      "yn = y + 0.2 * np.random.normal(size = len(x))"
     ],
     "language": "python",
     "metadata": {},
     "outputs": [],
     "prompt_number": 30
    },
    {
     "cell_type": "code",
     "collapsed": false,
     "input": [
      "# Executing curve_fit on noisy data\n",
      "popt, pcov = curve_fit(func, x, yn)\n",
      "\n",
      "print popt"
     ],
     "language": "python",
     "metadata": {},
     "outputs": [
      {
       "output_type": "stream",
       "stream": "stdout",
       "text": [
        "[ 1.02904292  5.06484485 -1.93485642]\n"
       ]
      }
     ],
     "prompt_number": 31
    },
    {
     "cell_type": "code",
     "collapsed": false,
     "input": [
      "plot(x,y, 'r--')\n",
      "plot(x, yn, 'g*')"
     ],
     "language": "python",
     "metadata": {},
     "outputs": [
      {
       "metadata": {},
       "output_type": "pyout",
       "prompt_number": 32,
       "text": [
        "[<matplotlib.lines.Line2D at 0x10841b590>]"
       ]
      },
      {
       "metadata": {},
       "output_type": "display_data",
       "png": "[encoded data removed]",
       "text": [
        "<matplotlib.figure.Figure at 0x10801c4d0>"
       ]
      }
     ],
     "prompt_number": 32
    },
    {
     "cell_type": "code",
     "collapsed": false,
     "input": [
      "# Two-gaussian model\n",
      "def func(x, a0, b0, c0, a1, b1, c1):\n",
      "    return a0*np.exp(-(x - b0)**2 /(2 * c0 **2)) + a1 * np.exp(-(x - b1)** 2/(2*c1**2))"
     ],
     "language": "python",
     "metadata": {},
     "outputs": [],
     "prompt_number": 19
    },
    {
     "cell_type": "code",
     "collapsed": false,
     "input": [
      "# Generating clean data\n",
      "x = np.linspace(0, 20, 200)\n",
      "y = func(x, 1, 3, 1, -2, 15, 0.5)\n",
      "\n",
      "# Adding noise to the data\n",
      "yn = y + 0.2 + np.random.normal(size = len(x))\n",
      "\n",
      "# Since we are fitting a more complex function, providing guesses\n",
      "# for the fitting will lead to better results\n",
      "guesses = [1, 3, 1, -2, 15, 0.5]\n",
      "popt, pcov = curve_fit(func, x, yn, p0=guesses)\n",
      "\n",
      "plot(x,y, 'r--')\n",
      "plot(x, yn, 'g*')"
     ],
     "language": "python",
     "metadata": {},
     "outputs": [
      {
       "metadata": {},
       "output_type": "pyout",
       "prompt_number": 23,
       "text": [
        "[<matplotlib.lines.Line2D at 0x107be2c90>]"
       ]
      },
      {
       "metadata": {},
       "output_type": "display_data",
       "png": "[encoded data removed]",
       "text": [
        "<matplotlib.figure.Figure at 0x107e80210>"
       ]
      }
     ],
     "prompt_number": 23
    },
    {
     "cell_type": "markdown",
     "metadata": {},
     "source": [
      "## Statistics\n"
     ]
    },
    {
     "cell_type": "code",
     "collapsed": false,
     "input": [
      "import numpy as np\n",
      "\n",
      "x = np.random.randn(1000)\n",
      "\n",
      "mean = x.mean()\n",
      "std = x.std()\n",
      "var = x.var()"
     ],
     "language": "python",
     "metadata": {},
     "outputs": [],
     "prompt_number": 33
    },
    {
     "cell_type": "code",
     "collapsed": false,
     "input": [
      "print(\"%.2f %.3f %.2f\") % (mean, std, var)"
     ],
     "language": "python",
     "metadata": {},
     "outputs": [
      {
       "output_type": "stream",
       "stream": "stdout",
       "text": [
        "0.01 0.981 0.96\n"
       ]
      }
     ],
     "prompt_number": 38
    },
    {
     "cell_type": "markdown",
     "metadata": {},
     "source": [
      "### Continuous and Discrete Distributions\n",
      "There are roughly 80 continuos distributions and over 10 discrete distributions. \n",
      "These distributions are useful as random number generators."
     ]
    },
    {
     "cell_type": "code",
     "collapsed": false,
     "input": [
      "import numpy as np\n",
      "from scipy.stats import norm\n",
      "\n",
      "# Set up the sample range\n",
      "x = np.linspace(-5,5,1000)\n",
      "\n",
      "dist = norm(loc=0, scale=1)\n",
      "pdf = dist.pdf(x)\n",
      "cdf = dist.cdf(x)\n",
      "\n",
      "#print pdf\n",
      "#print cdf\n",
      "\n",
      "sample = dist.rvs(500)\n",
      "print sample"
     ],
     "language": "python",
     "metadata": {},
     "outputs": [
      {
       "output_type": "stream",
       "stream": "stdout",
       "text": [
        "[ -2.95050986e-01  -6.55729006e-01   1.50889512e+00   5.45847855e-01\n",
        "   6.11127121e-01   7.96527032e-02  -1.37896512e+00  -2.77437968e+00\n",
        "   3.14461204e-01   1.26324123e+00   7.96278558e-01  -1.71067164e+00\n",
        "   8.48474210e-01   3.92970512e-01  -8.87046734e-01   8.49889632e-01\n",
        "   1.82995605e+00  -1.94661002e-01  -1.43906429e+00  -6.57627393e-01\n",
        "   8.34293309e-01  -1.56734472e+00  -1.21462753e+00  -2.21540706e+00\n",
        "  -2.68719927e-01   7.64157168e-01   3.66145277e-01   1.78125156e+00\n",
        "  -2.22001817e-01   2.67442186e+00   2.11766664e-02   4.98063273e-01\n",
        "  -1.10606019e+00  -1.59899832e-01   6.03274006e-01  -1.86916743e+00\n",
        "   2.53362712e-01   1.52895714e-01   1.15679659e+00   9.89101253e-02\n",
        "  -6.55362629e-01   1.30649155e+00  -8.34216712e-01   4.29398693e-01\n",
        "  -2.32208305e-01  -9.81307434e-01   4.33129259e-01   3.78904774e-01\n",
        "   1.37185464e+00   3.43646835e-01   3.30576278e-01  -3.95824838e-02\n",
        "   1.29884568e+00  -1.14967612e+00  -8.89286656e-01  -4.12968595e-01\n",
        "  -5.44907076e-01   8.93545726e-01   6.14879161e-02  -7.43948316e-01\n",
        "   3.37567859e-01   3.07024438e-01   2.71535940e-01   5.66218933e-01\n",
        "   2.08229158e+00  -6.51601766e-01   1.64841770e+00  -1.25926900e+00\n",
        "  -6.74493903e-01  -4.28944179e-01   9.23694338e-02  -1.41651827e-02\n",
        "  -1.44531573e-01  -1.10543130e+00  -1.98564581e+00   1.35740192e+00\n",
        "  -1.92929164e-01   2.02736650e+00   3.29712938e-01   9.57847250e-01\n",
        "   1.29039883e-01   3.44553035e-01   1.34973649e+00  -5.18896508e-01\n",
        "  -2.78717755e-01   3.42025512e-01  -3.90605022e-01  -6.25987553e-02\n",
        "  -1.64221250e+00   4.28435370e-01  -2.31596318e+00  -3.18466767e-01\n",
        "  -6.09213371e-01  -1.90178625e+00  -1.47632936e+00  -3.26632709e-01\n",
        "  -2.18356382e+00  -2.96734756e-01   1.93407913e-01   3.03934975e-01\n",
        "   1.23228431e+00   6.44892056e-01   9.84037098e-01  -9.19446559e-01\n",
        "   1.86666687e-01   1.66980881e-01   1.51290339e+00   2.31014208e+00\n",
        "  -9.17220636e-01   1.03707191e+00   7.99751043e-01  -8.45133934e-01\n",
        "  -1.58846992e+00   5.51744880e-01  -6.18678813e-01   1.23091479e-01\n",
        "   8.36357022e-01   6.35442755e-01   6.82461932e-01  -9.22364281e-01\n",
        "   8.71112906e-01   1.56820636e+00  -1.98064150e+00   2.50022996e+00\n",
        "   1.84991859e+00  -4.98664196e-01  -1.28928497e+00  -4.22689859e-01\n",
        "  -2.41634948e+00   1.55713919e+00   2.15021262e-01  -2.08130489e+00\n",
        "  -4.27952297e-01   1.57854298e+00  -2.74022384e+00   2.80071993e-01\n",
        "   9.65754069e-02   1.64506064e-02   2.28469416e-01   2.28996475e+00\n",
        "   2.60473129e-01  -6.45165039e-02   2.06362270e-01  -1.83395869e+00\n",
        "   8.12718283e-02  -3.55895855e-01  -1.13511531e+00   1.46246232e+00\n",
        "   8.04905085e-02  -1.15271283e+00  -6.14254420e-02  -1.02549049e+00\n",
        "  -3.48951707e-01  -7.50298248e-01  -8.53030073e-01   2.00096308e+00\n",
        "   1.19829766e+00  -1.27511633e+00   7.33176007e-01  -1.59266136e-01\n",
        "  -9.03600429e-01   1.27721391e-01   1.17626987e+00  -9.04430725e-01\n",
        "   2.70548469e-01   1.19268055e+00  -2.58450613e-01  -5.77735199e-01\n",
        "  -9.63667257e-01   1.10699087e-01   1.29685262e+00  -9.60898526e-01\n",
        "  -7.39266490e-01  -8.02084564e-02  -6.93485646e-01  -2.40699906e-01\n",
        "  -5.78903574e-01   8.40293158e-01  -4.48423809e-02   8.84521490e-02\n",
        "   1.37515363e+00   1.53851670e+00  -9.70761361e-01   7.15350184e-01\n",
        "  -7.46014148e-01   1.56135365e-01  -9.38523746e-01  -1.52766666e+00\n",
        "  -9.03166034e-01  -3.09289105e-01  -8.09122117e-01  -2.18766616e-01\n",
        "  -2.43290047e+00  -1.61382849e-01  -4.47320441e-01  -1.20099446e+00\n",
        "   9.80898099e-01   2.00068034e+00  -6.39835492e-01   8.67435504e-01\n",
        "   3.56664431e-01   7.36680607e-01  -2.37491099e+00  -1.06198311e+00\n",
        "  -1.49753441e+00  -4.93491448e-02   7.61436898e-01  -6.97612870e-01\n",
        "   1.58869806e-02  -7.79205333e-01   3.11364815e-01  -1.20931845e-01\n",
        "  -9.25933333e-01   3.79811945e-01   1.15109502e+00   8.31919867e-01\n",
        "  -1.77477587e+00   6.08056456e-01   8.44493466e-03   7.45022689e-01\n",
        "  -9.06679077e-01  -1.76769079e-01  -2.63657838e-01  -1.06144748e+00\n",
        "  -5.09610488e-01   1.42288084e+00  -1.25811200e+00  -9.66286490e-01\n",
        "  -5.89912090e-01  -7.18244226e-01  -3.27170215e-01  -1.41454469e+00\n",
        "  -2.52068646e-01  -9.09404968e-02   2.63043228e+00  -5.45099715e-01\n",
        "  -1.14965752e+00  -1.01884633e+00  -2.32217496e-01   1.19022623e+00\n",
        "   3.25400753e-01   1.09423348e+00  -7.93546890e-01   9.52558772e-01\n",
        "   3.18202677e-01  -9.81385748e-01   1.68034487e+00   1.77586914e+00\n",
        "  -1.26481105e+00  -7.31476849e-01  -1.78618585e-01   1.21807618e+00\n",
        "  -4.03974047e-01  -1.17171483e-01   1.65782315e+00  -1.50207886e+00\n",
        "   1.01557726e+00   1.73024788e+00   6.07922371e-01   4.69576624e-01\n",
        "  -1.09727122e+00   1.41560115e+00  -2.91178925e-01  -1.54298290e-01\n",
        "  -2.19742616e+00  -1.61437268e+00  -4.68827065e-01  -5.69681450e-01\n",
        "  -5.16347498e-02   1.64557247e-02  -1.07738159e-01  -1.41423692e+00\n",
        "   9.66019199e-01  -1.41230061e+00  -2.07922980e-01  -5.55649453e-01\n",
        "  -5.54084923e-02  -4.61706544e-02   7.52516521e-01  -5.74823326e-02\n",
        "  -8.04652143e-01   1.04345363e-01   5.88804913e-01  -1.49872710e-01\n",
        "   2.64114726e-01  -1.19728649e+00  -2.90182111e-02   4.95086429e-02\n",
        "  -1.74799621e-01  -1.10967791e+00  -1.50641538e+00  -5.31060716e-01\n",
        "  -2.16299978e-01   1.55522217e+00  -5.78157124e-01   5.73380532e-01\n",
        "   3.74365204e-01   2.03986484e+00   1.28160099e+00  -1.34321202e+00\n",
        "   8.04861411e-01  -1.15332258e+00  -9.23719506e-01   1.25429723e+00\n",
        "   5.33225217e-01   2.61363149e-01   1.69392781e+00  -1.69538977e+00\n",
        "   4.59691260e-01   7.72568927e-01  -8.51800995e-01  -9.28748219e-01\n",
        "  -2.95643417e-01   5.36547919e-01   9.29774639e-01   6.27983895e-01\n",
        "  -8.07186768e-01   5.10213799e-01   1.32362408e+00  -2.73353980e-01\n",
        "  -7.02415930e-01  -6.25297191e-01  -6.98350542e-01   1.75377542e+00\n",
        "   1.70420124e-01  -1.76630035e-01   1.36150498e+00   9.52576337e-01\n",
        "  -1.81339634e+00   6.48624827e-01  -1.29363654e+00   3.19638297e-01\n",
        "  -9.00200451e-01  -4.77530933e-01  -8.65992371e-01  -6.96470957e-01\n",
        "   5.79094885e-02   4.73338853e-01   5.01548227e-01   2.40795801e-01\n",
        "  -1.11278164e+00   2.06740521e+00   2.68790765e-01  -2.92388393e-01\n",
        "   4.98676257e-01  -2.33454738e+00  -9.18420707e-01   2.27445442e-01\n",
        "   1.90766289e-01   8.51749676e-01  -8.60284411e-01  -4.84849177e-01\n",
        "  -1.49326418e+00  -1.29523434e-01   7.10859654e-01   7.80511821e-01\n",
        "   1.42376852e-02  -5.54888935e-01  -1.58820794e+00  -1.02571938e+00\n",
        "  -4.00304832e-01   2.09281807e-01  -1.53952385e-01  -1.02596416e+00\n",
        "   2.64339108e-03   1.22633964e+00   1.09721621e-01  -1.66374424e+00\n",
        "  -5.65752166e-01   3.38622921e-01   3.96126116e-01  -2.27178185e+00\n",
        "  -1.48758746e+00  -8.75397384e-01  -1.96219065e-01  -1.06837156e+00\n",
        "   4.17873537e-01  -8.17427029e-01   9.30900418e-01  -3.46608003e-01\n",
        "  -9.26547149e-02   9.89707682e-01  -1.10927741e+00  -1.12927808e+00\n",
        "   1.34561973e+00   6.45176035e-02   1.37252097e+00   2.19741463e+00\n",
        "   7.84193714e-01  -1.55267482e+00   3.11451118e-02  -1.43326333e+00\n",
        "  -1.97169823e+00   1.56217841e+00   1.79802127e+00   5.83238705e-01\n",
        "  -1.54029663e+00  -4.67438579e-01   1.40555396e+00  -1.52341813e+00\n",
        "  -9.53565960e-01   2.41209143e-01  -2.08087855e-01  -5.93118749e-01\n",
        "  -1.61650585e+00  -2.74954375e-01   7.46460542e-01   2.65384135e-01\n",
        "  -6.99011169e-01  -4.63307546e-01   6.21476424e-01   3.13649077e-01\n",
        "  -9.49374128e-01  -1.58651436e+00  -1.66250229e+00  -7.03982564e-01\n",
        "  -8.15740179e-01   5.01095190e-01  -1.70334257e+00  -2.31076234e+00\n",
        "   6.03779173e-01   1.31674606e+00   1.15449557e+00  -3.88681349e-01\n",
        "   1.80089112e+00  -2.34293518e-01  -2.30457964e+00  -6.43644898e-01\n",
        "   6.38540395e-01   4.04765632e-01   3.46439928e-01   7.95354629e-01\n",
        "  -4.78814528e-01   2.28686788e+00   3.36768765e-02   1.85412991e-01\n",
        "  -1.72620759e+00  -8.57600205e-01   1.36336954e+00   6.17420726e-01\n",
        "  -9.18713713e-01   9.79657257e-01   3.13691534e-02  -1.29883110e+00\n",
        "  -1.27840166e-01   5.90999973e-01   1.00367282e+00   6.79740216e-02\n",
        "   2.91881191e-01   1.58540298e+00   2.42693982e+00  -1.02640982e+00\n",
        "  -8.74728708e-01  -1.28436078e+00   6.48265481e-01  -1.62833639e-01\n",
        "  -9.21502474e-01   1.29141195e-01   1.56578400e-01  -6.75574067e-01\n",
        "   1.43021646e-01   8.19484439e-01  -2.49840067e+00  -4.91792058e-01\n",
        "   1.51594327e+00  -9.73638118e-01  -7.04618969e-01  -3.67739637e-01\n",
        "  -4.29638427e-01   3.73568194e-01   1.78212386e+00  -1.05917943e+00\n",
        "   2.16425761e-02  -4.84925436e-02  -9.57522862e-01  -1.47211054e+00\n",
        "   1.84095187e+00  -3.41654082e-02  -6.24916670e-01  -4.56219386e-02\n",
        "  -1.41715263e-01  -1.13936420e-01   4.11851683e-01   2.18794964e-01\n",
        "  -2.48726202e-01  -2.61381915e-01   8.60657651e-01  -6.25644472e-01\n",
        "   1.19883299e+00  -4.39058388e-01  -2.79316406e-01   5.57694173e-01\n",
        "  -6.26295574e-03   3.03474356e-01  -3.78040277e-02   1.63905932e+00\n",
        "   2.81316823e-01  -5.36847243e-01   1.72041333e-01  -2.05721753e-01]\n"
       ]
      }
     ],
     "prompt_number": 41
    },
    {
     "cell_type": "code",
     "collapsed": false,
     "input": [
      "import numpy as np\n",
      "from scipy.stats import geom\n",
      "\n",
      "p = 0.5\n",
      "dist = geom(p)\n",
      "\n",
      "x = np.linspace(0,5,1000)\n",
      "\n",
      "dist.rvs(500)"
     ],
     "language": "python",
     "metadata": {},
     "outputs": [
      {
       "metadata": {},
       "output_type": "pyout",
       "prompt_number": 43,
       "text": [
        "array([ 2,  1,  1,  2, 10, 11,  1,  2,  2,  2,  4,  1,  1,  2,  1,  2,  1,\n",
        "        1,  7,  2,  2,  4,  1,  4,  1,  3,  1,  1,  2,  4,  1,  1,  3,  1,\n",
        "        1,  1,  2,  1,  4,  1,  1,  4,  2,  3,  2,  2,  3,  1,  1,  5,  1,\n",
        "        1,  1,  1,  1,  2,  3,  3,  1,  1,  1,  2,  2,  2,  1,  4,  1,  2,\n",
        "        1,  1,  2,  1,  1,  2,  5,  1,  1,  1,  3,  3,  1,  2,  1,  1,  1,\n",
        "        2,  1,  1,  1,  3,  1,  4,  4,  2,  2,  2,  2,  1,  4,  1,  3,  1,\n",
        "        1,  1,  1,  2,  2,  3,  1,  1,  5,  2,  4,  1,  2,  1,  9,  1,  1,\n",
        "        1,  4,  1,  1,  1,  3,  2,  2,  3,  1,  1,  1,  2,  3,  6,  1,  1,\n",
        "        6,  1,  1,  1,  2,  1,  1,  1,  1,  2,  7,  3,  2,  1,  1,  2,  1,\n",
        "        1,  4,  1,  3,  2,  1,  1,  1,  2,  2,  3,  1,  4,  1,  4,  3,  1,\n",
        "        2,  1,  2,  1,  1,  1,  1,  2,  1,  1,  1,  1,  3,  2,  2,  1,  3,\n",
        "        2,  2,  1,  3,  1,  1,  1,  1,  1,  1,  3,  1,  6,  1,  3,  1,  1,\n",
        "        5,  2,  5,  1,  3,  2,  1,  1,  1,  2,  1,  1,  1,  3,  1,  1,  3,\n",
        "        1,  4,  1,  2,  1,  2,  2,  1,  1,  1,  2,  3,  2,  6,  2,  1,  1,\n",
        "        1,  1,  1,  2,  3,  1,  1,  1,  2,  1,  5,  2,  2,  1,  1,  2,  2,\n",
        "        3,  3,  3,  1,  1,  2,  1,  1,  4,  2,  1,  2,  3,  3,  5,  3, 11,\n",
        "        1,  1,  3,  2,  2,  2,  5,  2,  3,  1,  2,  1,  1,  3,  3,  1,  1,\n",
        "        1,  1,  1,  1,  2,  2,  2,  1,  4,  1,  2,  3,  2,  1,  1,  4,  1,\n",
        "        1,  7,  2,  2,  2,  1,  1,  1,  2,  3,  1,  3,  2,  1,  2,  4,  1,\n",
        "        1,  1,  1,  2,  1,  2,  1,  1,  1,  2,  1,  2,  3,  1,  1,  2,  2,\n",
        "        1,  1,  2,  2,  1,  2,  1,  1,  2,  3,  1,  1,  5,  1,  1,  1,  2,\n",
        "        3,  2,  1,  3,  2,  1,  2,  1,  2,  3,  1,  2,  2,  1,  4,  2,  2,\n",
        "        1,  1,  4,  1,  1,  2,  3,  1,  3,  1,  2,  1,  4,  3,  1,  1,  2,\n",
        "        2,  2,  2,  1,  5,  3,  2,  1,  2,  1,  2,  2,  1,  1,  1,  2,  6,\n",
        "        3,  2,  1,  3,  1,  2,  1,  2,  3,  2,  1,  2,  5,  4,  1,  3,  1,\n",
        "        1,  5,  1,  4,  2,  1,  2,  1,  1,  2,  2,  2,  1,  1,  3,  4,  3,\n",
        "        1,  1,  6,  2,  2,  2,  1,  1,  2,  1,  2,  1,  1,  2,  2,  1,  1,\n",
        "        1,  1,  1,  1,  6,  1,  1,  4,  8,  1,  1,  2,  1,  6,  2,  2,  1,\n",
        "        3,  1,  1,  6,  2,  2,  1,  3,  1,  1,  2,  4,  1,  3,  1,  2,  1,\n",
        "        2,  2,  2,  1,  2,  2,  2])"
       ]
      }
     ],
     "prompt_number": 43
    },
    {
     "cell_type": "code",
     "collapsed": false,
     "input": [],
     "language": "python",
     "metadata": {},
     "outputs": []
    }
   ],
   "metadata": {}
  }
 ]
}