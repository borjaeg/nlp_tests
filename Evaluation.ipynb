{
 "cells": [
  {
   "cell_type": "markdown",
   "metadata": {},
   "source": [
    "**Every application is different**. We cannot offer a single evaluation metric that is right for any classification problem, or regression problem, or whatever problem you may encounter.\n",
    "\n",
    "It is useful to think of a **positive example** as one worth of atterntion or **alarm**, and a negative example as uninteresting or benign. \n",
    "\n",
    "### Plain Accuracy and its problems\n",
    "Classification accuracy is a popular metric because it's very easy to measure. Unfortunately, it is usually yoo simplistic for applications of data mining techniques to real business problems. To understand these problem we need a way to decompose and count different types of correct and incorrect decisions made by a classifier."
   ]
  }
 ],
 "metadata": {
  "kernelspec": {
   "display_name": "Python 2",
   "language": "python",
   "name": "python2"
  },
  "language_info": {
   "codemirror_mode": {
    "name": "ipython",
    "version": 2
   },
   "file_extension": ".py",
   "mimetype": "text/x-python",
   "name": "python",
   "nbconvert_exporter": "python",
   "pygments_lexer": "ipython2",
   "version": "2.7.10"
  }
 },
 "nbformat": 4,
 "nbformat_minor": 0
}
