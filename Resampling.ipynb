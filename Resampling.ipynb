{
 "cells": [
  {
   "cell_type": "code",
   "execution_count": 1,
   "metadata": {
    "collapsed": true
   },
   "outputs": [],
   "source": [
    "import numpy as np\n",
    "from sklearn.base import BaseEstimator, TransformerMixin\n",
    "import random"
   ]
  },
  {
   "cell_type": "code",
   "execution_count": 50,
   "metadata": {
    "collapsed": false
   },
   "outputs": [],
   "source": [
    "class Oversampling(BaseEstimator, TransformerMixin):\n",
    "    \n",
    "    def __init__(self, ratio = 1, sensitive_class=1, random_state = 1, shuffle = False):\n",
    "        self.ratio = ratio\n",
    "        self.sensitive_class = sensitive_class\n",
    "        self.random_state = random_state\n",
    "        self.shuffle = shuffle\n",
    "        random.seed(self.random_state)\n",
    "    \n",
    "    def fit_transform(self, x, y):\n",
    "        while (self._count_samples(y)/(len(y) - self._count_samples(y))) < self.ratio:\n",
    "            x, y = self._add_sample(x, y)\n",
    "            \n",
    "        if self.shuffle == True:\n",
    "            x, y = self._shuffle(x, y)\n",
    "        \n",
    "        return x, y\n",
    "    \n",
    "    def _count_samples(self, y):\n",
    "        if self.sensitive_class == 0:\n",
    "            return len(y) - np.count_nonzero(y)\n",
    "        else:\n",
    "            return np.count_nonzero(y)\n",
    "        \n",
    "    def _add_sample(self, x, y):\n",
    "        pos = random.randint(0, self._count_samples(y) - 1)\n",
    "        x = np.hstack((x, x[np.nonzero(y == self.sensitive_class)[0][pos]]))\n",
    "        y = np.hstack((y, [self.sensitive_class]))\n",
    "\n",
    "        return x, y\n",
    "    \n",
    "    def _shuffle(self, x, y):\n",
    "        assert len(x) == len(y)\n",
    "        p = np.random.permutation(len(x))\n",
    "        return x[p], y[p]\n",
    "    "
   ]
  },
  {
   "cell_type": "code",
   "execution_count": 51,
   "metadata": {
    "collapsed": false
   },
   "outputs": [
    {
     "name": "stdout",
     "output_type": "stream",
     "text": [
      "[1 1 1 0 1 1 1 0 1 1 1 1 0 1 0 1 1 1 1 1 1 0 1 1 1 1 1 1 1 1] [1 1 1 0 1 1 1 0 1 1 1 1 0 1 0 1 1 1 1 1 1 0 1 1 1 1 1 1 1 1]\n"
     ]
    }
   ],
   "source": [
    "x = np.array([1,1,1,1,1,1,1,0,0,0,0,0])\n",
    "y = np.array([1,1,1,1,1,1,1,0,0,0,0,0])\n",
    "ov = Oversampling(5, 1, 5, True)\n",
    "x, y = ov.fit_transform(x,y)\n",
    "print(x,y)"
   ]
  },
  {
   "cell_type": "code",
   "execution_count": null,
   "metadata": {
    "collapsed": true
   },
   "outputs": [],
   "source": []
  }
 ],
 "metadata": {
  "kernelspec": {
   "display_name": "Python 3",
   "language": "python",
   "name": "python3"
  },
  "language_info": {
   "codemirror_mode": {
    "name": "ipython",
    "version": 3
   },
   "file_extension": ".py",
   "mimetype": "text/x-python",
   "name": "python",
   "nbconvert_exporter": "python",
   "pygments_lexer": "ipython3",
   "version": "3.5.1"
  }
 },
 "nbformat": 4,
 "nbformat_minor": 0
}
