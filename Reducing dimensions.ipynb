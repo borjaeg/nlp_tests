{
 "cells": [
  {
   "cell_type": "markdown",
   "metadata": {},
   "source": [
    "In order to visualize the distribution of some unlabeled data in which the input values have multiple dimension, we must reduce the number of feature dimension to two or three.This process is known as **dimensionality reduction**. It is also useful for data compression.\n",
    "\n",
    "**Principal Component Analysis (PCA)** is a form of dimensionaliry reduction in which input variables in the sample data are transformed into linear uncorrelated variables. These transformed features are called the **principal components** of the data.\n",
    "\n",
    "PCA uses a covariance marix and a matrix operation called **Singular Value Decomposition** to calculate the principal components of a given set of input values. The covariance matrix is generally calculated from the input values after mean normalization, which is simply ensuring that each feature has a zero mean value."
   ]
  }
 ],
 "metadata": {
  "kernelspec": {
   "display_name": "Python 2",
   "language": "python",
   "name": "python2"
  },
  "language_info": {
   "codemirror_mode": {
    "name": "ipython",
    "version": 2
   },
   "file_extension": ".py",
   "mimetype": "text/x-python",
   "name": "python",
   "nbconvert_exporter": "python",
   "pygments_lexer": "ipython2",
   "version": "2.7.10"
  }
 },
 "nbformat": 4,
 "nbformat_minor": 0
}
