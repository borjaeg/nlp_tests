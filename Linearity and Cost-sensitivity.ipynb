{
 "cells": [
  {
   "cell_type": "code",
   "execution_count": 5,
   "metadata": {
    "collapsed": true
   },
   "outputs": [],
   "source": [
    "%matplotlib inline\n",
    "\n",
    "# Support\n",
    "import numpy as np\n",
    "# Data\n",
    "from sklearn.datasets import make_classification\n",
    "\n",
    "# Sampling\n",
    "from sklearn.cross_validation import train_test_split, StratifiedKFold\n",
    "\n",
    "# Models\n",
    "# Linear\n",
    "from sklearn.linear_model import LogisticRegression\n",
    "from sklearn.linear_model import Perceptron\n",
    "from sklearn.svm import SVC\n",
    "#from sklearn.naive_bayes import GaussianNB\n",
    "# Non-Linear\n",
    "from sklearn.tree import DecisionTreeClassifier\n",
    "from sklearn.ensemble import RandomForestClassifier\n",
    "from sklearn.ensemble import AdaBoostClassifier\n",
    "\n",
    "# Evaluation\n",
    "from sklearn.metrics import precision_score, recall_score\n",
    "\n",
    "# Plotting\n",
    "import matplotlib.pyplot as plt"
   ]
  },
  {
   "cell_type": "code",
   "execution_count": 51,
   "metadata": {
    "collapsed": true
   },
   "outputs": [],
   "source": [
    "X, y = make_classification(n_samples=10000, n_features=200, n_classes=2, n_clusters_per_class=1)"
   ]
  },
  {
   "cell_type": "code",
   "execution_count": 52,
   "metadata": {
    "collapsed": true
   },
   "outputs": [],
   "source": [
    "def init(names = names):\n",
    "    recalls = {}\n",
    "    precisions = {}\n",
    "    for name in names:\n",
    "        recalls[name] = []\n",
    "        precisions[name] = []\n",
    "        \n",
    "    return recalls, precisions"
   ]
  },
  {
   "cell_type": "code",
   "execution_count": 53,
   "metadata": {
    "collapsed": true
   },
   "outputs": [],
   "source": [
    "costs = np.arange(1, 100, 5)\n",
    "\n",
    "names = [\n",
    "    \"Logistic\",\n",
    "    \"Perceptron\",\n",
    "    \"Linear SVC\",\n",
    "    \"Decision Tree\",\n",
    "    \"Random Forest\",\n",
    "    \"Non-linear SVC\"\n",
    "]\n",
    "\n",
    "estimators = [\n",
    "    LogisticRegression,\n",
    "    Perceptron,\n",
    "    SVC,\n",
    "    DecisionTreeClassifier,\n",
    "    RandomForestClassifier,\n",
    "    SVC\n",
    "]\n",
    "\n",
    "sss = StratifiedKFold(y = y, n_folds = 5, shuffle=True, random_state=2016)"
   ]
  },
  {
   "cell_type": "code",
   "execution_count": 59,
   "metadata": {
    "collapsed": true
   },
   "outputs": [],
   "source": [
    "def cost_sensitive(estimators, names, costs):\n",
    "    recalls, precisions = init(names)\n",
    "    \n",
    "    for name, estimator in zip(names,estimators):\n",
    "        for cost in costs:\n",
    "            pres = []\n",
    "            recs = []\n",
    "            model = estimator()\n",
    "            if hasattr(model, 'class_weight'):\n",
    "                if name == 'Linear SVC':\n",
    "                    model.kernel = 'linear'\n",
    "                model.class_weight = class_weight={1:cost}\n",
    "                for train_index, test_index in sss:\n",
    "                    X_train, y_train = X[train], y[train]\n",
    "                    X_test, y_test = X[test], y[test]\n",
    "                    model.fit(X_train, y_train)\n",
    "                    pres.append(precision_score(y_test, model.predict(X_test)))\n",
    "                    recs.append(recall_score(y_test, model.predict(X_test)))\n",
    "                precisions[name].append(pres)\n",
    "                recalls[name].append(recs)\n",
    "            else:\n",
    "                print(\"It doesn't support cost-sensitive learning\")\n",
    "    return precisions, recalls"
   ]
  },
  {
   "cell_type": "code",
   "execution_count": 60,
   "metadata": {
    "collapsed": false
   },
   "outputs": [
    {
     "ename": "KeyboardInterrupt",
     "evalue": "",
     "output_type": "error",
     "traceback": [
      "\u001b[0;31m---------------------------------------------------------------------------\u001b[0m",
      "\u001b[0;31mKeyboardInterrupt\u001b[0m                         Traceback (most recent call last)",
      "\u001b[0;32m<ipython-input-60-91223d4a0053>\u001b[0m in \u001b[0;36m<module>\u001b[0;34m()\u001b[0m\n\u001b[0;32m----> 1\u001b[0;31m \u001b[0mprecisions\u001b[0m\u001b[0;34m,\u001b[0m \u001b[0mrecalls\u001b[0m \u001b[0;34m=\u001b[0m \u001b[0mcost_sensitive\u001b[0m\u001b[0;34m(\u001b[0m\u001b[0mestimators\u001b[0m\u001b[0;34m,\u001b[0m \u001b[0mnames\u001b[0m\u001b[0;34m,\u001b[0m \u001b[0mcosts\u001b[0m\u001b[0;34m)\u001b[0m\u001b[0;34m\u001b[0m\u001b[0m\n\u001b[0m",
      "\u001b[0;32m<ipython-input-59-cc6d21910936>\u001b[0m in \u001b[0;36mcost_sensitive\u001b[0;34m(estimators, names, costs)\u001b[0m\n\u001b[1;32m     14\u001b[0m                     \u001b[0mX_train\u001b[0m\u001b[0;34m,\u001b[0m \u001b[0my_train\u001b[0m \u001b[0;34m=\u001b[0m \u001b[0mX\u001b[0m\u001b[0;34m[\u001b[0m\u001b[0mtrain\u001b[0m\u001b[0;34m]\u001b[0m\u001b[0;34m,\u001b[0m \u001b[0my\u001b[0m\u001b[0;34m[\u001b[0m\u001b[0mtrain\u001b[0m\u001b[0;34m]\u001b[0m\u001b[0;34m\u001b[0m\u001b[0m\n\u001b[1;32m     15\u001b[0m                     \u001b[0mX_test\u001b[0m\u001b[0;34m,\u001b[0m \u001b[0my_test\u001b[0m \u001b[0;34m=\u001b[0m \u001b[0mX\u001b[0m\u001b[0;34m[\u001b[0m\u001b[0mtest\u001b[0m\u001b[0;34m]\u001b[0m\u001b[0;34m,\u001b[0m \u001b[0my\u001b[0m\u001b[0;34m[\u001b[0m\u001b[0mtest\u001b[0m\u001b[0;34m]\u001b[0m\u001b[0;34m\u001b[0m\u001b[0m\n\u001b[0;32m---> 16\u001b[0;31m                     \u001b[0mmodel\u001b[0m\u001b[0;34m.\u001b[0m\u001b[0mfit\u001b[0m\u001b[0;34m(\u001b[0m\u001b[0mX_train\u001b[0m\u001b[0;34m,\u001b[0m \u001b[0my_train\u001b[0m\u001b[0;34m)\u001b[0m\u001b[0;34m\u001b[0m\u001b[0m\n\u001b[0m\u001b[1;32m     17\u001b[0m                     \u001b[0mpres\u001b[0m\u001b[0;34m.\u001b[0m\u001b[0mappend\u001b[0m\u001b[0;34m(\u001b[0m\u001b[0mprecision_score\u001b[0m\u001b[0;34m(\u001b[0m\u001b[0my_test\u001b[0m\u001b[0;34m,\u001b[0m \u001b[0mmodel\u001b[0m\u001b[0;34m.\u001b[0m\u001b[0mpredict\u001b[0m\u001b[0;34m(\u001b[0m\u001b[0mX_test\u001b[0m\u001b[0;34m)\u001b[0m\u001b[0;34m)\u001b[0m\u001b[0;34m)\u001b[0m\u001b[0;34m\u001b[0m\u001b[0m\n\u001b[1;32m     18\u001b[0m                     \u001b[0mrecs\u001b[0m\u001b[0;34m.\u001b[0m\u001b[0mappend\u001b[0m\u001b[0;34m(\u001b[0m\u001b[0mrecall_score\u001b[0m\u001b[0;34m(\u001b[0m\u001b[0my_test\u001b[0m\u001b[0;34m,\u001b[0m \u001b[0mmodel\u001b[0m\u001b[0;34m.\u001b[0m\u001b[0mpredict\u001b[0m\u001b[0;34m(\u001b[0m\u001b[0mX_test\u001b[0m\u001b[0;34m)\u001b[0m\u001b[0;34m)\u001b[0m\u001b[0;34m)\u001b[0m\u001b[0;34m\u001b[0m\u001b[0m\n",
      "\u001b[0;32m/Users/b3j90/anaconda/envs/nlp/lib/python3.5/site-packages/sklearn/tree/tree.py\u001b[0m in \u001b[0;36mfit\u001b[0;34m(self, X, y, sample_weight, check_input, X_idx_sorted)\u001b[0m\n\u001b[1;32m    348\u001b[0m                                            max_leaf_nodes)\n\u001b[1;32m    349\u001b[0m \u001b[0;34m\u001b[0m\u001b[0m\n\u001b[0;32m--> 350\u001b[0;31m         \u001b[0mbuilder\u001b[0m\u001b[0;34m.\u001b[0m\u001b[0mbuild\u001b[0m\u001b[0;34m(\u001b[0m\u001b[0mself\u001b[0m\u001b[0;34m.\u001b[0m\u001b[0mtree_\u001b[0m\u001b[0;34m,\u001b[0m \u001b[0mX\u001b[0m\u001b[0;34m,\u001b[0m \u001b[0my\u001b[0m\u001b[0;34m,\u001b[0m \u001b[0msample_weight\u001b[0m\u001b[0;34m,\u001b[0m \u001b[0mX_idx_sorted\u001b[0m\u001b[0;34m)\u001b[0m\u001b[0;34m\u001b[0m\u001b[0m\n\u001b[0m\u001b[1;32m    351\u001b[0m \u001b[0;34m\u001b[0m\u001b[0m\n\u001b[1;32m    352\u001b[0m         \u001b[0;32mif\u001b[0m \u001b[0mself\u001b[0m\u001b[0;34m.\u001b[0m\u001b[0mn_outputs_\u001b[0m \u001b[0;34m==\u001b[0m \u001b[0;36m1\u001b[0m\u001b[0;34m:\u001b[0m\u001b[0;34m\u001b[0m\u001b[0m\n",
      "\u001b[0;31mKeyboardInterrupt\u001b[0m: "
     ]
    }
   ],
   "source": [
    "precisions, recalls = cost_sensitive(estimators, names, costs)"
   ]
  },
  {
   "cell_type": "code",
   "execution_count": 56,
   "metadata": {
    "collapsed": false
   },
   "outputs": [
    {
     "data": {
      "text/plain": [
       "{'Decision Tree': [0.94899999999999995,\n",
       "  0.94925373134328361,\n",
       "  0.94543650793650791,\n",
       "  0.95099999999999996,\n",
       "  0.94317048853439678],\n",
       " 'Linear SVC': [0.68611111111111112,\n",
       "  0.68611111111111112,\n",
       "  0.68611111111111112,\n",
       "  0.68611111111111112,\n",
       "  0.68611111111111112],\n",
       " 'Logistic': [0.67595108695652173,\n",
       "  0.67595108695652173,\n",
       "  0.67595108695652173,\n",
       "  0.67595108695652173,\n",
       "  0.67595108695652173],\n",
       " 'Non-linear SVC': [0.95854398382204242,\n",
       "  0.95854398382204242,\n",
       "  0.95854398382204242,\n",
       "  0.95854398382204242,\n",
       "  0.95854398382204242],\n",
       " 'Perceptron': [0.6071863580998782,\n",
       "  0.6071863580998782,\n",
       "  0.6071863580998782,\n",
       "  0.6071863580998782,\n",
       "  0.6071863580998782],\n",
       " 'Random Forest': [0.96649746192893404,\n",
       "  0.97643442622950816,\n",
       "  0.97553516819571862,\n",
       "  0.97046843177189412,\n",
       "  0.96780684104627768]}"
      ]
     },
     "execution_count": 56,
     "metadata": {},
     "output_type": "execute_result"
    }
   ],
   "source": [
    "precisions"
   ]
  },
  {
   "cell_type": "code",
   "execution_count": 57,
   "metadata": {
    "collapsed": false
   },
   "outputs": [
    {
     "data": {
      "text/plain": [
       "{'Decision Tree': [0.94146825396825395,\n",
       "  0.9464285714285714,\n",
       "  0.94543650793650791,\n",
       "  0.94345238095238093,\n",
       "  0.93849206349206349],\n",
       " 'Linear SVC': [0.98015873015873012,\n",
       "  0.98015873015873012,\n",
       "  0.98015873015873012,\n",
       "  0.98015873015873012,\n",
       "  0.98015873015873012],\n",
       " 'Logistic': [0.98710317460317465,\n",
       "  0.98710317460317465,\n",
       "  0.98710317460317465,\n",
       "  0.98710317460317465,\n",
       "  0.98710317460317465],\n",
       " 'Non-linear SVC': [0.94047619047619047,\n",
       "  0.94047619047619047,\n",
       "  0.94047619047619047,\n",
       "  0.94047619047619047,\n",
       "  0.94047619047619047],\n",
       " 'Perceptron': [0.98908730158730163,\n",
       "  0.98908730158730163,\n",
       "  0.98908730158730163,\n",
       "  0.98908730158730163,\n",
       "  0.98908730158730163],\n",
       " 'Random Forest': [0.94444444444444442,\n",
       "  0.94543650793650791,\n",
       "  0.94940476190476186,\n",
       "  0.94543650793650791,\n",
       "  0.95436507936507942]}"
      ]
     },
     "execution_count": 57,
     "metadata": {},
     "output_type": "execute_result"
    }
   ],
   "source": [
    "recalls"
   ]
  },
  {
   "cell_type": "code",
   "execution_count": null,
   "metadata": {
    "collapsed": true
   },
   "outputs": [],
   "source": []
  }
 ],
 "metadata": {
  "kernelspec": {
   "display_name": "Python 3",
   "language": "python",
   "name": "python3"
  },
  "language_info": {
   "codemirror_mode": {
    "name": "ipython",
    "version": 3
   },
   "file_extension": ".py",
   "mimetype": "text/x-python",
   "name": "python",
   "nbconvert_exporter": "python",
   "pygments_lexer": "ipython3",
   "version": "3.5.1"
  }
 },
 "nbformat": 4,
 "nbformat_minor": 0
}
