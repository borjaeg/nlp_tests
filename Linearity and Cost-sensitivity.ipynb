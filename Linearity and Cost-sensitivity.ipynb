{
 "cells": [
  {
   "cell_type": "code",
   "execution_count": 5,
   "metadata": {
    "collapsed": true
   },
   "outputs": [],
   "source": [
    "%matplotlib inline\n",
    "\n",
    "# Support\n",
    "import numpy as np\n",
    "# Data\n",
    "from sklearn.datasets import make_classification\n",
    "\n",
    "# Sampling\n",
    "from sklearn.cross_validation import train_test_split, StratifiedKFold\n",
    "\n",
    "# Models\n",
    "# Linear\n",
    "from sklearn.linear_model import LogisticRegression\n",
    "from sklearn.linear_model import Perceptron\n",
    "from sklearn.svm import SVC\n",
    "#from sklearn.naive_bayes import GaussianNB\n",
    "# Non-Linear\n",
    "from sklearn.tree import DecisionTreeClassifier\n",
    "from sklearn.ensemble import RandomForestClassifier\n",
    "from sklearn.ensemble import AdaBoostClassifier\n",
    "\n",
    "# Evaluation\n",
    "from sklearn.metrics import precision_score, recall_score\n",
    "\n",
    "# Plotting\n",
    "import matplotlib.pyplot as plt"
   ]
  },
  {
   "cell_type": "code",
   "execution_count": 6,
   "metadata": {
    "collapsed": true
   },
   "outputs": [],
   "source": [
    "X, y = make_classification(n_samples=10000, n_features=10, n_classes=2, n_clusters_per_class=1)"
   ]
  },
  {
   "cell_type": "code",
   "execution_count": null,
   "metadata": {
    "collapsed": true
   },
   "outputs": [],
   "source": []
  },
  {
   "cell_type": "code",
   "execution_count": 17,
   "metadata": {
    "collapsed": true
   },
   "outputs": [],
   "source": [
    "def init(names = names):\n",
    "    recalls = {}\n",
    "    precisions = {}\n",
    "    for name in names:\n",
    "        recalls[name] = []\n",
    "        precisions[name] = []\n",
    "        \n",
    "    return recalls, precisions"
   ]
  },
  {
   "cell_type": "code",
   "execution_count": 35,
   "metadata": {
    "collapsed": true
   },
   "outputs": [],
   "source": [
    "costs = np.arange(1, 100, 5)\n",
    "\n",
    "names = [\n",
    "    \"Logistic\",\n",
    "    \"Perceptron\",\n",
    "    \"Linear SVC\",\n",
    "    \"Decision Tree\",\n",
    "    \"Random Forest\",\n",
    "    \"Non-linear SVC\"\n",
    "]\n",
    "\n",
    "estimators = [\n",
    "    LogisticRegression,\n",
    "    Perceptron,\n",
    "    SVC,\n",
    "    DecisionTreeClassifier,\n",
    "    RandomForestClassifier,\n",
    "    AdaBoostClassifier\n",
    "]\n",
    "\n",
    "sss = StratifiedKFold(y = y, n_folds = 5)"
   ]
  },
  {
   "cell_type": "code",
   "execution_count": 36,
   "metadata": {
    "collapsed": true
   },
   "outputs": [],
   "source": [
    "def cost_sensitive(estimators, names, costs):\n",
    "    recalls, precisions = init(names)\n",
    "    \n",
    "    for name, estimator in zip(names,estimators):\n",
    "        for cost in costs:\n",
    "            pres = []\n",
    "            recs = []\n",
    "            model = estimator()\n",
    "            if hasattr(model, 'class_weight'):\n",
    "                if name == 'Linear SVC':\n",
    "                    model.kernel = 'linear'\n",
    "                model.class_weight = class_weight={1:cost}\n",
    "                for train_index, test_index in sss:\n",
    "                    X_train, y_train = X[train], y[train]\n",
    "                    X_test, y_test = X[test], y[test]\n",
    "                    model.fit(X_train, y_train)\n",
    "                    pres.append(precision_score(y_test, model.predict(X_test)))\n",
    "                    recs.append(recall_score(y_test, model.predict(X_test)))\n",
    "                precisions[name] = pres\n",
    "                recalls[name] = recs\n",
    "            else:\n",
    "                print(\"It doesn't support cost-sensitive learning\")\n",
    "    return precisions, recalls"
   ]
  },
  {
   "cell_type": "code",
   "execution_count": null,
   "metadata": {
    "collapsed": false
   },
   "outputs": [],
   "source": [
    "precisions, recalls = cost_sensitive(estimators, names, costs)"
   ]
  },
  {
   "cell_type": "code",
   "execution_count": null,
   "metadata": {
    "collapsed": true
   },
   "outputs": [],
   "source": []
  }
 ],
 "metadata": {
  "kernelspec": {
   "display_name": "Python 3",
   "language": "python",
   "name": "python3"
  },
  "language_info": {
   "codemirror_mode": {
    "name": "ipython",
    "version": 3
   },
   "file_extension": ".py",
   "mimetype": "text/x-python",
   "name": "python",
   "nbconvert_exporter": "python",
   "pygments_lexer": "ipython3",
   "version": "3.5.1"
  }
 },
 "nbformat": 4,
 "nbformat_minor": 0
}
