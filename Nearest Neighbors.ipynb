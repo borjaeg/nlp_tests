{
 "cells": [
  {
   "cell_type": "markdown",
   "metadata": {},
   "source": [
    "# Nearest Neighbors\n",
    "\n",
    "The principle behind nearest neighbor is to find a predefined number of training samples closest in distance to the new data, and predict its label. The number of samples can be a user-defined-constant, or vary in the local density points (radius-based neighbor learning). This distance can be any metric, although standard Euclidean distance is the most popular choice. Neighbors-based methods are known as non-generalizing machine learning methods, since they don't create a model, but remember the training set. Neighbors-based classification is a type of instance-based learning or non-generalizing learning: it doesn't tries to construct a model, but simply stores instances of the training data. Classification is computed from a single majority vote of the nearest neighbors of each point.\n",
    "\n",
    "Despite its simplicity, nearest neighbors has been successfull in a large number of **classification and regression problems**. Being a non-parametric mehod, it is often **successful in classification situations where the decision boundary is very irregular**.\n"
   ]
  },
  {
   "cell_type": "code",
   "execution_count": null,
   "metadata": {
    "collapsed": true
   },
   "outputs": [],
   "source": []
  }
 ],
 "metadata": {
  "kernelspec": {
   "display_name": "Python 2",
   "language": "python",
   "name": "python2"
  },
  "language_info": {
   "codemirror_mode": {
    "name": "ipython",
    "version": 2
   },
   "file_extension": ".py",
   "mimetype": "text/x-python",
   "name": "python",
   "nbconvert_exporter": "python",
   "pygments_lexer": "ipython2",
   "version": "2.7.10"
  }
 },
 "nbformat": 4,
 "nbformat_minor": 0
}
