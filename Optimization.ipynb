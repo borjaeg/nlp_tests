{
 "cells": [
  {
   "cell_type": "markdown",
   "metadata": {},
   "source": [
    "## Cost benefit analysis"
   ]
  },
  {
   "cell_type": "code",
   "execution_count": 31,
   "metadata": {
    "collapsed": true
   },
   "outputs": [],
   "source": [
    "const = 1.0\n",
    "hourly_pay = 12.0\n",
    "minimum_production = 400"
   ]
  },
  {
   "cell_type": "code",
   "execution_count": 32,
   "metadata": {
    "collapsed": true
   },
   "outputs": [],
   "source": [
    "def production(hours_worked, num_employees):\n",
    "    productivity = const * (1.0 - 0.01 * (hours_worked-40))\n",
    "    return num_employees * hours_worked * productivity\n",
    "\n",
    "def cost(hours_worked_pt, num_employees_pt, hours_worked_ft, num_employees_ft):\n",
    "    part_time_labor_cost = hours_worked_pt * hourly_pay * num_employees_pt\n",
    "    part_time_fixed_cost = 20*num_employees_pt\n",
    "    full_time_labor_cost = hours_worked_ft * num_employees_ft * hourly_pay\n",
    "    full_time_fixed_cost = 100*num_employees_ft\n",
    "    return  (part_time_labor_cost\n",
    "             + part_time_fixed_cost\n",
    "             + full_time_labor_cost\n",
    "             + full_time_fixed_cost)"
   ]
  },
  {
   "cell_type": "code",
   "execution_count": 33,
   "metadata": {
    "collapsed": false
   },
   "outputs": [],
   "source": [
    "cons = ({'type': 'ineq', 'fun': lambda x:  production(x[0], x[1]) + production(x[2],x[3]) - minimum_production},\n",
    "        {'type': 'ineq', 'fun': lambda x:  x[0]},\n",
    "        {'type': 'ineq', 'fun': lambda x:  x[1]},\n",
    "        {'type': 'ineq', 'fun': lambda x:  29-x[0]}, # <= 29\n",
    "        {'type': 'ineq', 'fun': lambda x:  x[2] - 30}, # >= 30\n",
    "        {'type': 'ineq', 'fun': lambda x:  x[3]},\n",
    "        )"
   ]
  },
  {
   "cell_type": "code",
   "execution_count": 34,
   "metadata": {
    "collapsed": false
   },
   "outputs": [
    {
     "name": "stdout",
     "output_type": "stream",
     "text": [
      "  status: 1\n",
      "    nfev: 1266\n",
      "   maxcv: 1.1797965271398425e-08\n",
      " success: True\n",
      "     fun: 4262.8199690958918\n",
      "       x: array([  1.37015839e+01,   2.31148625e+01,   3.01668743e+01,\n",
      "        -4.30657066e-25])\n",
      " message: 'Optimization terminated successfully.'\n"
     ]
    }
   ],
   "source": [
    "from scipy.optimize import minimize\n",
    "\n",
    "print(minimize(lambda x: cost(x[0], x[1], x[2], x[3]), [40.0, 10.0, 29, 0],\n",
    "                             method = 'COBYLA',\n",
    "                             constraints = cons,\n",
    "                             options={'maxiter': 5000}))"
   ]
  },
  {
   "cell_type": "code",
   "execution_count": null,
   "metadata": {
    "collapsed": true
   },
   "outputs": [],
   "source": [
    "%matplotlib inline  \n",
    "import pandas as pd\n",
    "import numpy as np\n",
    "import matplotlib as mpl\n",
    "import matplotlib.pyplot as plt\n",
    "from mpl_toolkits.mplot3d import Axes3D\n",
    "\n",
    "pd.set_option('html',False)\n",
    "pd.set_option('max_columns',30)\n",
    "pd.set_option('max_rows',10)\n",
    "\n",
    "\n",
    "    # What follows is a copy of the 3D plot example code.\n",
    "    # Data is randomly generated so there is no external data import.\n",
    "\n",
    "def randrange(n, vmin, vmax):\n",
    "    return (vmax-vmin)*np.random.rand(n) + vmin\n",
    "\n",
    "fig = plt.figure()\n",
    "ax = fig.add_subplot(111, projection='3d')\n",
    "n = 100\n",
    "for c, m, zl, zh in [('r', 'o', -60, -25), ('b', '^', -30, -5)]:\n",
    "    xs = randrange(n, 23, 50)\n",
    "    ys = randrange(n, 0, 100)\n",
    "        zs = randrange(n, zl, zh)\n",
    "        ax.scatter(xs, ys, zs, c=c, marker=m)\n",
    "\n",
    "    ax.set_xlabel('X Label')\n",
    "    ax.set_ylabel('Y Label')\n",
    "    ax.set_zlabel('Z Label')\n",
    "\n",
    "    plt.show()"
   ]
  }
 ],
 "metadata": {
  "kernelspec": {
   "display_name": "Python 2",
   "language": "python",
   "name": "python2"
  },
  "language_info": {
   "codemirror_mode": {
    "name": "ipython",
    "version": 2
   },
   "file_extension": ".py",
   "mimetype": "text/x-python",
   "name": "python",
   "nbconvert_exporter": "python",
   "pygments_lexer": "ipython2",
   "version": "2.7.10"
  }
 },
 "nbformat": 4,
 "nbformat_minor": 0
}
