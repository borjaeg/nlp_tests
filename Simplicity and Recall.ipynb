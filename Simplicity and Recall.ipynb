{
 "cells": [
  {
   "cell_type": "code",
   "execution_count": 35,
   "metadata": {
    "collapsed": true
   },
   "outputs": [],
   "source": [
    "%matplotlib inline\n",
    "import numpy as np\n",
    "import matplotlib.pyplot as plt\n",
    "from sklearn.feature_selection import SelectKBest\n",
    "from sklearn.feature_selection import chi2, f_regression\n",
    "from sklearn import datasets\n",
    "from sklearn.cross_validation import train_test_split\n",
    "from sklearn.naive_bayes import GaussianNB\n",
    "from sklearn.neighbors import KNeighborsClassifier\n",
    "from sklearn.metrics import recall_score, precision_score"
   ]
  },
  {
   "cell_type": "code",
   "execution_count": 39,
   "metadata": {
    "collapsed": false
   },
   "outputs": [],
   "source": [
    "X, y = datasets.make_classification(n_samples=5000, n_features=30, \n",
    "                                    n_informative = 25, n_classes = 2, n_clusters_per_class=1)\n",
    "\n",
    "\n",
    "X_train, X_test, y_train, y_test = train_test_split(X, y, \n",
    "                                                    test_size = 0.25, random_state = 2016)\n"
   ]
  },
  {
   "cell_type": "code",
   "execution_count": 37,
   "metadata": {
    "collapsed": false
   },
   "outputs": [],
   "source": [
    "recalls = []\n",
    "precisions = [] \n",
    "\n",
    "for i in range(20):\n",
    "    X_new = SelectKBest(f_regression, k = 30-i).fit_transform(X, y)\n",
    "    model = GaussianNB()\n",
    "    model.fit(X_new, y)\n",
    "    recalls.append(recall_score(model.predict(X_new), y))\n",
    "    precisions.append(precision_score(model.predict(X_new), y))"
   ]
  },
  {
   "cell_type": "code",
   "execution_count": null,
   "metadata": {
    "collapsed": false
   },
   "outputs": [],
   "source": [
    "def plot_rec_prec(precisions, recalls):\n",
    "    plt.figure(figsize=(10,7))\n",
    "    plt.plot(range(20), recalls, color = 'r', label=\"recalls\")\n",
    "    plt.plot(range(20), precisions, color = 'b', label = \"precisions\")\n",
    "    plt.legend()\n",
    "    plt.show()"
   ]
  },
  {
   "cell_type": "code",
   "execution_count": null,
   "metadata": {
    "collapsed": false
   },
   "outputs": [],
   "source": [
    "recalls = []\n",
    "precisions = [] \n",
    "\n",
    "for i in range(20):\n",
    "    model = KNeighborsClassifier(n_neighbors = i + 1)\n",
    "    model.fit(X, y)\n",
    "    recalls.append(recall_score(model.predict(X), y))\n",
    "    precisions.append(precision_score(model.predict(X), y))"
   ]
  },
  {
   "cell_type": "code",
   "execution_count": null,
   "metadata": {
    "collapsed": true
   },
   "outputs": [],
   "source": []
  }
 ],
 "metadata": {
  "kernelspec": {
   "display_name": "Python 3",
   "language": "python",
   "name": "python3"
  },
  "language_info": {
   "codemirror_mode": {
    "name": "ipython",
    "version": 3
   },
   "file_extension": ".py",
   "mimetype": "text/x-python",
   "name": "python",
   "nbconvert_exporter": "python",
   "pygments_lexer": "ipython3",
   "version": "3.5.1"
  }
 },
 "nbformat": 4,
 "nbformat_minor": 0
}
