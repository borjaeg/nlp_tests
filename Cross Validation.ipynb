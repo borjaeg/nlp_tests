{
 "cells": [
  {
   "cell_type": "markdown",
   "metadata": {},
   "source": [
    "# Cross Validation\n",
    "\n",
    "Cross validation can be used to find optimal hyperparameters:\n",
    "* Number of neighbors in K-Nearest Neighbor\n",
    "* Degree of polynomial in polynomial Regression\n",
    "* Whether to use full, diagonal of spherical Gaussians in a Gaussian Bayes Classifier.\n",
    "* The Kernel Width in Kernel Regression\n",
    "* The Bayesian Prior in Bayesian Regression/Classification"
   ]
  },
  {
   "cell_type": "code",
   "execution_count": 12,
   "metadata": {
    "collapsed": false
   },
   "outputs": [
    {
     "data": {
      "text/html": [
       "<table>\n",
       "        <tr>\n",
       "        <th></th>\n",
       "        <th>Downside</th>\n",
       "        <th>Updise</th>\n",
       "        </tr>\n",
       "        <tr>\n",
       "          <td><strong>Test-set</strong></td>\n",
       "          <td>Variance: Unreliable estimate of future performance</td>\n",
       "          <td>Cheap</td>\n",
       "        </tr>\n",
       "        <tr> \n",
       "          <td><strong>Leave-one-out </strong></td>\n",
       "          <td>Expensive and has some weird behavior</td>\n",
       "          <td>Doesn't waste data</td>\n",
       "        </tr>\n",
       "        <tr> \n",
       "          <td><strong>10-fold</strong></td>\n",
       "          <td>Waster 10% of data and 10 times more expensive</td>\n",
       "          <td>Only wastes 10%. Only 10 times more expensive instead of R times</td>\n",
       "        </tr>\n",
       "        </table>"
      ],
      "text/plain": [
       "<IPython.core.display.HTML object>"
      ]
     },
     "execution_count": 12,
     "metadata": {},
     "output_type": "execute_result"
    }
   ],
   "source": [
    "from IPython.display import HTML\n",
    "HTML(\"\"\"<table>\n",
    "        <tr>\n",
    "        <th></th>\n",
    "        <th>Downside</th>\n",
    "        <th>Updise</th>\n",
    "        </tr>\n",
    "        <tr>\n",
    "          <td><strong>Test-set</strong></td>\n",
    "          <td>Variance: Unreliable estimate of future performance</td>\n",
    "          <td>Cheap</td>\n",
    "        </tr>\n",
    "        <tr> \n",
    "          <td><strong>Leave-one-out </strong></td>\n",
    "          <td>Expensive and has some weird behavior</td>\n",
    "          <td>Doesn't waste data</td>\n",
    "        </tr>\n",
    "        <tr> \n",
    "          <td><strong>10-fold</strong></td>\n",
    "          <td>Waster 10% of data and 10 times more expensive</td>\n",
    "          <td>Only wastes 10%. Only 10 times more expensive instead of R times</td>\n",
    "        </tr>\n",
    "        </table>\"\"\")"
   ]
  },
  {
   "cell_type": "markdown",
   "metadata": {},
   "source": [
    "## Model Selection methods\n",
    "* Cross Validation\n",
    "* Akaike Information Criterion (AIC)\n",
    "* Bayesian Information Criterion (BIC)\n",
    "* Vapnik-Chervonenkis Dimension (VC-dimension)"
   ]
  },
  {
   "cell_type": "markdown",
   "metadata": {
    "collapsed": true
   },
   "source": [
    "**The standard value for k in k-fold cross-validation is 10**, which is typically a reasonable choice for most applications. A special case is **leave-one-out (LOO)** where k=n. This is a recommended approach for working with **very small datasets**."
   ]
  },
  {
   "cell_type": "code",
   "execution_count": null,
   "metadata": {
    "collapsed": true
   },
   "outputs": [],
   "source": []
  }
 ],
 "metadata": {
  "kernelspec": {
   "display_name": "Python 2",
   "language": "python",
   "name": "python2"
  },
  "language_info": {
   "codemirror_mode": {
    "name": "ipython",
    "version": 2
   },
   "file_extension": ".py",
   "mimetype": "text/x-python",
   "name": "python",
   "nbconvert_exporter": "python",
   "pygments_lexer": "ipython2",
   "version": "2.7.10"
  }
 },
 "nbformat": 4,
 "nbformat_minor": 0
}
