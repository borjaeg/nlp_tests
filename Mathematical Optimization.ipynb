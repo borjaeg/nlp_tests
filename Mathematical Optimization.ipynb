{
 "cells": [
  {
   "cell_type": "markdown",
   "metadata": {},
   "source": [
    "# Mathematical Optimization\n",
    "\n",
    "Mathematical Optimization deals with the problem of finding numerically minimums (or maximums or zeros) of a function. In this context, the function is called **cost function**, **objective function** or **energy**.\n",
    "\n",
    "### Dimensionality of the problem\n",
    "\n",
    "The scale of an optimization problem is set by the dimensionality of the problem, i.e. the number of scalar variables on which the search is performed. **Optimizing smooth function is easier**\n",
    "\n",
    "Types of problems\n",
    "* Convex vs non-convex\n",
    "* Smooth vs non-smooth\n",
    "* Noisy vs non-noisy\n",
    "* Optimization under constraints or without them."
   ]
  },
  {
   "cell_type": "markdown",
   "metadata": {},
   "source": [
    "#### Brent’s method \n",
    "**On a quadratic function ** it converges in 3 iterations, as the quadratic approximation is then exact. Brent’s method on a **non-convex function**,  the fact that the optimizer avoided the local minimum is a matter of luck."
   ]
  },
  {
   "cell_type": "code",
   "execution_count": 1,
   "metadata": {
    "collapsed": true
   },
   "outputs": [],
   "source": [
    "%matplotlib inline\n",
    "import numpy as np\n",
    "import matplotlib.pyplot as plt\n",
    "import scipy"
   ]
  },
  {
   "cell_type": "code",
   "execution_count": 11,
   "metadata": {
    "collapsed": false
   },
   "outputs": [],
   "source": [
    "from scipy import optimize\n",
    "\n",
    "def f_cuadratic(x):\n",
    "    return -np.exp(-(x - .7)**2)"
   ]
  },
  {
   "cell_type": "code",
   "execution_count": 12,
   "metadata": {
    "collapsed": false
   },
   "outputs": [
    {
     "data": {
      "text/plain": [
       "[<matplotlib.lines.Line2D at 0x10767f090>]"
      ]
     },
     "execution_count": 12,
     "metadata": {},
     "output_type": "execute_result"
    },
    {
     "data": {
      "image/png": "[encoded data removed]",
      "text/plain": [
       "<matplotlib.figure.Figure at 0x107612250>"
      ]
     },
     "metadata": {},
     "output_type": "display_data"
    }
   ],
   "source": [
    "x = np.arange(-5,10)\n",
    "plt.plot(x, f_cuadratic(x))"
   ]
  },
  {
   "cell_type": "code",
   "execution_count": 8,
   "metadata": {
    "collapsed": false
   },
   "outputs": [
    {
     "name": "stdout",
     "output_type": "stream",
     "text": [
      "0.699999999784\n",
      "-2.16059059532e-10\n"
     ]
    }
   ],
   "source": [
    "x_min = optimize.brent(f)\n",
    "print x_min\n",
    "print x_min - .7"
   ]
  },
  {
   "cell_type": "markdown",
   "metadata": {},
   "source": [
    "## Gradient based methods\n",
    "\n",
    "At a theoretical level, gradient descent is an algorithm that minimizes functions. Given a function defined by a ser of parameters, gradient descent starts with an initial set of parameters values and iteratively moves toward a set of parameters values that minimize the function.Gradient descent basically consists in taking small steps in the direction of the gradient, that is the direction of the steepest descent; taking steps in the negative direction of the function gradient. The core problem of gradient-methods on ill-conditioned problems is that the gradient tends no to point in the direction of the minimum."
   ]
  },
  {
   "cell_type": "code",
   "execution_count": 7,
   "metadata": {
    "collapsed": false
   },
   "outputs": [
    {
     "data": {
      "text/html": [
       "\n",
       "        <iframe\n",
       "            width=\"800\"\n",
       "            height=\"400\"\n",
       "            src=\"https://en.wikipedia.org/wiki/Preconditioner\"\n",
       "            frameborder=\"0\"\n",
       "            allowfullscreen\n",
       "        ></iframe>\n",
       "        "
      ],
      "text/plain": [
       "<IPython.lib.display.IFrame at 0x107612450>"
      ]
     },
     "execution_count": 7,
     "metadata": {},
     "output_type": "execute_result"
    }
   ],
   "source": [
    "from IPython.display import IFrame\n",
    "IFrame('https://en.wikipedia.org/wiki/Preconditioner', width=800, height=400)"
   ]
  },
  {
   "cell_type": "markdown",
   "metadata": {},
   "source": [
    "## Conjugate gradient descent\n",
    "\n",
    "Some gradient descent algorithms are toys not to be used on real problems. One of the problems of the simple gradient descent algorithms, is that they tend to oscilate across a valley, each time following the direciton of the fradient, that makes it cross the valley. The conjugate gradient solves this problem by adding a friction term: each step depends on the two last values on the gradiend and shart turns to be reduced. To run gradient descent on an error function, we first need to compute its gradient. The gradient will act like a compass and always point us downhill\n",
    "\n",
    "These methods need the gradient of the function. They can compute it, but will perform better if you can pass them the gradient"
   ]
  },
  {
   "cell_type": "code",
   "execution_count": 13,
   "metadata": {
    "collapsed": true
   },
   "outputs": [],
   "source": [
    "def f(x):\n",
    "    return .5*(1 - x[0])**2 + (x[1] - x[0]**2) ** 2"
   ]
  },
  {
   "cell_type": "code",
   "execution_count": 15,
   "metadata": {
    "collapsed": false
   },
   "outputs": [
    {
     "name": "stdout",
     "output_type": "stream",
     "text": [
      "Optimization terminated successfully.\n",
      "         Current function value: 0.000000\n",
      "         Iterations: 13\n",
      "         Function evaluations: 120\n",
      "         Gradient evaluations: 30\n"
     ]
    },
    {
     "data": {
      "text/plain": [
       "array([ 0.99998968,  0.99997855])"
      ]
     },
     "execution_count": 15,
     "metadata": {},
     "output_type": "execute_result"
    }
   ],
   "source": [
    "optimize.fmin_cg(f, [2,2])"
   ]
  },
  {
   "cell_type": "code",
   "execution_count": 18,
   "metadata": {
    "collapsed": true
   },
   "outputs": [],
   "source": [
    "def fprime(x): # The rosenbrock function\n",
    "    return np.array((-2*.5*(1 - x[0]) - 4*x[0]*(x[1] - x[0]**2), 2*(x[1] - x[0]**2)))"
   ]
  },
  {
   "cell_type": "code",
   "execution_count": 19,
   "metadata": {
    "collapsed": false
   },
   "outputs": [
    {
     "name": "stdout",
     "output_type": "stream",
     "text": [
      "Optimization terminated successfully.\n",
      "         Current function value: 0.000000\n",
      "         Iterations: 13\n",
      "         Function evaluations: 30\n",
      "         Gradient evaluations: 30\n"
     ]
    },
    {
     "data": {
      "text/plain": [
       "array([ 0.99999199,  0.99998336])"
      ]
     },
     "execution_count": 19,
     "metadata": {},
     "output_type": "execute_result"
    }
   ],
   "source": [
    "# Only 30 evaluations, compared with 120 without gradient\n",
    "optimize.fmin_cg(f, [2,2], fprime=fprime)"
   ]
  },
  {
   "cell_type": "code",
   "execution_count": 20,
   "metadata": {
    "collapsed": true
   },
   "outputs": [],
   "source": [
    "def compute_error(b,m, points):\n",
    "    total_error = 0\n",
    "    for i in range(0, len(points)):\n",
    "        totalError += (points[i].y - (m * points[i].x + b)**2)\n",
    "    return total_error / float(len(points))"
   ]
  },
  {
   "cell_type": "code",
   "execution_count": null,
   "metadata": {
    "collapsed": true
   },
   "outputs": [],
   "source": []
  }
 ],
 "metadata": {
  "kernelspec": {
   "display_name": "Python 2",
   "language": "python",
   "name": "python2"
  },
  "language_info": {
   "codemirror_mode": {
    "name": "ipython",
    "version": 2
   },
   "file_extension": ".py",
   "mimetype": "text/x-python",
   "name": "python",
   "nbconvert_exporter": "python",
   "pygments_lexer": "ipython2",
   "version": "2.7.10"
  }
 },
 "nbformat": 4,
 "nbformat_minor": 0
}
