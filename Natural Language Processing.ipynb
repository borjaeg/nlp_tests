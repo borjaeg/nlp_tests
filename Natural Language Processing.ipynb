{
 "cells": [
  {
   "cell_type": "markdown",
   "metadata": {},
   "source": [
    "# Natural Language Processing\n",
    "\n",
    "NLP is a field of computer science and engineering that has developed from the study of language and compuational linguistics within the field of Artificial Intelligence. The goal of NLP are to design and build applications that facilitate human interaction with machines and other devices through natural language."
   ]
  },
  {
   "cell_type": "markdown",
   "metadata": {},
   "source": [
    "## Feature Subset Selection\n",
    "\n",
    "Using each word as a feature results in tens of thousands of featuers. Many of them are **irrelevant** and **redundant**. Remove them can **increase efficiency** and reduce **overfitting**. Features Subset Selection techniques try to determine appropriate features automatically. \n",
    "\n",
    "### Unsupervised FSS\n",
    "\n",
    "Using **domain knowledge** some features may be known to be irrelevant, uninteresting or redundant. **Random sampling** may be appropriate in the case of many weakly relevant features and in connection with **ensemble methods**. **Frequency-based selection**, select features based on statistical properties: \n",
    "   * Fixed number: keep the n most frequent words.\n",
    "   * Thresholding: keep all words that occur at least k times.\n",
    "   \n",
    "### Supervised FSS\n",
    "\n",
    "**Filter approaches**\n",
    "* Compute some measure for estimating the **ability to discriminate** between classes. Typically **measure feature weight and select the best n features**. Problems:\n",
    "* **Redundant features**: Correlated features will all have similar weights.\n",
    "* **Dependant features**: Some features may be only imporant in combination.\n",
    "\n",
    "**Wrapper approaches**: Search through the space of all possible feature subsets. Then, each subset is tried with the learning algorithm. The disadvantage is that it can take a lot of time to find the best feature subset."
   ]
  },
  {
   "cell_type": "markdown",
   "metadata": {
    "collapsed": true
   },
   "source": [
    "## Stop Words\n",
    "\n",
    "The assumption is that these words occur in all the documents and are irrelevant for retrieval. The problems are:\n",
    "* May have different meaning\n",
    "* May be imprtant in some phrases\n",
    "* Polysemous words"
   ]
  },
  {
   "cell_type": "code",
   "execution_count": null,
   "metadata": {
    "collapsed": true
   },
   "outputs": [],
   "source": []
  }
 ],
 "metadata": {
  "kernelspec": {
   "display_name": "Python 2",
   "language": "python",
   "name": "python2"
  },
  "language_info": {
   "codemirror_mode": {
    "name": "ipython",
    "version": 2
   },
   "file_extension": ".py",
   "mimetype": "text/x-python",
   "name": "python",
   "nbconvert_exporter": "python",
   "pygments_lexer": "ipython2",
   "version": "2.7.10"
  }
 },
 "nbformat": 4,
 "nbformat_minor": 0
}
