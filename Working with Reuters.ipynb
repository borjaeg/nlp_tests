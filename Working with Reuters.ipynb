{
 "cells": [
  {
   "cell_type": "markdown",
   "metadata": {},
   "source": [
    "Source: https://miguelmalvarez.com/2015/03/20/classifying-reuters-21578-collection-with-python-representing-the-data/"
   ]
  },
  {
   "cell_type": "code",
   "execution_count": 1,
   "metadata": {
    "collapsed": true
   },
   "outputs": [],
   "source": [
    "from nltk.corpus import reuters"
   ]
  },
  {
   "cell_type": "markdown",
   "metadata": {},
   "source": [
    "### Corpus stats"
   ]
  },
  {
   "cell_type": "code",
   "execution_count": 2,
   "metadata": {
    "collapsed": true
   },
   "outputs": [],
   "source": [
    "def collection_stats():\n",
    "    documents = reuters.fileids()\n",
    "    print(str(len(documents)) + \" documents\")\n",
    "    \n",
    "    train_docs = list(filter(lambda doc: doc.startswith(\"train\"),\n",
    "                            documents))\n",
    "    print(str(len(train_docs)) + \" total train documents\")\n",
    "    \n",
    "    test_docs = list(filter(lambda doc: doc.startswith(\"test\"),\n",
    "                           documents))\n",
    "    \n",
    "    print(str(len(test_docs)) + \" total test documents\")\n",
    "    \n",
    "    # List of categories\n",
    "    categories = reuters.categories()\n",
    "    print(str(len(categories)) + \" categories\")\n",
    "    \n",
    "    # Documents in a category\n",
    "    category_docs = reuters.fileids(\"acq\")\n",
    "    \n",
    "    # Words for document\n",
    "    document_id = category_docs[0]\n",
    "    document_words = reuters.words(category_docs[0])\n",
    "    print(document_words)\n",
    "    \n",
    "    # Raw document\n",
    "    print(reuters.raw(document_id))"
   ]
  },
  {
   "cell_type": "code",
   "execution_count": 3,
   "metadata": {
    "collapsed": false
   },
   "outputs": [
    {
     "name": "stdout",
     "output_type": "stream",
     "text": [
      "10788 documents\n",
      "7769 total train documents\n",
      "3019 total test documents\n",
      "90 categories\n",
      "['SUMITOMO', 'BANK', 'AIMS', 'AT', 'QUICK', 'RECOVERY', ...]\n",
      "SUMITOMO BANK AIMS AT QUICK RECOVERY FROM MERGER\n",
      "  Sumitomo Bank Ltd &lt;SUMI.T> is certain to\n",
      "  lose its status as Japan's most profitable bank as a result of\n",
      "  its merger with the Heiwa Sogo Bank, financial analysts said.\n",
      "      Osaka-based Sumitomo, with desposits of around 23.9\n",
      "  trillion yen, merged with Heiwa Sogo, a small, struggling bank\n",
      "  with an estimated 1.29 billion dlrs in unrecoverable loans, in\n",
      "  October.\n",
      "      But despite the link-up, Sumitomo President Koh Komatsu\n",
      "  told Reuters he is confident his bank can quickly regain its\n",
      "  position.\n",
      "      \"We'll be back in position in first place within three\n",
      "  years,\" Komatsu said in an interview.\n",
      "      He said that while the merger will initially reduce\n",
      "  Sumitomo's profitability and efficiency, it will vastly expand\n",
      "  Sumitomo's branch network in the Tokyo metropolitan area where\n",
      "  it has been relatively weak.\n",
      "      But financial analysts are divided on whether and how\n",
      "  quickly the gamble will pay off.\n",
      "      Some said Sumitomo may have paid too much for Heiwa Sogo in\n",
      "  view of the smaller bank's large debts. Others argue the merger\n",
      "  was more cost effective than creating a comparable branch\n",
      "  network from scratch.\n",
      "      The analysts agreed the bank was aggressive. It has\n",
      "  expanded overseas, entered the lucrative securities business\n",
      "  and geared up for domestic competition, but they questioned the\n",
      "  wisdom of some of those moves.\n",
      "      \"They've made bold moves to put everything in place. Now\n",
      "  it's largely out of their hands,\" said Kleinwort Benson Ltd\n",
      "  financial analyst Simon Smithson.\n",
      "      Among Sumitomo's problems are limits placed on its move to\n",
      "  enter U.S. Securities business by taking a share in American\n",
      "  investment bank Goldman, Sachs and Co.\n",
      "      Sumitomo last August agreed to pay 500 mln dlrs for a 12.5\n",
      "  pct limited partnership in the bank, but for the time being at\n",
      "  least, the Federal Reserve Board has forbidden them to exchange\n",
      "  personnel, or increase the business they do with each other.\n",
      "      \"The tie-up is widely looked on as a lame duck because the\n",
      "  Fed was stricter than Sumitomo expected,\" said one analyst.\n",
      "      But Komatsu said the move will pay off in time.\n",
      "      \"U.S. Regulations will change in the near future and if so,\n",
      "  we can do various things. We only have to wait two or three\n",
      "  years, not until the 21st century,\" Komatsu said.\n",
      "      Komatsu is also willing to be patient about possible routes\n",
      "  into the securities business at home.\n",
      "      Article 65 of the Securities and Exchange Act, Japan's\n",
      "  version of the U.S. Glass-Steagall Act, separates commercial\n",
      "  from investment banking.\n",
      "      But the walls between the two are crumbling and Komatsu\n",
      "  said he hopes further deregulation will create new\n",
      "  opportunities.\n",
      "      \"We need to find new business chances,\" Komatsu said. \"In some\n",
      "  cases these will be securities related, in some cases trust\n",
      "  bank related. That's the kind of deregulation we want.\"\n",
      "      Until such changes occur, Sumitomo will focus on such\n",
      "  domestic securities business as profitable government bond\n",
      "  dealing and strengthening relations with Meiko Securities Co\n",
      "  Ltd, in which it holds a five pct share, Komatsu said.\n",
      "      He said Sumitomo is cautiously optimistic about entering\n",
      "  the securities business here through its Swiss universal bank\n",
      "  subsidiary, Banca del Gottardo.\n",
      "       The Finance Ministry is expected to grant licences to\n",
      "  securities subsidiaries of U.S. Commercial banks soon,\n",
      "  following a similar decision for subsidiaries of European\n",
      "  universal banks in which the parent holds a less than 50 pct.\n",
      "      But Komatsu is reluctant to push hard for a similar\n",
      "  decision on a Gottardo subsidiary.\n",
      "      \"We don't want to make waves. We expect this will be allowed\n",
      "  in two or three years,\" he said.\n",
      "      Like other city banks, Sumitomo is also pushing to expand\n",
      "  lending to individuals and small and medium businesses to\n",
      "  replace disappearing demand from big business, he added.\n",
      "      The analysts said Sumitomo will have to devote a lot of\n",
      "  time to digesting its most recent initiatives, including the\n",
      "  merger with ailing Heiwa Sogo.\n",
      "      \"It's (Sumitomo) been bold in its strategies,\" said\n",
      "  Kleinwort's Smithson.\n",
      "      \"After that, it's a question of absorbing and juggling\n",
      "  around. It will be the next decade before we see if the\n",
      "  strategy is right or wrong.\"\n",
      "  \n",
      "\n",
      "\n"
     ]
    }
   ],
   "source": [
    "collection_stats()"
   ]
  },
  {
   "cell_type": "markdown",
   "metadata": {},
   "source": [
    "### Document Representation and weighting"
   ]
  },
  {
   "cell_type": "code",
   "execution_count": 3,
   "metadata": {
    "collapsed": false
   },
   "outputs": [],
   "source": [
    "from nltk import word_tokenize\n",
    "from nltk.stem.porter import PorterStemmer\n",
    "import re\n",
    "from nltk.corpus import stopwords\n",
    "\n",
    "cached_stop_words = stopwords.words(\"english\")\n",
    "\n",
    "def tokenize(text):\n",
    "    min_length = 3\n",
    "    words = map(lambda word: word.lower(), word_tokenize(text))\n",
    "    words = [word for word in words\n",
    "                if word not in cached_stop_words]\n",
    "    \n",
    "    tokens = (list(map(lambda token: PorterStemmer().stem(token),\n",
    "                      words)))\n",
    "    \n",
    "    p = re.compile('[a-zA-Z]+')\n",
    "    filtered_tokens = \\\n",
    "        list(filter(lambda token:\n",
    "                    p.match(token) and len(token) >= min_length,\n",
    "                   tokens))\n",
    "        \n",
    "    return filtered_tokens"
   ]
  },
  {
   "cell_type": "code",
   "execution_count": 4,
   "metadata": {
    "collapsed": true
   },
   "outputs": [],
   "source": [
    "from sklearn.feature_extraction.text import TfidfVectorizer\n",
    "# Return the representer, without transforming\n",
    "def tf_idf(docs):\n",
    "    tfidf = TfidfVectorizer(tokenizer=tokenize, min_df=3,\n",
    "                        max_df=0.90, max_features=3000,\n",
    "                        use_idf=True, sublinear_tf=True,\n",
    "                        norm='l2');\n",
    "    tfidf.fit(docs);\n",
    "    return tfidf;"
   ]
  },
  {
   "cell_type": "code",
   "execution_count": 5,
   "metadata": {
    "collapsed": true
   },
   "outputs": [],
   "source": [
    "def feature_values(doc, representer):\n",
    "    doc_representation = representer.transform([doc])\n",
    "    features = representer.get_feature_names()\n",
    "    return [(features[index], doc_representation[0, index])\n",
    "                 for index in doc_representation.nonzero()[1]]"
   ]
  },
  {
   "cell_type": "code",
   "execution_count": 12,
   "metadata": {
    "collapsed": true
   },
   "outputs": [],
   "source": [
    "def main():\n",
    "    train_docs = []\n",
    "    test_docs = []\n",
    "    \n",
    "    counter = 1\n",
    " \n",
    "    for doc_id in reuters.fileids():\n",
    "        if counter < 10000:\n",
    "            if doc_id.startswith(\"train\"):\n",
    "                train_docs.append(reuters.raw(doc_id))\n",
    "            else:\n",
    "                test_docs.append(reuters.raw(doc_id))\n",
    "        \n",
    "        counter += 1\n",
    " \n",
    "    representer = tf_idf(train_docs);\n",
    " \n",
    "    for doc in test_docs[:10]:\n",
    "        print(feature_values(doc, representer))"
   ]
  },
  {
   "cell_type": "code",
   "execution_count": 13,
   "metadata": {
    "collapsed": false
   },
   "outputs": [
    {
     "name": "stdout",
     "output_type": "stream",
     "text": [
      "[('yesterday', 0.040544656930968107), ('year', 0.048523977933166748), ('yasuhiro', 0.067677005702934515), ('would', 0.063720846991738384), ('worri', 0.063676410398477407), ('world', 0.064802340038079623), ('work', 0.042251959993935766), ('whose', 0.060401706079358616), ('whole', 0.058408677009734268), ('week', 0.033259273803961341), ('washington', 0.051091509389807686), ('warn', 0.055555651985466276), ('want', 0.044303460144781197), ('virtual', 0.064539276657100852), ('view', 0.087341627355791221), ('u.s.-japan', 0.077027298729502522), ('u.s.', 0.10370715732580421), ('two', 0.048678979437021874), ('trade', 0.11365328894735791), ('tough', 0.06515792089182873), ('tom', 0.072231144513242668), ('told', 0.032582334376736896), ('tokyo', 0.09012440517761601), ('time', 0.036985316655361034), ('threat', 0.060603782081520584), ('third', 0.045165111364450818), ('textil', 0.062382972029937769), ('tax', 0.037396844381703584), ('tariff', 0.13460882572566393), ('talk', 0.04043095653861177), ('taiwan', 0.13410415059670239), ('surplu', 0.096967134113465053), ('subject', 0.044898891797333591), ('stock', 0.029902014510024912), ('stimul', 0.05891478922580573), ('stick', 0.067276777753510583), ('spokesman', 0.038504710515974878), ('spend', 0.08762959615957798), ('south', 0.09584779009621508), ('sourc', 0.040374577916519098), ('solv', 0.063956003357758168), ('smith', 0.063676410398477407), ('similar', 0.05265115775880274), ('signific', 0.051253489054952577), ('short-term', 0.11738795201946713), ('share', 0.025937147485923816), ('serv', 0.058743280908932417), ('serious', 0.064539276657100852), ('seriou', 0.096072600861355384), ('sentiment', 0.064843911358130654), ('senior', 0.082841552153101614), ('semiconductor', 0.11907951245282104), ('sell', 0.060685487156025515), ('sale', 0.028687792282651031), ('said', 0.055257015330928944), ('rule', 0.046406439448192602), ('row', 0.059818432780015925), ('reuter', 0.040775930391222889), ('retali', 0.097298485675281599), ('restrain', 0.069456195651351707), ('reserv', 0.038669873734156777), ('repres', 0.043060312232835851), ('remov', 0.058743280908932417), ('remain', 0.038047032705357114), ('relat', 0.047363813371290843), ('reform', 0.058574607570447017), ('record', 0.031501944053463543), ('rais', 0.037738449656573782), ('quickli', 0.060203554132096646), ('put', 0.04534652955849653), ('purpos', 0.056331050525927212), ('public', 0.043624240493888862), ('protectionist', 0.060401706079358616), ('propos', 0.037630464472791211), ('promot', 0.059818432780015925), ('program', 0.044098954209367665), ('product', 0.065428913539682207), ('produc', 0.062250006247362481), ('problem', 0.045671985537188077), ('prime', 0.049058383983166275), ('prevent', 0.054951658872625916), ('pressur', 0.080383774126602123), ('possibl', 0.041985160361752344), ('place', 0.047878435251211993), ('pct', 0.037545954003387651), ('paul', 0.058743280908932417), ('partner', 0.049058383983166275), ('parti', 0.054271106431992032), ('pact', 0.048992759932940472), ('packag', 0.054719728329006991), ('outlin', 0.063956003357758168), ('outcom', 0.068093573935500418), ('open', 0.04178954086384986), ('one', 0.02798792868058184), ('offici', 0.079067629099013312), ('offic', 0.075509003183665782), ('newspap', 0.055188983630532845), ('new', 0.029574887272256108), ('nation', 0.034716317242435936), ('name', 0.04525541730462216), ('nakason', 0.066891656401429855), (\"n't\", 0.047819956554544012), ('must', 0.047419728605120073), ('much', 0.043938250027586945), ('move', 0.040659638481464144), ('mount', 0.066891656401429855), ('month', 0.030895784091586942), ('mln', 0.018547844745422978), ('miti', 0.071612500278514776), ('minist', 0.083638024481671056), ('mill', 0.05580762786526073), ('might', 0.10921332366467219), ('michael', 0.060603782081520584), ('meet', 0.035314798450169715), ('measur', 0.094133651591354006), ('meanwhil', 0.065816504530346348), ('mean', 0.04939298788236441), ('matter', 0.058408677009734268), ('market', 0.059394247686788637), ('manufactur', 0.045165111364450818), ('mani', 0.046457334838692722), ('malaysia', 0.063139207175768333), ('major', 0.060993476207235747), ('ltd', 0.035314798450169715), ('loss', 0.029574887272256108), ('liber', 0.069456195651351707), ('lead', 0.093149894970042404), ('lawrenc', 0.074350001374924507), ('last', 0.064835254747412405), ('largest', 0.077170150680466759), ('larg', 0.043207672261322959), ('korea', 0.12292539125125221), ('kong', 0.1431995600655796), ('kind', 0.063676410398477407), ('john', 0.055555651985466276), ('japanes', 0.1061186725144574), ('japan', 0.13467810207338543), ('jame', 0.053841379584267247), ('intern', 0.033471433309554176), ('interest', 0.034014432241308519), ('industri', 0.073966085809395662), ('includ', 0.029643406985325995), ('impos', 0.055188983630532845), ('import', 0.10140142900491329), ('impact', 0.050243855897816408), ('hurt', 0.058743280908932417), ('hong', 0.1431995600655796), ('hit', 0.050097025959698074), ('help', 0.0411027401295367), ('halt', 0.058743280908932417), ('half', 0.043244847182734136), ('group', 0.032184121932877827), ('govern', 0.034445455784194182), ('good', 0.069747025794262243), ('gain', 0.036589743691789148), ('friday', 0.049058383983166275), ('friction', 0.071029226979172105), ('foreign', 0.036551016872474938), ('fiscal', 0.044512148494261349), ('first', 0.033078903968297511), ('firm', 0.065922585081174712), ('financi', 0.038319168956493364), ('feder', 0.03886196419942186), ('fear', 0.096310918133003645), ('failur', 0.057770687736716723), ('extend', 0.049668802095206258), ('export', 0.11268017262938845), ('expand', 0.050024395726813477), ('exchang', 0.033717336886496606), ('estim', 0.036924994284776393), ('end', 0.02992218152180955), ('emerg', 0.053841379584267247), ('electron', 0.12655158286082249), ('electr', 0.05506963133847971), ('effort', 0.048420394710148716), ('economi', 0.075726335964516972), ('econom', 0.066425855465512898), ('due', 0.037292396134706716), ('domest', 0.041534414959445827), ('dlr', 0.054251544810564836), ('disput', 0.088371243417881426), ('diplomat', 0.062628875606880199), ('deterior', 0.065481900631148199), ('despit', 0.048607638580859758), ('deputi', 0.10065306053344414), ('democrat', 0.064539276657100852), ('day', 0.038693688224875754), ('damag', 0.088220345268644168), ('cut', 0.038204895593887761), ('curb', 0.099461020447799794), ('countri', 0.075067284547013405), ('could', 0.035061152301995767), ('cost', 0.03898388326785486), ('correspond', 0.066520542607680019), ('continu', 0.035314798450169715), ('conflict', 0.065481900631148199), ('concern', 0.07670104326931014), ('complet', 0.03878950587386016), ('commerci', 0.048607638580859758), ('coal', 0.059818432780015925), ('chief', 0.048115760009118928), ('chairman', 0.039774139760914387), ('centr', 0.063676410398477407), ('capit', 0.039907533877945281), ('capel', 0.072889728151760272), ('call', 0.041316295105597457), ('businessmen', 0.15873759572334226), ('busi', 0.037651970286107624), ('budget', 0.048482428364052338), ('broker', 0.059631188909304883), ('boost', 0.079728171910074266), ('block', 0.056742025716620188), ('billion', 0.077122966718541866), ('biggest', 0.0592667035695989), ('beyond', 0.065481900631148199), ('beef', 0.062382972029937769), ('barrier', 0.061235189925969644), ('awar', 0.06616245307178209), ('await', 0.068093573935500418), ('australian', 0.054271106431992032), ('australia', 0.090984171017740492), ('associ', 0.040952891553726868), ('ask', 0.042700961558131197), ('asian', 0.10979028569249794), ('asia', 0.064539276657100852), ('april', 0.030323620760289653), ('analyst', 0.042595578473792327), ('among', 0.080193907070168546), ('american', 0.040234979232730804), ('also', 0.067027743786349153), ('allow', 0.073927830001230849), ('alleg', 0.1029601796498075), ('advantag', 0.061678933952604098), ('action', 0.044139528833963833), ('account', 0.040516112843428667), ('abl', 0.05342902026272893)]\n",
      "[('year', 0.049939854220196638), ('wast', 0.27094230334300984), ('veget', 0.14150353569448743), ('tonn', 0.15150844584933668), ('technolog', 0.12587466386089202), ('survey', 0.14834198782470961), ('storag', 0.25742942491243725), ('stock', 0.12433976675517688), ('show', 0.099434579458451466), ('seven', 0.17668892909158224), ('say', 0.082203289853401265), ('said', 0.075490979649966941), ('reduc', 0.09647500620239613), ('provinc', 0.16081855855863231), ('programm', 0.16248994349815621), ('product', 0.076568896106733009), ('preserv', 0.28881556338271624), ('pct', 0.12995929170340165), ('paper', 0.22521848001419473), ('output', 0.11070223315177669), ('nation', 0.085260629938664692), ('mln', 0.077126398580401351), ('method', 0.15147876216306078), ('left', 0.13644044821505733), ('launch', 0.13935409170306023), ('inadequ', 0.16829923637306099), ('improv', 0.10444042633565312), ('greater', 0.13301766237457993), ('grain', 0.1885617742098907), ('govern', 0.084595414835503688), ('gave', 0.1239459058160632), ('fruit', 0.17057912430696145), ('detail', 0.11359939128445058), ('daili', 0.21380874680171427), ('consum', 0.11005405514662749), ('citi', 0.13249003265749273), ('china', 0.30911631146446178), ('call', 0.10146967268547274), ('blame', 0.1633693841137), ('bad', 0.15261811680851656), ('also', 0.068983539601995561), ('addit', 0.10043147452798148)]\n",
      "[('yen', 0.095023566655869307), ('year', 0.069557008999436232), ('work', 0.08536123019429348), ('valu', 0.081796808328426951), ('trade', 0.060863419864872939), ('suppli', 0.17478272410049359), ('structur', 0.11579714691597424), ('sourc', 0.081568373160063448), ('said', 0.07061318185624274), ('rise', 0.069526390400036733), ('revis', 0.19485918900808602), ('review', 0.097948585782912753), ('resourc', 0.093857308724806909), ('provid', 0.083161823187996878), ('project', 0.094064507082084067), ('primari', 0.11902498453738193), ('power', 0.17237618336944588), ('plan', 0.06782513177562699), ('pct', 0.094018744848614486), ('outlook', 0.18678697041770137), ('oil', 0.11687087940517901), ('offici', 0.1133400026761828), ('nuclear', 0.23149928433349462), ('note', 0.057652774738910839), ('natur', 0.2099974504027626), ('mln', 0.063445667252799362), ('miti', 0.34524441153028324), ('ministri', 0.15688030144744183), ('meet', 0.12079953128365734), ('march', 0.059340063571500463), ('lower', 0.076067915034531516), ('long-term', 0.18310925320606564), ('japanes', 0.15211649525648493), ('japan', 0.1321947949705532), ('intern', 0.067622016211315944), ('industri', 0.10602716255834067), ('includ', 0.059888291283545579), ('forecast', 0.085567049504577594), ('follow', 0.16752522587918783), ('fiscal', 0.089927467379183307), ('expect', 0.059967813322413618), ('estim', 0.074599212380163094), ('energi', 0.28808287760719159), ('end', 0.060451496810212162), ('emerg', 0.10877522361875303), ('electr', 0.18837388136417882), ('downward', 0.12162866393705984), ('domest', 0.083911580831928789), ('demand', 0.17957206159537906), ('declin', 0.075808590067903608), ('decis', 0.091065798195771111), ('committe', 0.093348244267640171), ('coal', 0.12085060695716072), ('chang', 0.077696345099726893), ('bulk', 0.12327882944234438), ('breakdown', 0.13756879539540043), ('basi', 0.094168892434283932), ('august', 0.10714141357883639), ('also', 0.056747193957798592), ('agenc', 0.095464568776488831)]\n",
      "[('year', 0.074250723264735405), ('widen', 0.22778984982402981), ('whose', 0.13026351736066427), ('trade', 0.11000460166379784), ('tin', 0.14685195214258961), ('thailand', 0.2335337340647605), ('thai', 0.14979060916174075), ('sugar', 0.10916906351949675), ('smaller', 0.12743300423043352), ('seven', 0.091637521229050098), ('said', 0.066290877467727993), ('rubber', 0.13114392424518326), ('rose', 0.079120361864840394), ('rice', 0.13301801232511851), ('result', 0.074083231132053826), ('regist', 0.12091301216690589), ('raw', 0.12983617894097965), ('quarter', 0.18548452916781275), ('product', 0.11384286166394265), ('price', 0.062955904068320204), ('pct', 0.15794142184826315), ('oil', 0.12475733860969419), ('materi', 0.11458192458608844), ('mani', 0.10019080976519502), ('maiz', 0.12860180474900207), ('lower', 0.13748522037288133), ('key', 0.11035893367788463), ('increas', 0.066582618931751061), ('includ', 0.063929559462921268), ('improv', 0.091712248761327123), ('import', 0.1643886709028626), ('howev', 0.088001328746577387), ('high', 0.091787230902383082), ('growth', 0.1481523131192522), ('first', 0.17023494758420543), ('fell', 0.08572061115626603), ('export', 0.15008708440984661), ('expect', 0.06401444765731569), ('expand', 0.10788360402692952), ('econom', 0.084608898184911074), ('earn', 0.1371720967532139), ('due', 0.13617224442314771), ('depart', 0.14371705183922034), ('deficit', 0.16315602740324292), ('declin', 0.08092416167962746), ('countri', 0.077142212327983309), ('commod', 0.10496446562290289), ('cloth', 0.15871377593581451), ('climat', 0.14876683214729064), ('busi', 0.13748522037288133), ('billion', 0.17794605012777559), ('bill', 0.097598730571938741), ('baht', 0.38063130145879942), ('ago', 0.095017521834379046)]\n",
      "[('year', 0.042472819524156928), ('would', 0.05577457062432347), ('world', 0.079941940787398663), ('tree', 0.15224570204352114), ('trader', 0.096200064813671299), ('tonn', 0.15971222687191203), ('told', 0.068055136123913035), ('temporari', 0.11578143868248088), ('suppli', 0.086105560372535236), ('sometim', 0.14720724576904168), ('shortag', 0.10828213728610651), ('sharpli', 0.17590165146277859), ('share', 0.05417524976604618), ('see', 0.078465036473476135), ('second', 0.090560717182987985), ('said', 0.064203526510859421), ('rotterdam', 0.14507403904972349), ('rise', 0.12170524633139455), ('report', 0.063535606060722088), ('recent', 0.081070463057735562), ('purchas', 0.076793311947031373), ('produc', 0.076793311947031373), ('price', 0.12795987056673808), ('possibl', 0.087694938323493163), ('palm', 0.31341598271927773), ('output', 0.094149973863460759), ('oil', 0.17029446024979245), ('month', 0.064532417097444075), ('minist', 0.083243487234185176), ('market', 0.10008882632113247), ('malaysian', 0.23275993965274347), ('malaysia', 0.22329168279026151), ('make', 0.073267587475685153), ('maintain', 0.10479108632889177), ('lose', 0.12379111737078057), ('largest', 0.095199210593743311), ('intern', 0.069912208370513859), ('indonesian', 0.22519150093756785), ('indonesia', 0.29721874355803257), ('increas', 0.064486081690926858), ('import', 0.1284515945838387), ('forc', 0.097575656833876534), ('fob', 0.13894230320815962), ('figur', 0.082262093900948671), ('fast', 0.13677287850458925), ('fall', 0.077167621093297029), ('export', 0.14536117895763681), ('expect', 0.061998776366255157), ('european', 0.089338057802855947), ('ensur', 0.12979857135232348), ('dlr', 0.068723858311858427), ('despit', 0.10152739279000893), ('demand', 0.088464996014316399), ('deliveri', 0.10705381431941502), ('crude', 0.095794066279165882), ('crop', 0.10062574808367666), ('cover', 0.10206027751067367), ('could', 0.073232674644613194), ('cif', 0.14507403904972349), ('central', 0.085663470597362831), ('calendar', 0.11910989200477633), ('better', 0.17565362154676298), ('bank', 0.062393688973384549), ('around', 0.082476309559392252), ('accord', 0.084097310817114634)]\n",
      "[('yesterday', 0.075266346182019342), ('worker', 0.099950134529605564), ('work', 0.078435751797998179), ('western', 0.094403047024671075), ('went', 0.11367586637462476), ('week', 0.10453811814976219), ('vessel', 0.10812567872200178), ('variou', 0.10612978680793286), ('union', 0.082167579173163113), ('turn', 0.10290285747894024), ('trade', 0.05592548377328406), ('today', 0.10375578538865622), ('time', 0.068658853169572001), ('take', 0.068069126094740348), ('sydney', 0.13661809730610361), ('stop', 0.097396192998611783), ('still', 0.077457808088838509), ('state', 0.065148980027738848), ('start', 0.078063081699141168), ('south', 0.084784623535353154), ('sourc', 0.12690242190378639), ('short', 0.093688114917657606), ('ship', 0.2207846155346665), ('shift', 0.10904993287493436), ('separ', 0.10313247789530751), ('say', 0.062135745555194265), ('said', 0.075908981174095863), ('protest', 0.11176075689601674), ('prevent', 0.10201123632702887), ('port', 0.30485855945399637), ('pay', 0.10856434220244632), ('part', 0.073885240238979757), ('new', 0.054902270045540977), ('nearli', 0.098091443594859273), ('movement', 0.22387767321612076), ('meanwhil', 0.12218053350175943), ('long', 0.085318277202469414), ('lift', 0.10612978680793286), ('law', 0.094257885759505181), ('labour', 0.11139991832112701), ('industri', 0.057540790725381048), ('impos', 0.10245180158860205), ('hit', 0.092999186181107779), ('hear', 0.11212860248130936), ('handl', 0.19607759745560693), ('foreign', 0.067852627139317598), ('end', 0.055546980623766361), ('effect', 0.070629803075550224), ('disrupt', 0.29007646554952127), ('disput', 0.16405073080160706), ('crew', 0.1353111341285845), ('council', 0.091193682325966238), ('could', 0.065086870292072954), ('contain', 0.16761818772098833), ('compens', 0.11176075689601674), ('commiss', 0.074537662021836981), ('claim', 0.10432428295279131), ('chang', 0.071392729767163016), ('carri', 0.097396192998611783), ('cargo', 0.17705564018292619), ('call', 0.076698800921439117), ('began', 0.095298179799988184), ('ban', 0.253843842586575), ('australian', 0.1007478714481749), ('australia', 0.099755841006813575), ('appear', 0.097396192998611783), ('ago', 0.081789453796397085), ('affect', 0.088772076936587188), ('action', 0.13873614040755647)]\n",
      "[('would', 0.063301704287108074), ('worth', 0.06983858417938188), ('world', 0.05358696283064484), ('week', 0.046566749996380635), ('want', 0.062029861646916595), ('visit', 0.082731613188930728), ('valu', 0.056687293024506862), ('use', 0.055213832525268507), ('undermin', 0.10113178262178397), ('two', 0.040254081259913699), ('tri', 0.067621896107621621), ('transact', 0.061297010643453213), ('trader', 0.1091828764806294), ('trade', 0.15349513301588988), ('total', 0.077270683921060512), ('tonn', 0.086374415342478611), ('told', 0.04561895813369423), ('tobacco', 0.10113178262178397), ('telephon', 0.080458982380813684), ('team', 0.094195108067472319), ('taiwan', 0.078683083455174024), ('system', 0.052838103464524784), ('studi', 0.07024392944153271), ('still', 0.058419947931651374), ('state', 0.049136428139762128), ('start', 0.12355885240719149), ('south', 0.063945952184176605), ('sever', 0.059985313755994273), ('second', 0.060704978360573911), ('say', 0.046863797331645085), ('said', 0.067727515347482684), ('rubber', 0.26218612815971937), ('reuter', 0.057090920493030696), ('report', 0.04258941085071944), ('refin', 0.076454178655712288), ('question', 0.072225363095414497), ('prompt', 0.084852158398274272), ('produc', 0.051476362875547743), ('possibl', 0.058783979399177622), ('plu', 0.077439911697521069), ('physic', 0.16142247688285882), ('particip', 0.074251756648219064), ('palm', 0.18476248369927584), ('oversea', 0.078498726546634631), ('open', 0.058510089947864427), ('one', 0.06634812228713019), ('oil', 0.10039062833678503), ('offici', 0.097357649247316866), ('nine', 0.05358696283064484), ('new', 0.041408191588785018), ('need', 0.057422238810200574), ('natur', 0.069347557772724638), ('move', 0.096387649722373306), ('month', 0.073241477940723665), ('monday', 0.075985695302359033), ('mln', 0.043969480034649198), ('ministri', 0.064213015327583348), ('minist', 0.094477726206430357), ('mexico', 0.086043469982195586), ('membership', 0.10303960734326446), ('may', 0.075473513017628974), ('market', 0.039625553377724748), ('make', 0.083155515215979331), ('made', 0.086785599910074521), ('lot', 0.080885505462667248), ('local', 0.072584062993977599), ('like', 0.094541135879175384), ('least', 0.065628772851134873), ('launch', 0.07944526213676209), ('latin', 0.088040313447576263), ('latest', 0.067367513206606), ('later', 0.064213015327583348), ('largest', 0.063814269572972371), ('korea', 0.082011084275214599), ('januari', 0.049492742420991859), ('introduct', 0.087007034730687521), ('introduc', 0.080250402586263606), ('interview', 0.074948844273368564), ('interest', 0.047624057331678363), ('indonesian', 0.1509511586991738), ('indonesia', 0.14136156551758344), ('hope', 0.065929572638732475), ('help', 0.057548491138443562), ('grade', 0.07944526213676209), ('good', 0.057675869059495122), ('futur', 0.057090920493030696), ('four', 0.08687793122942096), ('forward', 0.14225762263471745), ('fob', 0.15769345227046849), ('five', 0.10229279363065523), ('first', 0.046314211799252436), ('feasibl', 0.096581886983504922), ('factor', 0.067968275791517929), ('expand', 0.11858772268935962), ('exchang', 0.16829445078403005), ('europ', 0.074665914984881704), ('encourag', 0.12351847448425154), ('elect', 0.081550158426494782), ('either', 0.078869850326133945), ('effort', 0.067794036288459536), ('dlr', 0.027208041256497034), ('disappoint', 0.090788819587572941), ('direct', 0.072343931926738575), ('develop', 0.054929495535694109), ('deliveri', 0.071760689224066573), ('deliv', 0.088402040671540325), ('deleg', 0.073982173892394823), ('decis', 0.1068561126949247), ('decemb', 0.055430861440216438), ('day', 0.054175545642583416), ('current', 0.046009401045575778), ('crude', 0.064213015327583348), ('contract', 0.063683789559485823), ('contact', 0.090362296505719392), ('consid', 0.12795458806282789), ('confid', 0.076775258733693535), ('commod', 0.14300923442726995), ('coffe', 0.18846760070049332), ('chairman', 0.055688300156060612), ('calendar', 0.13518453081676565), ('build', 0.073329664968547356), ('broker', 0.083490417809297224), ('boost', 0.065929572638732475), ('board', 0.050056955869765989), ('billion', 0.041380899389127181), ('april', 0.071885108803644127), ('amount', 0.058419947931651374), ('american', 0.056333527607478485), ('although', 0.066314702754376925), ('also', 0.066586848990655034), ('alreadi', 0.060599923018303713), ('ahead', 0.073849266309082298)]\n",
      "[('wheat', 0.29671281714741427), ('usda', 0.18738224634834602), ('u.s.', 0.17861671246293082), ('tonn', 0.24054902208328663), ('sri', 0.2869608631675265), ('soft', 0.23962735352595479), ('shipment', 0.18669022949618749), ('sale', 0.1118610183663323), ('said', 0.096699518997200182), ('price', 0.11382679585572451), ('pacif', 0.20316817640732926), ('offici', 0.12919816411649435), ('northwest', 0.25938056038129054), ('lanka', 0.28990961686399602), ('grain', 0.17681768348762117), ('get', 0.17864323144310021), ('food', 0.19180791059392985), ('dlr', 0.07577322163167613), ('depart', 0.2598461854020358), ('deliveri', 0.19985042501795655), ('continent', 0.23399108426021364), ('april', 0.11823953078647291), ('approv', 0.25016065647562885), ('agricultur', 0.15447419352301806)]\n",
      "[('year', 0.057683138947552011), ('western', 0.24424744200697729), ('ventur', 0.14909224268567259), ('unit', 0.087642695346280677), ('treatment', 0.19568116439184169), ('tonn', 0.10335791661250532), ('territori', 0.20314462731516753), ('statement', 0.11024051950879137), ('said', 0.087196022824487907), ('river', 0.17432964834603087), ('project', 0.13207739128973445), ('product', 0.088441072609281704), ('produc', 0.10429444837689389), ('plant', 0.12902748624090885), ('pct', 0.10650736678019522), ('own', 0.11891399613350163), ('ounc', 0.16432123031267726), ('ore', 0.17134274076411393), ('open', 0.11854523541898612), ('northern', 0.15555165150231429), ('new', 0.14204773512760882), ('mln', 0.05261504616728184), ('mine', 0.36913749332439816), ('ltd', 0.10017820271557161), ('locat', 0.16863541160249193), ('local', 0.14706001722018633), ('known', 0.16968815760395289), ('joint', 0.14089649504736926), ('hold', 0.10626362547464654), ('grace', 0.21322717426129642), ('gold', 0.29284215142277353), ('first', 0.093835595636228508), ('expect', 0.084201709982518233), ('establish', 0.15522455960832263), ('east', 0.15156318194273369), ('dlr', 0.055125255471576179), ('cost', 0.11058636979502784), ('corp', 0.072029691000826082), ('convent', 0.20489954792282264), ('capac', 0.14962340115918918), ('australia', 0.15243603172692491), ('annual', 0.11107760891066651)]\n",
      "[('yen', 0.051227294295965974), ('year', 0.046478113192853637), ('within', 0.050487974186605819), ('will', 0.065785942607308454), ('wide', 0.064549765439264509), ('whether', 0.050543131317140284), ('weak', 0.060644280483593979), ('wave', 0.080153949211996478), ('want', 0.081698908479881413), ('wall', 0.0669327465505688), ('wait', 0.062426350982810873), ('view', 0.056183716481779528), ('version', 0.07866986275462573), ('variou', 0.06226643255485461), ('univers', 0.11957704346822917), ('u.s.', 0.07031591782978143), ('two', 0.065714750080081194), ('trust', 0.054020437782474257), ('trillion', 0.083893548416618891), ('told', 0.035486739008728799), ('tokyo', 0.057973777016560958), ('time', 0.084536730850285458), ('three', 0.075326700615234027), ('thing', 0.062920394050444695), ('take', 0.039936211845186101), ('swiss', 0.065785942607308454), ('sumitomo', 0.30356769221909641), ('subsidiari', 0.10378995591907152), ('strengthen', 0.064746480999239783), ('strategi', 0.10770998792994617), ('statu', 0.071318988094117977), ('soon', 0.05521665994406634), ('smaller', 0.064356471193458664), ('small', 0.092928162832083896), ('simon', 0.08283425783095931), ('similar', 0.097092689939770563), ('share', 0.047830048302249635), ('separ', 0.06050790896908876), ('see', 0.040914887975166868), ('secur', 0.12761702959850038), ('said', 0.059153093586061745), ('sach', 0.07370976586585537), ('rout', 0.075130523724580969), ('right', 0.049950954802941747), ('reuter', 0.044410716030971381), ('result', 0.037413661861467232), ('reserv', 0.042116924491582435), ('replac', 0.061648821505377566), ('reluct', 0.074636480656947154), ('relat', 0.10825869034249803), ('rel', 0.060373190483364994), ('regul', 0.060644280483593979), ('reduc', 0.042784240080227479), ('recoveri', 0.062588604068688033), ('recent', 0.042273464248288595), ('quickli', 0.11101987617057811), ('quick', 0.075647553644238544), ('question', 0.095127301154504351), ('put', 0.049388740560679642), ('push', 0.10048909728958462), ('profit', 0.071001828218196533), ('problem', 0.049743207838595226), ('presid', 0.041835538854682414), ('possibl', 0.045727737330597769), ('posit', 0.081396606828595328), ('place', 0.10943495312153406), ('personnel', 0.080153949211996478), ('pct', 0.050685593913137129), ('pay', 0.078948048202153759), ('partnership', 0.05985007562570073), ('parent', 0.062108782550008901), ('paid', 0.051345530932264939), ('oversea', 0.061063731734383876), ('other', 0.061352426900644109), ('optimist', 0.066230567456610545), ('opportun', 0.062426350982810873), ('one', 0.030482785824942217), ('octob', 0.054405048443630553), ('occur', 0.062588604068688033), ('next', 0.043262038970829267), ('new', 0.054538313726800104), ('network', 0.11101987617057811), ('need', 0.044668446744938181), ('near', 0.053722053714029841), (\"n't\", 0.05208265000409109), ('much', 0.047854926329112348), ('move', 0.10567479742902371), ('mln', 0.020201208361706267), ('ministri', 0.049950954802941747), ('metropolitan', 0.085064539831866542), ('merger', 0.12614818955886117), ('merg', 0.061352426900644109), ('medium', 0.072060205299837018), ('may', 0.03467532845641115), ('make', 0.038204724913264189), ('made', 0.039872520329954801), ('ltd', 0.080718454824459121), ('lot', 0.062920394050444695), ('lose', 0.064549765439264509), ('look', 0.052669456376986647), ('loan', 0.04576364734242467), ('limit', 0.083706981684638179), ('like', 0.043435700925792027), ('licenc', 0.071318988094117977), ('less', 0.048949002980701976), ('lend', 0.055911519881361282), ('least', 0.051052264867732754), ('last', 0.029591780897729947), ('larg', 0.079678193309746723), ('kind', 0.069352555611755906), (\"japan'\", 0.077360805725488188), ('japan', 0.042091047555581622), ('invest', 0.066362894665875832), ('interview', 0.058302297653098682), ('initi', 0.083963011118439054), ('individu', 0.068767465840762224), ('increas', 0.03362568765559186), ('includ', 0.032285834245469547), ('hope', 0.05128625538380447), ('home', 0.05609224157040605), ('hold', 0.069079109914202338), ('hard', 0.061800036613396822), ('hand', 0.060644280483593979), ('grant', 0.060240085431481849), ('govern', 0.03751593993594099), ('goldman', 0.075130523724580969), ('gear', 0.077360805725488188), ('futur', 0.044410716030971381), ('follow', 0.043034631774134094), ('focu', 0.069970166661232958), ('five', 0.037916964140126672), ('first', 0.036027573047555807), ('find', 0.056748963999805287), ('financi', 0.087585495148441411), ('financ', 0.042950539526870064), ('feder', 0.042326137991392135), ('fed', 0.053795902085340741), ('expect', 0.067845416858428459), ('expand', 0.11433993973640401), ('exchang', 0.062177301986641953), ('european', 0.046584527213702813), ('estim', 0.040216505666279795), ('enter', 0.11641457479739452), ('effici', 0.074636480656947154), ('effect', 0.04143856312012948), ('domest', 0.076592581153887687), ('dlr', 0.035835438182730238), ('divid', 0.075130523724580969), ('disappear', 0.079387152848860956), ('despit', 0.052940546377215632), ('deregul', 0.12200853343398989), ('demand', 0.046129276991706554), ('del', 0.07866986275462573), ('decis', 0.083122787933452319), ('decad', 0.072854410157730254), ('debt', 0.045549907312960387), ('deal', 0.047512925837688), ('creat', 0.09871437089151075), ('cost', 0.042458924983006775), ('confid', 0.059723055511824281), ('competit', 0.051227294295965974), ('compar', 0.039456990101957939), ('commerci', 0.089636136835885685), ('co.', 0.065150676051351913), ('citi', 0.058755998974111094), ('chang', 0.07091945543644107), ('chanc', 0.05997856421272349), ('certain', 0.051585846002648122), ('centuri', 0.077360805725488188), ('case', 0.097441179030549829), ('busi', 0.13111269555981378), ('branch', 0.1145960925728044), ('bond', 0.05786639319576347), ('board', 0.038939033270245157), ('billion', 0.032189976199474064), ('big', 0.062426350982810873), ('bank', 0.12273977173438415), ('back', 0.049339012786483095), ('august', 0.057760036987096669), ('articl', 0.07866986275462573), ('around', 0.072816385472198028), ('argu', 0.068211643075467093), ('area', 0.047597444412230752), ('analyst', 0.12951689213429732), ('among', 0.051585846002648122), ('american', 0.043821544231433772), ('also', 0.051797547077247548), ('allow', 0.047555104783915461), ('aim', 0.054020437782474257), ('agre', 0.067119839872328363), ('aggress', 0.068211643075467093), ('act', 0.094666432247948185), ('absorb', 0.073273861408520158)]\n"
     ]
    }
   ],
   "source": [
    "main()"
   ]
  },
  {
   "cell_type": "code",
   "execution_count": null,
   "metadata": {
    "collapsed": true
   },
   "outputs": [],
   "source": []
  }
 ],
 "metadata": {
  "kernelspec": {
   "display_name": "Python 3",
   "language": "python",
   "name": "python3"
  },
  "language_info": {
   "codemirror_mode": {
    "name": "ipython",
    "version": 3
   },
   "file_extension": ".py",
   "mimetype": "text/x-python",
   "name": "python",
   "nbconvert_exporter": "python",
   "pygments_lexer": "ipython3",
   "version": "3.5.1"
  }
 },
 "nbformat": 4,
 "nbformat_minor": 0
}
