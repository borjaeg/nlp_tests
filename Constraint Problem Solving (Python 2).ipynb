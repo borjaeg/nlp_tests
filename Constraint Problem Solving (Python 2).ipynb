{
 "metadata": {
  "name": "",
  "signature": "sha256:9b44acf5772d1b57530fbbc94a4090a18c0e6419ead746428e32f13dd024cf56"
 },
 "nbformat": 3,
 "nbformat_minor": 0,
 "worksheets": [
  {
   "cells": [
    {
     "cell_type": "code",
     "collapsed": false,
     "input": [
      "from constraint import *"
     ],
     "language": "python",
     "metadata": {},
     "outputs": [],
     "prompt_number": 1
    },
    {
     "cell_type": "code",
     "collapsed": false,
     "input": [
      "problem = Problem()\n",
      "problem.addVariable(\"a\", [1,2,3])\n",
      "problem.addVariable(\"b\", [4,5,6])\n",
      "# No constraints\n",
      "problem.getSolutions()"
     ],
     "language": "python",
     "metadata": {},
     "outputs": [
      {
       "metadata": {},
       "output_type": "pyout",
       "prompt_number": 3,
       "text": [
        "[{'a': 3, 'b': 6},\n",
        " {'a': 3, 'b': 5},\n",
        " {'a': 3, 'b': 4},\n",
        " {'a': 2, 'b': 6},\n",
        " {'a': 2, 'b': 5},\n",
        " {'a': 2, 'b': 4},\n",
        " {'a': 1, 'b': 6},\n",
        " {'a': 1, 'b': 5},\n",
        " {'a': 1, 'b': 4}]"
       ]
      }
     ],
     "prompt_number": 3
    },
    {
     "cell_type": "code",
     "collapsed": false,
     "input": [
      "problem.addConstraint(lambda a, b: a*2 == b, (\"a\", \"b\"))\n",
      "problem.getSolution()"
     ],
     "language": "python",
     "metadata": {},
     "outputs": [
      {
       "metadata": {},
       "output_type": "pyout",
       "prompt_number": 5,
       "text": [
        "{'a': 3, 'b': 6}"
       ]
      }
     ],
     "prompt_number": 5
    },
    {
     "cell_type": "code",
     "collapsed": false,
     "input": [
      "problem = Problem()\n",
      "problem.addVariables([\"a\", \"b\"], [1,2,3])\n",
      "problem.addConstraint(AllDifferentConstraint())"
     ],
     "language": "python",
     "metadata": {},
     "outputs": []
    }
   ],
   "metadata": {}
  }
 ]
}